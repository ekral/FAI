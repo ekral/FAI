{
 "cells": [
  {
   "cell_type": "markdown",
   "metadata": {},
   "source": [
    "# 05 Pole\n",
    "\n",
    "Pro zvládnutí předmětu potřebujete vědět jak definovat pole, inicializovat ho, přistupovat k jeho prvkům, vytvářet kopii pole a porovnávat hodnoty v poli."
   ]
  },
  {
   "cell_type": "markdown",
   "metadata": {},
   "source": [
    "Typ pole vytvoříme tak, že za typ prvků v poli přidáme `[]`, například pole celých čísel `int` zapíšeme jako `int[]`. Následující příkaz definuje proměnnou typu pole `int[]` a protože pole je referenční typ, tak mu můžeme přiřadit hodnotu `null` což znamená že, nemá ještě přiřazené žádné hodnoty.\n"
   ]
  },
  {
   "cell_type": "code",
   "execution_count": null,
   "metadata": {
    "dotnet_interactive": {
     "language": "csharp"
    },
    "polyglot_notebook": {
     "kernelName": "csharp"
    },
    "vscode": {
     "languageId": "polyglot-notebook"
    }
   },
   "outputs": [],
   "source": [
    "int[] pole = null;"
   ]
  },
  {
   "cell_type": "markdown",
   "metadata": {},
   "source": [
    "Paměť pro vlastní hodnoty prvků potom alokujeme pomocí příkazu`new int[3]` kdy hodnota `3` je počet prvků. Proměnná pole potom představuje referenci na zásobníku na data alokované na haldě (pojmy zásobník a halda probereme v přednášce [Zasobnik_halda_reference](https://github.com/ekral/FAI/tree/master/PA/Zasobnik_halda_reference)."
   ]
  },
  {
   "cell_type": "code",
   "execution_count": 1,
   "metadata": {
    "dotnet_interactive": {
     "language": "csharp"
    },
    "polyglot_notebook": {
     "kernelName": "csharp"
    },
    "vscode": {
     "languageId": "polyglot-notebook"
    }
   },
   "outputs": [],
   "source": [
    "pole = new int[3];"
   ]
  },
  {
   "cell_type": "markdown",
   "metadata": {},
   "source": [
    "Oba příkazy můžeme sloučit do jednoho zápisu:"
   ]
  },
  {
   "cell_type": "code",
   "execution_count": 2,
   "metadata": {
    "dotnet_interactive": {
     "language": "csharp"
    },
    "polyglot_notebook": {
     "kernelName": "csharp"
    },
    "vscode": {
     "languageId": "polyglot-notebook"
    }
   },
   "outputs": [],
   "source": [
    "int[] pole = new int[3];"
   ]
  },
  {
   "cell_type": "markdown",
   "metadata": {},
   "source": [
    "a hodnoty můžeme inicializovat pole pomocí zápisu  `{ 1, 2, 3 }`."
   ]
  },
  {
   "cell_type": "code",
   "execution_count": 3,
   "metadata": {
    "dotnet_interactive": {
     "language": "csharp"
    },
    "polyglot_notebook": {
     "kernelName": "csharp"
    },
    "vscode": {
     "languageId": "polyglot-notebook"
    }
   },
   "outputs": [],
   "source": [
    "int[] pole = new int[3] { 1, 2, 3 };"
   ]
  },
  {
   "cell_type": "markdown",
   "metadata": {},
   "source": [
    "Předchozí zápis můžeme různým způsobem zkrátit. Všechny následující zápisy mají stejný výsledek:"
   ]
  },
  {
   "cell_type": "code",
   "execution_count": 4,
   "metadata": {
    "dotnet_interactive": {
     "language": "csharp"
    },
    "polyglot_notebook": {
     "kernelName": "csharp"
    },
    "vscode": {
     "languageId": "polyglot-notebook"
    }
   },
   "outputs": [],
   "source": [
    "int[] pole1 = new int[3] { 1, 2, 3 };\n",
    "int[] pole2 = new int[] { 1, 2, 3 };\n",
    "int[] pole3 = new [] { 1, 2, 3 };\n",
    "int[] pole4 = { 1, 2, 3 };"
   ]
  },
  {
   "cell_type": "markdown",
   "metadata": {},
   "source": [
    "Hodnoty prvků poli můžeme vypsat na konzoli s využitím příkazu `string.Join`:"
   ]
  },
  {
   "cell_type": "code",
   "execution_count": 5,
   "metadata": {
    "dotnet_interactive": {
     "language": "csharp"
    },
    "polyglot_notebook": {
     "kernelName": "csharp"
    },
    "vscode": {
     "languageId": "polyglot-notebook"
    }
   },
   "outputs": [
    {
     "name": "stdout",
     "output_type": "stream",
     "text": [
      "1,2,3\r\n"
     ]
    }
   ],
   "source": [
    "Console.WriteLine(string.Join(\",\", pole));"
   ]
  },
  {
   "cell_type": "markdown",
   "metadata": {},
   "source": [
    "K jednotlivým prvků poli přistupujeme pomocí hranatých závorek `[]`, kdy index začíná od nuly:"
   ]
  },
  {
   "cell_type": "code",
   "execution_count": 6,
   "metadata": {
    "dotnet_interactive": {
     "language": "csharp"
    },
    "polyglot_notebook": {
     "kernelName": "csharp"
    },
    "vscode": {
     "languageId": "polyglot-notebook"
    }
   },
   "outputs": [
    {
     "name": "stdout",
     "output_type": "stream",
     "text": [
      "1\n",
      "2\n",
      "3\n"
     ]
    }
   ],
   "source": [
    "int[] pole = new int[3] { 1, 2, 3 };\n",
    "Console.WriteLine(pole[0]); // prvni prvek\n",
    "Console.WriteLine(pole[1]); // druhy prvek\n",
    "Console.WriteLine(pole[2]); // treti prvek"
   ]
  },
  {
   "cell_type": "markdown",
   "metadata": {},
   "source": [
    "Delku pole zjistíme pomocí property `pole.Length`. Následující příkaz nastaví hodnoty pole na 0,1,2:"
   ]
  },
  {
   "cell_type": "code",
   "execution_count": 7,
   "metadata": {
    "dotnet_interactive": {
     "language": "csharp"
    },
    "polyglot_notebook": {
     "kernelName": "csharp"
    },
    "vscode": {
     "languageId": "polyglot-notebook"
    }
   },
   "outputs": [],
   "source": [
    "int[] pole = new int[3];\n",
    "for (int i = 0; i < pole.Length; i++)\n",
    "{\n",
    "    pole[i] = i;\n",
    "}"
   ]
  },
  {
   "cell_type": "markdown",
   "metadata": {},
   "source": [
    "Pokud přiřadíme hodnotu pole jinému poli tak předáme referenci na stejné prvky v poli. V následujícím příkazu tedy pole1 i pole2 mají referenci na stejná data:"
   ]
  },
  {
   "cell_type": "code",
   "execution_count": 8,
   "metadata": {
    "dotnet_interactive": {
     "language": "csharp"
    },
    "polyglot_notebook": {
     "kernelName": "csharp"
    },
    "vscode": {
     "languageId": "polyglot-notebook"
    }
   },
   "outputs": [
    {
     "name": "stdout",
     "output_type": "stream",
     "text": [
      "1,0,3\n",
      "1,0,3\n"
     ]
    }
   ],
   "source": [
    "int[] pole1 = new int[3] { 1, 2, 3 };\n",
    "int[] pole2 = pole1;\n",
    "pole2[1] = 0;\n",
    "// pole1 i pole2 budou mit vzdy stejne hodnoty\n",
    "Console.WriteLine(string.Join(\",\", pole1));\n",
    "Console.WriteLine(string.Join(\",\", pole2));"
   ]
  },
  {
   "cell_type": "markdown",
   "metadata": {},
   "source": [
    "Pokud chceme vytvorit nezavisle kopie, tak mame nekolik moznosti:"
   ]
  },
  {
   "cell_type": "code",
   "execution_count": 9,
   "metadata": {
    "dotnet_interactive": {
     "language": "csharp"
    },
    "polyglot_notebook": {
     "kernelName": "csharp"
    },
    "vscode": {
     "languageId": "polyglot-notebook"
    }
   },
   "outputs": [
    {
     "name": "stdout",
     "output_type": "stream",
     "text": [
      "1,0,3\n",
      "1,2,3\n",
      "1,2,3\n",
      "1,2,3\n"
     ]
    }
   ],
   "source": [
    "int[] original = new int[3] { 1, 2, 3 };\n",
    "\n",
    "int[] kopie1 = original.ToArray(); // vyzaduje using System.Linq\n",
    "\n",
    "int[] kopie2 = new int[original.Length];\n",
    "original.CopyTo(kopie2, 0);\n",
    "\n",
    "int[] kopie3 = new int[original.Length];\n",
    "Array.Copy(original, kopie3, original.Length);\n",
    "\n",
    "original[1] = 0;\n",
    "// vsechny kopie maji sva data a jsou nezavisle na originalnim poli\n",
    "\n",
    "Console.WriteLine(string.Join(\",\", original));\n",
    "Console.WriteLine(string.Join(\",\", kopie1));\n",
    "Console.WriteLine(string.Join(\",\", kopie2));\n",
    "Console.WriteLine(string.Join(\",\", kopie3));"
   ]
  },
  {
   "cell_type": "markdown",
   "metadata": {},
   "source": [
    "---\n",
    "## Příklady k procvičování"
   ]
  },
  {
   "cell_type": "markdown",
   "metadata": {},
   "source": [
    "### Zadání: 1: Suma prvků v poli"
   ]
  },
  {
   "cell_type": "code",
   "execution_count": 19,
   "metadata": {
    "dotnet_interactive": {
     "language": "csharp"
    },
    "polyglot_notebook": {
     "kernelName": "csharp"
    },
    "vscode": {
     "languageId": "polyglot-notebook"
    }
   },
   "outputs": [
    {
     "name": "stdout",
     "output_type": "stream",
     "text": [
      "5,7,1,2,3\r\n"
     ]
    }
   ],
   "source": [
    "int[] pole = { 5, 7, 1, 2, 3 };\n",
    "Console.WriteLine(string.Join(\",\", pole));\n",
    "\n",
    "// pomocí cyklu for spočítejte a vypište sumu prvků v poli\n",
    "\n",
    "// alternativně použijte LINQ metodu"
   ]
  },
  {
   "cell_type": "markdown",
   "metadata": {},
   "source": [
    "### Zadání: 2: Opačené pořadí prvků v poli"
   ]
  },
  {
   "cell_type": "code",
   "execution_count": 18,
   "metadata": {
    "dotnet_interactive": {
     "language": "csharp"
    },
    "polyglot_notebook": {
     "kernelName": "csharp"
    },
    "vscode": {
     "languageId": "polyglot-notebook"
    }
   },
   "outputs": [
    {
     "name": "stdout",
     "output_type": "stream",
     "text": [
      "1,2,7,5,6,3,8\r\n"
     ]
    }
   ],
   "source": [
    "int[] pole = { 1, 2, 7, 5, 6, 3, 8 };\n",
    "Console.WriteLine(string.Join(\",\", pole));\n",
    "\n",
    "// pomoci cyklu for zmente poradi prvku pole aby byly pozpatku\n",
    "// prvky budou v poradi 8,3,6,5,7,2,1"
   ]
  },
  {
   "cell_type": "markdown",
   "metadata": {},
   "source": [
    "---\n",
    "## Řešení příkladů k procvičování"
   ]
  },
  {
   "cell_type": "markdown",
   "metadata": {},
   "source": [
    "### Řešení: 1: Suma prvků v poli"
   ]
  },
  {
   "cell_type": "code",
   "execution_count": 16,
   "metadata": {
    "dotnet_interactive": {
     "language": "csharp"
    },
    "polyglot_notebook": {
     "kernelName": "csharp"
    },
    "vscode": {
     "languageId": "polyglot-notebook"
    }
   },
   "outputs": [
    {
     "name": "stdout",
     "output_type": "stream",
     "text": [
      "5\n",
      "7\n",
      "1\n",
      "2\n",
      "3\n",
      "soucet prvku v poli je 18\n"
     ]
    }
   ],
   "source": [
    "int[] pole = { 5, 7, 1, 2, 3 };\n",
    "\n",
    "// pomocí cyklu forspočítejte a vypište sumu prvků v poli\n",
    "\n",
    "int suma = 0;\n",
    "foreach (int prvek in pole)\n",
    "{\n",
    "    Console.WriteLine(prvek);\n",
    "    suma += prvek;\n",
    "}\n",
    "\n",
    "Console.WriteLine($\"soucet prvku v poli je {suma}\");\n",
    "\n",
    "// alternativně použijte LINQ metodu\n",
    "\n",
    "suma = pole.Sum();"
   ]
  },
  {
   "cell_type": "markdown",
   "metadata": {},
   "source": [
    "### Řešení: 2: Opačné pořadí prvků v poli"
   ]
  },
  {
   "cell_type": "code",
   "execution_count": 17,
   "metadata": {
    "dotnet_interactive": {
     "language": "csharp"
    },
    "polyglot_notebook": {
     "kernelName": "csharp"
    },
    "vscode": {
     "languageId": "polyglot-notebook"
    }
   },
   "outputs": [
    {
     "name": "stdout",
     "output_type": "stream",
     "text": [
      "1,2,7,5,6,3,8\n",
      "8,3,6,5,7,2,1\n",
      "1,2,7,5,6,3,8\n"
     ]
    }
   ],
   "source": [
    "int[] pole = { 1, 2, 7, 5, 6, 3, 8 };\n",
    "Console.WriteLine(string.Join(\",\", pole));\n",
    "\n",
    "// pomoci cyklu for zmente poradi prvku pole aby byly pozpatku\n",
    "// prvky budou v poradi 8,3,6,5,7,2,1\n",
    "\n",
    "int prvniIndex = 0;\n",
    "int posledniIndex = pole.Length - 1;\n",
    "int n = pole.Length / 2;\n",
    "\n",
    "for (int i = 0; i < n; i++)\n",
    "{\n",
    "    int tmp = pole[posledniIndex];\n",
    "    pole[posledniIndex] = pole[prvniIndex];\n",
    "    pole[prvniIndex] = tmp;\n",
    "\n",
    "    ++prvniIndex;\n",
    "    --posledniIndex;\n",
    "}\n",
    "\n",
    "Console.WriteLine(string.Join(\",\", pole));\n",
    "\n",
    "for (int i = 0, j = pole.Length - 1; i < pole.Length / 2; i++, j--)\n",
    "{\n",
    "    int tmp = pole[j];\n",
    "    pole[j] = pole[i];\n",
    "    pole[i] = tmp;\n",
    "}\n",
    "\n",
    "Console.WriteLine(string.Join(\",\", pole));\n",
    "\n"
   ]
  }
 ],
 "metadata": {
  "language_info": {
   "name": "csharp"
  }
 },
 "nbformat": 4,
 "nbformat_minor": 2
}
