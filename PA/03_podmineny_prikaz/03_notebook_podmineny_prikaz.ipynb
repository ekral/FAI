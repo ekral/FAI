{
 "cells": [
  {
   "cell_type": "markdown",
   "metadata": {},
   "source": [
    "# 03 Vývojový diagram a podmíněný příkaz\n",
    "\n",
    "Pro zvládnutí předmětu potřebujete znát podmíněné příkazy `if`,  `if-else` a zřetězení podmínek pomocí `else if`. Dále potřebujete vědět jak podmínit provedení jednoho příkazu nebo bloku příkazů pomocí složených závorek `{}`."
   ]
  },
  {
   "cell_type": "markdown",
   "metadata": {},
   "source": [
    "Na následujících příkladech si probereme jednotlivé příkazy. \n",
    "\n",
    "Nejprve si ale definujme jednu proměnnou, číslo s desetinnou čárkou `x`:"
   ]
  },
  {
   "cell_type": "code",
   "execution_count": 1,
   "metadata": {
    "dotnet_interactive": {
     "language": "csharp"
    },
    "polyglot_notebook": {
     "kernelName": "csharp"
    },
    "vscode": {
     "languageId": "polyglot-notebook"
    }
   },
   "outputs": [],
   "source": [
    "double x = 9.0;"
   ]
  },
  {
   "cell_type": "markdown",
   "metadata": {},
   "source": [
    "S pomocí příkazu `if` můžeme podmínit provedení jiného příkazu tím zda je pravivý výraz v podmínce. Výpis na konzoli se provede jen pokud výraz `x > 0` vrátí `true`:"
   ]
  },
  {
   "cell_type": "code",
   "execution_count": 2,
   "metadata": {
    "dotnet_interactive": {
     "language": "csharp"
    },
    "polyglot_notebook": {
     "kernelName": "csharp"
    },
    "vscode": {
     "languageId": "polyglot-notebook"
    }
   },
   "outputs": [
    {
     "name": "stdout",
     "output_type": "stream",
     "text": [
      "x je vetsi nez 0\r\n"
     ]
    }
   ],
   "source": [
    "if(x > 0.0)\n",
    "    Console.WriteLine(\"x je vetsi nez 0\");"
   ]
  },
  {
   "cell_type": "markdown",
   "metadata": {},
   "source": [
    "S použitím příkazu `if-else` můžeme ve větvi else uvést přikaz který se povede pokud je výraz v pomínce `false`."
   ]
  },
  {
   "cell_type": "code",
   "execution_count": 3,
   "metadata": {
    "dotnet_interactive": {
     "language": "csharp"
    },
    "polyglot_notebook": {
     "kernelName": "csharp"
    },
    "vscode": {
     "languageId": "polyglot-notebook"
    }
   },
   "outputs": [
    {
     "name": "stdout",
     "output_type": "stream",
     "text": [
      "x je vetsi nez 0\r\n"
     ]
    }
   ],
   "source": [
    "if(x > 0.0)\n",
    "    Console.WriteLine(\"x je vetsi nez 0\");\n",
    "else\n",
    "    Console.WriteLine(\"x je mensi nebo rovno 0\");"
   ]
  },
  {
   "cell_type": "markdown",
   "metadata": {},
   "source": [
    "Pokud chceme podmínit provedení celého bloku příkazu, tak místo jednoho příkazu můžeme použít celý blok příkazu ve složených závorkách `{}`. Narozdíl od Pythonu zde nezáleží na odsazení příkazů, které je zde jen pro přehlednost. Většinou používáme blok příkazů i pro jeden příkaz, protože pak může být kód v některých případech přehlednější."
   ]
  },
  {
   "cell_type": "code",
   "execution_count": 5,
   "metadata": {
    "dotnet_interactive": {
     "language": "csharp"
    },
    "polyglot_notebook": {
     "kernelName": "csharp"
    },
    "vscode": {
     "languageId": "polyglot-notebook"
    }
   },
   "outputs": [
    {
     "name": "stdout",
     "output_type": "stream",
     "text": [
      "Druha odmocnina x je 3\r\n"
     ]
    }
   ],
   "source": [
    "if (x >= 0.0)\n",
    "{\n",
    "    double odmocnina = Math.Sqrt(x);\n",
    "    Console.WriteLine($\"Druha odmocnina x je {odmocnina}\");\n",
    "}\n",
    "else\n",
    "{\n",
    "    Console.WriteLine(\"x je mensi nez 0\");\n",
    "}"
   ]
  },
  {
   "cell_type": "markdown",
   "metadata": {},
   "source": [
    "Podmínky můžeme dále zřetězci pokud za příkaz `else` uvedeme další `if`. Poslední else se potom vztahuje k posledním příkazu `if`."
   ]
  },
  {
   "cell_type": "code",
   "execution_count": 6,
   "metadata": {
    "dotnet_interactive": {
     "language": "csharp"
    },
    "polyglot_notebook": {
     "kernelName": "csharp"
    },
    "vscode": {
     "languageId": "polyglot-notebook"
    }
   },
   "outputs": [
    {
     "name": "stdout",
     "output_type": "stream",
     "text": [
      "x je vetsi nez 0\r\n"
     ]
    }
   ],
   "source": [
    "if (x > 0.0)\n",
    "{\n",
    "    Console.WriteLine(\"x je vetsi nez 0\");\n",
    "}\n",
    "else if(x == 0.0)\n",
    "{\n",
    "    Console.WriteLine(\"x je rovno 0\");\n",
    "}\n",
    "else\n",
    "{\n",
    "    Console.WriteLine(\"x je mensi nez 0\");\n",
    "}"
   ]
  },
  {
   "cell_type": "markdown",
   "metadata": {},
   "source": [
    "---\n",
    "## Příklady k procvičování"
   ]
  },
  {
   "cell_type": "markdown",
   "metadata": {},
   "source": [
    "### Zadání: 1. Dvě poměnné"
   ]
  },
  {
   "cell_type": "code",
   "execution_count": 7,
   "metadata": {
    "dotnet_interactive": {
     "language": "csharp"
    },
    "polyglot_notebook": {
     "kernelName": "csharp"
    },
    "vscode": {
     "languageId": "polyglot-notebook"
    }
   },
   "outputs": [],
   "source": [
    "// mame dve promenne\n",
    "int x = 2;\n",
    "int y = 5;\n",
    "\n",
    "// vypiste hodnotu vetsi z promennych\n",
    "\n",
    "\n",
    "// seradte hodnoty v promennych tak aby v promenne x bylo vetsi cislo nez v promenne x\n"
   ]
  },
  {
   "cell_type": "markdown",
   "metadata": {},
   "source": [
    "---\n",
    "## Řešení příkladů k procvičování"
   ]
  },
  {
   "cell_type": "markdown",
   "metadata": {},
   "source": [
    "### Řešení: 1. Dvě poměnné"
   ]
  },
  {
   "cell_type": "code",
   "execution_count": 9,
   "metadata": {
    "dotnet_interactive": {
     "language": "csharp"
    },
    "polyglot_notebook": {
     "kernelName": "csharp"
    },
    "vscode": {
     "languageId": "polyglot-notebook"
    }
   },
   "outputs": [
    {
     "name": "stdout",
     "output_type": "stream",
     "text": [
      "5\r\n"
     ]
    }
   ],
   "source": [
    " // mame dve promenne\n",
    "int x = 2;\n",
    "int y = 5;\n",
    "\n",
    "// vypiste hodnotu vetsi z promennych\n",
    "if(x > y)\n",
    "{\n",
    "    Console.WriteLine(x);\n",
    "}\n",
    "else\n",
    "{\n",
    "    Console.WriteLine(y);\n",
    "}\n",
    "\n",
    "// seradte hodnoty v promennych tak aby v promenne x bylo vetsi cislo nez v promenne x\n",
    "if(x < y)\n",
    "{\n",
    "    int tmp = x;\n",
    "    x = y;\n",
    "    y = tmp;\n",
    "}"
   ]
  }
 ],
 "metadata": {
  "language_info": {
   "name": "csharp"
  }
 },
 "nbformat": 4,
 "nbformat_minor": 2
}
