{
 "cells": [
  {
   "cell_type": "markdown",
   "metadata": {},
   "source": [
    "# 2. Relační a logické operátory\n",
    "\n",
    "Pro zvládnutí předmětu musíte znát typ `bool` a znát relační a logické operátory . Nezapomeňte, že opět záleží na prioritě operátorů a pro jistotu používejte kulaté závorky `()`.\n",
    "\n",
    "Na následujících příkladech si probereme relační a logické operátory. "
   ]
  },
  {
   "cell_type": "markdown",
   "metadata": {},
   "source": [
    "Nejprve si ale definujme tři proměnné, celá čísla `x`, `y` a booleanovskou proměnnou `vysledek`:"
   ]
  },
  {
   "cell_type": "code",
   "execution_count": 2,
   "metadata": {
    "vscode": {
     "languageId": "polyglot-notebook"
    }
   },
   "outputs": [],
   "source": [
    "int x = 2;\n",
    "int y = 3;\n",
    "bool vysledek;"
   ]
  },
  {
   "cell_type": "markdown",
   "metadata": {},
   "source": [
    "Měli byste znát následující relační operátory, které vracejí jako výsledek operace typ `bool`:"
   ]
  },
  {
   "cell_type": "code",
   "execution_count": 3,
   "metadata": {
    "dotnet_interactive": {
     "language": "csharp"
    },
    "polyglot_notebook": {
     "kernelName": "csharp"
    },
    "vscode": {
     "languageId": "polyglot-notebook"
    }
   },
   "outputs": [],
   "source": [
    "vysledek = x == y;  // rovnost\n",
    "vysledek = x != y;  // nerovnost\n",
    "vysledek = x < y;   // mensi nez\n",
    "vysledek = x > y;   // vetsi nez\n",
    "vysledek = x <= y;  // nensi nebo rovno\n",
    "vysledek = x >= y;  // vetsi nebo rovno"
   ]
  },
  {
   "cell_type": "markdown",
   "metadata": {},
   "source": [
    "Dále byste měli znát logické operace and `&&` , or `||` a negace `!`"
   ]
  },
  {
   "cell_type": "code",
   "execution_count": 4,
   "metadata": {
    "dotnet_interactive": {
     "language": "csharp"
    },
    "polyglot_notebook": {
     "kernelName": "csharp"
    },
    "vscode": {
     "languageId": "polyglot-notebook"
    }
   },
   "outputs": [],
   "source": [
    "vysledek = (x < y) && (y == 3); // pravda pokud je x menší než y a zárověň y je rovno 3\n",
    "vysledek = (x < y) || (y == 2); // pravda pokud je x menší než y a nebo y je rovno 3\n",
    "vysledek = !(x < y); // operator ! neguje vysledek predchozi operace, vyraz je pravda, pokud je x vetsi nebo rovno y"
   ]
  },
  {
   "cell_type": "markdown",
   "metadata": {},
   "source": [
    "V následujících kódech je uvedený kompletní příklad a řešení příkladů ze cvičení."
   ]
  },
  {
   "cell_type": "code",
   "execution_count": 7,
   "metadata": {
    "dotnet_interactive": {
     "language": "csharp"
    },
    "polyglot_notebook": {
     "kernelName": "csharp"
    },
    "vscode": {
     "languageId": "polyglot-notebook"
    }
   },
   "outputs": [],
   "source": [
    "int x = 2;\n",
    "int y = 3;\n",
    "\n",
    "bool vysledek;\n",
    "\n",
    "vysledek = x == y;  // rovnost\n",
    "vysledek = x != y;  // nerovnost\n",
    "vysledek = x < y;   // mensi nez\n",
    "vysledek = x > y;   // vetsi nez\n",
    "vysledek = x <= y;  // nensi nebo rovno\n",
    "vysledek = x >= y;  // vetsi nebo rovno\n",
    "\n",
    "vysledek = (x < y) && (y == 3); // pravda pokud je x menší než y a zárověň y je rovno 3\n",
    "vysledek = (x < y) || (y == 2); // pravda pokud je x menší než y a nebo y je rovno 3\n",
    "vysledek = !(x < y); // operator !neguje vysledek predchozi operace, vyraz je pravda, pokud je x vetsi nebo rovno y"
   ]
  },
  {
   "cell_type": "markdown",
   "metadata": {},
   "source": [
    "---\n",
    "## Příklady k procvičování"
   ]
  },
  {
   "cell_type": "markdown",
   "metadata": {},
   "source": [
    "### Zadání: 1. Test zda trojúhelník zadaný délkami stran existuje"
   ]
  },
  {
   "cell_type": "code",
   "execution_count": 9,
   "metadata": {
    "dotnet_interactive": {
     "language": "csharp"
    },
    "polyglot_notebook": {
     "kernelName": "csharp"
    },
    "vscode": {
     "languageId": "polyglot-notebook"
    }
   },
   "outputs": [],
   "source": [
    " // Mame trojuhelnik dany delkami trech stran\n",
    "double a = 3.0;\n",
    "double b = 4.0;\n",
    "double c = 5.0;\n",
    "\n",
    "bool vysledek;\n",
    "\n",
    "// Napiste vyraz ktery vrati true, kdyz trojuhelnik existuje, soucet delek dvou libovolnych stran je vzdy vetsi nez delka treti"
   ]
  },
  {
   "cell_type": "markdown",
   "metadata": {},
   "source": [
    "### Zadání: 2. Test zda je trojúhelník pravoúhlý"
   ]
  },
  {
   "cell_type": "code",
   "execution_count": null,
   "metadata": {
    "dotnet_interactive": {
     "language": "csharp"
    },
    "polyglot_notebook": {
     "kernelName": "csharp"
    },
    "vscode": {
     "languageId": "polyglot-notebook"
    }
   },
   "outputs": [],
   "source": [
    " // Mame trojuhelnik dany delkami trech stran\n",
    "double a = 3.0;\n",
    "double b = 4.0;\n",
    "double c = 5.0;\n",
    "\n",
    "bool vysledek;\n",
    "\n",
    "// Napiste vyraz ktery vrati true, kdyz je trojuhelnik pravouhly, musi platit Pythagorova věta"
   ]
  }
 ],
 "metadata": {
  "language_info": {
   "name": "csharp"
  },
  "orig_nbformat": 4
 },
 "nbformat": 4,
 "nbformat_minor": 2
}
