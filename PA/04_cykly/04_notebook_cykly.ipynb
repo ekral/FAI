{
 "cells": [
  {
   "cell_type": "markdown",
   "metadata": {},
   "source": [
    "# 04 Cykly\n",
    "\n",
    "Pro zvládnutí předmětu potřebujete znát příkazy `goto`, `while`,  `do-while` a `for`. A dále ukončení cyklu pomocí `break` a přeskočení zbytku cyklu pomocí `continue`"
   ]
  },
  {
   "cell_type": "markdown",
   "metadata": {},
   "source": [
    "Na následujících příkladech si probereme jednotlivé příkazy. \n",
    "\n",
    "Poznámka: Následující příklady běží v prostředí Polyglot notebook a proto místo příkazu `Console.ReadLine()` používají příkaz `await Kernel.GetInputAsync()`. V konzolové aplikaci tedy použije místo příkazu `await Kernel.GetInputAsync()` příkaz `Console.ReadLine()`."
   ]
  },
  {
   "cell_type": "markdown",
   "metadata": {},
   "source": [
    "S pomocí příkazu `goto` můžeme přeskočit na libovolný řádek. Tento příkaz se používá spíše vyjímečně."
   ]
  },
  {
   "cell_type": "code",
   "execution_count": 1,
   "metadata": {
    "vscode": {
     "languageId": "polyglot-notebook"
    }
   },
   "outputs": [
    {
     "name": "stdout",
     "output_type": "stream",
     "text": [
      "0\n",
      "1\n",
      "2\n",
      "3\n",
      "4\n",
      "5\n",
      "6\n",
      "7\n",
      "8\n",
      "9\n"
     ]
    }
   ],
   "source": [
    "int i = 0;\n",
    "\n",
    "label:\n",
    "    Console.WriteLine(i);\n",
    "    ++i;\n",
    "    if (i < 10) goto label;"
   ]
  },
  {
   "cell_type": "markdown",
   "metadata": {},
   "source": [
    "S použitím příkazu `while` můžeme cyklus zpřehlednit. Cyklus while se používá většinou pokud neznáme předem počet opakování. Když počet opakování známe, tak použijeme spíše příkaz `for`."
   ]
  },
  {
   "cell_type": "code",
   "execution_count": 1,
   "metadata": {
    "dotnet_interactive": {
     "language": "csharp"
    },
    "polyglot_notebook": {
     "kernelName": "csharp"
    },
    "vscode": {
     "languageId": "polyglot-notebook"
    }
   },
   "outputs": [
    {
     "name": "stdout",
     "output_type": "stream",
     "text": [
      "0\n",
      "1\n",
      "2\n",
      "3\n",
      "4\n",
      "5\n",
      "6\n",
      "7\n",
      "8\n",
      "9\n"
     ]
    }
   ],
   "source": [
    "int i = 0;\n",
    "while (i < 10)\n",
    "{\n",
    "    Console.WriteLine(i);\n",
    "    ++i;\n",
    "}"
   ]
  },
  {
   "cell_type": "markdown",
   "metadata": {},
   "source": [
    "Příkaz `do-while` používáme, pokud nevíme předem počet opakování a chceme aby se cyklus provedl alespoň jednou. Příkaz `Console.ReadKey(true).Key` čeká na stisk klávesy a nemusíme přitom zadávate enter."
   ]
  },
  {
   "cell_type": "code",
   "execution_count": 5,
   "metadata": {
    "dotnet_interactive": {
     "language": "csharp"
    },
    "polyglot_notebook": {
     "kernelName": "csharp"
    },
    "vscode": {
     "languageId": "polyglot-notebook"
    }
   },
   "outputs": [
    {
     "name": "stdout",
     "output_type": "stream",
     "text": [
      "napsal jsi: aa\n",
      "napsal jsi: fjdkl\n",
      "napsal jsi: konec\n",
      "Konec programu\n"
     ]
    }
   ],
   "source": [
    "using Microsoft.DotNet.Interactive;\n",
    "\n",
    "bool konec = false;\n",
    "\n",
    "do\n",
    "{\n",
    "    string vstup = await Kernel.GetInputAsync();\n",
    "\n",
    "    Console.WriteLine($\"napsal jsi: {vstup}\");\n",
    "\n",
    "    if (vstup == \"konec\")\n",
    "    {\n",
    "        konec = true;\n",
    "    }\n",
    "\n",
    "\n",
    "} while (!konec);\n",
    "\n",
    "Console.WriteLine(\"Konec programu\");\n"
   ]
  },
  {
   "cell_type": "markdown",
   "metadata": {},
   "source": [
    "Příkaz `for` používáme většinou, pokud předem známe počet opakování."
   ]
  },
  {
   "cell_type": "code",
   "execution_count": 6,
   "metadata": {
    "dotnet_interactive": {
     "language": "csharp"
    },
    "polyglot_notebook": {
     "kernelName": "csharp"
    },
    "vscode": {
     "languageId": "polyglot-notebook"
    }
   },
   "outputs": [
    {
     "name": "stdout",
     "output_type": "stream",
     "text": [
      "0\n",
      "1\n",
      "2\n",
      "3\n",
      "4\n",
      "5\n",
      "6\n",
      "7\n",
      "8\n",
      "9\n"
     ]
    }
   ],
   "source": [
    "for (int i = 0; i < 10; i++)\n",
    "{\n",
    "    Console.WriteLine(i);\n",
    "}"
   ]
  },
  {
   "cell_type": "markdown",
   "metadata": {},
   "source": [
    "Provádění cyklu můžeme ukončit pomocí příkazu `break`. V následujícím příkazu výpis ukončíme po zadání řetězce \"konec\"."
   ]
  },
  {
   "cell_type": "code",
   "execution_count": 7,
   "metadata": {
    "dotnet_interactive": {
     "language": "csharp"
    },
    "polyglot_notebook": {
     "kernelName": "csharp"
    },
    "vscode": {
     "languageId": "polyglot-notebook"
    }
   },
   "outputs": [
    {
     "name": "stdout",
     "output_type": "stream",
     "text": [
      "Zadej řetězec konec pro ukončení programu.\n",
      "Zadej jakýkoliv jiný řetězec pro nove cislo\n",
      "0\n",
      "1\n",
      "2\n",
      "3\n",
      "4\n",
      "5\n",
      "konec vypisu\n"
     ]
    }
   ],
   "source": [
    "Console.WriteLine(\"Zadej řetězec konec pro ukončení programu.\");\n",
    "Console.WriteLine(\"Zadej jakýkoliv jiný řetězec pro nove cislo\");\n",
    "\n",
    "for (int i = 0; i < 10; i++)\n",
    "{\n",
    "    string vstup = await Kernel.GetInputAsync();\n",
    "\n",
    "    if(vstup == \"konec\")\n",
    "    {\n",
    "        break;\n",
    "    }\n",
    "\n",
    "    Console.WriteLine(i);\n",
    "}\n",
    "\n",
    "Console.WriteLine(\"konec vypisu\");"
   ]
  },
  {
   "cell_type": "markdown",
   "metadata": {},
   "source": [
    "Násleující příkazy ve složeném příkazu cyklu můžeme přeskočit pomocí příkazu `continue`. V následujícím příkazu výpis přeskočíme zadáním řetězce \"preskoc\"."
   ]
  },
  {
   "cell_type": "code",
   "execution_count": 8,
   "metadata": {
    "dotnet_interactive": {
     "language": "csharp"
    },
    "polyglot_notebook": {
     "kernelName": "csharp"
    },
    "vscode": {
     "languageId": "polyglot-notebook"
    }
   },
   "outputs": [
    {
     "name": "stdout",
     "output_type": "stream",
     "text": [
      "Zadej řetězec preskoc pro preskočení výpisu čísla.\n",
      "Zadej jakýkoliv jiný řetězec pro nove cislo\n",
      "0\n",
      "1\n",
      "2\n",
      "4\n"
     ]
    },
    {
     "ename": "Error",
     "evalue": "Input request cancelled",
     "output_type": "error",
     "traceback": [
      "Input request cancelled"
     ]
    },
    {
     "ename": "Error",
     "evalue": "Input request cancelled",
     "output_type": "error",
     "traceback": [
      "Input request cancelled"
     ]
    },
    {
     "ename": "Error",
     "evalue": "System.Exception: Input request cancelled\r\n   at Microsoft.DotNet.Interactive.Kernel.GetInputAsync(String prompt, Boolean isPassword, String typeHint, String valueName) in D:\\a\\_work\\1\\s\\src\\Microsoft.DotNet.Interactive\\Kernel.Static.cs:line 80\r\n   at Microsoft.DotNet.Interactive.Kernel.GetInputAsync(String prompt, String typeHint, String valueName) in D:\\a\\_work\\1\\s\\src\\Microsoft.DotNet.Interactive\\Kernel.Static.cs:line 47\r\n   at Submission#9.<<Initialize>>d__0.MoveNext()\r\n--- End of stack trace from previous location ---\r\n   at Microsoft.CodeAnalysis.Scripting.ScriptExecutionState.RunSubmissionsAsync[TResult](ImmutableArray`1 precedingExecutors, Func`2 currentExecutor, StrongBox`1 exceptionHolderOpt, Func`2 catchExceptionOpt, CancellationToken cancellationToken)",
     "output_type": "error",
     "traceback": [
      "System.Exception: Input request cancelled\r\n",
      "   at Microsoft.DotNet.Interactive.Kernel.GetInputAsync(String prompt, Boolean isPassword, String typeHint, String valueName) in D:\\a\\_work\\1\\s\\src\\Microsoft.DotNet.Interactive\\Kernel.Static.cs:line 80\r\n",
      "   at Microsoft.DotNet.Interactive.Kernel.GetInputAsync(String prompt, String typeHint, String valueName) in D:\\a\\_work\\1\\s\\src\\Microsoft.DotNet.Interactive\\Kernel.Static.cs:line 47\r\n",
      "   at Submission#9.<<Initialize>>d__0.MoveNext()\r\n",
      "--- End of stack trace from previous location ---\r\n",
      "   at Microsoft.CodeAnalysis.Scripting.ScriptExecutionState.RunSubmissionsAsync[TResult](ImmutableArray`1 precedingExecutors, Func`2 currentExecutor, StrongBox`1 exceptionHolderOpt, Func`2 catchExceptionOpt, CancellationToken cancellationToken)"
     ]
    }
   ],
   "source": [
    "Console.WriteLine(\"Zadej řetězec preskoc pro preskočení výpisu čísla.\");\n",
    "Console.WriteLine(\"Zadej jakýkoliv jiný řetězec pro nove cislo\");\n",
    "\n",
    "for (int i = 0; i < 10; i++)\n",
    "{\n",
    "    string vstup = await Kernel.GetInputAsync();\n",
    "\n",
    "    if(vstup == \"preskoc\")\n",
    "    {\n",
    "        continue;\n",
    "    }\n",
    "\n",
    "    Console.WriteLine(i);\n",
    "}\n",
    "\n",
    "Console.WriteLine(\"konec vypisu\");"
   ]
  },
  {
   "cell_type": "markdown",
   "metadata": {},
   "source": [
    "---\n",
    "## Příklady k procvičování"
   ]
  },
  {
   "cell_type": "markdown",
   "metadata": {},
   "source": [
    "### Zadání: 1: Příkaz while"
   ]
  },
  {
   "cell_type": "code",
   "execution_count": 11,
   "metadata": {
    "dotnet_interactive": {
     "language": "csharp"
    },
    "polyglot_notebook": {
     "kernelName": "csharp"
    },
    "vscode": {
     "languageId": "polyglot-notebook"
    }
   },
   "outputs": [],
   "source": [
    "// s pomoci cyklu while vypiste na konzoli:\n",
    "\n",
    "// cisla 1,2,3,4,5,6,7,8,9\n",
    "\n",
    "// cisla 10,9,8,7,6,5,4,3,2,1\n",
    "\n",
    "// cisla 10,20,30,40,50,60,70,80,90,100\n",
    "\n",
    "// cisla 10,100,1000,10000,100000\n",
    "\n",
    "// cisla 256,128,64,32,16,8,4,2,1"
   ]
  },
  {
   "cell_type": "markdown",
   "metadata": {},
   "source": [
    "### Zadání: 2: Příkaz for"
   ]
  },
  {
   "cell_type": "code",
   "execution_count": 29,
   "metadata": {
    "dotnet_interactive": {
     "language": "csharp"
    },
    "polyglot_notebook": {
     "kernelName": "csharp"
    },
    "vscode": {
     "languageId": "polyglot-notebook"
    }
   },
   "outputs": [],
   "source": [
    "// s pomoci cyklu forvypiste na konzoli:\n",
    "\n",
    "// cisla 1,2,3,4,5,6,7,8,9\n",
    "\n",
    "// cisla 10,9,8,7,6,5,4,3,2,1\n",
    "\n",
    "// cisla 10,20,30,40,50,60,70,80,90,100\n",
    "\n",
    "// cisla 10,100,1000,10000,100000\n",
    "\n",
    "// cisla 256,128,64,32,16,8,4,2,1"
   ]
  },
  {
   "cell_type": "markdown",
   "metadata": {},
   "source": [
    "### Zadání: 3: Faktorial"
   ]
  },
  {
   "cell_type": "code",
   "execution_count": 31,
   "metadata": {
    "dotnet_interactive": {
     "language": "csharp"
    },
    "polyglot_notebook": {
     "kernelName": "csharp"
    },
    "vscode": {
     "languageId": "polyglot-notebook"
    }
   },
   "outputs": [],
   "source": [
    "// Spocitejte faktorial cisla n\n",
    "// n!\n",
    "int n = 6;"
   ]
  },
  {
   "cell_type": "markdown",
   "metadata": {},
   "source": [
    "### Zadání: 4: Modulo"
   ]
  },
  {
   "cell_type": "code",
   "execution_count": null,
   "metadata": {
    "dotnet_interactive": {
     "language": "csharp"
    },
    "polyglot_notebook": {
     "kernelName": "csharp"
    },
    "vscode": {
     "languageId": "polyglot-notebook"
    }
   },
   "outputs": [],
   "source": [
    "int x = 77;\n",
    "\n",
    "int zbytek = x % 5; // modulo, zbytek po celociselnem deleni\n",
    "\n",
    "if(zbytek == 0)\n",
    "{\n",
    "    Console.WriteLine(\"cislo je delitelne 5\");\n",
    "}\n",
    "\n",
    "// S pomocí operátoru modulo vypiste cisla od 0 do 100 delitelna 5 nebo 3\n",
    "// 0, 3, 5, 6, 9, 10 .... 100\n",
    "\n"
   ]
  },
  {
   "cell_type": "markdown",
   "metadata": {},
   "source": [
    "---\n",
    "## Řešení příkladů k procvičování"
   ]
  },
  {
   "cell_type": "markdown",
   "metadata": {},
   "source": [
    "### Řešení: 1: Příkaz while"
   ]
  },
  {
   "cell_type": "code",
   "execution_count": 28,
   "metadata": {
    "dotnet_interactive": {
     "language": "csharp"
    },
    "polyglot_notebook": {
     "kernelName": "csharp"
    },
    "vscode": {
     "languageId": "polyglot-notebook"
    }
   },
   "outputs": [
    {
     "name": "stdout",
     "output_type": "stream",
     "text": [
      "1\n",
      "2\n",
      "3\n",
      "4\n",
      "5\n",
      "6\n",
      "7\n",
      "8\n",
      "9\n",
      "10\n",
      "9\n",
      "8\n",
      "7\n",
      "6\n",
      "5\n",
      "4\n",
      "3\n",
      "2\n",
      "1\n",
      "10\n",
      "20\n",
      "30\n",
      "40\n",
      "50\n",
      "60\n",
      "70\n",
      "80\n",
      "90\n",
      "100\n",
      "10\n",
      "100\n",
      "1000\n",
      "10000\n",
      "256\n",
      "128\n",
      "64\n",
      "32\n",
      "16\n",
      "8\n",
      "4\n",
      "2\n",
      "1\n"
     ]
    }
   ],
   "source": [
    "// s pomoci cyklu while vypiste na konzoli:\n",
    "int i;\n",
    "\n",
    "// cisla 1,2,3,4,5,6,7,8,9\n",
    "\n",
    "i = 1;\n",
    "while (i < 10) \n",
    "{\n",
    "    Console.WriteLine(i);\n",
    "    i++;\n",
    "}\n",
    "\n",
    "// cisla 10,9,8,7,6,5,4,3,2,1\n",
    "\n",
    "i = 10;\n",
    "while (i > 0) \n",
    "{\n",
    "    Console.WriteLine(i);\n",
    "    i--;\n",
    "}\n",
    "\n",
    "// cisla 10,20,30,40,50,60,70,80,90,100\n",
    "\n",
    "i = 10;\n",
    "while (i <= 100) \n",
    "{\n",
    "    Console.WriteLine(i);\n",
    "    i += 10;\n",
    "}\n",
    "\n",
    "// cisla 10,100,1000,10000,100000\n",
    "\n",
    "i = 10;\n",
    "while (i <= 10000) \n",
    "{\n",
    "    Console.WriteLine(i);\n",
    "    i *= 10;\n",
    "}\n",
    "\n",
    "// cisla 256,128,64,32,16,8,4,2,1\n",
    "\n",
    "i = 256;\n",
    "while (i > 0) \n",
    "{\n",
    "    Console.WriteLine(i);\n",
    "    i /= 2;\n",
    "}"
   ]
  },
  {
   "cell_type": "markdown",
   "metadata": {},
   "source": [
    "### Řešení: 2: Příkaz for"
   ]
  },
  {
   "cell_type": "code",
   "execution_count": 30,
   "metadata": {
    "dotnet_interactive": {
     "language": "csharp"
    },
    "polyglot_notebook": {
     "kernelName": "csharp"
    },
    "vscode": {
     "languageId": "polyglot-notebook"
    }
   },
   "outputs": [
    {
     "name": "stdout",
     "output_type": "stream",
     "text": [
      "1\n",
      "2\n",
      "3\n",
      "4\n",
      "5\n",
      "6\n",
      "7\n",
      "8\n",
      "9\n",
      "10\n",
      "9\n",
      "8\n",
      "7\n",
      "6\n",
      "5\n",
      "4\n",
      "3\n",
      "2\n",
      "1\n",
      "10\n",
      "20\n",
      "30\n",
      "40\n",
      "50\n",
      "60\n",
      "70\n",
      "80\n",
      "90\n",
      "100\n",
      "10\n",
      "100\n",
      "1000\n",
      "10000\n",
      "100000\n",
      "256\n",
      "128\n",
      "64\n",
      "32\n",
      "16\n",
      "8\n",
      "4\n",
      "2\n",
      "1\n"
     ]
    }
   ],
   "source": [
    "// s pomoci cyklu for vypiste na konzoli \n",
    "// cisla 1,2,3,4,5,6,7,8,9\n",
    "for (int i = 1; i < 10; i++)\n",
    "{\n",
    "    Console.WriteLine(i);\n",
    "}\n",
    "\n",
    "// cisla 10,9,8,7,6,5,4,3,2,1\n",
    "for (int i = 10; i > 0; i--)\n",
    "{\n",
    "    Console.WriteLine(i);\n",
    "}\n",
    "\n",
    "// cisla 10,20,30,40,50,60,70,80,90,100\n",
    "for (int i = 10; i <= 100; i = i + 10)\n",
    "{\n",
    "    Console.WriteLine(i);\n",
    "}\n",
    "\n",
    "// cisla 10,100,1000,10000,100000\n",
    "for (int i = 10; i <= 100000; i = i * 10)\n",
    "{\n",
    "    Console.WriteLine(i);\n",
    "}\n",
    "\n",
    "// cisla 256,128,64,32,16,8,4,2,1\n",
    "for (int i = 256; i >= 1; i = i / 2)\n",
    "{\n",
    "    Console.WriteLine(i);\n",
    "}\n"
   ]
  },
  {
   "cell_type": "markdown",
   "metadata": {},
   "source": [
    "### Řešení 3: Faktorial"
   ]
  },
  {
   "cell_type": "code",
   "execution_count": 32,
   "metadata": {
    "dotnet_interactive": {
     "language": "csharp"
    },
    "polyglot_notebook": {
     "kernelName": "csharp"
    },
    "vscode": {
     "languageId": "polyglot-notebook"
    }
   },
   "outputs": [
    {
     "name": "stdout",
     "output_type": "stream",
     "text": [
      "720\r\n"
     ]
    }
   ],
   "source": [
    "// Spocitejte faktorial cisla n\n",
    "// n!\n",
    "int n = 6;\n",
    "\n",
    "\n",
    "int f = n--;\n",
    "for (; n > 1; n--)\n",
    "{\n",
    "    f = f * n;\n",
    "}\n",
    "\n",
    "Console.WriteLine(f);\n"
   ]
  },
  {
   "cell_type": "markdown",
   "metadata": {},
   "source": [
    "### Řešení 4: Modulo"
   ]
  },
  {
   "cell_type": "code",
   "execution_count": 34,
   "metadata": {
    "dotnet_interactive": {
     "language": "csharp"
    },
    "polyglot_notebook": {
     "kernelName": "csharp"
    },
    "vscode": {
     "languageId": "polyglot-notebook"
    }
   },
   "outputs": [
    {
     "name": "stdout",
     "output_type": "stream",
     "text": [
      "0\n",
      "3\n",
      "5\n",
      "6\n",
      "9\n",
      "10\n",
      "12\n",
      "15\n",
      "18\n",
      "20\n",
      "21\n",
      "24\n",
      "25\n",
      "27\n",
      "30\n",
      "33\n",
      "35\n",
      "36\n",
      "39\n",
      "40\n",
      "42\n",
      "45\n",
      "48\n",
      "50\n",
      "51\n",
      "54\n",
      "55\n",
      "57\n",
      "60\n",
      "63\n",
      "65\n",
      "66\n",
      "69\n",
      "70\n",
      "72\n",
      "75\n",
      "78\n",
      "80\n",
      "81\n",
      "84\n",
      "85\n",
      "87\n",
      "90\n",
      "93\n",
      "95\n",
      "96\n",
      "99\n"
     ]
    }
   ],
   "source": [
    "int x = 77;\n",
    "\n",
    "int zbytek = x % 5; // modulo, zbytek po celociselnem deleni\n",
    "\n",
    "if(zbytek == 0)\n",
    "{\n",
    "    Console.WriteLine(\"cislo je delitelne 5\");\n",
    "}\n",
    "\n",
    "// S pomocí operátoru modulo vypiste cisla od 0 do 100 delitelna 5 nebo 3\n",
    "// 0, 3, 5, 6, 9, 10 .... 100\n",
    "\n",
    "for (int i = 0; i < 100; i++)\n",
    "{\n",
    "    if((i % 5 == 0) || (i % 3 == 0))\n",
    "    {\n",
    "        Console.WriteLine(i);\n",
    "    }\n",
    "}"
   ]
  }
 ],
 "metadata": {
  "language_info": {
   "name": "csharp"
  }
 },
 "nbformat": 4,
 "nbformat_minor": 2
}
