{
 "cells": [
  {
   "cell_type": "markdown",
   "metadata": {},
   "source": [
    "# 04 Cykly\n",
    "\n",
    "Pro zvládnutí předmětu potřebujete znát příkazy `goto`, `while`,  `do-while` a `for`. A dále ukončení cyklu pomocí `break` a přeskočení zbytku cyklu pomocí `continue`"
   ]
  },
  {
   "cell_type": "markdown",
   "metadata": {},
   "source": [
    "Na následujících příkladech si probereme jednotlivé příkazy. \n",
    "\n",
    "Poznámka: Následující příklady běží v prostředí Polyglot notebook a proto místo příkazu `Console.ReadLine()` používají příkaz `await Kernel.GetInputAsync()`. V konzolové aplikaci tedy použije místo příkazu `await Kernel.GetInputAsync()` příkaz `Console.ReadLine()`."
   ]
  },
  {
   "cell_type": "markdown",
   "metadata": {},
   "source": [
    "S pomocí příkazu `goto` můžeme přeskočit na libovolný řádek. Tento příkaz se používá spíše vyjímečně."
   ]
  },
  {
   "cell_type": "code",
   "execution_count": 1,
   "metadata": {
    "vscode": {
     "languageId": "polyglot-notebook"
    }
   },
   "outputs": [
    {
     "name": "stdout",
     "output_type": "stream",
     "text": [
      "0\n",
      "1\n",
      "2\n",
      "3\n",
      "4\n",
      "5\n",
      "6\n",
      "7\n",
      "8\n",
      "9\n"
     ]
    }
   ],
   "source": [
    "int i = 0;\n",
    "\n",
    "label:\n",
    "    Console.WriteLine(i);\n",
    "    ++i;\n",
    "    if (i < 10) goto label;"
   ]
  },
  {
   "cell_type": "markdown",
   "metadata": {},
   "source": [
    "S použitím příkazu `while` můžeme cyklus zpřehlednit. Cyklus while se používá většinou pokud neznáme předem počet opakování. Když počet opakování známe, tak použijeme spíše příkaz `for`."
   ]
  },
  {
   "cell_type": "code",
   "execution_count": 1,
   "metadata": {
    "dotnet_interactive": {
     "language": "csharp"
    },
    "polyglot_notebook": {
     "kernelName": "csharp"
    },
    "vscode": {
     "languageId": "polyglot-notebook"
    }
   },
   "outputs": [
    {
     "name": "stdout",
     "output_type": "stream",
     "text": [
      "0\n",
      "1\n",
      "2\n",
      "3\n",
      "4\n",
      "5\n",
      "6\n",
      "7\n",
      "8\n",
      "9\n"
     ]
    }
   ],
   "source": [
    "int i = 0;\n",
    "while (i < 10)\n",
    "{\n",
    "    Console.WriteLine(i);\n",
    "    ++i;\n",
    "}"
   ]
  },
  {
   "cell_type": "markdown",
   "metadata": {},
   "source": [
    "Příkaz `do-while` používáme, pokud nevíme předem počet opakování a chceme aby se cyklus provedl alespoň jednou. Příkaz `Console.ReadKey(true).Key` čeká na stisk klávesy a nemusíme přitom zadávate enter."
   ]
  },
  {
   "cell_type": "code",
   "execution_count": 5,
   "metadata": {
    "dotnet_interactive": {
     "language": "csharp"
    },
    "polyglot_notebook": {
     "kernelName": "csharp"
    },
    "vscode": {
     "languageId": "polyglot-notebook"
    }
   },
   "outputs": [
    {
     "name": "stdout",
     "output_type": "stream",
     "text": [
      "napsal jsi: aa\n",
      "napsal jsi: fjdkl\n",
      "napsal jsi: konec\n",
      "Konec programu\n"
     ]
    }
   ],
   "source": [
    "using Microsoft.DotNet.Interactive;\n",
    "\n",
    "bool konec = false;\n",
    "\n",
    "do\n",
    "{\n",
    "    string vstup = await Kernel.GetInputAsync();\n",
    "\n",
    "    Console.WriteLine($\"napsal jsi: {vstup}\");\n",
    "\n",
    "    if (vstup == \"konec\")\n",
    "    {\n",
    "        konec = true;\n",
    "    }\n",
    "\n",
    "\n",
    "} while (!konec);\n",
    "\n",
    "Console.WriteLine(\"Konec programu\");\n"
   ]
  },
  {
   "cell_type": "markdown",
   "metadata": {},
   "source": [
    "Příkaz `for` používáme většinou, pokud předem známe počet opakování."
   ]
  },
  {
   "cell_type": "code",
   "execution_count": 6,
   "metadata": {
    "dotnet_interactive": {
     "language": "csharp"
    },
    "polyglot_notebook": {
     "kernelName": "csharp"
    },
    "vscode": {
     "languageId": "polyglot-notebook"
    }
   },
   "outputs": [
    {
     "name": "stdout",
     "output_type": "stream",
     "text": [
      "0\n",
      "1\n",
      "2\n",
      "3\n",
      "4\n",
      "5\n",
      "6\n",
      "7\n",
      "8\n",
      "9\n"
     ]
    }
   ],
   "source": [
    "for (int i = 0; i < 10; i++)\n",
    "{\n",
    "    Console.WriteLine(i);\n",
    "}"
   ]
  },
  {
   "cell_type": "markdown",
   "metadata": {},
   "source": [
    "Provádění cyklu můžeme ukončit pomocí příkazu `break`. V následujícím příkazu výpis ukončíme po zadání řetězce \"konec\"."
   ]
  },
  {
   "cell_type": "code",
   "execution_count": 7,
   "metadata": {
    "dotnet_interactive": {
     "language": "csharp"
    },
    "polyglot_notebook": {
     "kernelName": "csharp"
    },
    "vscode": {
     "languageId": "polyglot-notebook"
    }
   },
   "outputs": [
    {
     "name": "stdout",
     "output_type": "stream",
     "text": [
      "Zadej řetězec konec pro ukončení programu.\n",
      "Zadej jakýkoliv jiný řetězec pro nove cislo\n",
      "0\n",
      "1\n",
      "2\n",
      "3\n",
      "4\n",
      "5\n",
      "konec vypisu\n"
     ]
    }
   ],
   "source": [
    "Console.WriteLine(\"Zadej řetězec konec pro ukončení programu.\");\n",
    "Console.WriteLine(\"Zadej jakýkoliv jiný řetězec pro nove cislo\");\n",
    "\n",
    "for (int i = 0; i < 10; i++)\n",
    "{\n",
    "    string vstup = await Kernel.GetInputAsync();\n",
    "\n",
    "    if(vstup == \"konec\")\n",
    "    {\n",
    "        break;\n",
    "    }\n",
    "\n",
    "    Console.WriteLine(i);\n",
    "}\n",
    "\n",
    "Console.WriteLine(\"konec vypisu\");"
   ]
  },
  {
   "cell_type": "markdown",
   "metadata": {},
   "source": [
    "Násleující příkazy ve složeném příkazu cyklu můžeme přeskočit pomocí příkazu `continue`. V následujícím příkazu výpis přeskočíme zadáním řetězce \"preskoc\"."
   ]
  },
  {
   "cell_type": "code",
   "execution_count": 8,
   "metadata": {
    "dotnet_interactive": {
     "language": "csharp"
    },
    "polyglot_notebook": {
     "kernelName": "csharp"
    },
    "vscode": {
     "languageId": "polyglot-notebook"
    }
   },
   "outputs": [
    {
     "name": "stdout",
     "output_type": "stream",
     "text": [
      "Zadej řetězec preskoc pro preskočení výpisu čísla.\n",
      "Zadej jakýkoliv jiný řetězec pro nove cislo\n",
      "0\n",
      "1\n",
      "2\n",
      "4\n"
     ]
    },
    {
     "ename": "Error",
     "evalue": "Input request cancelled",
     "output_type": "error",
     "traceback": [
      "Input request cancelled"
     ]
    },
    {
     "ename": "Error",
     "evalue": "Input request cancelled",
     "output_type": "error",
     "traceback": [
      "Input request cancelled"
     ]
    },
    {
     "ename": "Error",
     "evalue": "System.Exception: Input request cancelled\r\n   at Microsoft.DotNet.Interactive.Kernel.GetInputAsync(String prompt, Boolean isPassword, String typeHint, String valueName) in D:\\a\\_work\\1\\s\\src\\Microsoft.DotNet.Interactive\\Kernel.Static.cs:line 80\r\n   at Microsoft.DotNet.Interactive.Kernel.GetInputAsync(String prompt, String typeHint, String valueName) in D:\\a\\_work\\1\\s\\src\\Microsoft.DotNet.Interactive\\Kernel.Static.cs:line 47\r\n   at Submission#9.<<Initialize>>d__0.MoveNext()\r\n--- End of stack trace from previous location ---\r\n   at Microsoft.CodeAnalysis.Scripting.ScriptExecutionState.RunSubmissionsAsync[TResult](ImmutableArray`1 precedingExecutors, Func`2 currentExecutor, StrongBox`1 exceptionHolderOpt, Func`2 catchExceptionOpt, CancellationToken cancellationToken)",
     "output_type": "error",
     "traceback": [
      "System.Exception: Input request cancelled\r\n",
      "   at Microsoft.DotNet.Interactive.Kernel.GetInputAsync(String prompt, Boolean isPassword, String typeHint, String valueName) in D:\\a\\_work\\1\\s\\src\\Microsoft.DotNet.Interactive\\Kernel.Static.cs:line 80\r\n",
      "   at Microsoft.DotNet.Interactive.Kernel.GetInputAsync(String prompt, String typeHint, String valueName) in D:\\a\\_work\\1\\s\\src\\Microsoft.DotNet.Interactive\\Kernel.Static.cs:line 47\r\n",
      "   at Submission#9.<<Initialize>>d__0.MoveNext()\r\n",
      "--- End of stack trace from previous location ---\r\n",
      "   at Microsoft.CodeAnalysis.Scripting.ScriptExecutionState.RunSubmissionsAsync[TResult](ImmutableArray`1 precedingExecutors, Func`2 currentExecutor, StrongBox`1 exceptionHolderOpt, Func`2 catchExceptionOpt, CancellationToken cancellationToken)"
     ]
    }
   ],
   "source": [
    "Console.WriteLine(\"Zadej řetězec preskoc pro preskočení výpisu čísla.\");\n",
    "Console.WriteLine(\"Zadej jakýkoliv jiný řetězec pro nove cislo\");\n",
    "\n",
    "for (int i = 0; i < 10; i++)\n",
    "{\n",
    "    string vstup = await Kernel.GetInputAsync();\n",
    "\n",
    "    if(vstup == \"preskoc\")\n",
    "    {\n",
    "        continue;\n",
    "    }\n",
    "\n",
    "    Console.WriteLine(i);\n",
    "}\n",
    "\n",
    "Console.WriteLine(\"konec vypisu\");"
   ]
  }
 ],
 "metadata": {
  "language_info": {
   "name": "csharp"
  }
 },
 "nbformat": 4,
 "nbformat_minor": 2
}
