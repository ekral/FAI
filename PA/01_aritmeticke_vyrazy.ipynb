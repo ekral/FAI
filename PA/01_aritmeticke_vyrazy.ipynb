{
 "cells": [
  {
   "cell_type": "markdown",
   "metadata": {},
   "source": [
    "# 1. Aritmetické výrazy"
   ]
  },
  {
   "cell_type": "markdown",
   "metadata": {},
   "source": [
    "Pro zvládnutí předmětu potřebujete znát minimálně dva aritmetické datové typy a umět definovat proměnné těchto typů. Nezapomeňte, že záleží i na velkých a malých písmenech a proměnná `Math.Pow` musí být napsaná správně včetně velkých a malých písmen.\n",
    "\n",
    "Základní aritmetické datové typy:\n",
    "\n",
    "- `double y = 0;` představuje desetiné číslo se znaménkem. \n",
    "- `int x = 0;` představuje celé číslo se znaménkem.\n",
    "\n",
    "Dále byste měli znát následující operace, které si postupně probereme na příkladech. "
   ]
  },
  {
   "cell_type": "markdown",
   "metadata": {},
   "source": [
    "Nejprve si definujme tři proměnné `x`, `y` a `z`:"
   ]
  },
  {
   "cell_type": "code",
   "execution_count": 2,
   "metadata": {
    "vscode": {
     "languageId": "polyglot-notebook"
    }
   },
   "outputs": [],
   "source": [
    "double x = 2.0;\n",
    "double y = 3.0;\n",
    "double z = 0.0;"
   ]
  },
  {
   "cell_type": "markdown",
   "metadata": {},
   "source": [
    "V následujícím kódu jsou uvedeny atematické operátory součet, rozdíl, součin, podíl, záporná hodnota, druhá mocnina. Pro druhou mocninu používáme zápis `x * x` protože protože je to rychlejší a jednoduší než použití metody *Math.Pow*."
   ]
  },
  {
   "cell_type": "code",
   "execution_count": 3,
   "metadata": {
    "dotnet_interactive": {
     "language": "csharp"
    },
    "polyglot_notebook": {
     "kernelName": "csharp"
    },
    "vscode": {
     "languageId": "polyglot-notebook"
    }
   },
   "outputs": [],
   "source": [
    "z = x + y;  // soucet\n",
    "z = x - y;  // rozdil\n",
    "z = x * y;  // soucin\n",
    "z = x / y;  // podil\n",
    "z = -x;     // zaporna hodnota\n",
    "z = x * x;  // druha mocnina"
   ]
  },
  {
   "cell_type": "markdown",
   "metadata": {},
   "source": [
    "Další matematické operace ze najdeme jako statické prvky třídy *Math*. V následujícím kódu jsou uvedeny příklady mocniny a odmocniny."
   ]
  },
  {
   "cell_type": "code",
   "execution_count": 4,
   "metadata": {
    "dotnet_interactive": {
     "language": "csharp"
    },
    "polyglot_notebook": {
     "kernelName": "csharp"
    },
    "vscode": {
     "languageId": "polyglot-notebook"
    }
   },
   "outputs": [],
   "source": [
    "z = Math.Pow(x, 100.0); // mocnina x^100\n",
    "z = Math.Sqrt(9.0); // druha odmocnina"
   ]
  },
  {
   "cell_type": "markdown",
   "metadata": {},
   "source": [
    "Použití konstanty PI ze třídy *Math*."
   ]
  },
  {
   "cell_type": "code",
   "execution_count": 5,
   "metadata": {
    "dotnet_interactive": {
     "language": "csharp"
    },
    "polyglot_notebook": {
     "kernelName": "csharp"
    },
    "vscode": {
     "languageId": "polyglot-notebook"
    }
   },
   "outputs": [],
   "source": [
    "z = 2 * Math.PI * x; // konstanta PI"
   ]
  },
  {
   "cell_type": "markdown",
   "metadata": {},
   "source": [
    "Určování priorit operátorů pomocí kulatých závorek ()."
   ]
  },
  {
   "cell_type": "code",
   "execution_count": 6,
   "metadata": {
    "dotnet_interactive": {
     "language": "csharp"
    },
    "polyglot_notebook": {
     "kernelName": "csharp"
    },
    "vscode": {
     "languageId": "polyglot-notebook"
    }
   },
   "outputs": [],
   "source": [
    "z = x * (y + 3.0); // kulate zavorky urcuji prioritu "
   ]
  },
  {
   "cell_type": "markdown",
   "metadata": {},
   "source": [
    "A nakonec jsou níže uvedeny příklady změny hodnot proměnné samotné."
   ]
  },
  {
   "cell_type": "code",
   "execution_count": 7,
   "metadata": {
    "dotnet_interactive": {
     "language": "csharp"
    },
    "polyglot_notebook": {
     "kernelName": "csharp"
    },
    "vscode": {
     "languageId": "polyglot-notebook"
    }
   },
   "outputs": [],
   "source": [
    "z = z + 2.0; // zvyseni o hodnotu\n",
    "z = z - 2.0; // snizeni o hodnotu\n",
    "++z; // zvyseni o 1\n",
    "--z; // snizeni o 1"
   ]
  },
  {
   "cell_type": "markdown",
   "metadata": {},
   "source": [
    "Pro typ `int` je zápis předchozích operací stejný, jen používáme celočíselné numerické konstanty. Největší rozdíl je ale v tom, že metody *Math.Pow* a *Math.Sqrt* pracují s typem `double` takže výsledek musíme explicitně přetypovat s pomocí zápisu `(int)`. Samotné argumenty těchto metod jsou ale typu `double` a typ `int` lze na typ `double` převést implicitně (nemusíme do kódu nic psát)."
   ]
  },
  {
   "cell_type": "code",
   "execution_count": null,
   "metadata": {
    "dotnet_interactive": {
     "language": "csharp"
    },
    "polyglot_notebook": {
     "kernelName": "csharp"
    },
    "vscode": {
     "languageId": "polyglot-notebook"
    }
   },
   "outputs": [],
   "source": [
    "int a = 2;\n",
    "int b = 3;\n",
    "b = (int)Math.Pow(a, 100.0); // mocnina x^100\n",
    "b = (int)Math.Sqrt(9.0); // druha odmocnina\n",
    "a = a + 2; // zvyseni o hodnotu\n",
    "a = a - 2; // snizeni o hodnotu"
   ]
  },
  {
   "cell_type": "markdown",
   "metadata": {},
   "source": [
    "V následujícím kódu jsou shrnuté všechny předchozí operátory a funkce."
   ]
  },
  {
   "cell_type": "code",
   "execution_count": 18,
   "metadata": {
    "dotnet_interactive": {
     "language": "csharp"
    },
    "polyglot_notebook": {
     "kernelName": "csharp"
    },
    "vscode": {
     "languageId": "polyglot-notebook"
    }
   },
   "outputs": [],
   "source": [
    "double x = 2.0;\n",
    "double y = 3.0;\n",
    "double z = 0.0;\n",
    "\n",
    "// Matematicke operatory\n",
    "z = x + y; // soucet\n",
    "z = x - y; // rozdil\n",
    "z = x * y; // soucin\n",
    "z = x / y; // podil\n",
    "z = -x; // zaporna hodnota\n",
    "z = x * x; // druha mocnina\n",
    "\n",
    "// Matematicke operace ze tridy Math\n",
    "z = Math.Pow(x, 100.0); // mocnina x^100\n",
    "z = Math.Sqrt(9.0); // druha odmocnina\n",
    "\n",
    "// Konstanta PI\n",
    "z = 2 * Math.PI * x; // konstanta PI\n",
    "// Priorita operatoru\n",
    "z = x * (y + 3.0); // kulate zavorky urcuji prioritu \n",
    "\n",
    "// Zmena hodnoty promenne\n",
    "z = z + 2.0; // zvyseni o hodnotu\n",
    "z = z - 2.0; // snizeni o hodnotu\n",
    "++z; // zvyseni o 1\n",
    "--z; // snizeni o 1\n",
    "\n",
    "// Operace pro int\n",
    "int a = 2;\n",
    "int b = 3;\n",
    "b = (int)Math.Pow(a, 100.0); // mocnina x^100\n",
    "b = (int)Math.Sqrt(9.0); // druha odmocnina\n",
    "a = a + 2; // zvyseni o hodnotu\n",
    "a = a - 2; // snizeni o hodnotu"
   ]
  },
  {
   "cell_type": "markdown",
   "metadata": {},
   "source": [
    "---\n",
    "Příklady k procvičování"
   ]
  },
  {
   "cell_type": "markdown",
   "metadata": {},
   "source": [
    "Zadání: 1. Obsah a obvod čtverce"
   ]
  },
  {
   "cell_type": "code",
   "execution_count": 25,
   "metadata": {
    "dotnet_interactive": {
     "language": "csharp"
    },
    "polyglot_notebook": {
     "kernelName": "csharp"
    },
    "vscode": {
     "languageId": "polyglot-notebook"
    }
   },
   "outputs": [
    {
     "name": "stdout",
     "output_type": "stream",
     "text": [
      "Delka strany je 3\r\n"
     ]
    }
   ],
   "source": [
    "// Ctverec je definovany delkou strany n\n",
    "// Spocitejte a vypiste jeho obvod a obsah\n",
    "\n",
    "double n = 3.0;\n",
    "Console.WriteLine($\"Delka strany je {n}\");"
   ]
  },
  {
   "cell_type": "markdown",
   "metadata": {},
   "source": [
    "Zadání: 2. Obsah a obvod kruhu"
   ]
  },
  {
   "cell_type": "code",
   "execution_count": 29,
   "metadata": {
    "dotnet_interactive": {
     "language": "csharp"
    },
    "polyglot_notebook": {
     "kernelName": "csharp"
    },
    "vscode": {
     "languageId": "polyglot-notebook"
    }
   },
   "outputs": [
    {
     "name": "stdout",
     "output_type": "stream",
     "text": [
      "Polomer kruhu je 3\n",
      "Hodnota Pi je 3.141592653589793\n"
     ]
    }
   ],
   "source": [
    "// Kruh je definovany polomerem r\n",
    "// spocitejte a vypiste obvod a obsah kruh\n",
    "\n",
    "double r = 3.0;\n",
    "Console.WriteLine($\"Polomer kruhu je {r}\");\n",
    "Console.WriteLine($\"Hodnota Pi je {Math.PI}\");"
   ]
  },
  {
   "cell_type": "markdown",
   "metadata": {},
   "source": [
    "Zadání: 3. Obsah a obvod trojúhelníka"
   ]
  },
  {
   "cell_type": "code",
   "execution_count": 31,
   "metadata": {
    "dotnet_interactive": {
     "language": "csharp"
    },
    "polyglot_notebook": {
     "kernelName": "csharp"
    },
    "vscode": {
     "languageId": "polyglot-notebook"
    }
   },
   "outputs": [
    {
     "name": "stdout",
     "output_type": "stream",
     "text": [
      "Delka strany trojuhelnika je 3, 4 a 5\r\n"
     ]
    }
   ],
   "source": [
    "// Trojuhelnik je definovany delkami stran a,b,c.\n",
    "// spocitejte a vypiste obvod a obsah trojuhelniku dle heronova vzorce https://cs.wikipedia.org/wiki/Heron%C5%AFv_vzorec\n",
    "\n",
    "double a = 3.0;\n",
    "double b = 4.0;\n",
    "double c = 5.0;\n",
    "\n",
    "Console.WriteLine($\"Delka strany trojuhelnika je {a}, {b} a {c}\");"
   ]
  },
  {
   "cell_type": "markdown",
   "metadata": {},
   "source": [
    "Zadání: 4. Výpočet BMI"
   ]
  },
  {
   "cell_type": "code",
   "execution_count": 37,
   "metadata": {
    "dotnet_interactive": {
     "language": "csharp"
    },
    "polyglot_notebook": {
     "kernelName": "csharp"
    },
    "vscode": {
     "languageId": "polyglot-notebook"
    }
   },
   "outputs": [
    {
     "name": "stdout",
     "output_type": "stream",
     "text": [
      "hmotnost 85kg a vyska 1.78m\r\n"
     ]
    }
   ],
   "source": [
    "// Vypoctete a vypiste BMI dle vzorce https://cs.wikipedia.org/wiki/Index_t%C4%9Blesn%C3%A9_hmotnosti\n",
    "\n",
    "double hmotnost = 85;\n",
    "double vyska = 1.78;\n",
    "\n",
    "Console.WriteLine($\"hmotnost {hmotnost}kg a vyska {vyska}m\");"
   ]
  },
  {
   "cell_type": "markdown",
   "metadata": {},
   "source": [
    "Zadání: 5. Výpočet splátky úroku"
   ]
  },
  {
   "cell_type": "code",
   "execution_count": null,
   "metadata": {
    "dotnet_interactive": {
     "language": "csharp"
    },
    "polyglot_notebook": {
     "kernelName": "csharp"
    },
    "vscode": {
     "languageId": "polyglot-notebook"
    }
   },
   "outputs": [],
   "source": [
    "// Vypoctete a vypiste splatky uroku dle vzorce http://www.aristoteles.cz/matematika/financni_matematika/hypoteka-vypocet.php\n",
    "\n",
    "int pocetLetSplaceni = 20;\n",
    "double rocniUrokProcenta = 2;\n",
    "double D = 1000000; // dluh"
   ]
  },
  {
   "cell_type": "markdown",
   "metadata": {},
   "source": [
    "---\n",
    "Řešení předchozích příkladů."
   ]
  },
  {
   "cell_type": "markdown",
   "metadata": {},
   "source": [
    "Ŕešení: 1. Obsah a obvod čtverce"
   ]
  },
  {
   "cell_type": "code",
   "execution_count": 33,
   "metadata": {
    "dotnet_interactive": {
     "language": "csharp"
    },
    "polyglot_notebook": {
     "kernelName": "csharp"
    },
    "vscode": {
     "languageId": "polyglot-notebook"
    }
   },
   "outputs": [
    {
     "name": "stdout",
     "output_type": "stream",
     "text": [
      "Delka strany je 3\n",
      "Obvod je 12\n",
      "Obsah je 9\n"
     ]
    }
   ],
   "source": [
    "// Ctverec je definovany delkou strany n\n",
    "// Spocitejte a vypiste jeho obvod a obsah\n",
    "\n",
    "double n = 3.0;\n",
    "\n",
    "Console.WriteLine($\"Delka strany je {n}\");\n",
    "\n",
    "double obvod = 4 * n;\n",
    "\n",
    "Console.WriteLine($\"Obvod je {obvod}\");\n",
    "\n",
    "double obsah = n * n;\n",
    "\n",
    "Console.WriteLine($\"Obsah je {obsah}\");"
   ]
  },
  {
   "cell_type": "markdown",
   "metadata": {},
   "source": [
    "Ŕešení: 2. Obsah a obvod kruhu"
   ]
  },
  {
   "cell_type": "code",
   "execution_count": 34,
   "metadata": {
    "dotnet_interactive": {
     "language": "csharp"
    },
    "polyglot_notebook": {
     "kernelName": "csharp"
    },
    "vscode": {
     "languageId": "polyglot-notebook"
    }
   },
   "outputs": [
    {
     "name": "stdout",
     "output_type": "stream",
     "text": [
      "Polomer kruhu je 3\n",
      "Hodnota Pi je 3.141592653589793\n",
      "Obvod je 18.84955592153876\n",
      "Obsah je 28.274333882308138\n"
     ]
    }
   ],
   "source": [
    "// Kruh je definovany polomerem r\n",
    "// spocitejte a vypiste obvod a obsah kruh\n",
    "\n",
    "double r = 3.0;\n",
    "\n",
    "Console.WriteLine($\"Polomer kruhu je {r}\");\n",
    "Console.WriteLine($\"Hodnota Pi je {Math.PI}\");\n",
    "\n",
    "double obvod = 2 * Math.PI * r;\n",
    "\n",
    "Console.WriteLine($\"Obvod je {obvod}\");\n",
    "\n",
    "double obsah = Math.PI * r * r;\n",
    "\n",
    "Console.WriteLine($\"Obsah je {obsah}\");"
   ]
  },
  {
   "cell_type": "markdown",
   "metadata": {},
   "source": [
    "Ŕešení: 3. Obsah a obvod trojúhelníka"
   ]
  },
  {
   "cell_type": "code",
   "execution_count": 35,
   "metadata": {
    "dotnet_interactive": {
     "language": "csharp"
    },
    "polyglot_notebook": {
     "kernelName": "csharp"
    },
    "vscode": {
     "languageId": "polyglot-notebook"
    }
   },
   "outputs": [
    {
     "name": "stdout",
     "output_type": "stream",
     "text": [
      "Delka strany trojuhelnika je 3, 4 a 5\n",
      "Obvod je 12\n",
      "Obsah je 6\n"
     ]
    }
   ],
   "source": [
    "// Trojuhelnik je definovany delkami stran a,b,c.\n",
    "// spocitejte a vypiste obvod a obsah trojuhelniku dle heronova vzorce https://cs.wikipedia.org/wiki/Heron%C5%AFv_vzorec\n",
    "\n",
    "double a = 3.0;\n",
    "double b = 4.0;\n",
    "double c = 5.0;\n",
    "\n",
    "Console.WriteLine($\"Delka strany trojuhelnika je {a}, {b} a {c}\");\n",
    "\n",
    "double obvod = a + b + c;\n",
    "\n",
    "Console.WriteLine($\"Obvod je {obvod}\");\n",
    "\n",
    "double s = (a + b + c) / 2;\n",
    "double obsah = Math.Sqrt(s * (s - a) * (s - b) * (s -c));\n",
    "\n",
    "Console.WriteLine($\"Obsah je {obsah}\");"
   ]
  },
  {
   "cell_type": "markdown",
   "metadata": {},
   "source": [
    "Ŕešení: 4. Výpočet BMI"
   ]
  },
  {
   "cell_type": "code",
   "execution_count": 15,
   "metadata": {
    "dotnet_interactive": {
     "language": "csharp"
    },
    "polyglot_notebook": {
     "kernelName": "csharp"
    },
    "vscode": {
     "languageId": "polyglot-notebook"
    }
   },
   "outputs": [
    {
     "name": "stdout",
     "output_type": "stream",
     "text": [
      "hmotnost 85kg a vyska 1.78m\n",
      "bmi je 26.82742078020452\n"
     ]
    }
   ],
   "source": [
    "// Vypoctete a vypiste BMI dle vzorce https://cs.wikipedia.org/wiki/Index_t%C4%9Blesn%C3%A9_hmotnosti\n",
    "\n",
    "double hmotnost = 85;\n",
    "double vyska = 1.78;\n",
    "\n",
    "Console.WriteLine($\"hmotnost {hmotnost}kg a vyska {vyska}m\");\n",
    "\n",
    "\n",
    "\n",
    "double bmi = hmotnost / (vyska * vyska);\n",
    "\n",
    "Console.WriteLine($\"bmi je {bmi}\");"
   ]
  },
  {
   "cell_type": "markdown",
   "metadata": {},
   "source": [
    "Ŕešení: 5. Výpočet splátky úroku"
   ]
  },
  {
   "cell_type": "code",
   "execution_count": 39,
   "metadata": {
    "dotnet_interactive": {
     "language": "csharp"
    },
    "polyglot_notebook": {
     "kernelName": "csharp"
    },
    "vscode": {
     "languageId": "polyglot-notebook"
    }
   },
   "outputs": [
    {
     "name": "stdout",
     "output_type": "stream",
     "text": [
      "Pocet let 20, urok 2% rocne a castka 1000000 Kc\n",
      "Mesicni splatka bude 5058.83 Kc\n"
     ]
    }
   ],
   "source": [
    "// Vypoctete a vypiste splatky uroku dle vzorce http://www.aristoteles.cz/matematika/financni_matematika/hypoteka-vypocet.php\n",
    "\n",
    "int pocetLetSplaceni = 20;\n",
    "double rocniUrokProcenta = 2;\n",
    "double D = 1000000; // dluh\n",
    "\n",
    "Console.WriteLine($\"Pocet let {pocetLetSplaceni}, urok {rocniUrokProcenta}% rocne a castka {D} Kc\");\n",
    "\n",
    "int n = pocetLetSplaceni * 12; // pocet mesicu splaceni\n",
    "double i = rocniUrokProcenta / (12 * 100); // desetinne cislo\n",
    "\n",
    "double v = 1 / (1 + i);\n",
    "double splatka = (i * D) / (1 - Math.Pow(v, n));\n",
    "\n",
    "Console.WriteLine($\"Mesicni splatka bude {splatka:F2} Kc\");"
   ]
  }
 ],
 "metadata": {
  "language_info": {
   "name": "csharp"
  },
  "orig_nbformat": 4
 },
 "nbformat": 4,
 "nbformat_minor": 2
}
