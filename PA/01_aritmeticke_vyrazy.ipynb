{
 "cells": [
  {
   "cell_type": "markdown",
   "metadata": {},
   "source": [
    "# 1. Aritmetické výrazy"
   ]
  },
  {
   "cell_type": "markdown",
   "metadata": {},
   "source": [
    "Pro zvládnutí předmětu potřebujete znát minimálně dva aritmetické datové typy a umět definovat proměnné těchto typů. Nezapomeňte, že záleží i na velkých a malých písmenech a proměnná `Math.Pow` musí být napsaná správně včetně velkých a malých písmen.\n",
    "\n",
    "* `double y = 0;` desetiné číslo se znaménkem.\n",
    "* `int x = 0;` celé číslo se znaménkem.\n",
    "\n",
    "Dále byste měli znát následující operace, které si postupně probereme na příkladech. "
   ]
  },
  {
   "cell_type": "markdown",
   "metadata": {},
   "source": [
    "Nejprve si ale definujme tři proměnné `x`, `y` a `z`:"
   ]
  },
  {
   "cell_type": "code",
   "execution_count": 2,
   "metadata": {
    "vscode": {
     "languageId": "polyglot-notebook"
    }
   },
   "outputs": [],
   "source": [
    "double x = 2.0;\n",
    "double y = 3.0;\n",
    "double z = 0.0;"
   ]
  },
  {
   "cell_type": "markdown",
   "metadata": {},
   "source": [
    "Matematické operátory součet, rozdíl, součin, podíl, záporná hodnota, druhá mocnina. Pro druhou mocninu používáme zápis `x * x` protože protože je to rychlejší a jednoduší než použití metody *Math.Pow*."
   ]
  },
  {
   "cell_type": "code",
   "execution_count": 3,
   "metadata": {
    "dotnet_interactive": {
     "language": "csharp"
    },
    "polyglot_notebook": {
     "kernelName": "csharp"
    },
    "vscode": {
     "languageId": "polyglot-notebook"
    }
   },
   "outputs": [],
   "source": [
    "z = x + y;  // soucet\n",
    "z = x - y;  // rozdil\n",
    "z = x * y;  // soucin\n",
    "z = x / y;  // podil\n",
    "z = -x;     // zaporna hodnota\n",
    "z = x * x;  // druha mocnina"
   ]
  }
 ],
 "metadata": {
  "language_info": {
   "name": "csharp"
  },
  "orig_nbformat": 4
 },
 "nbformat": 4,
 "nbformat_minor": 2
}
