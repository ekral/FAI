{
 "cells": [
  {
   "cell_type": "markdown",
   "metadata": {},
   "source": [
    "# 09 Modifikátory přístupu public a private\n",
    "\n",
    "Pro zvládnutí příkladu potřebujete znát modifikátor přístupu `public` a `private` a umět jej používat s fieldy a metodami. "
   ]
  },
  {
   "cell_type": "markdown",
   "metadata": {},
   "source": [
    "Na následujících příkladech si probereme jednotlivé příkazy. "
   ]
  },
  {
   "cell_type": "markdown",
   "metadata": {},
   "source": [
    "Nejprve si definujeme třídu pro kruh, která bude mít `public` field `polomer`:"
   ]
  },
  {
   "cell_type": "code",
   "execution_count": null,
   "metadata": {
    "dotnet_interactive": {
     "language": "csharp"
    },
    "polyglot_notebook": {
     "kernelName": "csharp"
    },
    "vscode": {
     "languageId": "polyglot-notebook"
    }
   },
   "outputs": [],
   "source": [
    "class Kruh\n",
    "{\n",
    "    public double polomer;\n",
    "}"
   ]
  },
  {
   "cell_type": "markdown",
   "metadata": {},
   "source": [
    "Pokud je field nebo metoda `public` tak k ní můžeme přistupovat i v klientském kódu mimo metody třídy nebo struktury ve které je field definovaný."
   ]
  },
  {
   "cell_type": "code",
   "execution_count": 2,
   "metadata": {
    "dotnet_interactive": {
     "language": "csharp"
    },
    "polyglot_notebook": {
     "kernelName": "csharp"
    },
    "vscode": {
     "languageId": "polyglot-notebook"
    }
   },
   "outputs": [
    {
     "name": "stdout",
     "output_type": "stream",
     "text": [
      "10\r\n"
     ]
    }
   ],
   "source": [
    "Kruh kruh = new Kruh();\n",
    "kruh.polomer = 10.0;\n",
    "Console.WriteLine(kruh.polomer);"
   ]
  },
  {
   "cell_type": "markdown",
   "metadata": {},
   "source": [
    "Pokud je field nebo metoda `private` tak k ní nemůžeme přistupovat v klientském kódu mimo metody třídy nebo struktury ve které je field definovaný. Můžeme ale definovat `public` metody a s jejich potom k `private` fieldu přistupovat. V následujícím příkladu má kruh `private` field `polomer` a `public` metody `VratPolomer` a `NastavPolomer`."
   ]
  },
  {
   "cell_type": "code",
   "execution_count": 4,
   "metadata": {
    "dotnet_interactive": {
     "language": "csharp"
    },
    "polyglot_notebook": {
     "kernelName": "csharp"
    },
    "vscode": {
     "languageId": "polyglot-notebook"
    }
   },
   "outputs": [],
   "source": [
    "class Kruh\n",
    "{\n",
    "    private double polomer;\n",
    "\n",
    "    public double VratPolomer()\n",
    "    {\n",
    "        return polomer;\n",
    "    }\n",
    "\n",
    "    public void NastavPolomer(double polomer)\n",
    "    {\n",
    "        this.polomer = polomer;\n",
    "    }\n",
    "}"
   ]
  },
  {
   "cell_type": "markdown",
   "metadata": {},
   "source": [
    "Mimo třídu `Kruh` v klientském kódu potom nemůžeme přistupovat k fieldu `polomer` přímo ale jen pomocí metod `VratPolomer` a `NastavPolomer`."
   ]
  },
  {
   "cell_type": "code",
   "execution_count": 5,
   "metadata": {
    "dotnet_interactive": {
     "language": "csharp"
    },
    "polyglot_notebook": {
     "kernelName": "csharp"
    },
    "vscode": {
     "languageId": "polyglot-notebook"
    }
   },
   "outputs": [
    {
     "name": "stdout",
     "output_type": "stream",
     "text": [
      "10\r\n"
     ]
    }
   ],
   "source": [
    "Kruh kruh = new Kruh();\n",
    "//kruh.polomer = 10.0; // nelze prelozit protoze polomer je private\n",
    "//Console.WriteLine(kruh.polomer); // nelze prelozit protoze polomer je private\n",
    "kruh.NastavPolomer(10);\n",
    "Console.WriteLine(kruh.VratPolomer()); "
   ]
  }
 ],
 "metadata": {
  "language_info": {
   "name": "csharp"
  }
 },
 "nbformat": 4,
 "nbformat_minor": 2
}
