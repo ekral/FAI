{
 "cells": [
  {
   "cell_type": "markdown",
   "metadata": {},
   "source": [
    "# 08 Konstruktory\n",
    "\n",
    "Pro zvládnutí předmětu potřebujete vědět jak definovat konstruktory s parametry ve strukturách. "
   ]
  },
  {
   "cell_type": "markdown",
   "metadata": {},
   "source": [
    "Na následujících příkladech si probereme jednotlivé příkazy. "
   ]
  },
  {
   "cell_type": "markdown",
   "metadata": {},
   "source": [
    "Nejprve si definujeme strukturu pro obelník, který bude mít definované rozměry `a` a `b`:"
   ]
  },
  {
   "cell_type": "code",
   "execution_count": 1,
   "metadata": {
    "dotnet_interactive": {
     "language": "csharp"
    },
    "polyglot_notebook": {
     "kernelName": "csharp"
    },
    "vscode": {
     "languageId": "polyglot-notebook"
    }
   },
   "outputs": [],
   "source": [
    "struct Obdelnik\n",
    "{\n",
    "    public double a;\n",
    "    public double b;\n",
    "}"
   ]
  },
  {
   "cell_type": "markdown",
   "metadata": {},
   "source": [
    "Proměnnou typu `Obdelnik` vytvoříme následující způsobem, před prvním použitím musíme přiřadit všem fieldům hodnoty."
   ]
  },
  {
   "cell_type": "code",
   "execution_count": 2,
   "metadata": {
    "dotnet_interactive": {
     "language": "csharp"
    },
    "polyglot_notebook": {
     "kernelName": "csharp"
    },
    "vscode": {
     "languageId": "polyglot-notebook"
    }
   },
   "outputs": [
    {
     "name": "stdout",
     "output_type": "stream",
     "text": [
      "Obdelnik ma rozmery 2 x 3\r\n"
     ]
    }
   ],
   "source": [
    "Obdelnik o1;\n",
    "o1.a = 2.0;\n",
    "o1.b = 3.0;\n",
    "Console.WriteLine($\"Obdelnik ma rozmery {o1.a} x {o1.b}\");\n",
    "// vypise \"Obdelnik ma rozmery 2 x 3\""
   ]
  },
  {
   "cell_type": "markdown",
   "metadata": {},
   "source": [
    "Pomocí výrazu `new Obdelnik()` můžeme přiřadit fieldům `a` a `b` výchozí hodnoty, tedy v případě typu `double` hodnoty `0`."
   ]
  },
  {
   "cell_type": "code",
   "execution_count": 3,
   "metadata": {
    "dotnet_interactive": {
     "language": "csharp"
    },
    "polyglot_notebook": {
     "kernelName": "csharp"
    },
    "vscode": {
     "languageId": "polyglot-notebook"
    }
   },
   "outputs": [
    {
     "name": "stdout",
     "output_type": "stream",
     "text": [
      "Obdelnik ma rozmery 0 x 0\r\n"
     ]
    }
   ],
   "source": [
    "Obdelnik o1 = new Obdelnik();\n",
    "Console.WriteLine($\"Obdelnik ma rozmery {o1.a} x {o1.b}\");\n",
    "// vypise \"Obdelnik ma rozmery 0 x 0\""
   ]
  },
  {
   "cell_type": "markdown",
   "metadata": {},
   "source": [
    "Do struktury můžeme přidat konstruktor s jedním nebo více parametry a v něm nastavit výchozí hodnoty fieldů. Konstruktor je metoda, která nemá žádný návratový typ ani `void` a jmenuje se stejně jako struktura."
   ]
  },
  {
   "cell_type": "code",
   "execution_count": 4,
   "metadata": {
    "dotnet_interactive": {
     "language": "csharp"
    },
    "polyglot_notebook": {
     "kernelName": "csharp"
    },
    "vscode": {
     "languageId": "polyglot-notebook"
    }
   },
   "outputs": [],
   "source": [
    "struct Obdelnik\n",
    "{\n",
    "    public double a;\n",
    "    public double b;\n",
    "\n",
    "    public Obdelnik(double a, double b)\n",
    "    {\n",
    "        this.a = a;\n",
    "        this.b = b;\n",
    "    }\n",
    "}"
   ]
  },
  {
   "cell_type": "markdown",
   "metadata": {},
   "source": [
    "Konstrukru potom můžeme předat jako argumenty výchozí hodnoty fieldů, například pomocí výrazu `new Obdelnik(2.0, 3.0)` můžeme přiřadit fieldům `a` a `b` výchozí hodnoty `2.0 ` respektive `3.0 `."
   ]
  },
  {
   "cell_type": "code",
   "execution_count": 5,
   "metadata": {
    "dotnet_interactive": {
     "language": "csharp"
    },
    "polyglot_notebook": {
     "kernelName": "csharp"
    },
    "vscode": {
     "languageId": "polyglot-notebook"
    }
   },
   "outputs": [
    {
     "name": "stdout",
     "output_type": "stream",
     "text": [
      "Obdelnik ma rozmery 2 x 3\r\n"
     ]
    }
   ],
   "source": [
    "Obdelnik o1 = new Obdelnik(2.0, 3.0);\n",
    "Console.WriteLine($\"Obdelnik ma rozmery {o1.a} x {o1.b}\");\n",
    "// vypise \"Obdelnik ma rozmery 2 x 3\""
   ]
  },
  {
   "cell_type": "markdown",
   "metadata": {},
   "source": [
    "---\n",
    "Následují dva kompletní příklady."
   ]
  },
  {
   "cell_type": "markdown",
   "metadata": {},
   "source": [
    "Příklad: Komplexní číslo"
   ]
  },
  {
   "cell_type": "code",
   "execution_count": 6,
   "metadata": {
    "dotnet_interactive": {
     "language": "csharp"
    },
    "polyglot_notebook": {
     "kernelName": "csharp"
    },
    "vscode": {
     "languageId": "polyglot-notebook"
    }
   },
   "outputs": [
    {
     "name": "stdout",
     "output_type": "stream",
     "text": [
      "Komplexni cislo ma hodnotu 2 + 3i\r\n"
     ]
    }
   ],
   "source": [
    "struct Komplexni\n",
    "{\n",
    "    public double re;\n",
    "    public double im;\n",
    "\n",
    "    public Komplexni(double re, double im)\n",
    "    {\n",
    "        this.re = re;\n",
    "        this.im = im;\n",
    "    }\n",
    "}\n",
    "\n",
    "Komplexni c1 = new Komplexni(2.0, 3.0);\n",
    "Console.WriteLine($\"Komplexni cislo ma hodnotu {c1.re} + {c1.im}i\");"
   ]
  },
  {
   "cell_type": "markdown",
   "metadata": {},
   "source": [
    "Příklad: Obdelník"
   ]
  },
  {
   "cell_type": "code",
   "execution_count": 8,
   "metadata": {
    "dotnet_interactive": {
     "language": "csharp"
    },
    "polyglot_notebook": {
     "kernelName": "csharp"
    },
    "vscode": {
     "languageId": "polyglot-notebook"
    }
   },
   "outputs": [
    {
     "name": "stdout",
     "output_type": "stream",
     "text": [
      "Obdelnik ma rozmery 2 x 3\r\n"
     ]
    }
   ],
   "source": [
    "struct Obdelnik\n",
    "{\n",
    "    public double a;\n",
    "    public double b;\n",
    "\n",
    "    public Obdelnik(double a, double b)\n",
    "    {\n",
    "        this.a = a;\n",
    "        this.b = b;\n",
    "    }\n",
    "}\n",
    "\n",
    "Obdelnik o1 = new Obdelnik(2.0, 3.0);\n",
    "Console.WriteLine($\"Obdelnik ma rozmery {o1.a} x {o1.b}\");"
   ]
  }
 ],
 "metadata": {
  "language_info": {
   "name": "python"
  }
 },
 "nbformat": 4,
 "nbformat_minor": 2
}
