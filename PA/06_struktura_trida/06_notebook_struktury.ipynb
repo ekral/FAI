{
 "cells": [
  {
   "cell_type": "markdown",
   "metadata": {},
   "source": [
    "# 06 Struktury\n",
    "\n",
    "Pro zvládnutí předmětu potřebujete vědět jak deklarovat strukturu, definovat promenou typu struktura, inicializovat vychozi hodnoty a pracovat s prvky struktury (fields). "
   ]
  },
  {
   "cell_type": "markdown",
   "metadata": {},
   "source": [
    "Na následujících příkladech si probereme jednotlivé příkazy. "
   ]
  },
  {
   "cell_type": "markdown",
   "metadata": {},
   "source": [
    "Strukturu deklarujeme pomocí klíčového slova `struct`. Pokud chceme přistupovat k fieldům mimo strukturu, tak je musíme deklarovat jako `public`. Následující příklad definuje strukturu pro dvourozměrný bod s public fieldy `X` a `Y`."
   ]
  },
  {
   "cell_type": "code",
   "execution_count": 1,
   "metadata": {
    "dotnet_interactive": {
     "language": "csharp"
    },
    "polyglot_notebook": {
     "kernelName": "csharp"
    },
    "vscode": {
     "languageId": "polyglot-notebook"
    }
   },
   "outputs": [],
   "source": [
    "struct Bod\n",
    "{\n",
    "    public double X;\n",
    "    public double Y;\n",
    "}"
   ]
  },
  {
   "cell_type": "markdown",
   "metadata": {},
   "source": [
    "Proměnnou typu struktura definujeme stejným způsobem jako zabudované typy. V následujícím příkladu definujeme proměnnou `b1` typu `Bod`."
   ]
  },
  {
   "cell_type": "code",
   "execution_count": 1,
   "metadata": {
    "dotnet_interactive": {
     "language": "csharp"
    },
    "polyglot_notebook": {
     "kernelName": "csharp"
    },
    "vscode": {
     "languageId": "polyglot-notebook"
    }
   },
   "outputs": [],
   "source": [
    "Bod b1; "
   ]
  },
  {
   "cell_type": "markdown",
   "metadata": {},
   "source": [
    "Výchozí hodnoty struktury získáme pomocí zápisu `new Bod()`. Pozor, u struktur nejde o alokaci paměti na haldě, jen o získání objektu s inicializovanými výchozími hodnotami fieldů. "
   ]
  },
  {
   "cell_type": "code",
   "execution_count": 2,
   "metadata": {
    "dotnet_interactive": {
     "language": "csharp"
    },
    "polyglot_notebook": {
     "kernelName": "csharp"
    },
    "vscode": {
     "languageId": "polyglot-notebook"
    }
   },
   "outputs": [
    {
     "name": "stdout",
     "output_type": "stream",
     "text": [
      "Vychozi hodnoty jsou 0 a 0\r\n"
     ]
    }
   ],
   "source": [
    "Bod b1 = new Bod();\n",
    "Console.WriteLine($\"Vychozi hodnoty jsou {b1.X} a {b1.Y}\");"
   ]
  },
  {
   "cell_type": "markdown",
   "metadata": {},
   "source": [
    "K fieldům potom přistupujeme pomocí operátoru přímého přístupu `.`. Každý field musí mít před prvním použitím přiřazenou hodnotu."
   ]
  },
  {
   "cell_type": "code",
   "execution_count": 4,
   "metadata": {
    "dotnet_interactive": {
     "language": "csharp"
    },
    "polyglot_notebook": {
     "kernelName": "csharp"
    },
    "vscode": {
     "languageId": "polyglot-notebook"
    }
   },
   "outputs": [
    {
     "name": "stdout",
     "output_type": "stream",
     "text": [
      "Bod b1 ma souradnice 2 a 3\r\n"
     ]
    }
   ],
   "source": [
    "Bod b1;\n",
    "b1.X = 2;\n",
    "b1.Y = 3;\n",
    "\n",
    "Console.WriteLine($\"Bod b1 ma souradnice {b1.X} a {b1.Y}\");"
   ]
  },
  {
   "cell_type": "markdown",
   "metadata": {},
   "source": [
    "Stejně jako u zabudovaných typů se při přiřazení hodnoty kopíruje hodnota v paměti. Relační, aritmetické a další operátory bychom ale museli sami definovat."
   ]
  },
  {
   "cell_type": "code",
   "execution_count": 2,
   "metadata": {
    "dotnet_interactive": {
     "language": "csharp"
    },
    "polyglot_notebook": {
     "kernelName": "csharp"
    },
    "vscode": {
     "languageId": "polyglot-notebook"
    }
   },
   "outputs": [],
   "source": [
    "Bod b1;\n",
    "b1.X = 2;\n",
    "b1.Y = 3;\n",
    "\n",
    "Bod b2 = b1;"
   ]
  }
 ],
 "metadata": {
  "language_info": {
   "name": "csharp"
  }
 },
 "nbformat": 4,
 "nbformat_minor": 2
}
