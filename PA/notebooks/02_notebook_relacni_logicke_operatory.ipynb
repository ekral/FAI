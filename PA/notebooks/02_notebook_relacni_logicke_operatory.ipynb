{
 "cells": [
  {
   "cell_type": "markdown",
   "metadata": {},
   "source": [
    "# 02 Relační a logické operátory\n",
    "**autor: Erik Král ekral@utb.cz**\n",
    "\n",
    "---\n",
    "\n",
    "Pro zvládnutí předmětu musíte znát typ `bool` a znát relační a logické operátory . Nezapomeňte, že opět záleží na prioritě operátorů a pro jistotu používejte kulaté závorky `()`."
   ]
  },
  {
   "cell_type": "markdown",
   "metadata": {},
   "source": [
    "Booleovský výraz vrací jako výslednou hodnotu typ `bool`. Nejčastěji jej používáme v podmíněných příkazech výběru (selection statements) a příkazech pro tvorbu cyklu (iteration statements). Příklady booleanovských výrazů jsou relační a logické operátory.\n",
    "\n",
    "Typ bool reprezentuje hodnoty `true` nebo false, tedy pravda nebo nepravda."
   ]
  },
  {
   "cell_type": "markdown",
   "metadata": {},
   "source": [
    "Na následujících příkladech si probereme relační a logické operátory. \n",
    "\n",
    "Nejprve si ale definujme tři proměnné, celá čísla `x`, `y` a booleanovskou proměnnou `vysledek`:"
   ]
  },
  {
   "cell_type": "code",
   "execution_count": null,
   "metadata": {
    "vscode": {
     "languageId": "polyglot-notebook"
    }
   },
   "outputs": [],
   "source": [
    "int x = 2;\n",
    "int y = 3;\n",
    "bool vysledek;"
   ]
  },
  {
   "cell_type": "markdown",
   "metadata": {},
   "source": [
    "Měli byste znát následující relační operátory, které vracejí jako výsledek operace typ `bool`:"
   ]
  },
  {
   "cell_type": "code",
   "execution_count": null,
   "metadata": {
    "dotnet_interactive": {
     "language": "csharp"
    },
    "polyglot_notebook": {
     "kernelName": "csharp"
    },
    "vscode": {
     "languageId": "polyglot-notebook"
    }
   },
   "outputs": [],
   "source": [
    "vysledek = x == y;  // rovnost\n",
    "vysledek = x != y;  // nerovnost\n",
    "vysledek = x < y;   // mensi nez\n",
    "vysledek = x > y;   // vetsi nez\n",
    "vysledek = x <= y;  // nensi nebo rovno\n",
    "vysledek = x >= y;  // vetsi nebo rovno"
   ]
  },
  {
   "cell_type": "markdown",
   "metadata": {},
   "source": [
    "Dále byste měli znát logické operace and `&&` , or `||` a negace `!`"
   ]
  },
  {
   "cell_type": "code",
   "execution_count": null,
   "metadata": {
    "dotnet_interactive": {
     "language": "csharp"
    },
    "polyglot_notebook": {
     "kernelName": "csharp"
    },
    "vscode": {
     "languageId": "polyglot-notebook"
    }
   },
   "outputs": [],
   "source": [
    "vysledek = (x < y) && (y == 3); // pravda pokud je x menší než y a zárověň y je rovno 3\n",
    "vysledek = (x < y) || (y == 2); // pravda pokud je x menší než y a nebo y je rovno 3\n",
    "vysledek = !(x < y); // operator ! neguje vysledek predchozi operace, vyraz je pravda, pokud je x vetsi nebo rovno y"
   ]
  },
  {
   "cell_type": "markdown",
   "metadata": {},
   "source": [
    "V následujících kódech je uvedený kompletní příklad a řešení příkladů ze cvičení."
   ]
  },
  {
   "cell_type": "code",
   "execution_count": null,
   "metadata": {
    "dotnet_interactive": {
     "language": "csharp"
    },
    "polyglot_notebook": {
     "kernelName": "csharp"
    },
    "vscode": {
     "languageId": "polyglot-notebook"
    }
   },
   "outputs": [],
   "source": [
    "int x = 2;\n",
    "int y = 3;\n",
    "\n",
    "bool vysledek;\n",
    "\n",
    "vysledek = x == y;  // rovnost\n",
    "vysledek = x != y;  // nerovnost\n",
    "vysledek = x < y;   // mensi nez\n",
    "vysledek = x > y;   // vetsi nez\n",
    "vysledek = x <= y;  // nensi nebo rovno\n",
    "vysledek = x >= y;  // vetsi nebo rovno\n",
    "\n",
    "vysledek = (x < y) && (y == 3); // pravda pokud je x menší než y a zárověň y je rovno 3\n",
    "vysledek = (x < y) || (y == 2); // pravda pokud je x menší než y a nebo y je rovno 3\n",
    "vysledek = !(x < y); // operator !neguje vysledek predchozi operace, vyraz je pravda, pokud je x vetsi nebo rovno y"
   ]
  },
  {
   "cell_type": "markdown",
   "metadata": {},
   "source": [
    "---\n",
    "## Příklady k procvičování"
   ]
  },
  {
   "cell_type": "markdown",
   "metadata": {},
   "source": [
    "### Zadání: 1. Trojúhelník"
   ]
  },
  {
   "cell_type": "markdown",
   "metadata": {},
   "source": [
    "Máme trojúhelník zadaný délkami třech stran. Proměnná ```c``` představuje délku přepony."
   ]
  },
  {
   "cell_type": "code",
   "execution_count": null,
   "metadata": {
    "dotnet_interactive": {
     "language": "csharp"
    },
    "polyglot_notebook": {
     "kernelName": "csharp"
    },
    "vscode": {
     "languageId": "polyglot-notebook"
    }
   },
   "outputs": [],
   "source": [
    "double a = 3.0;\n",
    "double b = 4.0;\n",
    "double c = 5.0;\n",
    "\n",
    "Console.WriteLine($\"odvesna a: {a} odvesna b: {b} přepona c: {c}\");"
   ]
  },
  {
   "cell_type": "markdown",
   "metadata": {},
   "source": [
    "- Napište výraz, který vrátí ```true```, pokud trojúhleník existuje, tedy součet délek dvou libovolných stran je vždy větší než délka třetí strany."
   ]
  },
  {
   "cell_type": "code",
   "execution_count": null,
   "metadata": {
    "dotnet_interactive": {
     "language": "csharp"
    },
    "polyglot_notebook": {
     "kernelName": "csharp"
    },
    "vscode": {
     "languageId": "polyglot-notebook"
    }
   },
   "outputs": [],
   "source": []
  },
  {
   "cell_type": "markdown",
   "metadata": {},
   "source": [
    "- Napište výraz, který vrátí ```true```, pokud je trojúhleník pravoúhlý"
   ]
  },
  {
   "cell_type": "code",
   "execution_count": null,
   "metadata": {
    "dotnet_interactive": {
     "language": "csharp"
    },
    "polyglot_notebook": {
     "kernelName": "csharp"
    },
    "vscode": {
     "languageId": "polyglot-notebook"
    }
   },
   "outputs": [],
   "source": []
  },
  {
   "cell_type": "markdown",
   "metadata": {},
   "source": [
    "### Zadání: 2. Výsledky dvou testů\n",
    "\n",
    "Máme výsledky dvou testů ```t1``` a ```t2```."
   ]
  },
  {
   "cell_type": "code",
   "execution_count": null,
   "metadata": {
    "dotnet_interactive": {
     "language": "csharp"
    },
    "polyglot_notebook": {
     "kernelName": "csharp"
    },
    "vscode": {
     "languageId": "polyglot-notebook"
    }
   },
   "outputs": [],
   "source": [
    "double t1 = 40.0;\n",
    "double t2 = 70.0;\n",
    "\n",
    "Console.WriteLine($\"test 1: {t1} test 2: {t2}\");"
   ]
  },
  {
   "cell_type": "markdown",
   "metadata": {},
   "source": [
    "- Napište výraz, který vrátí ``true``, pokud student splnil **alespoň jeden** ze dvou testů za více než 45 bodů"
   ]
  },
  {
   "cell_type": "code",
   "execution_count": null,
   "metadata": {
    "dotnet_interactive": {
     "language": "csharp"
    },
    "polyglot_notebook": {
     "kernelName": "csharp"
    },
    "vscode": {
     "languageId": "polyglot-notebook"
    }
   },
   "outputs": [],
   "source": []
  },
  {
   "cell_type": "markdown",
   "metadata": {},
   "source": [
    "- Napište výraz, který vrátí ```true```, pokud student **nesplnil žádný** ze dvou testů za více než 45 bodů."
   ]
  },
  {
   "cell_type": "code",
   "execution_count": null,
   "metadata": {
    "dotnet_interactive": {
     "language": "csharp"
    },
    "polyglot_notebook": {
     "kernelName": "csharp"
    },
    "vscode": {
     "languageId": "polyglot-notebook"
    }
   },
   "outputs": [],
   "source": []
  },
  {
   "cell_type": "markdown",
   "metadata": {},
   "source": [
    "* Napište výraz, který vrátí ```true```, pokud student **splnil každý** ze dvou testů za více než 45 bodů"
   ]
  },
  {
   "cell_type": "code",
   "execution_count": null,
   "metadata": {
    "dotnet_interactive": {
     "language": "csharp"
    },
    "polyglot_notebook": {
     "kernelName": "csharp"
    },
    "vscode": {
     "languageId": "polyglot-notebook"
    }
   },
   "outputs": [],
   "source": []
  },
  {
   "cell_type": "markdown",
   "metadata": {},
   "source": [
    "- Napište výraz, který vrátí ```true```, pokud student splnil **alespoň jeden** ze dvou testů za více než 45 bodů, ale tentokrát použijte negaci a operátor ```&&```."
   ]
  },
  {
   "cell_type": "code",
   "execution_count": null,
   "metadata": {
    "dotnet_interactive": {
     "language": "csharp"
    },
    "polyglot_notebook": {
     "kernelName": "csharp"
    },
    "vscode": {
     "languageId": "polyglot-notebook"
    }
   },
   "outputs": [],
   "source": []
  },
  {
   "cell_type": "markdown",
   "metadata": {},
   "source": [
    "### Zadání: 3. Výsledky tří testů\n",
    "\n",
    "Máme výsledky tří testů ```t1```, ```t2``` a ```t3```."
   ]
  },
  {
   "cell_type": "code",
   "execution_count": null,
   "metadata": {
    "dotnet_interactive": {
     "language": "csharp"
    },
    "polyglot_notebook": {
     "kernelName": "csharp"
    },
    "vscode": {
     "languageId": "polyglot-notebook"
    }
   },
   "outputs": [],
   "source": [
    "double t1 = 30.0;\n",
    "double t2 = 40.0;\n",
    "double t3 = 70.0;\n",
    "\n",
    "Console.WriteLine($\"test 1: {t1}, test 2: {t2}, test 3: {t3}\");"
   ]
  },
  {
   "cell_type": "markdown",
   "metadata": {},
   "source": [
    "- Napište výraz, který vrátí ```true```, pokud student splnil alespoň jeden z tří testů za více než 45 bodů."
   ]
  },
  {
   "cell_type": "code",
   "execution_count": null,
   "metadata": {
    "dotnet_interactive": {
     "language": "csharp"
    },
    "polyglot_notebook": {
     "kernelName": "csharp"
    },
    "vscode": {
     "languageId": "polyglot-notebook"
    }
   },
   "outputs": [],
   "source": []
  },
  {
   "cell_type": "markdown",
   "metadata": {},
   "source": [
    "- Napište výraz, který vrátí ```true```, pokud student splnil všechny tři testy, každý za více než 45 bodů."
   ]
  },
  {
   "cell_type": "code",
   "execution_count": null,
   "metadata": {
    "dotnet_interactive": {
     "language": "csharp"
    },
    "polyglot_notebook": {
     "kernelName": "csharp"
    },
    "vscode": {
     "languageId": "polyglot-notebook"
    }
   },
   "outputs": [],
   "source": []
  },
  {
   "cell_type": "markdown",
   "metadata": {},
   "source": [
    "- Napište výraz, který vrátí ```true```, pokud student splnil alespoň dva z tří testů za více než 45 bodů."
   ]
  },
  {
   "cell_type": "code",
   "execution_count": null,
   "metadata": {
    "dotnet_interactive": {
     "language": "csharp"
    },
    "polyglot_notebook": {
     "kernelName": "csharp"
    },
    "vscode": {
     "languageId": "polyglot-notebook"
    }
   },
   "outputs": [],
   "source": []
  },
  {
   "cell_type": "markdown",
   "metadata": {},
   "source": [
    "---\n",
    "## Řešení příkladů k procvičování"
   ]
  },
  {
   "cell_type": "markdown",
   "metadata": {},
   "source": [
    "Máme trojúhelník zadaný délkami třech stran. Proměnná ```c``` představuje délku přepony."
   ]
  },
  {
   "cell_type": "code",
   "execution_count": null,
   "metadata": {
    "dotnet_interactive": {
     "language": "csharp"
    },
    "polyglot_notebook": {
     "kernelName": "csharp"
    },
    "vscode": {
     "languageId": "polyglot-notebook"
    }
   },
   "outputs": [],
   "source": [
    "double a = 3.0;\n",
    "double b = 4.0;\n",
    "double c = 5.0;\n",
    "\n",
    "Console.WriteLine($\"odvesna a: {a} odvesna b: {b} přepona c: {c}\");"
   ]
  },
  {
   "cell_type": "markdown",
   "metadata": {},
   "source": [
    "- Napište výraz, který vrátí ```true```, pokud trojúhleník existuje, tedy součet délek dvou libovolných stran je vždy větší než délka třetí strany."
   ]
  },
  {
   "cell_type": "code",
   "execution_count": null,
   "metadata": {
    "dotnet_interactive": {
     "language": "csharp"
    },
    "polyglot_notebook": {
     "kernelName": "csharp"
    },
    "vscode": {
     "languageId": "polyglot-notebook"
    }
   },
   "outputs": [],
   "source": [
    "(a + b > c) && (a + c > b) && (b + c > a)"
   ]
  },
  {
   "cell_type": "markdown",
   "metadata": {},
   "source": [
    "- Napište výraz, který vrátí ```true```, pokud je trojúhleník pravoúhlý"
   ]
  },
  {
   "cell_type": "code",
   "execution_count": null,
   "metadata": {
    "dotnet_interactive": {
     "language": "csharp"
    },
    "polyglot_notebook": {
     "kernelName": "csharp"
    },
    "vscode": {
     "languageId": "polyglot-notebook"
    }
   },
   "outputs": [],
   "source": [
    "a * a + b * b == c * c // poznamka, diky chybam v zaukrouhlovanim nam v nekterych pripadech nemusi rovnost vychazet"
   ]
  },
  {
   "cell_type": "markdown",
   "metadata": {},
   "source": [
    "### Zadání: 2. Výsledky dvou testů\n",
    "\n",
    "Máme výsledky dvou testů ```t1``` a ```t2```."
   ]
  },
  {
   "cell_type": "code",
   "execution_count": null,
   "metadata": {
    "dotnet_interactive": {
     "language": "csharp"
    },
    "polyglot_notebook": {
     "kernelName": "csharp"
    },
    "vscode": {
     "languageId": "polyglot-notebook"
    }
   },
   "outputs": [],
   "source": [
    "double t1 = 40.0;\n",
    "double t2 = 70.0;\n",
    "\n",
    "Console.WriteLine($\"test 1: {t1} test 2: {t2}\");"
   ]
  },
  {
   "cell_type": "markdown",
   "metadata": {},
   "source": [
    "- Napište výraz, který vrátí ``true``, pokud student splnil **alespoň jeden** ze dvou testů za více než 45 bodů"
   ]
  },
  {
   "cell_type": "code",
   "execution_count": null,
   "metadata": {
    "dotnet_interactive": {
     "language": "csharp"
    },
    "polyglot_notebook": {
     "kernelName": "csharp"
    },
    "vscode": {
     "languageId": "polyglot-notebook"
    }
   },
   "outputs": [],
   "source": [
    "t1 > 45.0 || t2 > 45.0"
   ]
  },
  {
   "cell_type": "markdown",
   "metadata": {},
   "source": [
    "- Napište výraz, který vrátí ```true```, pokud student **nesplnil žádný** ze dvou testů za více než 45 bodů."
   ]
  },
  {
   "cell_type": "code",
   "execution_count": null,
   "metadata": {
    "dotnet_interactive": {
     "language": "csharp"
    },
    "polyglot_notebook": {
     "kernelName": "csharp"
    },
    "vscode": {
     "languageId": "polyglot-notebook"
    }
   },
   "outputs": [],
   "source": [
    "t1 <= 45.0 && t2 <= 45.0"
   ]
  },
  {
   "cell_type": "markdown",
   "metadata": {},
   "source": [
    "* Napište výraz, který vrátí ```true```, pokud student **splnil každý** ze dvou testů za více než 45 bodů"
   ]
  },
  {
   "cell_type": "code",
   "execution_count": null,
   "metadata": {
    "dotnet_interactive": {
     "language": "csharp"
    },
    "polyglot_notebook": {
     "kernelName": "csharp"
    },
    "vscode": {
     "languageId": "polyglot-notebook"
    }
   },
   "outputs": [],
   "source": [
    "t1 > 45.0 && t2 > 45.0"
   ]
  },
  {
   "cell_type": "markdown",
   "metadata": {},
   "source": [
    "- Napište výraz, který vrátí ```true```, pokud student splnil **alespoň jeden** ze dvou testů za více než 45 bodů, ale tentokrát použijte negaci a operátor ```&&```."
   ]
  },
  {
   "cell_type": "code",
   "execution_count": null,
   "metadata": {
    "dotnet_interactive": {
     "language": "csharp"
    },
    "polyglot_notebook": {
     "kernelName": "csharp"
    },
    "vscode": {
     "languageId": "polyglot-notebook"
    }
   },
   "outputs": [],
   "source": [
    "!(t1 <= 45.0 && t2 <= 45.0)"
   ]
  },
  {
   "cell_type": "markdown",
   "metadata": {},
   "source": [
    "### Zadání: 3. Výsledky tří testů\n",
    "\n",
    "Máme výsledky tří testů ```t1```, ```t2``` a ```t3```."
   ]
  },
  {
   "cell_type": "code",
   "execution_count": null,
   "metadata": {
    "dotnet_interactive": {
     "language": "csharp"
    },
    "polyglot_notebook": {
     "kernelName": "csharp"
    },
    "vscode": {
     "languageId": "polyglot-notebook"
    }
   },
   "outputs": [],
   "source": [
    "double t1 = 30.0;\n",
    "double t2 = 40.0;\n",
    "double t3 = 70.0;\n",
    "\n",
    "Console.WriteLine($\"test 1: {t1}, test 2: {t2}, test 3: {t3}\");"
   ]
  },
  {
   "cell_type": "markdown",
   "metadata": {},
   "source": [
    "- Napište výraz, který vrátí ```true```, pokud student splnil alespoň jeden z tří testů za více než 45 bodů."
   ]
  },
  {
   "cell_type": "code",
   "execution_count": null,
   "metadata": {
    "dotnet_interactive": {
     "language": "csharp"
    },
    "polyglot_notebook": {
     "kernelName": "csharp"
    },
    "vscode": {
     "languageId": "polyglot-notebook"
    }
   },
   "outputs": [],
   "source": [
    "(t1 > 45.0) || (t2 > 45.0) || (t3 > 45.0)"
   ]
  },
  {
   "cell_type": "markdown",
   "metadata": {},
   "source": [
    "- Napište výraz, který vrátí ```true```, pokud student splnil všechny tři testy, každý za více než 45 bodů."
   ]
  },
  {
   "cell_type": "code",
   "execution_count": null,
   "metadata": {
    "dotnet_interactive": {
     "language": "csharp"
    },
    "polyglot_notebook": {
     "kernelName": "csharp"
    },
    "vscode": {
     "languageId": "polyglot-notebook"
    }
   },
   "outputs": [],
   "source": [
    "(t1 > 45.0) && (t2 > 45.0) && (t3 > 45.0)"
   ]
  },
  {
   "cell_type": "markdown",
   "metadata": {},
   "source": [
    "- Napište výraz, který vrátí ```true```, pokud student splnil alespoň dva z tří testů za více než 45 bodů."
   ]
  },
  {
   "cell_type": "code",
   "execution_count": null,
   "metadata": {
    "dotnet_interactive": {
     "language": "csharp"
    },
    "polyglot_notebook": {
     "kernelName": "csharp"
    },
    "vscode": {
     "languageId": "polyglot-notebook"
    }
   },
   "outputs": [],
   "source": [
    "((t1 > 45.0) && (t2 > 45.0)) || ((t1 > 45.0) && (t3 > 45.0)) || ((t2 > 45.0) && (t3 > 45.0))"
   ]
  }
 ],
 "metadata": {
  "language_info": {
   "name": "csharp"
  },
  "orig_nbformat": 4
 },
 "nbformat": 4,
 "nbformat_minor": 2
}
