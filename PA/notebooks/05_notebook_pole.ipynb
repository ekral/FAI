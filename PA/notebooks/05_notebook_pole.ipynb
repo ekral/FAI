{
 "cells": [
  {
   "cell_type": "markdown",
   "metadata": {},
   "source": [
    "# 05 Pole a Kolekce\n",
    "**autor: Erik Král ekral@utb.cz**\n",
    "\n",
    "---\n",
    "\n",
    "Pro zvládnutí předmětu potřebujete vědět jak definovat pole, inicializovat ho, přistupovat k jeho prvkům, vytvářet kopii pole a porovnávat hodnoty v poli."
   ]
  },
  {
   "cell_type": "markdown",
   "metadata": {},
   "source": [
    "## Jednorozměrná pole"
   ]
  },
  {
   "cell_type": "markdown",
   "metadata": {},
   "source": [
    "Typ pole vytvoříme tak, že za typ prvků v poli přidáme `[]`, například pole celých čísel `int` zapíšeme jako `int[]`. Následující příkaz definuje proměnnou typu pole `int[]` a protože pole je referenční typ, tak mu můžeme přiřadit hodnotu `null` což znamená že, nemá ještě přiřazené žádné hodnoty.\n",
    "\n",
    "Pole má pevný počet prvků, nemůžeme přidávat nebo odebírat prvky po tom co jej vytvoříme.\n"
   ]
  },
  {
   "cell_type": "code",
   "execution_count": 5,
   "metadata": {
    "dotnet_interactive": {
     "language": "csharp"
    },
    "polyglot_notebook": {
     "kernelName": "csharp"
    }
   },
   "outputs": [],
   "source": [
    "int[]? pole = null;"
   ]
  },
  {
   "cell_type": "code",
   "execution_count": 6,
   "metadata": {
    "dotnet_interactive": {
     "language": "csharp"
    },
    "polyglot_notebook": {
     "kernelName": "csharp"
    }
   },
   "outputs": [
    {
     "data": {
      "text/html": [
       "<div class=\"dni-plaintext\"><pre>&lt;null&gt;</pre></div><style>\r\n",
       ".dni-code-hint {\r\n",
       "    font-style: italic;\r\n",
       "    overflow: hidden;\r\n",
       "    white-space: nowrap;\r\n",
       "}\r\n",
       ".dni-treeview {\r\n",
       "    white-space: nowrap;\r\n",
       "}\r\n",
       ".dni-treeview td {\r\n",
       "    vertical-align: top;\r\n",
       "    text-align: start;\r\n",
       "}\r\n",
       "details.dni-treeview {\r\n",
       "    padding-left: 1em;\r\n",
       "}\r\n",
       "table td {\r\n",
       "    text-align: start;\r\n",
       "}\r\n",
       "table tr { \r\n",
       "    vertical-align: top; \r\n",
       "    margin: 0em 0px;\r\n",
       "}\r\n",
       "table tr td pre \r\n",
       "{ \r\n",
       "    vertical-align: top !important; \r\n",
       "    margin: 0em 0px !important;\r\n",
       "} \r\n",
       "table th {\r\n",
       "    text-align: start;\r\n",
       "}\r\n",
       "</style>"
      ]
     },
     "metadata": {},
     "output_type": "display_data"
    }
   ],
   "source": [
    "pole"
   ]
  },
  {
   "cell_type": "markdown",
   "metadata": {},
   "source": [
    "Paměť pro vlastní hodnoty prvků potom alokujeme pomocí příkazu `new int[3]` kdy hodnota `3` je počet prvků. Proměnná pole potom představuje referenci na zásobníku na data alokované na haldě (pojmy zásobník a halda probereme v přednášce [Zasobnik_halda_reference](https://github.com/ekral/FAI/tree/master/PA/Zasobnik_halda_reference)."
   ]
  },
  {
   "cell_type": "code",
   "execution_count": null,
   "metadata": {
    "dotnet_interactive": {
     "language": "csharp"
    },
    "polyglot_notebook": {
     "kernelName": "csharp"
    }
   },
   "outputs": [],
   "source": [
    "pole = new int[3];"
   ]
  },
  {
   "cell_type": "markdown",
   "metadata": {},
   "source": [
    "Oba příkazy můžeme sloučit do jednoho zápisu:"
   ]
  },
  {
   "cell_type": "code",
   "execution_count": null,
   "metadata": {
    "dotnet_interactive": {
     "language": "csharp"
    },
    "polyglot_notebook": {
     "kernelName": "csharp"
    }
   },
   "outputs": [],
   "source": [
    "int[] pole = new int[3];"
   ]
  },
  {
   "cell_type": "markdown",
   "metadata": {},
   "source": [
    "a hodnoty můžeme inicializovat pole pomocí zápisu `{1,2,3}`:"
   ]
  },
  {
   "cell_type": "code",
   "execution_count": 7,
   "metadata": {
    "language_info": {
     "name": "polyglot-notebook"
    },
    "polyglot_notebook": {
     "kernelName": "csharp"
    }
   },
   "outputs": [],
   "source": [
    "int[] pole = new int[3] { 1, 2, 3 };"
   ]
  },
  {
   "cell_type": "markdown",
   "metadata": {},
   "source": [
    "nebo zjednodušeně pomocí  `[1, 2, 3]`:"
   ]
  },
  {
   "cell_type": "code",
   "execution_count": 8,
   "metadata": {
    "dotnet_interactive": {
     "language": "csharp"
    },
    "polyglot_notebook": {
     "kernelName": "csharp"
    }
   },
   "outputs": [],
   "source": [
    "int[] pole = [1, 2, 3];"
   ]
  },
  {
   "cell_type": "markdown",
   "metadata": {},
   "source": [
    "Předchozí zápis můžeme zapsat různými způsoby. Všechny následující zápisy mají stejný výsledek:"
   ]
  },
  {
   "cell_type": "code",
   "execution_count": null,
   "metadata": {
    "dotnet_interactive": {
     "language": "csharp"
    },
    "polyglot_notebook": {
     "kernelName": "csharp"
    }
   },
   "outputs": [],
   "source": [
    "int[] pole1 = new int[3] { 1, 2, 3 };\n",
    "int[] pole2 = new int[] { 1, 2, 3 };\n",
    "int[] pole3 = new [] { 1, 2, 3 };\n",
    "int[] pole4 = { 1, 2, 3 };\n",
    "int[] pole5 = [1, 2, 3]; // od .NET 8"
   ]
  },
  {
   "cell_type": "markdown",
   "metadata": {},
   "source": [
    "Nový zápis pomocí hranatých závorek je nejuniverzálnější a můžeme použít i pro dočasný objekt, který předáváme jako argument metodě."
   ]
  },
  {
   "cell_type": "code",
   "execution_count": 9,
   "metadata": {
    "dotnet_interactive": {
     "language": "csharp"
    },
    "polyglot_notebook": {
     "kernelName": "csharp"
    }
   },
   "outputs": [
    {
     "name": "stdout",
     "output_type": "stream",
     "text": [
      "1,2,7,3,9\r\n"
     ]
    }
   ],
   "source": [
    "void Vypis(int[] pole)\n",
    "{\n",
    "    Console.WriteLine(string.Join(',', pole));\n",
    "}\n",
    "\n",
    "Vypis([1, 2, 7, 3, 9]);"
   ]
  },
  {
   "cell_type": "markdown",
   "metadata": {},
   "source": [
    "Hodnoty prvků poli můžeme vypsat na konzoli s využitím příkazu `string.Join`:"
   ]
  },
  {
   "cell_type": "code",
   "execution_count": 10,
   "metadata": {
    "dotnet_interactive": {
     "language": "csharp"
    },
    "polyglot_notebook": {
     "kernelName": "csharp"
    }
   },
   "outputs": [
    {
     "name": "stdout",
     "output_type": "stream",
     "text": [
      "1,2,3\r\n"
     ]
    }
   ],
   "source": [
    "Console.WriteLine(string.Join(\",\", pole));"
   ]
  },
  {
   "cell_type": "markdown",
   "metadata": {},
   "source": [
    "K jednotlivým prvků poli přistupujeme pomocí hranatých závorek `[]`, kdy index začíná od nuly:"
   ]
  },
  {
   "cell_type": "code",
   "execution_count": 11,
   "metadata": {
    "dotnet_interactive": {
     "language": "csharp"
    },
    "polyglot_notebook": {
     "kernelName": "csharp"
    }
   },
   "outputs": [
    {
     "name": "stdout",
     "output_type": "stream",
     "text": [
      "1\n",
      "2\n",
      "3\n"
     ]
    }
   ],
   "source": [
    "int[] pole = [1, 2, 3 ];\n",
    "Console.WriteLine(pole[0]); // prvni prvek\n",
    "Console.WriteLine(pole[1]); // druhy prvek\n",
    "Console.WriteLine(pole[2]); // treti prvek"
   ]
  },
  {
   "cell_type": "markdown",
   "metadata": {},
   "source": [
    "Delku pole zjistíme pomocí property `pole.Length`. Následující příkaz nastaví hodnoty pole na 0,1,2:"
   ]
  },
  {
   "cell_type": "code",
   "execution_count": 13,
   "metadata": {
    "dotnet_interactive": {
     "language": "csharp"
    },
    "polyglot_notebook": {
     "kernelName": "csharp"
    }
   },
   "outputs": [
    {
     "data": {
      "text/html": [
       "<div class=\"dni-plaintext\"><pre>3</pre></div><style>\r\n",
       ".dni-code-hint {\r\n",
       "    font-style: italic;\r\n",
       "    overflow: hidden;\r\n",
       "    white-space: nowrap;\r\n",
       "}\r\n",
       ".dni-treeview {\r\n",
       "    white-space: nowrap;\r\n",
       "}\r\n",
       ".dni-treeview td {\r\n",
       "    vertical-align: top;\r\n",
       "    text-align: start;\r\n",
       "}\r\n",
       "details.dni-treeview {\r\n",
       "    padding-left: 1em;\r\n",
       "}\r\n",
       "table td {\r\n",
       "    text-align: start;\r\n",
       "}\r\n",
       "table tr { \r\n",
       "    vertical-align: top; \r\n",
       "    margin: 0em 0px;\r\n",
       "}\r\n",
       "table tr td pre \r\n",
       "{ \r\n",
       "    vertical-align: top !important; \r\n",
       "    margin: 0em 0px !important;\r\n",
       "} \r\n",
       "table th {\r\n",
       "    text-align: start;\r\n",
       "}\r\n",
       "</style>"
      ]
     },
     "metadata": {},
     "output_type": "display_data"
    }
   ],
   "source": [
    "int[] pole = new int[3];\n",
    "\n",
    "for (int i = 0; i < pole.Length; i++)\n",
    "{\n",
    "    pole[i] = i;\n",
    "}\n",
    "\n",
    "pole.Length"
   ]
  },
  {
   "cell_type": "markdown",
   "metadata": {},
   "source": [
    "Pokud přiřadíme hodnotu pole jinému poli tak předáme referenci na stejné prvky v poli. V následujícím příkazu tedy pole1 i pole2 mají referenci na stejná data:"
   ]
  },
  {
   "cell_type": "code",
   "execution_count": null,
   "metadata": {
    "dotnet_interactive": {
     "language": "csharp"
    },
    "polyglot_notebook": {
     "kernelName": "csharp"
    }
   },
   "outputs": [
    {
     "name": "stdout",
     "output_type": "stream",
     "text": [
      "1,0,3\n",
      "1,0,3\n"
     ]
    }
   ],
   "source": [
    "int[] pole1 = [1, 2, 3];\n",
    "int[] pole2 = pole1;\n",
    "\n",
    "pole2[1] = 0;\n",
    "\n",
    "Console.WriteLine(string.Join(\",\", pole1));\n",
    "Console.WriteLine(string.Join(\",\", pole2));\n"
   ]
  },
  {
   "cell_type": "markdown",
   "metadata": {},
   "source": [
    "Pokud chceme vytvorit nezavisle kopie, tak mame nekolik moznosti:"
   ]
  },
  {
   "cell_type": "code",
   "execution_count": 15,
   "metadata": {
    "dotnet_interactive": {
     "language": "csharp"
    },
    "polyglot_notebook": {
     "kernelName": "csharp"
    }
   },
   "outputs": [
    {
     "name": "stdout",
     "output_type": "stream",
     "text": [
      "1,0,3\n",
      "1,2,3\n",
      "1,2,3\n",
      "1,2,3\n"
     ]
    }
   ],
   "source": [
    "int[] original = [1, 2, 3 ];\n",
    "\n",
    "int[] kopie1 = original.ToArray(); // vyzaduje using System.Linq\n",
    "\n",
    "int[] kopie2 = new int[original.Length];\n",
    "original.CopyTo(kopie2, 0);\n",
    "\n",
    "int[] kopie3 = new int[original.Length];\n",
    "Array.Copy(original, kopie3, original.Length);\n",
    "\n",
    "original[1] = 0;\n",
    "// vsechny kopie maji sva data a jsou nezavisle na originalnim poli\n",
    "\n",
    "Console.WriteLine(string.Join(\",\", original));\n",
    "Console.WriteLine(string.Join(\",\", kopie1));\n",
    "Console.WriteLine(string.Join(\",\", kopie2));\n",
    "Console.WriteLine(string.Join(\",\", kopie3));"
   ]
  },
  {
   "cell_type": "markdown",
   "metadata": {},
   "source": [
    "## Cyklus foreach\n",
    "\n",
    "Cyklus `foreach` provede příkaz nebo blok příkazů pro každý prvek z typu, který podporuje rozhraní `IEnumberable`. Kdy všechny typy, které v tomto notebooku probíráme jej podporují.\n",
    "\n",
    "Následující příkaz projde všechna čísla v poli `cisla` a vypíše je na terminál."
   ]
  },
  {
   "cell_type": "code",
   "execution_count": 16,
   "metadata": {
    "dotnet_interactive": {
     "language": "csharp"
    },
    "polyglot_notebook": {
     "kernelName": "csharp"
    }
   },
   "outputs": [
    {
     "name": "stdout",
     "output_type": "stream",
     "text": [
      "1\n",
      "2\n",
      "3\n",
      "4\n",
      "5\n"
     ]
    }
   ],
   "source": [
    "int[] cisla = [1, 2, 3, 4, 5];\n",
    "\n",
    "foreach(int cislo in cisla)\n",
    "{\n",
    "    Console.WriteLine(cislo);\n",
    "}"
   ]
  },
  {
   "cell_type": "markdown",
   "metadata": {},
   "source": [
    "V cyklu foreach nemůžeme měnit hodnotu iterační proměnné."
   ]
  },
  {
   "cell_type": "code",
   "execution_count": null,
   "metadata": {
    "language_info": {
     "name": "polyglot-notebook"
    },
    "polyglot_notebook": {
     "kernelName": "csharp"
    }
   },
   "outputs": [],
   "source": [
    "int[] cisla = [1, 2, 3, 4, 5];\n",
    "\n",
    "foreach(int cislo in cisla)\n",
    "{\n",
    "    cislo = 0; // Chyba: nelze menit hodnotu promenne v foreach\n",
    "}"
   ]
  },
  {
   "cell_type": "markdown",
   "metadata": {},
   "source": [
    "##\tMultidimensional array a Jagged array\n",
    "\n",
    "U vice rozměrných polí máme dvě možnosti [Multidimensional array](https://docs.microsoft.com/en-us/dotnet/csharp/programming-guide/arrays/multidimensional-arrays) a [Jagged array](https://docs.microsoft.com/en-us/dotnet/csharp/programming-guide/arrays/jagged-arrays)."
   ]
  },
  {
   "cell_type": "markdown",
   "metadata": {},
   "source": [
    "Multidimensional array se definuje následujícím způsobem kdy v tomto příkladu říkáme, že chceme mít dvě pole o třech prvcích. Prakticky jde o jednorozměrné pole, které indexujeme jako vícerozměrné."
   ]
  },
  {
   "cell_type": "code",
   "execution_count": 23,
   "metadata": {
    "dotnet_interactive": {
     "language": "csharp"
    },
    "polyglot_notebook": {
     "kernelName": "csharp"
    }
   },
   "outputs": [],
   "source": [
    "int[,] multidimensionalArray = new int[2, 3]\n",
    "{\n",
    "    { 1, 2, 3 },\n",
    "    { 4, 5, 6 }\n",
    "};"
   ]
  },
  {
   "cell_type": "markdown",
   "metadata": {},
   "source": [
    "Property `Length` by nám vrátila celkový počet prvků, tedy 2 x 3 = 6 prvků."
   ]
  },
  {
   "cell_type": "code",
   "execution_count": 24,
   "metadata": {
    "dotnet_interactive": {
     "language": "csharp"
    },
    "polyglot_notebook": {
     "kernelName": "csharp"
    }
   },
   "outputs": [
    {
     "data": {
      "text/html": [
       "<div class=\"dni-plaintext\"><pre>6</pre></div><style>\r\n",
       ".dni-code-hint {\r\n",
       "    font-style: italic;\r\n",
       "    overflow: hidden;\r\n",
       "    white-space: nowrap;\r\n",
       "}\r\n",
       ".dni-treeview {\r\n",
       "    white-space: nowrap;\r\n",
       "}\r\n",
       ".dni-treeview td {\r\n",
       "    vertical-align: top;\r\n",
       "    text-align: start;\r\n",
       "}\r\n",
       "details.dni-treeview {\r\n",
       "    padding-left: 1em;\r\n",
       "}\r\n",
       "table td {\r\n",
       "    text-align: start;\r\n",
       "}\r\n",
       "table tr { \r\n",
       "    vertical-align: top; \r\n",
       "    margin: 0em 0px;\r\n",
       "}\r\n",
       "table tr td pre \r\n",
       "{ \r\n",
       "    vertical-align: top !important; \r\n",
       "    margin: 0em 0px !important;\r\n",
       "} \r\n",
       "table th {\r\n",
       "    text-align: start;\r\n",
       "}\r\n",
       "</style>"
      ]
     },
     "metadata": {},
     "output_type": "display_data"
    }
   ],
   "source": [
    "multidimensionalArray.Length"
   ]
  },
  {
   "cell_type": "markdown",
   "metadata": {},
   "source": [
    "Vrátí prvek s indexem 1,2, kteřý přepočítá na jednorozměrné pole 1 * 3 + 2."
   ]
  },
  {
   "cell_type": "code",
   "execution_count": 25,
   "metadata": {
    "dotnet_interactive": {
     "language": "csharp"
    },
    "polyglot_notebook": {
     "kernelName": "csharp"
    }
   },
   "outputs": [
    {
     "data": {
      "text/html": [
       "<div class=\"dni-plaintext\"><pre>6</pre></div><style>\r\n",
       ".dni-code-hint {\r\n",
       "    font-style: italic;\r\n",
       "    overflow: hidden;\r\n",
       "    white-space: nowrap;\r\n",
       "}\r\n",
       ".dni-treeview {\r\n",
       "    white-space: nowrap;\r\n",
       "}\r\n",
       ".dni-treeview td {\r\n",
       "    vertical-align: top;\r\n",
       "    text-align: start;\r\n",
       "}\r\n",
       "details.dni-treeview {\r\n",
       "    padding-left: 1em;\r\n",
       "}\r\n",
       "table td {\r\n",
       "    text-align: start;\r\n",
       "}\r\n",
       "table tr { \r\n",
       "    vertical-align: top; \r\n",
       "    margin: 0em 0px;\r\n",
       "}\r\n",
       "table tr td pre \r\n",
       "{ \r\n",
       "    vertical-align: top !important; \r\n",
       "    margin: 0em 0px !important;\r\n",
       "} \r\n",
       "table th {\r\n",
       "    text-align: start;\r\n",
       "}\r\n",
       "</style>"
      ]
     },
     "metadata": {},
     "output_type": "display_data"
    }
   ],
   "source": [
    "multidimensionalArray[1,2]"
   ]
  },
  {
   "cell_type": "markdown",
   "metadata": {},
   "source": [
    "Rozměry multidimensional array získáme pomocí metody `GetLength`, kdy argumentem je index dimenze. V následujícím případě `GetLength(0)` vrátí hodnotu 2 a `GetLength(1)` vrátí hodnotu `3`."
   ]
  },
  {
   "cell_type": "code",
   "execution_count": 26,
   "metadata": {
    "dotnet_interactive": {
     "language": "csharp"
    },
    "polyglot_notebook": {
     "kernelName": "csharp"
    }
   },
   "outputs": [
    {
     "name": "stdout",
     "output_type": "stream",
     "text": [
      "1 2 3 \n",
      "4 5 6 \n"
     ]
    }
   ],
   "source": [
    "for (int i = 0; i < multidimensionalArray.GetLength(0); i++)\n",
    "{\n",
    "    for (int j = 0; j < multidimensionalArray.GetLength(1); j++)\n",
    "    {\n",
    "        int prvek = multidimensionalArray[i, j];\n",
    "        Console.Write($\"{prvek} \");\n",
    "    }\n",
    "\n",
    "    Console.WriteLine();\n",
    "}"
   ]
  },
  {
   "cell_type": "markdown",
   "metadata": {},
   "source": [
    "Oproti tomu Jagged array představuje pole referencí na další pole, která pak musíme inicializovat zvlášť. Každý řádek potom může mít různý počet prvků. "
   ]
  },
  {
   "cell_type": "markdown",
   "metadata": {},
   "source": [
    "Nejprve si nadefinujeme pole referencí:"
   ]
  },
  {
   "cell_type": "code",
   "execution_count": 27,
   "metadata": {
    "dotnet_interactive": {
     "language": "csharp"
    },
    "polyglot_notebook": {
     "kernelName": "csharp"
    }
   },
   "outputs": [],
   "source": [
    "int[][] jaggedArray = new int[2][];"
   ]
  },
  {
   "cell_type": "markdown",
   "metadata": {},
   "source": [
    "A potom alokujeme paměť pro jednotlivé řádky, tedy jednorozměrné pole:"
   ]
  },
  {
   "cell_type": "code",
   "execution_count": 28,
   "metadata": {
    "dotnet_interactive": {
     "language": "csharp"
    },
    "polyglot_notebook": {
     "kernelName": "csharp"
    }
   },
   "outputs": [],
   "source": [
    "jaggedArray[0] = new int[] { 1, 2, 3 };\n",
    "jaggedArray[1] = new int[] { 4, 5 };"
   ]
  },
  {
   "cell_type": "markdown",
   "metadata": {},
   "source": [
    "Potom procházíme jednotlivé řádky každý řádek procházíme jako jednorozměrné pole:"
   ]
  },
  {
   "cell_type": "code",
   "execution_count": 29,
   "metadata": {
    "dotnet_interactive": {
     "language": "csharp"
    },
    "polyglot_notebook": {
     "kernelName": "csharp"
    }
   },
   "outputs": [
    {
     "name": "stdout",
     "output_type": "stream",
     "text": [
      "1 2 3 \n",
      "4 5 \n"
     ]
    }
   ],
   "source": [
    "for (int i = 0; i < jaggedArray.Length; i++)\n",
    "{\n",
    "    int[] radek = jaggedArray[i];\n",
    "\n",
    "    for (int j = 0; j < radek.Length; j++)\n",
    "    {\n",
    "        int prvek = radek[j];\n",
    "        Console.Write($\"{prvek} \");\n",
    "    }\n",
    "\n",
    "    Console.WriteLine();\n",
    "}"
   ]
  },
  {
   "cell_type": "markdown",
   "metadata": {},
   "source": [
    "Jagged array je rychlejší pro sekvenční přístup k prvkům než Multidimensional array, protože prakticky po získání refence na řádek můžeme procházet jednorozměrné pole prvek po prvku."
   ]
  },
  {
   "cell_type": "markdown",
   "metadata": {},
   "source": [
    "## Kolekce"
   ]
  },
  {
   "cell_type": "markdown",
   "metadata": {},
   "source": [
    "Poslední dva typy, které probereme je dynamické pole `List` a asociativní pole `Dictionary`."
   ]
  },
  {
   "cell_type": "markdown",
   "metadata": {},
   "source": [
    "### List\n",
    "\n",
    "Generická třída `List<int>` představuje dynamické pole, tedy pole do kterého může-me přidávat nové prvky a také prvky odebírat. Jde o nejčastěji používaný typ kolekcí."
   ]
  },
  {
   "cell_type": "markdown",
   "metadata": {},
   "source": [
    "Instanci třídy `List<T>` nadefinujeme následujícím způsobem:"
   ]
  },
  {
   "cell_type": "code",
   "execution_count": 30,
   "metadata": {
    "dotnet_interactive": {
     "language": "csharp"
    },
    "polyglot_notebook": {
     "kernelName": "csharp"
    }
   },
   "outputs": [],
   "source": [
    "List<int> listCisel = new List<int> { 1, 2, 3, 4, 5, 6 };"
   ]
  },
  {
   "cell_type": "markdown",
   "metadata": {},
   "source": [
    "Počet prvků zjistíme, na rozdíl od pole, pomocí property `Count`."
   ]
  },
  {
   "cell_type": "code",
   "execution_count": 33,
   "metadata": {
    "dotnet_interactive": {
     "language": "csharp"
    },
    "polyglot_notebook": {
     "kernelName": "csharp"
    }
   },
   "outputs": [
    {
     "data": {
      "text/html": [
       "<div class=\"dni-plaintext\"><pre>6</pre></div><style>\r\n",
       ".dni-code-hint {\r\n",
       "    font-style: italic;\r\n",
       "    overflow: hidden;\r\n",
       "    white-space: nowrap;\r\n",
       "}\r\n",
       ".dni-treeview {\r\n",
       "    white-space: nowrap;\r\n",
       "}\r\n",
       ".dni-treeview td {\r\n",
       "    vertical-align: top;\r\n",
       "    text-align: start;\r\n",
       "}\r\n",
       "details.dni-treeview {\r\n",
       "    padding-left: 1em;\r\n",
       "}\r\n",
       "table td {\r\n",
       "    text-align: start;\r\n",
       "}\r\n",
       "table tr { \r\n",
       "    vertical-align: top; \r\n",
       "    margin: 0em 0px;\r\n",
       "}\r\n",
       "table tr td pre \r\n",
       "{ \r\n",
       "    vertical-align: top !important; \r\n",
       "    margin: 0em 0px !important;\r\n",
       "} \r\n",
       "table th {\r\n",
       "    text-align: start;\r\n",
       "}\r\n",
       "</style>"
      ]
     },
     "metadata": {},
     "output_type": "display_data"
    }
   ],
   "source": [
    "int pocetPrvku = listCisel.Count;\n",
    "\n",
    "pocetPrvku"
   ]
  },
  {
   "cell_type": "markdown",
   "metadata": {},
   "source": [
    "Pro přístup k prvkům můžeme opět použít operátor indexace []."
   ]
  },
  {
   "cell_type": "code",
   "execution_count": 34,
   "metadata": {
    "dotnet_interactive": {
     "language": "csharp"
    },
    "polyglot_notebook": {
     "kernelName": "csharp"
    }
   },
   "outputs": [
    {
     "name": "stdout",
     "output_type": "stream",
     "text": [
      "1\n",
      "2\n",
      "3\n",
      "4\n",
      "5\n",
      "6\n"
     ]
    }
   ],
   "source": [
    "for (int i = 0; i < pocetPrvku; i++)\n",
    "{\n",
    "    int prvek = listCisel[i];\n",
    "    Console.WriteLine(prvek);\n",
    "}"
   ]
  },
  {
   "cell_type": "markdown",
   "metadata": {},
   "source": [
    "Pokud chceme projít všechny prvky, tak nejčastějši používáme příkaz `foreach`, který projde všechny prvky."
   ]
  },
  {
   "cell_type": "code",
   "execution_count": 35,
   "metadata": {
    "dotnet_interactive": {
     "language": "csharp"
    },
    "polyglot_notebook": {
     "kernelName": "csharp"
    }
   },
   "outputs": [
    {
     "name": "stdout",
     "output_type": "stream",
     "text": [
      "1\n",
      "2\n",
      "3\n",
      "4\n",
      "5\n",
      "6\n"
     ]
    }
   ],
   "source": [
    "foreach (int prvek in listCisel)\n",
    "{\n",
    "    Console.WriteLine(prvek);\n",
    "}"
   ]
  },
  {
   "cell_type": "markdown",
   "metadata": {},
   "source": [
    "Do dynamického pole můžeme prvky přidat jak na konec tak na libovolný index.\n",
    "\n",
    "Pokud přidáváme nakonec, tak jde o rychlou operaci, pokud nám ale nedojde paměť. Pokud dojde, tak si List přialokuje typicky pamět pro dvakrát tolik prvků kolik obsahuje.\n",
    "\n",
    "Pokud vkládáme prvky na začátek nebo doprostřed, tak musí posunout všechny ostatní prvky doprava. Náročnost operace tedy roste lineárně s počtem prvků."
   ]
  },
  {
   "cell_type": "code",
   "execution_count": 36,
   "metadata": {
    "dotnet_interactive": {
     "language": "csharp"
    },
    "polyglot_notebook": {
     "kernelName": "csharp"
    }
   },
   "outputs": [
    {
     "data": {
      "text/html": [
       "<div class=\"dni-plaintext\"><pre>[ 6, 1, 7, 2, 3, 4, 5, 6, 4 ]</pre></div><style>\r\n",
       ".dni-code-hint {\r\n",
       "    font-style: italic;\r\n",
       "    overflow: hidden;\r\n",
       "    white-space: nowrap;\r\n",
       "}\r\n",
       ".dni-treeview {\r\n",
       "    white-space: nowrap;\r\n",
       "}\r\n",
       ".dni-treeview td {\r\n",
       "    vertical-align: top;\r\n",
       "    text-align: start;\r\n",
       "}\r\n",
       "details.dni-treeview {\r\n",
       "    padding-left: 1em;\r\n",
       "}\r\n",
       "table td {\r\n",
       "    text-align: start;\r\n",
       "}\r\n",
       "table tr { \r\n",
       "    vertical-align: top; \r\n",
       "    margin: 0em 0px;\r\n",
       "}\r\n",
       "table tr td pre \r\n",
       "{ \r\n",
       "    vertical-align: top !important; \r\n",
       "    margin: 0em 0px !important;\r\n",
       "} \r\n",
       "table th {\r\n",
       "    text-align: start;\r\n",
       "}\r\n",
       "</style>"
      ]
     },
     "metadata": {},
     "output_type": "display_data"
    }
   ],
   "source": [
    "listCisel.Add(4); // pridam na konec\n",
    "listCisel.Insert(0, 6); // vlozim na zacatek\n",
    "listCisel.Insert(2, 7); // vlozim na index 2\n",
    "\n",
    "listCisel"
   ]
  },
  {
   "cell_type": "markdown",
   "metadata": {},
   "source": [
    "Také můžeme odstranit prvek s určitou hodnotou, nebo odebrat prvek z určitého idnexu."
   ]
  },
  {
   "cell_type": "code",
   "execution_count": 38,
   "metadata": {
    "dotnet_interactive": {
     "language": "csharp"
    },
    "polyglot_notebook": {
     "kernelName": "csharp"
    }
   },
   "outputs": [],
   "source": [
    "listCisel.Remove(7);    // odstrani prvek s hodnotou 7\n",
    "listCisel.RemoveAt(0);  // odstrani prvek s indexem"
   ]
  },
  {
   "cell_type": "markdown",
   "metadata": {},
   "source": [
    "Také můžeme odstranit všechny prvky v poli pomocí metody Clear."
   ]
  },
  {
   "cell_type": "code",
   "execution_count": 39,
   "metadata": {
    "dotnet_interactive": {
     "language": "csharp"
    },
    "polyglot_notebook": {
     "kernelName": "csharp"
    }
   },
   "outputs": [
    {
     "data": {
      "text/html": [
       "<div class=\"dni-plaintext\"><pre>[  ]</pre></div><style>\r\n",
       ".dni-code-hint {\r\n",
       "    font-style: italic;\r\n",
       "    overflow: hidden;\r\n",
       "    white-space: nowrap;\r\n",
       "}\r\n",
       ".dni-treeview {\r\n",
       "    white-space: nowrap;\r\n",
       "}\r\n",
       ".dni-treeview td {\r\n",
       "    vertical-align: top;\r\n",
       "    text-align: start;\r\n",
       "}\r\n",
       "details.dni-treeview {\r\n",
       "    padding-left: 1em;\r\n",
       "}\r\n",
       "table td {\r\n",
       "    text-align: start;\r\n",
       "}\r\n",
       "table tr { \r\n",
       "    vertical-align: top; \r\n",
       "    margin: 0em 0px;\r\n",
       "}\r\n",
       "table tr td pre \r\n",
       "{ \r\n",
       "    vertical-align: top !important; \r\n",
       "    margin: 0em 0px !important;\r\n",
       "} \r\n",
       "table th {\r\n",
       "    text-align: start;\r\n",
       "}\r\n",
       "</style>"
      ]
     },
     "metadata": {},
     "output_type": "display_data"
    }
   ],
   "source": [
    "listCisel.Clear();\n",
    "\n",
    "listCisel"
   ]
  },
  {
   "cell_type": "markdown",
   "metadata": {},
   "source": [
    "### Dictionary\n",
    "\n",
    "Generická třída `Dictionary<TKey, TValue>` představuje kolekci párů klíče a hodnoty. Jde tedy o asociativní pole. Například můžeme mít kolekci studentů, kde klíčem bude identifikační číslo studenta a hodnotou jméno studenta.\n",
    "\n",
    "Slouží k tomu, abychom mohli rychle vyhledávat hodnoty podle klíčů."
   ]
  },
  {
   "cell_type": "code",
   "execution_count": 1,
   "metadata": {
    "dotnet_interactive": {
     "language": "csharp"
    },
    "polyglot_notebook": {
     "kernelName": "csharp"
    }
   },
   "outputs": [
    {
     "data": {
      "text/html": [
       "<table><thead><tr><th><i>key</i></th><th>value</th></tr></thead><tbody><tr><td><div class=\"dni-plaintext\"><pre>10</pre></div></td><td><div class=\"dni-plaintext\"><pre>Petr</pre></div></td></tr><tr><td><div class=\"dni-plaintext\"><pre>20</pre></div></td><td><div class=\"dni-plaintext\"><pre>Alena</pre></div></td></tr></tbody></table><style>\r\n",
       ".dni-code-hint {\r\n",
       "    font-style: italic;\r\n",
       "    overflow: hidden;\r\n",
       "    white-space: nowrap;\r\n",
       "}\r\n",
       ".dni-treeview {\r\n",
       "    white-space: nowrap;\r\n",
       "}\r\n",
       ".dni-treeview td {\r\n",
       "    vertical-align: top;\r\n",
       "    text-align: start;\r\n",
       "}\r\n",
       "details.dni-treeview {\r\n",
       "    padding-left: 1em;\r\n",
       "}\r\n",
       "table td {\r\n",
       "    text-align: start;\r\n",
       "}\r\n",
       "table tr { \r\n",
       "    vertical-align: top; \r\n",
       "    margin: 0em 0px;\r\n",
       "}\r\n",
       "table tr td pre \r\n",
       "{ \r\n",
       "    vertical-align: top !important; \r\n",
       "    margin: 0em 0px !important;\r\n",
       "} \r\n",
       "table th {\r\n",
       "    text-align: start;\r\n",
       "}\r\n",
       "</style>"
      ]
     },
     "metadata": {},
     "output_type": "display_data"
    }
   ],
   "source": [
    "Dictionary<int, string> studenti = new Dictionary<int, string>()\n",
    "{\n",
    "    [10] = \"Petr\",\n",
    "    [20] = \"Alena\"\n",
    "};\n",
    "\n",
    "studenti"
   ]
  },
  {
   "cell_type": "code",
   "execution_count": 2,
   "metadata": {
    "dotnet_interactive": {
     "language": "csharp"
    },
    "polyglot_notebook": {
     "kernelName": "csharp"
    }
   },
   "outputs": [
    {
     "data": {
      "text/plain": [
       "Alena"
      ]
     },
     "metadata": {},
     "output_type": "display_data"
    }
   ],
   "source": [
    "studenti[20]"
   ]
  },
  {
   "cell_type": "markdown",
   "metadata": {},
   "source": [
    "Nové studenty potom můžeme přidávat s pomocí metody `Add`."
   ]
  },
  {
   "cell_type": "code",
   "execution_count": 3,
   "metadata": {
    "dotnet_interactive": {
     "language": "csharp"
    },
    "polyglot_notebook": {
     "kernelName": "csharp"
    }
   },
   "outputs": [
    {
     "data": {
      "text/html": [
       "<table><thead><tr><th><i>key</i></th><th>value</th></tr></thead><tbody><tr><td><div class=\"dni-plaintext\"><pre>10</pre></div></td><td><div class=\"dni-plaintext\"><pre>Petr</pre></div></td></tr><tr><td><div class=\"dni-plaintext\"><pre>20</pre></div></td><td><div class=\"dni-plaintext\"><pre>Alena</pre></div></td></tr><tr><td><div class=\"dni-plaintext\"><pre>100</pre></div></td><td><div class=\"dni-plaintext\"><pre>Jan</pre></div></td></tr><tr><td><div class=\"dni-plaintext\"><pre>128</pre></div></td><td><div class=\"dni-plaintext\"><pre>Jiri</pre></div></td></tr></tbody></table><style>\r\n",
       ".dni-code-hint {\r\n",
       "    font-style: italic;\r\n",
       "    overflow: hidden;\r\n",
       "    white-space: nowrap;\r\n",
       "}\r\n",
       ".dni-treeview {\r\n",
       "    white-space: nowrap;\r\n",
       "}\r\n",
       ".dni-treeview td {\r\n",
       "    vertical-align: top;\r\n",
       "    text-align: start;\r\n",
       "}\r\n",
       "details.dni-treeview {\r\n",
       "    padding-left: 1em;\r\n",
       "}\r\n",
       "table td {\r\n",
       "    text-align: start;\r\n",
       "}\r\n",
       "table tr { \r\n",
       "    vertical-align: top; \r\n",
       "    margin: 0em 0px;\r\n",
       "}\r\n",
       "table tr td pre \r\n",
       "{ \r\n",
       "    vertical-align: top !important; \r\n",
       "    margin: 0em 0px !important;\r\n",
       "} \r\n",
       "table th {\r\n",
       "    text-align: start;\r\n",
       "}\r\n",
       "</style>"
      ]
     },
     "metadata": {},
     "output_type": "display_data"
    }
   ],
   "source": [
    "studenti.Add(100, \"Jan\");\n",
    "studenti.Add(128, \"Jiri\");\n",
    "\n",
    "studenti"
   ]
  },
  {
   "cell_type": "markdown",
   "metadata": {},
   "source": [
    "Pokud by student s daným záznamem už v kolekci existoval, tak program vyvolá výjimku. Proto je vhodnější předem ověřit, zda daný klíč už existuje. A to buď starším způsobem:"
   ]
  },
  {
   "cell_type": "code",
   "execution_count": 46,
   "metadata": {
    "dotnet_interactive": {
     "language": "csharp"
    },
    "polyglot_notebook": {
     "kernelName": "csharp"
    }
   },
   "outputs": [
    {
     "data": {
      "text/html": [
       "<table><thead><tr><th><i>key</i></th><th>value</th></tr></thead><tbody><tr><td><div class=\"dni-plaintext\"><pre>10</pre></div></td><td><div class=\"dni-plaintext\"><pre>Petr</pre></div></td></tr><tr><td><div class=\"dni-plaintext\"><pre>20</pre></div></td><td><div class=\"dni-plaintext\"><pre>Alena</pre></div></td></tr><tr><td><div class=\"dni-plaintext\"><pre>100</pre></div></td><td><div class=\"dni-plaintext\"><pre>Jan</pre></div></td></tr><tr><td><div class=\"dni-plaintext\"><pre>128</pre></div></td><td><div class=\"dni-plaintext\"><pre>Jiri</pre></div></td></tr><tr><td><div class=\"dni-plaintext\"><pre>129</pre></div></td><td><div class=\"dni-plaintext\"><pre>Jana</pre></div></td></tr></tbody></table><style>\r\n",
       ".dni-code-hint {\r\n",
       "    font-style: italic;\r\n",
       "    overflow: hidden;\r\n",
       "    white-space: nowrap;\r\n",
       "}\r\n",
       ".dni-treeview {\r\n",
       "    white-space: nowrap;\r\n",
       "}\r\n",
       ".dni-treeview td {\r\n",
       "    vertical-align: top;\r\n",
       "    text-align: start;\r\n",
       "}\r\n",
       "details.dni-treeview {\r\n",
       "    padding-left: 1em;\r\n",
       "}\r\n",
       "table td {\r\n",
       "    text-align: start;\r\n",
       "}\r\n",
       "table tr { \r\n",
       "    vertical-align: top; \r\n",
       "    margin: 0em 0px;\r\n",
       "}\r\n",
       "table tr td pre \r\n",
       "{ \r\n",
       "    vertical-align: top !important; \r\n",
       "    margin: 0em 0px !important;\r\n",
       "} \r\n",
       "table th {\r\n",
       "    text-align: start;\r\n",
       "}\r\n",
       "</style>"
      ]
     },
     "metadata": {},
     "output_type": "display_data"
    }
   ],
   "source": [
    "if (!studenti.ContainsKey(129))\n",
    "{\n",
    "    studenti.Add(129, \"Jana\");\n",
    "}\n",
    "\n",
    "studenti"
   ]
  },
  {
   "cell_type": "markdown",
   "metadata": {},
   "source": [
    "Nebo novějším způsobem:"
   ]
  },
  {
   "cell_type": "code",
   "execution_count": 47,
   "metadata": {
    "dotnet_interactive": {
     "language": "csharp"
    },
    "polyglot_notebook": {
     "kernelName": "csharp"
    }
   },
   "outputs": [
    {
     "data": {
      "text/html": [
       "<table><thead><tr><th><i>key</i></th><th>value</th></tr></thead><tbody><tr><td><div class=\"dni-plaintext\"><pre>10</pre></div></td><td><div class=\"dni-plaintext\"><pre>Petr</pre></div></td></tr><tr><td><div class=\"dni-plaintext\"><pre>20</pre></div></td><td><div class=\"dni-plaintext\"><pre>Alena</pre></div></td></tr><tr><td><div class=\"dni-plaintext\"><pre>100</pre></div></td><td><div class=\"dni-plaintext\"><pre>Jan</pre></div></td></tr><tr><td><div class=\"dni-plaintext\"><pre>128</pre></div></td><td><div class=\"dni-plaintext\"><pre>Jiri</pre></div></td></tr><tr><td><div class=\"dni-plaintext\"><pre>129</pre></div></td><td><div class=\"dni-plaintext\"><pre>Jana</pre></div></td></tr><tr><td><div class=\"dni-plaintext\"><pre>130</pre></div></td><td><div class=\"dni-plaintext\"><pre>Karel</pre></div></td></tr></tbody></table><style>\r\n",
       ".dni-code-hint {\r\n",
       "    font-style: italic;\r\n",
       "    overflow: hidden;\r\n",
       "    white-space: nowrap;\r\n",
       "}\r\n",
       ".dni-treeview {\r\n",
       "    white-space: nowrap;\r\n",
       "}\r\n",
       ".dni-treeview td {\r\n",
       "    vertical-align: top;\r\n",
       "    text-align: start;\r\n",
       "}\r\n",
       "details.dni-treeview {\r\n",
       "    padding-left: 1em;\r\n",
       "}\r\n",
       "table td {\r\n",
       "    text-align: start;\r\n",
       "}\r\n",
       "table tr { \r\n",
       "    vertical-align: top; \r\n",
       "    margin: 0em 0px;\r\n",
       "}\r\n",
       "table tr td pre \r\n",
       "{ \r\n",
       "    vertical-align: top !important; \r\n",
       "    margin: 0em 0px !important;\r\n",
       "} \r\n",
       "table th {\r\n",
       "    text-align: start;\r\n",
       "}\r\n",
       "</style>"
      ]
     },
     "metadata": {},
     "output_type": "display_data"
    }
   ],
   "source": [
    "bool okAdd = studenti.TryAdd(130, \"Karel\"); \n",
    "\n",
    "studenti"
   ]
  },
  {
   "cell_type": "markdown",
   "metadata": {},
   "source": [
    "Z kolekce můžeme odstranit záznam dle konrétního klíče, například:"
   ]
  },
  {
   "cell_type": "code",
   "execution_count": 48,
   "metadata": {
    "dotnet_interactive": {
     "language": "csharp"
    },
    "polyglot_notebook": {
     "kernelName": "csharp"
    }
   },
   "outputs": [
    {
     "data": {
      "text/html": [
       "<table><thead><tr><th><i>key</i></th><th>value</th></tr></thead><tbody><tr><td><div class=\"dni-plaintext\"><pre>10</pre></div></td><td><div class=\"dni-plaintext\"><pre>Petr</pre></div></td></tr><tr><td><div class=\"dni-plaintext\"><pre>20</pre></div></td><td><div class=\"dni-plaintext\"><pre>Alena</pre></div></td></tr><tr><td><div class=\"dni-plaintext\"><pre>100</pre></div></td><td><div class=\"dni-plaintext\"><pre>Jan</pre></div></td></tr><tr><td><div class=\"dni-plaintext\"><pre>129</pre></div></td><td><div class=\"dni-plaintext\"><pre>Jana</pre></div></td></tr><tr><td><div class=\"dni-plaintext\"><pre>130</pre></div></td><td><div class=\"dni-plaintext\"><pre>Karel</pre></div></td></tr></tbody></table><style>\r\n",
       ".dni-code-hint {\r\n",
       "    font-style: italic;\r\n",
       "    overflow: hidden;\r\n",
       "    white-space: nowrap;\r\n",
       "}\r\n",
       ".dni-treeview {\r\n",
       "    white-space: nowrap;\r\n",
       "}\r\n",
       ".dni-treeview td {\r\n",
       "    vertical-align: top;\r\n",
       "    text-align: start;\r\n",
       "}\r\n",
       "details.dni-treeview {\r\n",
       "    padding-left: 1em;\r\n",
       "}\r\n",
       "table td {\r\n",
       "    text-align: start;\r\n",
       "}\r\n",
       "table tr { \r\n",
       "    vertical-align: top; \r\n",
       "    margin: 0em 0px;\r\n",
       "}\r\n",
       "table tr td pre \r\n",
       "{ \r\n",
       "    vertical-align: top !important; \r\n",
       "    margin: 0em 0px !important;\r\n",
       "} \r\n",
       "table th {\r\n",
       "    text-align: start;\r\n",
       "}\r\n",
       "</style>"
      ]
     },
     "metadata": {},
     "output_type": "display_data"
    }
   ],
   "source": [
    "studenti.Remove(128);\n",
    "\n",
    "studenti"
   ]
  },
  {
   "cell_type": "markdown",
   "metadata": {},
   "source": [
    "Pokud bychom chtěli procházet všechny záznamy v `Dictionary<TKey, TValue>`, tak musíme využít typ `KeyValuePair< TKey, TValue>` tedy pár klíč a hodnota, například:"
   ]
  },
  {
   "cell_type": "code",
   "execution_count": 49,
   "metadata": {
    "dotnet_interactive": {
     "language": "csharp"
    },
    "polyglot_notebook": {
     "kernelName": "csharp"
    }
   },
   "outputs": [
    {
     "data": {
      "text/html": [
       "<div class=\"dni-plaintext\"><pre>[ 10, 20, 100, 129, 130 ]</pre></div><style>\r\n",
       ".dni-code-hint {\r\n",
       "    font-style: italic;\r\n",
       "    overflow: hidden;\r\n",
       "    white-space: nowrap;\r\n",
       "}\r\n",
       ".dni-treeview {\r\n",
       "    white-space: nowrap;\r\n",
       "}\r\n",
       ".dni-treeview td {\r\n",
       "    vertical-align: top;\r\n",
       "    text-align: start;\r\n",
       "}\r\n",
       "details.dni-treeview {\r\n",
       "    padding-left: 1em;\r\n",
       "}\r\n",
       "table td {\r\n",
       "    text-align: start;\r\n",
       "}\r\n",
       "table tr { \r\n",
       "    vertical-align: top; \r\n",
       "    margin: 0em 0px;\r\n",
       "}\r\n",
       "table tr td pre \r\n",
       "{ \r\n",
       "    vertical-align: top !important; \r\n",
       "    margin: 0em 0px !important;\r\n",
       "} \r\n",
       "table th {\r\n",
       "    text-align: start;\r\n",
       "}\r\n",
       "</style>"
      ]
     },
     "metadata": {},
     "output_type": "display_data"
    }
   ],
   "source": [
    "studenti.Keys"
   ]
  },
  {
   "cell_type": "code",
   "execution_count": 50,
   "metadata": {
    "dotnet_interactive": {
     "language": "csharp"
    },
    "polyglot_notebook": {
     "kernelName": "csharp"
    }
   },
   "outputs": [
    {
     "name": "stdout",
     "output_type": "stream",
     "text": [
      "10: Petr\n",
      "20: Alena\n",
      "100: Jan\n",
      "129: Jana\n",
      "130: Karel\n"
     ]
    }
   ],
   "source": [
    "foreach (KeyValuePair<int, string> par in studenti)\n",
    "{\n",
    "    Console.WriteLine($\"{par.Key}: {par.Value}\");\n",
    "}"
   ]
  },
  {
   "cell_type": "markdown",
   "metadata": {},
   "source": [
    "Nebo můžeme použít dekompozici:"
   ]
  },
  {
   "cell_type": "code",
   "execution_count": 51,
   "metadata": {
    "dotnet_interactive": {
     "language": "csharp"
    },
    "polyglot_notebook": {
     "kernelName": "csharp"
    }
   },
   "outputs": [
    {
     "name": "stdout",
     "output_type": "stream",
     "text": [
      "10: Petr\n",
      "20: Alena\n",
      "100: Jan\n",
      "129: Jana\n",
      "130: Karel\n"
     ]
    }
   ],
   "source": [
    "foreach ((int id, string jmeno) in studenti)\n",
    "{\n",
    "    Console.WriteLine($\"{id}: {jmeno}\");\n",
    "}"
   ]
  },
  {
   "cell_type": "markdown",
   "metadata": {},
   "source": [
    "TODO: Queue a Stack"
   ]
  },
  {
   "cell_type": "markdown",
   "metadata": {},
   "source": [
    "---\n",
    "## Příklady k procvičování"
   ]
  },
  {
   "cell_type": "markdown",
   "metadata": {},
   "source": [
    "### Zadání: 1: Suma prvků v poli"
   ]
  },
  {
   "cell_type": "code",
   "execution_count": null,
   "metadata": {
    "dotnet_interactive": {
     "language": "csharp"
    },
    "polyglot_notebook": {
     "kernelName": "csharp"
    }
   },
   "outputs": [],
   "source": [
    "int[] pole = { 5, 7, 1, 2, 3 };\n",
    "Console.WriteLine(string.Join(\",\", pole));\n",
    "\n",
    "// pomocí cyklu for spočítejte a vypište sumu prvků v poli\n",
    "\n",
    "// alternativně použijte LINQ metodu"
   ]
  },
  {
   "cell_type": "markdown",
   "metadata": {},
   "source": [
    "### Zadání: 2: Opačené pořadí prvků v poli"
   ]
  },
  {
   "cell_type": "code",
   "execution_count": null,
   "metadata": {
    "dotnet_interactive": {
     "language": "csharp"
    },
    "polyglot_notebook": {
     "kernelName": "csharp"
    }
   },
   "outputs": [],
   "source": [
    "int[] pole = { 1, 2, 7, 5, 6, 3, 8 };\n",
    "Console.WriteLine(string.Join(\",\", pole));\n",
    "\n",
    "// pomoci cyklu for zmente poradi prvku pole aby byly pozpatku\n",
    "// prvky budou v poradi 8,3,6,5,7,2,1\n",
    "\n",
    "// Alternativně můžu použíjte LINQ metodu"
   ]
  },
  {
   "cell_type": "markdown",
   "metadata": {},
   "source": [
    "### Zadání: 3: Průměrný výsledek studenta\n",
    "\n",
    "Z konzole zadávejte výsledek testu studenta dokud uživatel nenapíše slovo \"konec\". Poté vypište průměr z testů a výsledek, který je tomuto průměru nejblíže."
   ]
  },
  {
   "cell_type": "markdown",
   "metadata": {},
   "source": [
    "### Zadání 4: Histogram znaků v textu\n",
    "\n",
    "Pomocí příkazu `System.IO.File.ReadAllText` nebo pomocí třídy `StreamReader` načtěte textový soubor a vytvořte histogram výskytu znaků v textu. Pro každý znak vyskytující se v textu spočítejte kolikrát se v textu vyskytuje. Výhodou `StreamReader` je, že nenačítáme celý soubor do paměti."
   ]
  },
  {
   "cell_type": "code",
   "execution_count": null,
   "metadata": {
    "dotnet_interactive": {
     "language": "csharp"
    },
    "polyglot_notebook": {
     "kernelName": "csharp"
    }
   },
   "outputs": [],
   "source": [
    "string text = System.IO.File.ReadAllText(\"text.txt\");"
   ]
  },
  {
   "cell_type": "code",
   "execution_count": null,
   "metadata": {
    "dotnet_interactive": {
     "language": "csharp"
    },
    "polyglot_notebook": {
     "kernelName": "csharp"
    }
   },
   "outputs": [],
   "source": [
    "using System.IO;\n",
    "\n",
    "using(StreamReader reader = new StreamReader(\"text.txt\"))\n",
    "{\n",
    "\n",
    "    int znak;\n",
    "    while((znak = reader.Read()) != -1)\n",
    "    {\n",
    "        Console.Write((char)znak);\n",
    "    }\n",
    "}"
   ]
  },
  {
   "cell_type": "markdown",
   "metadata": {},
   "source": [
    "---\n",
    "## Řešení příkladů k procvičování"
   ]
  },
  {
   "cell_type": "markdown",
   "metadata": {},
   "source": [
    "### Řešení: 1: Suma prvků v poli"
   ]
  },
  {
   "cell_type": "code",
   "execution_count": null,
   "metadata": {
    "dotnet_interactive": {
     "language": "csharp"
    },
    "polyglot_notebook": {
     "kernelName": "csharp"
    }
   },
   "outputs": [],
   "source": [
    "int[] pole = { 5, 7, 1, 2, 3 };\n",
    "\n",
    "// pomocí cyklu forspočítejte a vypište sumu prvků v poli\n",
    "\n",
    "int suma = 0;\n",
    "foreach (int prvek in pole)\n",
    "{\n",
    "    Console.WriteLine(prvek);\n",
    "    suma += prvek;\n",
    "}\n",
    "\n",
    "Console.WriteLine($\"soucet prvku v poli je {suma}\");\n",
    "\n",
    "// alternativně použijte LINQ metodu\n",
    "\n",
    "suma = pole.Sum();"
   ]
  },
  {
   "cell_type": "markdown",
   "metadata": {},
   "source": [
    "### Řešení: 2: Opačné pořadí prvků v poli"
   ]
  },
  {
   "cell_type": "code",
   "execution_count": null,
   "metadata": {
    "dotnet_interactive": {
     "language": "csharp"
    },
    "polyglot_notebook": {
     "kernelName": "csharp"
    }
   },
   "outputs": [],
   "source": [
    "int[] pole = { 1, 2, 7, 5, 6, 3, 8 };\n",
    "Console.WriteLine(string.Join(\",\", pole));\n",
    "\n",
    "// pomoci cyklu for zmente poradi prvku pole aby byly pozpatku\n",
    "// prvky budou v poradi 8,3,6,5,7,2,1\n",
    "\n",
    "int prvniIndex = 0;\n",
    "int posledniIndex = pole.Length - 1;\n",
    "int n = pole.Length / 2;\n",
    "\n",
    "for (int i = 0; i < n; i++)\n",
    "{\n",
    "    int tmp = pole[posledniIndex];\n",
    "    pole[posledniIndex] = pole[prvniIndex];\n",
    "    pole[prvniIndex] = tmp;\n",
    "\n",
    "    ++prvniIndex;\n",
    "    --posledniIndex;\n",
    "}\n",
    "\n",
    "Console.WriteLine(string.Join(\",\", pole));\n",
    "\n",
    "for (int i = 0, j = pole.Length - 1; i < pole.Length / 2; i++, j--)\n",
    "{\n",
    "    int tmp = pole[j];\n",
    "    pole[j] = pole[i];\n",
    "    pole[i] = tmp;\n",
    "}\n",
    "\n",
    "Console.WriteLine(string.Join(\",\", pole));\n",
    "\n",
    "// Alternativně můžu použíjte LINQ metodu\n",
    "\n",
    "pole.Reverse();"
   ]
  },
  {
   "cell_type": "markdown",
   "metadata": {},
   "source": [
    "### Řešení: 3: Průměrný výsledek studenta\n",
    "\n",
    "Řešení používá LINQ metody, které jsme ještě neprobírali. Ale pro tento příklad jsou velmi užitečné."
   ]
  },
  {
   "cell_type": "code",
   "execution_count": 2,
   "metadata": {
    "dotnet_interactive": {
     "language": "csharp"
    },
    "polyglot_notebook": {
     "kernelName": "csharp"
    }
   },
   "outputs": [
    {
     "name": "stdout",
     "output_type": "stream",
     "text": [
      "prumer: 2 nejblizsi: 2\r\n"
     ]
    }
   ],
   "source": [
    "List<double> cisla = [];\n",
    "\n",
    "string? radek;\n",
    "\n",
    "do\n",
    "{\n",
    "    // radek = Console.ReadLine(); // pouzit na konzoli\n",
    "\n",
    "    radek = await Microsoft.DotNet.Interactive.Kernel.GetInputAsync(\"Pick a number.\"); // Pouziti pouze v polyglot notebooku\n",
    "\n",
    "    if (radek == \"konec\")\n",
    "    {\n",
    "        break;\n",
    "    }\n",
    "\n",
    "    if(double.TryParse(radek, out double cislo))\n",
    "    {\n",
    "        cisla.Add(cislo);\n",
    "    }\n",
    "\n",
    "} while (true);\n",
    "\n",
    "if(cisla.Count > 0)\n",
    "{\n",
    "    double prumer = cisla.Average();\n",
    "    double nejblizsi = cisla.MinBy(x => Math.Abs(x - prumer));\n",
    "\n",
    "    Console.WriteLine($\"prumer: {prumer} nejblizsi: {nejblizsi}\");\n",
    "}"
   ]
  },
  {
   "cell_type": "markdown",
   "metadata": {},
   "source": [
    "Druhé řešení bez použití LINQ"
   ]
  },
  {
   "cell_type": "code",
   "execution_count": 3,
   "metadata": {
    "dotnet_interactive": {
     "language": "csharp"
    },
    "polyglot_notebook": {
     "kernelName": "csharp"
    }
   },
   "outputs": [
    {
     "name": "stdout",
     "output_type": "stream",
     "text": [
      "prumer: 3.5 nejblizsi: 3\r\n"
     ]
    }
   ],
   "source": [
    "List<double> cisla = [];\n",
    "\n",
    "double suma = 0.0;\n",
    "\n",
    "string? radek;\n",
    "\n",
    "do\n",
    "{\n",
    "    // radek = Console.ReadLine(); // pouzit na konzoli\n",
    "\n",
    "    radek = await Microsoft.DotNet.Interactive.Kernel.GetInputAsync(\"Pick a number.\"); // Pouziti pouze v polyglot notebooku\n",
    "\n",
    "    if (radek == \"konec\")\n",
    "    {\n",
    "        break;\n",
    "    }\n",
    "\n",
    "    if(double.TryParse(radek, out double cislo))\n",
    "    {\n",
    "        cisla.Add(cislo);\n",
    "\n",
    "        suma += cislo;\n",
    "    }\n",
    "    \n",
    "} while (true);\n",
    "\n",
    "if (cisla.Count > 0)\n",
    "{\n",
    "    double prumer = suma / cisla.Count;\n",
    "\n",
    "    double nejblizsi = cisla[0];\n",
    "    double min_odchylka = Math.Abs(prumer - nejblizsi);\n",
    "\n",
    "    for (int i = 1; i < cisla.Count; i++)\n",
    "    {\n",
    "        double cislo = cisla[i];\n",
    "\n",
    "        double odchylka = Math.Abs(prumer - cislo);\n",
    "\n",
    "        if(odchylka < min_odchylka)\n",
    "        {\n",
    "            nejblizsi = cislo;\n",
    "            min_odchylka = odchylka;\n",
    "\n",
    "        }\n",
    "    }\n",
    "\n",
    "    Console.WriteLine($\"prumer: {prumer} nejblizsi: {nejblizsi}\");\n",
    "}"
   ]
  },
  {
   "cell_type": "markdown",
   "metadata": {},
   "source": [
    "### Řešení 4: Histogram znaků v textu"
   ]
  },
  {
   "cell_type": "code",
   "execution_count": null,
   "metadata": {
    "dotnet_interactive": {
     "language": "csharp"
    },
    "polyglot_notebook": {
     "kernelName": "csharp"
    }
   },
   "outputs": [],
   "source": [
    "using System.IO;\n",
    "\n",
    "Dictionary<int, int> znaky = [];\n",
    "\n",
    "using(StreamReader reader = new(\"text.txt\"))\n",
    "{\n",
    "\n",
    "    int znak;\n",
    "    while((znak = reader.Read()) != -1)\n",
    "    {\n",
    "        if(znaky.TryGetValue(znak, out int value))\n",
    "        {\n",
    "            znaky[znak] = ++value;\n",
    "        }\n",
    "        else\n",
    "        {\n",
    "            znaky[znak] = 1;\n",
    "        }\n",
    "    }\n",
    "\n",
    "    foreach((int key, int value) in znaky)\n",
    "    {\n",
    "        Console.WriteLine($\"{(char)key}: {value}\");\n",
    "    }\n",
    "}"
   ]
  }
 ],
 "metadata": {
  "kernelspec": {
   "display_name": ".NET (C#)",
   "language": "C#",
   "name": ".net-csharp"
  },
  "language_info": {
   "name": "polyglot-notebook"
  },
  "polyglot_notebook": {
   "kernelInfo": {
    "defaultKernelName": "csharp",
    "items": [
     {
      "aliases": [],
      "name": "csharp"
     }
    ]
   }
  }
 },
 "nbformat": 4,
 "nbformat_minor": 2
}
