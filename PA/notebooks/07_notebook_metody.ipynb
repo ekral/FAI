{
 "cells": [
  {
   "cell_type": "markdown",
   "metadata": {},
   "source": [
    "# 07 Metody\n",
    "**autor: Erik Král ekral@utb.cz**\n",
    "\n",
    "---\n",
    "\n",
    "Pro zvládnutí předmětu potřebujete vědět jak definovat metody ve třídách a strukturách, jak definovat parametry metody a jak předávat argumenty metodám a nakonec jak vrátit hodnotu z metody."
   ]
  },
  {
   "cell_type": "markdown",
   "metadata": {},
   "source": [
    "Na následujících příkladech si probereme jednotlivé příkazy. "
   ]
  },
  {
   "cell_type": "markdown",
   "metadata": {},
   "source": [
    "Nejprve si definujeme strukturu pro obélník, který bude mít definované rozměry `a` a `b`."
   ]
  },
  {
   "cell_type": "code",
   "execution_count": null,
   "metadata": {
    "dotnet_interactive": {
     "language": "csharp"
    },
    "polyglot_notebook": {
     "kernelName": "csharp"
    },
    "vscode": {
     "languageId": "polyglot-notebook"
    }
   },
   "outputs": [],
   "source": [
    "struct Obdelnik\n",
    "{\n",
    "    public double a;\n",
    "    public double b;\n",
    "}"
   ]
  },
  {
   "cell_type": "markdown",
   "metadata": {},
   "source": [
    "Dále nadefinujeme metodu, pomocí které můžeme změnit rozměry obdélníku. Typ `void` znamená, že metoda nevrací žádný typ a v kulatých závorkách uvádíme seznam parametrů oddělený čárkou. Pomocí klíčového slova `this` můžeme odlišit **field** od lokální proměnné nebo parametru."
   ]
  },
  {
   "cell_type": "code",
   "execution_count": null,
   "metadata": {
    "dotnet_interactive": {
     "language": "csharp"
    },
    "polyglot_notebook": {
     "kernelName": "csharp"
    },
    "vscode": {
     "languageId": "polyglot-notebook"
    }
   },
   "outputs": [],
   "source": [
    "struct Obdelnik\n",
    "{\n",
    "    public double a;\n",
    "    public double b;\n",
    "\n",
    "    public void ZmenRozmery(double a, double b)\n",
    "    {\n",
    "        this.a = a;\n",
    "        this.b = b;\n",
    "    }\n",
    "}\n",
    "\n"
   ]
  },
  {
   "cell_type": "markdown",
   "metadata": {},
   "source": [
    "Metodu potom zavoláme pomocí operátoru `.` a jména metody, kterému říkáme také identifikátor metody. Metodě potom předáváme v kulatých závorkách parametry pro její argumenty. Argumenty se předávají jako kopie hodnoty a parametry jsou na nich nezávislé."
   ]
  },
  {
   "cell_type": "code",
   "execution_count": null,
   "metadata": {
    "dotnet_interactive": {
     "language": "csharp"
    },
    "polyglot_notebook": {
     "kernelName": "csharp"
    },
    "vscode": {
     "languageId": "polyglot-notebook"
    }
   },
   "outputs": [],
   "source": [
    "Obdelnik o1 = new Obdelnik(); // rozmery budou 0,0\n",
    "o1.ZmenRozmery(2.0, 3.0);"
   ]
  },
  {
   "cell_type": "markdown",
   "metadata": {},
   "source": [
    "Metody také mohou vracet jednu hodnotu. V následujícím kódu definujeme metodu `VratObvod`, která má návratový typ `double` a nemá žádné parametry: "
   ]
  },
  {
   "cell_type": "code",
   "execution_count": 2,
   "metadata": {
    "dotnet_interactive": {
     "language": "csharp"
    },
    "polyglot_notebook": {
     "kernelName": "csharp"
    },
    "vscode": {
     "languageId": "polyglot-notebook"
    }
   },
   "outputs": [],
   "source": [
    "struct Obdelnik\n",
    "{\n",
    "    public double a;\n",
    "    public double b;\n",
    "\n",
    "    public void ZmenRozmery(double a, double b)\n",
    "    {\n",
    "        this.a = a;\n",
    "        this.b = b;\n",
    "    }\n",
    "\n",
    "    public double VratObvod()\n",
    "    {\n",
    "        return 2 * (a + b);\n",
    "    }\n",
    "}"
   ]
  },
  {
   "cell_type": "markdown",
   "metadata": {},
   "source": [
    "U metody, která má návratový typ jiný než `void` a tedy vrací hodnotu je výsledkém volání metody hodnota, kterou vrátila metoda. Tuto návratovou hodnotu v následujícím příkladu přiřazujeme pomocí operátoru `=` proměnné `obvod`."
   ]
  },
  {
   "cell_type": "code",
   "execution_count": 3,
   "metadata": {
    "dotnet_interactive": {
     "language": "csharp"
    },
    "polyglot_notebook": {
     "kernelName": "csharp"
    },
    "vscode": {
     "languageId": "polyglot-notebook"
    }
   },
   "outputs": [
    {
     "data": {
      "text/html": [
       "<div class=\"dni-plaintext\"><pre>10</pre></div><style>\r\n",
       ".dni-code-hint {\r\n",
       "    font-style: italic;\r\n",
       "    overflow: hidden;\r\n",
       "    white-space: nowrap;\r\n",
       "}\r\n",
       ".dni-treeview {\r\n",
       "    white-space: nowrap;\r\n",
       "}\r\n",
       ".dni-treeview td {\r\n",
       "    vertical-align: top;\r\n",
       "    text-align: start;\r\n",
       "}\r\n",
       "details.dni-treeview {\r\n",
       "    padding-left: 1em;\r\n",
       "}\r\n",
       "table td {\r\n",
       "    text-align: start;\r\n",
       "}\r\n",
       "table tr { \r\n",
       "    vertical-align: top; \r\n",
       "    margin: 0em 0px;\r\n",
       "}\r\n",
       "table tr td pre \r\n",
       "{ \r\n",
       "    vertical-align: top !important; \r\n",
       "    margin: 0em 0px !important;\r\n",
       "} \r\n",
       "table th {\r\n",
       "    text-align: start;\r\n",
       "}\r\n",
       "</style>"
      ]
     },
     "metadata": {},
     "output_type": "display_data"
    }
   ],
   "source": [
    "Obdelnik o1 = new Obdelnik(); // rozmery budou 0,0\n",
    "o1.ZmenRozmery(2.0, 3.0);\n",
    "\n",
    "double obvod = o1.VratObvod();\n",
    "\n",
    "obvod"
   ]
  },
  {
   "cell_type": "markdown",
   "metadata": {},
   "source": [
    "Pomocí `Tuples` můžeme vracet i více hodnot. V následujícím příkladu používáme dekompozici `(int x, int y) = trida.VratViceHodnot()`."
   ]
  },
  {
   "cell_type": "code",
   "execution_count": 7,
   "metadata": {
    "dotnet_interactive": {
     "language": "csharp"
    },
    "polyglot_notebook": {
     "kernelName": "csharp"
    },
    "vscode": {
     "languageId": "polyglot-notebook"
    }
   },
   "outputs": [
    {
     "name": "stdout",
     "output_type": "stream",
     "text": [
      "x: 1 y: 2\r\n"
     ]
    }
   ],
   "source": [
    "class Trida\n",
    "{\n",
    "    public (int x, int y) VratViceHodnot()\n",
    "    {\n",
    "        return (1,2);\n",
    "    }\n",
    "}\n",
    "\n",
    "Trida trida = new Trida();\n",
    "\n",
    "(int x, int y) = trida.VratViceHodnot();\n",
    "\n",
    "Console.WriteLine($\"x: {x} y: {y}\");\n"
   ]
  },
  {
   "cell_type": "markdown",
   "metadata": {},
   "source": [
    "Nebo můžu použít přímo strukturu `Tuple` a použít její fieldy, například `vysledek.x`,`vysledek.y`."
   ]
  },
  {
   "cell_type": "code",
   "execution_count": null,
   "metadata": {
    "dotnet_interactive": {
     "language": "csharp"
    },
    "polyglot_notebook": {
     "kernelName": "csharp"
    },
    "vscode": {
     "languageId": "polyglot-notebook"
    }
   },
   "outputs": [],
   "source": [
    "\n",
    "(int x, int y) vysledek = trida.VratViceHodnot();\n",
    "Console.WriteLine($\"x: {vysledek.x} y: {vysledek.y}\");\n"
   ]
  },
  {
   "cell_type": "markdown",
   "metadata": {},
   "source": [
    "Poznámka: Dekompozici můžeme použít i bez `Tuples`."
   ]
  },
  {
   "cell_type": "code",
   "execution_count": null,
   "metadata": {
    "dotnet_interactive": {
     "language": "csharp"
    },
    "polyglot_notebook": {
     "kernelName": "csharp"
    },
    "vscode": {
     "languageId": "polyglot-notebook"
    }
   },
   "outputs": [],
   "source": [
    "int a = 2;\n",
    "int b = 3;\n",
    "\n",
    "a = 7;\n",
    "b = 8;\n",
    "\n",
    "(a, b) = (7, 8);"
   ]
  },
  {
   "cell_type": "markdown",
   "metadata": {},
   "source": [
    "Dekompozice se dá použít i pro prohození hodnot proměných."
   ]
  },
  {
   "cell_type": "code",
   "execution_count": 8,
   "metadata": {
    "dotnet_interactive": {
     "language": "csharp"
    },
    "polyglot_notebook": {
     "kernelName": "csharp"
    },
    "vscode": {
     "languageId": "polyglot-notebook"
    }
   },
   "outputs": [],
   "source": [
    " int x = 2;\n",
    " int y = 3;\n",
    "\n",
    " (x, y) = (y, x);"
   ]
  },
  {
   "cell_type": "markdown",
   "metadata": {},
   "source": [
    "## Přetěžování metod\n",
    "\n",
    "Přetěžování metod (method overloading) znamená, že můžeme mít více metod se stejným názvem, pokud mají jiné parametry. V následujícím příkladu máme tři metody `Vypis`. První metoda má jeden parametr typu `int`, druhá dva parametry typu `int` a třetí má parametr typu `double`. Překladač potom podle typu argumentu zavolá správnou metodu `Vypis`.\n"
   ]
  },
  {
   "cell_type": "code",
   "execution_count": 1,
   "metadata": {
    "vscode": {
     "languageId": "polyglot-notebook"
    }
   },
   "outputs": [
    {
     "name": "stdout",
     "output_type": "stream",
     "text": [
      "int x: 3\n",
      "int x: 3 int y: 4 \n",
      "double x: 3\n"
     ]
    }
   ],
   "source": [
    "void Vypis(int x)\n",
    "{\n",
    "    Console.WriteLine($\"int x: {x}\");\n",
    "}\n",
    "\n",
    "void Vypis(int x, int y)\n",
    "{\n",
    "    Console.WriteLine($\"int x: {x} int y: {y} \");\n",
    "}\n",
    "\n",
    "void Vypis(double x)\n",
    "{\n",
    "    Console.WriteLine($\"double x: {x}\");\n",
    "}\n",
    "\n",
    "Vypis(3);\n",
    "Vypis(3, 4);\n",
    "Vypis(3.0);\n"
   ]
  },
  {
   "cell_type": "markdown",
   "metadata": {},
   "source": [
    "## Klíčová slova ref a out"
   ]
  },
  {
   "cell_type": "markdown",
   "metadata": {},
   "source": [
    "Pomocí klíčových slov `ref` a `out` můžeme předávat hodnotový typ jako referenci nebo předávat referenci na referenci u referenčního typu."
   ]
  },
  {
   "cell_type": "markdown",
   "metadata": {},
   "source": [
    "V následujícím příkladu předáváme argument cislo jako referenci a díky tomu mu může metoda `TryParse` přiřadit hodnotu."
   ]
  },
  {
   "cell_type": "code",
   "execution_count": 9,
   "metadata": {
    "dotnet_interactive": {
     "language": "csharp"
    },
    "polyglot_notebook": {
     "kernelName": "csharp"
    },
    "vscode": {
     "languageId": "polyglot-notebook"
    }
   },
   "outputs": [
    {
     "name": "stdout",
     "output_type": "stream",
     "text": [
      "7\r\n"
     ]
    }
   ],
   "source": [
    "bool ok = int.TryParse(\"7\", out int cislo);\n",
    "\n",
    "if(ok)\n",
    "{\n",
    "    Console.WriteLine(cislo);\n",
    "}"
   ]
  },
  {
   "cell_type": "markdown",
   "metadata": {},
   "source": [
    "Nyní si detailně projdeme příklad na použití klíčových slov `ref` a `out`. Nejprve si nadefinujeme třídu `Trida` s metodou `Zmen`, která má parametr `int x` a metodě mění tento parametr na hodnotu `0`. Tento parametr je nezávislá kopie argumentu `x` a pokud jej změníme na hodnotu `0` tak to nemá žádný vliv na argument `x`."
   ]
  },
  {
   "cell_type": "code",
   "execution_count": 10,
   "metadata": {
    "dotnet_interactive": {
     "language": "csharp"
    },
    "polyglot_notebook": {
     "kernelName": "csharp"
    },
    "vscode": {
     "languageId": "polyglot-notebook"
    }
   },
   "outputs": [
    {
     "data": {
      "text/html": [
       "<div class=\"dni-plaintext\"><pre>3</pre></div><style>\r\n",
       ".dni-code-hint {\r\n",
       "    font-style: italic;\r\n",
       "    overflow: hidden;\r\n",
       "    white-space: nowrap;\r\n",
       "}\r\n",
       ".dni-treeview {\r\n",
       "    white-space: nowrap;\r\n",
       "}\r\n",
       ".dni-treeview td {\r\n",
       "    vertical-align: top;\r\n",
       "    text-align: start;\r\n",
       "}\r\n",
       "details.dni-treeview {\r\n",
       "    padding-left: 1em;\r\n",
       "}\r\n",
       "table td {\r\n",
       "    text-align: start;\r\n",
       "}\r\n",
       "table tr { \r\n",
       "    vertical-align: top; \r\n",
       "    margin: 0em 0px;\r\n",
       "}\r\n",
       "table tr td pre \r\n",
       "{ \r\n",
       "    vertical-align: top !important; \r\n",
       "    margin: 0em 0px !important;\r\n",
       "} \r\n",
       "table th {\r\n",
       "    text-align: start;\r\n",
       "}\r\n",
       "</style>"
      ]
     },
     "metadata": {},
     "output_type": "display_data"
    }
   ],
   "source": [
    "class Trida\n",
    "{\n",
    "    public void Zmen(int x)\n",
    "    {\n",
    "        x = 0;\n",
    "    }\n",
    "}\n",
    "\n",
    "Trida trida = new Trida();\n",
    "\n",
    "int x = 3;\n",
    "\n",
    "trida.Zmen(x);\n",
    "\n",
    "x"
   ]
  },
  {
   "cell_type": "markdown",
   "metadata": {},
   "source": [
    "Pokud ale definujeme parametr typu `ref int` a argument metody předáme jako `ref x`, tak předáváme referenci na argument a změna proměnné na hodnotu `0` změní i předaný argument."
   ]
  },
  {
   "cell_type": "code",
   "execution_count": 12,
   "metadata": {
    "dotnet_interactive": {
     "language": "csharp"
    },
    "polyglot_notebook": {
     "kernelName": "csharp"
    },
    "vscode": {
     "languageId": "polyglot-notebook"
    }
   },
   "outputs": [
    {
     "data": {
      "text/html": [
       "<div class=\"dni-plaintext\"><pre>0</pre></div><style>\r\n",
       ".dni-code-hint {\r\n",
       "    font-style: italic;\r\n",
       "    overflow: hidden;\r\n",
       "    white-space: nowrap;\r\n",
       "}\r\n",
       ".dni-treeview {\r\n",
       "    white-space: nowrap;\r\n",
       "}\r\n",
       ".dni-treeview td {\r\n",
       "    vertical-align: top;\r\n",
       "    text-align: start;\r\n",
       "}\r\n",
       "details.dni-treeview {\r\n",
       "    padding-left: 1em;\r\n",
       "}\r\n",
       "table td {\r\n",
       "    text-align: start;\r\n",
       "}\r\n",
       "table tr { \r\n",
       "    vertical-align: top; \r\n",
       "    margin: 0em 0px;\r\n",
       "}\r\n",
       "table tr td pre \r\n",
       "{ \r\n",
       "    vertical-align: top !important; \r\n",
       "    margin: 0em 0px !important;\r\n",
       "} \r\n",
       "table th {\r\n",
       "    text-align: start;\r\n",
       "}\r\n",
       "</style>"
      ]
     },
     "metadata": {},
     "output_type": "display_data"
    }
   ],
   "source": [
    "class Trida\n",
    "{\n",
    "    public void Zmen(ref int x)\n",
    "    {\n",
    "        x = 0;\n",
    "    }\n",
    "}\n",
    "\n",
    "Trida trida = new Trida();\n",
    "\n",
    "int x = 3;\n",
    "\n",
    "trida.Zmen(ref x);\n",
    "\n",
    "x"
   ]
  },
  {
   "cell_type": "markdown",
   "metadata": {},
   "source": [
    "Klíčové slovo `out` je stejné jako `ref`, jen se vyžaduje aby měl parametr v metodě přiřazenou hodnotu."
   ]
  },
  {
   "cell_type": "code",
   "execution_count": 11,
   "metadata": {
    "dotnet_interactive": {
     "language": "csharp"
    },
    "polyglot_notebook": {
     "kernelName": "csharp"
    },
    "vscode": {
     "languageId": "polyglot-notebook"
    }
   },
   "outputs": [
    {
     "data": {
      "text/html": [
       "<div class=\"dni-plaintext\"><pre>1</pre></div><style>\r\n",
       ".dni-code-hint {\r\n",
       "    font-style: italic;\r\n",
       "    overflow: hidden;\r\n",
       "    white-space: nowrap;\r\n",
       "}\r\n",
       ".dni-treeview {\r\n",
       "    white-space: nowrap;\r\n",
       "}\r\n",
       ".dni-treeview td {\r\n",
       "    vertical-align: top;\r\n",
       "    text-align: start;\r\n",
       "}\r\n",
       "details.dni-treeview {\r\n",
       "    padding-left: 1em;\r\n",
       "}\r\n",
       "table td {\r\n",
       "    text-align: start;\r\n",
       "}\r\n",
       "table tr { \r\n",
       "    vertical-align: top; \r\n",
       "    margin: 0em 0px;\r\n",
       "}\r\n",
       "table tr td pre \r\n",
       "{ \r\n",
       "    vertical-align: top !important; \r\n",
       "    margin: 0em 0px !important;\r\n",
       "} \r\n",
       "table th {\r\n",
       "    text-align: start;\r\n",
       "}\r\n",
       "</style>"
      ]
     },
     "metadata": {},
     "output_type": "display_data"
    }
   ],
   "source": [
    "class Trida\n",
    "{\n",
    "    public void Zmen(out int x)\n",
    "    {\n",
    "        x = 0; // zkuste si zakomentovat tento radek a vyzkousejte kod s out int a ref int\n",
    "        ++x; // samotny radek bez predchoziho prirazeni nepujde prelozit\n",
    "    }\n",
    "}\n",
    "\n",
    "Trida trida = new Trida();\n",
    "\n",
    "int x = 3;\n",
    "\n",
    "trida.Zmen(out x);\n",
    "\n",
    "x"
   ]
  },
  {
   "cell_type": "markdown",
   "metadata": {},
   "source": [
    "### Referenční typ jako parametr metody\n",
    "\n",
    "Pokud je parametrem referenční typ, naříklad třída, tak se kopíruje reference, a obě reference, tedy parametr i argument odkazují na stejný objekt v paměti."
   ]
  },
  {
   "cell_type": "code",
   "execution_count": null,
   "metadata": {
    "dotnet_interactive": {
     "language": "csharp"
    },
    "polyglot_notebook": {
     "kernelName": "csharp"
    },
    "vscode": {
     "languageId": "polyglot-notebook"
    }
   },
   "outputs": [],
   "source": [
    "class Cislo\n",
    "{\n",
    "    public int x;\n",
    "}\n",
    "\n",
    "class Trida\n",
    "{\n",
    "    public void Zmen(Cislo cislo)\n",
    "    {\n",
    "        cislo.x = 0;\n",
    "    }\n",
    "}\n",
    "\n",
    "Cislo cislo = new Cislo();\n",
    "cislo.x = 3;\n",
    "\n",
    "Trida trida = new Trida();\n",
    "\n",
    "trida.Zmen(cislo);\n",
    "\n",
    "cislo.x\n"
   ]
  },
  {
   "cell_type": "markdown",
   "metadata": {},
   "source": [
    "### Struktura (hodnotový typ jako parametr metody)\n",
    "\n",
    "Struktura je hodnotový typ a parametr je nezávislou kopií argumentu."
   ]
  },
  {
   "cell_type": "code",
   "execution_count": null,
   "metadata": {
    "dotnet_interactive": {
     "language": "csharp"
    },
    "polyglot_notebook": {
     "kernelName": "csharp"
    },
    "vscode": {
     "languageId": "polyglot-notebook"
    }
   },
   "outputs": [],
   "source": [
    "struct Cislo\n",
    "{\n",
    "    public int x;\n",
    "}\n",
    "\n",
    "class Trida\n",
    "{\n",
    "    public void Zmen(Cislo cislo)\n",
    "    {\n",
    "        cislo.x = 0;\n",
    "    }\n",
    "}\n",
    "\n",
    "Cislo cislo = new Cislo();\n",
    "cislo.x = 3;\n",
    "\n",
    "Trida trida = new Trida();\n",
    "\n",
    "trida.Zmen(cislo);\n",
    "\n",
    "cislo.x"
   ]
  },
  {
   "cell_type": "markdown",
   "metadata": {},
   "source": [
    "### Pole jako parametr metody\n",
    "\n",
    "Pole je referenční typ a parametr i argument jsou dvě reference které odkazují na stejný objekt, tedy pole na haldě."
   ]
  },
  {
   "cell_type": "code",
   "execution_count": null,
   "metadata": {
    "dotnet_interactive": {
     "language": "csharp"
    },
    "polyglot_notebook": {
     "kernelName": "csharp"
    },
    "vscode": {
     "languageId": "polyglot-notebook"
    }
   },
   "outputs": [],
   "source": [
    "class Trida\n",
    "{\n",
    "    public void Zmen(int[] pole)\n",
    "    {\n",
    "        pole = new int[] { 0 };\n",
    "    }\n",
    "}\n",
    "\n",
    "int[] pole = new int[] { 1, 2, 3 };\n",
    "\n",
    "Trida trida = new Trida();\n",
    "\n",
    "trida.Zmen(pole);\n",
    "\n",
    "pole"
   ]
  }
 ],
 "metadata": {
  "kernelspec": {
   "display_name": ".NET (C#)",
   "language": "C#",
   "name": ".net-csharp"
  },
  "language_info": {
   "name": "csharp"
  },
  "polyglot_notebook": {
   "kernelInfo": {
    "defaultKernelName": "csharp",
    "items": [
     {
      "aliases": [],
      "name": "csharp"
     }
    ]
   }
  }
 },
 "nbformat": 4,
 "nbformat_minor": 2
}
