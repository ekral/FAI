{
 "cells": [
  {
   "cell_type": "markdown",
   "metadata": {},
   "source": [
    "## 10 Property\n",
    "**autor: Erik Král ekral@utb.cz**\n",
    "\n",
    "---\n",
    "\n",
    "Pro zvládnutí předmětu potřebujete umět definovat a používat property a auto-implemented property.\n",
    "\n",
    "Na následujících příkladech si probereme jednotlivé příkazy. "
   ]
  },
  {
   "cell_type": "markdown",
   "metadata": {},
   "source": [
    "Nejprve si definujeme třídu pro kruh, která bude mít `private` field `polomer` a `public` metody `VratPolomer` a `NastavPolomer`."
   ]
  },
  {
   "cell_type": "code",
   "execution_count": null,
   "metadata": {
    "dotnet_interactive": {
     "language": "csharp"
    },
    "polyglot_notebook": {
     "kernelName": "csharp"
    },
    "vscode": {
     "languageId": "polyglot-notebook"
    }
   },
   "outputs": [],
   "source": [
    "class Kruh\n",
    "{\n",
    "    private double polomer;\n",
    "\n",
    "    public double VratPolomer()\n",
    "    {\n",
    "        return polomer;\n",
    "    }\n",
    "\n",
    "    public void NastavPolomer(double polomer)\n",
    "    {\n",
    "        this.polomer = polomer;\n",
    "    }\n",
    "}"
   ]
  },
  {
   "cell_type": "markdown",
   "metadata": {},
   "source": [
    "V jazyku C# můžeme metody `VratPolomer` a `NastavPolomer`nahradit speciálním typem property. Zápis je potom jednodušší. Znak `_` v názvu backing fieldu `_polomer` je jen jmenná konvence a není povinný. Další jmennou konvencí je, že název property začíná velkým znakem."
   ]
  },
  {
   "cell_type": "code",
   "execution_count": null,
   "metadata": {
    "dotnet_interactive": {
     "language": "csharp"
    },
    "polyglot_notebook": {
     "kernelName": "csharp"
    },
    "vscode": {
     "languageId": "polyglot-notebook"
    }
   },
   "outputs": [],
   "source": [
    "class Kruh\n",
    "{\n",
    "    private double _polomer;\n",
    "\n",
    "    public double Polomer\n",
    "    {\n",
    "        get { return _polomer; }\n",
    "        set { _polomer = value; }\n",
    "    }\n",
    "}"
   ]
  },
  {
   "cell_type": "markdown",
   "metadata": {},
   "source": [
    "Property se potom používá stejně jako field."
   ]
  },
  {
   "cell_type": "code",
   "execution_count": null,
   "metadata": {
    "dotnet_interactive": {
     "language": "csharp"
    },
    "polyglot_notebook": {
     "kernelName": "csharp"
    },
    "vscode": {
     "languageId": "polyglot-notebook"
    }
   },
   "outputs": [],
   "source": [
    "Kruh kruh = new Kruh();\n",
    "kruh.Polomer = 10;\n",
    "Console.WriteLine(kruh.Polomer);"
   ]
  },
  {
   "cell_type": "markdown",
   "metadata": {},
   "source": [
    " Pokud tělo property neobsahuje žádný kód navíc, tak můžeme zápis property zjednodušit a použít auto-implemented property. A teprve až budeme chtít do části get nebo set něco přidat tak změníme property na plný zápis."
   ]
  },
  {
   "cell_type": "code",
   "execution_count": null,
   "metadata": {
    "dotnet_interactive": {
     "language": "csharp"
    },
    "polyglot_notebook": {
     "kernelName": "csharp"
    },
    "vscode": {
     "languageId": "polyglot-notebook"
    }
   },
   "outputs": [],
   "source": [
    "class Kruh\n",
    "{\n",
    "    public double Polomer { get; set; }\n",
    "}"
   ]
  },
  {
   "cell_type": "markdown",
   "metadata": {},
   "source": [
    "Například bychom mohli v propertě vypsat na konzoli text vždy když property čteme nebo měníme její hodnotu."
   ]
  },
  {
   "cell_type": "code",
   "execution_count": null,
   "metadata": {
    "dotnet_interactive": {
     "language": "csharp"
    },
    "polyglot_notebook": {
     "kernelName": "csharp"
    },
    "vscode": {
     "languageId": "polyglot-notebook"
    }
   },
   "outputs": [],
   "source": [
    "class Kruh\n",
    "{\n",
    "    private double _polomer;\n",
    "\n",
    "    public double Polomer\n",
    "    {\n",
    "        get { Console.WriteLine(\"Cteni property\"); return _polomer; }\n",
    "        set { _polomer = value; Console.WriteLine(\"Zmena property\"); }\n",
    "    }\n",
    "}"
   ]
  },
  {
   "cell_type": "markdown",
   "metadata": {},
   "source": [
    "## Readonly property\n",
    "\n",
    "Readonly property nemá setter a můžeme jí přiřadit hodnotu jen v konstruktoru. "
   ]
  },
  {
   "cell_type": "markdown",
   "metadata": {},
   "source": [
    "Následuje ukázka read-only autoimplemented property:"
   ]
  },
  {
   "cell_type": "code",
   "execution_count": 1,
   "metadata": {
    "vscode": {
     "languageId": "polyglot-notebook"
    }
   },
   "outputs": [],
   "source": [
    "class Student\n",
    "{\n",
    "    public string Jmeno { get; }\n",
    "\n",
    "    public Student(string jmeno)\n",
    "    {\n",
    "        Jmeno = jmeno;\n",
    "    }\n",
    "}"
   ]
  },
  {
   "cell_type": "markdown",
   "metadata": {},
   "source": [
    "Full property potom vypadá následovně. Oba zápisy nemají setter."
   ]
  },
  {
   "cell_type": "code",
   "execution_count": null,
   "metadata": {
    "vscode": {
     "languageId": "polyglot-notebook"
    }
   },
   "outputs": [],
   "source": [
    "class Student\n",
    "{\n",
    "    private readonly string jmeno;\n",
    "\n",
    "    public string Jmeno => jmeno;\n",
    "\n",
    "    public Student(string jmeno)\n",
    "    {\n",
    "        this.jmeno = jmeno;\n",
    "    }\n",
    "}"
   ]
  },
  {
   "cell_type": "markdown",
   "metadata": {},
   "source": [
    "Kde výraz `=>` představuje Expression Body syntaxi, tedy je zjednodušenou syntaxi pro jednořádkovou metodu. Kód by se dal rozepsat následujícím způsobem:"
   ]
  },
  {
   "cell_type": "code",
   "execution_count": 2,
   "metadata": {
    "vscode": {
     "languageId": "polyglot-notebook"
    }
   },
   "outputs": [],
   "source": [
    "class Student\n",
    "{\n",
    "    private readonly string jmeno;\n",
    "\n",
    "    public string Jmeno\n",
    "    {\n",
    "        get\n",
    "        {\n",
    "            return jmeno;\n",
    "        }\n",
    "    }\n",
    "\n",
    "    public Student(string jmeno)\n",
    "    {\n",
    "        this.jmeno = jmeno;\n",
    "    }\n",
    "}"
   ]
  },
  {
   "cell_type": "markdown",
   "metadata": {},
   "source": [
    "# Init Only Setter"
   ]
  },
  {
   "cell_type": "markdown",
   "metadata": {},
   "source": [
    "Init only setter používá klíčové slovo `init` místo `set`. Takovou property potom můžeme inicializovat kromě konstruktoru také v Object Initializeru. Po inicializaci můžeme takovou property už jen číst."
   ]
  },
  {
   "cell_type": "code",
   "execution_count": 4,
   "metadata": {
    "vscode": {
     "languageId": "polyglot-notebook"
    }
   },
   "outputs": [],
   "source": [
    "class Student\n",
    "{\n",
    "    public string? Jmeno { get; init; }\n",
    "}\n",
    "\n",
    "Student student = new Student() { Jmeno = \"Jiri\" };"
   ]
  },
  {
   "cell_type": "markdown",
   "metadata": {},
   "source": [
    "Full property s Init Only Setterem potom vypadá následovně:"
   ]
  },
  {
   "cell_type": "code",
   "execution_count": 5,
   "metadata": {
    "vscode": {
     "languageId": "polyglot-notebook"
    }
   },
   "outputs": [],
   "source": [
    "class Student\n",
    "{\n",
    "    private string? jmeno;\n",
    "\n",
    "    public string? Jmeno { get => jmeno; init => jmeno = value; }\n",
    "}"
   ]
  },
  {
   "cell_type": "markdown",
   "metadata": {},
   "source": [
    "---\n",
    "Kompletní příklady"
   ]
  },
  {
   "cell_type": "markdown",
   "metadata": {},
   "source": [
    "Full property"
   ]
  },
  {
   "cell_type": "code",
   "execution_count": null,
   "metadata": {
    "dotnet_interactive": {
     "language": "csharp"
    },
    "polyglot_notebook": {
     "kernelName": "csharp"
    },
    "vscode": {
     "languageId": "polyglot-notebook"
    }
   },
   "outputs": [],
   "source": [
    "Kruh kruh = new Kruh();\n",
    "kruh.Polomer = 10;\n",
    "Console.WriteLine(kruh.Polomer);\n",
    "\n",
    "class Kruh\n",
    "{\n",
    "    private double _polomer;\n",
    "\n",
    "    public double Polomer\n",
    "    {\n",
    "        get { return _polomer; }\n",
    "        set { _polomer = value; }\n",
    "    }\n",
    "}\n"
   ]
  },
  {
   "cell_type": "markdown",
   "metadata": {},
   "source": [
    "Autoimplemented property"
   ]
  },
  {
   "cell_type": "code",
   "execution_count": null,
   "metadata": {
    "dotnet_interactive": {
     "language": "csharp"
    },
    "polyglot_notebook": {
     "kernelName": "csharp"
    },
    "vscode": {
     "languageId": "polyglot-notebook"
    }
   },
   "outputs": [],
   "source": [
    "Kruh kruh = new Kruh();\n",
    "kruh.Polomer = 10;\n",
    "Console.WriteLine(kruh.Polomer);\n",
    "\n",
    "class Kruh\n",
    "{\n",
    "    public double Polomer { get; set; }\n",
    "}   \n"
   ]
  },
  {
   "cell_type": "markdown",
   "metadata": {},
   "source": [
    "Dodatečný kód v property"
   ]
  },
  {
   "cell_type": "code",
   "execution_count": null,
   "metadata": {
    "dotnet_interactive": {
     "language": "csharp"
    },
    "polyglot_notebook": {
     "kernelName": "csharp"
    },
    "vscode": {
     "languageId": "polyglot-notebook"
    }
   },
   "outputs": [],
   "source": [
    "Kruh kruh = new Kruh();\n",
    "kruh.Polomer = 10;\n",
    "Console.WriteLine(kruh.Polomer);\n",
    "\n",
    "class Kruh\n",
    "{\n",
    "    private double _polomer;\n",
    "\n",
    "    public double Polomer\n",
    "    {\n",
    "        get { Console.WriteLine(\"Cteni property\"); return _polomer; }\n",
    "        set { _polomer = value; Console.WriteLine(\"Zmena property\"); }\n",
    "    }\n",
    "}"
   ]
  },
  {
   "cell_type": "code",
   "execution_count": null,
   "metadata": {
    "dotnet_interactive": {
     "language": "csharp"
    },
    "polyglot_notebook": {
     "kernelName": "csharp"
    },
    "vscode": {
     "languageId": "polyglot-notebook"
    }
   },
   "outputs": [],
   "source": [
    "class Kruh\n",
    "{\n",
    "    public required double Polomer { get; init; }\n",
    "\n",
    "    public Kruh()\n",
    "    {\n",
    "     \n",
    "    }\n",
    "}"
   ]
  },
  {
   "cell_type": "code",
   "execution_count": null,
   "metadata": {
    "dotnet_interactive": {
     "language": "csharp"
    },
    "polyglot_notebook": {
     "kernelName": "csharp"
    },
    "vscode": {
     "languageId": "polyglot-notebook"
    }
   },
   "outputs": [],
   "source": [
    "Kruh kruh = new Kruh()\n",
    "{\n",
    "    \n",
    "};\n",
    "\n",
    "//kruh.Polomer = 3.0;"
   ]
  }
 ],
 "metadata": {
  "kernelspec": {
   "display_name": ".NET (C#)",
   "language": "C#",
   "name": ".net-csharp"
  },
  "language_info": {
   "name": "csharp"
  },
  "polyglot_notebook": {
   "kernelInfo": {
    "defaultKernelName": "csharp",
    "items": [
     {
      "aliases": [],
      "name": "csharp"
     }
    ]
   }
  }
 },
 "nbformat": 4,
 "nbformat_minor": 2
}
