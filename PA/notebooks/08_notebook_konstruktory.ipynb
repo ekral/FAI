{
 "cells": [
  {
   "cell_type": "markdown",
   "metadata": {},
   "source": [
    "# 08 Konstruktory\n",
    "**autor: Erik Král ekral@utb.cz**\n",
    "\n",
    "---\n",
    "\n",
    "Pro zvládnutí předmětu potřebujete vědět jak definovat konstruktory s parametry ve strukturách a třídách. "
   ]
  },
  {
   "cell_type": "markdown",
   "metadata": {},
   "source": [
    "Na následujících příkladech si probereme jednotlivé příkazy. "
   ]
  },
  {
   "cell_type": "markdown",
   "metadata": {},
   "source": [
    "Nejprve si definujeme strukturu pro obdelník, který bude mít definované rozměry `a` a `b`:"
   ]
  },
  {
   "cell_type": "code",
   "execution_count": 1,
   "metadata": {
    "dotnet_interactive": {
     "language": "csharp"
    },
    "polyglot_notebook": {
     "kernelName": "csharp"
    },
    "vscode": {
     "languageId": "polyglot-notebook"
    }
   },
   "outputs": [],
   "source": [
    "struct Obdelnik\n",
    "{\n",
    "    public double a;\n",
    "    public double b;\n",
    "\n",
    "    public Obdelnik(double na, double nb)\n",
    "    {\n",
    "        a = na;\n",
    "        b = nb;\n",
    "    }\n",
    "}"
   ]
  },
  {
   "cell_type": "markdown",
   "metadata": {},
   "source": [
    "Proměnnou typu `Obdelnik` vytvoříme následující způsobem, před prvním použitím musíme přiřadit všem fieldům hodnoty."
   ]
  },
  {
   "cell_type": "code",
   "execution_count": 4,
   "metadata": {
    "dotnet_interactive": {
     "language": "csharp"
    },
    "polyglot_notebook": {
     "kernelName": "csharp"
    },
    "vscode": {
     "languageId": "polyglot-notebook"
    }
   },
   "outputs": [
    {
     "name": "stdout",
     "output_type": "stream",
     "text": [
      "Obdelnik ma rozmery 2 x 3\r\n"
     ]
    }
   ],
   "source": [
    "Obdelnik[] pole = new Obdelnik[3];\n",
    "pole[0] = new Obdelnik(2.0, 3.0);\n",
    "\n",
    "Obdelnik o1;\n",
    "o1.a = 2.0;\n",
    "o1.b = 3.0;\n",
    "Console.WriteLine($\"Obdelnik ma rozmery {o1.a} x {o1.b}\");\n",
    "// vypise \"Obdelnik ma rozmery 2 x 3\""
   ]
  },
  {
   "cell_type": "markdown",
   "metadata": {},
   "source": [
    "Pomocí výrazu `new Obdelnik()` můžeme přiřadit fieldům `a` a `b` výchozí hodnoty, tedy v případě typu `double` hodnoty `0`."
   ]
  },
  {
   "cell_type": "code",
   "execution_count": 3,
   "metadata": {
    "dotnet_interactive": {
     "language": "csharp"
    },
    "polyglot_notebook": {
     "kernelName": "csharp"
    },
    "vscode": {
     "languageId": "polyglot-notebook"
    }
   },
   "outputs": [
    {
     "name": "stdout",
     "output_type": "stream",
     "text": [
      "Obdelnik ma rozmery 0 x 0\r\n"
     ]
    }
   ],
   "source": [
    "Obdelnik o1 = new Obdelnik();\n",
    "Console.WriteLine($\"Obdelnik ma rozmery {o1.a} x {o1.b}\");\n",
    "// vypise \"Obdelnik ma rozmery 0 x 0\""
   ]
  },
  {
   "cell_type": "markdown",
   "metadata": {},
   "source": [
    "Do struktury můžeme přidat konstruktor s jedním nebo více parametry a v něm nastavit výchozí hodnoty fieldů. Konstruktor je metoda, která nemá žádný návratový typ ani `void` a jmenuje se stejně jako struktura."
   ]
  },
  {
   "cell_type": "code",
   "execution_count": 5,
   "metadata": {
    "dotnet_interactive": {
     "language": "csharp"
    },
    "polyglot_notebook": {
     "kernelName": "csharp"
    },
    "vscode": {
     "languageId": "polyglot-notebook"
    }
   },
   "outputs": [],
   "source": [
    "struct Obdelnik\n",
    "{\n",
    "    public double a;\n",
    "    public double b;\n",
    "\n",
    "    public Obdelnik(double a, double b)\n",
    "    {\n",
    "        this.a = a;\n",
    "        this.b = b;\n",
    "    }\n",
    "}"
   ]
  },
  {
   "cell_type": "markdown",
   "metadata": {},
   "source": [
    "Konstrukru potom můžeme předat jako argumenty výchozí hodnoty fieldů, například pomocí výrazu `new Obdelnik(2.0, 3.0)` můžeme přiřadit fieldům `a` a `b` výchozí hodnoty `2.0 ` respektive `3.0 `."
   ]
  },
  {
   "cell_type": "code",
   "execution_count": 6,
   "metadata": {
    "dotnet_interactive": {
     "language": "csharp"
    },
    "polyglot_notebook": {
     "kernelName": "csharp"
    },
    "vscode": {
     "languageId": "polyglot-notebook"
    }
   },
   "outputs": [
    {
     "name": "stdout",
     "output_type": "stream",
     "text": [
      "Obdelnik ma rozmery 2 x 3\r\n"
     ]
    }
   ],
   "source": [
    "Obdelnik o1 = new Obdelnik(2.0, 3.0);\n",
    "Console.WriteLine($\"Obdelnik ma rozmery {o1.a} x {o1.b}\");\n",
    "// vypise \"Obdelnik ma rozmery 2 x 3\""
   ]
  },
  {
   "cell_type": "markdown",
   "metadata": {},
   "source": [
    "## Klíčové slovo required a Object Initializer\n",
    "\n",
    "Object Initializer představuje zápis ve složených závorkách ve kterém můžeme inicializovat členské prvky."
   ]
  },
  {
   "cell_type": "code",
   "execution_count": null,
   "metadata": {
    "vscode": {
     "languageId": "polyglot-notebook"
    }
   },
   "outputs": [],
   "source": [
    "class Obdelnik\n",
    "{\n",
    "    public int id;\n",
    "    public double a;\n",
    "    public double b;\n",
    "\n",
    "    public Obdelnik(double a, double b)\n",
    "    {\n",
    "        this.a = a;\n",
    "        this.b = b;\n",
    "    }\n",
    "}\n",
    "\n",
    "Obdelnik obdelnik = new Obdelnik(2.0, 3.0) { id = 1 }; // Object initializer"
   ]
  },
  {
   "cell_type": "markdown",
   "metadata": {},
   "source": [
    "Alternativou pro konstruktor je klíčové slovo `required` které určuje, že hodnota fieldu nebo property musí být přiřazená v **object initializéru**. Property probereme později."
   ]
  },
  {
   "cell_type": "code",
   "execution_count": null,
   "metadata": {
    "vscode": {
     "languageId": "polyglot-notebook"
    }
   },
   "outputs": [],
   "source": [
    "class Student\n",
    "{\n",
    "    public required int id;\n",
    "    public required string Name {get;set;}\n",
    "}\n",
    "\n",
    "Student student = new Student() { id = 1, Name = \"John\"}; \n"
   ]
  },
  {
   "cell_type": "markdown",
   "metadata": {},
   "source": [
    "---\n",
    "Následují dva kompletní příklady."
   ]
  },
  {
   "cell_type": "markdown",
   "metadata": {},
   "source": [
    "Příklad: Komplexní číslo"
   ]
  },
  {
   "cell_type": "code",
   "execution_count": null,
   "metadata": {
    "dotnet_interactive": {
     "language": "csharp"
    },
    "polyglot_notebook": {
     "kernelName": "csharp"
    },
    "vscode": {
     "languageId": "polyglot-notebook"
    }
   },
   "outputs": [],
   "source": [
    "struct Komplexni\n",
    "{\n",
    "    public double re;\n",
    "    public double im;\n",
    "\n",
    "    public Komplexni(double re, double im)\n",
    "    {\n",
    "        this.re = re;\n",
    "        this.im = im;\n",
    "    }\n",
    "}\n",
    "\n",
    "Komplexni c1 = new Komplexni(2.0, 3.0);\n",
    "Console.WriteLine($\"Komplexni cislo ma hodnotu {c1.re} + {c1.im}i\");"
   ]
  },
  {
   "cell_type": "markdown",
   "metadata": {},
   "source": [
    "Příklad: Obdelník"
   ]
  },
  {
   "cell_type": "code",
   "execution_count": null,
   "metadata": {
    "dotnet_interactive": {
     "language": "csharp"
    },
    "polyglot_notebook": {
     "kernelName": "csharp"
    },
    "vscode": {
     "languageId": "polyglot-notebook"
    }
   },
   "outputs": [],
   "source": [
    "struct Obdelnik\n",
    "{\n",
    "    public double a;\n",
    "    public double b;\n",
    "\n",
    "    public Obdelnik(double a, double b)\n",
    "    {\n",
    "        this.a = a;\n",
    "        this.b = b;\n",
    "    }\n",
    "}\n",
    "\n",
    "Obdelnik o1 = new Obdelnik(2.0, 3.0);\n",
    "Console.WriteLine($\"Obdelnik ma rozmery {o1.a} x {o1.b}\");"
   ]
  }
 ],
 "metadata": {
  "kernelspec": {
   "display_name": ".NET (C#)",
   "language": "C#",
   "name": ".net-csharp"
  },
  "language_info": {
   "name": "python"
  },
  "polyglot_notebook": {
   "kernelInfo": {
    "defaultKernelName": "csharp",
    "items": [
     {
      "aliases": [],
      "name": "csharp"
     }
    ]
   }
  }
 },
 "nbformat": 4,
 "nbformat_minor": 2
}
