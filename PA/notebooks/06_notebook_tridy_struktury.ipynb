{
 "cells": [
  {
   "cell_type": "markdown",
   "metadata": {},
   "source": [
    "# 06 Třídy a struktury\n",
    "**autor: Erik Král ekral@utb.cz**\n",
    "\n",
    "---\n",
    "\n",
    "Pro zvládnutí předmětu potřebujete vědět jak deklarovat třídy a struktury, definovat promenou typu struktura, inicializovat vychozi hodnoty a pracovat s prvky struktury (fields). "
   ]
  },
  {
   "cell_type": "markdown",
   "metadata": {},
   "source": [
    "Na následujících příkladech si probereme jednotlivé příkazy. "
   ]
  },
  {
   "cell_type": "markdown",
   "metadata": {},
   "source": [
    "## Třída\n",
    "\n",
    "Třídu deklarujeme pomocí klíčového slova `class`. Pokud chceme přistupovat k fieldům třídy mimo třídu v klientském kódu, tak je musíme deklarovat jako `public`. Následující příklad definuje třídu `Student` s fieldy `Jmeno` a `Id`. Typ `string?` představuje nullable `string`, který může mít hodnotu `null`. Více probereme v souvislosti s konstruktorem."
   ]
  },
  {
   "cell_type": "code",
   "execution_count": 18,
   "metadata": {
    "vscode": {
     "languageId": "polyglot-notebook"
    }
   },
   "outputs": [],
   "source": [
    "class Student\n",
    "{\n",
    "    public int Id;\n",
    "    public string? Jmeno;\n",
    "}"
   ]
  },
  {
   "cell_type": "markdown",
   "metadata": {},
   "source": [
    "Instanci třídy vytvoříme pomocí klíčového slova `new`. Klíčové slovo new alokuje paměť na haldě, což je volná paměť, kterou operační systém přiřazuje procesům. Dále operátor zavolá konstruktor, což probereme později. A nakonec operátor `new` vrací referenci, zjednodušeně adresu na alokovanou paměť."
   ]
  },
  {
   "cell_type": "code",
   "execution_count": 19,
   "metadata": {
    "vscode": {
     "languageId": "polyglot-notebook"
    }
   },
   "outputs": [],
   "source": [
    "Student s1 = new Student();"
   ]
  },
  {
   "cell_type": "markdown",
   "metadata": {},
   "source": [
    "K fieldům instance třídy potom přistupujeme pomocí operátoru přímého přístupu `.`."
   ]
  },
  {
   "cell_type": "code",
   "execution_count": 20,
   "metadata": {
    "vscode": {
     "languageId": "polyglot-notebook"
    }
   },
   "outputs": [],
   "source": [
    "s1.Id = 1;\n",
    "s1.Jmeno = \"Petr\";"
   ]
  },
  {
   "cell_type": "markdown",
   "metadata": {},
   "source": [
    "Při přiřazení hodnoty se kopíruje reference (zjednodušeně adresa) na instanci studenta (objekt) na haldě. Obě reference `s1` a `s2` odkazuji na stejný objekt na haldě. Pokud změníme jméno `s1.Jmeno`, tak se změní i `s2.Jmeno`."
   ]
  },
  {
   "cell_type": "code",
   "execution_count": 26,
   "metadata": {
    "dotnet_interactive": {
     "language": "csharp"
    },
    "polyglot_notebook": {
     "kernelName": "csharp"
    },
    "vscode": {
     "languageId": "polyglot-notebook"
    }
   },
   "outputs": [
    {
     "name": "stdout",
     "output_type": "stream",
     "text": [
      "s1: Alena\n",
      "s2: Alena\n"
     ]
    }
   ],
   "source": [
    "Student s1 = new Student();\n",
    "\n",
    "s1.Id = 1;\n",
    "s1.Jmeno = \"Petr\";\n",
    "\n",
    "Student s2 = s1;\n",
    "\n",
    "s2.Jmeno = \"Alena\";\n",
    "\n",
    "Console.WriteLine($\"s1: {s1.Jmeno}\");\n",
    "Console.WriteLine($\"s2: {s2.Jmeno}\");"
   ]
  },
  {
   "cell_type": "markdown",
   "metadata": {},
   "source": [
    "Pokud je třída parametrem metody, tak se vytvoří kopie reference a obě reference, jak argument tak parametr metody odkazují na stejný objekt v paměti."
   ]
  },
  {
   "cell_type": "code",
   "execution_count": 27,
   "metadata": {
    "vscode": {
     "languageId": "polyglot-notebook"
    }
   },
   "outputs": [
    {
     "data": {
      "text/html": [
       "<details open=\"open\" class=\"dni-treeview\"><summary><span class=\"dni-code-hint\"><code>Submission#19+Student</code></span></summary><div><table><thead><tr></tr></thead><tbody><tr><td>Id</td><td><div class=\"dni-plaintext\"><pre>0</pre></div></td></tr><tr><td>Jmeno</td><td><div class=\"dni-plaintext\"><pre>Alice</pre></div></td></tr></tbody></table></div></details><style>\r\n",
       ".dni-code-hint {\r\n",
       "    font-style: italic;\r\n",
       "    overflow: hidden;\r\n",
       "    white-space: nowrap;\r\n",
       "}\r\n",
       ".dni-treeview {\r\n",
       "    white-space: nowrap;\r\n",
       "}\r\n",
       ".dni-treeview td {\r\n",
       "    vertical-align: top;\r\n",
       "    text-align: start;\r\n",
       "}\r\n",
       "details.dni-treeview {\r\n",
       "    padding-left: 1em;\r\n",
       "}\r\n",
       "table td {\r\n",
       "    text-align: start;\r\n",
       "}\r\n",
       "table tr { \r\n",
       "    vertical-align: top; \r\n",
       "    margin: 0em 0px;\r\n",
       "}\r\n",
       "table tr td pre \r\n",
       "{ \r\n",
       "    vertical-align: top !important; \r\n",
       "    margin: 0em 0px !important;\r\n",
       "} \r\n",
       "table th {\r\n",
       "    text-align: start;\r\n",
       "}\r\n",
       "</style>"
      ]
     },
     "metadata": {},
     "output_type": "display_data"
    }
   ],
   "source": [
    "void Metoda(Student student)\n",
    "{\n",
    "    student.Id = 0;\n",
    "    student.Jmeno = \"Alice\";\n",
    "}\n",
    "\n",
    "Student s3 = new Student();\n",
    "\n",
    "s3.Jmeno = \"Karel\";\n",
    "s3.Id = 2;\n",
    "\n",
    "Metoda(s3);\n",
    "\n",
    "s3"
   ]
  },
  {
   "cell_type": "markdown",
   "metadata": {},
   "source": [
    "## Struktura\n",
    "\n",
    "Struktura je velmi podobná na třídu, jen jde o hodnotový typ. Strukturu deklarujeme pomocí klíčového slova `struct`. Pokud chceme přistupovat k fieldům mimo strukturu, tak je musíme deklarovat jako `public`. Následující příklad definuje strukturu pro dvourozměrný bod s public fieldy `X` a `Y`."
   ]
  },
  {
   "cell_type": "code",
   "execution_count": 28,
   "metadata": {
    "dotnet_interactive": {
     "language": "csharp"
    },
    "polyglot_notebook": {
     "kernelName": "csharp"
    },
    "vscode": {
     "languageId": "polyglot-notebook"
    }
   },
   "outputs": [],
   "source": [
    "struct Bod\n",
    "{\n",
    "    public double X;\n",
    "    public double Y;\n",
    "}"
   ]
  },
  {
   "cell_type": "markdown",
   "metadata": {},
   "source": [
    "Proměnnou typu struktura definujeme stejným způsobem jako zabudované typy. V následujícím příkladu definujeme proměnnou `b1` typu `Bod`. Nemusíme tedy používat operátor `new` jako u třídy."
   ]
  },
  {
   "cell_type": "code",
   "execution_count": 11,
   "metadata": {
    "dotnet_interactive": {
     "language": "csharp"
    },
    "polyglot_notebook": {
     "kernelName": "csharp"
    },
    "vscode": {
     "languageId": "polyglot-notebook"
    }
   },
   "outputs": [
    {
     "data": {
      "text/html": [
       "<details open=\"open\" class=\"dni-treeview\"><summary><span class=\"dni-code-hint\"><code>Submission#11+Bod</code></span></summary><div><table><thead><tr></tr></thead><tbody><tr><td>X</td><td><div class=\"dni-plaintext\"><pre>0</pre></div></td></tr><tr><td>Y</td><td><div class=\"dni-plaintext\"><pre>0</pre></div></td></tr></tbody></table></div></details><style>\r\n",
       ".dni-code-hint {\r\n",
       "    font-style: italic;\r\n",
       "    overflow: hidden;\r\n",
       "    white-space: nowrap;\r\n",
       "}\r\n",
       ".dni-treeview {\r\n",
       "    white-space: nowrap;\r\n",
       "}\r\n",
       ".dni-treeview td {\r\n",
       "    vertical-align: top;\r\n",
       "    text-align: start;\r\n",
       "}\r\n",
       "details.dni-treeview {\r\n",
       "    padding-left: 1em;\r\n",
       "}\r\n",
       "table td {\r\n",
       "    text-align: start;\r\n",
       "}\r\n",
       "table tr { \r\n",
       "    vertical-align: top; \r\n",
       "    margin: 0em 0px;\r\n",
       "}\r\n",
       "table tr td pre \r\n",
       "{ \r\n",
       "    vertical-align: top !important; \r\n",
       "    margin: 0em 0px !important;\r\n",
       "} \r\n",
       "table th {\r\n",
       "    text-align: start;\r\n",
       "}\r\n",
       "</style>"
      ]
     },
     "metadata": {},
     "output_type": "display_data"
    }
   ],
   "source": [
    "Bod b1; \n",
    "b1"
   ]
  },
  {
   "cell_type": "markdown",
   "metadata": {},
   "source": [
    "K fieldům stejně jako u třídy přistupujeme pomocí operátoru přímého přístupu `.`. Každý field musí mít před prvním použitím přiřazenou hodnotu."
   ]
  },
  {
   "cell_type": "code",
   "execution_count": 12,
   "metadata": {
    "vscode": {
     "languageId": "polyglot-notebook"
    }
   },
   "outputs": [
    {
     "name": "stdout",
     "output_type": "stream",
     "text": [
      "Bod b1 ma souradnice 2 a 3\r\n"
     ]
    }
   ],
   "source": [
    "Bod b1;\n",
    "b1.X = 2;\n",
    "b1.Y = 3;\n",
    "\n",
    "Console.WriteLine($\"Bod b1 ma souradnice {b1.X} a {b1.Y}\");"
   ]
  },
  {
   "cell_type": "markdown",
   "metadata": {},
   "source": [
    "Výchozí hodnoty struktury získáme pomocí zápisu `new Bod()`. Pozor, u struktur nejde o alokaci paměti na haldě, jen o získání objektu s inicializovanými výchozími hodnotami fieldů. "
   ]
  },
  {
   "cell_type": "code",
   "execution_count": 3,
   "metadata": {
    "dotnet_interactive": {
     "language": "csharp"
    },
    "polyglot_notebook": {
     "kernelName": "csharp"
    },
    "vscode": {
     "languageId": "polyglot-notebook"
    }
   },
   "outputs": [
    {
     "name": "stdout",
     "output_type": "stream",
     "text": [
      "Vychozi hodnoty jsou 0 a 0\r\n"
     ]
    }
   ],
   "source": [
    "Bod b1 = new Bod();\n",
    "Console.WriteLine($\"Vychozi hodnoty jsou {b1.X} a {b1.Y}\");"
   ]
  },
  {
   "cell_type": "markdown",
   "metadata": {},
   "source": [
    "Stejně jako u zabudovaných typů se při přiřazení hodnoty kopíruje hodnota v paměti. Relační, aritmetické a další operátory bychom ale museli sami definovat."
   ]
  },
  {
   "cell_type": "code",
   "execution_count": 29,
   "metadata": {
    "vscode": {
     "languageId": "polyglot-notebook"
    }
   },
   "outputs": [
    {
     "name": "stdout",
     "output_type": "stream",
     "text": [
      "b1: 2\n",
      "b2: 7\n"
     ]
    }
   ],
   "source": [
    "Bod b1;\n",
    "\n",
    "b1.X = 2;\n",
    "b1.Y = 3;\n",
    "\n",
    "Bod b2 = b1;\n",
    "\n",
    "b2.X = 7;\n",
    "\n",
    "Console.WriteLine($\"b1: {b1.X}\");\n",
    "Console.WriteLine($\"b2: {b2.X}\");\n"
   ]
  },
  {
   "cell_type": "markdown",
   "metadata": {},
   "source": [
    "Pokud je struktura parametrem metody, tak se vytvoří nezávislá kopie struktury."
   ]
  },
  {
   "cell_type": "code",
   "execution_count": 32,
   "metadata": {
    "dotnet_interactive": {
     "language": "csharp"
    },
    "polyglot_notebook": {
     "kernelName": "csharp"
    },
    "vscode": {
     "languageId": "polyglot-notebook"
    }
   },
   "outputs": [],
   "source": [
    "void Metoda(Bod bod)\n",
    "{\n",
    "    bod.X = 0;\n",
    "    bod.Y = 0;\n",
    "}"
   ]
  },
  {
   "cell_type": "code",
   "execution_count": 31,
   "metadata": {
    "dotnet_interactive": {
     "language": "csharp"
    },
    "polyglot_notebook": {
     "kernelName": "csharp"
    },
    "vscode": {
     "languageId": "polyglot-notebook"
    }
   },
   "outputs": [
    {
     "data": {
      "text/html": [
       "<details open=\"open\" class=\"dni-treeview\"><summary><span class=\"dni-code-hint\"><code>Submission#29+Bod</code></span></summary><div><table><thead><tr></tr></thead><tbody><tr><td>X</td><td><div class=\"dni-plaintext\"><pre>5</pre></div></td></tr><tr><td>Y</td><td><div class=\"dni-plaintext\"><pre>7</pre></div></td></tr></tbody></table></div></details><style>\r\n",
       ".dni-code-hint {\r\n",
       "    font-style: italic;\r\n",
       "    overflow: hidden;\r\n",
       "    white-space: nowrap;\r\n",
       "}\r\n",
       ".dni-treeview {\r\n",
       "    white-space: nowrap;\r\n",
       "}\r\n",
       ".dni-treeview td {\r\n",
       "    vertical-align: top;\r\n",
       "    text-align: start;\r\n",
       "}\r\n",
       "details.dni-treeview {\r\n",
       "    padding-left: 1em;\r\n",
       "}\r\n",
       "table td {\r\n",
       "    text-align: start;\r\n",
       "}\r\n",
       "table tr { \r\n",
       "    vertical-align: top; \r\n",
       "    margin: 0em 0px;\r\n",
       "}\r\n",
       "table tr td pre \r\n",
       "{ \r\n",
       "    vertical-align: top !important; \r\n",
       "    margin: 0em 0px !important;\r\n",
       "} \r\n",
       "table th {\r\n",
       "    text-align: start;\r\n",
       "}\r\n",
       "</style>"
      ]
     },
     "metadata": {},
     "output_type": "display_data"
    }
   ],
   "source": [
    "Bod b3;\n",
    "\n",
    "b3.X = 5;\n",
    "b3.Y = 7;\n",
    "\n",
    "Metoda(b3);\n",
    "\n",
    "b3"
   ]
  },
  {
   "cell_type": "markdown",
   "metadata": {},
   "source": [
    "Struktura se ukládá na zásobník. Kdy zásobník probíráme v tématu Zasobnik_halda_reference."
   ]
  }
 ],
 "metadata": {
  "kernelspec": {
   "display_name": ".NET (C#)",
   "language": "C#",
   "name": ".net-csharp"
  },
  "language_info": {
   "name": "csharp"
  },
  "polyglot_notebook": {
   "kernelInfo": {
    "defaultKernelName": "csharp",
    "items": [
     {
      "aliases": [],
      "name": "csharp"
     }
    ]
   }
  }
 },
 "nbformat": 4,
 "nbformat_minor": 2
}
