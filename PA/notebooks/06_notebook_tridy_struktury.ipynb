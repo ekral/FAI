{
 "cells": [
  {
   "cell_type": "markdown",
   "metadata": {},
   "source": [
    "# 06 Třídy a struktury\n",
    "**autor: Erik Král ekral@utb.cz**\n",
    "\n",
    "---\n",
    "\n",
    "Pro zvládnutí předmětu potřebujete vědět jak deklarovat třídy a struktury, definovat promenou typu struktura, inicializovat vychozi hodnoty a pracovat s prvky struktury (fields). "
   ]
  },
  {
   "cell_type": "markdown",
   "metadata": {},
   "source": [
    "Na následujících příkladech si probereme jednotlivé příkazy. "
   ]
  },
  {
   "cell_type": "markdown",
   "metadata": {},
   "source": [
    "## Zásobník a halda\n",
    "\n",
    "V následujícím textu budeme používat pojmy zásobník a halda.\n",
    "\n",
    "### Zásobník\n",
    "\n",
    "Každý program si alokuje po spuštění řádově megabajty paměti pro lokální proměnné, návratové adresy funkcí a případně další data.\n",
    "S touto pamětí se potom pracuje jako se zásobníkem a také se jí tak říká.\n",
    "\n",
    "### Halda\n",
    "\n",
    "Pokud program potřebuje za běhu více paměti, tak může požádat prostřednictvím runtime jazyka o přidělení více paměti.\n",
    "Program potom získá adresu (referenci) prvního bajtu takto alokované paměti.\n",
    "\n"
   ]
  },
  {
   "cell_type": "markdown",
   "metadata": {},
   "source": [
    "## Třída\n",
    "\n",
    "Třídu deklarujeme pomocí klíčového slova `class`. Pokud chceme přistupovat k fieldům třídy mimo třídu v klientském kódu, tak je musíme deklarovat jako `public`. Následující příklad definuje třídu `Student` s fieldy `Jmeno` a `Id`. Typ `string?` představuje nullable `string`, který může mít hodnotu `null`. Více probereme v souvislosti s konstruktorem."
   ]
  },
  {
   "cell_type": "code",
   "execution_count": 1,
   "metadata": {
    "dotnet_interactive": {
     "language": "csharp"
    },
    "polyglot_notebook": {
     "kernelName": "csharp"
    }
   },
   "outputs": [],
   "source": [
    "class Student\n",
    "{\n",
    "    public int Id;\n",
    "    public string? Jmeno;\n",
    "}"
   ]
  },
  {
   "cell_type": "markdown",
   "metadata": {},
   "source": [
    "Instanci třídy vytvoříme pomocí klíčového slova `new`. Klíčové slovo `new` alokuje paměť na haldě, což je volná paměť, kterou operační systém přiřazuje procesům. Dále operátor zavolá konstruktor, což probereme později. A nakonec operátor `new` vrací referenci, zjednodušeně adresu na alokovanou paměť."
   ]
  },
  {
   "cell_type": "code",
   "execution_count": 3,
   "metadata": {
    "dotnet_interactive": {
     "language": "csharp"
    },
    "polyglot_notebook": {
     "kernelName": "csharp"
    }
   },
   "outputs": [],
   "source": [
    "Student s1 = new Student();"
   ]
  },
  {
   "cell_type": "markdown",
   "metadata": {},
   "source": [
    "K fieldům instance třídy potom přistupujeme pomocí operátoru přímého přístupu `.`."
   ]
  },
  {
   "cell_type": "code",
   "execution_count": 4,
   "metadata": {
    "dotnet_interactive": {
     "language": "csharp"
    },
    "polyglot_notebook": {
     "kernelName": "csharp"
    }
   },
   "outputs": [],
   "source": [
    "s1.Id = 1;\n",
    "s1.Jmeno = \"Petr\";"
   ]
  },
  {
   "cell_type": "markdown",
   "metadata": {},
   "source": [
    "Při přiřazení hodnoty se kopíruje reference (zjednodušeně adresa) na instanci studenta (objekt) na haldě. Obě reference `s1` a `s2` odkazuji na stejný objekt na haldě. Pokud změníme jméno `s1.Jmeno`, tak se změní i `s2.Jmeno`."
   ]
  },
  {
   "cell_type": "code",
   "execution_count": 5,
   "metadata": {
    "dotnet_interactive": {
     "language": "csharp"
    },
    "polyglot_notebook": {
     "kernelName": "csharp"
    }
   },
   "outputs": [
    {
     "name": "stdout",
     "output_type": "stream",
     "text": [
      "s1: Alena\n",
      "s2: Alena\n"
     ]
    }
   ],
   "source": [
    "Student s1 = new Student();\n",
    "\n",
    "s1.Id = 1;\n",
    "s1.Jmeno = \"Petr\";\n",
    "\n",
    "Student s2 = s1;\n",
    "\n",
    "s2.Jmeno = \"Alena\";\n",
    "\n",
    "Console.WriteLine($\"s1: {s1.Jmeno}\");\n",
    "Console.WriteLine($\"s2: {s2.Jmeno}\");"
   ]
  },
  {
   "cell_type": "markdown",
   "metadata": {},
   "source": [
    "Pokud je třída parametrem metody, tak se vytvoří kopie reference a obě reference, jak argument tak parametr metody odkazují na stejný objekt v paměti."
   ]
  },
  {
   "cell_type": "code",
   "execution_count": 6,
   "metadata": {
    "dotnet_interactive": {
     "language": "csharp"
    },
    "polyglot_notebook": {
     "kernelName": "csharp"
    }
   },
   "outputs": [
    {
     "name": "stdout",
     "output_type": "stream",
     "text": [
      "s3: 0: Alice\r\n"
     ]
    }
   ],
   "source": [
    "void Metoda(Student student)\n",
    "{\n",
    "    student.Id = 0;\n",
    "    student.Jmeno = \"Alice\";\n",
    "}\n",
    "\n",
    "Student s3 = new Student();\n",
    "\n",
    "s3.Jmeno = \"Karel\";\n",
    "s3.Id = 2;\n",
    "\n",
    "Metoda(s3);\n",
    "\n",
    "Console.WriteLine($\"s3: {s3.Id}: {s3.Jmeno}\");"
   ]
  },
  {
   "cell_type": "markdown",
   "metadata": {},
   "source": [
    "## Nullable referenční typy\n",
    "\n",
    "Pomocí znaku `?` za referenčním typem značíme, zda je pro proměnnou platná null hodnota. Pokud je referenční typ bez otazníku, tak musí mít vždy přiřazenou nenulovou hodnotu."
   ]
  },
  {
   "cell_type": "code",
   "execution_count": null,
   "metadata": {
    "language_info": {
     "name": "polyglot-notebook"
    },
    "polyglot_notebook": {
     "kernelName": "csharp"
    }
   },
   "outputs": [],
   "source": [
    "Student? student1 = null;\n",
    "Student student2 = null; // Warning"
   ]
  },
  {
   "cell_type": "markdown",
   "metadata": {},
   "source": [
    "### Operátory `??` a `??=`\n",
    "\n",
    "Pomocí operátorů `??` a `??=` (the null-coalescing operators) přiřadíme novou hodnotu referenci, pokud má reference hodnotu `null`. Hodnotou `null` označujeme reference, které nikam neukazují, nemají tedy přiřazenou žádnou referenci."
   ]
  },
  {
   "cell_type": "code",
   "execution_count": null,
   "metadata": {
    "language_info": {
     "name": "polyglot-notebook"
    },
    "polyglot_notebook": {
     "kernelName": "csharp"
    }
   },
   "outputs": [],
   "source": [
    "Student? student = null;\n",
    "\n",
    "student = student ?? new Student();\n",
    "\n",
    "// zkracene\n",
    "student ??= new Student();\n"
   ]
  },
  {
   "cell_type": "markdown",
   "metadata": {},
   "source": [
    "### Operátory `?.` a `?[]`\n",
    "\n",
    "Operátory provedou operací přístupu k prvkům třídy nebo struktury respektive k prvkům kolekce pouze pokud reference není null. Pokud je `null` tak se nic neprovede a výsledkem operace je hodnota `null`. V následujícím příkladu je pole `null` reference a proto vrátí výraz `pole?.Length` `null` a poté pomocí operátoru `??` nahradíme `null` hodnotou `0`. \n"
   ]
  },
  {
   "cell_type": "code",
   "execution_count": null,
   "metadata": {
    "language_info": {
     "name": "polyglot-notebook"
    },
    "polyglot_notebook": {
     "kernelName": "csharp"
    }
   },
   "outputs": [
    {
     "ename": "Error",
     "evalue": "System.NullReferenceException: Object reference not set to an instance of an object.\r\n   at Submission#9.<<Initialize>>d__0.MoveNext()\r\n--- End of stack trace from previous location ---\r\n   at Microsoft.CodeAnalysis.Scripting.ScriptExecutionState.RunSubmissionsAsync[TResult](ImmutableArray`1 precedingExecutors, Func`2 currentExecutor, StrongBox`1 exceptionHolderOpt, Func`2 catchExceptionOpt, CancellationToken cancellationToken)",
     "output_type": "error",
     "traceback": [
      "System.NullReferenceException: Object reference not set to an instance of an object.\r\n",
      "   at Submission#9.<<Initialize>>d__0.MoveNext()\r\n",
      "--- End of stack trace from previous location ---\r\n",
      "   at Microsoft.CodeAnalysis.Scripting.ScriptExecutionState.RunSubmissionsAsync[TResult](ImmutableArray`1 precedingExecutors, Func`2 currentExecutor, StrongBox`1 exceptionHolderOpt, Func`2 catchExceptionOpt, CancellationToken cancellationToken)"
     ]
    }
   ],
   "source": [
    "int[]? pole = null;\n",
    "\n",
    "int delka = pole?.Length ?? 0;\n",
    "\n",
    "delka"
   ]
  },
  {
   "cell_type": "markdown",
   "metadata": {},
   "source": [
    "Pokud by pole nebylo `null`, tak výraz vráti jeho délku."
   ]
  },
  {
   "cell_type": "code",
   "execution_count": 10,
   "metadata": {
    "language_info": {
     "name": "polyglot-notebook"
    },
    "polyglot_notebook": {
     "kernelName": "csharp"
    }
   },
   "outputs": [
    {
     "data": {
      "text/html": [
       "<div class=\"dni-plaintext\"><pre>3</pre></div><style>\r\n",
       ".dni-code-hint {\r\n",
       "    font-style: italic;\r\n",
       "    overflow: hidden;\r\n",
       "    white-space: nowrap;\r\n",
       "}\r\n",
       ".dni-treeview {\r\n",
       "    white-space: nowrap;\r\n",
       "}\r\n",
       ".dni-treeview td {\r\n",
       "    vertical-align: top;\r\n",
       "    text-align: start;\r\n",
       "}\r\n",
       "details.dni-treeview {\r\n",
       "    padding-left: 1em;\r\n",
       "}\r\n",
       "table td {\r\n",
       "    text-align: start;\r\n",
       "}\r\n",
       "table tr { \r\n",
       "    vertical-align: top; \r\n",
       "    margin: 0em 0px;\r\n",
       "}\r\n",
       "table tr td pre \r\n",
       "{ \r\n",
       "    vertical-align: top !important; \r\n",
       "    margin: 0em 0px !important;\r\n",
       "} \r\n",
       "table th {\r\n",
       "    text-align: start;\r\n",
       "}\r\n",
       "</style>"
      ]
     },
     "metadata": {},
     "output_type": "display_data"
    }
   ],
   "source": [
    "int[]? pole = [1, 2, 3];\n",
    "\n",
    "int delka = pole?.Length ?? 0;\n",
    "\n",
    "delka"
   ]
  },
  {
   "cell_type": "markdown",
   "metadata": {},
   "source": [
    "Obdobně operátor `?[]` vrátí `null` pokud je reference `null`:"
   ]
  },
  {
   "cell_type": "code",
   "execution_count": null,
   "metadata": {
    "language_info": {
     "name": "polyglot-notebook"
    },
    "polyglot_notebook": {
     "kernelName": "csharp"
    }
   },
   "outputs": [
    {
     "data": {
      "text/html": [
       "<div class=\"dni-plaintext\"><pre>0</pre></div><style>\r\n",
       ".dni-code-hint {\r\n",
       "    font-style: italic;\r\n",
       "    overflow: hidden;\r\n",
       "    white-space: nowrap;\r\n",
       "}\r\n",
       ".dni-treeview {\r\n",
       "    white-space: nowrap;\r\n",
       "}\r\n",
       ".dni-treeview td {\r\n",
       "    vertical-align: top;\r\n",
       "    text-align: start;\r\n",
       "}\r\n",
       "details.dni-treeview {\r\n",
       "    padding-left: 1em;\r\n",
       "}\r\n",
       "table td {\r\n",
       "    text-align: start;\r\n",
       "}\r\n",
       "table tr { \r\n",
       "    vertical-align: top; \r\n",
       "    margin: 0em 0px;\r\n",
       "}\r\n",
       "table tr td pre \r\n",
       "{ \r\n",
       "    vertical-align: top !important; \r\n",
       "    margin: 0em 0px !important;\r\n",
       "} \r\n",
       "table th {\r\n",
       "    text-align: start;\r\n",
       "}\r\n",
       "</style>"
      ]
     },
     "metadata": {},
     "output_type": "display_data"
    }
   ],
   "source": [
    "int[]? pole = null;\n",
    "\n",
    "int prvek = pole?[0] ?? 0;\n",
    "\n",
    "prvek"
   ]
  },
  {
   "cell_type": "markdown",
   "metadata": {},
   "source": [
    "Pokud pole nebude `null`, tak výraz vrátí hodnotu prvku s indexem `0`."
   ]
  },
  {
   "cell_type": "code",
   "execution_count": 12,
   "metadata": {
    "language_info": {
     "name": "polyglot-notebook"
    },
    "polyglot_notebook": {
     "kernelName": "csharp"
    }
   },
   "outputs": [
    {
     "data": {
      "text/html": [
       "<div class=\"dni-plaintext\"><pre>1</pre></div><style>\r\n",
       ".dni-code-hint {\r\n",
       "    font-style: italic;\r\n",
       "    overflow: hidden;\r\n",
       "    white-space: nowrap;\r\n",
       "}\r\n",
       ".dni-treeview {\r\n",
       "    white-space: nowrap;\r\n",
       "}\r\n",
       ".dni-treeview td {\r\n",
       "    vertical-align: top;\r\n",
       "    text-align: start;\r\n",
       "}\r\n",
       "details.dni-treeview {\r\n",
       "    padding-left: 1em;\r\n",
       "}\r\n",
       "table td {\r\n",
       "    text-align: start;\r\n",
       "}\r\n",
       "table tr { \r\n",
       "    vertical-align: top; \r\n",
       "    margin: 0em 0px;\r\n",
       "}\r\n",
       "table tr td pre \r\n",
       "{ \r\n",
       "    vertical-align: top !important; \r\n",
       "    margin: 0em 0px !important;\r\n",
       "} \r\n",
       "table th {\r\n",
       "    text-align: start;\r\n",
       "}\r\n",
       "</style>"
      ]
     },
     "metadata": {},
     "output_type": "display_data"
    }
   ],
   "source": [
    "int[]? pole = [1, 2, 3];\n",
    "\n",
    "int prvek = pole?[0] ?? 0;\n",
    "\n",
    "prvek"
   ]
  },
  {
   "cell_type": "markdown",
   "metadata": {},
   "source": [
    "## Struktura\n",
    "\n",
    "Struktura je velmi podobná na třídu, jen jde o hodnotový typ. Struktura také narozdíl od třídy nepodporuje dědičnost. Strukturu deklarujeme pomocí klíčového slova `struct`. Pokud chceme přistupovat k fieldům mimo strukturu, tak je musíme deklarovat jako `public`. Následující příklad definuje strukturu pro dvourozměrný bod s public fieldy `X` a `Y`."
   ]
  },
  {
   "cell_type": "code",
   "execution_count": 14,
   "metadata": {
    "dotnet_interactive": {
     "language": "csharp"
    },
    "polyglot_notebook": {
     "kernelName": "csharp"
    }
   },
   "outputs": [],
   "source": [
    "struct Bod\n",
    "{\n",
    "    public double X;\n",
    "    public double Y;\n",
    "}"
   ]
  },
  {
   "cell_type": "markdown",
   "metadata": {},
   "source": [
    "Proměnnou typu struktura definujeme stejným způsobem jako zabudované typy. V následujícím příkladu definujeme proměnnou `b1` typu `Bod`. Nemusíme tedy používat operátor `new` jako u třídy."
   ]
  },
  {
   "cell_type": "code",
   "execution_count": null,
   "metadata": {
    "dotnet_interactive": {
     "language": "csharp"
    },
    "polyglot_notebook": {
     "kernelName": "csharp"
    }
   },
   "outputs": [
    {
     "name": "stdout",
     "output_type": "stream",
     "text": [
      "Bod b1 ma souradnice 0 a 0\r\n"
     ]
    }
   ],
   "source": [
    "Bod b1; \n",
    "\n",
    "Console.WriteLine($\"Bod b1 ma souradnice {b1.X} a {b1.Y}\");"
   ]
  },
  {
   "cell_type": "markdown",
   "metadata": {},
   "source": [
    "K fieldům stejně jako u třídy přistupujeme pomocí operátoru přímého přístupu `.`. Každý field musí mít před prvním použitím přiřazenou hodnotu."
   ]
  },
  {
   "cell_type": "code",
   "execution_count": 16,
   "metadata": {
    "dotnet_interactive": {
     "language": "csharp"
    },
    "polyglot_notebook": {
     "kernelName": "csharp"
    }
   },
   "outputs": [
    {
     "name": "stdout",
     "output_type": "stream",
     "text": [
      "Bod b1 ma souradnice 2 a 3\r\n"
     ]
    }
   ],
   "source": [
    "Bod b1;\n",
    "\n",
    "b1.X = 2;\n",
    "b1.Y = 3;\n",
    "\n",
    "Console.WriteLine($\"Bod b1 ma souradnice {b1.X} a {b1.Y}\");"
   ]
  },
  {
   "cell_type": "markdown",
   "metadata": {},
   "source": [
    "Výchozí hodnoty struktury získáme pomocí zápisu `new Bod()`. Pozor, u struktur nejde o alokaci paměti na haldě, jen o získání objektu s inicializovanými výchozími hodnotami fieldů. "
   ]
  },
  {
   "cell_type": "code",
   "execution_count": 17,
   "metadata": {
    "dotnet_interactive": {
     "language": "csharp"
    },
    "polyglot_notebook": {
     "kernelName": "csharp"
    }
   },
   "outputs": [
    {
     "name": "stdout",
     "output_type": "stream",
     "text": [
      "Vychozi hodnoty jsou 0 a 0\r\n"
     ]
    }
   ],
   "source": [
    "Bod b1 = new Bod();\n",
    "\n",
    "Console.WriteLine($\"Vychozi hodnoty jsou {b1.X} a {b1.Y}\");"
   ]
  },
  {
   "cell_type": "markdown",
   "metadata": {},
   "source": [
    "Stejně jako u zabudovaných typů se při přiřazení hodnoty kopíruje hodnota v paměti. Relační, aritmetické a další operátory bychom ale museli sami definovat."
   ]
  },
  {
   "cell_type": "code",
   "execution_count": 18,
   "metadata": {
    "dotnet_interactive": {
     "language": "csharp"
    },
    "polyglot_notebook": {
     "kernelName": "csharp"
    }
   },
   "outputs": [
    {
     "name": "stdout",
     "output_type": "stream",
     "text": [
      "Bod b1 ma souradnice 2 a 3\n",
      "Bod b2 ma souradnice 7 a 3\n"
     ]
    }
   ],
   "source": [
    "Bod b1;\n",
    "\n",
    "b1.X = 2;\n",
    "b1.Y = 3;\n",
    "\n",
    "Bod b2 = b1;\n",
    "\n",
    "b2.X = 7;\n",
    "\n",
    "Console.WriteLine($\"Bod b1 ma souradnice {b1.X} a {b1.Y}\");\n",
    "Console.WriteLine($\"Bod b2 ma souradnice {b2.X} a {b2.Y}\");\n"
   ]
  },
  {
   "cell_type": "markdown",
   "metadata": {},
   "source": [
    "Pokud je struktura parametrem metody, tak se vytvoří nezávislá kopie struktury."
   ]
  },
  {
   "cell_type": "code",
   "execution_count": 19,
   "metadata": {
    "dotnet_interactive": {
     "language": "csharp"
    },
    "polyglot_notebook": {
     "kernelName": "csharp"
    }
   },
   "outputs": [
    {
     "name": "stdout",
     "output_type": "stream",
     "text": [
      "Bod b3 ma souradnice 5 a 7\r\n"
     ]
    }
   ],
   "source": [
    "void Metoda(Bod bod)\n",
    "{\n",
    "    bod.X = 0;\n",
    "    bod.Y = 0;\n",
    "}\n",
    "\n",
    "Bod b3;\n",
    "\n",
    "b3.X = 5;\n",
    "b3.Y = 7;\n",
    "\n",
    "Metoda(b3);\n",
    "\n",
    "Console.WriteLine($\"Bod b3 ma souradnice {b3.X} a {b3.Y}\");"
   ]
  },
  {
   "cell_type": "markdown",
   "metadata": {},
   "source": [
    "Struktura se ukládá na zásobník. Kdy zásobník probíráme v tématu [Zasobnik_halda_reference](../presentations/ZAP_11_zasobnik_halda_reference.pptx)."
   ]
  },
  {
   "cell_type": "markdown",
   "metadata": {},
   "source": [
    "TODO:\n",
    "- Klíčové slova ref a out.\n",
    "- Příklady k procvičování."
   ]
  }
 ],
 "metadata": {
  "kernelspec": {
   "display_name": ".NET (C#)",
   "language": "C#",
   "name": ".net-csharp"
  },
  "language_info": {
   "name": "polyglot-notebook"
  },
  "polyglot_notebook": {
   "kernelInfo": {
    "defaultKernelName": "csharp",
    "items": [
     {
      "aliases": [],
      "name": "csharp"
     }
    ]
   }
  }
 },
 "nbformat": 4,
 "nbformat_minor": 2
}
