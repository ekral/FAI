{
 "cells": [
  {
   "cell_type": "markdown",
   "metadata": {},
   "source": [
    "# 11 Exceptions\n",
    "**autor: Erik Král ekral@utb.cz**\n",
    "\n",
    "---\n",
    "\n",
    "V této prezentaci probereme **Exceptions** a **Dispose** pattern."
   ]
  },
  {
   "cell_type": "markdown",
   "metadata": {},
   "source": [
    "## Kontrola chyb programu\n",
    "\n",
    "- Compile-time errors (static)\n",
    "    - Statická typová kontrola\n",
    "- Run-time errors (dynamic)\n",
    "    - Dynamická typová kontrola\n",
    "    - Návratové hodnoty funkcí\n",
    "    - Global Error Indicator\n",
    "    - Exceptions (výjimky)\n"
   ]
  },
  {
   "cell_type": "markdown",
   "metadata": {},
   "source": [
    "Ukázka v jazyce C"
   ]
  },
  {
   "cell_type": "markdown",
   "metadata": {},
   "source": [
    "\n",
    "\n",
    "```cpp\n",
    "#define _CRT_SECURE_NO_WARNINGS\n",
    "\n",
    "#include <stdio.h>\n",
    "#include <errno.h>\n",
    "\n",
    "int main()\n",
    "{\n",
    "    FILE* pf = fopen(\"neexistujici.txt\", \"rb\");\n",
    "\n",
    "    if (pf == NULL)\n",
    "    {\n",
    "        fprintf(stderr, \"error number: %d\\n\", errno);\n",
    "    }\n",
    "    else\n",
    "    {\n",
    "        fclose(pf);\n",
    "    }\n",
    "}\n",
    "```"
   ]
  },
  {
   "cell_type": "markdown",
   "metadata": {},
   "source": [
    "Ukázka C#"
   ]
  },
  {
   "cell_type": "code",
   "execution_count": null,
   "metadata": {
    "dotnet_interactive": {
     "language": "csharp"
    },
    "polyglot_notebook": {
     "kernelName": "csharp"
    },
    "vscode": {
     "languageId": "polyglot-notebook"
    }
   },
   "outputs": [],
   "source": [
    "using System.IO;\n",
    "\n",
    "string path = \"text.txt\";\n",
    "\n",
    "if(File.Exists(path))\n",
    "{\n",
    "    try\n",
    "    {\n",
    "        string text = File.ReadAllText(path);\n",
    "    }\n",
    "    catch (FileNotFoundException ex)\n",
    "    {\n",
    "        Console.WriteLine(ex.Message);\n",
    "        // pokracuji, napisi uzivateli at zkusi jiny soubor\n",
    "    }\n",
    "    catch (ArgumentNullException ex)\n",
    "    {\n",
    "        Console.WriteLine(ex.Message);\n",
    "        throw; // znovu vyvolam, radeji tedy ukoncim aplikaci\n",
    "    }\n",
    "}\n"
   ]
  },
  {
   "cell_type": "markdown",
   "metadata": {},
   "source": [
    "## Exceptions\n",
    "\n",
    "Pomocí exception komunikujeme v programu především chyby, které vznikají za běhu programu.\n",
    "Pokud bychom při volání metod chtěli ještě vracet, zda při provedení metody došlo k chybě, tak by zpracování těchto chyb by bylo nepřehledné a nebylo by oddělené od vlastní logiky problému.\n",
    "Proto je zpracování chyb v programu ve většině objektově orientovaných jazycích oddělené od vlastí logiky problému."
   ]
  },
  {
   "cell_type": "markdown",
   "metadata": {},
   "source": [
    "### Původci Exceptions (výjimek) \n",
    "\n",
    "Výjimky v .NET mohou být způsobeny:\n",
    "\n",
    "1. V aplikaci pomocí příkazu throw\n",
    "\n",
    "    Příkaz throw okamžitě vyvolá výjimku a další příkazy za ním se už neprovedou.\n",
    "\n",
    "2. Automaticky vygenerované překladačem a vyvolané při neplatném provedení operace\n",
    "\n",
    "    Tyto výjimky jsou mohou nastat při provedení určitých operací kdy operace nemůže být provedena nebo je neplatná. Příkladem jsou:\n",
    "    \n",
    "    - DivideByZeroException, \n",
    "    - IndexOutOfRangeException,\n",
    "    - NullReferenceException,\n",
    "    - InvalidCastException,\n",
    "    - StackOverflowException a další.\n",
    "\n",
    "### Druhy chyb\n",
    "\n",
    "#### Usage errors\n",
    "\n",
    "- Pomáhají odhalit chyby programátora které vedou k výjimkám. Typicky například předání neplatné hodnoty argumentu. \n",
    "- Těmto chybám jde zabránit opravou kódu a neošetřujeme je pomocí bloku Try-Catch.\n",
    "\n",
    "#### Execution errors\n",
    "\n",
    "- Těmto chybám nelze zabránit opravou kódu.\n",
    "- Příkladem je například čtení poškozeného souboru nebo souboru, který uživatel smazal těsně než jsme jej začali číst.\n",
    "- **Program errors** - tyto druhy chyb můžeme ošetřit smysluplně programově pomocí Try-Catch, například pokud se nepovede otevřit soubor, tak uživatele vyzveme aby zvolil jinou cestu k souboru.\n",
    "- **System failures** – tyto druhy chyb nelze ošetřit smysluplně programově, například pokud dojde k chybě JIT překladače.\n",
    "\n",
    "### Ošetření výjimek\n",
    "\n",
    "Výjimky bychom měli speciálně ošetřovat jen pokud na ně můžeme nějakým smysluplným speciálním způsobem zareagovat, například vyzvat uživatele k zadání jiné cesty k souboru. Ostatní výjimky můžeme ošetřit na nejvyšší úrovni aplikace.\n",
    "Ve vláknech bychom měli ale ošetřovat všechny výjimky.\n"
   ]
  },
  {
   "cell_type": "markdown",
   "metadata": {},
   "source": [
    "Příklad vyvolání výjimky"
   ]
  },
  {
   "cell_type": "code",
   "execution_count": null,
   "metadata": {
    "dotnet_interactive": {
     "language": "csharp"
    },
    "polyglot_notebook": {
     "kernelName": "csharp"
    },
    "vscode": {
     "languageId": "polyglot-notebook"
    }
   },
   "outputs": [],
   "source": [
    "class BankovniUcet\n",
    "{\n",
    "    private decimal zustatek;\n",
    "\n",
    "    public void Vloz(decimal castka)\n",
    "    {\n",
    "        if(castka <= 0)\n",
    "        {\n",
    "            throw new ArgumentOutOfRangeException(\"Zustatek musi byt kladny\");\n",
    "        }\n",
    "\n",
    "        zustatek += castka;\n",
    "    }\n",
    "\n",
    "    public void Vyber(decimal castka)\n",
    "    {\n",
    "        if (castka <= 0 ||  castka > zustatek)\n",
    "        {\n",
    "            throw new ArgumentOutOfRangeException(\"Zustatek musi byt kladny a mensi nez zustatek\");\n",
    "        }\n",
    "\n",
    "        zustatek -= castka;\n",
    "    }\n",
    "}\n"
   ]
  },
  {
   "cell_type": "markdown",
   "metadata": {},
   "source": [
    "Příklad zachycení výjimky"
   ]
  },
  {
   "cell_type": "code",
   "execution_count": null,
   "metadata": {
    "dotnet_interactive": {
     "language": "csharp"
    },
    "polyglot_notebook": {
     "kernelName": "csharp"
    },
    "vscode": {
     "languageId": "polyglot-notebook"
    }
   },
   "outputs": [],
   "source": [
    "using System.Net.Http;\n",
    "\n",
    "string url = \"https://geek-jokes.sameerkumar.website/api?format=json\";\n",
    "\n",
    "HttpClient client = new HttpClient();\n",
    "\n",
    "try\n",
    "{\n",
    "    string jsonString = await client.GetStringAsync(url);\n",
    "    Console.WriteLine(jsonString);\n",
    "}\n",
    "catch(HttpRequestException ex)\n",
    "{\n",
    "    Console.WriteLine(ex.Message);\n",
    "}\n",
    "finally\n",
    "{\n",
    "    client.Dispose();\n",
    "}\n"
   ]
  },
  {
   "cell_type": "markdown",
   "metadata": {},
   "source": [
    "# Dispose Pattern\n",
    "\n",
    "Slouží k bezpečnému uvolnění zdrojů (paměti, připojení k serveru, k databázi atd.) i v případě výjimky.\n",
    "V jazyce C++ ke stejnému účelu používáme destruktor, který se zavolá automaticky předtím, než se uvolní objekt z paměti.\n",
    "V jazyce C# sice máme destruktor také, ale nevíme kdy přesně se zavolá, protože nevíme kdy Garbage Collector uvolní paměť objektu."
   ]
  },
  {
   "cell_type": "markdown",
   "metadata": {},
   "source": [
    "Použiti Dispose patternu"
   ]
  },
  {
   "cell_type": "code",
   "execution_count": null,
   "metadata": {
    "dotnet_interactive": {
     "language": "csharp"
    },
    "polyglot_notebook": {
     "kernelName": "csharp"
    },
    "vscode": {
     "languageId": "polyglot-notebook"
    }
   },
   "outputs": [],
   "source": [
    "using System.Net.Http;\n",
    "\n",
    "string url = \"https://geek-jokes.sameerkumar.website/api?format=json\";\n",
    "\n",
    "using (HttpClient client = new HttpClient())\n",
    "{ \n",
    "    try\n",
    "    {\n",
    "        string jsonString = await client.GetStringAsync(url);\n",
    "        Console.WriteLine(jsonString);\n",
    "    }\n",
    "    catch (HttpRequestException ex)\n",
    "    {\n",
    "        Console.WriteLine(ex.Message);\n",
    "    }\n",
    "}\n"
   ]
  }
 ],
 "metadata": {
  "kernelspec": {
   "display_name": ".NET (C#)",
   "language": "C#",
   "name": ".net-csharp"
  },
  "language_info": {
   "name": "csharp"
  },
  "polyglot_notebook": {
   "kernelInfo": {
    "defaultKernelName": "csharp",
    "items": [
     {
      "aliases": [],
      "name": "csharp"
     }
    ]
   }
  }
 },
 "nbformat": 4,
 "nbformat_minor": 2
}
