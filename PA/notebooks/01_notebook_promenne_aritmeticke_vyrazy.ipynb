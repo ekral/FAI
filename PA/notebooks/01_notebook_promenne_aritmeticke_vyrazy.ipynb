{
 "cells": [
  {
   "cell_type": "markdown",
   "metadata": {},
   "source": [
    "# 01 Aritmetické výrazy\n",
    "\n",
    "**autor: Erik Král ekral@utb.cz**\n",
    "\n",
    "---"
   ]
  },
  {
   "cell_type": "markdown",
   "metadata": {},
   "source": [
    "Pro zvládnutí předmětu potřebujete vědět co je to proměnná a znát minimálně dva aritmetické datové typy a umět definovat proměnné těchto typů. Nezapomeňte, že záleží i na velkých a malých písmenech a proměnná `Math.Pow` musí být napsaná správně včetně velkých a malých písmen.\n",
    "\n",
    "**Co je to proměnná**\n",
    "\n",
    "Následující definice vychází z knihy [A Tour of C++](https://www.stroustrup.com/tour3.html).\n",
    "\n",
    "- **Typ** definuje množinu možných hodnot a množinu operací (pro objekt).\n",
    "- **Hodnota** je množina bitů interpretovaná podle daného typu.\n",
    "- **Objekt** je paměť, která na dané **adrese** uchovává hodnotu daného typu.\n",
    "- **Proměnná** je pojmenovaný objekt.\n",
    "\n",
    "**Základní aritmetické datové typy**\n",
    "\n",
    "- `double y = 0;` představuje číslo s plovoucí čárkou se znaménkem. \n",
    "- `int x = 0;` představuje celé číslo se znaménkem.\n",
    "\n",
    "Dále byste měli znát následující operace, které si postupně probereme na příkladech. "
   ]
  },
  {
   "cell_type": "markdown",
   "metadata": {},
   "source": [
    "Nejprve si definujme tři proměnné `x`, `y` a `z`:"
   ]
  },
  {
   "cell_type": "code",
   "execution_count": 1,
   "metadata": {
    "dotnet_interactive": {
     "language": "csharp"
    },
    "polyglot_notebook": {
     "kernelName": "csharp"
    },
    "vscode": {
     "languageId": "polyglot-notebook"
    }
   },
   "outputs": [],
   "source": [
    "double x = 9.0;\n",
    "double y = 3.0;\n",
    "double z = 0.0;"
   ]
  },
  {
   "cell_type": "markdown",
   "metadata": {},
   "source": [
    "Dejte si pozor na chybu při zaokrouhlování a reprezentaci čísla s plovoucí čárkou. Typ ```double``` používá binární plovoucí čárku, kde desetinné číslo 0.1 je periodické číslo. Ověřte výsledek následující operace."
   ]
  },
  {
   "cell_type": "code",
   "execution_count": 2,
   "metadata": {
    "dotnet_interactive": {
     "language": "csharp"
    },
    "polyglot_notebook": {
     "kernelName": "csharp"
    },
    "vscode": {
     "languageId": "polyglot-notebook"
    }
   },
   "outputs": [
    {
     "data": {
      "text/html": [
       "<div class=\"dni-plaintext\"><pre>0.30000000000000004</pre></div><style>\r\n",
       ".dni-code-hint {\r\n",
       "    font-style: italic;\r\n",
       "    overflow: hidden;\r\n",
       "    white-space: nowrap;\r\n",
       "}\r\n",
       ".dni-treeview {\r\n",
       "    white-space: nowrap;\r\n",
       "}\r\n",
       ".dni-treeview td {\r\n",
       "    vertical-align: top;\r\n",
       "    text-align: start;\r\n",
       "}\r\n",
       "details.dni-treeview {\r\n",
       "    padding-left: 1em;\r\n",
       "}\r\n",
       "table td {\r\n",
       "    text-align: start;\r\n",
       "}\r\n",
       "table tr { \r\n",
       "    vertical-align: top; \r\n",
       "    margin: 0em 0px;\r\n",
       "}\r\n",
       "table tr td pre \r\n",
       "{ \r\n",
       "    vertical-align: top !important; \r\n",
       "    margin: 0em 0px !important;\r\n",
       "} \r\n",
       "table th {\r\n",
       "    text-align: start;\r\n",
       "}\r\n",
       "</style>"
      ]
     },
     "metadata": {},
     "output_type": "display_data"
    }
   ],
   "source": [
    "0.1 + 0.1 + 0.1"
   ]
  },
  {
   "cell_type": "markdown",
   "metadata": {},
   "source": [
    "V následujícím kódu jsou uvedeny atematické operátory součet, rozdíl, součin, podíl, záporná hodnota, druhá mocnina. Pro druhou mocninu používáme zápis `x * x` protože protože je to rychlejší a jednoduší než použití metody *Math.Pow*."
   ]
  },
  {
   "cell_type": "code",
   "execution_count": 3,
   "metadata": {
    "dotnet_interactive": {
     "language": "csharp"
    },
    "polyglot_notebook": {
     "kernelName": "csharp"
    },
    "vscode": {
     "languageId": "polyglot-notebook"
    }
   },
   "outputs": [
    {
     "data": {
      "text/html": [
       "<div class=\"dni-plaintext\"><pre>81</pre></div><style>\r\n",
       ".dni-code-hint {\r\n",
       "    font-style: italic;\r\n",
       "    overflow: hidden;\r\n",
       "    white-space: nowrap;\r\n",
       "}\r\n",
       ".dni-treeview {\r\n",
       "    white-space: nowrap;\r\n",
       "}\r\n",
       ".dni-treeview td {\r\n",
       "    vertical-align: top;\r\n",
       "    text-align: start;\r\n",
       "}\r\n",
       "details.dni-treeview {\r\n",
       "    padding-left: 1em;\r\n",
       "}\r\n",
       "table td {\r\n",
       "    text-align: start;\r\n",
       "}\r\n",
       "table tr { \r\n",
       "    vertical-align: top; \r\n",
       "    margin: 0em 0px;\r\n",
       "}\r\n",
       "table tr td pre \r\n",
       "{ \r\n",
       "    vertical-align: top !important; \r\n",
       "    margin: 0em 0px !important;\r\n",
       "} \r\n",
       "table th {\r\n",
       "    text-align: start;\r\n",
       "}\r\n",
       "</style>"
      ]
     },
     "metadata": {},
     "output_type": "display_data"
    }
   ],
   "source": [
    "z = x + y;  // soucet\n",
    "z = x - y;  // rozdil\n",
    "z = x * y;  // soucin\n",
    "z = x / y;  // podil\n",
    "z = -x;     // zaporna hodnota\n",
    "z = x * x;  // druha mocnina\n",
    "\n",
    "z"
   ]
  },
  {
   "cell_type": "markdown",
   "metadata": {},
   "source": [
    "Další matematické operace najdeme jako statické prvky třídy *Math*. V následujícím kódu jsou uvedeny příklady mocniny a odmocniny."
   ]
  },
  {
   "cell_type": "code",
   "execution_count": 4,
   "metadata": {
    "dotnet_interactive": {
     "language": "csharp"
    },
    "polyglot_notebook": {
     "kernelName": "csharp"
    },
    "vscode": {
     "languageId": "polyglot-notebook"
    }
   },
   "outputs": [],
   "source": [
    "z = Math.Pow(2, 100.0); // mocnina x^100\n",
    "z = Math.Sqrt(9.0); // druha odmocnina"
   ]
  },
  {
   "cell_type": "code",
   "execution_count": 5,
   "metadata": {
    "dotnet_interactive": {
     "language": "csharp"
    },
    "polyglot_notebook": {
     "kernelName": "csharp"
    },
    "vscode": {
     "languageId": "polyglot-notebook"
    }
   },
   "outputs": [
    {
     "data": {
      "text/html": [
       "<div class=\"dni-plaintext\"><pre>9</pre></div><style>\r\n",
       ".dni-code-hint {\r\n",
       "    font-style: italic;\r\n",
       "    overflow: hidden;\r\n",
       "    white-space: nowrap;\r\n",
       "}\r\n",
       ".dni-treeview {\r\n",
       "    white-space: nowrap;\r\n",
       "}\r\n",
       ".dni-treeview td {\r\n",
       "    vertical-align: top;\r\n",
       "    text-align: start;\r\n",
       "}\r\n",
       "details.dni-treeview {\r\n",
       "    padding-left: 1em;\r\n",
       "}\r\n",
       "table td {\r\n",
       "    text-align: start;\r\n",
       "}\r\n",
       "table tr { \r\n",
       "    vertical-align: top; \r\n",
       "    margin: 0em 0px;\r\n",
       "}\r\n",
       "table tr td pre \r\n",
       "{ \r\n",
       "    vertical-align: top !important; \r\n",
       "    margin: 0em 0px !important;\r\n",
       "} \r\n",
       "table th {\r\n",
       "    text-align: start;\r\n",
       "}\r\n",
       "</style>"
      ]
     },
     "metadata": {},
     "output_type": "display_data"
    }
   ],
   "source": [
    "Math.Sqrt(81.0)"
   ]
  },
  {
   "cell_type": "markdown",
   "metadata": {},
   "source": [
    "Použití konstanty PI ze třídy *Math*."
   ]
  },
  {
   "cell_type": "code",
   "execution_count": 6,
   "metadata": {
    "dotnet_interactive": {
     "language": "csharp"
    },
    "polyglot_notebook": {
     "kernelName": "csharp"
    },
    "vscode": {
     "languageId": "polyglot-notebook"
    }
   },
   "outputs": [],
   "source": [
    "z = 2 * Math.PI * x; // konstanta PI"
   ]
  },
  {
   "cell_type": "markdown",
   "metadata": {},
   "source": [
    "Určování priorit operátorů pomocí kulatých závorek ()."
   ]
  },
  {
   "cell_type": "code",
   "execution_count": 7,
   "metadata": {
    "dotnet_interactive": {
     "language": "csharp"
    },
    "polyglot_notebook": {
     "kernelName": "csharp"
    },
    "vscode": {
     "languageId": "polyglot-notebook"
    }
   },
   "outputs": [],
   "source": [
    "x = 2.0;\n",
    "y = 3.0;\n"
   ]
  },
  {
   "cell_type": "code",
   "execution_count": 8,
   "metadata": {
    "dotnet_interactive": {
     "language": "csharp"
    },
    "polyglot_notebook": {
     "kernelName": "csharp"
    },
    "vscode": {
     "languageId": "polyglot-notebook"
    }
   },
   "outputs": [
    {
     "data": {
      "text/html": [
       "<div class=\"dni-plaintext\"><pre>2</pre></div><style>\r\n",
       ".dni-code-hint {\r\n",
       "    font-style: italic;\r\n",
       "    overflow: hidden;\r\n",
       "    white-space: nowrap;\r\n",
       "}\r\n",
       ".dni-treeview {\r\n",
       "    white-space: nowrap;\r\n",
       "}\r\n",
       ".dni-treeview td {\r\n",
       "    vertical-align: top;\r\n",
       "    text-align: start;\r\n",
       "}\r\n",
       "details.dni-treeview {\r\n",
       "    padding-left: 1em;\r\n",
       "}\r\n",
       "table td {\r\n",
       "    text-align: start;\r\n",
       "}\r\n",
       "table tr { \r\n",
       "    vertical-align: top; \r\n",
       "    margin: 0em 0px;\r\n",
       "}\r\n",
       "table tr td pre \r\n",
       "{ \r\n",
       "    vertical-align: top !important; \r\n",
       "    margin: 0em 0px !important;\r\n",
       "} \r\n",
       "table th {\r\n",
       "    text-align: start;\r\n",
       "}\r\n",
       "</style>"
      ]
     },
     "metadata": {},
     "output_type": "display_data"
    }
   ],
   "source": [
    "x * (y / 3.0) // kulate zavorky urcuji prioritu "
   ]
  },
  {
   "cell_type": "markdown",
   "metadata": {},
   "source": [
    "A nakonec jsou níže uvedeny příklady změny hodnot proměnné samotné."
   ]
  },
  {
   "cell_type": "code",
   "execution_count": 9,
   "metadata": {
    "dotnet_interactive": {
     "language": "csharp"
    },
    "polyglot_notebook": {
     "kernelName": "csharp"
    },
    "vscode": {
     "languageId": "polyglot-notebook"
    }
   },
   "outputs": [],
   "source": [
    "z = z + 2.0; // zvyseni o hodnotu\n",
    "z += 2.0;\n",
    "z = z - 2.0; // snizeni o hodnotu\n",
    "z -= 2.0;\n",
    "++z; // zvyseni o 1\n",
    "--z; // snizeni o 1"
   ]
  },
  {
   "cell_type": "markdown",
   "metadata": {},
   "source": [
    "Pro typ `int` je zápis předchozích operací stejný, jen používáme celočíselné numerické konstanty. Největší rozdíl je ale v tom, že metody *Math.Pow* a *Math.Sqrt* pracují s typem `double` takže výsledek musíme explicitně přetypovat s pomocí zápisu `(int)`. Samotné argumenty těchto metod jsou ale typu `double` a typ `int` lze na typ `double` převést implicitně (nemusíme do kódu nic psát)."
   ]
  },
  {
   "cell_type": "code",
   "execution_count": 10,
   "metadata": {
    "dotnet_interactive": {
     "language": "csharp"
    },
    "polyglot_notebook": {
     "kernelName": "csharp"
    },
    "vscode": {
     "languageId": "polyglot-notebook"
    }
   },
   "outputs": [],
   "source": [
    "int a = 2;\n",
    "int b = 3;\n",
    "b = (int)Math.Pow(a, 100.0); // mocnina x^100\n",
    "b = (int)Math.Sqrt(9.0); // druha odmocnina\n",
    "a = a + 2; // zvyseni o hodnotu\n",
    "a = a - 2; // snizeni o hodnotu"
   ]
  },
  {
   "cell_type": "markdown",
   "metadata": {},
   "source": [
    "V následujícím kódu jsou shrnuté všechny předchozí operátory a funkce."
   ]
  },
  {
   "cell_type": "code",
   "execution_count": 11,
   "metadata": {
    "dotnet_interactive": {
     "language": "csharp"
    },
    "polyglot_notebook": {
     "kernelName": "csharp"
    },
    "vscode": {
     "languageId": "polyglot-notebook"
    }
   },
   "outputs": [],
   "source": [
    "double x = 2.0;\n",
    "double y = 3.0;\n",
    "double z = 0.0;\n",
    "\n",
    "// Matematicke operatory\n",
    "z = x + y; // soucet\n",
    "z = x - y; // rozdil\n",
    "z = x * y; // soucin\n",
    "z = x / y; // podil\n",
    "z = -x; // zaporna hodnota\n",
    "z = x * x; // druha mocnina\n",
    "\n",
    "// Matematicke operace ze tridy Math\n",
    "z = Math.Pow(x, 100.0); // mocnina x^100\n",
    "z = Math.Sqrt(9.0); // druha odmocnina\n",
    "\n",
    "// Konstanta PI\n",
    "z = 2 * Math.PI * x; // konstanta PI\n",
    "// Priorita operatoru\n",
    "z = x * (y + 3.0); // kulate zavorky urcuji prioritu \n",
    "\n",
    "// Zmena hodnoty promenne\n",
    "z = z + 2.0; // zvyseni o hodnotu\n",
    "z = z - 2.0; // snizeni o hodnotu\n",
    "++z; // zvyseni o 1\n",
    "--z; // snizeni o 1\n",
    "\n",
    "// Operace pro int\n",
    "int a = 2;\n",
    "int b = 3;\n",
    "b = (int)Math.Pow(a, 100.0); // mocnina x^100\n",
    "b = (int)Math.Sqrt(9.0); // druha odmocnina\n",
    "a = a + 2; // zvyseni o hodnotu\n",
    "a = a - 2; // snizeni o hodnotu"
   ]
  },
  {
   "cell_type": "markdown",
   "metadata": {},
   "source": [
    "## Výstup na konzoli"
   ]
  },
  {
   "cell_type": "markdown",
   "metadata": {},
   "source": [
    "Na konzoli můžeme vypsat text pomocí statické metody `Console.WriteLine`. Často používáme string interpolation, kdy před řetězcem uvedeme znak `$` a do složených závorek potom zapíšeme výraz, který se převede na řetězec."
   ]
  },
  {
   "cell_type": "code",
   "execution_count": 1,
   "metadata": {
    "vscode": {
     "languageId": "polyglot-notebook"
    }
   },
   "outputs": [
    {
     "name": "stdout",
     "output_type": "stream",
     "text": [
      "Ahoj\n",
      "hodnota x je 3\n"
     ]
    }
   ],
   "source": [
    "Console.WriteLine(\"Ahoj\");\n",
    "\n",
    "int x = 3;\n",
    "Console.WriteLine($\"hodnota x je {x}\");"
   ]
  },
  {
   "cell_type": "markdown",
   "metadata": {},
   "source": []
  },
  {
   "cell_type": "markdown",
   "metadata": {},
   "source": [
    "---\n",
    "## Příklady k procvičování"
   ]
  },
  {
   "cell_type": "markdown",
   "metadata": {},
   "source": [
    "### Zadání: 1. Obsah a obvod čtverce"
   ]
  },
  {
   "cell_type": "code",
   "execution_count": 24,
   "metadata": {
    "dotnet_interactive": {
     "language": "csharp"
    },
    "polyglot_notebook": {
     "kernelName": "csharp"
    },
    "vscode": {
     "languageId": "polyglot-notebook"
    }
   },
   "outputs": [
    {
     "name": "stdout",
     "output_type": "stream",
     "text": [
      "Delka strany je 3\r\n"
     ]
    }
   ],
   "source": [
    "// Ctverec je definovany delkou strany n\n",
    "// Spocitejte a vypiste jeho obvod a obsah\n",
    "\n",
    "double n = 3.0;\n",
    "Console.WriteLine($\"Delka strany je {n}\");"
   ]
  },
  {
   "cell_type": "markdown",
   "metadata": {},
   "source": [
    "### Zadání: 2. Obsah a obvod kruhu"
   ]
  },
  {
   "cell_type": "code",
   "execution_count": 15,
   "metadata": {
    "dotnet_interactive": {
     "language": "csharp"
    },
    "polyglot_notebook": {
     "kernelName": "csharp"
    },
    "vscode": {
     "languageId": "polyglot-notebook"
    }
   },
   "outputs": [
    {
     "name": "stdout",
     "output_type": "stream",
     "text": [
      "Polomer kruhu je 3\n",
      "Hodnota Pi je 3.141592653589793\n"
     ]
    }
   ],
   "source": [
    "// Kruh je definovany polomerem r\n",
    "// spocitejte a vypiste obvod a obsah kruhu\n",
    "\n",
    "double r = 3.0;\n",
    "Console.WriteLine($\"Polomer kruhu je {r}\");\n",
    "Console.WriteLine($\"Hodnota Pi je {Math.PI}\");\n",
    "\n"
   ]
  },
  {
   "cell_type": "markdown",
   "metadata": {},
   "source": [
    "### Zadání: 3. Obsah a obvod trojúhelníka"
   ]
  },
  {
   "cell_type": "code",
   "execution_count": 16,
   "metadata": {
    "dotnet_interactive": {
     "language": "csharp"
    },
    "polyglot_notebook": {
     "kernelName": "csharp"
    },
    "vscode": {
     "languageId": "polyglot-notebook"
    }
   },
   "outputs": [
    {
     "name": "stdout",
     "output_type": "stream",
     "text": [
      "Delka strany trojuhelnika je 3, 4 a 5\r\n"
     ]
    }
   ],
   "source": [
    "// Trojuhelnik je definovany delkami stran a,b,c.\n",
    "// spocitejte a vypiste obvod a obsah trojuhelniku dle heronova vzorce https://cs.wikipedia.org/wiki/Heron%C5%AFv_vzorec\n",
    "\n",
    "double a = 3.0;\n",
    "double b = 4.0;\n",
    "double c = 5.0;\n",
    "\n",
    "Console.WriteLine($\"Delka strany trojuhelnika je {a}, {b} a {c}\");"
   ]
  },
  {
   "cell_type": "markdown",
   "metadata": {},
   "source": [
    "### Zadání: 4. Výpočet BMI"
   ]
  },
  {
   "cell_type": "code",
   "execution_count": 17,
   "metadata": {
    "dotnet_interactive": {
     "language": "csharp"
    },
    "polyglot_notebook": {
     "kernelName": "csharp"
    },
    "vscode": {
     "languageId": "polyglot-notebook"
    }
   },
   "outputs": [
    {
     "name": "stdout",
     "output_type": "stream",
     "text": [
      "hmotnost 85kg a vyska 1.78m\r\n"
     ]
    }
   ],
   "source": [
    "// Vypoctete a vypiste BMI dle vzorce https://cs.wikipedia.org/wiki/Index_t%C4%9Blesn%C3%A9_hmotnosti\n",
    "\n",
    "double hmotnost = 85;\n",
    "double vyska = 1.78;\n",
    "\n",
    "Console.WriteLine($\"hmotnost {hmotnost}kg a vyska {vyska}m\");"
   ]
  },
  {
   "cell_type": "markdown",
   "metadata": {},
   "source": [
    "### Zadání: 5. Výpočet splátky úroku"
   ]
  },
  {
   "cell_type": "code",
   "execution_count": 18,
   "metadata": {
    "dotnet_interactive": {
     "language": "csharp"
    },
    "polyglot_notebook": {
     "kernelName": "csharp"
    },
    "vscode": {
     "languageId": "polyglot-notebook"
    }
   },
   "outputs": [],
   "source": [
    "// Vypoctete a vypiste splatky uroku dle vzorce http://www.aristoteles.cz/matematika/financni_matematika/hypoteka-vypocet.php\n",
    "\n",
    "int pocetLetSplaceni = 20;\n",
    "double rocniUrokProcenta = 2;\n",
    "double D = 1000000; // dluh"
   ]
  },
  {
   "cell_type": "markdown",
   "metadata": {},
   "source": [
    "---\n",
    "## Řešení příkladů k procvičování"
   ]
  },
  {
   "cell_type": "markdown",
   "metadata": {},
   "source": [
    "### Řešení: 1. Obsah a obvod čtverce"
   ]
  },
  {
   "cell_type": "code",
   "execution_count": 19,
   "metadata": {
    "dotnet_interactive": {
     "language": "csharp"
    },
    "polyglot_notebook": {
     "kernelName": "csharp"
    },
    "vscode": {
     "languageId": "polyglot-notebook"
    }
   },
   "outputs": [
    {
     "name": "stdout",
     "output_type": "stream",
     "text": [
      "Delka strany je 3\n",
      "Obvod je 12\n",
      "Obsah je 9\n"
     ]
    }
   ],
   "source": [
    "// Ctverec je definovany delkou strany n\n",
    "// Spocitejte a vypiste jeho obvod a obsah\n",
    "\n",
    "double n = 3.0;\n",
    "\n",
    "Console.WriteLine($\"Delka strany je {n}\");\n",
    "\n",
    "double obvod = 4 * n;\n",
    "\n",
    "Console.WriteLine($\"Obvod je {obvod}\");\n",
    "\n",
    "double obsah = n * n;\n",
    "\n",
    "Console.WriteLine($\"Obsah je {obsah}\");"
   ]
  },
  {
   "cell_type": "markdown",
   "metadata": {},
   "source": [
    "### Řešení: 2. Obsah a obvod kruhu"
   ]
  },
  {
   "cell_type": "code",
   "execution_count": 20,
   "metadata": {
    "dotnet_interactive": {
     "language": "csharp"
    },
    "polyglot_notebook": {
     "kernelName": "csharp"
    },
    "vscode": {
     "languageId": "polyglot-notebook"
    }
   },
   "outputs": [
    {
     "name": "stdout",
     "output_type": "stream",
     "text": [
      "Polomer kruhu je 3\n",
      "Hodnota Pi je 3.141592653589793\n",
      "Obvod je 18.84955592153876\n",
      "Obsah je 28.274333882308138\n"
     ]
    }
   ],
   "source": [
    "// Kruh je definovany polomerem r\n",
    "// spocitejte a vypiste obvod a obsah kruhu\n",
    "\n",
    "double r = 3.0;\n",
    "\n",
    "Console.WriteLine($\"Polomer kruhu je {r}\");\n",
    "Console.WriteLine($\"Hodnota Pi je {Math.PI}\");\n",
    "\n",
    "double obvod = 2 * Math.PI * r;\n",
    "\n",
    "Console.WriteLine($\"Obvod je {obvod}\");\n",
    "\n",
    "double obsah = Math.PI * r * r;\n",
    "\n",
    "Console.WriteLine($\"Obsah je {obsah}\");"
   ]
  },
  {
   "cell_type": "markdown",
   "metadata": {},
   "source": [
    "### Řešení: 3. Obsah a obvod trojúhelníka"
   ]
  },
  {
   "cell_type": "code",
   "execution_count": 21,
   "metadata": {
    "dotnet_interactive": {
     "language": "csharp"
    },
    "polyglot_notebook": {
     "kernelName": "csharp"
    },
    "vscode": {
     "languageId": "polyglot-notebook"
    }
   },
   "outputs": [
    {
     "name": "stdout",
     "output_type": "stream",
     "text": [
      "Delka strany trojuhelnika je 3, 4 a 5\n",
      "Obvod je 12\n",
      "Obsah je 6\n"
     ]
    }
   ],
   "source": [
    "// Trojuhelnik je definovany delkami stran a,b,c.\n",
    "// spocitejte a vypiste obvod a obsah trojuhelniku dle heronova vzorce https://cs.wikipedia.org/wiki/Heron%C5%AFv_vzorec\n",
    "\n",
    "double a = 3.0;\n",
    "double b = 4.0;\n",
    "double c = 5.0;\n",
    "\n",
    "Console.WriteLine($\"Delka strany trojuhelnika je {a}, {b} a {c}\");\n",
    "\n",
    "double obvod = a + b + c;\n",
    "\n",
    "Console.WriteLine($\"Obvod je {obvod}\");\n",
    "\n",
    "double s = (a + b + c) / 2;\n",
    "double obsah = Math.Sqrt(s * (s - a) * (s - b) * (s -c));\n",
    "\n",
    "Console.WriteLine($\"Obsah je {obsah}\");"
   ]
  },
  {
   "cell_type": "markdown",
   "metadata": {},
   "source": [
    "### Řešení: 4. Výpočet BMI"
   ]
  },
  {
   "cell_type": "code",
   "execution_count": 22,
   "metadata": {
    "dotnet_interactive": {
     "language": "csharp"
    },
    "polyglot_notebook": {
     "kernelName": "csharp"
    },
    "vscode": {
     "languageId": "polyglot-notebook"
    }
   },
   "outputs": [
    {
     "name": "stdout",
     "output_type": "stream",
     "text": [
      "hmotnost 85kg a vyska 1.78m\n",
      "bmi je 26.82742078020452\n"
     ]
    }
   ],
   "source": [
    "// Vypoctete a vypiste BMI dle vzorce https://cs.wikipedia.org/wiki/Index_t%C4%9Blesn%C3%A9_hmotnosti\n",
    "\n",
    "double hmotnost = 85;\n",
    "double vyska = 1.78;\n",
    "\n",
    "Console.WriteLine($\"hmotnost {hmotnost}kg a vyska {vyska}m\");\n",
    "\n",
    "\n",
    "\n",
    "double bmi = hmotnost / (vyska * vyska);\n",
    "\n",
    "Console.WriteLine($\"bmi je {bmi}\");"
   ]
  },
  {
   "cell_type": "markdown",
   "metadata": {},
   "source": [
    "### Řešení: 5. Výpočet splátky úroku"
   ]
  },
  {
   "cell_type": "code",
   "execution_count": 23,
   "metadata": {
    "dotnet_interactive": {
     "language": "csharp"
    },
    "polyglot_notebook": {
     "kernelName": "csharp"
    },
    "vscode": {
     "languageId": "polyglot-notebook"
    }
   },
   "outputs": [
    {
     "name": "stdout",
     "output_type": "stream",
     "text": [
      "Pocet let 20, urok 2% rocne a castka 1000000 Kc\n",
      "Mesicni splatka bude 5058.83 Kc\n"
     ]
    }
   ],
   "source": [
    "// Vypoctete a vypiste splatky uroku dle vzorce http://www.aristoteles.cz/matematika/financni_matematika/hypoteka-vypocet.php\n",
    "\n",
    "int pocetLetSplaceni = 20;\n",
    "double rocniUrokProcenta = 2;\n",
    "double D = 1000000; // dluh\n",
    "\n",
    "Console.WriteLine($\"Pocet let {pocetLetSplaceni}, urok {rocniUrokProcenta}% rocne a castka {D} Kc\");\n",
    "\n",
    "int n = pocetLetSplaceni * 12; // pocet mesicu splaceni\n",
    "double i = rocniUrokProcenta / (12 * 100); // desetinne cislo\n",
    "\n",
    "double v = 1 / (1 + i);\n",
    "double splatka = (i * D) / (1 - Math.Pow(v, n));\n",
    "\n",
    "Console.WriteLine($\"Mesicni splatka bude {splatka:F2} Kc\");"
   ]
  }
 ],
 "metadata": {
  "kernelspec": {
   "display_name": ".NET (C#)",
   "language": "C#",
   "name": ".net-csharp"
  },
  "language_info": {
   "name": "csharp"
  },
  "orig_nbformat": 4,
  "polyglot_notebook": {
   "kernelInfo": {
    "defaultKernelName": "csharp",
    "items": [
     {
      "aliases": [],
      "name": "csharp"
     }
    ]
   }
  }
 },
 "nbformat": 4,
 "nbformat_minor": 2
}
