{
 "cells": [
  {
   "cell_type": "markdown",
   "metadata": {},
   "source": [
    "# 04 Cykly\n",
    "**autor: Erik Král ekral@utb.cz**\n",
    "\n",
    "---\n",
    "\n",
    "Pro zvládnutí předmětu potřebujete znát příkazy `goto`, `while`,  `do-while` a `for`. A dále ukončení cyklu pomocí `break` a přeskočení zbytku cyklu pomocí `continue`"
   ]
  },
  {
   "cell_type": "markdown",
   "metadata": {},
   "source": [
    "Na následujících příkladech si probereme jednotlivé příkazy. \n",
    "\n",
    "Poznámka: Následující příklady běží v prostředí Polyglot notebook a proto místo příkazu `Console.ReadLine()` používají příkaz `await Kernel.GetInputAsync()`. V konzolové aplikaci tedy použije místo příkazu `await Kernel.GetInputAsync()` příkaz `Console.ReadLine()`."
   ]
  },
  {
   "cell_type": "markdown",
   "metadata": {},
   "source": [
    "## goto\n",
    "\n",
    "S pomocí příkazu `goto` můžeme přeskočit na libovolný řádek. Tento příkaz se používá spíše vyjímečně."
   ]
  },
  {
   "cell_type": "code",
   "execution_count": 1,
   "metadata": {
    "dotnet_interactive": {
     "language": "csharp"
    },
    "polyglot_notebook": {
     "kernelName": "csharp"
    }
   },
   "outputs": [
    {
     "name": "stdout",
     "output_type": "stream",
     "text": [
      "0\n",
      "1\n",
      "2\n",
      "3\n",
      "4\n",
      "5\n",
      "6\n",
      "7\n",
      "8\n",
      "9\n"
     ]
    }
   ],
   "source": [
    "int i = 0;\n",
    "\n",
    "label:\n",
    "    Console.WriteLine(i);\n",
    "    ++i;\n",
    "    if (i < 10) goto label;"
   ]
  },
  {
   "cell_type": "markdown",
   "metadata": {},
   "source": [
    "```mermaid\n",
    "flowchart TD\n",
    "    A([Start]) --> B[Set i = 0]\n",
    "    B --> C[Print i]\n",
    "    C --> D[Increment i]\n",
    "    D --> E{i < 10?}\n",
    "    E -- Yes --> C\n",
    "    E -- No --> F([End])\n",
    "```"
   ]
  },
  {
   "cell_type": "markdown",
   "metadata": {},
   "source": [
    "## while\n",
    "\n",
    "S použitím příkazu `while` můžeme cyklus zpřehlednit. Cyklus while se používá většinou pokud neznáme předem počet opakování. Když počet opakování známe, tak použijeme spíše příkaz `for`."
   ]
  },
  {
   "cell_type": "code",
   "execution_count": 2,
   "metadata": {
    "dotnet_interactive": {
     "language": "csharp"
    },
    "polyglot_notebook": {
     "kernelName": "csharp"
    }
   },
   "outputs": [
    {
     "name": "stdout",
     "output_type": "stream",
     "text": [
      "0\n",
      "1\n",
      "2\n",
      "3\n",
      "4\n",
      "5\n",
      "6\n",
      "7\n",
      "8\n",
      "9\n"
     ]
    }
   ],
   "source": [
    "int i = 0;\n",
    "\n",
    "while (i < 10)\n",
    "{\n",
    "    Console.WriteLine(i);\n",
    "    ++i;\n",
    "}"
   ]
  },
  {
   "cell_type": "markdown",
   "metadata": {},
   "source": [
    "```mermaid\n",
    "flowchart TD\n",
    "    Start([Start]) --> A[Nastav i = 0]\n",
    "    A --> B{Je i < 10?}\n",
    "    B -- Ano --> C[Vypiš i do konzole]\n",
    "    C --> D[Zvětši i o 1]\n",
    "    D --> B\n",
    "    B -- Ne --> End([Konec])\n",
    "```"
   ]
  },
  {
   "cell_type": "markdown",
   "metadata": {},
   "source": [
    "## do-while\n",
    "\n",
    "Příkaz `do-while` používáme, pokud nevíme předem počet opakování a chceme aby se cyklus provedl alespoň jednou. Příkaz `Console.ReadKey(true).Key` čeká na stisk klávesy a nemusíme přitom zadávate enter."
   ]
  },
  {
   "cell_type": "code",
   "execution_count": null,
   "metadata": {
    "dotnet_interactive": {
     "language": "csharp"
    },
    "polyglot_notebook": {
     "kernelName": "csharp"
    }
   },
   "outputs": [
    {
     "name": "stdout",
     "output_type": "stream",
     "text": [
      "napsal jsi: neco\n",
      "napsal jsi: jak je\n",
      "napsal jsi: bla bla\n",
      "napsal jsi: konec\n",
      "Konec programu\n"
     ]
    }
   ],
   "source": [
    "using Microsoft.DotNet.Interactive;\n",
    "\n",
    "bool konec = false;\n",
    "\n",
    "do\n",
    "{\n",
    "    string vstup = await Kernel.GetInputAsync();\n",
    "\n",
    "    if (vstup == \"konec\")\n",
    "    {\n",
    "        konec = true;\n",
    "    }\n",
    "\n",
    "    Console.WriteLine($\"napsal jsi: {vstup}\");\n",
    "\n",
    "\n",
    "} while (!konec);\n",
    "\n",
    "Console.WriteLine(\"Konec programu\");\n"
   ]
  },
  {
   "cell_type": "markdown",
   "metadata": {},
   "source": [
    "```mermaid\n",
    "flowchart TD\n",
    "    Start([Start]) --> A[Nastav konec = false]\n",
    "    A --> B[Vstup od uživatele]\n",
    "    B --> C[Vypiš vstup]\n",
    "    C --> D{Je vstup konec?}\n",
    "    D -- Ano --> E[Nastav konec = true]\n",
    "    D -- Ne --> F[Pokračuj]\n",
    "    E --> G{Je konec == false?}\n",
    "    F --> G\n",
    "    G -- Ano --> B\n",
    "    G -- Ne --> H[Vypiš Konec programu]\n",
    "    H --> End([Konec])\n",
    "```"
   ]
  },
  {
   "cell_type": "markdown",
   "metadata": {},
   "source": [
    "Následující kód je zjednodušená verze předchozího kódu. Tentokrát s využitím příkazu `while`. Využívá toho že výsledkem operace přiřazení je hodnota toho přiřazení."
   ]
  },
  {
   "cell_type": "code",
   "execution_count": 7,
   "metadata": {
    "language_info": {
     "name": "polyglot-notebook"
    },
    "polyglot_notebook": {
     "kernelName": "csharp"
    }
   },
   "outputs": [
    {
     "name": "stdout",
     "output_type": "stream",
     "text": [
      "Konec programu\r\n"
     ]
    }
   ],
   "source": [
    "using Microsoft.DotNet.Interactive;\n",
    "\n",
    "string vstup;\n",
    "\n",
    "while((vstup = await Kernel.GetInputAsync()) != \"konec\")\n",
    "{\n",
    "    Console.WriteLine($\"napsal jsi: {vstup}\");\n",
    "}\n",
    "\n",
    "Console.WriteLine(\"Konec programu\");"
   ]
  },
  {
   "cell_type": "markdown",
   "metadata": {},
   "source": [
    "## for\n",
    "\n",
    "Příkaz `for` používáme většinou, pokud předem známe počet opakování."
   ]
  },
  {
   "cell_type": "code",
   "execution_count": 8,
   "metadata": {
    "dotnet_interactive": {
     "language": "csharp"
    },
    "polyglot_notebook": {
     "kernelName": "csharp"
    }
   },
   "outputs": [
    {
     "name": "stdout",
     "output_type": "stream",
     "text": [
      "0\n",
      "1\n",
      "2\n",
      "3\n",
      "4\n",
      "5\n",
      "6\n",
      "7\n",
      "8\n",
      "9\n"
     ]
    }
   ],
   "source": [
    "for (int i = 0; i < 10; i++)\n",
    "{\n",
    "    Console.WriteLine(i);\n",
    "}"
   ]
  },
  {
   "cell_type": "markdown",
   "metadata": {},
   "source": [
    "Následující diagram popisuje smyčku for."
   ]
  },
  {
   "cell_type": "markdown",
   "metadata": {},
   "source": [
    "```mermaid\n",
    "graph TD;\n",
    "  Start(Start)-->Init[Initialize]\n",
    "  Init-->Condition{Condition Check}\n",
    "  Condition--Yes-->Body[Loop Body]\n",
    "  Body-->Update[Update Iteration]\n",
    "  Update-->Condition\n",
    "  Condition--No-->End(End)\n",
    "  ```"
   ]
  },
  {
   "cell_type": "markdown",
   "metadata": {},
   "source": [
    "V následujím příkladu používáme cyklus for podobně jako cyklus `while`, ale z hlediska čitelnosti to není ideální. Jde jen o příklad, že je to možné. Většinou používáme cyklus for pro opakování s daným počtem opakování."
   ]
  },
  {
   "cell_type": "code",
   "execution_count": null,
   "metadata": {
    "language_info": {
     "name": "polyglot-notebook"
    },
    "polyglot_notebook": {
     "kernelName": "csharp"
    }
   },
   "outputs": [
    {
     "name": "stdout",
     "output_type": "stream",
     "text": [
      "napsal jsi: ahoj\n",
      "napsal jsi: jak je\n",
      "napsal jsi: bla bla\n"
     ]
    }
   ],
   "source": [
    "for (string vstup = await Kernel.GetInputAsync(); vstup != \"konec\"; vstup = await Kernel.GetInputAsync()) \n",
    "{\n",
    "    Console.WriteLine($\"napsal jsi: {vstup}\");\n",
    "}\n",
    "\n",
    "Console.WriteLine(\"Konec programu\");"
   ]
  },
  {
   "cell_type": "markdown",
   "metadata": {},
   "source": [
    "## break\n",
    "\n",
    "Provádění cyklu můžeme ukončit pomocí příkazu `break`. V následujícím příkazu výpis ukončíme po zadání řetězce \"konec\".\n",
    "\n",
    "V následujícím příkladu mám omezený počet vstupů na 10."
   ]
  },
  {
   "cell_type": "code",
   "execution_count": 14,
   "metadata": {
    "dotnet_interactive": {
     "language": "csharp"
    },
    "polyglot_notebook": {
     "kernelName": "csharp"
    }
   },
   "outputs": [
    {
     "name": "stdout",
     "output_type": "stream",
     "text": [
      "Zadej řetězec konec pro ukončení programu.\n",
      "Zadej jakýkoliv jiný řetězec pro nove cislo\n",
      "0\n",
      "1\n",
      "2\n",
      "3\n",
      "4\n",
      "5\n",
      "6\n",
      "7\n",
      "8\n",
      "9\n",
      "konec vypisu\n"
     ]
    }
   ],
   "source": [
    "Console.WriteLine(\"Zadej řetězec konec pro ukončení programu.\");\n",
    "Console.WriteLine(\"Zadej jakýkoliv jiný řetězec pro nove cislo\");\n",
    "\n",
    "for (int i = 0; i < 10; i++)\n",
    "{\n",
    "    string vstup = await Kernel.GetInputAsync();\n",
    "\n",
    "    if(vstup == \"konec\")\n",
    "    {\n",
    "        break;\n",
    "    }\n",
    "\n",
    "    Console.WriteLine(i);\n",
    "}\n",
    "\n",
    "Console.WriteLine(\"konec vypisu\");"
   ]
  },
  {
   "cell_type": "markdown",
   "metadata": {},
   "source": [
    "## continue\n",
    "\n",
    "Následující příkazy ve složeném příkazu cyklu můžeme přeskočit pomocí příkazu `continue`. V následujícím příkazu výpis přeskočíme zadáním řetězce \"preskoc\"."
   ]
  },
  {
   "cell_type": "code",
   "execution_count": 15,
   "metadata": {
    "dotnet_interactive": {
     "language": "csharp"
    },
    "polyglot_notebook": {
     "kernelName": "csharp"
    }
   },
   "outputs": [
    {
     "name": "stdout",
     "output_type": "stream",
     "text": [
      "Zadej řetězec preskoc pro preskočení výpisu čísla.\n",
      "Zadej jakýkoliv jiný řetězec pro nove cislo\n",
      "0\n",
      "1\n",
      "2\n",
      "4\n",
      "5\n"
     ]
    },
    {
     "ename": "Error",
     "evalue": "Input request cancelled",
     "output_type": "error",
     "traceback": [
      "Input request cancelled"
     ]
    },
    {
     "ename": "Error",
     "evalue": "System.Exception: Input request cancelled\r\n   at Microsoft.DotNet.Interactive.Kernel.GetInputAsync(String prompt, Boolean isPassword, String typeHint) in D:\\a\\_work\\1\\s\\src\\Microsoft.DotNet.Interactive\\Kernel.Static.cs:line 93\r\n   at Microsoft.DotNet.Interactive.Kernel.GetInputAsync(String prompt, String typeHint) in D:\\a\\_work\\1\\s\\src\\Microsoft.DotNet.Interactive\\Kernel.Static.cs:line 46\r\n   at Submission#15.<<Initialize>>d__0.MoveNext()\r\n--- End of stack trace from previous location ---\r\n   at Microsoft.CodeAnalysis.Scripting.ScriptExecutionState.RunSubmissionsAsync[TResult](ImmutableArray`1 precedingExecutors, Func`2 currentExecutor, StrongBox`1 exceptionHolderOpt, Func`2 catchExceptionOpt, CancellationToken cancellationToken)",
     "output_type": "error",
     "traceback": [
      "System.Exception: Input request cancelled\r\n",
      "   at Microsoft.DotNet.Interactive.Kernel.GetInputAsync(String prompt, Boolean isPassword, String typeHint) in D:\\a\\_work\\1\\s\\src\\Microsoft.DotNet.Interactive\\Kernel.Static.cs:line 93\r\n",
      "   at Microsoft.DotNet.Interactive.Kernel.GetInputAsync(String prompt, String typeHint) in D:\\a\\_work\\1\\s\\src\\Microsoft.DotNet.Interactive\\Kernel.Static.cs:line 46\r\n",
      "   at Submission#15.<<Initialize>>d__0.MoveNext()\r\n",
      "--- End of stack trace from previous location ---\r\n",
      "   at Microsoft.CodeAnalysis.Scripting.ScriptExecutionState.RunSubmissionsAsync[TResult](ImmutableArray`1 precedingExecutors, Func`2 currentExecutor, StrongBox`1 exceptionHolderOpt, Func`2 catchExceptionOpt, CancellationToken cancellationToken)"
     ]
    }
   ],
   "source": [
    "Console.WriteLine(\"Zadej řetězec preskoc pro preskočení výpisu čísla.\");\n",
    "Console.WriteLine(\"Zadej jakýkoliv jiný řetězec pro nove cislo\");\n",
    "\n",
    "for (int i = 0; i < 10; i++)\n",
    "{\n",
    "    string vstup = await Kernel.GetInputAsync();\n",
    "\n",
    "    if(vstup == \"preskoc\")\n",
    "    {\n",
    "        continue;\n",
    "    }\n",
    "\n",
    "    Console.WriteLine(i);\n",
    "}\n",
    "\n",
    "Console.WriteLine(\"konec vypisu\");"
   ]
  },
  {
   "cell_type": "markdown",
   "metadata": {},
   "source": [
    "## Ukončení vnořeného cyklu for\n",
    "\n",
    "Vnořený cyklus můžeme ukončit pomocí příkazu `goto`, příkazu `return` nebo pomocí pomocné proměnné."
   ]
  },
  {
   "cell_type": "code",
   "execution_count": 7,
   "metadata": {
    "language_info": {
     "name": "polyglot-notebook"
    },
    "polyglot_notebook": {
     "kernelName": "csharp"
    }
   },
   "outputs": [
    {
     "name": "stdout",
     "output_type": "stream",
     "text": [
      "i = 0, j = 0\n",
      "i = 0, j = 1\n",
      "i = 0, j = 2\n",
      "i = 0, j = 3\n",
      "i = 0, j = 4\n",
      "i = 0, j = 5\n",
      "i = 0, j = 6\n",
      "i = 0, j = 7\n",
      "i = 0, j = 8\n",
      "i = 0, j = 9\n",
      "i = 1, j = 0\n",
      "i = 1, j = 1\n",
      "i = 1, j = 2\n",
      "konec vnořeného cyklu\n"
     ]
    }
   ],
   "source": [
    "for (int i = 0; i < 10; i++)\n",
    "{\n",
    "    for(int j = 0; j < 10; j++)\n",
    "    {\n",
    "        if (i == 1 && j == 3)\n",
    "        {\n",
    "            goto label;\n",
    "        }\n",
    "\n",
    "        Console.WriteLine($\"i = {i}, j = {j}\");\n",
    "    }\n",
    "}\n",
    "\n",
    "label:\n",
    "Console.WriteLine(\"konec vnořeného cyklu\");"
   ]
  },
  {
   "cell_type": "code",
   "execution_count": null,
   "metadata": {
    "language_info": {
     "name": "polyglot-notebook"
    },
    "polyglot_notebook": {
     "kernelName": "csharp"
    }
   },
   "outputs": [
    {
     "name": "stdout",
     "output_type": "stream",
     "text": [
      "i = 0, j = 0\n",
      "i = 0, j = 1\n",
      "i = 0, j = 2\n",
      "i = 0, j = 3\n",
      "i = 0, j = 4\n",
      "i = 0, j = 5\n",
      "i = 0, j = 6\n",
      "i = 0, j = 7\n",
      "i = 0, j = 8\n",
      "i = 0, j = 9\n",
      "i = 1, j = 0\n",
      "i = 1, j = 1\n",
      "i = 1, j = 2\n"
     ]
    },
    {
     "data": {
      "text/html": [
       "<div class=\"dni-plaintext\"><pre>&lt;null&gt;</pre></div><style>\r\n",
       ".dni-code-hint {\r\n",
       "    font-style: italic;\r\n",
       "    overflow: hidden;\r\n",
       "    white-space: nowrap;\r\n",
       "}\r\n",
       ".dni-treeview {\r\n",
       "    white-space: nowrap;\r\n",
       "}\r\n",
       ".dni-treeview td {\r\n",
       "    vertical-align: top;\r\n",
       "    text-align: start;\r\n",
       "}\r\n",
       "details.dni-treeview {\r\n",
       "    padding-left: 1em;\r\n",
       "}\r\n",
       "table td {\r\n",
       "    text-align: start;\r\n",
       "}\r\n",
       "table tr { \r\n",
       "    vertical-align: top; \r\n",
       "    margin: 0em 0px;\r\n",
       "}\r\n",
       "table tr td pre \r\n",
       "{ \r\n",
       "    vertical-align: top !important; \r\n",
       "    margin: 0em 0px !important;\r\n",
       "} \r\n",
       "table th {\r\n",
       "    text-align: start;\r\n",
       "}\r\n",
       "</style>"
      ]
     },
     "metadata": {},
     "output_type": "display_data"
    }
   ],
   "source": [
    "for (int i = 0; i < 10; i++)\n",
    "{\n",
    "    for(int j = 0; j < 10; j++)\n",
    "    {\n",
    "        if (i == 1 && j == 3)\n",
    "        {\n",
    "            return; // ukonci metodu\n",
    "        }\n",
    "\n",
    "        Console.WriteLine($\"i = {i}, j = {j}\");\n",
    "    }\n",
    "}"
   ]
  },
  {
   "cell_type": "code",
   "execution_count": null,
   "metadata": {
    "language_info": {
     "name": "polyglot-notebook"
    },
    "polyglot_notebook": {
     "kernelName": "csharp"
    }
   },
   "outputs": [
    {
     "name": "stdout",
     "output_type": "stream",
     "text": [
      "i = 0, j = 0\n",
      "i = 0, j = 1\n",
      "i = 0, j = 2\n",
      "i = 0, j = 3\n",
      "i = 0, j = 4\n",
      "i = 0, j = 5\n",
      "i = 0, j = 6\n",
      "i = 0, j = 7\n",
      "i = 0, j = 8\n",
      "i = 0, j = 9\n",
      "i = 1, j = 0\n",
      "i = 1, j = 1\n",
      "i = 1, j = 2\n",
      "konec vnořeného cyklu\n"
     ]
    }
   ],
   "source": [
    "bool konec = false;\n",
    "\n",
    "for (int i = 0; i < 10 && !konec; i++)\n",
    "{\n",
    "    for(int j = 0; j < 10; j++)\n",
    "    {\n",
    "        if (i == 1 && j == 3)\n",
    "        {\n",
    "            konec = true;\n",
    "            break;\n",
    "        }\n",
    "\n",
    "        Console.WriteLine($\"i = {i}, j = {j}\");\n",
    "    }\n",
    "}\n",
    "\n",
    "Console.WriteLine(\"konec vnořeného cyklu\");"
   ]
  },
  {
   "cell_type": "markdown",
   "metadata": {},
   "source": [
    "## Zbytek po celočíselném dělení (modulo)\n",
    "\n",
    "Zbytek po celočíselném dělení získáme pomocí operátoru modulo `%`.\n",
    "\n",
    "- 9 % 2 = 9 - (4 * 2) = 1\n",
    "- 8 % 2 = 8 - (4 * 2) = 0\n",
    "- 1 % 2 = 1 - (0 * 2) = 1\n",
    "- 0 % 2 = 0 - (0 * 2) = 0"
   ]
  },
  {
   "cell_type": "code",
   "execution_count": 16,
   "metadata": {
    "language_info": {
     "name": "polyglot-notebook"
    },
    "polyglot_notebook": {
     "kernelName": "csharp"
    }
   },
   "outputs": [
    {
     "name": "stdout",
     "output_type": "stream",
     "text": [
      "0\n",
      "2\n",
      "4\n",
      "6\n",
      "8\n"
     ]
    }
   ],
   "source": [
    "for (int i = 0; i < 10; i++)\n",
    "{\n",
    "    if (i % 2 == 0)\n",
    "    {\n",
    "        Console.WriteLine(i);\n",
    "    }\n",
    "}"
   ]
  },
  {
   "cell_type": "markdown",
   "metadata": {},
   "source": [
    "Sudá čísla bych mohl vypsat i pomocí následujícího příkladu, kdy výraz `i += 2` přičte k proměnné `i` hodnotu `2`."
   ]
  },
  {
   "cell_type": "code",
   "execution_count": 17,
   "metadata": {
    "language_info": {
     "name": "polyglot-notebook"
    },
    "polyglot_notebook": {
     "kernelName": "csharp"
    }
   },
   "outputs": [
    {
     "name": "stdout",
     "output_type": "stream",
     "text": [
      "0\n",
      "2\n",
      "4\n",
      "6\n",
      "8\n"
     ]
    }
   ],
   "source": [
    "for (int i = 0; i < 10; i += 2)\n",
    "{\n",
    "    Console.WriteLine(i);\n",
    "}"
   ]
  },
  {
   "cell_type": "markdown",
   "metadata": {},
   "source": [
    "---\n",
    "## Příklady k procvičování"
   ]
  },
  {
   "cell_type": "markdown",
   "metadata": {},
   "source": [
    "### Zadání: 1: Příkaz while"
   ]
  },
  {
   "cell_type": "code",
   "execution_count": null,
   "metadata": {
    "dotnet_interactive": {
     "language": "csharp"
    },
    "polyglot_notebook": {
     "kernelName": "csharp"
    }
   },
   "outputs": [],
   "source": [
    "// s pomoci cyklu while vypiste na konzoli:\n",
    "\n",
    "// cisla 1,2,3,4,5,6,7,8,9\n",
    "\n",
    "// cisla 10,9,8,7,6,5,4,3,2,1\n",
    "\n",
    "// cisla 10,20,30,40,50,60,70,80,90,100\n",
    "\n",
    "// cisla 10,100,1000,10000,100000\n",
    "\n",
    "// cisla 256,128,64,32,16,8,4,2,1"
   ]
  },
  {
   "cell_type": "markdown",
   "metadata": {},
   "source": [
    "### Zadání: 2: Příkaz for"
   ]
  },
  {
   "cell_type": "code",
   "execution_count": null,
   "metadata": {
    "dotnet_interactive": {
     "language": "csharp"
    },
    "polyglot_notebook": {
     "kernelName": "csharp"
    }
   },
   "outputs": [],
   "source": [
    "// s pomoci cyklu forvypiste na konzoli:\n",
    "\n",
    "// cisla 1,2,3,4,5,6,7,8,9\n",
    "\n",
    "// cisla 10,9,8,7,6,5,4,3,2,1\n",
    "\n",
    "// cisla 10,20,30,40,50,60,70,80,90,100\n",
    "\n",
    "// cisla 10,100,1000,10000,100000\n",
    "\n",
    "// cisla 256,128,64,32,16,8,4,2,1"
   ]
  },
  {
   "cell_type": "markdown",
   "metadata": {},
   "source": [
    "### Zadání: 3: Faktorial"
   ]
  },
  {
   "cell_type": "code",
   "execution_count": null,
   "metadata": {
    "dotnet_interactive": {
     "language": "csharp"
    },
    "polyglot_notebook": {
     "kernelName": "csharp"
    }
   },
   "outputs": [],
   "source": [
    "// Spocitejte faktorial cisla n\n",
    "// n!\n",
    "int n = 6;"
   ]
  },
  {
   "cell_type": "markdown",
   "metadata": {},
   "source": [
    "### Zadání 4: Mocnina, kdy základ i exponent jsou kladná čísla."
   ]
  },
  {
   "cell_type": "markdown",
   "metadata": {},
   "source": [
    "Vytvořte kód, který spočít mocninu čísla, kdy základ i exponent jsou kladná čísla bez využití metody `Math.Pow`. Použijte cyklus."
   ]
  },
  {
   "cell_type": "code",
   "execution_count": 19,
   "metadata": {
    "language_info": {
     "name": "polyglot-notebook"
    },
    "polyglot_notebook": {
     "kernelName": "csharp"
    }
   },
   "outputs": [
    {
     "name": "stdout",
     "output_type": "stream",
     "text": [
      "2\r\n"
     ]
    }
   ],
   "source": [
    "int x = 2;\n",
    "int n = 8;\n",
    "\n",
    "int vysledek = x;\n",
    "\n",
    "// x na ntou, x^n\n",
    "\n",
    "Console.WriteLine(vysledek);"
   ]
  },
  {
   "cell_type": "markdown",
   "metadata": {},
   "source": [
    "### Zadání: 5: Modulo"
   ]
  },
  {
   "cell_type": "code",
   "execution_count": null,
   "metadata": {
    "dotnet_interactive": {
     "language": "csharp"
    },
    "polyglot_notebook": {
     "kernelName": "csharp"
    }
   },
   "outputs": [],
   "source": [
    "int x = 77;\n",
    "\n",
    "int zbytek = x % 5; // modulo, zbytek po celociselnem deleni\n",
    "\n",
    "if(zbytek == 0)\n",
    "{\n",
    "    Console.WriteLine(\"cislo je delitelne 5\");\n",
    "}\n",
    "\n",
    "// S pomocí operátoru modulo vypiste cisla od 0 do 100 delitelna 5 nebo 3\n",
    "// 0, 3, 5, 6, 9, 10 .... 100\n",
    "\n"
   ]
  },
  {
   "cell_type": "markdown",
   "metadata": {},
   "source": [
    "---\n",
    "## Řešení příkladů k procvičování"
   ]
  },
  {
   "cell_type": "markdown",
   "metadata": {},
   "source": [
    "### Řešení: 1: Příkaz while"
   ]
  },
  {
   "cell_type": "code",
   "execution_count": null,
   "metadata": {
    "dotnet_interactive": {
     "language": "csharp"
    },
    "polyglot_notebook": {
     "kernelName": "csharp"
    }
   },
   "outputs": [],
   "source": [
    "// s pomoci cyklu while vypiste na konzoli:\n",
    "int i;\n",
    "\n",
    "// cisla 1,2,3,4,5,6,7,8,9\n",
    "\n",
    "i = 1;\n",
    "while (i < 10) \n",
    "{\n",
    "    Console.WriteLine(i);\n",
    "    i++;\n",
    "}\n",
    "\n",
    "// cisla 10,9,8,7,6,5,4,3,2,1\n",
    "\n",
    "i = 10;\n",
    "while (i > 0) \n",
    "{\n",
    "    Console.WriteLine(i);\n",
    "    i--;\n",
    "}\n",
    "\n",
    "// cisla 10,20,30,40,50,60,70,80,90,100\n",
    "\n",
    "i = 10;\n",
    "while (i <= 100) \n",
    "{\n",
    "    Console.WriteLine(i);\n",
    "    i += 10;\n",
    "}\n",
    "\n",
    "// cisla 10,100,1000,10000,100000\n",
    "\n",
    "i = 10;\n",
    "while (i <= 10000) \n",
    "{\n",
    "    Console.WriteLine(i);\n",
    "    i *= 10;\n",
    "}\n",
    "\n",
    "// cisla 256,128,64,32,16,8,4,2,1\n",
    "\n",
    "i = 256;\n",
    "while (i > 0) \n",
    "{\n",
    "    Console.WriteLine(i);\n",
    "    i /= 2;\n",
    "}"
   ]
  },
  {
   "cell_type": "markdown",
   "metadata": {},
   "source": [
    "### Řešení: 2: Příkaz for"
   ]
  },
  {
   "cell_type": "code",
   "execution_count": null,
   "metadata": {
    "dotnet_interactive": {
     "language": "csharp"
    },
    "polyglot_notebook": {
     "kernelName": "csharp"
    }
   },
   "outputs": [],
   "source": [
    "// s pomoci cyklu for vypiste na konzoli \n",
    "// cisla 1,2,3,4,5,6,7,8,9\n",
    "for (int i = 1; i < 10; i++)\n",
    "{\n",
    "    Console.WriteLine(i);\n",
    "}\n",
    "\n",
    "// cisla 10,9,8,7,6,5,4,3,2,1\n",
    "for (int i = 10; i > 0; i--)\n",
    "{\n",
    "    Console.WriteLine(i);\n",
    "}\n",
    "\n",
    "// cisla 10,20,30,40,50,60,70,80,90,100\n",
    "for (int i = 10; i <= 100; i = i + 10)\n",
    "{\n",
    "    Console.WriteLine(i);\n",
    "}\n",
    "\n",
    "// cisla 10,100,1000,10000,100000\n",
    "for (int i = 10; i <= 100000; i = i * 10)\n",
    "{\n",
    "    Console.WriteLine(i);\n",
    "}\n",
    "\n",
    "// cisla 256,128,64,32,16,8,4,2,1\n",
    "for (int i = 256; i >= 1; i = i / 2)\n",
    "{\n",
    "    Console.WriteLine(i);\n",
    "}\n"
   ]
  },
  {
   "cell_type": "markdown",
   "metadata": {},
   "source": [
    "### Řešení 3: Faktorial"
   ]
  },
  {
   "cell_type": "code",
   "execution_count": null,
   "metadata": {
    "dotnet_interactive": {
     "language": "csharp"
    },
    "polyglot_notebook": {
     "kernelName": "csharp"
    }
   },
   "outputs": [],
   "source": [
    "// Spocitejte faktorial cisla n\n",
    "// n!\n",
    "int n = 6;\n",
    "\n",
    "\n",
    "int f = n--;\n",
    "for (; n > 1; n--)\n",
    "{\n",
    "    f = f * n;\n",
    "}\n",
    "\n",
    "Console.WriteLine(f);\n"
   ]
  },
  {
   "cell_type": "markdown",
   "metadata": {},
   "source": [
    "### Řešení 4: Mocnina, kdy základ i exponent jsou kladná čísla."
   ]
  },
  {
   "cell_type": "code",
   "execution_count": null,
   "metadata": {
    "language_info": {
     "name": "polyglot-notebook"
    },
    "polyglot_notebook": {
     "kernelName": "csharp"
    }
   },
   "outputs": [],
   "source": [
    "int x = 2;\n",
    "int n = 8;\n",
    "\n",
    "// x na ntou, x^n\n",
    "\n",
    "int vysledek = x;\n",
    "\n",
    "while (n > 1)\n",
    "{\n",
    "    vysledek *= x; // vysledek = vysledek * x\n",
    "    n--;\n",
    "}\n",
    "\n",
    "Console.WriteLine(vysledek);"
   ]
  },
  {
   "cell_type": "markdown",
   "metadata": {},
   "source": [
    "### Řešení 5: Modulo"
   ]
  },
  {
   "cell_type": "code",
   "execution_count": null,
   "metadata": {
    "dotnet_interactive": {
     "language": "csharp"
    },
    "polyglot_notebook": {
     "kernelName": "csharp"
    }
   },
   "outputs": [],
   "source": [
    "int x = 77;\n",
    "\n",
    "int zbytek = x % 5; // modulo, zbytek po celociselnem deleni\n",
    "\n",
    "if(zbytek == 0)\n",
    "{\n",
    "    Console.WriteLine(\"cislo je delitelne 5\");\n",
    "}\n",
    "\n",
    "// S pomocí operátoru modulo vypiste cisla od 0 do 100 delitelna 5 nebo 3\n",
    "// 0, 3, 5, 6, 9, 10 .... 100\n",
    "\n",
    "for (int i = 0; i < 100; i++)\n",
    "{\n",
    "    if((i % 5 == 0) || (i % 3 == 0))\n",
    "    {\n",
    "        Console.WriteLine(i);\n",
    "    }\n",
    "}"
   ]
  }
 ],
 "metadata": {
  "kernelspec": {
   "display_name": ".NET (C#)",
   "language": "C#",
   "name": ".net-csharp"
  },
  "language_info": {
   "name": "polyglot-notebook"
  },
  "polyglot_notebook": {
   "kernelInfo": {
    "defaultKernelName": "csharp",
    "items": [
     {
      "aliases": [],
      "name": "csharp"
     }
    ]
   }
  }
 },
 "nbformat": 4,
 "nbformat_minor": 2
}
