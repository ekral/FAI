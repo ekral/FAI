{
 "cells": [
  {
   "cell_type": "markdown",
   "metadata": {},
   "source": [
    "# 07 Metody\n",
    "\n",
    "Pro zvládnutí předmětu potřebujete vědět jak definovat metody ve strukturách, jak definovat parametry metody a jak předávat argumenty metodám a nakonec jak vrátit hodnotu z metody."
   ]
  },
  {
   "cell_type": "markdown",
   "metadata": {},
   "source": [
    "Na následujících příkladech si probereme jednotlivé příkazy. "
   ]
  },
  {
   "cell_type": "markdown",
   "metadata": {},
   "source": [
    "Nejprve si definujeme strukturu pro obélník, který bude mít definované rozměry `a` a `b`."
   ]
  },
  {
   "cell_type": "code",
   "execution_count": 1,
   "metadata": {
    "dotnet_interactive": {
     "language": "csharp"
    },
    "polyglot_notebook": {
     "kernelName": "csharp"
    },
    "vscode": {
     "languageId": "polyglot-notebook"
    }
   },
   "outputs": [],
   "source": [
    "struct Obdelnik\n",
    "{\n",
    "    public double a;\n",
    "    public double b;\n",
    "}"
   ]
  },
  {
   "cell_type": "markdown",
   "metadata": {},
   "source": [
    "Dále nadefinujeme metodu, pomocí které můžeme změnit rozměry obdélníku. Typ `void` znamená, že metoda nevrací žádný typ a v kulatých závorkách uvádíme seznam parametrů oddělený čárkou. Pomocí klíčového slova `this` můžeme odlišit **field** od lokální proměnné nebo parametru."
   ]
  },
  {
   "cell_type": "code",
   "execution_count": 2,
   "metadata": {
    "dotnet_interactive": {
     "language": "csharp"
    },
    "polyglot_notebook": {
     "kernelName": "csharp"
    },
    "vscode": {
     "languageId": "polyglot-notebook"
    }
   },
   "outputs": [],
   "source": [
    "struct Obdelnik\n",
    "{\n",
    "    public double a;\n",
    "    public double b;\n",
    "\n",
    "    public void ZmenRozmery(double a, double b)\n",
    "    {\n",
    "        this.a = a;\n",
    "        this.b = b;\n",
    "    }\n",
    "}"
   ]
  },
  {
   "cell_type": "markdown",
   "metadata": {},
   "source": [
    "Metodu potom zavoláme pomocí operátoru `.` a jména metody, kterému říkáme také identifikátor metody. Metodě potom předáváme v kulatých závorkách parametry pro její argumenty. Parametry se předávají jako hodnoty a argumenty jsou na nich nezávislé."
   ]
  },
  {
   "cell_type": "code",
   "execution_count": 3,
   "metadata": {
    "dotnet_interactive": {
     "language": "csharp"
    },
    "polyglot_notebook": {
     "kernelName": "csharp"
    },
    "vscode": {
     "languageId": "polyglot-notebook"
    }
   },
   "outputs": [],
   "source": [
    "Obdelnik o1 = new Obdelnik(); // rozmery budou 0,0\n",
    "o1.ZmenRozmery(2.0, 3.0);"
   ]
  },
  {
   "cell_type": "markdown",
   "metadata": {},
   "source": [
    "Metody také mohou vracet jednu hodnotu. V následujícím kódu definujeme metodu `VratObvod`, která má návratový typ `double` a nemá žádné parametry: "
   ]
  },
  {
   "cell_type": "code",
   "execution_count": 4,
   "metadata": {
    "dotnet_interactive": {
     "language": "csharp"
    },
    "polyglot_notebook": {
     "kernelName": "csharp"
    },
    "vscode": {
     "languageId": "polyglot-notebook"
    }
   },
   "outputs": [],
   "source": [
    "struct Obdelnik\n",
    "{\n",
    "    public double a;\n",
    "    public double b;\n",
    "\n",
    "    public void ZmenRozmery(double a, double b)\n",
    "    {\n",
    "        this.a = a;\n",
    "        this.b = b;\n",
    "    }\n",
    "\n",
    "    public double VratObvod()\n",
    "    {\n",
    "        return a + b;\n",
    "    }\n",
    "}"
   ]
  },
  {
   "cell_type": "markdown",
   "metadata": {},
   "source": [
    "U metody, která má návratový typ jiný než `void` a tedy vrací hodnotu je výsledkém volání metody hodnota, kterou vrátila metoda. Toto návratoou hodnotu v následujícím příkladu přiřazujeme pomocí operátoru `=` proměnné `obvod`."
   ]
  },
  {
   "cell_type": "code",
   "execution_count": 5,
   "metadata": {
    "dotnet_interactive": {
     "language": "csharp"
    },
    "polyglot_notebook": {
     "kernelName": "csharp"
    },
    "vscode": {
     "languageId": "polyglot-notebook"
    }
   },
   "outputs": [],
   "source": [
    "Obdelnik o1 = new Obdelnik(); // rozmery budou 0,0\n",
    "o1.ZmenRozmery(2.0, 3.0);\n",
    "double obvod = o1.VratObvod();"
   ]
  }
 ],
 "metadata": {
  "language_info": {
   "name": "csharp"
  }
 },
 "nbformat": 4,
 "nbformat_minor": 2
}
