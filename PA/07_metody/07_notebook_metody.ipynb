{
 "cells": [
  {
   "cell_type": "markdown",
   "metadata": {},
   "source": [
    "# 07 Metody\n",
    "\n",
    "Pro zvládnutí předmětu potřebujete vědět jak definovat metody ve strukturách, jak definovat parametry metody a jak předávat argumenty metodám a nakonec jak vrátit hodnotu z metody."
   ]
  },
  {
   "cell_type": "markdown",
   "metadata": {},
   "source": [
    "Na následujících příkladech si probereme jednotlivé příkazy. "
   ]
  },
  {
   "cell_type": "markdown",
   "metadata": {},
   "source": [
    "Nejprve si definujeme strukturu pro obélník, který bude mít definované rozměry `a` a `b`."
   ]
  },
  {
   "cell_type": "code",
   "execution_count": 1,
   "metadata": {
    "dotnet_interactive": {
     "language": "csharp"
    },
    "polyglot_notebook": {
     "kernelName": "csharp"
    },
    "vscode": {
     "languageId": "polyglot-notebook"
    }
   },
   "outputs": [],
   "source": [
    "struct Obdelnik\n",
    "{\n",
    "    public double a;\n",
    "    public double b;\n",
    "}"
   ]
  },
  {
   "cell_type": "markdown",
   "metadata": {},
   "source": [
    "Dále nadefinujeme metodu, pomocí které můžeme změnit rozměry obdélníku. Typ `void` znamená, že metoda nevrací žádný typ a v kulatých závorkách uvádíme seznam parametrů oddělený čárkou. Pomocí klíčového slova `this` můžeme odlišit **field** od lokální proměnné nebo parametru."
   ]
  },
  {
   "cell_type": "code",
   "execution_count": 7,
   "metadata": {
    "dotnet_interactive": {
     "language": "csharp"
    },
    "polyglot_notebook": {
     "kernelName": "csharp"
    },
    "vscode": {
     "languageId": "polyglot-notebook"
    }
   },
   "outputs": [],
   "source": [
    "struct Obdelnik\n",
    "{\n",
    "    public double a;\n",
    "    public double b;\n",
    "\n",
    "    public void ZmenRozmery(double a, double b)\n",
    "    {\n",
    "        this.a = a;\n",
    "        this.b = b;\n",
    "    }\n",
    "}\n",
    "\n"
   ]
  },
  {
   "cell_type": "markdown",
   "metadata": {},
   "source": [
    "Metodu potom zavoláme pomocí operátoru `.` a jména metody, kterému říkáme také identifikátor metody. Metodě potom předáváme v kulatých závorkách parametry pro její argumenty. Argumenty se předávají jako kopie hodnoty a parametry jsou na nich nezávislé."
   ]
  },
  {
   "cell_type": "code",
   "execution_count": 5,
   "metadata": {
    "dotnet_interactive": {
     "language": "csharp"
    },
    "polyglot_notebook": {
     "kernelName": "csharp"
    },
    "vscode": {
     "languageId": "polyglot-notebook"
    }
   },
   "outputs": [],
   "source": [
    "Obdelnik o1 = new Obdelnik(); // rozmery budou 0,0\n",
    "o1.ZmenRozmery(2.0, 3.0);"
   ]
  },
  {
   "cell_type": "markdown",
   "metadata": {},
   "source": [
    "Metody také mohou vracet jednu hodnotu. V následujícím kódu definujeme metodu `VratObvod`, která má návratový typ `double` a nemá žádné parametry: "
   ]
  },
  {
   "cell_type": "code",
   "execution_count": 9,
   "metadata": {
    "dotnet_interactive": {
     "language": "csharp"
    },
    "polyglot_notebook": {
     "kernelName": "csharp"
    },
    "vscode": {
     "languageId": "polyglot-notebook"
    }
   },
   "outputs": [],
   "source": [
    "struct Obdelnik\n",
    "{\n",
    "    public double a;\n",
    "    public double b;\n",
    "\n",
    "    public void ZmenRozmery(double a, double b)\n",
    "    {\n",
    "        this.a = a;\n",
    "        this.b = b;\n",
    "    }\n",
    "\n",
    "    public double VratObvod()\n",
    "    {\n",
    "        return 2 * (a + b);\n",
    "    }\n",
    "}"
   ]
  },
  {
   "cell_type": "markdown",
   "metadata": {},
   "source": [
    "U metody, která má návratový typ jiný než `void` a tedy vrací hodnotu je výsledkém volání metody hodnota, kterou vrátila metoda. Toto návratoou hodnotu v následujícím příkladu přiřazujeme pomocí operátoru `=` proměnné `obvod`."
   ]
  },
  {
   "cell_type": "code",
   "execution_count": 11,
   "metadata": {
    "dotnet_interactive": {
     "language": "csharp"
    },
    "polyglot_notebook": {
     "kernelName": "csharp"
    },
    "vscode": {
     "languageId": "polyglot-notebook"
    }
   },
   "outputs": [
    {
     "data": {
      "text/html": [
       "<div class=\"dni-plaintext\"><pre>10</pre></div><style>\r\n",
       ".dni-code-hint {\r\n",
       "    font-style: italic;\r\n",
       "    overflow: hidden;\r\n",
       "    white-space: nowrap;\r\n",
       "}\r\n",
       ".dni-treeview {\r\n",
       "    white-space: nowrap;\r\n",
       "}\r\n",
       ".dni-treeview td {\r\n",
       "    vertical-align: top;\r\n",
       "    text-align: start;\r\n",
       "}\r\n",
       "details.dni-treeview {\r\n",
       "    padding-left: 1em;\r\n",
       "}\r\n",
       "table td {\r\n",
       "    text-align: start;\r\n",
       "}\r\n",
       "table tr { \r\n",
       "    vertical-align: top; \r\n",
       "    margin: 0em 0px;\r\n",
       "}\r\n",
       "table tr td pre \r\n",
       "{ \r\n",
       "    vertical-align: top !important; \r\n",
       "    margin: 0em 0px !important;\r\n",
       "} \r\n",
       "table th {\r\n",
       "    text-align: start;\r\n",
       "}\r\n",
       "</style>"
      ]
     },
     "metadata": {},
     "output_type": "display_data"
    }
   ],
   "source": [
    "Obdelnik o1 = new Obdelnik(); // rozmery budou 0,0\n",
    "o1.ZmenRozmery(2.0, 3.0);\n",
    "double obvod = o1.VratObvod();\n",
    "obvod"
   ]
  },
  {
   "cell_type": "markdown",
   "metadata": {},
   "source": [
    "Pomocí `Tuples` můžeme vracet i více hodnot."
   ]
  },
  {
   "cell_type": "code",
   "execution_count": 12,
   "metadata": {
    "dotnet_interactive": {
     "language": "csharp"
    },
    "polyglot_notebook": {
     "kernelName": "csharp"
    },
    "vscode": {
     "languageId": "polyglot-notebook"
    }
   },
   "outputs": [],
   "source": [
    "class Trida\n",
    "{\n",
    "    public (int x, int y) VratViceHodnot()\n",
    "    {\n",
    "        return (1,2);\n",
    "    }\n",
    "}"
   ]
  },
  {
   "cell_type": "code",
   "execution_count": 15,
   "metadata": {
    "dotnet_interactive": {
     "language": "csharp"
    },
    "polyglot_notebook": {
     "kernelName": "csharp"
    },
    "vscode": {
     "languageId": "polyglot-notebook"
    }
   },
   "outputs": [],
   "source": [
    "Trida trida = new Trida();"
   ]
  },
  {
   "cell_type": "markdown",
   "metadata": {},
   "source": [
    "Buď můžu použít přímo strukturu `Tuple` a použít její fieldy, například `vysledek.x`,`vysledek.y`."
   ]
  },
  {
   "cell_type": "code",
   "execution_count": 18,
   "metadata": {
    "dotnet_interactive": {
     "language": "csharp"
    },
    "polyglot_notebook": {
     "kernelName": "csharp"
    },
    "vscode": {
     "languageId": "polyglot-notebook"
    }
   },
   "outputs": [
    {
     "name": "stdout",
     "output_type": "stream",
     "text": [
      "x: 1 y: 2\r\n"
     ]
    }
   ],
   "source": [
    "\n",
    "(int x, int y) vysledek = trida.VratViceHodnot();\n",
    "Console.WriteLine($\"x: {vysledek.x} y: {vysledek.y}\");\n"
   ]
  },
  {
   "cell_type": "markdown",
   "metadata": {},
   "source": [
    "Nebo můžeme použít dekompozici a mít přímo proměnné `x` a `y`."
   ]
  },
  {
   "cell_type": "code",
   "execution_count": 19,
   "metadata": {
    "dotnet_interactive": {
     "language": "csharp"
    },
    "polyglot_notebook": {
     "kernelName": "csharp"
    },
    "vscode": {
     "languageId": "polyglot-notebook"
    }
   },
   "outputs": [
    {
     "name": "stdout",
     "output_type": "stream",
     "text": [
      "x: 1 y: 2\r\n"
     ]
    }
   ],
   "source": [
    "(int x, int y) = trida.VratViceHodnot();\n",
    "Console.WriteLine($\"x: {x} y: {y}\");"
   ]
  },
  {
   "cell_type": "markdown",
   "metadata": {},
   "source": [
    "Poznámka: Dekompozici můžeme použít i bez `Tuples`."
   ]
  },
  {
   "cell_type": "code",
   "execution_count": 21,
   "metadata": {
    "dotnet_interactive": {
     "language": "csharp"
    },
    "polyglot_notebook": {
     "kernelName": "csharp"
    },
    "vscode": {
     "languageId": "polyglot-notebook"
    }
   },
   "outputs": [],
   "source": [
    "int a = 2;\n",
    "int b = 3;\n",
    "\n",
    "a = 7;\n",
    "b = 8;\n",
    "\n",
    "(a, b) = (7, 8);"
   ]
  }
 ],
 "metadata": {
  "language_info": {
   "name": "csharp"
  }
 },
 "nbformat": 4,
 "nbformat_minor": 2
}
