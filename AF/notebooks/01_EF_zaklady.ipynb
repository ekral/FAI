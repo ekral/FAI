{
 "cells": [
  {
   "cell_type": "markdown",
   "metadata": {},
   "source": [
    "# 01 Základy Entity Frameworku\n",
    "\n",
    "**autor: Erik Král ekral@utb.cz**\n",
    "\n",
    "---"
   ]
  },
  {
   "cell_type": "markdown",
   "metadata": {},
   "source": [
    "\n",
    "\n",
    "Entity Framework (EF) slouží k objektově relačnímu mapování. Což znamená, že můžeme pracovat s objekty v paměti a EF nám vygeneruje příkazy pro databází. Díky tomu také nejsme závislí na konkrétním typu databáze. S pomocí technologie **LINQ to Entities** (entita je třída reprezentující řádek tabulky v databázi) potom pracujeme s databází obdobným způsobem jako s objekty pomocí **LINQ to objects**.\n",
    "\n",
    "Návod pro Entity Framework: [Getting Started with EF Core](https://learn.microsoft.com/en-us/ef/core/get-started/overview/first-app?tabs=netcore-cli). "
   ]
  },
  {
   "cell_type": "markdown",
   "metadata": {},
   "source": [
    "## Příklad\n",
    "\n",
    "V následujícím příkladu definujteme třídu Student a pomocí migrací vytvoříme Sqlite databázi."
   ]
  },
  {
   "cell_type": "markdown",
   "metadata": {},
   "source": [
    "### 1. Definice entity student Student\n",
    "\n",
    "Nejprve si nadefinujeme třídu `Student`. Ve třídě nechceme mít parametrický konstruktor, což by nám mohlo komplikovat práci s Entity Frameworkem. Property představují sloupce tabulky a ```Id``` je dle jmenných konvencí primární klíč. Jako alternativu pro parametrický konstruktor v příkladu použiváme klíčové slovo ```required```, které říká, že ```Jmeno``` a ```Prijmeni``` musi mit přiřazenou hodnotu nejpozději v Object Initializeru."
   ]
  },
  {
   "cell_type": "code",
   "execution_count": 1,
   "metadata": {
    "dotnet_interactive": {
     "language": "csharp"
    },
    "polyglot_notebook": {
     "kernelName": "csharp"
    },
    "vscode": {
     "languageId": "polyglot-notebook"
    }
   },
   "outputs": [],
   "source": [
    "public class Student\n",
    "{\n",
    "    public int Id { get; set; } // Primární klíč dle jmenných konvencí\n",
    "    public required string Jmeno { get; set; }     \n",
    "    public required string Prijmeni { get; set; }     \n",
    "}\n",
    "\n",
    "Student student = new()\n",
    "{\n",
    "    Jmeno = \"Andrea\",\n",
    "    Prijmeni = \"Nova\"\n",
    "};"
   ]
  },
  {
   "cell_type": "markdown",
   "metadata": {},
   "source": [
    "Pokud chceme používat konkrétní databázi s Entity Frameworkem, tak musím do projektu přidat **database provider** pro tuto databázi. Database provider je knihovna distribuovaná jako nuget balíček. \n",
    "\n",
    "Například nuget balíček **Microsoft.EntityFrameworkCore.Sqlite** přidá do projektu podporu pro databází Sqlite."
   ]
  },
  {
   "cell_type": "markdown",
   "metadata": {},
   "source": [
    "### 2. Definice DbContextu\n",
    "\n",
    "Dále definujeme potomka třídy ```DbContext``` a kolekce ```DbSet``` potom definuje tabulku v databázi."
   ]
  },
  {
   "cell_type": "code",
   "execution_count": 2,
   "metadata": {
    "dotnet_interactive": {
     "language": "csharp"
    },
    "polyglot_notebook": {
     "kernelName": "csharp"
    },
    "vscode": {
     "languageId": "polyglot-notebook"
    }
   },
   "outputs": [
    {
     "data": {
      "text/html": [
       "<div><div></div><div></div><div><strong>Installed Packages</strong><ul><li><span>Microsoft.EntityFrameworkCore.Sqlite, 8.0.11</span></li></ul></div></div>"
      ]
     },
     "metadata": {},
     "output_type": "display_data"
    }
   ],
   "source": [
    "#r \"nuget:Microsoft.EntityFrameworkCore.Sqlite, 8.*\"\n",
    "\n",
    "using Microsoft.EntityFrameworkCore;\n",
    "\n",
    "public class StudentContext : DbContext\n",
    "{\n",
    "    public DbSet<Student> Students { get; set; }\n",
    "}"
   ]
  },
  {
   "cell_type": "markdown",
   "metadata": {},
   "source": [
    "Pomocí přetížené metody OnConfiguring potom nakonfigurujeme databázi, konrétně zadáme connection string. \n",
    "\n",
    "Jednoduchý zápis:"
   ]
  },
  {
   "cell_type": "code",
   "execution_count": 4,
   "metadata": {
    "dotnet_interactive": {
     "language": "csharp"
    },
    "polyglot_notebook": {
     "kernelName": "csharp"
    },
    "vscode": {
     "languageId": "polyglot-notebook"
    }
   },
   "outputs": [],
   "source": [
    "public class StudentContext : DbContext\n",
    "{\n",
    "    public DbSet<Student> Students { get; set; }\n",
    "\n",
    "    protected override void OnConfiguring(DbContextOptionsBuilder optionsBuilder)\n",
    "    {\n",
    "        optionsBuilder.UseSqlite(\"Data Source=studenti.db\");\n",
    "    }\n",
    "}"
   ]
  },
  {
   "cell_type": "markdown",
   "metadata": {},
   "source": [
    "Alternativně můžeme předat `DbContextOptions<ApplicationDbContext>` v konstruktoru. Díky tomu, můžeme mimo třídu zvolit i jiného providera a tedy používat jinou databázi. To je výhodné například při testování."
   ]
  },
  {
   "cell_type": "code",
   "execution_count": 9,
   "metadata": {
    "dotnet_interactive": {
     "language": "csharp"
    },
    "polyglot_notebook": {
     "kernelName": "csharp"
    },
    "vscode": {
     "languageId": "polyglot-notebook"
    }
   },
   "outputs": [],
   "source": [
    "public class StudentContext : DbContext\n",
    "{\n",
    "    public DbSet<Student> Students { get; set; }\n",
    "\n",
    "    public StudentContext(DbContextOptions<StudentContext> options) : base(options)\n",
    "    {\n",
    "\n",
    "    }\n",
    "}\n",
    "\n",
    "DbContextOptions<StudentContext> options = new DbContextOptionsBuilder<StudentContext>().UseSqlite(\"Data Source=studenti.db\").Options; \n",
    "\n",
    "using(StudentContext context = new StudentContext(options))\n",
    "{\n",
    "\n",
    "}"
   ]
  },
  {
   "cell_type": "markdown",
   "metadata": {},
   "source": [
    "---\n",
    "Poznámka: Pro vytvoření connection stringu můžeme použít `SqliteConnectionStringBuilder` tak aby nedošlo k chybnému zápisu. V příkladu také volíme umístění souboru Sqlite databáze do dokumentů uživatele."
   ]
  },
  {
   "cell_type": "code",
   "execution_count": 10,
   "metadata": {
    "dotnet_interactive": {
     "language": "csharp"
    },
    "polyglot_notebook": {
     "kernelName": "csharp"
    },
    "vscode": {
     "languageId": "polyglot-notebook"
    }
   },
   "outputs": [
    {
     "data": {
      "text/plain": [
       "Data Source=C:\\Users\\erik\\Documents\\studenti3.db"
      ]
     },
     "metadata": {},
     "output_type": "display_data"
    }
   ],
   "source": [
    "using System.IO;\n",
    "using Microsoft.Data.Sqlite;\n",
    "\n",
    "var folder = Environment.SpecialFolder.MyDocuments;\n",
    "string folderPath = Environment.GetFolderPath(folder);\n",
    "string filePath = Path.Join(folderPath, \"studenti3.db\");\n",
    "\n",
    "SqliteConnectionStringBuilder csb = new SqliteConnectionStringBuilder\n",
    "{\n",
    "    DataSource = filePath\n",
    "};\n",
    "\n",
    "csb.ConnectionString\n",
    "    "
   ]
  },
  {
   "cell_type": "markdown",
   "metadata": {},
   "source": [
    "Dále můžeme přidat metodu ```OnModelCreating```, kde můžeme zadat výchozí data v databází, ale také přesněji specifikovat primární klíče, cizí klíče a další."
   ]
  },
  {
   "cell_type": "code",
   "execution_count": 13,
   "metadata": {
    "vscode": {
     "languageId": "polyglot-notebook"
    }
   },
   "outputs": [],
   "source": [
    "public class StudentContext : DbContext\n",
    "{\n",
    "    public DbSet<Student> Students { get; set; }\n",
    "\n",
    "    protected override void OnConfiguring(DbContextOptionsBuilder optionsBuilder)\n",
    "    {\n",
    "        optionsBuilder.UseSqlite(\"Data Source=studenti.db\");\n",
    "    }\n",
    "    \n",
    "    protected override void OnModelCreating(ModelBuilder modelBuilder)\n",
    "    {\n",
    "        modelBuilder.Entity<Student>().HasData(\n",
    "            new Student() { Id = 1, Jmeno = \"Andrea\", Prijmeni = \"Nova\"},\n",
    "            new Student() { Id = 2, Jmeno = \"Jiri\", Prijmeni = \"Novotny\"},\n",
    "            new Student() { Id = 3, Jmeno = \"Karel\", Prijmeni = \"Vesely\"}\n",
    "        );\n",
    "    }\n",
    "}"
   ]
  },
  {
   "cell_type": "markdown",
   "metadata": {},
   "source": [
    "### 3. Vytvoření databáze\n",
    "\n",
    "TODO"
   ]
  }
 ],
 "metadata": {
  "kernelspec": {
   "display_name": ".NET (C#)",
   "language": "C#",
   "name": ".net-csharp"
  },
  "language_info": {
   "name": "python"
  },
  "polyglot_notebook": {
   "kernelInfo": {
    "defaultKernelName": "csharp",
    "items": [
     {
      "aliases": [],
      "name": "csharp"
     }
    ]
   }
  }
 },
 "nbformat": 4,
 "nbformat_minor": 2
}
