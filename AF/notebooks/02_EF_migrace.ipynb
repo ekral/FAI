{
 "cells": [
  {
   "cell_type": "markdown",
   "metadata": {},
   "source": [
    "# 02 Migrace v Entity Frameworku\n",
    "\n",
    "**autor: Erik Král ekral@utb.cz**\n",
    "\n",
    "---"
   ]
  }
 ],
 "metadata": {
  "language_info": {
   "name": "python"
  }
 },
 "nbformat": 4,
 "nbformat_minor": 2
}
