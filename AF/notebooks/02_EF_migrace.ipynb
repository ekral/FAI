{
 "cells": [
  {
   "cell_type": "markdown",
   "metadata": {},
   "source": [
    "# 02 Migrace v Entity Frameworku\n",
    "\n",
    "**autor: Erik Král ekral@utb.cz**\n",
    "\n",
    "---"
   ]
  },
  {
   "cell_type": "code",
   "execution_count": 1,
   "metadata": {
    "vscode": {
     "languageId": "polyglot-notebook"
    }
   },
   "outputs": [
    {
     "ename": "Error",
     "evalue": "(1,31): error CS0246: The type or namespace name 'DbContext' could not be found (are you missing a using directive or an assembly reference?)\r\n(3,12): error CS0246: The type or namespace name 'DbSet<>' could not be found (are you missing a using directive or an assembly reference?)\r\n(3,18): error CS0246: The type or namespace name 'Student' could not be found (are you missing a using directive or an assembly reference?)\r\n(5,43): error CS0246: The type or namespace name 'DbContextOptionsBuilder' could not be found (are you missing a using directive or an assembly reference?)",
     "output_type": "error",
     "traceback": [
      "(1,31): error CS0246: The type or namespace name 'DbContext' could not be found (are you missing a using directive or an assembly reference?)\r\n",
      "(3,12): error CS0246: The type or namespace name 'DbSet<>' could not be found (are you missing a using directive or an assembly reference?)\r\n",
      "(3,18): error CS0246: The type or namespace name 'Student' could not be found (are you missing a using directive or an assembly reference?)\r\n",
      "(5,43): error CS0246: The type or namespace name 'DbContextOptionsBuilder' could not be found (are you missing a using directive or an assembly reference?)"
     ]
    }
   ],
   "source": [
    "public class StudentContext : DbContext\n",
    "{\n",
    "    public DbSet<Student> Students { get; set; }\n",
    "\n",
    "    protected override void OnConfiguring(DbContextOptionsBuilder optionsBuilder)\n",
    "    {\n",
    "        optionsBuilder.UseSqlite(\"Data Source=studenti.db\");\n",
    "    }\n",
    "}"
   ]
  }
 ],
 "metadata": {
  "kernelspec": {
   "display_name": ".NET (C#)",
   "language": "C#",
   "name": ".net-csharp"
  },
  "language_info": {
   "name": "python"
  },
  "polyglot_notebook": {
   "kernelInfo": {
    "defaultKernelName": "csharp",
    "items": [
     {
      "aliases": [],
      "name": "csharp"
     }
    ]
   }
  }
 },
 "nbformat": 4,
 "nbformat_minor": 2
}
