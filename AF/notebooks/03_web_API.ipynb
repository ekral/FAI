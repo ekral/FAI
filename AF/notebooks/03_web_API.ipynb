{
 "cells": [
  {
   "cell_type": "markdown",
   "metadata": {},
   "source": [
    "# 03 Minimal Web API\n",
    "\n",
    "**autor: Erik Král ekral@utb.cz**\n",
    "\n",
    "---\n",
    "\n",
    "V tomto materiálu si probereme práci s webovými službami s pomocí Minimal Web API.\n",
    "\n",
    "Web API (Web Application Programming Interface) je sada pravidel a protokolů umožňující komunikovat programům prostřednictvím internetu. REST (Representation State Transfer) je druh Web API a představuj architektonický styl použivající standartní HTTP metody (GET, POST, PUT a DELETE) zpřístpňující endpoity identifikvané pomocí URI. Pro přenos dat využívá přitom především format JSON.\n",
    "\n",
    "Minimal Web API je zjednodušený způsob tvorby HTTP API pomocí ASP.NET Core. "
   ]
  },
  {
   "cell_type": "markdown",
   "metadata": {},
   "source": [
    "Nejprve si nainstalujeme nuget pomocí kterého bude moct hostovat Minimal Web API přímo v tomto notebooku."
   ]
  },
  {
   "cell_type": "code",
   "execution_count": null,
   "metadata": {},
   "outputs": [
    {
     "data": {
      "text/html": [
       "<div><div></div><div></div><div><strong>Installed Packages</strong><ul><li><span>Microsoft.DotNet.Interactive.AspNetCore, 1.0.0-beta.25110.2</span></li></ul></div></div>"
      ]
     },
     "metadata": {},
     "output_type": "display_data"
    },
    {
     "data": {
      "text/plain": [
       "Loading extension script from `C:\\Users\\erik\\.nuget\\packages\\microsoft.dotnet.interactive.aspnetcore\\1.0.0-beta.25110.2\\interactive-extensions\\dotnet\\extension.dib`"
      ]
     },
     "metadata": {},
     "output_type": "display_data"
    }
   ],
   "source": [
    "#r \"nuget:Microsoft.DotNet.Interactive.AspNetCore,*-*\""
   ]
  },
  {
   "cell_type": "markdown",
   "metadata": {},
   "source": [
    "Následující kód vrátí na metodu GET \"Hello World\" spolu s počtem volání této metody. Představuje nejjednodušší program v Minimal Web API."
   ]
  },
  {
   "cell_type": "code",
   "execution_count": null,
   "metadata": {
    "dotnet_interactive": {
     "language": "csharp"
    },
    "polyglot_notebook": {
     "kernelName": "csharp"
    }
   },
   "outputs": [
    {
     "name": "stdout",
     "output_type": "stream",
     "text": [
      "info: Microsoft.Hosting.Lifetime[14]\n",
      "      Now listening on: http://localhost:5000\n",
      "info: Microsoft.Hosting.Lifetime[0]\n",
      "      Application started. Press Ctrl+C to shut down.\n",
      "info: Microsoft.Hosting.Lifetime[0]\n",
      "      Hosting environment: Production\n",
      "info: Microsoft.Hosting.Lifetime[0]\n",
      "      Content root path: c:\\Users\\erik\\source\\repos\\FAI\\AF\\notebooks\n"
     ]
    }
   ],
   "source": [
    "#!aspnet\n",
    "\n",
    "var builder = WebApplication.CreateBuilder();\n",
    "var app = builder.Build();\n",
    "\n",
    "int x = 0;\n",
    "app.MapGet(\"/\", () => $\"Hello World {++x}\");\n",
    "\n",
    "await app.StartAsync();\n"
   ]
  },
  {
   "cell_type": "markdown",
   "metadata": {},
   "source": [
    "Server zastavíme následujícím příkazem:"
   ]
  },
  {
   "cell_type": "code",
   "execution_count": null,
   "metadata": {
    "dotnet_interactive": {
     "language": "csharp"
    },
    "polyglot_notebook": {
     "kernelName": "csharp"
    }
   },
   "outputs": [],
   "source": [
    "await app.StopAsync();"
   ]
  },
  {
   "cell_type": "markdown",
   "metadata": {},
   "source": [
    "Nyní si na příkladech probereme jednotlivé metody GET, POST, PUT a DELETE a využijeme při tom Entity Framework."
   ]
  },
  {
   "cell_type": "markdown",
   "metadata": {},
   "source": [
    "Použijeme nuget balíček [Microsoft.EntityFrameworkCore.Sqlite](https://www.nuget.org/packages/microsoft.entityframeworkcore.sqlite), který přidá do notebook EF providera pro databází Sqlite."
   ]
  },
  {
   "cell_type": "code",
   "execution_count": null,
   "metadata": {},
   "outputs": [
    {
     "data": {
      "text/html": [
       "<div><div></div><div></div><div><strong>Installed Packages</strong><ul><li><span>Microsoft.EntityFrameworkCore.Sqlite, 9.0.2</span></li></ul></div></div>"
      ]
     },
     "metadata": {},
     "output_type": "display_data"
    }
   ],
   "source": [
    "#r \"nuget: Microsoft.EntityFrameworkCore.Sqlite\""
   ]
  },
  {
   "cell_type": "markdown",
   "metadata": {},
   "source": [
    "Nadefinujeme si metodu `GetConnectionString`, která vrátí connection string s umístěním souboru databáze do dokumentů uživatele, tak abychom soubor rychle našli."
   ]
  },
  {
   "cell_type": "code",
   "execution_count": null,
   "metadata": {},
   "outputs": [
    {
     "data": {
      "text/plain": [
       "Data Source=C:\\Users\\erik\\Documents\\students.db"
      ]
     },
     "metadata": {},
     "output_type": "display_data"
    }
   ],
   "source": [
    "using System.IO;\n",
    "using Microsoft.Data.Sqlite;\n",
    "\n",
    "static string GetConnectionString(string fileName)\n",
    "{\n",
    "    var folder = Environment.SpecialFolder.MyDocuments;\n",
    "    string folderPath = Environment.GetFolderPath(folder);\n",
    "    string filePath = Path.Join(folderPath, fileName);\n",
    "\n",
    "    SqliteConnectionStringBuilder csb = new SqliteConnectionStringBuilder\n",
    "    {\n",
    "        DataSource = filePath\n",
    "    };\n",
    "\n",
    "    string connectionString = csb.ConnectionString;\n",
    "\n",
    "    return connectionString;\n",
    "}\n",
    "\n",
    "GetConnectionString(\"students.db\")"
   ]
  },
  {
   "cell_type": "markdown",
   "metadata": {},
   "source": [
    "Nadefinujeme si třídu student:"
   ]
  },
  {
   "cell_type": "code",
   "execution_count": null,
   "metadata": {},
   "outputs": [],
   "source": [
    "class Student\n",
    "{\n",
    "    public int StudentId {get; set;}\n",
    "    public required string Jmeno {get; set;}\n",
    "    public required bool Studuje {get;set;}\n",
    "}"
   ]
  },
  {
   "cell_type": "code",
   "execution_count": null,
   "metadata": {},
   "outputs": [
    {
     "ename": "Error",
     "evalue": "(1,31): error CS0246: The type or namespace name 'DbContext' could not be found (are you missing a using directive or an assembly reference?)\r\n(3,12): error CS0246: The type or namespace name 'DbSet<>' could not be found (are you missing a using directive or an assembly reference?)\r\n(3,27): error CS0053: Inconsistent accessibility: property type 'DbSet<Student>' is less accessible than property 'StudentContext.Studenti'",
     "output_type": "error",
     "traceback": [
      "(1,31): error CS0246: The type or namespace name 'DbContext' could not be found (are you missing a using directive or an assembly reference?)\r\n",
      "(3,12): error CS0246: The type or namespace name 'DbSet<>' could not be found (are you missing a using directive or an assembly reference?)\r\n",
      "(3,27): error CS0053: Inconsistent accessibility: property type 'DbSet<Student>' is less accessible than property 'StudentContext.Studenti'"
     ]
    }
   ],
   "source": [
    "public class StudentContext : DbContext\n",
    "{\n",
    "    public DbSet<Student> Studenti { get; set; }\n",
    "\n",
    "}"
   ]
  }
 ],
 "metadata": {
  "kernelspec": {
   "display_name": ".NET (C#)",
   "language": "C#",
   "name": ".net-csharp"
  },
  "polyglot_notebook": {
   "kernelInfo": {
    "defaultKernelName": "csharp",
    "items": [
     {
      "aliases": [],
      "languageName": "csharp",
      "name": "csharp"
     }
    ]
   }
  }
 },
 "nbformat": 4,
 "nbformat_minor": 2
}
