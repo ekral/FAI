{
 "cells": [
  {
   "cell_type": "markdown",
   "metadata": {},
   "source": [
    "# 03 Minimal Web API\n",
    "\n",
    "**autor: Erik Král ekral@utb.cz**\n",
    "\n",
    "---\n",
    "\n",
    "V tomto materiálu si probereme práci s webovými službami s pomocí Minimal Web API.\n",
    "\n",
    "Web API (Web Application Programming Interface) je sada pravidel a protokolů umožňující komunikovat programům prostřednictvím internetu. REST (Representation State Transfer) je druh Web API a představuj architektonický styl použivající standartní HTTP metody (GET, POST, PUT a DELETE) zpřístpňující endpoity identifikvané pomocí URI. Pro přenos dat využívá přitom především format JSON.\n",
    "\n",
    "Minimal Web API je zjednodušený způsob tvorby HTTP API pomocí ASP.NET Core.\n",
    "\n",
    "https://learn.microsoft.com/en-us/aspnet/core/tutorials/min-web-api"
   ]
  },
  {
   "cell_type": "markdown",
   "metadata": {},
   "source": [
    "Nejprve si nainstalujeme nuget pomocí kterého bude moct hostovat Minimal Web API přímo v tomto notebooku."
   ]
  },
  {
   "cell_type": "code",
   "execution_count": null,
   "metadata": {
    "dotnet_interactive": {
     "language": "csharp"
    },
    "polyglot_notebook": {
     "kernelName": "csharp"
    }
   },
   "outputs": [
    {
     "data": {
      "text/html": [
       "<div><div></div><div></div><div><strong>Installed Packages</strong><ul><li><span>Microsoft.DotNet.Interactive.AspNetCore, 1.0.0-beta.25110.2</span></li></ul></div></div>"
      ]
     },
     "metadata": {},
     "output_type": "display_data"
    },
    {
     "data": {
      "text/plain": [
       "Loading extension script from `C:\\Users\\erik\\.nuget\\packages\\microsoft.dotnet.interactive.aspnetcore\\1.0.0-beta.25110.2\\interactive-extensions\\dotnet\\extension.dib`"
      ]
     },
     "metadata": {},
     "output_type": "display_data"
    }
   ],
   "source": [
    "#r \"nuget:Microsoft.DotNet.Interactive.AspNetCore,*-*\""
   ]
  },
  {
   "cell_type": "markdown",
   "metadata": {},
   "source": [
    "Následující kód vrátí na metodu GET \"Hello World\" spolu s počtem volání této metody. Představuje nejjednodušší program v Minimal Web API."
   ]
  },
  {
   "cell_type": "code",
   "execution_count": null,
   "metadata": {
    "dotnet_interactive": {
     "language": "csharp"
    },
    "polyglot_notebook": {
     "kernelName": "csharp"
    }
   },
   "outputs": [],
   "source": [
    "#!aspnet\n",
    "\n",
    "var builder = WebApplication.CreateBuilder();\n",
    "\n",
    "var app = builder.Build();\n",
    "\n",
    "int x = 0;\n",
    "app.MapGet(\"/\", () => $\"Hello World {++x}\");\n",
    "\n",
    "await app.StartAsync();\n"
   ]
  },
  {
   "cell_type": "markdown",
   "metadata": {},
   "source": [
    "Server zastavíme následujícím příkazem:"
   ]
  },
  {
   "cell_type": "code",
   "execution_count": null,
   "metadata": {
    "dotnet_interactive": {
     "language": "csharp"
    },
    "polyglot_notebook": {
     "kernelName": "csharp"
    }
   },
   "outputs": [],
   "source": [
    "await app.StopAsync();"
   ]
  },
  {
   "cell_type": "markdown",
   "metadata": {},
   "source": [
    "Nyní si na příkladech probereme jednotlivé metody GET, POST, PUT a DELETE a využijeme při tom Entity Framework."
   ]
  },
  {
   "cell_type": "markdown",
   "metadata": {},
   "source": [
    "Použijeme nuget balíček [Microsoft.EntityFrameworkCore.Sqlite](https://www.nuget.org/packages/microsoft.entityframeworkcore.sqlite), který přidá do notebook EF providera pro databází Sqlite."
   ]
  },
  {
   "cell_type": "code",
   "execution_count": null,
   "metadata": {
    "dotnet_interactive": {
     "language": "csharp"
    },
    "polyglot_notebook": {
     "kernelName": "csharp"
    }
   },
   "outputs": [
    {
     "data": {
      "text/html": [
       "<div><div></div><div></div><div><strong>Installed Packages</strong><ul><li><span>Microsoft.AspNetCore.Http, 2.3.0</span></li><li><span>Microsoft.AspNetCore.Http.Abstractions, 2.3.0</span></li><li><span>Microsoft.EntityFrameworkCore.Sqlite, 9.0.2</span></li><li><span>Microsoft.Extensions.DependencyInjection, 9.0.2</span></li></ul></div></div>"
      ]
     },
     "metadata": {},
     "output_type": "display_data"
    }
   ],
   "source": [
    "#r \"nuget: Microsoft.EntityFrameworkCore.Sqlite\"\n",
    "#r \"nuget: Microsoft.Extensions.DependencyInjection\"\n",
    "#r \"nuget: Microsoft.AspNetCore.Http\"\n",
    "#r \"nuget: Microsoft.AspNetCore.Http.Abstractions\""
   ]
  },
  {
   "cell_type": "code",
   "execution_count": null,
   "metadata": {},
   "outputs": [],
   "source": []
  },
  {
   "cell_type": "markdown",
   "metadata": {},
   "source": [
    "Nadefinujeme si metodu `GetConnectionString`, která vrátí connection string s umístěním souboru databáze do dokumentů uživatele, tak abychom soubor rychle našli."
   ]
  },
  {
   "cell_type": "code",
   "execution_count": null,
   "metadata": {
    "dotnet_interactive": {
     "language": "csharp"
    },
    "polyglot_notebook": {
     "kernelName": "csharp"
    }
   },
   "outputs": [
    {
     "data": {
      "text/plain": [
       "Data Source=C:\\Users\\erik\\Documents\\students.db"
      ]
     },
     "metadata": {},
     "output_type": "display_data"
    }
   ],
   "source": [
    "using System.IO;\n",
    "using Microsoft.Data.Sqlite;\n",
    "\n",
    "static string GetConnectionString(string fileName)\n",
    "{\n",
    "    var folder = Environment.SpecialFolder.MyDocuments;\n",
    "    string folderPath = Environment.GetFolderPath(folder);\n",
    "    string filePath = Path.Join(folderPath, fileName);\n",
    "\n",
    "    SqliteConnectionStringBuilder csb = new SqliteConnectionStringBuilder\n",
    "    {\n",
    "        DataSource = filePath\n",
    "    };\n",
    "\n",
    "    string connectionString = csb.ConnectionString;\n",
    "\n",
    "    return connectionString;\n",
    "}\n",
    "\n",
    "GetConnectionString(\"students.db\")"
   ]
  },
  {
   "cell_type": "markdown",
   "metadata": {},
   "source": [
    "Nadefinujeme si třídu `Student`:"
   ]
  },
  {
   "cell_type": "code",
   "execution_count": null,
   "metadata": {
    "dotnet_interactive": {
     "language": "csharp"
    },
    "polyglot_notebook": {
     "kernelName": "csharp"
    }
   },
   "outputs": [],
   "source": [
    "public class Student\n",
    "{\n",
    "    public int StudentId {get; set;}\n",
    "    public required string Jmeno {get; set;}\n",
    "    public required bool Studuje {get;set;}\n",
    "}"
   ]
  },
  {
   "cell_type": "markdown",
   "metadata": {},
   "source": [
    "Dále si nadefinujeme `DbContext`:"
   ]
  },
  {
   "cell_type": "code",
   "execution_count": null,
   "metadata": {
    "dotnet_interactive": {
     "language": "csharp"
    },
    "polyglot_notebook": {
     "kernelName": "csharp"
    }
   },
   "outputs": [],
   "source": [
    "using Microsoft.EntityFrameworkCore;\n",
    "\n",
    "public class StudentContext : DbContext\n",
    "{\n",
    "    public DbSet<Student> Studenti { get; set; }\n",
    "\n",
    "    public StudentContext(DbContextOptions<StudentContext> options) : base(options)\n",
    "    {\n",
    "        \n",
    "    }\n",
    "}"
   ]
  },
  {
   "cell_type": "markdown",
   "metadata": {},
   "source": [
    "Nyní si můžeme nadefinovat endpointy:"
   ]
  },
  {
   "cell_type": "code",
   "execution_count": null,
   "metadata": {
    "dotnet_interactive": {
     "language": "csharp"
    },
    "polyglot_notebook": {
     "kernelName": "csharp"
    }
   },
   "outputs": [
    {
     "ename": "Error",
     "evalue": "(14,13): error CS0246: The type or namespace name 'IResult' could not be found (are you missing a using directive or an assembly reference?)\r\nerror CS1705: Assembly 'Microsoft.AspNetCore' with identity 'Microsoft.AspNetCore, Version=9.0.0.0, Culture=neutral, PublicKeyToken=adb9793829ddae60' uses 'Microsoft.AspNetCore.Http.Abstractions, Version=9.0.0.0, Culture=neutral, PublicKeyToken=adb9793829ddae60' which has a higher version than referenced assembly 'Microsoft.AspNetCore.Http.Abstractions' with identity 'Microsoft.AspNetCore.Http.Abstractions, Version=2.3.0.0, Culture=neutral, PublicKeyToken=adb9793829ddae60'\r\nerror CS1705: Assembly 'Microsoft.AspNetCore' with identity 'Microsoft.AspNetCore, Version=9.0.0.0, Culture=neutral, PublicKeyToken=adb9793829ddae60' uses 'Microsoft.AspNetCore.Http.Abstractions, Version=9.0.0.0, Culture=neutral, PublicKeyToken=adb9793829ddae60' which has a higher version than referenced assembly 'Microsoft.AspNetCore.Http.Abstractions' with identity 'Microsoft.AspNetCore.Http.Abstractions, Version=2.3.0.0, Culture=neutral, PublicKeyToken=adb9793829ddae60'\r\nerror CS1705: Assembly 'Microsoft.AspNetCore.Routing' with identity 'Microsoft.AspNetCore.Routing, Version=9.0.0.0, Culture=neutral, PublicKeyToken=adb9793829ddae60' uses 'Microsoft.AspNetCore.Http.Abstractions, Version=9.0.0.0, Culture=neutral, PublicKeyToken=adb9793829ddae60' which has a higher version than referenced assembly 'Microsoft.AspNetCore.Http.Abstractions' with identity 'Microsoft.AspNetCore.Http.Abstractions, Version=2.3.0.0, Culture=neutral, PublicKeyToken=adb9793829ddae60'\r\n(16,12): error CS0234: The type or namespace name 'TypedResults' does not exist in the namespace 'Microsoft.AspNetCore.Http.HttpResults' (are you missing an assembly reference?)",
     "output_type": "error",
     "traceback": [
      "(14,13): error CS0246: The type or namespace name 'IResult' could not be found (are you missing a using directive or an assembly reference?)\r\n",
      "error CS1705: Assembly 'Microsoft.AspNetCore' with identity 'Microsoft.AspNetCore, Version=9.0.0.0, Culture=neutral, PublicKeyToken=adb9793829ddae60' uses 'Microsoft.AspNetCore.Http.Abstractions, Version=9.0.0.0, Culture=neutral, PublicKeyToken=adb9793829ddae60' which has a higher version than referenced assembly 'Microsoft.AspNetCore.Http.Abstractions' with identity 'Microsoft.AspNetCore.Http.Abstractions, Version=2.3.0.0, Culture=neutral, PublicKeyToken=adb9793829ddae60'\r\n",
      "error CS1705: Assembly 'Microsoft.AspNetCore' with identity 'Microsoft.AspNetCore, Version=9.0.0.0, Culture=neutral, PublicKeyToken=adb9793829ddae60' uses 'Microsoft.AspNetCore.Http.Abstractions, Version=9.0.0.0, Culture=neutral, PublicKeyToken=adb9793829ddae60' which has a higher version than referenced assembly 'Microsoft.AspNetCore.Http.Abstractions' with identity 'Microsoft.AspNetCore.Http.Abstractions, Version=2.3.0.0, Culture=neutral, PublicKeyToken=adb9793829ddae60'\r\n",
      "error CS1705: Assembly 'Microsoft.AspNetCore.Routing' with identity 'Microsoft.AspNetCore.Routing, Version=9.0.0.0, Culture=neutral, PublicKeyToken=adb9793829ddae60' uses 'Microsoft.AspNetCore.Http.Abstractions, Version=9.0.0.0, Culture=neutral, PublicKeyToken=adb9793829ddae60' which has a higher version than referenced assembly 'Microsoft.AspNetCore.Http.Abstractions' with identity 'Microsoft.AspNetCore.Http.Abstractions, Version=2.3.0.0, Culture=neutral, PublicKeyToken=adb9793829ddae60'\r\n",
      "(16,12): error CS0234: The type or namespace name 'TypedResults' does not exist in the namespace 'Microsoft.AspNetCore.Http.HttpResults' (are you missing an assembly reference?)"
     ]
    }
   ],
   "source": [
    "#!aspnet\n",
    "\n",
    "using Microsoft.EntityFrameworkCore;\n",
    "using Microsoft.Extensions.DependencyInjection;\n",
    "using Microsoft.AspNetCore.Http;\n",
    "\n",
    "var builder = WebApplication.CreateBuilder();\n",
    "builder.Services.AddDbContext<StudentContext>(op => op.UseSqlite(\"\"));\n",
    "var app = builder.Build();\n",
    "\n",
    "int x = 0;\n",
    "app.MapGet(\"/\", () => $\"Hello World {++x}\");\n",
    "\n",
    "await app.StartAsync();\n",
    "\n",
    "static Task<Microsoft.AspNetCore.Http.IResult> GetAllStudents(StudentContext context)\n",
    "{\n",
    "    return Microsoft.AspNetCore.TypedResults.OK(context.Studenti.ToArrayAsync());\n",
    "}"
   ]
  },
  {
   "cell_type": "code",
   "execution_count": null,
   "metadata": {},
   "outputs": [],
   "source": [
    "await app.StopAsync();"
   ]
  }
 ],
 "metadata": {
  "kernelspec": {
   "display_name": ".NET (C#)",
   "language": "C#",
   "name": ".net-csharp"
  },
  "polyglot_notebook": {
   "kernelInfo": {
    "defaultKernelName": "csharp",
    "items": [
     {
      "aliases": [],
      "languageName": "csharp",
      "name": "csharp"
     }
    ]
   }
  }
 },
 "nbformat": 4,
 "nbformat_minor": 2
}
