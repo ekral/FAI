{
 "cells": [
  {
   "cell_type": "markdown",
   "metadata": {},
   "source": [
    "# 01 Práce s databází pomocí ADO.NET\n",
    "\n",
    "**autor: Erik Král ekral@utb.cz**\n",
    "\n",
    "---\n",
    "\n",
    "V tomto materiálu si probereme práci s databází pomocí knihovny ADO.NET."
   ]
  },
  {
   "cell_type": "markdown",
   "metadata": {},
   "source": [
    "Nejprve si nainstalujeme nuget balíček [Microsoft.Data.Sqlite](https://www.nuget.org/packages/Microsoft.Data.SQLite/) představující database providera pro souborovou databázi *Sqlite*. Tento balíček používají následující příklady."
   ]
  },
  {
   "cell_type": "code",
   "execution_count": null,
   "metadata": {
    "dotnet_interactive": {
     "language": "csharp"
    },
    "polyglot_notebook": {
     "kernelName": "csharp"
    }
   },
   "outputs": [],
   "source": [
    "#r \"nuget: Microsoft.Data.Sqlite\""
   ]
  },
  {
   "cell_type": "markdown",
   "metadata": {},
   "source": [
    "## Připojení k databázi\n",
    "\n",
    "Dále si vytvoříme connection string tak, aby se soubor s databází ukládal do dokumentů uživatele. "
   ]
  },
  {
   "cell_type": "code",
   "execution_count": null,
   "metadata": {
    "dotnet_interactive": {
     "language": "csharp"
    },
    "polyglot_notebook": {
     "kernelName": "csharp"
    }
   },
   "outputs": [],
   "source": [
    "using Microsoft.Data.Sqlite;\n",
    "using System.IO;\n",
    "\n",
    "var folder = Environment.SpecialFolder.MyDocuments;\n",
    "string folderPath = Environment.GetFolderPath(folder);\n",
    "string filePath = Path.Join(folderPath, \"skola.db\");\n",
    "\n",
    "SqliteConnectionStringBuilder csb = new SqliteConnectionStringBuilder\n",
    "{\n",
    "    DataSource = filePath\n",
    "};\n",
    "\n",
    "string connectionString = csb.ConnectionString;\n",
    "\n",
    "Console.WriteLine(connectionString);"
   ]
  },
  {
   "cell_type": "markdown",
   "metadata": {},
   "source": [
    "K databázi se připojíme pomocí následujícího příkazu. Pokud Sqlite databáze ještě neexistuje, tak se vytvoří nová (nový soubor). Třída *SqliteConnection* implemetuje rozhraní *IAsyncDisposable* a proto se nám připojení uzavře automaticky s využití Dispose patternu a nemusíme jej už ručně uzavírat. "
   ]
  },
  {
   "cell_type": "code",
   "execution_count": null,
   "metadata": {
    "dotnet_interactive": {
     "language": "csharp"
    },
    "polyglot_notebook": {
     "kernelName": "csharp"
    }
   },
   "outputs": [],
   "source": [
    "SqliteConnection connection;\n",
    "\n",
    "await using(connection = new SqliteConnection(connectionString))\n",
    "{\n",
    "    await connection.OpenAsync();\n",
    "\n",
    "    Console.WriteLine(connection.State);\n",
    "}\n",
    "\n",
    "Console.WriteLine(connection.State);"
   ]
  },
  {
   "cell_type": "markdown",
   "metadata": {},
   "source": [
    "## Zadávání dat pomocí ExecuteNonQueryAsync\n",
    "\n",
    "Pro **vytvoření tabulky**, **vložení nového řádku**, nebo **aktualizaci řádku**, tedy příkazy, které neprovádějí dotaz a nevrací hodnoty používáme metodu ```command.ExecuteNonQuery()```. \n",
    "\n",
    "### Vytvoření tabulky\n",
    "\n",
    "V následujícím kódu vytvoříme novou tabulku `Studenti`, která má sloupce `StudentId`, `Jmeno` a dosažené `Kredity`:"
   ]
  },
  {
   "cell_type": "code",
   "execution_count": null,
   "metadata": {
    "dotnet_interactive": {
     "language": "csharp"
    },
    "polyglot_notebook": {
     "kernelName": "csharp"
    }
   },
   "outputs": [],
   "source": [
    "await using(SqliteConnection connection = new SqliteConnection(connectionString))\n",
    "{\n",
    "    await connection.OpenAsync();\n",
    "\n",
    "    await using(SqliteCommand command = connection.CreateCommand())\n",
    "    {\n",
    "        command.CommandText =\n",
    "        @\"\n",
    "            CREATE TABLE Studenti \n",
    "            (\n",
    "                StudentId INTEGER PRIMARY KEY, \n",
    "                Jmeno TEXT,\n",
    "                Kredity INTEGER\n",
    "            )\n",
    "        \";\n",
    "\n",
    "        int count = await command.ExecuteNonQueryAsync();\n",
    "\n",
    "        Console.WriteLine($\"Počet změněných řádků: {count}\");\n",
    "    }\n",
    "}"
   ]
  },
  {
   "cell_type": "markdown",
   "metadata": {},
   "source": [
    "### Vložení nového řádku\n",
    "\n",
    "Nyní do vytvořené tabulky vložíme nový řádek. V příkladu používáme parametry commandu `@Jmeno` a `@Kredity`. Hodnoty parametrů můžeme zadávat buď s generickými SQL typy. Nebo s konkrétními typy pro danou databází s metodou, kterou poskytuje konkrétní provider tak jak je ukázáno v příkladu. \n",
    "\n",
    "Použití parametrů proskytuje kontrolu typu a validaci zadané hodnoty parametru a pomáhá zabránit útoku technikou SQL Injection. Použití parametrů nezpomaluje provedení dotazu, spíše nám může pomoct dotaz lépe sestavit dle konkrétního typu a díky tomu by provedení dotazu by mohlo být v některých případech efektivnější."
   ]
  },
  {
   "cell_type": "code",
   "execution_count": null,
   "metadata": {
    "dotnet_interactive": {
     "language": "csharp"
    },
    "polyglot_notebook": {
     "kernelName": "csharp"
    }
   },
   "outputs": [],
   "source": [
    "await using(SqliteConnection connection = new SqliteConnection(connectionString))\n",
    "{\n",
    "    await connection.OpenAsync();\n",
    "\n",
    "    await using(SqliteCommand command = connection.CreateCommand())\n",
    "    {\n",
    "        command.CommandText =\n",
    "        @\"\n",
    "            INSERT INTO Studenti (Jmeno, Kredity)\n",
    "            VALUES (@Jmeno, @Kredity)\n",
    "        \";\n",
    "\n",
    "        command.Parameters.Add(\"@Jmeno\", SqliteType.Text).Value = \"Karel\";\n",
    "        command.Parameters.Add(\"@Kredity\", SqliteType.Integer).Value = 40;\n",
    "\n",
    "        int count = await command.ExecuteNonQueryAsync();\n",
    "\n",
    "        Console.WriteLine($\"Počet změněných řádků: {count}\");\n",
    "    }\n",
    "}"
   ]
  },
  {
   "cell_type": "markdown",
   "metadata": {},
   "source": [
    "### Změna řádku\n",
    "\n",
    "Hodnoty řádku změníme obdobým způsobem jako přidávání nových. Konkrétně změníme počet kreditů studenta se `StudentId` 1."
   ]
  },
  {
   "cell_type": "code",
   "execution_count": null,
   "metadata": {
    "dotnet_interactive": {
     "language": "csharp"
    },
    "polyglot_notebook": {
     "kernelName": "csharp"
    }
   },
   "outputs": [],
   "source": [
    "await using(SqliteConnection connection = new SqliteConnection(connectionString))\n",
    "{\n",
    "    await connection.OpenAsync();\n",
    "\n",
    "    await using(SqliteCommand command = connection.CreateCommand())\n",
    "    {\n",
    "        command.CommandText =\n",
    "        @\"\n",
    "            UPDATE Studenti\n",
    "            SET Kredity = @Kredity \n",
    "            WHERE StudentId = @StudentId\n",
    "        \";\n",
    "\n",
    "        command.Parameters.Add(\"@Kredity\", SqliteType.Integer).Value = 64;\n",
    "        command.Parameters.Add(\"@StudentId\", SqliteType.Integer).Value = 1;\n",
    "\n",
    "        int count = await command.ExecuteNonQueryAsync();\n",
    "\n",
    "        Console.WriteLine($\"Počet změněných řádků: {count}\");\n",
    "    }\n",
    "}"
   ]
  },
  {
   "cell_type": "markdown",
   "metadata": {},
   "source": [
    "## Načtení dat pomocí ExecuteReaderAsync\n",
    "\n",
    "Pokud chceme provést dotaz na data tabulky a načíst jednotlivé řádky a sloupce, tak použijeme `reader` jak je uvedeno v následujícím kódu. "
   ]
  },
  {
   "cell_type": "code",
   "execution_count": null,
   "metadata": {
    "dotnet_interactive": {
     "language": "csharp"
    },
    "polyglot_notebook": {
     "kernelName": "csharp"
    }
   },
   "outputs": [],
   "source": [
    "await using(SqliteConnection connection = new SqliteConnection(connectionString))\n",
    "{\n",
    "    await connection.OpenAsync();\n",
    "\n",
    "    await using(SqliteCommand command = connection.CreateCommand())\n",
    "    {\n",
    "        command.CommandText = \"SELECT StudentId, Jmeno, Kredity FROM Studenti\";\n",
    "\n",
    "        SqliteDataReader reader = await command.ExecuteReaderAsync();\n",
    "\n",
    "        if(reader.HasRows)\n",
    "        {\n",
    "            while(await reader.ReadAsync())\n",
    "            {\n",
    "            \n",
    "                int studentId = reader.GetInt32(reader.GetOrdinal(\"StudentId\"));\n",
    "                string jmeno = reader.GetString(reader.GetOrdinal(\"Jmeno\"));\n",
    "                int kredity = reader.GetInt32(reader.GetOrdinal(\"Kredity\"));\n",
    "\n",
    "                Console.WriteLine($\"{studentId}: {jmeno} {kredity}\");\n",
    "            }\n",
    "        }\n",
    "    }\n",
    "}"
   ]
  },
  {
   "cell_type": "markdown",
   "metadata": {},
   "source": [
    "## Načtení jedné hodnoty pomocí ExecuteScalar\n",
    "\n",
    "Prokud provedeme SQL dotaz, který vrátí pouze jednu hodnotu, například ```SELECT AVG(Kredit) FROM Studenti```, tak můžeme použít ```reader``` podobně jako v minulém příkladu a načíst první sloupec prvního řádku. A nebo můžeme použít metodu ```command.ExecuteScalar()``` tak jak je ukázané v následujícím příkladu."
   ]
  },
  {
   "cell_type": "code",
   "execution_count": null,
   "metadata": {
    "dotnet_interactive": {
     "language": "csharp"
    },
    "polyglot_notebook": {
     "kernelName": "csharp"
    }
   },
   "outputs": [],
   "source": [
    "await using(SqliteConnection connection = new SqliteConnection(connectionString))\n",
    "{\n",
    "    await connection.OpenAsync();\n",
    "\n",
    "    await using(SqliteCommand command = connection.CreateCommand())\n",
    "    {\n",
    "        command.CommandText =@$\"SELECT AVG(Kredity) FROM Studenti\";\n",
    "\n",
    "        object? result = await command.ExecuteScalarAsync();\n",
    "\n",
    "        if(result is double average)\n",
    "        {\n",
    "            return average;\n",
    "        }\n",
    "    }\n",
    "}"
   ]
  },
  {
   "cell_type": "markdown",
   "metadata": {},
   "source": [
    "## Relace a transakce\n",
    "\n",
    "Nyní si vytvoříme příklad na relace a transakce. Nejprve vytvoříme tabulku `Majitel` a `Ucet` reprezentující bankovní účet a jeho majitele. Účet bude cizí klíč `MajitelId`. Vazba je tedy 1:n kdy účet může mít jen jednoho majitele, ale majitel může mít více účtů. Vlastní relaci definuje řádek `FOREIGN KEY (MajitelId) REFERENCES Majitel(MajitelId)`. V příkladu používáme také [transakce](https://learn.microsoft.com/cs-cz/dotnet/framework/data/adonet/local-transactions), kdy transakci potvrdíme, teprve až se nám podaří vytvořit obě tabulky."
   ]
  },
  {
   "cell_type": "code",
   "execution_count": null,
   "metadata": {
    "dotnet_interactive": {
     "language": "csharp"
    },
    "polyglot_notebook": {
     "kernelName": "csharp"
    }
   },
   "outputs": [],
   "source": [
    "await using(SqliteConnection connection = new SqliteConnection(connectionString))\n",
    "{\n",
    "    await connection.OpenAsync();\n",
    "\n",
    "    SqliteTransaction transaction = connection.BeginTransaction();\n",
    "\n",
    "    await using(SqliteCommand command = connection.CreateCommand())\n",
    "    {\n",
    "        command.Transaction = transaction;\n",
    "\n",
    "        try\n",
    "        {\n",
    "            command.CommandText =\n",
    "            @\"\n",
    "                CREATE TABLE Majitel \n",
    "                (\n",
    "                    MajitelId INTEGER PRIMARY KEY, \n",
    "                    Jmeno TEXT\n",
    "                )\n",
    "            \";\n",
    "\n",
    "            await command.ExecuteNonQueryAsync();\n",
    "\n",
    "            command.CommandText =\n",
    "            @\"\n",
    "                CREATE TABLE Ucet\n",
    "                (\n",
    "                    UcetId INTEGER PRIMARY KEY, \n",
    "                    Nazev TEXT,\n",
    "                    Zustatek REAL,\n",
    "                    MajitelId INTEGER,\n",
    "                    FOREIGN KEY (MajitelId) REFERENCES Majitel(MajitelId)\n",
    "                )\n",
    "            \";\n",
    "\n",
    "            await command.ExecuteNonQueryAsync();\n",
    "\n",
    "            await transaction.CommitAsync();\n",
    "        }\n",
    "        catch (Exception ex)\n",
    "        {\n",
    "            Console.WriteLine(ex.Message);\n",
    "            \n",
    "            await transaction.RollbackAsync();\n",
    "        }\n",
    "\n",
    "    }\n",
    "}"
   ]
  },
  {
   "cell_type": "markdown",
   "metadata": {},
   "source": [
    "Nyní si nadefinujeme a zavoláme metodu, která přidá nové majitele. Všimněte si příkazu `RETURNING`, což je specifický příkaz SQL dialektu Sqlite, který vrátí hodnotu vygenerovaného primární klíče."
   ]
  },
  {
   "cell_type": "code",
   "execution_count": null,
   "metadata": {
    "dotnet_interactive": {
     "language": "csharp"
    },
    "polyglot_notebook": {
     "kernelName": "csharp"
    }
   },
   "outputs": [],
   "source": [
    "async Task AddMajitel(string jmeno)\n",
    "{\n",
    "    await using(SqliteConnection connection = new SqliteConnection(connectionString))\n",
    "    {\n",
    "        await connection.OpenAsync();\n",
    "\n",
    "\n",
    "        await using(SqliteCommand command = connection.CreateCommand())\n",
    "        {\n",
    "            command.CommandText =\n",
    "            @\"\n",
    "                INSERT INTO Majitel (Jmeno) \n",
    "                VALUES (@Jmeno) \n",
    "                RETURNING MajitelId\n",
    "            \";\n",
    "\n",
    "            command.Parameters.Add(\"@Jmeno\", SqliteType.Integer).Value = jmeno;\n",
    "\n",
    "            object? result = await command.ExecuteScalarAsync();\n",
    "\n",
    "            if(result is Int64 majitelId)\n",
    "            {\n",
    "                Console.WriteLine($\"MajitelId: {majitelId}\");\n",
    "            }\n",
    "            \n",
    "        }\n",
    "    }\n",
    "}\n",
    "\n",
    "await AddMajitel(\"Jiri\");\n",
    "await AddMajitel(\"Karel\");"
   ]
  },
  {
   "cell_type": "markdown",
   "metadata": {},
   "source": [
    "Dále si nadefinujeme a zavoláme metodu `AddUcet`, kdy majiteli s `MajitelId` `1` přiřadíme spořící účet a majiteli s `MajitelId` `2` běžný účet."
   ]
  },
  {
   "cell_type": "code",
   "execution_count": null,
   "metadata": {
    "dotnet_interactive": {
     "language": "csharp"
    },
    "polyglot_notebook": {
     "kernelName": "csharp"
    }
   },
   "outputs": [],
   "source": [
    "async Task AddUcet(string nazev, double zustatek, int majitelId)\n",
    "{\n",
    "    await using(SqliteConnection connection = new SqliteConnection(connectionString))\n",
    "    {\n",
    "        await connection.OpenAsync();\n",
    "\n",
    "  \n",
    "        await using(SqliteCommand command = connection.CreateCommand())\n",
    "        {\n",
    "            command.CommandText =\n",
    "            @\"\n",
    "                INSERT INTO Ucet (Nazev, Zustatek, MajitelId) \n",
    "                VALUES (@Nazev, @Zustatek, @MajitelId) \n",
    "                RETURNING UcetId\n",
    "            \";\n",
    "\n",
    "            command.Parameters.Add(\"@Nazev\", SqliteType.Integer).Value = nazev;\n",
    "            command.Parameters.Add(\"@Zustatek\", SqliteType.Real).Value = zustatek;\n",
    "            command.Parameters.Add(\"@MajitelId\", SqliteType.Integer).Value = majitelId;\n",
    "\n",
    "            object? result = await command.ExecuteScalarAsync();\n",
    "\n",
    "            if(result is Int64 ucetId)\n",
    "            {\n",
    "                Console.WriteLine($\"UcetId: {ucetId}\");\n",
    "            }\n",
    "            \n",
    "        }\n",
    "    }\n",
    "}\n",
    "\n",
    "await AddUcet(\"sporici\", 1000.0, 1);\n",
    "await AddUcet(\"bezny\", 3000.0, 2);"
   ]
  },
  {
   "cell_type": "markdown",
   "metadata": {},
   "source": [
    "Další příklad představuje využití SQL příkazu `JOIN` kdy vrátíme uživatele a jejich účty."
   ]
  },
  {
   "cell_type": "code",
   "execution_count": null,
   "metadata": {
    "dotnet_interactive": {
     "language": "csharp"
    },
    "polyglot_notebook": {
     "kernelName": "csharp"
    }
   },
   "outputs": [],
   "source": [
    "await using(SqliteConnection connection = new SqliteConnection(connectionString))\n",
    "{\n",
    "    await connection.OpenAsync();\n",
    "\n",
    "    await using(SqliteCommand command = connection.CreateCommand())\n",
    "    {\n",
    "        command.CommandText = \n",
    "        @\"\n",
    "            SELECT Majitel.Jmeno, Ucet.Nazev, Ucet.Zustatek\n",
    "            FROM Majitel\n",
    "            INNER JOIN Ucet ON Majitel.MajitelId=Ucet.MajitelId\n",
    "        \";\n",
    "\n",
    "        SqliteDataReader reader = await command.ExecuteReaderAsync();\n",
    "\n",
    "        if(reader.HasRows)\n",
    "        {\n",
    "            while(await reader.ReadAsync())\n",
    "            {\n",
    "                string jmeno = reader.GetString(0);\n",
    "                string nazev = reader.GetString(1);\n",
    "                double zustatek = reader.GetDouble(2);\n",
    "\n",
    "                Console.WriteLine($\"{jmeno} {nazev} {zustatek}\");\n",
    "            }\n",
    "        }\n",
    "    }\n",
    "}"
   ]
  },
  {
   "cell_type": "markdown",
   "metadata": {},
   "source": [
    "Poslední příklad představuje další ukázku transakce. Konkrétně chceme převést částku z jednohu účtu na druhý. V tomto případě tedy od jednoho účtu částku odečteme a k druhému přičteme. Pokud bych nepoužili transakce, tak by se nám při selhání příkazu mohlo stát, že od účtu částku odečteme ale k druhému ji nepřičteme a v databázi bychom měli nesprávná data."
   ]
  },
  {
   "cell_type": "code",
   "execution_count": null,
   "metadata": {
    "dotnet_interactive": {
     "language": "csharp"
    },
    "polyglot_notebook": {
     "kernelName": "csharp"
    }
   },
   "outputs": [],
   "source": [
    "async Task Vyber(int ucetId1, int ucetId2, double castka)\n",
    "{\n",
    "    await using(SqliteConnection connection = new SqliteConnection(connectionString))\n",
    "    {\n",
    "        await connection.OpenAsync();\n",
    "\n",
    "        SqliteTransaction transaction = connection.BeginTransaction();\n",
    "\n",
    "        await using(SqliteCommand command = connection.CreateCommand())\n",
    "        {\n",
    "            command.Transaction = transaction;\n",
    "\n",
    "            command.Parameters.Add(\"@Castka\", SqliteType.Real).Value = castka;\n",
    "            command.Parameters.Add(\"@UcetId\", SqliteType.Integer);\n",
    "\n",
    "            try\n",
    "            {\n",
    "                command.CommandText =\n",
    "                @\"\n",
    "                    UPDATE Ucet \n",
    "                    SET Zustatek = Zustatek - @Castka \n",
    "                    WHERE UcetId = @UcetId;\n",
    "                \";\n",
    "\n",
    "                command.Parameters[\"@UcetId\"].Value = ucetId1;\n",
    "\n",
    "                await command.ExecuteNonQueryAsync();\n",
    "\n",
    "                command.CommandText =\n",
    "                @\"\n",
    "                    UPDATE Ucet \n",
    "                    SET Zustatek = Zustatek + @Castka \n",
    "                    WHERE UcetId = @UcetId;\n",
    "                \";\n",
    "\n",
    "                command.Parameters[\"@UcetId\"].Value = ucetId2;\n",
    "                \n",
    "                await command.ExecuteNonQueryAsync();\n",
    "\n",
    "                await transaction.CommitAsync();\n",
    "            }\n",
    "            catch (Exception ex)\n",
    "            {\n",
    "                Console.WriteLine(ex.Message);\n",
    "\n",
    "                await transaction.RollbackAsync();\n",
    "            }\n",
    "\n",
    "        }\n",
    "    }\n",
    "}\n",
    "\n",
    "await Vyber(1, 2, 100.0);"
   ]
  }
 ],
 "metadata": {
  "kernelspec": {
   "display_name": ".NET (C#)",
   "language": "C#",
   "name": ".net-csharp"
  },
  "polyglot_notebook": {
   "kernelInfo": {
    "defaultKernelName": "csharp",
    "items": [
     {
      "aliases": [],
      "languageName": "csharp",
      "name": "csharp"
     }
    ]
   }
  }
 },
 "nbformat": 4,
 "nbformat_minor": 2
}
