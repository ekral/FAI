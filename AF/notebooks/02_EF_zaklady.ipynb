{
 "cells": [
  {
   "cell_type": "markdown",
   "metadata": {},
   "source": [
    "# 01 Základy Entity Frameworku\n",
    "\n",
    "**autor: Erik Král ekral@utb.cz**\n",
    "\n",
    "---\n",
    "\n",
    "Entity Framework (EF) slouží k objektově relačnímu mapování. Což znamená, že můžeme pracovat s objekty v paměti a EF nám vygeneruje příkazy pro databází. Díky tomu také nejsme závislí na konkrétním typu databáze. S pomocí technologie **LINQ to Entities** (entita je třída reprezentující řádek tabulky v databázi) potom pracujeme s databází obdobným způsobem jako s objekty pomocí **LINQ to objects**.\n",
    "\n",
    "Návod pro začátečníky Entity Framework: [Getting Started with EF Core](https://learn.microsoft.com/en-us/ef/core/get-started/overview/first-app?tabs=netcore-cli) a podrobný přehled: [Creating and Configuring a Model](https://learn.microsoft.com/en-us/ef/core/modeling/)\n",
    "\n",
    "V následujícím příkladu definujeme třídu Student a pomocí migrací vytvoříme Sqlite databázi."
   ]
  },
  {
   "cell_type": "code",
   "execution_count": null,
   "metadata": {
    "dotnet_interactive": {
     "language": "csharp"
    },
    "polyglot_notebook": {
     "kernelName": "csharp"
    }
   },
   "outputs": [],
   "source": [
    "public class Student\n",
    "{\n",
    "    public int Id { get; set; } // Primární klíč dle jmenných konvencí\n",
    "    public required string Jmeno { get; set; }     \n",
    "    public required string Prijmeni { get; set; }     \n",
    "}\n",
    "\n",
    "Student student = new()\n",
    "{\n",
    "    Jmeno = \"Andrea\",\n",
    "    Prijmeni = \"Nova\"\n",
    "};"
   ]
  },
  {
   "cell_type": "markdown",
   "metadata": {},
   "source": [
    "## 2. Definice DbContextu\n",
    "\n",
    "Pokud chceme používat konkrétní databázi s Entity Frameworkem, tak musím do projektu přidat **database provider** pro tuto databázi. Database provider je knihovna distribuovaná jako nuget balíček. \n",
    "\n",
    "Například nuget balíček [Microsoft.EntityFrameworkCore.Sqlite](https://www.nuget.org/packages/microsoft.entityframeworkcore.sqlite) přidá do projektu podporu pro databází Sqlite."
   ]
  },
  {
   "cell_type": "code",
   "execution_count": null,
   "metadata": {},
   "outputs": [
    {
     "data": {
      "text/html": [
       "<div><div></div><div></div><div><strong>Installed Packages</strong><ul><li><span>Microsoft.EntityFrameworkCore.Sqlite, 9.0.2</span></li></ul></div></div>"
      ]
     },
     "metadata": {},
     "output_type": "display_data"
    }
   ],
   "source": [
    "#r \"nuget: Microsoft.EntityFrameworkCore.Sqlite\""
   ]
  },
  {
   "cell_type": "markdown",
   "metadata": {},
   "source": [
    "Dále definujeme potomka třídy ```DbContext``` kde kolekce typu ```DbSet<Student>``` potom definuje tabulku v databázi s názvem `Students`."
   ]
  },
  {
   "cell_type": "code",
   "execution_count": null,
   "metadata": {},
   "outputs": [],
   "source": [
    "using Microsoft.EntityFrameworkCore;\n",
    "\n",
    "public class StudentContext : DbContext\n",
    "{\n",
    "    public DbSet<Student> Students { get; set; }\n",
    "}"
   ]
  },
  {
   "cell_type": "markdown",
   "metadata": {},
   "source": [
    "Pomocí přetížené metody `OnConfiguring` potom nakonfigurujeme databázi, konrétně zadáme connection string. \n",
    "\n",
    "Jednoduchý zápis:"
   ]
  },
  {
   "cell_type": "code",
   "execution_count": null,
   "metadata": {},
   "outputs": [],
   "source": [
    "public class StudentContext : DbContext\n",
    "{\n",
    "    public DbSet<Student> Students { get; set; }\n",
    "\n",
    "    protected override void OnConfiguring(DbContextOptionsBuilder optionsBuilder)\n",
    "    {\n",
    "        optionsBuilder.UseSqlite(\"Data Source=studenti.db\");\n",
    "    }\n",
    "}"
   ]
  },
  {
   "cell_type": "markdown",
   "metadata": {},
   "source": [
    "Alternativně můžeme předat `DbContextOptions<ApplicationDbContext>` v konstruktoru. Díky tomu můžeme mimo třídu zvolit i jiného providera a tedy používat jinou databázi. To je výhodné například při testování."
   ]
  },
  {
   "cell_type": "code",
   "execution_count": null,
   "metadata": {},
   "outputs": [],
   "source": [
    "public class StudentContext : DbContext\n",
    "{\n",
    "    public DbSet<Student> Students { get; set; }\n",
    "\n",
    "    public StudentContext(DbContextOptions<StudentContext> options) : base(options)\n",
    "    {\n",
    "\n",
    "    }\n",
    "}\n",
    "\n",
    "using (StudentContext context = new(new DbContextOptionsBuilder<StudentContext>()\n",
    "                                        .UseSqlite(\"Data Source=studenti.db\")\n",
    "                                        .Options))\n",
    "{\n",
    "    \n",
    "}"
   ]
  },
  {
   "cell_type": "markdown",
   "metadata": {},
   "source": [
    "Poznámka: Pro vytvoření connection stringu můžeme použít `SqliteConnectionStringBuilder` tak aby nedošlo k chybnému zápisu. V příkladu také volíme umístění souboru Sqlite databáze do dokumentů uživatele."
   ]
  },
  {
   "cell_type": "code",
   "execution_count": null,
   "metadata": {},
   "outputs": [],
   "source": [
    "using System.IO;\n",
    "using Microsoft.Data.Sqlite;\n",
    "\n",
    "var folder = Environment.SpecialFolder.MyDocuments;\n",
    "string folderPath = Environment.GetFolderPath(folder);\n",
    "string filePath = Path.Join(folderPath, \"studenti3.db\");\n",
    "\n",
    "SqliteConnectionStringBuilder csb = new SqliteConnectionStringBuilder\n",
    "{\n",
    "    DataSource = filePath\n",
    "};\n",
    "\n",
    "string connectionString = csb.ConnectionString;"
   ]
  },
  {
   "cell_type": "markdown",
   "metadata": {},
   "source": [
    "Dále můžeme přidat metodu ```OnModelCreating```, kde můžeme zadat výchozí data v databází, ale také přesněji specifikovat primární klíče, cizí klíče a další."
   ]
  },
  {
   "cell_type": "code",
   "execution_count": null,
   "metadata": {},
   "outputs": [],
   "source": [
    "public class StudentContext : DbContext\n",
    "{\n",
    "    public DbSet<Student> Students { get; set; }\n",
    "\n",
    "    public StudentContext(DbContextOptions<StudentContext> options) : base(options)\n",
    "    {\n",
    "\n",
    "    }\n",
    "    \n",
    "    protected override void OnModelCreating(ModelBuilder modelBuilder)\n",
    "    {\n",
    "        modelBuilder.Entity<Student>().HasData(\n",
    "            new Student() { Id = 1, Jmeno = \"Andrea\", Prijmeni = \"Nova\"},\n",
    "            new Student() { Id = 2, Jmeno = \"Jiri\", Prijmeni = \"Novotny\"},\n",
    "            new Student() { Id = 3, Jmeno = \"Karel\", Prijmeni = \"Vesely\"}\n",
    "        );\n",
    "    }\n",
    "}"
   ]
  },
  {
   "cell_type": "markdown",
   "metadata": {},
   "source": [
    "## 3. Vytvoření databáze\n",
    "\n",
    "Databázi vytvoříme buď příkazem `EnsureCreated`, což se používá pro vývoj. Pokud databáze neexistuje, tak příkaz databázi vytvoří.\n",
    "\n",
    "Vytvoření příkazu pomocí `EnsureCreated`:"
   ]
  },
  {
   "cell_type": "code",
   "execution_count": null,
   "metadata": {},
   "outputs": [],
   "source": [
    "using (StudentContext context = new(new DbContextOptionsBuilder<StudentContext>()\n",
    "                                        .UseSqlite(\"Data Source=studenti.db\")\n",
    "                                        .Options)) \n",
    "{\n",
    "    context.Database.EnsureCreated();\n",
    "}"
   ]
  },
  {
   "cell_type": "markdown",
   "metadata": {},
   "source": [
    "Na cvičení budeme používat tento postup, ale jinak můžeme databázi vytvořit i pomocí nástrojů pro příkazovou řádku, což probereme příště.\n",
    "\n",
    "Databázi (soubor studenti.db) si můžeme prohlédnout například v [SQLite Viewer Web App](https://sqliteviewer.app)."
   ]
  },
  {
   "cell_type": "markdown",
   "metadata": {},
   "source": [
    "## 4. Práce s databází\n",
    "\n",
    "S databází pracujeme pomocí  [LINQ to Entities](https://learn.microsoft.com/en-us/dotnet/framework/data/adonet/ef/language-reference/linq-to-entities).\n",
    "\n",
    "Nejprve si vytvoříme metodu, která bude vracet StudentContext."
   ]
  },
  {
   "cell_type": "code",
   "execution_count": null,
   "metadata": {},
   "outputs": [],
   "source": [
    "StudentContext CreateContext()\n",
    "{\n",
    "    var options = new DbContextOptionsBuilder<StudentContext>()\n",
    "                    .UseSqlite(\"Data Source=studenti.db\")\n",
    "                    .Options;\n",
    "                    \n",
    "    StudentContext context = new(options);\n",
    "\n",
    "    return context;\n",
    "}"
   ]
  },
  {
   "cell_type": "markdown",
   "metadata": {},
   "source": [
    "### Nový řádek databáze\n",
    "\n",
    "Následující kód představuje ukázku přidání nového řádku do tabulky studentů. Všimněte si, že když vytváříme instanci třídy `Student`, tak nezadáváme hodnotu property `Id` a ta bude mít tedy hodnotu `0`. Potom co vložíme nového studenta pomocí příkazu `context.Add(novy)` a zavoláme příkaz `context.SaveChanges()`, tak se property `novy.Id` nastaví na vygenerovanou hodnotu primárního klíče. Příkaz `context.SaveChanges()` také vrací počet změněných řádků, v tomto případě vrátí hodnotu `1` protože jsme změnili jeden řádek."
   ]
  },
  {
   "cell_type": "code",
   "execution_count": null,
   "metadata": {},
   "outputs": [
    {
     "name": "stdout",
     "output_type": "stream",
     "text": [
      "Pocet entit zapsanych do databaze: 1\n",
      "Vygenerovane Id: 3\n"
     ]
    }
   ],
   "source": [
    "using(StudentContext context = CreateContext())\n",
    "{\n",
    "    Student novy = new Student() { Jmeno = \"Jiri\", Prijmeni = \"Novy\" };\n",
    "\n",
    "    context.Add(novy);\n",
    "\n",
    "    int number = context.SaveChanges();\n",
    "\n",
    "    Console.WriteLine($\"Pocet entit zapsanych do databaze: {number}\");\n",
    "\n",
    "    Console.WriteLine($\"Vygenerovane Id: {novy.Id}\");\n",
    "}"
   ]
  },
  {
   "cell_type": "markdown",
   "metadata": {},
   "source": [
    "### Změna řádku tabulky\n",
    "\n",
    "Následující kód změní řádek tabulky (entitu) v databázi. Konkrétně změní řádek studenta s `Id` "
   ]
  },
  {
   "cell_type": "code",
   "execution_count": null,
   "metadata": {},
   "outputs": [],
   "source": [
    "using(StudentContext context = CreateContext())\n",
    "{\n",
    "    Student studentUpdate = new Student() { Id = 1, Jmeno = \"Karel\", Prijmeni = \"Jiny\" };\n",
    "    \n",
    "    context.Students.Update(studentUpdate);\n",
    "\n",
    "    context.SaveChanges();\n",
    "}"
   ]
  },
  {
   "cell_type": "markdown",
   "metadata": {},
   "source": [
    "### Získání všech řádků tabulky\n",
    "\n",
    "Všechny řádky tabulky získám tak, že například použiji `foreach` nebo metodu `ToList` nebo `ToArray`. Při provedení těchto příkazů se provede dotaz do databáze."
   ]
  },
  {
   "cell_type": "code",
   "execution_count": null,
   "metadata": {},
   "outputs": [
    {
     "name": "stdout",
     "output_type": "stream",
     "text": [
      "1 Karel Jiny\n",
      "2 Jiri Vesely\n",
      "3 Jiri Novy\n"
     ]
    }
   ],
   "source": [
    "using(StudentContext context = CreateContext())\n",
    "{\n",
    "    foreach (Student student in context.Students)\n",
    "    {\n",
    "        Console.WriteLine($\"{student.Id} {student.Jmeno} {student.Prijmeni}\");\n",
    "    }\n",
    "\n",
    "    List<Student> studentiList = context.Students.ToList();\n",
    "    Student[] studentiArray = context.Students.ToArray();\n",
    "}"
   ]
  },
  {
   "cell_type": "markdown",
   "metadata": {},
   "source": [
    "### Filtrování prvků\n",
    "\n",
    "Následující příkaz vrátí všechny studenty s příjmením `\"Vesely\"`. Všimněte si návratového typu `IQueryable<Student>` nad kterým můžeme definovat dotazy. Vlastní dotaz se provede až po spuštění příkazu `foreach` nebo kdybychom zavolali příkaz `ToList` a podobně."
   ]
  },
  {
   "cell_type": "code",
   "execution_count": null,
   "metadata": {},
   "outputs": [
    {
     "name": "stdout",
     "output_type": "stream",
     "text": [
      "2 Jiri Vesely\r\n"
     ]
    }
   ],
   "source": [
    "using(StudentContext context = CreateContext())\n",
    "{\n",
    "    IQueryable<Student> students = context.Students.Where(s => s.Prijmeni == \"Vesely\");\n",
    "\n",
    "    foreach(Student student in students)\n",
    "    {\n",
    "        Console.WriteLine($\"{student.Id} {student.Jmeno} {student.Prijmeni}\");\n",
    "    }\n",
    "}"
   ]
  },
  {
   "cell_type": "markdown",
   "metadata": {},
   "source": [
    "### Nalezení prvku podle primárního klíče\n",
    "\n",
    "Následující příkaz vrátí studenta podle hodnoty primárního klíče."
   ]
  },
  {
   "cell_type": "code",
   "execution_count": null,
   "metadata": {},
   "outputs": [
    {
     "name": "stdout",
     "output_type": "stream",
     "text": [
      "1 Karel Jiny\r\n"
     ]
    }
   ],
   "source": [
    "using(StudentContext context = CreateContext())\n",
    "{\n",
    "    int id = 1;\n",
    "\n",
    "    Student? student = context.Students.Find(id);\n",
    "\n",
    "    if (student is not null)\n",
    "    {\n",
    "        Console.WriteLine($\"{student.Id} {student.Jmeno} {student.Prijmeni}\");\n",
    "    }\n",
    "}"
   ]
  },
  {
   "cell_type": "markdown",
   "metadata": {},
   "source": [
    "### Nalezení prvního prvku splňující podmínku\n",
    "\n",
    "Následující příkaz vrátí studenta jehož jméno začíná na `\"Nov\"`. Pokud žádný záznam podmínku nesplní, tak příkaz vrátí `null`."
   ]
  },
  {
   "cell_type": "code",
   "execution_count": null,
   "metadata": {},
   "outputs": [
    {
     "name": "stdout",
     "output_type": "stream",
     "text": [
      "3 Jiri Novy\r\n"
     ]
    }
   ],
   "source": [
    "using(StudentContext context = CreateContext())\n",
    "{\n",
    "    Student? studentByPrijmeni = context.Students.FirstOrDefault(s => s.Prijmeni.StartsWith(\"Nov\"));\n",
    "\n",
    "    if (studentByPrijmeni is not null)\n",
    "    {\n",
    "        Console.WriteLine($\"{studentByPrijmeni.Id} {studentByPrijmeni.Jmeno} {studentByPrijmeni.Prijmeni}\");\n",
    "    }\n",
    "}"
   ]
  },
  {
   "cell_type": "markdown",
   "metadata": {},
   "source": [
    "### Projekce\n",
    "\n",
    "Projekce představuje změnu typu než je orignální typ entity v databázi. Například následující příkaz vrátí jen jména studentů. Místo typu `Student` tedy vrací `string`. Metoda opět vrací IQueryable, což znamená, že se dotaz do databáze se neprovede hned, ale teprve až provedeme například `foreach`.\n"
   ]
  },
  {
   "cell_type": "code",
   "execution_count": null,
   "metadata": {},
   "outputs": [
    {
     "name": "stdout",
     "output_type": "stream",
     "text": [
      "Karel\n",
      "Jiri\n",
      "Jiri\n"
     ]
    }
   ],
   "source": [
    "using(StudentContext context = CreateContext())\n",
    "{\n",
    "    IQueryable<string> jmena = context.Students.Select(s => s.Jmeno);\n",
    "\n",
    "    foreach (string jmeno in jmena)\n",
    "    {\n",
    "        Console.WriteLine(jmeno);\n",
    "    }\n",
    "}"
   ]
  },
  {
   "cell_type": "markdown",
   "metadata": {},
   "source": [
    "### Řazení\n",
    "\n",
    "Entity můžeme řadit vzestupně nebo sestupně a to buď pomocí výchozího řazení dle klíče nebo pomocí vlastního řazení. První příkaz seřadí studenty dle klíče vzestupně, druhý příkaz seřadí studenty dle klíče sestupně. A třetí příkaz seřadí studenty dle příjmení vzestupně. Všimněte si, že návratový typ je tentokrát `IOrderedQueryable`."
   ]
  },
  {
   "cell_type": "code",
   "execution_count": null,
   "metadata": {},
   "outputs": [
    {
     "name": "stdout",
     "output_type": "stream",
     "text": [
      "Serazeni dle primarniho klice vzestupne\n",
      "1 Karel Jiny\n",
      "2 Jiri Vesely\n",
      "3 Jiri Novy\n",
      "Serazeni dle primarniho klice sestupne\n",
      "3 Jiri Novy\n",
      "2 Jiri Vesely\n",
      "1 Karel Jiny\n",
      "Serazeni dle prijmeni vzestupne\n",
      "1 Karel Jiny\n",
      "3 Jiri Novy\n",
      "2 Jiri Vesely\n"
     ]
    }
   ],
   "source": [
    "using(StudentContext context = CreateContext())\n",
    "{\n",
    "    IOrderedQueryable<Student> serazeniStudentiDleKliceVzestupne = context.Students.Order();\n",
    "    \n",
    "    Console.WriteLine(\"Serazeni dle primarniho klice vzestupne\");\n",
    "    foreach (Student student in serazeniStudentiDleKliceVzestupne)\n",
    "    {\n",
    "        Console.WriteLine($\"{student.Id} {student.Jmeno} {student.Prijmeni}\");\n",
    "    }\n",
    "    \n",
    "    IOrderedQueryable<Student> serazeniStudentiDleKliceSestupne = context.Students.OrderDescending();\n",
    "    \n",
    "    Console.WriteLine(\"Serazeni dle primarniho klice sestupne\");\n",
    "    foreach (Student student in serazeniStudentiDleKliceSestupne)\n",
    "    {\n",
    "        Console.WriteLine($\"{student.Id} {student.Jmeno} {student.Prijmeni}\");\n",
    "    }\n",
    "\n",
    "    IOrderedQueryable<Student> serazeniStudentiPodlePrijmeniVzestupne = context.Students.OrderBy(s => s.Prijmeni);\n",
    "\n",
    "     Console.WriteLine(\"Serazeni dle prijmeni vzestupne\");\n",
    "    foreach (Student student in serazeniStudentiPodlePrijmeniVzestupne)\n",
    "    {\n",
    "        Console.WriteLine($\"{student.Id} {student.Jmeno} {student.Prijmeni}\");\n",
    "    }\n",
    "}"
   ]
  },
  {
   "cell_type": "markdown",
   "metadata": {},
   "source": [
    "### Kombinace metod\n",
    "\n",
    "Metody můžeme kombinovat. Následující příkaz vrací jména studentů s příjmením `\"Vesely\"` (filtruje) seřazená vzestupně. Dotaz se opět neprovede hned, ale až bychom provedli například příkaz `foreach` nebo `ToList`."
   ]
  },
  {
   "cell_type": "code",
   "execution_count": null,
   "metadata": {},
   "outputs": [
    {
     "name": "stdout",
     "output_type": "stream",
     "text": [
      "Jiri\r\n"
     ]
    }
   ],
   "source": [
    "using(StudentContext context = CreateContext())\n",
    "{\n",
    "    IOrderedQueryable<string> jmena = context.Students\n",
    "        .Where(s => s.Prijmeni == \"Vesely\")\n",
    "        .Select(s => s.Jmeno)\n",
    "        .OrderDescending();\n",
    "\n",
    "    foreach (string jmeno in jmena)\n",
    "    {\n",
    "        Console.WriteLine(jmeno);\n",
    "    }\n",
    "}"
   ]
  },
  {
   "cell_type": "markdown",
   "metadata": {},
   "source": [
    "Protože návratové typy můžou být složité, tak se často používá klíčové slovo `var`, předchozí příkaz s použitím `var` by vypadal následovně:"
   ]
  },
  {
   "cell_type": "code",
   "execution_count": null,
   "metadata": {},
   "outputs": [
    {
     "name": "stdout",
     "output_type": "stream",
     "text": [
      "Jiri\r\n"
     ]
    }
   ],
   "source": [
    "using(StudentContext context = CreateContext())\n",
    "{\n",
    "    var jmena = context.Students\n",
    "        .Where(s => s.Prijmeni == \"Vesely\")\n",
    "        .Select(s => s.Jmeno)\n",
    "        .OrderDescending();\n",
    "\n",
    "    foreach (string jmeno in jmena)\n",
    "    {\n",
    "        Console.WriteLine(jmeno);\n",
    "    }\n",
    "}"
   ]
  },
  {
   "cell_type": "markdown",
   "metadata": {},
   "source": [
    "---\n",
    "Úkoly:\n",
    "\n",
    "1) Vytvořte vlastní příklad na One to One relation.\n",
    "2) Vytvořte vlastní příklad na One to Many relation.\n",
    "3) Vytvořte vlastní příklad na Many to Many relation."
   ]
  }
 ],
 "metadata": {
  "kernelspec": {
   "display_name": ".NET (C#)",
   "language": "C#",
   "name": ".net-csharp"
  },
  "polyglot_notebook": {
   "kernelInfo": {
    "defaultKernelName": "csharp",
    "items": [
     {
      "aliases": [],
      "languageName": "csharp",
      "name": "csharp"
     }
    ]
   }
  }
 },
 "nbformat": 4,
 "nbformat_minor": 2
}
