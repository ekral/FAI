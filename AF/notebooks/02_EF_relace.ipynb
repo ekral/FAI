{
 "cells": [
  {
   "cell_type": "markdown",
   "metadata": {},
   "source": [
    "# 02 Relace v entity frameworku\n",
    "\n",
    "**autor: Erik Král ekral@utb.cz**\n",
    "\n",
    "---\n",
    "\n",
    "V tomto materiálu probereme relace one to many (1 : n), one to one (1 : 1),  a many to many (n : m).\n",
    "\n",
    "U relací v Entity Frameworku rozlišujeme:\n",
    "\n",
    "- **Cizí klíč** který slouží pro definici relace a ukládá se do databáze.\n",
    "- **Navigační property** a to buď jako referenci nebo kolekci referencí, která slouží především pro procházení objektů v paměti."
   ]
  },
  {
   "cell_type": "markdown",
   "metadata": {},
   "source": [
    "## Relace one to many\n",
    "\n",
    "V následujícím příkladu budeme mít studenty a studijní skupiny a budeme předpokládat, že student může být zapsaný jen v jedné studijní skupině. \n",
    "\n",
    "Student obsahuje:\n",
    "- cizí klíč `SkupinaId` a \n",
    "- navigační property `Skupina`. \n",
    "\n",
    "Třída `Skupina` potom obsahuje:\n",
    "- collection navigační property `Studenti`.\n",
    "\n",
    "Jako alternativu pro konstruktor použijeme klíčové slovo `required`. Všimněte si, že navigační property `Skupina` i `Studenti` jsou **nullable**, jejich hodnota tedy může být null."
   ]
  },
  {
   "cell_type": "code",
   "execution_count": null,
   "metadata": {
    "dotnet_interactive": {
     "language": "csharp"
    },
    "polyglot_notebook": {
     "kernelName": "csharp"
    }
   },
   "outputs": [],
   "source": [
    "public class Student\n",
    "{\n",
    "    public int StudentId { get; set; } \n",
    "    public required string Jmeno { get; set; }\n",
    "    public required string Prijmeni { get; set; }\n",
    "    public int SkupinaId { get; set; } // Cizí klíč\n",
    "    public Skupina? Skupina { get; set; } // Navigation Property\n",
    "}\n",
    "\n",
    "public class Skupina\n",
    "{\n",
    "    public int SkupinaId { get; set; }\n",
    "    public required string Nazev { get; set; } \n",
    "    public ICollection<Student>? Studenti { get; set; } // Collection Navigation Property\n",
    "}"
   ]
  },
  {
   "cell_type": "markdown",
   "metadata": {},
   "source": [
    "Dále vytvoříme DbContext. Pokud chceme používat konkrétní databázi s Entity Frameworkem, tak musím do projektu přidat **database provider** pro tuto databázi. Database provider je knihovna distribuovaná jako nuget balíček. \n",
    "\n",
    "Například nuget balíček [Microsoft.EntityFrameworkCore.Sqlite](https://www.nuget.org/packages/microsoft.entityframeworkcore.sqlite) přidá do projektu podporu pro EF providera pro databází Sqlite."
   ]
  },
  {
   "cell_type": "code",
   "execution_count": null,
   "metadata": {
    "dotnet_interactive": {
     "language": "csharp"
    },
    "polyglot_notebook": {
     "kernelName": "csharp"
    }
   },
   "outputs": [
    {
     "data": {
      "text/html": [
       "<div><div></div><div></div><div><strong>Installed Packages</strong><ul><li><span>Microsoft.EntityFrameworkCore.Sqlite, 9.0.2</span></li></ul></div></div>"
      ]
     },
     "metadata": {},
     "output_type": "display_data"
    }
   ],
   "source": [
    "#r \"nuget: Microsoft.EntityFrameworkCore.Sqlite\""
   ]
  },
  {
   "cell_type": "markdown",
   "metadata": {},
   "source": [
    "Dále vytvoříme DbContext:"
   ]
  },
  {
   "cell_type": "code",
   "execution_count": null,
   "metadata": {
    "dotnet_interactive": {
     "language": "csharp"
    },
    "polyglot_notebook": {
     "kernelName": "csharp"
    }
   },
   "outputs": [],
   "source": [
    "using Microsoft.EntityFrameworkCore;\n",
    "\n",
    "public class StudentContext(DbContextOptions<StudentContext> options) : DbContext(options)\n",
    "{\n",
    "    public DbSet<Student> Studenti { get; set; }\n",
    "    public DbSet<Skupina> Skupiny { get; set; }\n",
    "}"
   ]
  },
  {
   "cell_type": "markdown",
   "metadata": {},
   "source": [
    "Vše se nakonfiguruje pomocí jmenných konvencí.\n",
    "\n",
    "V tomto případě to tedy **není nutné**, ale pro větší názornost si ukažeme jak bychom nakonfigurovali relace pomocí fluent API:"
   ]
  },
  {
   "cell_type": "code",
   "execution_count": null,
   "metadata": {
    "dotnet_interactive": {
     "language": "csharp"
    },
    "polyglot_notebook": {
     "kernelName": "csharp"
    }
   },
   "outputs": [],
   "source": [
    "using Microsoft.EntityFrameworkCore;\n",
    "\n",
    "public class StudentContext(DbContextOptions<StudentContext> options) : DbContext(options)\n",
    "{\n",
    "    public DbSet<Student> Studenti { get; set; }\n",
    "    public DbSet<Skupina> Skupiny { get; set; }\n",
    "\n",
    "    protected override void OnModelCreating(ModelBuilder modelBuilder)\n",
    "    {\n",
    "        modelBuilder.Entity<Student>()\n",
    "                    .HasOne(s => s.Skupina)\n",
    "                    .WithMany(sk => sk.Studenti)\n",
    "                    .HasForeignKey(s => s.SkupinaId);\n",
    "    }\n",
    "}\n"
   ]
  },
  {
   "cell_type": "markdown",
   "metadata": {},
   "source": [
    "### Nový řádek databáze\n",
    "\n",
    "V následujících příkladech probereme vytvoření řádku s relacemi a načtení dat pomocí dvou ruzných způsobů. Aby byl kód přehlednější, tak si nadefinujeme pomocnou metodu pro vytváření DbContextu:"
   ]
  },
  {
   "cell_type": "code",
   "execution_count": null,
   "metadata": {},
   "outputs": [
    {
     "data": {
      "text/plain": [
       "Data Source=C:\\Users\\erik\\Documents\\students.db"
      ]
     },
     "metadata": {},
     "output_type": "display_data"
    }
   ],
   "source": [
    "using System.IO;\n",
    "using Microsoft.Data.Sqlite;\n",
    "\n",
    "static string GetConnectionString(string fileName)\n",
    "{\n",
    "    var folder = Environment.SpecialFolder.MyDocuments;\n",
    "    string folderPath = Environment.GetFolderPath(folder);\n",
    "    string filePath = Path.Join(folderPath, fileName);\n",
    "\n",
    "    SqliteConnectionStringBuilder csb = new SqliteConnectionStringBuilder\n",
    "    {\n",
    "        DataSource = filePath\n",
    "    };\n",
    "\n",
    "    string connectionString = csb.ConnectionString;\n",
    "\n",
    "    return connectionString;\n",
    "}\n",
    "\n",
    "GetConnectionString(\"students.db\")\n"
   ]
  },
  {
   "cell_type": "code",
   "execution_count": null,
   "metadata": {
    "dotnet_interactive": {
     "language": "csharp"
    },
    "polyglot_notebook": {
     "kernelName": "csharp"
    }
   },
   "outputs": [],
   "source": [
    "StudentContext CreateContext()\n",
    "{\n",
    "    StudentContext context = new(new DbContextOptionsBuilder<StudentContext>()\n",
    "                                            .UseSqlite(GetConnectionString(\"students.db\"))\n",
    "                                            .Options);\n",
    "    return context;\n",
    "}"
   ]
  },
  {
   "cell_type": "markdown",
   "metadata": {},
   "source": [
    "V následujícím kódu vytvoříme jednu skupinu, do které přidáme dva studenty. Všimněte si, že zadáváme rovnou hodnoty primárních klíčů. Důležité z hlediska relací je, že zadáváme hodnotu cizího klíče `SkupinaId`. Hodnoty navigačních propert nezadáváme."
   ]
  },
  {
   "cell_type": "code",
   "execution_count": null,
   "metadata": {},
   "outputs": [],
   "source": [
    "await using(StudentContext context = CreateContext())\n",
    "{\n",
    "    await context.Database.EnsureDeletedAsync();\n",
    "    await context.Database.EnsureCreatedAsync();\n",
    "}"
   ]
  },
  {
   "cell_type": "code",
   "execution_count": null,
   "metadata": {
    "dotnet_interactive": {
     "language": "csharp"
    },
    "polyglot_notebook": {
     "kernelName": "csharp"
    }
   },
   "outputs": [],
   "source": [
    "await using(StudentContext context = CreateContext())\n",
    "{\n",
    "    Skupina skupina = new Skupina() { SkupinaId = 1, Nazev = \"SWI1\" };\n",
    "    Student student1 = new Student() { StudentId = 1, SkupinaId = 1, Jmeno = \"Jiri\", Prijmeni = \"Pokorny\" };\n",
    "    Student student2 = new Student() { StudentId = 2, SkupinaId = 1, Jmeno = \"Alena\", Prijmeni = \"Dulikova\" };\n",
    "\n",
    "    context.Skupiny.Add(skupina);\n",
    "    await context.Studenti.AddRangeAsync(student1, student2);\n",
    "\n",
    "    await context.SaveChangesAsync();\n",
    "}"
   ]
  },
  {
   "cell_type": "markdown",
   "metadata": {},
   "source": [
    "### Načtení dat\n",
    "\n",
    "Pokud načítáme data z databáze, tak ve výchozím nastavení se navigation property nenačítají.\n",
    "\n",
    "Pokud bychom tedy načetli skupinu následujícím způsobem, tak by navigation property `skupina.Studenti` byla `null`:"
   ]
  },
  {
   "cell_type": "code",
   "execution_count": null,
   "metadata": {
    "dotnet_interactive": {
     "language": "csharp"
    },
    "polyglot_notebook": {
     "kernelName": "csharp"
    }
   },
   "outputs": [
    {
     "name": "stdout",
     "output_type": "stream",
     "text": [
      "Studenti jsou null\r\n"
     ]
    }
   ],
   "source": [
    "await using(StudentContext context = CreateContext())\n",
    "{\n",
    "    var skupiny = await context.Skupiny.ToListAsync();\n",
    "\n",
    "    foreach(Skupina skupina in skupiny)\n",
    "    {\n",
    "        // skupina.Studenti bude null\n",
    "        if(skupina.Studenti is null)\n",
    "        {\n",
    "            Console.WriteLine(\"Studenti jsou null\");\n",
    "        } \n",
    "    }\n",
    "}"
   ]
  },
  {
   "cell_type": "markdown",
   "metadata": {},
   "source": [
    "Máme [tři možnosti](https://learn.microsoft.com/en-us/ef/core/querying/related-data/) jak navigační property načíst:"
   ]
  },
  {
   "cell_type": "markdown",
   "metadata": {},
   "source": [
    "#### 1. Eager loading\n",
    "\n",
    "Pomocí metody `Include` v dotazu říkáme, která navigační property se má načíst.\n",
    "\n",
    "V následujícm příkladu použijeme metodu `Include` tak by se načetli všichni studenti pro každou skupinu."
   ]
  },
  {
   "cell_type": "code",
   "execution_count": null,
   "metadata": {
    "dotnet_interactive": {
     "language": "csharp"
    },
    "polyglot_notebook": {
     "kernelName": "csharp"
    }
   },
   "outputs": [
    {
     "name": "stdout",
     "output_type": "stream",
     "text": [
      "Skupina 1: SWI1\n",
      "Student 1: Jiri Pokorny\n",
      "Student 2: Alena Dulikova\n"
     ]
    }
   ],
   "source": [
    "await using(StudentContext context = CreateContext())\n",
    "{\n",
    "    var skupinySeStudenty = await context.Skupiny.Include(skupina => skupina.Studenti).ToListAsync();\n",
    "\n",
    "    foreach (Skupina skupina in skupinySeStudenty)\n",
    "    {\n",
    "        Console.WriteLine($\"Skupina {skupina.SkupinaId}: {skupina.Nazev}\");\n",
    "\n",
    "        if (skupina.Studenti is not null)\n",
    "        {\n",
    "            foreach (Student student in skupina.Studenti)\n",
    "            {\n",
    "                Console.WriteLine($\"Student {student.StudentId}: {student.Jmeno} {student.Prijmeni}\");\n",
    "            }\n",
    "        }\n",
    "    }\n",
    "}"
   ]
  },
  {
   "cell_type": "markdown",
   "metadata": {},
   "source": [
    "Pokud chceme načíst navigation property pro includovanou property, tak můžeme použít metodu [ThenInclude](https://learn.microsoft.com/en-us/ef/core/querying/related-data/eager#including-multiple-levels). Entity framework dále podporuje [filtrování entit](https://learn.microsoft.com/en-us/ef/core/querying/related-data/eager#filtered-include), která načítáme v metodě `Include`. Dále můžeme nakonfigurovat context s pomocí [AutoInclude](https://learn.microsoft.com/en-us/ef/core/querying/related-data/eager#model-configuration-for-auto-including-navigations) tak, aby se navigační property načítaly automaticky.\n",
    "\n",
    "Je potředa si ale uvědomit, že Eager loading může mít **negativní vliv** na výkon. Kdy objem načtených dat při každém dalším vnoření může růst exponenciálně. "
   ]
  },
  {
   "cell_type": "markdown",
   "metadata": {},
   "source": [
    "#### 2. Explicit Loading\n",
    "\n",
    "U [Explicit Loading](https://learn.microsoft.com/en-us/ef/core/querying/related-data/explicit#explicit-loading) najprve provedeme dotaz a teprvé potom dodatečně načteme související navigation property. Použijeme metody `DbContext.Entry(...)` API, konkrétně metodu `Collection` jak je ukázáno v následujícím příkladu, kdy navigation property `skupina.Studenti` je kolekce."
   ]
  },
  {
   "cell_type": "code",
   "execution_count": null,
   "metadata": {
    "dotnet_interactive": {
     "language": "csharp"
    },
    "polyglot_notebook": {
     "kernelName": "csharp"
    }
   },
   "outputs": [
    {
     "name": "stdout",
     "output_type": "stream",
     "text": [
      "Studenti jsou zatím null\n",
      "Student 1: Jiri Pokorny\n",
      "Student 2: Alena Dulikova\n"
     ]
    }
   ],
   "source": [
    "await using(StudentContext context = CreateContext())\n",
    "{\n",
    "    Skupina skupina = await context.Skupiny.FindAsync(1);\n",
    "\n",
    "    if (skupina.Studenti is null)\n",
    "    {\n",
    "        Console.WriteLine(\"Studenti jsou zatím null\");\n",
    "    }\n",
    "\n",
    "    await context.Entry(skupina).Collection(skupina => skupina.Studenti).LoadAsync();\n",
    "\n",
    "    if (skupina.Studenti is not null)\n",
    "    {\n",
    "        foreach (Student student in skupina.Studenti)\n",
    "        {\n",
    "            Console.WriteLine($\"Student {student.StudentId}: {student.Jmeno} {student.Prijmeni}\");\n",
    "        }\n",
    "    }\n",
    "}"
   ]
  },
  {
   "cell_type": "markdown",
   "metadata": {},
   "source": [
    "Dále můžeme použit metodu `Reference` pro navigation property, které není kolekce., Například navigation property `Student.Skupina` není kolekce, ale reference na jednu skupinu."
   ]
  },
  {
   "cell_type": "code",
   "execution_count": null,
   "metadata": {
    "dotnet_interactive": {
     "language": "csharp"
    },
    "polyglot_notebook": {
     "kernelName": "csharp"
    }
   },
   "outputs": [
    {
     "name": "stdout",
     "output_type": "stream",
     "text": [
      "Skupina je zatím null.\n",
      "Skupina 1: SWI1\n"
     ]
    }
   ],
   "source": [
    "await using(StudentContext context = CreateContext())\n",
    "{\n",
    "    Student student = await context.Studenti.FindAsync(1);\n",
    "\n",
    "    if(student.Skupina is null)\n",
    "    {\n",
    "        Console.WriteLine(\"Skupina je zatím null.\");\n",
    "    }\n",
    "\n",
    "    await context.Entry(student).Reference(student => student.Skupina).LoadAsync();\n",
    "\n",
    "    if (student.Skupina is not null)\n",
    "    {\n",
    "        Console.WriteLine($\"Skupina {student.Skupina.SkupinaId}: {student.Skupina.Nazev}\");\n",
    "    }\n",
    "}"
   ]
  },
  {
   "cell_type": "markdown",
   "metadata": {},
   "source": [
    "#### 2. Lazy loading\n",
    "\n",
    "Contex je možné taky nakonfigurovat, aby využíval [Lazy Loading](https://learn.microsoft.com/en-us/ef/core/querying/related-data/lazy) a načítal data automaticky, když k nim přistupujeme. \n"
   ]
  },
  {
   "cell_type": "markdown",
   "metadata": {},
   "source": [
    "## Relace one to one\n",
    "\n",
    "V následujícím příkladu si ukážeme příklad na relaci one to one. Budeme mít třídu `Student` a `StudentCart`, kdy student může mít jen jednu studentskou kartu a studentská karta může patřit jen jednomu studentovi.\n",
    "\n",
    "V příkladu bude `Student` hlavní entita a `StudentCart` závislá entita.\n",
    "\n",
    "`Student` má\n",
    "- Navigation property `StudentCart`.\n",
    "\n",
    "`StudentCart` má\n",
    "- Cizí klíč `StudentId`.\n",
    "- Navigation property `Student`."
   ]
  },
  {
   "cell_type": "code",
   "execution_count": null,
   "metadata": {
    "dotnet_interactive": {
     "language": "csharp"
    },
    "polyglot_notebook": {
     "kernelName": "csharp"
    }
   },
   "outputs": [],
   "source": [
    "public class Student\n",
    "{\n",
    "    public int StudentId { get; set; }\n",
    "    public required string Name { get; set; } \n",
    "    public StudentCart? StudentCart { get; set; } // Navigation Property to dependent entity\n",
    "\n",
    "}\n",
    "public class StudentCart\n",
    "{\n",
    "    public int StudentCartId { get; set; }\n",
    "    public required DateTime PlatnostDo { get; set; }\n",
    "    public required int StudentId { get; set; } // Cizí klíč s unique indexem\n",
    "    public Student? Student { get; set; } // Navigation Property to principal entity\n",
    "}"
   ]
  },
  {
   "cell_type": "markdown",
   "metadata": {},
   "source": [
    "Data kontext bude vypadat následovně:"
   ]
  },
  {
   "cell_type": "code",
   "execution_count": null,
   "metadata": {
    "dotnet_interactive": {
     "language": "csharp"
    },
    "polyglot_notebook": {
     "kernelName": "csharp"
    }
   },
   "outputs": [],
   "source": [
    "class StudentContext : DbContext\n",
    "{\n",
    "    public DbSet<Student> Students { get; set; }\n",
    "    public DbSet<StudentCart> Carts { get; set; }\n",
    "\n",
    "    public StudentContext(DbContextOptions<StudentContext> options) : base(options)\n",
    "    {\n",
    "        \n",
    "    }\n",
    "}"
   ]
  },
  {
   "cell_type": "markdown",
   "metadata": {},
   "source": [
    "Vše se nakonfiguruje s pomocí jmenných konvencí. Property `StudentId` bude cizí klíč a unique index (`CREATE UNIQUE INDEX \"IX_Carts_StudentId\" ON \"Carts\" (\"StudentId\")`). \n",
    "\n",
    "V tomto případě to tedy není nutné, ale pro větší názornost si opět ukažeme jak bychom nakonfigurovali relace pomocí fluent API:"
   ]
  },
  {
   "cell_type": "code",
   "execution_count": null,
   "metadata": {
    "dotnet_interactive": {
     "language": "csharp"
    },
    "polyglot_notebook": {
     "kernelName": "csharp"
    }
   },
   "outputs": [],
   "source": [
    "class StudentContext : DbContext\n",
    "{\n",
    "    public DbSet<Student> Students { get; set; }\n",
    "    public DbSet<StudentCart> Carts { get; set; }\n",
    "\n",
    "    public StudentContext(DbContextOptions<StudentContext> options) : base(options)\n",
    "    {\n",
    "        \n",
    "    }\n",
    "\n",
    "    protected override void OnModelCreating(ModelBuilder modelBuilder)\n",
    "    {\n",
    "        modelBuilder.Entity<Student>()\n",
    "            .HasOne(s => s.StudentCart)\n",
    "            .WithOne(sc => sc.Student)\n",
    "            .HasForeignKey<StudentCart>(sc => sc.StudentId)\n",
    "            .IsRequired();\n",
    "\n",
    "        modelBuilder.Entity<StudentCart>().HasIndex(sc => sc.StudentId).IsUnique();\n",
    "    }\n",
    "}"
   ]
  },
  {
   "cell_type": "markdown",
   "metadata": {},
   "source": [
    "Poznámka: Předchozí příklad by šel vyřešit i pomocí sdíleného primárního klíče."
   ]
  },
  {
   "cell_type": "markdown",
   "metadata": {},
   "source": [
    "## Relace many to many\n",
    "\n",
    "Relaci many to many si ukážeme na příkladů studentů a předmětů, kdy student má více předmětů a předmět může mít více studentů."
   ]
  },
  {
   "cell_type": "markdown",
   "metadata": {},
   "source": [
    "### Basic many to many\n",
    "\n",
    "Nejprve si ukážeme variantu [basic many-to-many](https://learn.microsoft.com/en-us/ef/core/modeling/relationships/many-to-many#basic-many-to-many).\n",
    "\n",
    "Definujeme si třídy `Student` a `Subject`. \n",
    "\n",
    "`Student` má:\n",
    "- Collection navigation property `Subjects`.\n",
    "\n",
    "`Subject` má:\n",
    "- Collection navigation property `Students`."
   ]
  },
  {
   "cell_type": "code",
   "execution_count": null,
   "metadata": {
    "dotnet_interactive": {
     "language": "csharp"
    },
    "polyglot_notebook": {
     "kernelName": "csharp"
    }
   },
   "outputs": [],
   "source": [
    "class Student\n",
    "{\n",
    "    public int StudentId { get; set; }\n",
    "    public required string Jmeno { get; set; }\n",
    "    public List<Subject>? Subjects { get; set; }\n",
    "}\n",
    "\n",
    "class Subject\n",
    "{\n",
    "    public int SubjectId { get; set; }\n",
    "    public required string Name { get; set; }\n",
    "    public List<Student>? Students { get; set; }\n",
    "}"
   ]
  },
  {
   "cell_type": "markdown",
   "metadata": {},
   "source": [
    "DbContext bud vypadat následovně:"
   ]
  },
  {
   "cell_type": "code",
   "execution_count": null,
   "metadata": {
    "dotnet_interactive": {
     "language": "csharp"
    },
    "polyglot_notebook": {
     "kernelName": "csharp"
    }
   },
   "outputs": [],
   "source": [
    "using Microsoft.EntityFrameworkCore;\n",
    "\n",
    "class SchoolContext : DbContext\n",
    "{\n",
    "    public DbSet<Student> Studenti { get; set; }\n",
    "    public DbSet<Subject> Subjects { get; set; }\n",
    "\n",
    "    public SchoolContext(DbContextOptions<SchoolContext> options) : base(options)\n",
    "    {\n",
    "        \n",
    "    }\n",
    "}"
   ]
  },
  {
   "cell_type": "markdown",
   "metadata": {},
   "source": [
    "A to je vše co potřebujeme. Entity framework dle jmenných konvencí vytvoří v databází propojovací tabulku `StudentSubject` automaticky.\n",
    "\n",
    "Nový záznam vytoříme například následujícím způsobem. Všimněte si, že subject nepřidáváme do tabulky, ale jen do navigation property `student.Subjects`, ale i tak se subject přidá do tabulky `Subjects` a také se přidá záznam do tabulky `StudentSubject`. "
   ]
  },
  {
   "cell_type": "code",
   "execution_count": null,
   "metadata": {},
   "outputs": [],
   "source": [
    "SchoolContext CreateSchoolContext()\n",
    "{\n",
    "    SchoolContext context = new(new DbContextOptionsBuilder<SchoolContext>()\n",
    "                                            .UseSqlite(GetConnectionString(\"school.db\"))\n",
    "                                            .Options);\n",
    "    return context;\n",
    "}"
   ]
  },
  {
   "cell_type": "code",
   "execution_count": null,
   "metadata": {
    "dotnet_interactive": {
     "language": "csharp"
    },
    "polyglot_notebook": {
     "kernelName": "csharp"
    }
   },
   "outputs": [],
   "source": [
    "await using(SchoolContext context = CreateSchoolContext())\n",
    "{\n",
    "    if (context.Database.EnsureCreated())\n",
    "    {\n",
    "        Student student = new Student() { StudentId = 1, Jmeno = \"Karl\" };\n",
    "        Subject subject = new Subject() { SubjectId = 1, Name = \"Math\" };\n",
    "\n",
    "        student.Subjects = [subject];\n",
    "        \n",
    "        context.Add(student);\n",
    "\n",
    "        int count = context.SaveChanges();\n",
    "    }\n",
    "}"
   ]
  },
  {
   "cell_type": "markdown",
   "metadata": {},
   "source": [
    "### Many-to-many with class for join entity\n",
    "\n",
    "U varianty [many-to-many with class for join entity](https://learn.microsoft.com/en-us/ef/core/modeling/relationships/many-to-many#many-to-many-with-class-for-join-entity) si přímo nadefinujeme propojovací třídu `StudentSubject` a označíme ji pomocí Fluent API. Výhodou je, že můžeme snadněji zadávat její hodnoty.\n",
    "\n",
    "Budeme mít tedy následující třídy, kdy proti předchozímu příkladu přibyla třída `StudentSubject`."
   ]
  },
  {
   "cell_type": "code",
   "execution_count": null,
   "metadata": {
    "dotnet_interactive": {
     "language": "csharp"
    },
    "polyglot_notebook": {
     "kernelName": "csharp"
    }
   },
   "outputs": [],
   "source": [
    "class Student\n",
    "{\n",
    "    public int StudentId { get; set; }\n",
    "    public required string Jmeno { get; set; }\n",
    "    public List<Subject>? Subjects { get; set; }\n",
    "}\n",
    "\n",
    "class Subject\n",
    "{\n",
    "    public int SubjectId { get; set; }\n",
    "    public required string Name { get; set; }\n",
    "    public List<Student>? Students { get; set; }\n",
    "}\n",
    "\n",
    "class StudentSubject\n",
    "{\n",
    "    public int StudentId { get; set; }\n",
    "    public int SubjectId { get; set; }\n",
    "}"
   ]
  },
  {
   "cell_type": "markdown",
   "metadata": {},
   "source": [
    "DbContext potom bude vypadat následovně. Propojovací join entita je definována metodou `UsingEntity<StudentSubject>()`."
   ]
  },
  {
   "cell_type": "code",
   "execution_count": null,
   "metadata": {
    "dotnet_interactive": {
     "language": "csharp"
    },
    "polyglot_notebook": {
     "kernelName": "csharp"
    }
   },
   "outputs": [],
   "source": [
    "class SchoolContext : DbContext\n",
    "{\n",
    "    public DbSet<Student> Studenti { get; set; }\n",
    "    public DbSet<Subject> Subjects { get; set; }\n",
    "\n",
    "    public SchoolContext(DbContextOptions<SchoolContext> options) : base(options)\n",
    "    {\n",
    "        \n",
    "    }\n",
    "\n",
    "    protected override void OnModelCreating(ModelBuilder modelBuilder)\n",
    "    {\n",
    "        modelBuilder.Entity<Student>()\n",
    "            .HasMany(student => student.Subjects)\n",
    "            .WithMany(skupina => skupina.Students)\n",
    "            .UsingEntity<StudentSubject>();\n",
    "    }\n",
    "}"
   ]
  },
  {
   "cell_type": "markdown",
   "metadata": {},
   "source": [
    "Použití je potom následující:"
   ]
  },
  {
   "cell_type": "code",
   "execution_count": null,
   "metadata": {
    "dotnet_interactive": {
     "language": "csharp"
    },
    "polyglot_notebook": {
     "kernelName": "csharp"
    }
   },
   "outputs": [],
   "source": [
    "using(SchoolContext context = CreateSchoolContext())\n",
    "{\n",
    "\n",
    "    if (context.Database.EnsureCreated())\n",
    "    {\n",
    "        Student student = new Student() { StudentId = 1, Jmeno = \"Karl\" };\n",
    "        Subject subject = new Subject() { SubjectId = 1, Name = \"Math\" };\n",
    "        StudentSubject studentSubject = new StudentSubject() { StudentId = 1, SubjectId = 1 };                    \n",
    "        \n",
    "        context.Add(student);\n",
    "        context.Add(subject);\n",
    "        context.Add(studentSubject);\n",
    "\n",
    "        int count = context.SaveChanges();\n",
    "    }\n",
    "}"
   ]
  }
 ],
 "metadata": {
  "kernelspec": {
   "display_name": ".NET (C#)",
   "language": "C#",
   "name": ".net-csharp"
  },
  "polyglot_notebook": {
   "kernelInfo": {
    "defaultKernelName": "csharp",
    "items": [
     {
      "aliases": [],
      "languageName": "csharp",
      "name": "csharp"
     }
    ]
   }
  }
 },
 "nbformat": 4,
 "nbformat_minor": 2
}
