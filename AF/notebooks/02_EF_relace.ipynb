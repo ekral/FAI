{
 "cells": [
  {
   "cell_type": "markdown",
   "metadata": {},
   "source": [
    "# 02 Relace v entity frameworku\n",
    "\n",
    "**autor: Erik Král ekral@utb.cz**\n",
    "\n",
    "---\n",
    "\n",
    "V tomto materiálu probereme relace one to many (1 : n), one to one (1 : 1),  a many to many (n : m).\n",
    "\n",
    "U relací v Entity Frameworku rozlišujeme:\n",
    "\n",
    "- **Cizí klíč** který slouží pro definici relace a ukládá se do databáze.\n",
    "- **Navigační property** a to buď jako referenci nebo kolekci referencí, která slouží především pro procházení objektů v paměti."
   ]
  },
  {
   "cell_type": "markdown",
   "metadata": {},
   "source": [
    "## Relace one to many\n",
    "\n",
    "V následujícím příkladu budeme mít studenty a studijní skupiny a budeme předpokládat, že student může být zapsaný jen v jedné studijní skupině. \n",
    "\n",
    "Student obsahuje:\n",
    "- cizí klíč `SkupinaId` a \n",
    "- navigační property `Skupina`. \n",
    "\n",
    "Třída `Skupina` potom obsahuje:\n",
    "- collection navigační property `Studenti`.\n",
    "\n",
    "Jako alternativu pro konstruktor použijeme klíčové slovo `required`. Všimněte si, že navigační property `Skupina` i `Studenti` jsou **nullable**, jejich hodnota tedy může být null."
   ]
  },
  {
   "cell_type": "code",
   "execution_count": null,
   "metadata": {
    "dotnet_interactive": {
     "language": "csharp"
    },
    "polyglot_notebook": {
     "kernelName": "csharp"
    }
   },
   "outputs": [],
   "source": [
    "public class Student\n",
    "{\n",
    "    public int StudentId { get; set; } \n",
    "    public required string Jmeno { get; set; }\n",
    "    public required string Prijmeni { get; set; }\n",
    "    public int SkupinaId { get; set; } // Cizí klíč\n",
    "    public Skupina? Skupina { get; set; } // Navigation Property\n",
    "}\n",
    "\n",
    "public class Skupina\n",
    "{\n",
    "    public int SkupinaId { get; set; }\n",
    "    public required string Nazev { get; set; } \n",
    "    public ICollection<Student>? Studenti { get; set; } // Collection Navigation Property\n",
    "}"
   ]
  },
  {
   "cell_type": "markdown",
   "metadata": {},
   "source": [
    "Dále vytvoříme DbContext. Pokud chceme používat konkrétní databázi s Entity Frameworkem, tak musím do projektu přidat **database provider** pro tuto databázi. Database provider je knihovna distribuovaná jako nuget balíček. \n",
    "\n",
    "Například nuget balíček [Microsoft.EntityFrameworkCore.Sqlite](https://www.nuget.org/packages/microsoft.entityframeworkcore.sqlite) přidá do projektu podporu pro EF providera pro databází Sqlite."
   ]
  },
  {
   "cell_type": "code",
   "execution_count": null,
   "metadata": {},
   "outputs": [
    {
     "data": {
      "text/html": [
       "<div><div></div><div></div><div><strong>Installed Packages</strong><ul><li><span>Microsoft.EntityFrameworkCore.Sqlite, 9.0.2</span></li></ul></div></div>"
      ]
     },
     "metadata": {},
     "output_type": "display_data"
    }
   ],
   "source": [
    "#r \"nuget: Microsoft.EntityFrameworkCore.Sqlite\""
   ]
  },
  {
   "cell_type": "markdown",
   "metadata": {},
   "source": [
    "Dále vytvoříme DbContext:"
   ]
  },
  {
   "cell_type": "code",
   "execution_count": null,
   "metadata": {},
   "outputs": [],
   "source": [
    "using Microsoft.EntityFrameworkCore;\n",
    "\n",
    "public class StudentContext(DbContextOptions<StudentContext> options) : DbContext(options)\n",
    "{\n",
    "    public DbSet<Student> Studenti { get; set; }\n",
    "    public DbSet<Skupina> Skupiny { get; set; }\n",
    "}"
   ]
  },
  {
   "cell_type": "markdown",
   "metadata": {},
   "source": [
    "Vše se nakonfiguruje pomocí jmenných konvencí.\n",
    "\n",
    "V tomto případě to tedy není nutné, ale pro větší názornost si ukažeme jak bychom nakonfigurovali relace pomocí fluent API:"
   ]
  },
  {
   "cell_type": "code",
   "execution_count": null,
   "metadata": {},
   "outputs": [],
   "source": [
    "using Microsoft.EntityFrameworkCore;\n",
    "\n",
    "public class StudentContext(DbContextOptions<StudentContext> options) : DbContext(options)\n",
    "{\n",
    "    public DbSet<Student> Studenti { get; set; }\n",
    "    public DbSet<Skupina> Skupiny { get; set; }\n",
    "\n",
    "    protected override void OnModelCreating(ModelBuilder modelBuilder)\n",
    "    {\n",
    "        modelBuilder.Entity<Student>()\n",
    "                    .HasOne(s => s.Skupina)\n",
    "                    .WithMany(sk => sk.Studenti)\n",
    "                    .HasForeignKey(s => s.SkupinaId);\n",
    "    }\n",
    "}\n"
   ]
  },
  {
   "cell_type": "markdown",
   "metadata": {},
   "source": [
    "### Nový řádek databáze\n",
    "\n",
    "V následujících příkladech probereme vytvoření řádku s relacemi a načtení dat pomocí dvou ruzných způsobů. Aby byl kód přehlednější, tak si nadefinujeme pomocnou metodu pro vytváření DbContextu:"
   ]
  },
  {
   "cell_type": "code",
   "execution_count": null,
   "metadata": {},
   "outputs": [],
   "source": [
    "static StudentContext CreateContext()\n",
    "{\n",
    "    StudentContext context = new(new DbContextOptionsBuilder<StudentContext>()\n",
    "                                            .UseSqlite(\"Data Source=studenti.db\")\n",
    "                                            .Options);\n",
    "    return context;\n",
    "}"
   ]
  },
  {
   "cell_type": "markdown",
   "metadata": {},
   "source": [
    "V následujícím kódu vytvoříme jednu skupinu, do které přidáme dva studenty. Všimněte si, že zadáváme rovnou hodnoty primárních klíčů. Důležité z hlediska relací je, že zadáváme hodnotu cizího klíče `SkupinaId`. Hodnoty navigačních propert nezadáváme."
   ]
  },
  {
   "cell_type": "code",
   "execution_count": null,
   "metadata": {},
   "outputs": [
    {
     "ename": "Error",
     "evalue": "Microsoft.EntityFrameworkCore.DbUpdateException: An error occurred while saving the entity changes. See the inner exception for details.\r\n ---> Microsoft.Data.Sqlite.SqliteException (0x80004005): SQLite Error 1: 'no such table: Skupiny'.\r\n   at Microsoft.Data.Sqlite.SqliteException.ThrowExceptionForRC(Int32 rc, sqlite3 db)\r\n   at Microsoft.Data.Sqlite.SqliteCommand.PrepareAndEnumerateStatements()+MoveNext()\r\n   at Microsoft.Data.Sqlite.SqliteCommand.GetStatements()+MoveNext()\r\n   at Microsoft.Data.Sqlite.SqliteDataReader.NextResult()\r\n   at Microsoft.Data.Sqlite.SqliteCommand.ExecuteReader(CommandBehavior behavior)\r\n   at Microsoft.Data.Sqlite.SqliteCommand.ExecuteDbDataReader(CommandBehavior behavior)\r\n   at Microsoft.EntityFrameworkCore.Storage.RelationalCommand.ExecuteReader(RelationalCommandParameterObject parameterObject)\r\n   at Microsoft.EntityFrameworkCore.Update.ReaderModificationCommandBatch.Execute(IRelationalConnection connection)\r\n   --- End of inner exception stack trace ---\r\n   at Microsoft.EntityFrameworkCore.Update.ReaderModificationCommandBatch.Execute(IRelationalConnection connection)\r\n   at Microsoft.EntityFrameworkCore.Update.Internal.BatchExecutor.Execute(IEnumerable`1 commandBatches, IRelationalConnection connection)\r\n   at Microsoft.EntityFrameworkCore.Storage.RelationalDatabase.SaveChanges(IList`1 entries)\r\n   at Microsoft.EntityFrameworkCore.ChangeTracking.Internal.StateManager.SaveChanges(IList`1 entriesToSave)\r\n   at Microsoft.EntityFrameworkCore.ChangeTracking.Internal.StateManager.SaveChanges(StateManager stateManager, Boolean acceptAllChangesOnSuccess)\r\n   at Microsoft.EntityFrameworkCore.ChangeTracking.Internal.StateManager.<>c.<SaveChanges>b__112_0(DbContext _, ValueTuple`2 t)\r\n   at Microsoft.EntityFrameworkCore.Storage.NonRetryingExecutionStrategy.Execute[TState,TResult](TState state, Func`3 operation, Func`3 verifySucceeded)\r\n   at Microsoft.EntityFrameworkCore.ChangeTracking.Internal.StateManager.SaveChanges(Boolean acceptAllChangesOnSuccess)\r\n   at Microsoft.EntityFrameworkCore.DbContext.SaveChanges(Boolean acceptAllChangesOnSuccess)\r\n   at Microsoft.EntityFrameworkCore.DbContext.SaveChanges()\r\n   at Submission#15.<<Initialize>>d__0.MoveNext()\r\n--- End of stack trace from previous location ---\r\n   at Microsoft.CodeAnalysis.Scripting.ScriptExecutionState.RunSubmissionsAsync[TResult](ImmutableArray`1 precedingExecutors, Func`2 currentExecutor, StrongBox`1 exceptionHolderOpt, Func`2 catchExceptionOpt, CancellationToken cancellationToken)",
     "output_type": "error",
     "traceback": [
      "Microsoft.EntityFrameworkCore.DbUpdateException: An error occurred while saving the entity changes. See the inner exception for details.\r\n",
      " ---> Microsoft.Data.Sqlite.SqliteException (0x80004005): SQLite Error 1: 'no such table: Skupiny'.\r\n",
      "   at Microsoft.Data.Sqlite.SqliteException.ThrowExceptionForRC(Int32 rc, sqlite3 db)\r\n",
      "   at Microsoft.Data.Sqlite.SqliteCommand.PrepareAndEnumerateStatements()+MoveNext()\r\n",
      "   at Microsoft.Data.Sqlite.SqliteCommand.GetStatements()+MoveNext()\r\n",
      "   at Microsoft.Data.Sqlite.SqliteDataReader.NextResult()\r\n",
      "   at Microsoft.Data.Sqlite.SqliteCommand.ExecuteReader(CommandBehavior behavior)\r\n",
      "   at Microsoft.Data.Sqlite.SqliteCommand.ExecuteDbDataReader(CommandBehavior behavior)\r\n",
      "   at Microsoft.EntityFrameworkCore.Storage.RelationalCommand.ExecuteReader(RelationalCommandParameterObject parameterObject)\r\n",
      "   at Microsoft.EntityFrameworkCore.Update.ReaderModificationCommandBatch.Execute(IRelationalConnection connection)\r\n",
      "   --- End of inner exception stack trace ---\r\n",
      "   at Microsoft.EntityFrameworkCore.Update.ReaderModificationCommandBatch.Execute(IRelationalConnection connection)\r\n",
      "   at Microsoft.EntityFrameworkCore.Update.Internal.BatchExecutor.Execute(IEnumerable`1 commandBatches, IRelationalConnection connection)\r\n",
      "   at Microsoft.EntityFrameworkCore.Storage.RelationalDatabase.SaveChanges(IList`1 entries)\r\n",
      "   at Microsoft.EntityFrameworkCore.ChangeTracking.Internal.StateManager.SaveChanges(IList`1 entriesToSave)\r\n",
      "   at Microsoft.EntityFrameworkCore.ChangeTracking.Internal.StateManager.SaveChanges(StateManager stateManager, Boolean acceptAllChangesOnSuccess)\r\n",
      "   at Microsoft.EntityFrameworkCore.ChangeTracking.Internal.StateManager.<>c.<SaveChanges>b__112_0(DbContext _, ValueTuple`2 t)\r\n",
      "   at Microsoft.EntityFrameworkCore.Storage.NonRetryingExecutionStrategy.Execute[TState,TResult](TState state, Func`3 operation, Func`3 verifySucceeded)\r\n",
      "   at Microsoft.EntityFrameworkCore.ChangeTracking.Internal.StateManager.SaveChanges(Boolean acceptAllChangesOnSuccess)\r\n",
      "   at Microsoft.EntityFrameworkCore.DbContext.SaveChanges(Boolean acceptAllChangesOnSuccess)\r\n",
      "   at Microsoft.EntityFrameworkCore.DbContext.SaveChanges()\r\n",
      "   at Submission#15.<<Initialize>>d__0.MoveNext()\r\n",
      "--- End of stack trace from previous location ---\r\n",
      "   at Microsoft.CodeAnalysis.Scripting.ScriptExecutionState.RunSubmissionsAsync[TResult](ImmutableArray`1 precedingExecutors, Func`2 currentExecutor, StrongBox`1 exceptionHolderOpt, Func`2 catchExceptionOpt, CancellationToken cancellationToken)"
     ]
    }
   ],
   "source": [
    "using(StudentContext context = CreateContext())\n",
    "{\n",
    "    Skupina skupina = new Skupina() { SkupinaId = 1, Nazev = \"SWI1\" };\n",
    "    Student student1 = new Student() { StudentId = 1, SkupinaId = 1, Jmeno = \"Jiri\", Prijmeni = \"Pokorny\" };\n",
    "    Student student2 = new Student() { StudentId = 2, SkupinaId = 1, Jmeno = \"Alena\", Prijmeni = \"Dulikova\" };\n",
    "\n",
    "    context.Skupiny.Add(skupina);\n",
    "    context.Studenti.AddRange(student1, student2);\n",
    "\n",
    "    context.SaveChanges();\n",
    "}"
   ]
  },
  {
   "cell_type": "markdown",
   "metadata": {},
   "source": [
    "### Načtení dat\n",
    "\n",
    "Pokud načítáme data z databáze, tak ve výchozím nastavení se navigation property nenačítají.\n",
    "\n",
    "Pokud bychom tedy načetli skupinu následujícím způsobem, tak by navigation property `skupina.Studenti` byla `null`:"
   ]
  },
  {
   "cell_type": "code",
   "execution_count": null,
   "metadata": {},
   "outputs": [],
   "source": [
    "var skupiny = context.Skupiny;\n",
    "\n",
    "foreach(Skupina skupina in skupiny)\n",
    "{\n",
    "    // skupina.Studenti bude null\n",
    "}"
   ]
  },
  {
   "cell_type": "markdown",
   "metadata": {},
   "source": [
    "Máme [tři možnosti](https://learn.microsoft.com/en-us/ef/core/querying/related-data/) jak navigační property načíst:"
   ]
  },
  {
   "cell_type": "markdown",
   "metadata": {},
   "source": [
    "#### 1. Eager loading\n",
    "\n",
    "Pomocí metody `Include` v dotazu říkáme, která navigační property se má načíst.\n",
    "\n",
    "V následujícm příkladu použijeme metodu `Include` tak by se načetli všichni studenti pro každou skupinu."
   ]
  },
  {
   "cell_type": "code",
   "execution_count": null,
   "metadata": {},
   "outputs": [],
   "source": [
    "var skupinySeStudenty = context.Skupiny.Include(skupina => skupina.Studenti);\n",
    "\n",
    "foreach (Skupina skupina in skupiny)\n",
    "{\n",
    "    Console.WriteLine($\"Skupina {skupina.SkupinaId}: {skupina.Nazev}\");\n",
    "\n",
    "    if (skupina.Studenti is not null)\n",
    "    {\n",
    "        foreach (Student student in skupina.Studenti)\n",
    "        {\n",
    "            Console.WriteLine($\"Student {student.StudentId}: {student.Jmeno} {student.Prijmeni}\");\n",
    "        }\n",
    "    }\n",
    "}"
   ]
  },
  {
   "cell_type": "markdown",
   "metadata": {},
   "source": [
    "Pokud chceme načíst navigation property pro includovanou property, tak můžeme použít metodu [ThenInclude](https://learn.microsoft.com/en-us/ef/core/querying/related-data/eager#including-multiple-levels). Entity framework dále podporuje [filtrování entit](https://learn.microsoft.com/en-us/ef/core/querying/related-data/eager#filtered-include), která načítáme v metodě `Include`. Dále můžeme nakonfigurovat context s pomocí [AutoInclude](https://learn.microsoft.com/en-us/ef/core/querying/related-data/eager#model-configuration-for-auto-including-navigations) tak, aby se navigační property načítaly automaticky.\n",
    "\n",
    "Je potředa si ale uvědomit, že Eager loading může mít **negativní vliv** na výkon. Kdy objem načtených dat při každém dalším vnoření může růst exponenciálně. "
   ]
  },
  {
   "cell_type": "markdown",
   "metadata": {},
   "source": [
    "#### 2. Explicit Loading\n",
    "\n",
    "U [Explicit Loading](https://learn.microsoft.com/en-us/ef/core/querying/related-data/explicit#explicit-loading) najprve provedeme dotaz a teprvé potom dodatečně načteme související navigation property. Použijeme metody `DbContext.Entry(...)` API, konkrétně metodu `Collection` jak je ukázáno v následujícím příkladu, kdy navigation property `skupina.Studenti` je kolekce."
   ]
  },
  {
   "cell_type": "code",
   "execution_count": null,
   "metadata": {},
   "outputs": [
    {
     "ename": "Error",
     "evalue": "(1,1): error CS0246: The type or namespace name 'Skupina' could not be found (are you missing a using directive or an assembly reference?)\r\n(1,19): error CS0103: The name 'context' does not exist in the current context\r\n(8,1): error CS0103: The name 'context' does not exist in the current context\r\n(12,14): error CS0246: The type or namespace name 'Student' could not be found (are you missing a using directive or an assembly reference?)",
     "output_type": "error",
     "traceback": [
      "(1,1): error CS0246: The type or namespace name 'Skupina' could not be found (are you missing a using directive or an assembly reference?)\r\n",
      "(1,19): error CS0103: The name 'context' does not exist in the current context\r\n",
      "(8,1): error CS0103: The name 'context' does not exist in the current context\r\n",
      "(12,14): error CS0246: The type or namespace name 'Student' could not be found (are you missing a using directive or an assembly reference?)"
     ]
    }
   ],
   "source": [
    "Skupina skupina = context.Skupiny.Single(s => s.SkupinaId == 1);\n",
    "\n",
    "if (skupina.Studenti is null)\n",
    "{\n",
    "    Console.WriteLine(\"Studenti jsou zatím null\");\n",
    "}\n",
    "\n",
    "context.Entry(skupina).Collection(skupina => skupina.Studenti).Load();\n",
    "\n",
    "if (skupina.Studenti is not null)\n",
    "{\n",
    "    foreach (Student student in skupina.Studenti)\n",
    "    {\n",
    "        Console.WriteLine($\"Student {student.StudentId}: {student.Jmeno} {student.Prijmeni}\");\n",
    "    }\n",
    "}"
   ]
  },
  {
   "cell_type": "markdown",
   "metadata": {},
   "source": [
    "Dále můžeme použit metodu `Reference` pro navigation property, které není kolekce., Například navigation property `Student.Skupina` není kolekce, ale reference na jednu skupinu."
   ]
  },
  {
   "cell_type": "code",
   "execution_count": null,
   "metadata": {},
   "outputs": [],
   "source": [
    "Student student = context.Studenti.Single(student => student.StudentId == 1);\n",
    "\n",
    "if(student.Skupina is null)\n",
    "{\n",
    "    Console.WriteLine(\"Skupina je zatím null.\");\n",
    "}\n",
    "\n",
    "context.Entry(student).Reference(student => student.Skupina).Load();\n",
    "\n",
    "if (student.Skupina is not null)\n",
    "{\n",
    "    Console.WriteLine($\"Skupina {student.Skupina.SkupinaId}: {student.Skupina.Nazev}\");\n",
    "}"
   ]
  },
  {
   "cell_type": "markdown",
   "metadata": {},
   "source": [
    "#### 2. Lazy loading\n",
    "\n",
    "Contex je možné taky nakonfigurovat, aby využíval [Lazy Loading](https://learn.microsoft.com/en-us/ef/core/querying/related-data/lazy) a načítal data automaticky, když k nim přistupujeme. \n"
   ]
  },
  {
   "cell_type": "markdown",
   "metadata": {},
   "source": [
    "## Relace one to one\n",
    "\n",
    "V následujícím příkladu si ukážeme příklad na relaci one to one. Budeme mít třídu `Student` a `StudentCart`, kdy student může mít jen jednu studentskou kartu a studentská karta může patřit jen jednomu studentovi.\n",
    "\n",
    "V příkladu bude `Student` hlavní entita a `StudentCart` závislá entita.\n",
    "\n",
    "`Student` má\n",
    "- Navigation property `StudentCart`.\n",
    "\n",
    "`StudentCart` má\n",
    "- Cizí klíč `StudentId`.\n",
    "- Navigation property `Student`."
   ]
  },
  {
   "cell_type": "code",
   "execution_count": null,
   "metadata": {},
   "outputs": [],
   "source": [
    "public class Student\n",
    "{\n",
    "    public int StudentId { get; set; }\n",
    "    public required string Name { get; set; } \n",
    "    public StudentCart? StudentCart { get; set; } // Navigation Property to dependent\n",
    "\n",
    "}\n",
    "public class StudentCart\n",
    "{\n",
    "    public int StudentCartId { get; set; }\n",
    "    public required DateTime PlatnostDo { get; set; }\n",
    "    public required int StudentId { get; set; } // Cizí klíč s unique indexem\n",
    "    public Student? Student { get; set; } // Navigation Property to principal entity\n",
    "}"
   ]
  },
  {
   "cell_type": "markdown",
   "metadata": {},
   "source": [
    "Data kontext bude vypadat následovně:"
   ]
  },
  {
   "cell_type": "code",
   "execution_count": null,
   "metadata": {},
   "outputs": [
    {
     "ename": "Error",
     "evalue": "(1,14): error CS1002: ; expected\r\n(1,27): error CS1002: ; expected\r\n(1,38): error CS1733: Expected expression",
     "output_type": "error",
     "traceback": [
      "(1,14): error CS1002: ; expected\r\n",
      "(1,27): error CS1002: ; expected\r\n",
      "(1,38): error CS1733: Expected expression"
     ]
    }
   ],
   "source": [
    "class StudentContext : DbContext\n",
    "{\n",
    "    public DbSet<Student> Students { get; set; }\n",
    "    public DbSet<StudentCart> Carts { get; set; }\n",
    "\n",
    "    public StudentContext(DbContextOptions<StudentContext> options) : base(options)\n",
    "    {\n",
    "        \n",
    "    }\n",
    "}"
   ]
  },
  {
   "cell_type": "markdown",
   "metadata": {},
   "source": [
    "Vše se nakonfiguruje s pomocí jmenných konvencí. Property `StudentId` bude cizí klíč a unique index (`CREATE UNIQUE INDEX \"IX_Carts_StudentId\" ON \"Carts\" (\"StudentId\")`). \n",
    "\n",
    "V tomto případě to tedy není nutné, ale pro větší názornost si opět ukažeme jak bychom nakonfigurovali relace pomocí fluent API:"
   ]
  },
  {
   "cell_type": "code",
   "execution_count": null,
   "metadata": {},
   "outputs": [
    {
     "ename": "Error",
     "evalue": "(1,41): error CS0246: The type or namespace name 'ModelBuilder' could not be found (are you missing a using directive or an assembly reference?)",
     "output_type": "error",
     "traceback": [
      "(1,41): error CS0246: The type or namespace name 'ModelBuilder' could not be found (are you missing a using directive or an assembly reference?)"
     ]
    }
   ],
   "source": [
    "protected override void OnModelCreating(ModelBuilder modelBuilder)\n",
    "{\n",
    "    modelBuilder.Entity<Student>()\n",
    "        .HasOne(s => s.StudentCart)\n",
    "        .WithOne(sc => sc.Student)\n",
    "        .HasForeignKey<StudentCart>(sc => sc.StudentId)\n",
    "        .IsRequired();\n",
    "\n",
    "    modelBuilder.Entity<StudentCart>().HasIndex(sc => sc.StudentId).IsUnique();\n",
    "}"
   ]
  },
  {
   "cell_type": "markdown",
   "metadata": {},
   "source": [
    "Poznámka: Předchozí příklad by šel vyřešit i pomocí sdíleného primárního klíče."
   ]
  },
  {
   "cell_type": "markdown",
   "metadata": {},
   "source": [
    "## Relace many to many\n",
    "\n",
    "Relaci many to many si ukážeme na příkladů studentů a předmětů, kdy student má více předmětů a předmět může mít více studentů."
   ]
  },
  {
   "cell_type": "markdown",
   "metadata": {},
   "source": [
    "### Basic many to many\n",
    "\n",
    "Nejprve si ukážeme variantu [basic many-to-many](https://learn.microsoft.com/en-us/ef/core/modeling/relationships/many-to-many#basic-many-to-many).\n",
    "\n",
    "Definujeme si třídy `Student` a `Subject`. \n",
    "\n",
    "`Student` má:\n",
    "- Collection navigation property `Subjects`.\n",
    "\n",
    "`Subject` má:\n",
    "- Collection navigation property `Students`."
   ]
  },
  {
   "cell_type": "code",
   "execution_count": null,
   "metadata": {},
   "outputs": [],
   "source": [
    "class Student\n",
    "{\n",
    "    public int StudentId { get; set; }\n",
    "    public required string Jmeno { get; set; }\n",
    "    public List<Subject>? Subjects { get; set; }\n",
    "}\n",
    "\n",
    "class Subject\n",
    "{\n",
    "    public int SubjectId { get; set; }\n",
    "    public required string Name { get; set; }\n",
    "    public List<Student>? Students { get; set; }\n",
    "}"
   ]
  },
  {
   "cell_type": "markdown",
   "metadata": {},
   "source": [
    "DbContext bud vypadat následovně:"
   ]
  },
  {
   "cell_type": "code",
   "execution_count": null,
   "metadata": {},
   "outputs": [
    {
     "ename": "Error",
     "evalue": "(1,24): error CS0246: The type or namespace name 'DbContext' could not be found (are you missing a using directive or an assembly reference?)\r\n(3,12): error CS0246: The type or namespace name 'DbSet<>' could not be found (are you missing a using directive or an assembly reference?)\r\n(4,12): error CS0246: The type or namespace name 'DbSet<>' could not be found (are you missing a using directive or an assembly reference?)\r\n(6,27): error CS0246: The type or namespace name 'DbContextOptions<>' could not be found (are you missing a using directive or an assembly reference?)\r\n(6,71): error CS1729: 'DbContext' does not contain a constructor that takes 1 arguments",
     "output_type": "error",
     "traceback": [
      "(1,24): error CS0246: The type or namespace name 'DbContext' could not be found (are you missing a using directive or an assembly reference?)\r\n",
      "(3,12): error CS0246: The type or namespace name 'DbSet<>' could not be found (are you missing a using directive or an assembly reference?)\r\n",
      "(4,12): error CS0246: The type or namespace name 'DbSet<>' could not be found (are you missing a using directive or an assembly reference?)\r\n",
      "(6,27): error CS0246: The type or namespace name 'DbContextOptions<>' could not be found (are you missing a using directive or an assembly reference?)\r\n",
      "(6,71): error CS1729: 'DbContext' does not contain a constructor that takes 1 arguments"
     ]
    }
   ],
   "source": [
    "class StudentContext : DbContext\n",
    "{\n",
    "    public DbSet<Student> Studenti { get; set; }\n",
    "    public DbSet<Subject> Subjects { get; set; }\n",
    "\n",
    "    public StudentContext(DbContextOptions<StudentContext> options) : base(options)\n",
    "    {\n",
    "        \n",
    "    }\n",
    "}"
   ]
  },
  {
   "cell_type": "markdown",
   "metadata": {},
   "source": [
    "A to je vše co potřebujeme. Entity framework dle jmenných konvencí vytvoří v databází propojovací tabulku `StudentSubject` automaticky.\n",
    "\n",
    "Nový záznam vytoříme například následujícím způsobem. Všimněte si, že subject nepřidáváme do tabulky, ale jen do navigation property `student.Subjects`, ale i tak se subject přidá do tabulky `Subjects` a také se přidá záznam do tabulky `StudentSubject`. "
   ]
  },
  {
   "cell_type": "code",
   "execution_count": null,
   "metadata": {},
   "outputs": [
    {
     "ename": "Error",
     "evalue": "(1,22): error CS1002: ; expected",
     "output_type": "error",
     "traceback": [
      "(1,22): error CS1002: ; expected"
     ]
    }
   ],
   "source": [
    "using StudentContext context = CreateContext();\n",
    "\n",
    "if (context.Database.EnsureCreated())\n",
    "{\n",
    "    Student student = new Student() { StudentId = 1, Jmeno = \"Karl\" };\n",
    "    Subject subject = new Subject() { SubjectId = 1, Name = \"Math\" };\n",
    "\n",
    "    student.Subjects = [subject];\n",
    "    \n",
    "    context.Add(student);\n",
    "\n",
    "    int count = context.SaveChanges();\n",
    "}"
   ]
  },
  {
   "cell_type": "markdown",
   "metadata": {},
   "source": [
    "### Many-to-many with class for join entity\n",
    "\n",
    "U varianty [many-to-many with class for join entity](https://learn.microsoft.com/en-us/ef/core/modeling/relationships/many-to-many#many-to-many-with-class-for-join-entity) si přímo nadefinujeme propojovací třídu `StudentSubject` a označíme ji pomocí Fluent API. Výhodou je, že můžeme snadněji zadávat její hodnoty.\n",
    "\n",
    "Budeme mít tedy následující třídy, kdy proti předchozímu příkladu přibyla třída `StudentSubject`."
   ]
  },
  {
   "cell_type": "code",
   "execution_count": null,
   "metadata": {},
   "outputs": [],
   "source": [
    "class Student\n",
    "{\n",
    "    public int StudentId { get; set; }\n",
    "    public required string Jmeno { get; set; }\n",
    "    public List<Subject>? Subjects { get; set; }\n",
    "}\n",
    "\n",
    "class Subject\n",
    "{\n",
    "    public int SubjectId { get; set; }\n",
    "    public required string Name { get; set; }\n",
    "    public List<Student>? Students { get; set; }\n",
    "}\n",
    "\n",
    "class StudentSubject\n",
    "{\n",
    "    public int StudentId { get; set; }\n",
    "    public int SubjectId { get; set; }\n",
    "}"
   ]
  },
  {
   "cell_type": "markdown",
   "metadata": {},
   "source": [
    "DbContext potom bude vypadat následovně. Propojovací join entita je definována metodou `UsingEntity<StudentSubject>()`."
   ]
  },
  {
   "cell_type": "code",
   "execution_count": null,
   "metadata": {},
   "outputs": [],
   "source": [
    "class StudentContext : DbContext\n",
    "{\n",
    "    public DbSet<Student> Studenti { get; set; }\n",
    "    public DbSet<Subject> Subjects { get; set; }\n",
    "\n",
    "    public StudentContext(DbContextOptions<StudentContext> options) : base(options)\n",
    "    {\n",
    "        \n",
    "    }\n",
    "\n",
    "    protected override void OnModelCreating(ModelBuilder modelBuilder)\n",
    "    {\n",
    "        modelBuilder.Entity<Student>()\n",
    "            .HasMany(student => student.Subjects)\n",
    "            .WithMany(skupina => skupina.Students)\n",
    "            .UsingEntity<StudentSubject>();\n",
    "    }\n",
    "}"
   ]
  },
  {
   "cell_type": "markdown",
   "metadata": {},
   "source": [
    "Použití je potom následující:"
   ]
  },
  {
   "cell_type": "code",
   "execution_count": null,
   "metadata": {},
   "outputs": [],
   "source": [
    "using StudentContext context = CreateContext();\n",
    "\n",
    "if (context.Database.EnsureCreated())\n",
    "{\n",
    "    Student student = new Student() { StudentId = 1, Jmeno = \"Karl\" };\n",
    "    Subject subject = new Subject() { SubjectId = 1, Name = \"Math\" };\n",
    "    StudentSubject studentSubject = new StudentSubject() { StudentId = 1, SubjectId = 1 };                    \n",
    "    \n",
    "    context.Add(student);\n",
    "    context.Add(subject);\n",
    "    context.Add(studentSubject);\n",
    "\n",
    "    int count = context.SaveChanges();\n",
    "}"
   ]
  }
 ],
 "metadata": {
  "kernelspec": {
   "display_name": ".NET (C#)",
   "language": "C#",
   "name": ".net-csharp"
  },
  "polyglot_notebook": {
   "kernelInfo": {
    "defaultKernelName": "csharp",
    "items": [
     {
      "aliases": [],
      "languageName": "csharp",
      "name": "csharp"
     }
    ]
   }
  }
 },
 "nbformat": 4,
 "nbformat_minor": 2
}
