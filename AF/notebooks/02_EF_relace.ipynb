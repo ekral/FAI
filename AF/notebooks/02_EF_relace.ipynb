{
 "cells": [
  {
   "cell_type": "markdown",
   "metadata": {},
   "source": [
    "# 02 Relace v entity frameworku\n",
    "\n",
    "**autor: Erik Král ekral@utb.cz**\n",
    "\n",
    "---\n",
    "\n",
    "V tomto materiálu probereme relace one to many (1 : n), one to one (1 : 1),  a many to many (n : m).\n",
    "\n",
    "U relací v Entity Frameworku rozlišujeme:\n",
    "\n",
    "- **Cizí klíč** který slouží pro definici relace a ukládá se do databáze.\n",
    "- **Navigační property** a to buď jako referenci nebo kolekci referencí, která slouží především pro procházení objektů v paměti."
   ]
  },
  {
   "cell_type": "markdown",
   "metadata": {},
   "source": [
    "## Relace one to many\n",
    "\n",
    "V následujícím příkladu budeme mít studenty a studijní skupiny a budeme předpokládat, že student může být zapsaný jen v jedné studijní skupině. \n",
    "\n",
    "Student obsahuje:\n",
    "- cizí klíč `SkupinaId` a \n",
    "- navigační property `Skupina`. \n",
    "\n",
    "Třída `Skupina` potom obsahuje:\n",
    "- collection navigační property `Studenti`.\n",
    "\n",
    "Jako alternativu pro konstruktor použijeme klíčové slovo `required`. Všimněte si, že navigační property `Skupina` i `Studenti` jsou **nullable**, jejich hodnota tedy může být null."
   ]
  },
  {
   "cell_type": "code",
   "execution_count": null,
   "metadata": {
    "dotnet_interactive": {
     "language": "csharp"
    },
    "polyglot_notebook": {
     "kernelName": "csharp"
    }
   },
   "outputs": [],
   "source": [
    "public class Student\n",
    "{\n",
    "    public int StudentId { get; set; } \n",
    "    public required string Jmeno { get; set; }\n",
    "    public required string Prijmeni { get; set; }\n",
    "    public int SkupinaId { get; set; } // Cizí klíč\n",
    "    public Skupina? Skupina { get; set; } // Navigation Property\n",
    "}\n",
    "\n",
    "public class Skupina\n",
    "{\n",
    "    public int SkupinaId { get; set; }\n",
    "    public required string Nazev { get; set; } \n",
    "    public ICollection<Student>? Studenti { get; set; } // Collection Navigation Property\n",
    "}"
   ]
  },
  {
   "cell_type": "markdown",
   "metadata": {},
   "source": [
    "Dále vytvoříme DbContext. Pokud chceme používat konkrétní databázi s Entity Frameworkem, tak musím do projektu přidat **database provider** pro tuto databázi. Database provider je knihovna distribuovaná jako nuget balíček. \n",
    "\n",
    "Například nuget balíček [Microsoft.EntityFrameworkCore.Sqlite](https://www.nuget.org/packages/microsoft.entityframeworkcore.sqlite) přidá do projektu podporu pro EF providera pro databází Sqlite."
   ]
  },
  {
   "cell_type": "code",
   "execution_count": null,
   "metadata": {},
   "outputs": [],
   "source": [
    "#r \"nuget: Microsoft.EntityFrameworkCore.Sqlite\""
   ]
  },
  {
   "cell_type": "code",
   "execution_count": null,
   "metadata": {},
   "outputs": [],
   "source": [
    "public class StudentContext(DbContextOptions<StudentContext> options) : DbContext(options)\n",
    "{\n",
    "    public DbSet<Student> Studenti { get; set; }\n",
    "    public DbSet<Skupina> Skupiny { get; set; }\n",
    "}"
   ]
  },
  {
   "cell_type": "markdown",
   "metadata": {},
   "source": [
    "Vše se nakonfiguruje pomocí jmenných konvencí.\n",
    "\n",
    "V tomto případě to tedy není nutné, ale pro větší názornost si ukažeme jak bychom nakonfigurovali relace pomocí fluent API:"
   ]
  },
  {
   "cell_type": "code",
   "execution_count": null,
   "metadata": {},
   "outputs": [],
   "source": [
    "protected override void OnModelCreating(ModelBuilder modelBuilder)\n",
    "{\n",
    "    modelBuilder.Entity<Student>()\n",
    "                .HasOne(s => s.Skupina)\n",
    "                .WithMany(sk => sk.Studenti)\n",
    "                .HasForeignKey(s => s.SkupinaId);\n",
    "}"
   ]
  },
  {
   "cell_type": "markdown",
   "metadata": {},
   "source": [
    "### Nový řádek databáze\n",
    "\n",
    "V následujících příkladech probereme vytvoření řádku s relacemi a načtení dat pomocí dvou ruzných způsobů. Aby byl kód přehlednější, tak si nadefinujeme pomocnou metodu pro vytváření DbContextu:"
   ]
  },
  {
   "cell_type": "code",
   "execution_count": null,
   "metadata": {},
   "outputs": [],
   "source": [
    "static StudentContext CreateContext()\n",
    "{\n",
    "    StudentContext context = new(new DbContextOptionsBuilder<StudentContext>()\n",
    "                                            .UseSqlite(\"Data Source=studenti.db\")\n",
    "                                            .Options);\n",
    "    return context;\n",
    "}"
   ]
  },
  {
   "cell_type": "markdown",
   "metadata": {},
   "source": [
    "V následujícím kódu vytvoříme jednu skupinu, do které přidáme dva studenty. Všimněte si, že zadáváme rovnou hodnoty primárních klíčů. Důležité z hlediska relací je, že zadáváme hodnotu cizího klíče `SkupinaId`. Hodnoty navigačních propert nezadáváme."
   ]
  },
  {
   "cell_type": "code",
   "execution_count": null,
   "metadata": {},
   "outputs": [],
   "source": [
    "using StudentContext context = CreateContext();\n",
    "\n",
    "Skupina skupina = new Skupina() { SkupinaId = 1, Nazev = \"SWI1\" };\n",
    "Student student1 = new Student() { StudentId = 1, SkupinaId = 1, Jmeno = \"Jiri\", Prijmeni = \"Pokorny\" };\n",
    "Student student2 = new Student() { StudentId = 2, SkupinaId = 1, Jmeno = \"Alena\", Prijmeni = \"Dulikova\" };\n",
    "\n",
    "context.Skupiny.Add(skupina);\n",
    "context.Studenti.AddRange(student1, student2);\n",
    "\n",
    "context.SaveChanges();"
   ]
  },
  {
   "cell_type": "markdown",
   "metadata": {},
   "source": [
    "### Načtení dat\n",
    "\n",
    "Pokud načítáme data z databáze, tak ve výchozím nastavení se navigation property nenačítají.\n",
    "\n",
    "Pokud bychom tedy načetli skupinu následujícím způsobem, tak by navigation property `skupina.Studenti` byla `null`:"
   ]
  },
  {
   "cell_type": "code",
   "execution_count": null,
   "metadata": {},
   "outputs": [],
   "source": [
    "var skupiny = context.Skupiny;\n",
    "\n",
    "foreach(Skupina skupina in skupiny)\n",
    "{\n",
    "    // skupina.Studenti bude null\n",
    "}"
   ]
  },
  {
   "cell_type": "markdown",
   "metadata": {},
   "source": [
    "Máme [tři možnosti](https://learn.microsoft.com/en-us/ef/core/querying/related-data/) jak navigační property načíst:"
   ]
  },
  {
   "cell_type": "markdown",
   "metadata": {},
   "source": [
    "#### 1. Eager loading\n",
    "\n",
    "Pomocí metody `Include` v dotazu říkáme, která navigační property se má načíst.\n",
    "\n",
    "V následujícm příkladu použijeme metodu `Include` tak by se načetli všichni studenti pro každou skupinu."
   ]
  },
  {
   "cell_type": "code",
   "execution_count": null,
   "metadata": {},
   "outputs": [],
   "source": [
    "var skupinySeStudenty = context.Skupiny.Include(skupina => skupina.Studenti);\n",
    "\n",
    "foreach (Skupina skupina in skupiny)\n",
    "{\n",
    "    Console.WriteLine($\"Skupina {skupina.SkupinaId}: {skupina.Nazev}\");\n",
    "\n",
    "    if (skupina.Studenti is not null)\n",
    "    {\n",
    "        foreach (Student student in skupina.Studenti)\n",
    "        {\n",
    "            Console.WriteLine($\"Student {student.StudentId}: {student.Jmeno} {student.Prijmeni}\");\n",
    "        }\n",
    "    }\n",
    "}"
   ]
  },
  {
   "cell_type": "markdown",
   "metadata": {},
   "source": [
    "Pokud chceme načíst navigation property pro includovanou property, tak můžeme použít metodu [ThenInclude](https://learn.microsoft.com/en-us/ef/core/querying/related-data/eager#including-multiple-levels). Entity framework dále podporuje [filtrování entit](https://learn.microsoft.com/en-us/ef/core/querying/related-data/eager#filtered-include), která načítáme v metodě `Include`. Dále můžeme nakonfigurovat context s pomocí [AutoInclude](https://learn.microsoft.com/en-us/ef/core/querying/related-data/eager#model-configuration-for-auto-including-navigations) tak, aby se navigační property načítaly automaticky.\n",
    "\n",
    "Je potředa si ale uvědomit, že Eager loading může mít **negativní vliv** na výkon. Kdy objem načtených dat při každém dalším vnoření může růst exponenciálně. "
   ]
  },
  {
   "cell_type": "markdown",
   "metadata": {},
   "source": [
    "#### 2. Explicit Loading\n",
    "\n",
    "U [Explicit Loading](https://learn.microsoft.com/en-us/ef/core/querying/related-data/explicit#explicit-loading) najprve provedeme dotaz a teprvé potom dodatečně načteme související navigation property. Použijeme metody `DbContext.Entry(...)` API, konkrétně metodu `Collection` jak je ukázáno v následujícím příkladu, kdy navigation property `skupina.Studenti` je kolekce."
   ]
  },
  {
   "cell_type": "code",
   "execution_count": null,
   "metadata": {},
   "outputs": [
    {
     "ename": "Error",
     "evalue": "(1,1): error CS0246: The type or namespace name 'Skupina' could not be found (are you missing a using directive or an assembly reference?)\r\n(1,19): error CS0103: The name 'context' does not exist in the current context\r\n(8,1): error CS0103: The name 'context' does not exist in the current context\r\n(12,14): error CS0246: The type or namespace name 'Student' could not be found (are you missing a using directive or an assembly reference?)",
     "output_type": "error",
     "traceback": [
      "(1,1): error CS0246: The type or namespace name 'Skupina' could not be found (are you missing a using directive or an assembly reference?)\r\n",
      "(1,19): error CS0103: The name 'context' does not exist in the current context\r\n",
      "(8,1): error CS0103: The name 'context' does not exist in the current context\r\n",
      "(12,14): error CS0246: The type or namespace name 'Student' could not be found (are you missing a using directive or an assembly reference?)"
     ]
    }
   ],
   "source": [
    "Skupina skupina = context.Skupiny.Single(s => s.SkupinaId == 1);\n",
    "\n",
    "if (skupina.Studenti is null)\n",
    "{\n",
    "    Console.WriteLine(\"Studenti jsou zatím null\");\n",
    "}\n",
    "\n",
    "context.Entry(skupina).Collection(skupina => skupina.Studenti).Load();\n",
    "\n",
    "if (skupina.Studenti is not null)\n",
    "{\n",
    "    foreach (Student student in skupina.Studenti)\n",
    "    {\n",
    "        Console.WriteLine($\"Student {student.StudentId}: {student.Jmeno} {student.Prijmeni}\");\n",
    "    }\n",
    "}"
   ]
  },
  {
   "cell_type": "markdown",
   "metadata": {},
   "source": [
    "Dále můžeme použit metodu `Reference` pro navigation property, které není kolekce., Například navigation property `Student.Skupina` není kolekce, ale reference na jednu skupinu."
   ]
  },
  {
   "cell_type": "code",
   "execution_count": null,
   "metadata": {},
   "outputs": [],
   "source": [
    "Student student = context.Studenti.Single(student => student.StudentId == 1);\n",
    "\n",
    "if(student.Skupina is null)\n",
    "{\n",
    "    Console.WriteLine(\"Skupina je zatím null.\");\n",
    "}\n",
    "\n",
    "context.Entry(student).Reference(student => student.Skupina).Load();\n",
    "\n",
    "if (student.Skupina is not null)\n",
    "{\n",
    "    Console.WriteLine($\"Skupina {student.Skupina.SkupinaId}: {student.Skupina.Nazev}\");\n",
    "}"
   ]
  }
 ],
 "metadata": {
  "kernelspec": {
   "display_name": ".NET (C#)",
   "language": "C#",
   "name": ".net-csharp"
  },
  "polyglot_notebook": {
   "kernelInfo": {
    "defaultKernelName": "csharp",
    "items": [
     {
      "aliases": [],
      "languageName": "csharp",
      "name": "csharp"
     }
    ]
   }
  }
 },
 "nbformat": 4,
 "nbformat_minor": 2
}
