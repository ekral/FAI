{
 "cells": [
  {
   "cell_type": "markdown",
   "metadata": {},
   "source": [
    "# Použití ADO.NET"
   ]
  },
  {
   "cell_type": "markdown",
   "metadata": {},
   "source": [
    "Následující příklady používají provider *Microsoft.Data.Sqlite* pro souborovou databázi *Sqlite*, návod na instalaci najdete například v dokumentaci Microsoftu [Microsoft.Data.Sqlite overview](https://learn.microsoft.com/en-us/dotnet/standard/data/sqlite/?tabs=netcore-cli)."
   ]
  },
  {
   "cell_type": "markdown",
   "metadata": {},
   "source": [
    "Nejprve si nainstalujeme potřebný nuget balíček."
   ]
  },
  {
   "cell_type": "code",
   "execution_count": 2,
   "metadata": {
    "dotnet_interactive": {
     "language": "csharp"
    },
    "polyglot_notebook": {
     "kernelName": "csharp"
    },
    "vscode": {
     "languageId": "polyglot-notebook"
    }
   },
   "outputs": [
    {
     "data": {
      "text/html": [
       "<div><div></div><div></div><div><strong>Installed Packages</strong><ul><li><span>Microsoft.Data.Sqlite, 8.0.0</span></li></ul></div></div>"
      ]
     },
     "metadata": {},
     "output_type": "display_data"
    }
   ],
   "source": [
    "#r \"nuget:Microsoft.Data.Sqlite\"\n",
    "\n",
    "using Microsoft.Data.Sqlite;\n"
   ]
  },
  {
   "cell_type": "markdown",
   "metadata": {},
   "source": [
    "V následujícíh příkladech budeme používat třídu Model:"
   ]
  },
  {
   "cell_type": "code",
   "execution_count": 4,
   "metadata": {
    "dotnet_interactive": {
     "language": "csharp"
    },
    "polyglot_notebook": {
     "kernelName": "csharp"
    },
    "vscode": {
     "languageId": "polyglot-notebook"
    }
   },
   "outputs": [],
   "source": [
    "public class Model\n",
    "{\n",
    "    public int Id { get; set; }\n",
    "    public double LoanAmount { get; set; }\n",
    "    public double InterestRate { get; set; }\n",
    "    public int LoanTerm { get; set; }\n",
    "}"
   ]
  },
  {
   "cell_type": "markdown",
   "metadata": {},
   "source": [
    "## Vytvoření databáze\n",
    "\n",
    "### Připojení k databází\n",
    "\n",
    "K databázi se připojíme pomocí následujícího príkazu. Pokud Sqlite databáze již neexistuje, tak se vytvoří nová. Třída *SqliteConnection* implemetuje rozhraní *IDispose* a proto se nám připojení uzavře automaticky s využití Dispose patternu a nemusíme jej už ručně uzavírat.\n",
    "\n",
    "### SqlCommand\n",
    "\n",
    "Poté si můžeme vytvořit proměnnou command pro provádění SQL příkazů.\n",
    "\n",
    "### ExecuteNonQuery\n",
    "\n",
    "Pro vytvoření databáze, vložení nového řádku, nebo aktualizaci hodnot sloupců, tedy příkazy, které neprovádějí dotaz a nevrací hodnoty používáme metodu ```command.ExecuteNonQueryAsync()```. "
   ]
  },
  {
   "cell_type": "code",
   "execution_count": 3,
   "metadata": {
    "dotnet_interactive": {
     "language": "csharp"
    },
    "polyglot_notebook": {
     "kernelName": "csharp"
    },
    "vscode": {
     "languageId": "polyglot-notebook"
    }
   },
   "outputs": [],
   "source": [
    "await using(SqliteConnection connection = new SqliteConnection(\"Data Source=databaze.db\"))\n",
    "{\n",
    "    await connection.OpenAsync();\n",
    "\n",
    "    await using(SqliteCommand command = connection.CreateCommand())\n",
    "    {\n",
    "        command.CommandText =\n",
    "        @\"\n",
    "            CREATE TABLE Mortgage \n",
    "            (\n",
    "                Id INTEGER PRIMARY KEY, \n",
    "                LoanAmount DOUBLE,\n",
    "                InterestRate DOUBLE,\n",
    "                LoanTerm INTEGER\n",
    "            )\n",
    "        \";\n",
    "\n",
    "        await command.ExecuteNonQueryAsync();\n",
    "    }\n",
    "}\n",
    "\n"
   ]
  },
  {
   "cell_type": "markdown",
   "metadata": {},
   "source": [
    "# Command parameters\n",
    "\n",
    "A v následujícím příkladu do vytvořené databáze vložíme nový řádek. Proměnná ```count``` bude obsahovat počet změněných řádků tabulky.\n",
    "\n",
    "Použijeme parametry Commandu. Parametry můžeme zadávat buď s generickými SQL typy nebo s konkrétními typy pro danou databází s metodou, kterou poskytuje konkrétní provider. \n",
    "\n",
    "Použití parametrů proskytuje kontrolu typu a validaci zadané hodnoty parametru a pomáhá zabránit útoku technikou SQL Injection. Použití parametrů nezpomaluje provedení dotazu, spíše nám může pomoct dotaz lépe sestavit dle konkrétního typu a díky tomu by provedení dotazu by mohlo být v některých případech efektivnější."
   ]
  },
  {
   "cell_type": "code",
   "execution_count": 4,
   "metadata": {
    "dotnet_interactive": {
     "language": "csharp"
    },
    "polyglot_notebook": {
     "kernelName": "csharp"
    },
    "vscode": {
     "languageId": "polyglot-notebook"
    }
   },
   "outputs": [],
   "source": [
    "await using(SqliteConnection connection = new SqliteConnection(\"Data Source=databaze.db\"))\n",
    "{\n",
    "    await connection.OpenAsync();\n",
    "\n",
    "    await using(SqliteCommand command = connection.CreateCommand())\n",
    "    {\n",
    "\n",
    "        Model model = new Model()\n",
    "        {\n",
    "            LoanAmount = 6000000.0,\n",
    "            InterestRate = 6.0,\n",
    "            LoanTerm = 30\n",
    "        };\n",
    "\n",
    "        command.CommandText =\n",
    "        @$\"\n",
    "            INSERT INTO Mortgage (LoanAmount, InterestRate, LoanTerm)\n",
    "            VALUES (@LoanAmount, @InterestRate, @LoanTerm)\n",
    "        \";\n",
    "\n",
    "        command.Parameters.Add(\"@LoanAmount\", SqliteType.Real).Value = model.LoanAmount;\n",
    "        command.Parameters.Add(\"@InterestRate\", SqliteType.Real).Value = model.InterestRate;\n",
    "        command.Parameters.Add(\"@LoanTerm\", SqliteType.Integer).Value = model.LoanTerm;\n",
    "\n",
    "        int count = await command.ExecuteNonQueryAsync();\n",
    "    }\n",
    "}\n"
   ]
  },
  {
   "cell_type": "markdown",
   "metadata": {},
   "source": [
    "## ExecuteReader\n",
    "\n",
    "Pokud chceme provést dotaz na data tabulky a načíst jednotlivé řádky a sloupce, tak použijeme reader jak je uvedeno v následujícím kódu. "
   ]
  },
  {
   "cell_type": "code",
   "execution_count": 5,
   "metadata": {
    "dotnet_interactive": {
     "language": "csharp"
    },
    "polyglot_notebook": {
     "kernelName": "csharp"
    },
    "vscode": {
     "languageId": "polyglot-notebook"
    }
   },
   "outputs": [
    {
     "data": {
      "text/html": [
       "<table><thead><tr><th><i>index</i></th><th>value</th></tr></thead><tbody><tr><td>0</td><td><details class=\"dni-treeview\"><summary><span class=\"dni-code-hint\"><code>Submission#3+Model</code></span></summary><div><table><thead><tr></tr></thead><tbody><tr><td>Id</td><td><div class=\"dni-plaintext\"><pre>1</pre></div></td></tr><tr><td>LoanAmount</td><td><div class=\"dni-plaintext\"><pre>6000000</pre></div></td></tr><tr><td>InterestRate</td><td><div class=\"dni-plaintext\"><pre>6</pre></div></td></tr><tr><td>LoanTerm</td><td><div class=\"dni-plaintext\"><pre>30</pre></div></td></tr></tbody></table></div></details></td></tr></tbody></table><style>\r\n",
       ".dni-code-hint {\r\n",
       "    font-style: italic;\r\n",
       "    overflow: hidden;\r\n",
       "    white-space: nowrap;\r\n",
       "}\r\n",
       ".dni-treeview {\r\n",
       "    white-space: nowrap;\r\n",
       "}\r\n",
       ".dni-treeview td {\r\n",
       "    vertical-align: top;\r\n",
       "    text-align: start;\r\n",
       "}\r\n",
       "details.dni-treeview {\r\n",
       "    padding-left: 1em;\r\n",
       "}\r\n",
       "table td {\r\n",
       "    text-align: start;\r\n",
       "}\r\n",
       "table tr { \r\n",
       "    vertical-align: top; \r\n",
       "    margin: 0em 0px;\r\n",
       "}\r\n",
       "table tr td pre \r\n",
       "{ \r\n",
       "    vertical-align: top !important; \r\n",
       "    margin: 0em 0px !important;\r\n",
       "} \r\n",
       "table th {\r\n",
       "    text-align: start;\r\n",
       "}\r\n",
       "</style>"
      ]
     },
     "metadata": {},
     "output_type": "display_data"
    }
   ],
   "source": [
    "List<Model> models = new List<Model>();\n",
    "\n",
    "await using(SqliteConnection connection = new SqliteConnection(\"Data Source=databaze.db\"))\n",
    "{\n",
    "    await connection.OpenAsync();\n",
    "\n",
    "    await using(SqliteCommand command = connection.CreateCommand())\n",
    "    {\n",
    "        command.CommandText = \"SELECT Id, LoanAmount, InterestRate, LoanTerm FROM Mortgage\";\n",
    "\n",
    "        await using(SqliteDataReader reader = await command.ExecuteReaderAsync())\n",
    "        {\n",
    "            if(reader.HasRows)\n",
    "            {\n",
    "                while(await reader.ReadAsync())\n",
    "                {\n",
    "                    Model model = new Model();\n",
    "\n",
    "                    model.Id = reader.GetInt32(reader.GetOrdinal(\"Id\"));\n",
    "                    model.LoanAmount = reader.GetDouble(reader.GetOrdinal(\"LoanAmount\"));\n",
    "                    model.InterestRate = reader.GetDouble(reader.GetOrdinal(\"InterestRate\"));\n",
    "                    model.LoanTerm = reader.GetInt32(reader.GetOrdinal(\"LoanTerm\"));\n",
    "\n",
    "                    models.Add(model);\n",
    "                }\n",
    "            }\n",
    "        }\n",
    "    }\n",
    "}\n",
    "\n",
    "models\n",
    "\n"
   ]
  },
  {
   "cell_type": "markdown",
   "metadata": {},
   "source": [
    "## ExecuteScalar\n",
    "\n",
    "Prokud provedeme SQL dotaz, který vrátí pouze jednu hodnotu, například ```SELECT AVG(LoanAmount) FROM Mortgage```, tak můžeme použít ```reader``` podobně jako v minulém příkladu a načíst první sloupec prvního řádku nebo můžeme použít metodu ```command.ExecuteScalarAsync()```."
   ]
  },
  {
   "cell_type": "code",
   "execution_count": 6,
   "metadata": {
    "dotnet_interactive": {
     "language": "csharp"
    },
    "polyglot_notebook": {
     "kernelName": "csharp"
    },
    "vscode": {
     "languageId": "polyglot-notebook"
    }
   },
   "outputs": [
    {
     "data": {
      "text/html": [
       "<div class=\"dni-plaintext\"><pre>6000000</pre></div><style>\r\n",
       ".dni-code-hint {\r\n",
       "    font-style: italic;\r\n",
       "    overflow: hidden;\r\n",
       "    white-space: nowrap;\r\n",
       "}\r\n",
       ".dni-treeview {\r\n",
       "    white-space: nowrap;\r\n",
       "}\r\n",
       ".dni-treeview td {\r\n",
       "    vertical-align: top;\r\n",
       "    text-align: start;\r\n",
       "}\r\n",
       "details.dni-treeview {\r\n",
       "    padding-left: 1em;\r\n",
       "}\r\n",
       "table td {\r\n",
       "    text-align: start;\r\n",
       "}\r\n",
       "table tr { \r\n",
       "    vertical-align: top; \r\n",
       "    margin: 0em 0px;\r\n",
       "}\r\n",
       "table tr td pre \r\n",
       "{ \r\n",
       "    vertical-align: top !important; \r\n",
       "    margin: 0em 0px !important;\r\n",
       "} \r\n",
       "table th {\r\n",
       "    text-align: start;\r\n",
       "}\r\n",
       "</style>"
      ]
     },
     "metadata": {},
     "output_type": "display_data"
    }
   ],
   "source": [
    "await using(SqliteConnection connection = new SqliteConnection(\"Data Source=databaze.db\"))\n",
    "{\n",
    "    await connection.OpenAsync();\n",
    "\n",
    "    await using(SqliteCommand command = connection.CreateCommand())\n",
    "    {\n",
    "        List<Model> models = new List<Model>();\n",
    "\n",
    "        command.CommandText =\n",
    "        @$\"\n",
    "            SELECT AVG(LoanAmount) FROM Mortgage\n",
    "        \";\n",
    "\n",
    "        object? result = await command.ExecuteScalarAsync();\n",
    "\n",
    "        if(result is double average)\n",
    "        {\n",
    "            return average;\n",
    "        }\n",
    "\n",
    "    }\n",
    "}\n",
    "\n"
   ]
  }
 ],
 "metadata": {
  "language_info": {
   "name": "csharp"
  }
 },
 "nbformat": 4,
 "nbformat_minor": 2
}
