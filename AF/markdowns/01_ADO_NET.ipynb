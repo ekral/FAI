{
 "cells": [
  {
   "cell_type": "markdown",
   "metadata": {},
   "source": [
    "\n",
    "# 01 Práce s databází pomocí ADO.NET\n",
    "\n",
    "**autor: Erik Král ekral@utb.cz**\n",
    "\n",
    "---\n",
    "\n",
    "V tomto materiálu si probereme práci s databází pomocí knihovny ADO.NET. Všechny probírané příkazy mají i asynchronní verzi, ale pro zjednodušení kód uvádíme synchronní příkazy."
   ]
  },
  {
   "cell_type": "markdown",
   "metadata": {},
   "source": [
    "Nejprve si nainstalujeme nuget balíček [Microsoft.Data.Sqlite](https://www.nuget.org/packages/Microsoft.Data.SQLite/) představující database providera pro souborovou databázi *Sqlite*. Tento balíček používají následující příklady."
   ]
  },
  {
   "cell_type": "code",
   "execution_count": null,
   "metadata": {
    "dotnet_interactive": {
     "language": "csharp"
    },
    "polyglot_notebook": {
     "kernelName": "csharp"
    }
   },
   "outputs": [
    {
     "data": {
      "text/html": [
       "<div><div></div><div></div><div><strong>Installed Packages</strong><ul><li><span>Microsoft.Data.Sqlite, 9.0.2</span></li></ul></div></div>"
      ]
     },
     "metadata": {},
     "output_type": "display_data"
    }
   ],
   "source": [
    "#r \"nuget: Microsoft.Data.Sqlite\""
   ]
  },
  {
   "cell_type": "markdown",
   "metadata": {},
   "source": [
    "## Připojení k databázi\n",
    "\n",
    "Dále si vytvoříme connection string tak, aby se soubor s databází ukládal do dokumentů uživatele. "
   ]
  },
  {
   "cell_type": "code",
   "execution_count": null,
   "metadata": {
    "dotnet_interactive": {
     "language": "csharp"
    },
    "polyglot_notebook": {
     "kernelName": "csharp"
    }
   },
   "outputs": [
    {
     "name": "stdout",
     "output_type": "stream",
     "text": [
      "Data Source=C:\\Users\\erik\\Documents\\skola.db\r\n"
     ]
    }
   ],
   "source": [
    "using Microsoft.Data.Sqlite;\n",
    "using System.IO;\n",
    "\n",
    "var folder = Environment.SpecialFolder.MyDocuments;\n",
    "string folderPath = Environment.GetFolderPath(folder);\n",
    "string filePath = Path.Join(folderPath, \"skola.db\");\n",
    "\n",
    "SqliteConnectionStringBuilder csb = new SqliteConnectionStringBuilder\n",
    "{\n",
    "    DataSource = filePath\n",
    "};\n",
    "\n",
    "string connectionString = csb.ConnectionString;\n",
    "\n",
    "Console.WriteLine(connectionString);\n"
   ]
  },
  {
   "cell_type": "markdown",
   "metadata": {},
   "source": [
    "K databázi se připojíme pomocí následujícího příkazu. Pokud Sqlite databáze ještě neexistuje, tak se vytvoří nová (nový soubor). Třída *SqliteConnection* implemetuje rozhraní *IDispose* a proto se nám připojení uzavře automaticky s využití Dispose patternu a nemusíme jej už ručně uzavírat. "
   ]
  },
  {
   "cell_type": "code",
   "execution_count": null,
   "metadata": {
    "dotnet_interactive": {
     "language": "csharp"
    },
    "polyglot_notebook": {
     "kernelName": "csharp"
    }
   },
   "outputs": [
    {
     "name": "stdout",
     "output_type": "stream",
     "text": [
      "Open\n",
      "Closed\n"
     ]
    }
   ],
   "source": [
    "SqliteConnection connection;\n",
    "\n",
    "using(connection = new SqliteConnection(connectionString))\n",
    "{\n",
    "    connection.Open();\n",
    "\n",
    "    Console.WriteLine(connection.State);\n",
    "}\n",
    "\n",
    "Console.WriteLine(connection.State);"
   ]
  },
  {
   "cell_type": "markdown",
   "metadata": {},
   "source": [
    "## Zadávání dat pomocí ExecuteNonQuery\n",
    "\n",
    "Pro **vytvoření tabulky**, **vložení nového řádku**, nebo **aktualizaci řádku**, tedy příkazy, které neprovádějí dotaz a nevrací hodnoty používáme metodu ```command.ExecuteNonQuery()```. \n",
    "\n",
    "### Vytvoření tabulky\n",
    "\n",
    "V následujícím kódu vytvoříme novou tabulku `Studenti`, která má sloupce `StudentId`, `Jmeno` a dosažené `Kredity`:"
   ]
  },
  {
   "cell_type": "code",
   "execution_count": null,
   "metadata": {
    "dotnet_interactive": {
     "language": "csharp"
    },
    "polyglot_notebook": {
     "kernelName": "csharp"
    }
   },
   "outputs": [
    {
     "name": "stdout",
     "output_type": "stream",
     "text": [
      "0\r\n"
     ]
    }
   ],
   "source": [
    "using(SqliteConnection connection = new SqliteConnection(connectionString))\n",
    "{\n",
    "    connection.Open();\n",
    "\n",
    "    using(SqliteCommand command = connection.CreateCommand())\n",
    "    {\n",
    "        command.CommandText =\n",
    "        @\"\n",
    "            CREATE TABLE Studenti \n",
    "            (\n",
    "                StudentId INTEGER PRIMARY KEY, \n",
    "                Jmeno DOUBLE VARCHAR(50),\n",
    "                Kredity INTEGER\n",
    "            )\n",
    "        \";\n",
    "\n",
    "        int count = command.ExecuteNonQuery();\n",
    "\n",
    "        Console.WriteLine($\"Počet změněných řádků: {count}\");\n",
    "    }\n",
    "}"
   ]
  },
  {
   "cell_type": "markdown",
   "metadata": {},
   "source": [
    "### Vložení nového řádku\n",
    "\n",
    "Nyní do vytvořené tabulky vložíme nový řádek. V příkladu používáme parametry commandu `@Jmeno` a `@Kredity`. Hodnoty parametrů můžeme zadávat buď s generickými SQL typy. Nebo s konkrétními typy pro danou databází s metodou, kterou poskytuje konkrétní provider tak jak je ukázáno v příkladu. \n",
    "\n",
    "Použití parametrů proskytuje kontrolu typu a validaci zadané hodnoty parametru a pomáhá zabránit útoku technikou SQL Injection. Použití parametrů nezpomaluje provedení dotazu, spíše nám může pomoct dotaz lépe sestavit dle konkrétního typu a díky tomu by provedení dotazu by mohlo být v některých případech efektivnější."
   ]
  },
  {
   "cell_type": "code",
   "execution_count": null,
   "metadata": {},
   "outputs": [
    {
     "name": "stdout",
     "output_type": "stream",
     "text": [
      "Počet změněných řádků: 1\r\n"
     ]
    }
   ],
   "source": [
    "using(SqliteConnection connection = new SqliteConnection(connectionString))\n",
    "{\n",
    "    connection.Open();\n",
    "\n",
    "    using(SqliteCommand command = connection.CreateCommand())\n",
    "    {\n",
    "        command.CommandText =\n",
    "        @\"\n",
    "            INSERT INTO Studenti (Jmeno, Kredity)\n",
    "            VALUES (@Jmeno, @Kredity)\n",
    "        \";\n",
    "\n",
    "        command.Parameters.Add(\"@Jmeno\", SqliteType.Text).Value = \"Karel\";\n",
    "        command.Parameters.Add(\"@Kredity\", SqliteType.Integer).Value = 40;\n",
    "\n",
    "        int count = command.ExecuteNonQuery();\n",
    "\n",
    "        Console.WriteLine($\"Počet změněných řádků: {count}\");\n",
    "    }\n",
    "}"
   ]
  },
  {
   "cell_type": "markdown",
   "metadata": {},
   "source": [
    "### Změna řádku\n",
    "\n",
    "Hodnoty řádku změníme obdobým způsobem jako přidávání nových. Konkrétně změníme počet kreditů studenta se `StudentId` 1."
   ]
  },
  {
   "cell_type": "code",
   "execution_count": null,
   "metadata": {},
   "outputs": [
    {
     "name": "stdout",
     "output_type": "stream",
     "text": [
      "Počet změněných řádků: 1\r\n"
     ]
    }
   ],
   "source": [
    "using(SqliteConnection connection = new SqliteConnection(connectionString))\n",
    "{\n",
    "    connection.Open();\n",
    "\n",
    "    using(SqliteCommand command = connection.CreateCommand())\n",
    "    {\n",
    "        command.CommandText =\n",
    "        @\"\n",
    "            UPDATE Studenti\n",
    "            SET Kredity = @Kredity \n",
    "            WHERE StudentId = @StudentId\n",
    "        \";\n",
    "\n",
    "        command.Parameters.Add(\"@Kredity\", SqliteType.Integer).Value = 64;\n",
    "        command.Parameters.Add(\"@StudentId\", SqliteType.Integer).Value = 1;\n",
    "\n",
    "        int count = command.ExecuteNonQuery();\n",
    "\n",
    "        Console.WriteLine($\"Počet změněných řádků: {count}\");\n",
    "    }\n",
    "}"
   ]
  },
  {
   "cell_type": "markdown",
   "metadata": {},
   "source": [
    "## Načtení dat pomocí ExecuteReader\n",
    "\n",
    "Pokud chceme provést dotaz na data tabulky a načíst jednotlivé řádky a sloupce, tak použijeme `reader` jak je uvedeno v následujícím kódu. "
   ]
  },
  {
   "cell_type": "code",
   "execution_count": null,
   "metadata": {},
   "outputs": [
    {
     "name": "stdout",
     "output_type": "stream",
     "text": [
      "1: Karel 64\n",
      "2: Karel 40\n"
     ]
    }
   ],
   "source": [
    "using(SqliteConnection connection = new SqliteConnection(connectionString))\n",
    "{\n",
    "    connection.Open();\n",
    "\n",
    "    using(SqliteCommand command = connection.CreateCommand())\n",
    "    {\n",
    "        command.CommandText = \"SELECT StudentId, Jmeno, Kredity FROM Studenti\";\n",
    "\n",
    "        SqliteDataReader reader = command.ExecuteReader();\n",
    "\n",
    "        if(reader.HasRows)\n",
    "        {\n",
    "            while(reader.Read())\n",
    "            {\n",
    "            \n",
    "                int studentId = reader.GetInt32(reader.GetOrdinal(\"StudentId\"));\n",
    "                string jmeno = reader.GetString(reader.GetOrdinal(\"Jmeno\"));\n",
    "                int kredity = reader.GetInt32(reader.GetOrdinal(\"Kredity\"));\n",
    "\n",
    "                Console.WriteLine($\"{studentId}: {jmeno} {kredity}\");\n",
    "            }\n",
    "        }\n",
    "    }\n",
    "}"
   ]
  },
  {
   "cell_type": "markdown",
   "metadata": {},
   "source": [
    "## Načtení jedné hodnoty pomocí ExecuteScalar\n",
    "\n",
    "Prokud provedeme SQL dotaz, který vrátí pouze jednu hodnotu, například ```SELECT AVG(Kredit) FROM Studenti```, tak můžeme použít ```reader``` podobně jako v minulém příkladu a načíst první sloupec prvního řádku. A nebo můžeme použít metodu ```command.ExecuteScalar()``` tak jak je ukázané v následujícím příkladu."
   ]
  },
  {
   "cell_type": "code",
   "execution_count": null,
   "metadata": {},
   "outputs": [
    {
     "data": {
      "text/html": [
       "<div class=\"dni-plaintext\"><pre>52</pre></div><style>\r\n",
       ".dni-code-hint {\r\n",
       "    font-style: italic;\r\n",
       "    overflow: hidden;\r\n",
       "    white-space: nowrap;\r\n",
       "}\r\n",
       ".dni-treeview {\r\n",
       "    white-space: nowrap;\r\n",
       "}\r\n",
       ".dni-treeview td {\r\n",
       "    vertical-align: top;\r\n",
       "    text-align: start;\r\n",
       "}\r\n",
       "details.dni-treeview {\r\n",
       "    padding-left: 1em;\r\n",
       "}\r\n",
       "table td {\r\n",
       "    text-align: start;\r\n",
       "}\r\n",
       "table tr { \r\n",
       "    vertical-align: top; \r\n",
       "    margin: 0em 0px;\r\n",
       "}\r\n",
       "table tr td pre \r\n",
       "{ \r\n",
       "    vertical-align: top !important; \r\n",
       "    margin: 0em 0px !important;\r\n",
       "} \r\n",
       "table th {\r\n",
       "    text-align: start;\r\n",
       "}\r\n",
       "</style>"
      ]
     },
     "metadata": {},
     "output_type": "display_data"
    }
   ],
   "source": [
    "using(SqliteConnection connection = new SqliteConnection(connectionString))\n",
    "{\n",
    "    connection.Open();\n",
    "\n",
    "    using(SqliteCommand command = connection.CreateCommand())\n",
    "    {\n",
    "        command.CommandText =@$\"SELECT AVG(Kredity) FROM Studenti\";\n",
    "\n",
    "        object? result = command.ExecuteScalar();\n",
    "\n",
    "        if(result is double average)\n",
    "        {\n",
    "            return average;\n",
    "        }\n",
    "    }\n",
    "}"
   ]
  },
  {
   "cell_type": "markdown",
   "metadata": {},
   "source": [
    "TODO: přidat tabulku Skupiny, cizi klic a relace, ukázka join"
   ]
  }
 ],
 "metadata": {
  "kernelspec": {
   "display_name": ".NET (C#)",
   "language": "C#",
   "name": ".net-csharp"
  },
  "polyglot_notebook": {
   "kernelInfo": {
    "defaultKernelName": "csharp",
    "items": [
     {
      "aliases": [],
      "languageName": "csharp",
      "name": "csharp"
     }
    ]
   }
  }
 },
 "nbformat": 4,
 "nbformat_minor": 2
}
