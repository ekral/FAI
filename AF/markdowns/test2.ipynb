{
 "cells": [
  {
   "cell_type": "markdown",
   "metadata": {},
   "source": [
    "neco"
   ]
  },
  {
   "cell_type": "code",
   "execution_count": null,
   "metadata": {
    "vscode": {
     "languageId": "polyglot-notebook"
    }
   },
   "outputs": [],
   "source": [
    "class NakupniCentrum\n",
    "{\n",
    "    public string Nazev { get; set; }\n",
    "    public Action<string> poplach;\n",
    "\n",
    "    public NakupniCentrum(string nazev)\n",
    "    {\n",
    "        Nazev = nazev;\n",
    "    }\n",
    "\n",
    "    public void Pozar()\n",
    "    {\n",
    "        poplach?.Invoke(Nazev);\n",
    "    }\n",
    "}"
   ]
  }
 ],
 "metadata": {
  "kernelspec": {
   "display_name": ".NET (C#)",
   "language": "C#",
   "name": ".net-csharp"
  },
  "language_info": {
   "name": "python"
  },
  "polyglot_notebook": {
   "kernelInfo": {
    "defaultKernelName": "csharp",
    "items": [
     {
      "aliases": [],
      "name": "csharp"
     }
    ]
   }
  }
 },
 "nbformat": 4,
 "nbformat_minor": 2
}
