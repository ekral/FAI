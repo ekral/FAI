{
 "cells": [
  {
   "cell_type": "code",
   "execution_count": null,
   "metadata": {
    "dotnet_interactive": {
     "language": "csharp"
    },
    "polyglot_notebook": {
     "kernelName": "csharp"
    },
    "vscode": {
     "languageId": "polyglot-notebook"
    }
   },
   "outputs": [],
   "source": [
    "#r \"nuget:Microsoft.EntityFrameworkCore.Sqlite\""
   ]
  },
  {
   "cell_type": "code",
   "execution_count": null,
   "metadata": {
    "dotnet_interactive": {
     "language": "csharp"
    },
    "polyglot_notebook": {
     "kernelName": "csharp"
    },
    "vscode": {
     "languageId": "polyglot-notebook"
    }
   },
   "outputs": [],
   "source": [
    "using Microsoft.EntityFrameworkCore;\n",
    "\n",
    "class Kniha\n",
    "{\n",
    "    public int KnihaId { get; set;}\n",
    "    public required string Nazev{ get; set;}\n",
    "}\n",
    "\n",
    "class MujContext : DbContext\n",
    "{\n",
    "    public MujContext(DbContextOptions<MujContext> options) : base(options)\n",
    "    {\n",
    "\n",
    "    }\n",
    "\n",
    "    public List<int> Cisla {get; set;}\n",
    "}"
   ]
  },
  {
   "cell_type": "code",
   "execution_count": null,
   "metadata": {
    "dotnet_interactive": {
     "language": "csharp"
    },
    "polyglot_notebook": {
     "kernelName": "csharp"
    },
    "vscode": {
     "languageId": "polyglot-notebook"
    }
   },
   "outputs": [],
   "source": [
    "using System.IO;\n",
    "using Microsoft.Data.Sqlite;\n",
    "\n",
    "var folder = Environment.SpecialFolder.MyDocuments;\n",
    "string folderPath = Environment.GetFolderPath(folder);\n",
    "string filePath = Path.Join(folderPath, \"studenti3.db\");\n",
    "\n",
    "SqliteConnectionStringBuilder csb = new SqliteConnectionStringBuilder\n",
    "{\n",
    "    DataSource = filePath\n",
    "};\n",
    "\n",
    "var options = new DbContextOptionsBuilder<MujContext>().UseSqlite(csb.ConnectionString).Options;\n",
    "\n",
    "using(MujContext context = new MujContext(options))\n",
    "{\n",
    "    context.Database.EnsureDeleted();\n",
    "    context.Database.EnsureCreated();\n",
    "    \n",
    "    context.Add(new Kniha() {KnihaId = 1, Nazev = \"Svejk\"});\n",
    "    context.SaveChanges();\n",
    "}"
   ]
  }
 ],
 "metadata": {
  "kernelspec": {
   "display_name": ".NET (C#)",
   "language": "C#",
   "name": ".net-csharp"
  },
  "language_info": {
   "name": "C#"
  },
  "polyglot_notebook": {
   "kernelInfo": {
    "defaultKernelName": "csharp",
    "items": [
     {
      "aliases": [],
      "name": "csharp"
     }
    ]
   }
  }
 },
 "nbformat": 4,
 "nbformat_minor": 2
}
