{
 "cells": [
  {
   "cell_type": "markdown",
   "metadata": {},
   "source": [
    "# Partial function a Currying\n",
    "---\n",
    "\n",
    "V následujících příkladech si probereme partial function a currying v jazyce C#. \n",
    "\n",
    "Nejprve si nadefinujeme funkci `Format`, která má dva parametry typu `int` a `bool` a vrací řetězec s hodnotami těchto proměnných."
   ]
  },
  {
   "cell_type": "code",
   "execution_count": null,
   "metadata": {
    "dotnet_interactive": {
     "language": "csharp"
    },
    "polyglot_notebook": {
     "kernelName": "csharp"
    }
   },
   "outputs": [],
   "source": [
    "string Format(int a, bool b)\n",
    "{\n",
    "    return $\"a: {a} b: {b}\";\n",
    "}\n",
    "\n",
    "string vysledek = Format(1, true);\n",
    "\n",
    "Console.WriteLine(vysledek);"
   ]
  },
  {
   "cell_type": "markdown",
   "metadata": {},
   "source": [
    "## 1. Partial function application \n",
    "\n",
    "Partial function application znamená, že předáme jednomu parametru argument a vytvoříme novou funkci, která má o jeden parametr méně. Typ `Func<bool, string>` představuje delegáta metody, která má jeden parametr typu `int` a vrací `string`. Návratový typ se uvádí vždy jako poslední."
   ]
  },
  {
   "cell_type": "code",
   "execution_count": null,
   "metadata": {
    "dotnet_interactive": {
     "language": "csharp"
    },
    "polyglot_notebook": {
     "kernelName": "csharp"
    }
   },
   "outputs": [],
   "source": [
    "Func<bool, string> funkce = b => Format(1, b);\n",
    "\n",
    "string vysledek = funkce(true);\n",
    "\n",
    "Console.WriteLine(vysledek);"
   ]
  },
  {
   "cell_type": "markdown",
   "metadata": {},
   "source": [
    "## 2. Currying\n",
    "\n",
    "Currying představuje převod funkce s více argumenty na sérii volání funkcí s jedním argumentem. Jazyk C# nemá narozdíl například od funkcionálního programovacího jazyka Haskel zabudovanou podporu pro currying. Jazyk Haskel má přímo příkazy *curry* a *uncurry* a všechny funkce v Haskelu jsou považovány za curried, což znamená že funkce v Haskelu získávají jen jeden argument ([Haskell Currying](https://wiki.haskell.org/Currying)). Jazyk Haskel byl pojmenován po matematikovi se jménem [Haskell Curry](https://en.wikipedia.org/wiki/Haskell_Curry), odtud tedy pochází i název této technky. Následující příklad v jazyce C# je určený jen pro pochopení základního principu techniky.\n",
    "\n",
    "V následujícím příkladu funkce `formatCurried` vrací typ `Func<int, Func<bool, string>>`, což znamená delegát, který má jako parametr typ `int` a jako návratový typ má znovu delegáta, tentokrát s parametrem `bool` a návratovým typem `string`."
   ]
  },
  {
   "cell_type": "code",
   "execution_count": null,
   "metadata": {
    "dotnet_interactive": {
     "language": "csharp"
    },
    "polyglot_notebook": {
     "kernelName": "csharp"
    }
   },
   "outputs": [],
   "source": [
    "Func<int, Func<bool, string>> formatCurried = a => b => Format(a, b);\n",
    "\n",
    "string vysledek = formatCurried(1)(true);\n",
    "\n",
    "Console.WriteLine(vysledek);"
   ]
  },
  {
   "cell_type": "markdown",
   "metadata": {},
   "source": [
    "Pro lepší pochopení výrazu `a => b => Format(a, b)` můžeme místo vnějšího lambda výrazu použít metodu."
   ]
  },
  {
   "cell_type": "code",
   "execution_count": null,
   "metadata": {
    "dotnet_interactive": {
     "language": "csharp"
    },
    "polyglot_notebook": {
     "kernelName": "csharp"
    }
   },
   "outputs": [],
   "source": [
    "Func<bool, string> FormatCurried(int a)\n",
    "{\n",
    "    return b => Format(a, b);\n",
    "}\n",
    "\n",
    "string vysledek = FormatCurried(1)(true);\n",
    "\n",
    "Console.WriteLine(vysledek);"
   ]
  },
  {
   "cell_type": "markdown",
   "metadata": {},
   "source": [
    "Předchozí zřetěžené volání funkcí `formatCurried(1)(true)` si můžeme rozepsat na více kroků. Získáme tedy opět funkci typu `Func<bool, string>`. Toho můžeme využít například pro inicializaci parametrů, protože získáme funkci, které zachytí předaný argument a ten je potom spojen s danou funkcí ([Capture of outer variables and variable scope in lambda expressions](https://learn.microsoft.com/en-us/dotnet/csharp/language-reference/operators/lambda-expressions#capture-of-outer-variables-and-variable-scope-in-lambda-expressions)).\n",
    "\n",
    "Currying tedy představuje techniku umožnující mimo jiné jednoduše použít Partial function application. Jde o určitou formu inicializace stavu."
   ]
  },
  {
   "cell_type": "code",
   "execution_count": null,
   "metadata": {
    "dotnet_interactive": {
     "language": "csharp"
    },
    "polyglot_notebook": {
     "kernelName": "csharp"
    }
   },
   "outputs": [],
   "source": [
    "Func<bool, string> funkce = formatCurried(1);\n",
    "\n",
    "string vysledek = funkce(true);\n",
    "\n",
    "Console.WriteLine(vysledek);"
   ]
  }
 ],
 "metadata": {
  "polyglot_notebook": {
   "kernelInfo": {
    "defaultKernelName": "csharp",
    "items": [
     {
      "aliases": [],
      "name": ".NET"
     },
     {
      "aliases": [
       "C#",
       "c#"
      ],
      "languageName": "C#",
      "name": "csharp"
     },
     {
      "aliases": [],
      "languageName": "Mermaid",
      "name": "mermaid"
     },
     {
      "aliases": [
       "frontend"
      ],
      "name": "vscode"
     }
    ]
   }
  },
  "kernelInfo": {
   "defaultKernelName": null,
   "items": [
    {
     "name": "csharp",
     "languageName": "C#",
     "aliases": [
      "c#",
      "cs"
     ]
    },
    {
     "name": "fsharp",
     "languageName": "F#",
     "aliases": [
      "f#",
      "fs"
     ]
    },
    {
     "name": "pwsh",
     "languageName": "PowerShell",
     "aliases": [
      "powershell"
     ]
    },
    {
     "name": "javascript",
     "languageName": "JavaScript",
     "aliases": [
      "js"
     ]
    },
    {
     "name": "html",
     "languageName": "HTML"
    },
    {
     "name": "sql",
     "languageName": "SQL"
    },
    {
     "name": "kql",
     "languageName": "KQL"
    },
    {
     "name": "mermaid",
     "languageName": "Mermaid"
    },
    {
     "name": "http",
     "languageName": "HTTP"
    },
    {
     "name": "value"
    }
   ]
  }
 },
 "nbformat": 4,
 "nbformat_minor": 5
}