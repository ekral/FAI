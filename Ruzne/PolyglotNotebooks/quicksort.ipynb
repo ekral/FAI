{
 "cells": [
  {
   "cell_type": "markdown",
   "metadata": {},
   "source": [
    "https://stackoverflow.com/questions/76886724/hoares-partition-original-method\n",
    "\n",
    "https://www.geeksforgeeks.org/hoares-vs-lomuto-partition-scheme-quicksort/?ref=header_search\n",
    "\n",
    "https://www.youtube.com/watch?v=xew1z47P6OM\n",
    "\n",
    "https://www.youtube.com/watch?v=NsY5UI0RZfE\n",
    "\n",
    "https://algoritmy.net/article/10/Quicksort#google_vignette\n",
    "\n",
    "https://www.youtube.com/watch?v=aXXWXz5rF64"
   ]
  },
  {
   "cell_type": "code",
   "execution_count": 4,
   "metadata": {
    "dotnet_interactive": {
     "language": "csharp"
    },
    "polyglot_notebook": {
     "kernelName": "csharp"
    },
    "vscode": {
     "languageId": "polyglot-notebook"
    }
   },
   "outputs": [
    {
     "name": "stdout",
     "output_type": "stream",
     "text": [
      "Sorted array: \r\n"
     ]
    },
    {
     "data": {
      "text/html": [
       "<div class=\"dni-plaintext\"><pre>[ 1, 5, 7, 8, 9, 10 ]</pre></div><style>\r\n",
       ".dni-code-hint {\r\n",
       "    font-style: italic;\r\n",
       "    overflow: hidden;\r\n",
       "    white-space: nowrap;\r\n",
       "}\r\n",
       ".dni-treeview {\r\n",
       "    white-space: nowrap;\r\n",
       "}\r\n",
       ".dni-treeview td {\r\n",
       "    vertical-align: top;\r\n",
       "    text-align: start;\r\n",
       "}\r\n",
       "details.dni-treeview {\r\n",
       "    padding-left: 1em;\r\n",
       "}\r\n",
       "table td {\r\n",
       "    text-align: start;\r\n",
       "}\r\n",
       "table tr { \r\n",
       "    vertical-align: top; \r\n",
       "    margin: 0em 0px;\r\n",
       "}\r\n",
       "table tr td pre \r\n",
       "{ \r\n",
       "    vertical-align: top !important; \r\n",
       "    margin: 0em 0px !important;\r\n",
       "} \r\n",
       "table th {\r\n",
       "    text-align: start;\r\n",
       "}\r\n",
       "</style>"
      ]
     },
     "metadata": {},
     "output_type": "display_data"
    }
   ],
   "source": [
    "using System;\n",
    "\n",
    "void Swap(int[] array, int position1, int position2)\n",
    "{\n",
    "    int temp = array[position1];\n",
    "    array[position1] = array[position2];\n",
    "    array[position2] = temp;\n",
    "}\n",
    "\n",
    "int partition(int[] arr, int low, int high)\n",
    "{\n",
    "    int pivot = arr[high];\n",
    "\n",
    "    int i = (low - 1);\n",
    "\n",
    "    for (int j = low; j <= high - 1; j++) \n",
    "    {\n",
    "       \n",
    "        if (arr[j] <= pivot) \n",
    "        {\n",
    "            i++;\n",
    "            \n",
    "            Swap(arr, i, j);\n",
    "        }\n",
    "    }\n",
    "\n",
    "    Swap(arr, i + 1, high);\n",
    "    \n",
    "    return (i + 1);\n",
    "}\n",
    "\n",
    "\n",
    "public void quickSort(int[] arr, int low, int high)\n",
    "{\n",
    "    if (low < high) \n",
    "    {\n",
    "\n",
    "        int pi = partition(arr, low, high);\n",
    "\n",
    "        quickSort(arr, low, pi - 1);\n",
    "        quickSort(arr, pi + 1, high);\n",
    "    }\n",
    "}\n",
    "\n",
    "int[] arr = { 10, 7, 8, 9, 1, 5 };\n",
    "int n = arr.Length;\n",
    "quickSort(arr, 0, n - 1);\n",
    "Console.WriteLine(\"Sorted array: \");\n",
    "\n",
    "arr"
   ]
  },
  {
   "cell_type": "code",
   "execution_count": 1,
   "metadata": {
    "dotnet_interactive": {
     "language": "csharp"
    },
    "polyglot_notebook": {
     "kernelName": "csharp"
    },
    "vscode": {
     "languageId": "polyglot-notebook"
    }
   },
   "outputs": [
    {
     "name": "stdout",
     "output_type": "stream",
     "text": [
      "ahoj\r\n"
     ]
    }
   ],
   "source": [
    "Console.WriteLine(\"ahoj\");"
   ]
  }
 ],
 "metadata": {
  "kernelspec": {
   "display_name": ".NET (C#)",
   "language": "C#",
   "name": ".net-csharp"
  },
  "language_info": {
   "name": "csharp"
  },
  "polyglot_notebook": {
   "kernelInfo": {
    "defaultKernelName": "csharp",
    "items": [
     {
      "aliases": [],
      "name": "csharp"
     }
    ]
   }
  }
 },
 "nbformat": 4,
 "nbformat_minor": 2
}
