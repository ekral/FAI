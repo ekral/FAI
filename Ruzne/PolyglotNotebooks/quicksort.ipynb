{
 "cells": [
  {
   "cell_type": "code",
   "execution_count": null,
   "metadata": {},
   "outputs": [],
   "source": [
    "https://www.youtube.com/watch?v=xew1z47P6OM\n",
    "\n",
    "https://www.youtube.com/watch?v=NsY5UI0RZfE\n",
    "\n",
    "https://algoritmy.net/article/10/Quicksort#google_vignette"
   ]
  }
 ],
 "metadata": {
  "language_info": {
   "name": "csharp"
  }
 },
 "nbformat": 4,
 "nbformat_minor": 2
}
