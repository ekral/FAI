{
 "cells": [
  {
   "cell_type": "markdown",
   "metadata": {},
   "source": [
    "https://www.geeksforgeeks.org/hoares-vs-lomuto-partition-scheme-quicksort/?ref=header_search\n",
    "\n",
    "https://www.youtube.com/watch?v=xew1z47P6OM\n",
    "\n",
    "https://www.youtube.com/watch?v=NsY5UI0RZfE\n",
    "\n",
    "https://algoritmy.net/article/10/Quicksort#google_vignette\n",
    "\n",
    "https://www.youtube.com/watch?v=aXXWXz5rF64"
   ]
  },
  {
   "cell_type": "code",
   "execution_count": null,
   "metadata": {},
   "outputs": [],
   "source": []
  }
 ],
 "metadata": {
  "language_info": {
   "name": "csharp"
  }
 },
 "nbformat": 4,
 "nbformat_minor": 2
}
