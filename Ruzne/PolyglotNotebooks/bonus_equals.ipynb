{
 "cells": [
  {
   "cell_type": "code",
   "execution_count": 19,
   "metadata": {
    "dotnet_interactive": {
     "language": "csharp"
    },
    "polyglot_notebook": {
     "kernelName": "csharp"
    },
    "vscode": {
     "languageId": "polyglot-notebook"
    }
   },
   "outputs": [
    {
     "name": "stdout",
     "output_type": "stream",
     "text": [
      "True\n",
      "True\n",
      "False\n",
      "True\n",
      "True\n"
     ]
    }
   ],
   "source": [
    "int x = 2;\n",
    "int y = 2;\n",
    "\n",
    "Console.WriteLine(object.Equals(x, y)); // boxing\n",
    "Console.WriteLine(x.Equals(y));\n",
    "Console.WriteLine(object.ReferenceEquals(x, y)); // boxing\n",
    "Console.WriteLine(x == y);\n",
    "Console.WriteLine(EqualityComparer<int>.Default.Equals(x , y));"
   ]
  },
  {
   "cell_type": "code",
   "execution_count": 20,
   "metadata": {
    "dotnet_interactive": {
     "language": "csharp"
    },
    "polyglot_notebook": {
     "kernelName": "csharp"
    },
    "vscode": {
     "languageId": "polyglot-notebook"
    }
   },
   "outputs": [],
   "source": [
    "class Student\n",
    "{\n",
    "    string Jmeno {get;}\n",
    "\n",
    "    public Student(string jmeno)\n",
    "    {\n",
    "        Jmeno = jmeno;\n",
    "    }\n",
    "}"
   ]
  },
  {
   "attachments": {},
   "cell_type": "markdown",
   "metadata": {},
   "source": [
    "Implementace metod nejsou kompletní a jsou zjednodušení kvůli přehlednosti. Ve skutečnosti bychom testovali reference, zda jsou správné typy a neopakovali bychom kód v různých metodách."
   ]
  },
  {
   "cell_type": "code",
   "execution_count": 23,
   "metadata": {
    "dotnet_interactive": {
     "language": "csharp"
    },
    "polyglot_notebook": {
     "kernelName": "csharp"
    },
    "vscode": {
     "languageId": "polyglot-notebook"
    }
   },
   "outputs": [],
   "source": [
    "class Student  : IEquatable<Student>\n",
    "{\n",
    "    public string Jmeno {get;}\n",
    "\n",
    "    public Student(string jmeno)\n",
    "    {\n",
    "        Jmeno = jmeno;\n",
    "    }\n",
    "\n",
    "    public bool Equals(Student otherStudent)\n",
    "    {\n",
    "        Console.Write(\"IEquatable.Equals \");\n",
    "        \n",
    "        return Jmeno == otherStudent.Jmeno;\n",
    "    }\n",
    "\n",
    "    public override bool Equals(object other)\n",
    "    {\n",
    "        Console.Write(\"object.Equals \");\n",
    "        \n",
    "        if(other is not Student otherStudent) return false;\n",
    "\n",
    "        return Jmeno == otherStudent.Jmeno;\n",
    "    }\n",
    "\n",
    "    public static bool operator == (Student student1, Student student2)\n",
    "    {\n",
    "        Console.Write(\"overloaded operator == \");\n",
    "\n",
    "        return student1.Jmeno == student2.Jmeno;\n",
    "    }\n",
    "\n",
    "    public static bool operator != (Student student1, Student student2)\n",
    "    {\n",
    "        Console.Write(\"overloaded operator != \");\n",
    "        \n",
    "        return student1.Jmeno != student2.Jmeno;\n",
    "    }\n",
    "\n",
    "    public override int GetHashCode()\n",
    "    {\n",
    "        return Jmeno.GetHashCode();\n",
    "    }\n",
    "\n",
    "    public override string ToString() => $\"Student: {Jmeno}\";\n",
    "}"
   ]
  },
  {
   "cell_type": "code",
   "execution_count": 13,
   "metadata": {
    "dotnet_interactive": {
     "language": "csharp"
    },
    "polyglot_notebook": {
     "kernelName": "csharp"
    },
    "vscode": {
     "languageId": "polyglot-notebook"
    }
   },
   "outputs": [],
   "source": [
    "record Student(string Jmeno);"
   ]
  },
  {
   "cell_type": "code",
   "execution_count": 4,
   "metadata": {
    "dotnet_interactive": {
     "language": "csharp"
    },
    "polyglot_notebook": {
     "kernelName": "csharp"
    },
    "vscode": {
     "languageId": "polyglot-notebook"
    }
   },
   "outputs": [],
   "source": [
    "Student s1 = new(\"Jiri\");\n",
    "Student s2 = s1;"
   ]
  },
  {
   "cell_type": "code",
   "execution_count": 24,
   "metadata": {
    "dotnet_interactive": {
     "language": "csharp"
    },
    "polyglot_notebook": {
     "kernelName": "csharp"
    },
    "vscode": {
     "languageId": "polyglot-notebook"
    }
   },
   "outputs": [],
   "source": [
    "Student s1 = new(\"Jiri\");\n",
    "Student s2 = new(\"Jiri\");"
   ]
  },
  {
   "cell_type": "code",
   "execution_count": 21,
   "metadata": {
    "dotnet_interactive": {
     "language": "csharp"
    },
    "polyglot_notebook": {
     "kernelName": "csharp"
    },
    "vscode": {
     "languageId": "polyglot-notebook"
    }
   },
   "outputs": [],
   "source": [
    "Student s1 = new(\"Jiri\");\n",
    "Student s2 = new(\"Karel\");"
   ]
  },
  {
   "cell_type": "code",
   "execution_count": 25,
   "metadata": {
    "dotnet_interactive": {
     "language": "csharp"
    },
    "polyglot_notebook": {
     "kernelName": "csharp"
    },
    "vscode": {
     "languageId": "polyglot-notebook"
    }
   },
   "outputs": [
    {
     "name": "stdout",
     "output_type": "stream",
     "text": [
      "object.Equals True\n",
      "IEquatable.Equals True\n",
      "False\n",
      "overloaded operator == True\n",
      "IEquatable.Equals True\n"
     ]
    }
   ],
   "source": [
    "Console.WriteLine(object.Equals(s1, s2)); // boxing\n",
    "Console.WriteLine(s1.Equals(s2)); // call generic Equals\n",
    "Console.WriteLine(object.ReferenceEquals(s1, s2)); // boxing\n",
    "Console.WriteLine(s1 == s2);\n",
    "Console.WriteLine(EqualityComparer<Student>.Default.Equals(s1 , s2));"
   ]
  },
  {
   "cell_type": "code",
   "execution_count": 26,
   "metadata": {
    "dotnet_interactive": {
     "language": "csharp"
    },
    "polyglot_notebook": {
     "kernelName": "csharp"
    },
    "vscode": {
     "languageId": "polyglot-notebook"
    }
   },
   "outputs": [],
   "source": [
    "void GenericMethod<T>(T t1, T t2)\n",
    "{\n",
    "    Console.WriteLine(object.Equals(t1, t2)); // boxing\n",
    "    Console.WriteLine(t1.Equals(t2));  // call object.Equals\n",
    "    Console.WriteLine(object.ReferenceEquals(t1, t2)); // boxing\n",
    "    //Console.WriteLine(t1 == t2); // error, nevíme zda typ T podporuje operátor ==, například struktura nemusí operátor == podporovat\n",
    "    Console.WriteLine(EqualityComparer<T>.Default.Equals(t1 , t2));\n",
    "}"
   ]
  },
  {
   "cell_type": "code",
   "execution_count": 27,
   "metadata": {
    "dotnet_interactive": {
     "language": "csharp"
    },
    "polyglot_notebook": {
     "kernelName": "csharp"
    },
    "vscode": {
     "languageId": "polyglot-notebook"
    }
   },
   "outputs": [
    {
     "name": "stdout",
     "output_type": "stream",
     "text": [
      "object.Equals True\n",
      "object.Equals True\n",
      "False\n",
      "IEquatable.Equals True\n"
     ]
    }
   ],
   "source": [
    "GenericMethod(s1, s2);"
   ]
  },
  {
   "cell_type": "code",
   "execution_count": 15,
   "metadata": {
    "dotnet_interactive": {
     "language": "csharp"
    },
    "polyglot_notebook": {
     "kernelName": "csharp"
    },
    "vscode": {
     "languageId": "polyglot-notebook"
    }
   },
   "outputs": [
    {
     "ename": "Error",
     "evalue": "(12,1): error CS0019: Operátor == nejde použít na operandy typu MojeStruktura a MojeStruktura.",
     "output_type": "error",
     "traceback": [
      "(12,1): error CS0019: Operátor == nejde použít na operandy typu MojeStruktura a MojeStruktura."
     ]
    }
   ],
   "source": [
    "struct MojeStruktura\n",
    "{\n",
    "    public int x;\n",
    "}\n",
    "\n",
    "MojeStruktura ms1;\n",
    "ms1.x = 1;\n",
    "\n",
    "MojeStruktura ms2;\n",
    "ms2.x = 2;\n",
    "\n",
    "ms1 == ms2 // neni platna operace"
   ]
  },
  {
   "cell_type": "code",
   "execution_count": 22,
   "metadata": {
    "dotnet_interactive": {
     "language": "csharp"
    },
    "polyglot_notebook": {
     "kernelName": "csharp"
    },
    "vscode": {
     "languageId": "polyglot-notebook"
    }
   },
   "outputs": [
    {
     "name": "stdout",
     "output_type": "stream",
     "text": [
      "IEquatable.Equals IEquatable.Equals "
     ]
    },
    {
     "data": {
      "text/html": [
       "<table><thead><tr><th><i>index</i></th><th>value</th></tr></thead><tbody><tr><td>0</td><td><details class=\"dni-treeview\"><summary><span class=\"dni-code-hint\"><code>Student: Alena</code></span></summary><div><table><thead><tr></tr></thead><tbody><tr><td>Jmeno</td><td>Alena</td></tr></tbody></table></div></details></td></tr><tr><td>1</td><td><details class=\"dni-treeview\"><summary><span class=\"dni-code-hint\"><code>Student: Petr</code></span></summary><div><table><thead><tr></tr></thead><tbody><tr><td>Jmeno</td><td>Petr</td></tr></tbody></table></div></details></td></tr></tbody></table><style>\r\n",
       ".dni-code-hint {\r\n",
       "    font-style: italic;\r\n",
       "    overflow: hidden;\r\n",
       "    white-space: nowrap;\r\n",
       "}\r\n",
       ".dni-treeview {\r\n",
       "    white-space: nowrap;\r\n",
       "}\r\n",
       ".dni-treeview td {\r\n",
       "    vertical-align: top;\r\n",
       "    text-align: start;\r\n",
       "}\r\n",
       "details.dni-treeview {\r\n",
       "    padding-left: 1em;\r\n",
       "}\r\n",
       "table td {\r\n",
       "    text-align: start;\r\n",
       "}\r\n",
       "table tr { \r\n",
       "    vertical-align: top; \r\n",
       "    margin: 0em 0px;\r\n",
       "}\r\n",
       "table tr td pre \r\n",
       "{ \r\n",
       "    vertical-align: top !important; \r\n",
       "    margin: 0em 0px !important;\r\n",
       "} \r\n",
       "table th {\r\n",
       "    text-align: start;\r\n",
       "}\r\n",
       "</style>"
      ]
     },
     "metadata": {},
     "output_type": "display_data"
    }
   ],
   "source": [
    "var students = new Student[] { new Student(\"Alena\"), new Student(\"Alena\"), new Student(\"Petr\"), new Student(\"Alena\")};\n",
    "\n",
    "students.Distinct()"
   ]
  },
  {
   "cell_type": "code",
   "execution_count": 23,
   "metadata": {
    "dotnet_interactive": {
     "language": "csharp"
    },
    "polyglot_notebook": {
     "kernelName": "csharp"
    },
    "vscode": {
     "languageId": "polyglot-notebook"
    }
   },
   "outputs": [],
   "source": [
    "sealed class StudentEqualityComparer : IEqualityComparer<Student>\n",
    "{\n",
    "    public bool Equals(Student student1, Student student2)\n",
    "    {\n",
    "        Console.Write(\"IEqualityComparer.Equals \");\n",
    "\n",
    "        return student1.Jmeno == student2.Jmeno;\n",
    "    }\n",
    "\n",
    "    public int GetHashCode(Student student)\n",
    "    {\n",
    "        Console.Write(\"GetHashCode \");\n",
    "\n",
    "        return student.Jmeno.GetHashCode();\n",
    "    }\n",
    "}"
   ]
  },
  {
   "cell_type": "code",
   "execution_count": 24,
   "metadata": {
    "dotnet_interactive": {
     "language": "csharp"
    },
    "polyglot_notebook": {
     "kernelName": "csharp"
    },
    "vscode": {
     "languageId": "polyglot-notebook"
    }
   },
   "outputs": [],
   "source": [
    "StudentEqualityComparer comparer = new StudentEqualityComparer();"
   ]
  },
  {
   "cell_type": "code",
   "execution_count": 25,
   "metadata": {
    "dotnet_interactive": {
     "language": "csharp"
    },
    "polyglot_notebook": {
     "kernelName": "csharp"
    },
    "vscode": {
     "languageId": "polyglot-notebook"
    }
   },
   "outputs": [
    {
     "name": "stdout",
     "output_type": "stream",
     "text": [
      "GetHashCode GetHashCode IEqualityComparer.Equals GetHashCode GetHashCode IEqualityComparer.Equals "
     ]
    },
    {
     "data": {
      "text/html": [
       "<table><thead><tr><th><i>index</i></th><th>value</th></tr></thead><tbody><tr><td>0</td><td><details class=\"dni-treeview\"><summary><span class=\"dni-code-hint\"><code>Student: Alena</code></span></summary><div><table><thead><tr></tr></thead><tbody><tr><td>Jmeno</td><td>Alena</td></tr></tbody></table></div></details></td></tr><tr><td>1</td><td><details class=\"dni-treeview\"><summary><span class=\"dni-code-hint\"><code>Student: Petr</code></span></summary><div><table><thead><tr></tr></thead><tbody><tr><td>Jmeno</td><td>Petr</td></tr></tbody></table></div></details></td></tr></tbody></table><style>\r\n",
       ".dni-code-hint {\r\n",
       "    font-style: italic;\r\n",
       "    overflow: hidden;\r\n",
       "    white-space: nowrap;\r\n",
       "}\r\n",
       ".dni-treeview {\r\n",
       "    white-space: nowrap;\r\n",
       "}\r\n",
       ".dni-treeview td {\r\n",
       "    vertical-align: top;\r\n",
       "    text-align: start;\r\n",
       "}\r\n",
       "details.dni-treeview {\r\n",
       "    padding-left: 1em;\r\n",
       "}\r\n",
       "table td {\r\n",
       "    text-align: start;\r\n",
       "}\r\n",
       "table tr { \r\n",
       "    vertical-align: top; \r\n",
       "    margin: 0em 0px;\r\n",
       "}\r\n",
       "table tr td pre \r\n",
       "{ \r\n",
       "    vertical-align: top !important; \r\n",
       "    margin: 0em 0px !important;\r\n",
       "} \r\n",
       "table th {\r\n",
       "    text-align: start;\r\n",
       "}\r\n",
       "</style>"
      ]
     },
     "metadata": {},
     "output_type": "display_data"
    }
   ],
   "source": [
    "students.Distinct(comparer)"
   ]
  },
  {
   "cell_type": "code",
   "execution_count": 26,
   "metadata": {
    "dotnet_interactive": {
     "language": "csharp"
    },
    "polyglot_notebook": {
     "kernelName": "csharp"
    },
    "vscode": {
     "languageId": "polyglot-notebook"
    }
   },
   "outputs": [
    {
     "name": "stdout",
     "output_type": "stream",
     "text": [
      "GetHashCode GetHashCode "
     ]
    },
    {
     "data": {
      "text/html": [
       "<table><thead><tr><th><i>key</i></th><th>value</th></tr></thead><tbody><tr><td><details class=\"dni-treeview\"><summary><span class=\"dni-code-hint\"><code>Student: Alena</code></span></summary><div><table><thead><tr></tr></thead><tbody><tr><td>Jmeno</td><td>Alena</td></tr></tbody></table></div></details></td><td>Alena</td></tr><tr><td><details class=\"dni-treeview\"><summary><span class=\"dni-code-hint\"><code>Student: Petr</code></span></summary><div><table><thead><tr></tr></thead><tbody><tr><td>Jmeno</td><td>Petr</td></tr></tbody></table></div></details></td><td>Petr</td></tr></tbody></table><style>\r\n",
       ".dni-code-hint {\r\n",
       "    font-style: italic;\r\n",
       "    overflow: hidden;\r\n",
       "    white-space: nowrap;\r\n",
       "}\r\n",
       ".dni-treeview {\r\n",
       "    white-space: nowrap;\r\n",
       "}\r\n",
       ".dni-treeview td {\r\n",
       "    vertical-align: top;\r\n",
       "    text-align: start;\r\n",
       "}\r\n",
       "details.dni-treeview {\r\n",
       "    padding-left: 1em;\r\n",
       "}\r\n",
       "table td {\r\n",
       "    text-align: start;\r\n",
       "}\r\n",
       "table tr { \r\n",
       "    vertical-align: top; \r\n",
       "    margin: 0em 0px;\r\n",
       "}\r\n",
       "table tr td pre \r\n",
       "{ \r\n",
       "    vertical-align: top !important; \r\n",
       "    margin: 0em 0px !important;\r\n",
       "} \r\n",
       "table th {\r\n",
       "    text-align: start;\r\n",
       "}\r\n",
       "</style>"
      ]
     },
     "metadata": {},
     "output_type": "display_data"
    }
   ],
   "source": [
    "var dictionary = new Dictionary<Student, string>(comparer);\n",
    "dictionary.Add(new Student(\"Alena\"), \"Alena\");\n",
    "dictionary.Add(new Student(\"Petr\"), \"Petr\");\n",
    "\n",
    "dictionary"
   ]
  }
 ],
 "metadata": {
  "language_info": {
   "name": "csharp"
  },
  "orig_nbformat": 4
 },
 "nbformat": 4,
 "nbformat_minor": 2
}
