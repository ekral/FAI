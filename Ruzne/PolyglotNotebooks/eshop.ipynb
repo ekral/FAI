{
 "cells": [
  {
   "cell_type": "code",
   "execution_count": 1,
   "metadata": {
    "dotnet_interactive": {
     "language": "csharp"
    },
    "polyglot_notebook": {
     "kernelName": "csharp"
    },
    "vscode": {
     "languageId": "polyglot-notebook"
    }
   },
   "outputs": [
    {
     "data": {
      "text/html": [
       "<div><div></div><div></div><div><strong>Installed Packages</strong><ul><li><span>Microsoft.DotNet.Interactive.AspNetCore, 1.0.0-beta.23205.1</span></li><li><span>Microsoft.EntityFrameworkCore.InMemory, 7.0.5</span></li><li><span>Microsoft.Extensions.DependencyInjection, 7.0.0</span></li></ul></div></div>"
      ]
     },
     "metadata": {},
     "output_type": "display_data"
    },
    {
     "data": {
      "text/plain": [
       "Loading extensions from `C:\\Users\\erik\\.nuget\\packages\\microsoft.dotnet.interactive.aspnetcore\\1.0.0-beta.23205.1\\interactive-extensions\\dotnet\\Microsoft.DotNet.Interactive.AspNetCore.dll`"
      ]
     },
     "metadata": {},
     "output_type": "display_data"
    }
   ],
   "source": [
    "#r \"nuget:Microsoft.DotNet.Interactive.AspNetCore,*-*\"\n",
    "#r \"nuget: Microsoft.Extensions.DependencyInjection\"\n",
    "#r \"nuget: Microsoft.EntityFrameworkCore.InMemory\"\n",
    "#r \"Microsoft.AspNetCore.Http.dll\""
   ]
  },
  {
   "cell_type": "code",
   "execution_count": 2,
   "metadata": {
    "dotnet_interactive": {
     "language": "csharp"
    },
    "polyglot_notebook": {
     "kernelName": "csharp"
    },
    "vscode": {
     "languageId": "polyglot-notebook"
    }
   },
   "outputs": [
    {
     "name": "stdout",
     "output_type": "stream",
     "text": [
      "info: Microsoft.Hosting.Lifetime[14]\n",
      "      Now listening on: http://localhost:5000\n",
      "info: Microsoft.Hosting.Lifetime[0]\n",
      "      Application started. Press Ctrl+C to shut down.\n",
      "info: Microsoft.Hosting.Lifetime[0]\n",
      "      Hosting environment: Production\n",
      "info: Microsoft.Hosting.Lifetime[0]\n",
      "      Content root path: c:\\Users\\erik\\source\\repos\\FAI\\OP\\Notebooks\n"
     ]
    }
   ],
   "source": [
    "#!aspnet\n",
    "\n",
    "var builder = WebApplication.CreateBuilder();\n",
    "var app = builder.Build();\n",
    "\n",
    "int x = 0;\n",
    "app.MapGet(\"/\", () => $\"Hello World {++x}\");\n",
    "\n",
    "await app.StartAsync();"
   ]
  },
  {
   "cell_type": "code",
   "execution_count": 3,
   "metadata": {
    "dotnet_interactive": {
     "language": "csharp"
    },
    "polyglot_notebook": {
     "kernelName": "csharp"
    },
    "vscode": {
     "languageId": "polyglot-notebook"
    }
   },
   "outputs": [],
   "source": [
    "await app.StopAsync();"
   ]
  },
  {
   "cell_type": "code",
   "execution_count": 4,
   "metadata": {
    "dotnet_interactive": {
     "language": "csharp"
    },
    "polyglot_notebook": {
     "kernelName": "csharp"
    },
    "vscode": {
     "languageId": "polyglot-notebook"
    }
   },
   "outputs": [],
   "source": [
    "using Microsoft.EntityFrameworkCore;\n",
    "\n",
    "public class Todo\n",
    "{\n",
    "    public int Id { get; set; }\n",
    "    public string? Name { get; set; }\n",
    "    public bool IsComplete { get; set; }\n",
    "}\n",
    "\n",
    "class TodoDb : DbContext\n",
    "{\n",
    "    public TodoDb(DbContextOptions<TodoDb> options) : base(options) \n",
    "    { }\n",
    "\n",
    "    public DbSet<Todo> Todos => Set<Todo>();\n",
    "}"
   ]
  },
  {
   "cell_type": "code",
   "execution_count": 5,
   "metadata": {
    "dotnet_interactive": {
     "language": "csharp"
    },
    "polyglot_notebook": {
     "kernelName": "csharp"
    },
    "vscode": {
     "languageId": "polyglot-notebook"
    }
   },
   "outputs": [
    {
     "ename": "Error",
     "evalue": "(16,12): error CS0234: Typ nebo název oboru názvů Results neexistuje v oboru názvů Microsoft.AspNetCore.Http. (Nechybí odkaz na sestavení?)",
     "output_type": "error",
     "traceback": [
      "(16,12): error CS0234: Typ nebo název oboru názvů Results neexistuje v oboru názvů Microsoft.AspNetCore.Http. (Nechybí odkaz na sestavení?)"
     ]
    }
   ],
   "source": [
    "#!aspnet\n",
    "\n",
    "using Microsoft.Extensions.DependencyInjection;\n",
    "using Microsoft.EntityFrameworkCore;\n",
    "using Microsoft.AspNetCore.Http;\n",
    "\n",
    "var builder = WebApplication.CreateBuilder(new string[0]);\n",
    "builder.Services.AddDbContext<TodoDb>(opt => opt.UseInMemoryDatabase(\"TodoList\"));\n",
    "var app = builder.Build();\n",
    "\n",
    "app.MapGet(\"/todoitems\", async (TodoDb db) => await db.Todos.ToListAsync());\n",
    "\n",
    "app.MapPost(\"/todoitems\", async (Todo todo, TodoDb db) =>\n",
    "{\n",
    "    db.Todos.Add(todo);\n",
    "    await db.SaveChangesAsync();\n",
    "\n",
    "    return Microsoft.AspNetCore.Http.Results.Created($\"/todoitems/{todo.Id}\", todo);\n",
    "});"
   ]
  }
 ],
 "metadata": {
  "language_info": {
   "name": "csharp"
  },
  "orig_nbformat": 4
 },
 "nbformat": 4,
 "nbformat_minor": 2
}
