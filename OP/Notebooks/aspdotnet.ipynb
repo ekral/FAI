{
 "cells": [
  {
   "cell_type": "code",
   "execution_count": 1,
   "id": "66b2e9fd",
   "metadata": {
    "dotnet_interactive": {
     "language": "csharp"
    },
    "polyglot_notebook": {
     "kernelName": "csharp"
    }
   },
   "outputs": [
    {
     "data": {
      "text/html": [
       "<div><div></div><div></div><div><strong>Installed Packages</strong><ul><li><span>Microsoft.DotNet.Interactive.AspNetCore, 1.0.0-beta.23165.2</span></li><li><span>Microsoft.Extensions.DependencyInjection, 7.0.0</span></li></ul></div></div>"
      ]
     },
     "metadata": {},
     "output_type": "display_data"
    },
    {
     "data": {
      "text/plain": [
       "Loading extensions from `C:\\Users\\erik\\.nuget\\packages\\microsoft.dotnet.interactive.aspnetcore\\1.0.0-beta.23165.2\\interactive-extensions\\dotnet\\Microsoft.DotNet.Interactive.AspNetCore.dll`"
      ]
     },
     "metadata": {},
     "output_type": "display_data"
    }
   ],
   "source": [
    "#r \"nuget:Microsoft.DotNet.Interactive.AspNetCore,*-*\"\n",
    "#r \"nuget: Microsoft.Extensions.DependencyInjection, 7.0.0\"\n",
    "\n",
    "using Microsoft.Extensions.DependencyInjection;"
   ]
  },
  {
   "cell_type": "code",
   "execution_count": null,
   "metadata": {
    "dotnet_interactive": {
     "language": "csharp"
    },
    "polyglot_notebook": {
     "kernelName": "csharp"
    }
   },
   "outputs": [],
   "source": [
    "#!aspnet\n",
    "\n",
    "var builder = WebApplication.CreateBuilder();\n",
    "var app = builder.Build();\n",
    "\n",
    "int x = 0;\n",
    "app.MapGet(\"/\", () => $\"Hello World {++x}\");\n",
    "\n",
    "await app.StartAsync();"
   ]
  },
  {
   "cell_type": "code",
   "execution_count": 5,
   "metadata": {
    "dotnet_interactive": {
     "language": "csharp"
    },
    "polyglot_notebook": {
     "kernelName": "csharp"
    }
   },
   "outputs": [
    {
     "name": "stdout",
     "output_type": "stream",
     "text": [
      "Hello World 1 data: 1,2,3\r\n"
     ]
    }
   ],
   "source": [
    "using(HttpClient client = new HttpClient())\n",
    "{\n",
    "    string retezec = await client.GetStringAsync(\"http://127.0.0.1:5000/\");\n",
    "    Console.WriteLine(retezec);\n",
    "}"
   ]
  },
  {
   "cell_type": "code",
   "execution_count": 6,
   "metadata": {
    "dotnet_interactive": {
     "language": "csharp"
    },
    "polyglot_notebook": {
     "kernelName": "csharp"
    }
   },
   "outputs": [],
   "source": [
    "await app.StopAsync();"
   ]
  },
  {
   "cell_type": "code",
   "execution_count": 3,
   "id": "c1bb3869",
   "metadata": {},
   "outputs": [],
   "source": [
    "interface IData\n",
    "{\n",
    "    IEnumerable<int> GetNumbers();\n",
    "}\n",
    "\n",
    "class Data : IData\n",
    "{\n",
    "    public IEnumerable<int> GetNumbers()\n",
    "    {\n",
    "        return new List<int>() {1,2,3};\n",
    "    }\n",
    "}"
   ]
  },
  {
   "cell_type": "code",
   "execution_count": 4,
   "id": "1a2d4c68",
   "metadata": {},
   "outputs": [
    {
     "name": "stdout",
     "output_type": "stream",
     "text": [
      "info: Microsoft.Hosting.Lifetime[14]\n",
      "      Now listening on: http://localhost:5000\n",
      "info: Microsoft.Hosting.Lifetime[0]\n",
      "      Application started. Press Ctrl+C to shut down.\n",
      "info: Microsoft.Hosting.Lifetime[0]\n",
      "      Hosting environment: Production\n",
      "info: Microsoft.Hosting.Lifetime[0]\n",
      "      Content root path: c:\\Users\\erik\\source\\repos\\FAI\\OP\\Notebooks\n"
     ]
    }
   ],
   "source": [
    "#!aspnet\n",
    "\n",
    "var builder = WebApplication.CreateBuilder();\n",
    "builder.Services.AddSingleton<IData, Data>();\n",
    "\n",
    "var app = builder.Build();\n",
    "\n",
    "int x = 0;\n",
    "app.MapGet(\"/\", (IData data) => $\"Hello World {++x} data: {string.Join(\",\", data.GetNumbers())}\");\n",
    "\n",
    "await app.StartAsync();"
   ]
  }
 ],
 "metadata": {
  "kernelInfo": {
   "defaultKernelName": null,
   "items": [
    {
     "aliases": [
      "c#",
      "cs"
     ],
     "languageName": "C#",
     "name": "csharp"
    },
    {
     "aliases": [
      "f#",
      "fs"
     ],
     "languageName": "F#",
     "name": "fsharp"
    },
    {
     "languageName": "HTML",
     "name": "html"
    },
    {
     "languageName": "HTTP",
     "name": "http"
    },
    {
     "aliases": [
      "js"
     ],
     "languageName": "JavaScript",
     "name": "javascript"
    },
    {
     "languageName": "KQL",
     "name": "kql"
    },
    {
     "languageName": "Mermaid",
     "name": "mermaid"
    },
    {
     "aliases": [
      "powershell"
     ],
     "languageName": "PowerShell",
     "name": "pwsh"
    },
    {
     "languageName": "SQL",
     "name": "sql"
    },
    {
     "name": "value"
    }
   ]
  },
  "kernelspec": {
   "display_name": ".NET (C#)",
   "language": "C#",
   "name": ".net-csharp"
  },
  "language_info": {
   "name": "polyglot-notebook"
  },
  "polyglot_notebook": {
   "kernelInfo": {
    "defaultKernelName": "csharp",
    "items": [
     {
      "aliases": [],
      "name": "csharp"
     },
     {
      "aliases": [],
      "name": "razor"
     }
    ]
   }
  }
 },
 "nbformat": 4,
 "nbformat_minor": 5
}
