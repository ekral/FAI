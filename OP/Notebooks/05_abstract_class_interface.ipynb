{
 "cells": [
  {
   "attachments": {},
   "cell_type": "markdown",
   "id": "17f06c64",
   "metadata": {},
   "source": [
    "# 05: Abstraktní metody, rozhraní a implementace dispose\n",
    "**autor: Erik Král ekral@utb.cz**\n",
    "\n",
    "---\n",
    "\n",
    "\n",
    "Obsah\n",
    "- Abstraktní metoda a třída.\n",
    "- Rozhraní.\n",
    "- Příklad implementace rozhraní IDisposable.\n",
    "\n"
   ]
  },
  {
   "cell_type": "markdown",
   "id": "4e764a01",
   "metadata": {},
   "source": [
    "## Abstraktní metoda a třída\n",
    "\n",
    "Abstraktní metoda nemá implementaci (tělo) a může být definována pouze v abstraktní třídě. Abstraktní třída slouží pouze jako rodičovská třída a v klientském kódu používáme její potomky, ale nemůžeme vytvářet její instance. Opět jde o konstrukci kterou vytváříme z důvodu statické typové kontroly."
   ]
  },
  {
   "cell_type": "markdown",
   "metadata": {},
   "source": [
    "Nyní si projdeme příklad, kdy si nejprve vytvoříme virtuální metodu `VratZvuk`, kterou poté změníme na abstraktní.\n",
    "\n",
    "Nejprve si definujeme třídu `Zviratko`, ktera ma property `Jmeno` a virtuální metodu `VratZvuk`. A potom definujeme dva potomky této třídy, které překryjí s použitím klíčového slova `override` metodu `VratZvuk`. Prvním potomkem je třída `Pejsek`, která vrací zvuk \"haf haf\" a druhým třída `Kocicka`, která vrací zvuk \"mnau\"."
   ]
  },
  {
   "cell_type": "code",
   "execution_count": 2,
   "id": "91852365",
   "metadata": {
    "language_info": {
     "name": "polyglot-notebook"
    },
    "polyglot_notebook": {
     "kernelName": "csharp"
    }
   },
   "outputs": [],
   "source": [
    "class Zviratko\n",
    "{\n",
    "    public string Jmeno { get; set; }\n",
    "\n",
    "    public virtual string VratZvuk()\n",
    "    {\n",
    "        return \"nema zadny konkretni zvuk\";\n",
    "    }\n",
    "}\n",
    "\n",
    "class Pejsek : Zviratko\n",
    "{\n",
    "    public override string VratZvuk()\n",
    "    {\n",
    "        return \"haf haf\";\n",
    "    }\n",
    "}\n",
    "\n",
    "class Kocicka : Zviratko\n",
    "{\n",
    "    public override string VratZvuk()\n",
    "    {\n",
    "        return \"mnau\";\n",
    "    }\n",
    "}"
   ]
  },
  {
   "cell_type": "code",
   "execution_count": 3,
   "id": "14e7cdec",
   "metadata": {
    "language_info": {
     "name": "polyglot-notebook"
    },
    "polyglot_notebook": {
     "kernelName": "csharp"
    }
   },
   "outputs": [
    {
     "name": "stdout",
     "output_type": "stream",
     "text": [
      "Obecne zviratko dela nema zadny konkretni zvuk\n",
      "Azor dela haf haf\n",
      "Micka dela mnau\n"
     ]
    }
   ],
   "source": [
    "Zviratko zviratko = new Zviratko() { Jmeno = \"Obecne zviratko\" };\n",
    "Zviratko pejsek = new Pejsek() { Jmeno = \"Azor\" };\n",
    "Zviratko kocicka = new Kocicka() { Jmeno = \"Micka\" };\n",
    "\n",
    "Console.WriteLine($\"{zviratko.Jmeno} dela {zviratko.VratZvuk()}\");\n",
    "Console.WriteLine($\"{pejsek.Jmeno} dela {pejsek.VratZvuk()}\");\n",
    "Console.WriteLine($\"{kocicka.Jmeno} dela {kocicka.VratZvuk()}\");"
   ]
  },
  {
   "cell_type": "markdown",
   "metadata": {},
   "source": [
    "Pokud se zamyslíme nad metodou `VratZvuk` ve třídě `Zviratko`, tak pro ni **nemáme smysluplnou implementaci** protože jde o obecné (abstraktní) zvířátko které nedělá žádný zvuk. Takové metody pro které nemáme implementaci a které musí implementovat až potomci této třídy můžeme označit jako abstraktní klíčovým slovem `abstract`. Abstraktní metody mohou mít pouze abstraktní třídy, třída `Zviratko` tedy musí být označená klíčovým slovem `abstract`. Takové třídy jsou potom určené pouze pro dědičnost a nemůžeme vytvářet jejich instance ale jen mít reference. Potomci těchto tříd potom musí povinně implementovat abstraktní metody. Abstraktní třída může být jako abstraktní označena klíčovým slovem `abstract` i když nemá abstraktní metody."
   ]
  },
  {
   "cell_type": "code",
   "execution_count": 5,
   "id": "78c6cc5c",
   "metadata": {
    "language_info": {
     "name": "polyglot-notebook"
    },
    "polyglot_notebook": {
     "kernelName": "csharp"
    }
   },
   "outputs": [
    {
     "name": "stdout",
     "output_type": "stream",
     "text": [
      "Azor dela haf haf\n",
      "Micka dela mnau\n"
     ]
    }
   ],
   "source": [
    "abstract class Zviratko\n",
    "{\n",
    "    public string Jmeno { get; set; }\n",
    "\n",
    "    public abstract string VratZvuk();\n",
    "}\n",
    "\n",
    "class Pejsek : Zviratko\n",
    "{\n",
    "    public override string VratZvuk()\n",
    "    {\n",
    "        return \"haf haf\";\n",
    "    }\n",
    "}\n",
    "\n",
    "class Kocicka : Zviratko\n",
    "{\n",
    "    public override string VratZvuk()\n",
    "    {\n",
    "        return \"mnau\";\n",
    "    }\n",
    "}\n",
    "\n",
    "Zviratko pejsek = new Pejsek() { Jmeno = \"Azor\" };\n",
    "Zviratko kocicka = new Kocicka() { Jmeno = \"Micka\" };\n",
    "\n",
    "Console.WriteLine($\"{pejsek.Jmeno} dela {pejsek.VratZvuk()}\");\n",
    "Console.WriteLine($\"{kocicka.Jmeno} dela {kocicka.VratZvuk()}\"); "
   ]
  },
  {
   "cell_type": "markdown",
   "metadata": {},
   "source": [
    "Použití tříd `Pejsek` a `Kocicka` a v klientském kódu zůstává stejné, jediný rozdíl je v tom, že nemůžeme vytvářet instance třídy `Zviratko`."
   ]
  },
  {
   "cell_type": "code",
   "execution_count": 6,
   "id": "c96fdb06",
   "metadata": {
    "language_info": {
     "name": "polyglot-notebook"
    },
    "polyglot_notebook": {
     "kernelName": "csharp"
    }
   },
   "outputs": [
    {
     "ename": "Error",
     "evalue": "(1,21): error CS0144: Cannot create an instance of the abstract type or interface 'Zviratko'",
     "output_type": "error",
     "traceback": [
      "(1,21): error CS0144: Cannot create an instance of the abstract type or interface 'Zviratko'"
     ]
    }
   ],
   "source": [
    "Zviratko zviratko = new Zviratko();"
   ]
  },
  {
   "cell_type": "markdown",
   "metadata": {},
   "source": [
    "## Rozhraní\n",
    "---\n",
    "\n",
    "Rozhraní je podobné abstraktní třídě pouze s abstraktními metodami. Říkáme, že třída implementuje rozhraní. Každá třída může v jazyce c# dědit od jedné třídy ale může implementovat libovolný počet rozhraní. Rozhraní na rozdíl od abstraktních tříd neobsahují fieldy.\n",
    "\n",
    "Z hlediska použití popisuje abstraktní třída vztah **\"is a\"** tedy pejsek **je** zvířátko nebo monitor **je** produkt. Zatímco rozhraní popisuje spíše vztah **\"can do\"** nebo možná lépe **\"must do\"**, tedy například že třída faktura **umí** serializaci do textového souboru nebo třída soubor **umí** metodu Dispose, tedy uvolnit všechny své alokované zdroje a zavřít otevřený soubor. Většinou preferujeme více jednoduchých rozhraní s méně metodami, než jedno velké rozhraní s mnoha metodami.\n",
    "\n",
    "Rozhraní se používají často frameworcích kde pomocí nich určujeme co daná třída umí, například pomocí implementace rozhraní `IComparable` můžeme třídu naučit aby fungovala v metodě `Sort`. Rozhraní se také často používají v technice Dependency Injection, kterou probereme příště, kdy místo třídy používáme rozhraní a vlastní implementaci pak můžeme dle potřeb měnit, například místo reálné implementace použijeme testovací implementaci.\n",
    "\n",
    "Nejprve si zopakujeme definici abstraktní třídy `Zviratko`."
   ]
  },
  {
   "cell_type": "code",
   "execution_count": 7,
   "id": "fb4f8dbe",
   "metadata": {
    "language_info": {
     "name": "polyglot-notebook"
    },
    "polyglot_notebook": {
     "kernelName": "csharp"
    }
   },
   "outputs": [
    {
     "name": "stdout",
     "output_type": "stream",
     "text": [
      "haf haf\r\n"
     ]
    }
   ],
   "source": [
    "abstract class Zviratko\n",
    "{\n",
    "    public abstract string VratZvuk();\n",
    "}\n",
    "\n",
    "class Pejsek : Zviratko\n",
    "{\n",
    "    public override string VratZvuk()\n",
    "    {\n",
    "        return \"haf haf\";\n",
    "    }\n",
    "}\n",
    "\n",
    "Console.WriteLine(new Pejsek().VratZvuk());"
   ]
  },
  {
   "cell_type": "markdown",
   "metadata": {},
   "source": [
    "Podobný příklad bychom potom mohli zapsat pomocí rozhraní, které zápis zjednodušuje."
   ]
  },
  {
   "cell_type": "code",
   "execution_count": 9,
   "metadata": {
    "dotnet_interactive": {
     "language": "csharp"
    },
    "polyglot_notebook": {
     "kernelName": "csharp"
    }
   },
   "outputs": [
    {
     "name": "stdout",
     "output_type": "stream",
     "text": [
      "haf haf\r\n"
     ]
    }
   ],
   "source": [
    "interface IZviratko\n",
    "{\n",
    "    string VratZvuk();\n",
    "}\n",
    "\n",
    "class Pejsek : IZviratko\n",
    "{\n",
    "    public string VratZvuk()\n",
    "    {\n",
    "        return \"haf haf\";\n",
    "    }\n",
    "}\n",
    "\n",
    "Console.WriteLine(new Pejsek().VratZvuk());"
   ]
  },
  {
   "cell_type": "markdown",
   "metadata": {},
   "source": [
    "Vzhledem k tomu, že toto rozhraní by mohli implementovat i jiné třídy než zvířátka, tak bychom mohli toto rozhraní mohli také nazvat například `IZvuk` (anglicky `ISoundable`) a implementovat by ji mohla třeba i třída `Auto`."
   ]
  },
  {
   "cell_type": "code",
   "execution_count": 11,
   "metadata": {
    "dotnet_interactive": {
     "language": "csharp"
    },
    "polyglot_notebook": {
     "kernelName": "csharp"
    }
   },
   "outputs": [
    {
     "name": "stdout",
     "output_type": "stream",
     "text": [
      "haf haf\n",
      "brmmm brmmm\n"
     ]
    }
   ],
   "source": [
    "interface IZvuk\n",
    "{\n",
    "    string VratZvuk();\n",
    "}\n",
    "\n",
    "class Pejsek : IZvuk\n",
    "{\n",
    "    public string VratZvuk()\n",
    "    {\n",
    "        return \"haf haf\";\n",
    "    }\n",
    "}\n",
    "\n",
    "class Auto : IZvuk\n",
    "{\n",
    "    public string VratZvuk()\n",
    "    {\n",
    "        return \"brmmm brmmm\";\n",
    "    }\n",
    "}\n",
    "\n",
    "Console.WriteLine(new Pejsek().VratZvuk());\n",
    "Console.WriteLine(new Auto().VratZvuk());"
   ]
  },
  {
   "cell_type": "markdown",
   "metadata": {},
   "source": [
    "Použití v klientském kódu potom může být následující."
   ]
  },
  {
   "cell_type": "code",
   "execution_count": 12,
   "metadata": {
    "dotnet_interactive": {
     "language": "csharp"
    },
    "polyglot_notebook": {
     "kernelName": "csharp"
    }
   },
   "outputs": [
    {
     "name": "stdout",
     "output_type": "stream",
     "text": [
      "haf haf\n",
      "brmmm brmmm\n"
     ]
    }
   ],
   "source": [
    "static void VypisZvuk(IZvuk objektSeZvukem)\n",
    "{\n",
    "    Console.WriteLine(objektSeZvukem.VratZvuk());\n",
    "}\n",
    "\n",
    "Pejsek pejsek = new Pejsek();\n",
    "Auto auto = new Auto();\n",
    "\n",
    "VypisZvuk(pejsek);\n",
    "VypisZvuk(auto);"
   ]
  },
  {
   "cell_type": "markdown",
   "id": "ba7727e4",
   "metadata": {},
   "source": [
    "V rozhraní můžou být i property. Pokud je properta v rozhraní, tak ji musíme v třídě implementovat."
   ]
  },
  {
   "cell_type": "code",
   "execution_count": null,
   "id": "538c8004",
   "metadata": {
    "language_info": {
     "name": "polyglot-notebook"
    },
    "polyglot_notebook": {
     "kernelName": "csharp"
    }
   },
   "outputs": [],
   "source": [
    "interface IRozhraniA\n",
    "{\n",
    "    int Properta { get; set; }\n",
    "    void MetodaA();\n",
    "}\n",
    "\n",
    "class TridaA : IRozhraniA\n",
    "{\n",
    "    public int Properta { get; set; }\n",
    "\n",
    "    public void MetodaA()\n",
    "    {\n",
    "        Console.WriteLine(\"MetodaA\");\n",
    "    }\n",
    "}"
   ]
  },
  {
   "cell_type": "markdown",
   "id": "3f9c38cf",
   "metadata": {},
   "source": [
    "Následující příklad demonstruje zjednodušené použití rozhraní IComparable."
   ]
  },
  {
   "cell_type": "code",
   "execution_count": null,
   "id": "c58c7d65",
   "metadata": {
    "language_info": {
     "name": "polyglot-notebook"
    },
    "polyglot_notebook": {
     "kernelName": "csharp"
    }
   },
   "outputs": [
    {
     "name": "stdout",
     "output_type": "stream",
     "text": [
      "1, 3, 7\r\n"
     ]
    }
   ],
   "source": [
    "class MojeTrida : IComparable<MojeTrida>\n",
    "{\n",
    "    public int Cislo { get; set; }\n",
    "\n",
    "    public int CompareTo(MojeTrida? other)\n",
    "    {\n",
    "        if (other == null) return 1;\n",
    "        return this.Cislo.CompareTo(other.Cislo);\n",
    "    }\n",
    "}\n",
    "\n",
    "MojeTrida[] pole = [new MojeTrida() { Cislo = 3 }, new MojeTrida() { Cislo = 7 }, new MojeTrida() { Cislo = 1 }];\n",
    "\n",
    "Array.Sort(pole);\n",
    "\n",
    "Console.WriteLine(string.Join(\", \", pole.Select(x => x.Cislo)));"
   ]
  },
  {
   "cell_type": "markdown",
   "metadata": {},
   "source": [
    "## Příklad implementace rozhraní IDisposable\n",
    "---"
   ]
  },
  {
   "cell_type": "markdown",
   "metadata": {},
   "source": [
    "Nyní si ukážeme školní příklad na implementaci rozhraní [IDisposable](https://learn.microsoft.com/en-us/dotnet/api/system.idisposable?redirectedfrom=MSDN&view=net-7.0). V následujícím kódu se nám po ukončení bloku using zavolá automaticky metoda `Dispose`."
   ]
  },
  {
   "cell_type": "code",
   "execution_count": 13,
   "metadata": {
    "dotnet_interactive": {
     "language": "csharp"
    },
    "polyglot_notebook": {
     "kernelName": "csharp"
    }
   },
   "outputs": [
    {
     "name": "stdout",
     "output_type": "stream",
     "text": [
      "Pracuji s tridou\n",
      "Uvolnuji zdroje..\n"
     ]
    }
   ],
   "source": [
    "class Trida : IDisposable\n",
    "{\n",
    "    public void Dispose()\n",
    "    {\n",
    "        Console.WriteLine(\"Uvolnuji zdroje..\");\n",
    "    }\n",
    "}\n",
    "\n",
    "using(Trida trida = new Trida())\n",
    "{\n",
    "    Console.WriteLine(\"Pracuji s tridou\");\n",
    "}\n"
   ]
  },
  {
   "cell_type": "markdown",
   "metadata": {},
   "source": [
    "Pokud bychom klíčové slovo using nepoužili, tak by se nám metoda Dispose nezavolá."
   ]
  },
  {
   "cell_type": "code",
   "execution_count": 14,
   "metadata": {
    "dotnet_interactive": {
     "language": "csharp"
    },
    "polyglot_notebook": {
     "kernelName": "csharp"
    }
   },
   "outputs": [
    {
     "name": "stdout",
     "output_type": "stream",
     "text": [
      "Pracuji s tridou\r\n"
     ]
    }
   ],
   "source": [
    "Trida trida = new Trida();\n",
    "\n",
    "Console.WriteLine(\"Pracuji s tridou\");"
   ]
  },
  {
   "cell_type": "markdown",
   "metadata": {},
   "source": [
    "Následující příklad je pokročilý a pro splnění předmětu jej nemusíte studovat a nepopisuje kompletní problematiku uvolňování zdrojů. Příklad demonstruje implementaci rozhraní IDisposable, kde bereme v úvahu i to, že uživatel nepoužije Dispose a používáme i Finalizer (v C++ se mu říká destruktor.). Připomínám, že rozhraní IDisposable používáme jen ve speciálních případech, kdy musíme uvolnit alokované zdroje a běžně se v klientském kódu nepoužívá. Celá problematika interakce managed jazyka s unmanaged kódem složitá a nad rámec tohoto předmětu a více se můžete dočíst v dokumentaci [Implement a Dispose method](https://learn.microsoft.com/en-us/dotnet/standard/garbage-collection/implementing-dispose)."
   ]
  },
  {
   "cell_type": "code",
   "execution_count": null,
   "metadata": {
    "dotnet_interactive": {
     "language": "csharp"
    },
    "polyglot_notebook": {
     "kernelName": "csharp"
    }
   },
   "outputs": [],
   "source": [
    "class Trida : IDisposable\n",
    "{\n",
    "    System.Net.Http.HttpClient client = new();\n",
    "\n",
    "    private bool disposed = false;\n",
    "\n",
    "    public void Dispose()\n",
    "    {\n",
    "        Dispose(disposing: true);\n",
    "        \n",
    "        // Protoze jsem uz vse uvolnil, tak uz nechci aby se znovu volal Finalizer\n",
    "        GC.SuppressFinalize(this);\n",
    "    }\n",
    "\n",
    "    protected virtual void Dispose(bool disposing)\n",
    "    {\n",
    "        if(!this.disposed)\n",
    "        {\n",
    "            if(disposing)\n",
    "            {\n",
    "                Console.WriteLine(\"Uvolnuji managed objekty\");\n",
    "                client.Dispose();\n",
    "            }\n",
    "            \n",
    "            Console.WriteLine(\"Uvolnuji unmanaged objekty\");\n",
    "            // uvolnovani unmanaged objektu, kvuli kterym bych pripadne IDisposable musel implementovat\n",
    "            \n",
    "            disposed = true;\n",
    "        }\n",
    "    }\n",
    "\n",
    "    // Finalizer, zavola se jako posledni moznost pred uvolneni objektu z pameti\n",
    "    // Jako vhodnejsi alternativu pro uvolneni Unmanaged resources Microsoft doporucuje SafeHandle\n",
    "    ~Trida()\n",
    "    {\n",
    "        Dispose(disposing: false);\n",
    "    }\n",
    "}\n",
    "\n",
    "using(Trida trida = new Trida())\n",
    "{\n",
    "    Console.WriteLine(\"Pracuji s tridou\");\n",
    "}"
   ]
  },
  {
   "cell_type": "markdown",
   "metadata": {},
   "source": [
    "#### Cvičení\n",
    "---"
   ]
  },
  {
   "cell_type": "markdown",
   "metadata": {},
   "source": [
    "1. Příklad na implementaci abstraktní třídy"
   ]
  },
  {
   "cell_type": "markdown",
   "metadata": {},
   "source": [
    "Máte rodičovskou abstraktní třídu `Kontrolka`."
   ]
  },
  {
   "cell_type": "code",
   "execution_count": null,
   "metadata": {
    "dotnet_interactive": {
     "language": "csharp"
    },
    "polyglot_notebook": {
     "kernelName": "csharp"
    }
   },
   "outputs": [],
   "source": [
    "abstract class Kontrolka\n",
    "{\n",
    "    public int sirka = 0;\n",
    "    public int vyska = 0;\n",
    "\n",
    "    public abstract void Vykresli();\n",
    "}"
   ]
  },
  {
   "cell_type": "markdown",
   "metadata": {},
   "source": [
    "Doplňte definici třídy `Tlacitko` tak,"
   ]
  },
  {
   "cell_type": "code",
   "execution_count": null,
   "metadata": {
    "dotnet_interactive": {
     "language": "csharp"
    },
    "polyglot_notebook": {
     "kernelName": "csharp"
    }
   },
   "outputs": [],
   "source": [
    "// definice tridy Tlacitko"
   ]
  },
  {
   "cell_type": "markdown",
   "metadata": {},
   "source": [
    "Aby byl funkční následující kód a vypsal na terminál text \"Kreslim tlacitko\"."
   ]
  },
  {
   "cell_type": "code",
   "execution_count": null,
   "metadata": {
    "dotnet_interactive": {
     "language": "csharp"
    },
    "polyglot_notebook": {
     "kernelName": "csharp"
    }
   },
   "outputs": [],
   "source": [
    "Kontrolka kontrolka = new Tlacitko();\n",
    "kontrolka.sirka = 200;\n",
    "kontrolka.vyska = 300;\n",
    "\n",
    "kontrolka.Vykresli(); "
   ]
  },
  {
   "cell_type": "markdown",
   "metadata": {},
   "source": [
    "2. Příklad na implementaci rozhraní"
   ]
  },
  {
   "cell_type": "markdown",
   "metadata": {},
   "source": [
    "Máte rozhraní `IDrawable."
   ]
  },
  {
   "cell_type": "code",
   "execution_count": null,
   "metadata": {
    "dotnet_interactive": {
     "language": "csharp"
    },
    "polyglot_notebook": {
     "kernelName": "csharp"
    }
   },
   "outputs": [],
   "source": [
    "interface IDrawable\n",
    "{\n",
    "    void Draw();\n",
    "}"
   ]
  },
  {
   "cell_type": "markdown",
   "metadata": {},
   "source": [
    "Definujte třídu `Obrazek` implementující rozhraní `IDrawable`, kdy v metode `Draw` vypiste na terminal \"Kreslim obrazek\""
   ]
  },
  {
   "cell_type": "code",
   "execution_count": null,
   "metadata": {
    "dotnet_interactive": {
     "language": "csharp"
    },
    "polyglot_notebook": {
     "kernelName": "csharp"
    }
   },
   "outputs": [],
   "source": [
    "// Definice třídy obrázek"
   ]
  },
  {
   "cell_type": "code",
   "execution_count": null,
   "metadata": {
    "dotnet_interactive": {
     "language": "csharp"
    },
    "polyglot_notebook": {
     "kernelName": "csharp"
    }
   },
   "outputs": [],
   "source": [
    "IDrawable drawable = new Obrazek();\n",
    "drawable.Draw();"
   ]
  },
  {
   "cell_type": "markdown",
   "metadata": {},
   "source": [
    "3. V předchozích příkladech odstraňte definici rozhraní a abstraktní třídy a zkuste si jej sami nadefinovat."
   ]
  }
 ],
 "metadata": {
  "kernelInfo": {
   "defaultKernelName": null,
   "items": [
    {
     "aliases": [
      "c#",
      "cs"
     ],
     "languageName": "C#",
     "name": "csharp"
    },
    {
     "aliases": [
      "f#",
      "fs"
     ],
     "languageName": "F#",
     "name": "fsharp"
    },
    {
     "languageName": "HTML",
     "name": "html"
    },
    {
     "languageName": "HTTP",
     "name": "http"
    },
    {
     "aliases": [
      "js"
     ],
     "languageName": "JavaScript",
     "name": "javascript"
    },
    {
     "languageName": "KQL",
     "name": "kql"
    },
    {
     "languageName": "Mermaid",
     "name": "mermaid"
    },
    {
     "aliases": [
      "powershell"
     ],
     "languageName": "PowerShell",
     "name": "pwsh"
    },
    {
     "languageName": "SQL",
     "name": "sql"
    },
    {
     "name": "value"
    }
   ]
  },
  "kernelspec": {
   "display_name": ".NET (C#)",
   "language": "C#",
   "name": ".net-csharp"
  },
  "language_info": {
   "name": "polyglot-notebook"
  },
  "polyglot_notebook": {
   "kernelInfo": {
    "defaultKernelName": "csharp",
    "items": [
     {
      "aliases": [
       "C#",
       "c#"
      ],
      "languageName": "C#",
      "name": "csharp"
     },
     {
      "aliases": [
       "js"
      ],
      "languageName": "JavaScript",
      "name": "javascript"
     },
     {
      "aliases": [
       "frontend"
      ],
      "name": "vscode"
     },
     {
      "aliases": [],
      "name": "webview"
     }
    ]
   }
  }
 },
 "nbformat": 4,
 "nbformat_minor": 5
}
