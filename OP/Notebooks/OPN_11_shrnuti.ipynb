{
 "cells": [
  {
   "cell_type": "markdown",
   "metadata": {},
   "source": [
    "# OPN 11: Shrnutí učiva\n",
    "---\n",
    "\n",
    "Obsah:\n",
    "- Shrnutí učiva\n",
    "- Materiály k zamyšlení a samostatnému rozvoji znalostí"
   ]
  },
  {
   "attachments": {},
   "cell_type": "markdown",
   "metadata": {},
   "source": [
    "## Probraná témata:\n",
    "\n",
    "1. Opakování OOP z předmětu AP1PA: Základní OOP terminologie, opakování ze Základů programování a algoritmizace. \n",
    "Objekty, třídy, členské proměnné, metody, zapouzdření. Konstruktory a destruktory, property.\n",
    "\n",
    "[Příprava k testu 1](https://github.com/ekral/FAI/tree/master/OP/Tema1)\n",
    "\n",
    "2. Životní cyklus objektu a správa paměti. Manuální a automatická správa paměti. \n",
    "Garbage Collector.\n",
    "Statické atributy a metody \n",
    "Použití metody dispose, Deterministická a nedeterministická destrukce objektu.\n",
    "\n",
    "[Příprava k testu 2](https://github.com/ekral/FAI/tree/master/OP/Tema3)\n",
    "\n",
    "3. Vztahy mezi objekty (asociace, agregace a kompozice), skládání objektů. \n",
    "Dědičnost kódu, výhody a nevýhody ve srovnání se skládáním objektů. \n",
    "\n",
    "[Příprava k testu 3](https://github.com/ekral/FAI/tree/master/OP/Tema4)\n",
    "\n",
    "4. Polymorfismus: virtuální metody.\n",
    "Překrývání virtuáních metod (Method Overriding).\n",
    "Upcasting a downcasting. \n",
    "\n",
    "[Příprava k testu 4](https://github.com/ekral/FAI/tree/master/OP/Tema5)\n",
    "\n",
    "5. Polymorfismus: abstraktní metody, abstraktní třídy a rozhraní. Implementace IDisposable.\n",
    "\n",
    "[Notebook 5](https://github.com/ekral/FAI/blob/master/OP/Notebooks/OPN_5_abstraktni_tridy_rozhrani.ipynb)\n",
    "\n",
    "6. Návrhový vzor Dependency injection, Singleton. \n",
    "\n",
    "[Notebook 6](https://github.com/ekral/FAI/blob/master/OP/Notebooks/OPN_6_dependenci_injection_singleton.ipynb)\n",
    "\n",
    "7. Šablony a generické programování.\n",
    "Generické datové typy a kolekce (List<T>, Dictionary<TKey,TValue>).\n",
    "\n",
    "[Notebook 7](https://github.com/ekral/FAI/blob/master/OP/Notebooks/OPN_7_generics_and_collections.ipynb)\n",
    "\n",
    "8. Delegáti a vzor Observer (event) a jeho využití při komunikaci objektů.\n",
    "\n",
    "[Notebook 8](https://github.com/ekral/FAI/blob/master/OP/Notebooks/OPN_8_delegate.ipynb)\n",
    "\n",
    "9. Lambda výrazy.\n",
    "\n",
    "[Notebook 9](https://github.com/ekral/FAI/blob/master/OP/Notebooks/OPN_9_lambda..ipynb)\n",
    "\n",
    "10. Asynchronní zpracování dat, paralelní přístup k objektům. Třída Task, klíčová slova async a await.\n",
    "\n",
    "[Notebook 10](https://github.com/ekral/FAI/blob/master/OP/Notebooks/OPN_10_async.ipynb)\n"
   ]
  },
  {
   "attachments": {},
   "cell_type": "markdown",
   "metadata": {},
   "source": [
    "## Témata ke dalšímu studiu\n",
    "\n",
    "Bohužel nám časová dotace předmětu neumožńovala probrat komplexní příklad. \n",
    "\n",
    "Doporučuji podívat se na na Minimal Web Api pro tvorbu webových služeb, tedy základu současného internetu:\n",
    "\n",
    "[Tutorial: Create a minimal API with ASP.NET Core](https://learn.microsoft.com/en-us/aspnet/core/tutorials/min-web-api?view=aspnetcore-7.0&tabs=visual-studio)\n",
    "\n",
    "Potom se můžete seznámit s tím, jak provádět HTTP requesty s pomocí třídy HttpClient:\n",
    "\n",
    "[Make HTTP requests with the HttpClient class](https://learn.microsoft.com/en-us/dotnet/fundamentals/networking/http/httpclient)\n",
    "\n",
    "A také doporučuji následující knihu, která dobře popisuje princip Single Page Apps a Traditional Web Apps a vysvětluje jaké základní technologie jsou k dispozici v .NETu. Kniha sice není určená pro začátečký, ale nevadí pokud nebudete rozumnět všemu. V knize se například aplikuje Clean Architecture a využívá už některá hotová řešení prostřednitvím nuget balíčků, ale dává náhled na architkturu firemních webových aplikací.\n",
    "\n",
    "[ASP.NET Core Application Architecture](https://dotnet.microsoft.com/en-us/learn/aspnet/architecture)"
   ]
  },
  {
   "attachments": {},
   "cell_type": "markdown",
   "metadata": {},
   "source": [
    "## Ukázka vytvoření webové služby pomocí WebApi\n",
    "\n",
    "V následujícím příkladu si vytvoříme nejjednodušší webovou službu a zavoláme ji pomocí HttpClienta. Polyglot notebook bohužel zatím plně nepodporuje ASP.NET a pro složitější příkladu už bychom musel vytvořit běžný projekt."
   ]
  },
  {
   "attachments": {},
   "cell_type": "markdown",
   "metadata": {},
   "source": [
    "Nejprve si nainstalujeme potřebný nuget balíček."
   ]
  },
  {
   "cell_type": "code",
   "execution_count": 1,
   "metadata": {
    "dotnet_interactive": {
     "language": "csharp"
    },
    "polyglot_notebook": {
     "kernelName": "csharp"
    },
    "vscode": {
     "languageId": "polyglot-notebook"
    }
   },
   "outputs": [
    {
     "data": {
      "text/html": [
       "<div><div></div><div></div><div><strong>Installed Packages</strong><ul><li><span>Microsoft.DotNet.Interactive.AspNetCore, 1.0.0-beta.23205.1</span></li></ul></div></div>"
      ]
     },
     "metadata": {},
     "output_type": "display_data"
    },
    {
     "data": {
      "text/plain": [
       "Loading extensions from `C:\\Users\\erik\\.nuget\\packages\\microsoft.dotnet.interactive.aspnetcore\\1.0.0-beta.23205.1\\interactive-extensions\\dotnet\\Microsoft.DotNet.Interactive.AspNetCore.dll`"
      ]
     },
     "metadata": {},
     "output_type": "display_data"
    }
   ],
   "source": [
    "#r \"nuget:Microsoft.DotNet.Interactive.AspNetCore,*-*\""
   ]
  },
  {
   "attachments": {},
   "cell_type": "markdown",
   "metadata": {},
   "source": [
    "Následující kód spustí webovou službu a zobrazí na konzoli na jaké webové adrese a portu je spuštěna."
   ]
  },
  {
   "cell_type": "code",
   "execution_count": 6,
   "metadata": {
    "dotnet_interactive": {
     "language": "csharp"
    },
    "polyglot_notebook": {
     "kernelName": "csharp"
    },
    "vscode": {
     "languageId": "polyglot-notebook"
    }
   },
   "outputs": [
    {
     "name": "stdout",
     "output_type": "stream",
     "text": [
      "info: Microsoft.Hosting.Lifetime[14]\n",
      "      Now listening on: http://localhost:5000\n",
      "info: Microsoft.Hosting.Lifetime[0]\n",
      "      Application started. Press Ctrl+C to shut down.\n",
      "info: Microsoft.Hosting.Lifetime[0]\n",
      "      Hosting environment: Production\n",
      "info: Microsoft.Hosting.Lifetime[0]\n",
      "      Content root path: c:\\Users\\erik\\source\\repos\\FAI\\OP\\Notebooks\n"
     ]
    }
   ],
   "source": [
    "#!aspnet\n",
    "\n",
    "var builder = WebApplication.CreateBuilder();\n",
    "var app = builder.Build();\n",
    "\n",
    "int x = 0;\n",
    "app.MapGet(\"/\", () => $\"Hello World {++x}\");\n",
    "\n",
    "await app.StartAsync();"
   ]
  },
  {
   "attachments": {},
   "cell_type": "markdown",
   "metadata": {},
   "source": [
    "Následující příklad provede HTTP request. V reálné aplikaci bysme nevytvářeli pro každý dotaz nového klienta, více se můžete dočíst v [Guidelines for using HttpClient](https://learn.microsoft.com/en-us/dotnet/fundamentals/networking/http/httpclient-guidelines)."
   ]
  },
  {
   "cell_type": "code",
   "execution_count": 9,
   "metadata": {
    "dotnet_interactive": {
     "language": "csharp"
    },
    "polyglot_notebook": {
     "kernelName": "csharp"
    },
    "vscode": {
     "languageId": "polyglot-notebook"
    }
   },
   "outputs": [
    {
     "name": "stdout",
     "output_type": "stream",
     "text": [
      "Hello World 3\r\n"
     ]
    }
   ],
   "source": [
    "using(HttpClient client = new HttpClient())\n",
    "{\n",
    "    string retezec = await client.GetStringAsync(\"http://127.0.0.1:5000/\");\n",
    "    Console.WriteLine(retezec);\n",
    "}"
   ]
  },
  {
   "attachments": {},
   "cell_type": "markdown",
   "metadata": {},
   "source": [
    "Webovou službu můžeme ukončit následujícím příkazem:"
   ]
  },
  {
   "cell_type": "code",
   "execution_count": 4,
   "metadata": {
    "dotnet_interactive": {
     "language": "csharp"
    },
    "polyglot_notebook": {
     "kernelName": "csharp"
    },
    "vscode": {
     "languageId": "polyglot-notebook"
    }
   },
   "outputs": [],
   "source": [
    "await app.StopAsync();"
   ]
  }
 ],
 "metadata": {
  "language_info": {
   "name": "csharp"
  },
  "orig_nbformat": 4
 },
 "nbformat": 4,
 "nbformat_minor": 2
}
