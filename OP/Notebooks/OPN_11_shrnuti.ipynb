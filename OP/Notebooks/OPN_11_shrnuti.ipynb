{
 "cells": [
  {
   "cell_type": "markdown",
   "metadata": {},
   "source": [
    "# OPN 11: Shrnutí učiva\n",
    "---\n",
    "\n",
    "Obsah:\n",
    "- Shrnutí učiva\n",
    "- Materiály k zamyšlení a samostatnému rozvoji znalostí"
   ]
  },
  {
   "attachments": {},
   "cell_type": "markdown",
   "metadata": {},
   "source": [
    "Probraná témata:\n",
    "\n",
    "1. Opakování OOP z předmětu AP1PA: Základní OOP terminologie, opakování ze Základů programování a algoritmizace. \n",
    "Objekty, třídy, členské proměnné, metody, zapouzdření. Konstruktory a destruktory, property.\n",
    "\n",
    "[Příprava k testu 1](https://github.com/ekral/FAI/tree/master/OP/Tema1)\n",
    "\n",
    "2. Životní cyklus objektu a správa paměti. Manuální a automatická správa paměti. \n",
    "Garbage Collector.\n",
    "Statické atributy a metody \n",
    "Použití metody dispose, Deterministická a nedeterministická destrukce objektu.\n",
    "\n",
    "[Příprava k testu 2](https://github.com/ekral/FAI/tree/master/OP/Tema3)\n",
    "\n",
    "3. Vztahy mezi objekty (asociace, agregace a kompozice), skládání objektů. \n",
    "Dědičnost kódu, výhody a nevýhody ve srovnání se skládáním objektů. \n",
    "\n",
    "[Příprava k testu 3](https://github.com/ekral/FAI/tree/master/OP/Tema4)"
   ]
  },
  {
   "cell_type": "markdown",
   "metadata": {},
   "source": []
  }
 ],
 "metadata": {
  "language_info": {
   "name": "csharp"
  },
  "orig_nbformat": 4
 },
 "nbformat": 4,
 "nbformat_minor": 2
}
