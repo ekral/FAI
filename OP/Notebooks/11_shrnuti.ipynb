{
 "cells": [
  {
   "cell_type": "markdown",
   "metadata": {},
   "source": [
    "# 11: Shrnutí učiva\n",
    "---\n",
    "\n",
    "Obsah:\n",
    "- Shrnutí učiva\n",
    "- Materiály k zamyšlení a samostatnému rozvoji znalostí"
   ]
  },
  {
   "attachments": {},
   "cell_type": "markdown",
   "metadata": {},
   "source": [
    "## Témata ke dalšímu studiu\n",
    "\n",
    "Doporučuji podívat se na na Minimal Web Api pro tvorbu webových služeb, tedy základu současného internetu:\n",
    "\n",
    "[Tutorial: Create a minimal API with ASP.NET Core](https://learn.microsoft.com/en-us/aspnet/core/tutorials/min-web-api?view=aspnetcore-7.0&tabs=visual-studio)\n",
    "\n",
    "Potom se můžete seznámit s tím, jak provádět HTTP requesty s pomocí třídy HttpClient:\n",
    "\n",
    "[Make HTTP requests with the HttpClient class](https://learn.microsoft.com/en-us/dotnet/fundamentals/networking/http/httpclient)\n",
    "\n",
    "Pro pokročilejší studium doporučuji následující knihu, která dobře popisuje princip Single Page Apps a Traditional Web Apps a vysvětluje jaké základní technologie jsou k dispozici v .NETu. Kniha sice není určená pro začátečníky, ale nevadí pokud nebudete rozumnět všemu. V knize se například aplikuje Clean Architecture a využívá už některá hotová řešení prostřednitvím nuget balíčků, ale dává náhled na architkturu firemních webových aplikací. V příkladech se také používá například návrhový vzor Repository a Specification. Jeho použití ale v projektech není povinné a nemusí se používat, už samotný DbContext představuje Repository a můžete jej používat přímo.\n",
    "\n",
    "[ASP.NET Core Application Architecture](https://dotnet.microsoft.com/en-us/learn/aspnet/architecture)"
   ]
  },
  {
   "attachments": {},
   "cell_type": "markdown",
   "metadata": {},
   "source": [
    "## Ukázka vytvoření webové služby pomocí WebApi\n",
    "\n",
    "V následujícím příkladu si vytvoříme nejjednodušší webovou službu a zavoláme ji pomocí HttpClienta. Polyglot notebook bohužel **zatím plně nepodporuje** ASP.NET a pro složitější příkladu už bychom musel vytvořit běžný projekt."
   ]
  },
  {
   "attachments": {},
   "cell_type": "markdown",
   "metadata": {},
   "source": [
    "Nejprve si nainstalujeme potřebný nuget balíček."
   ]
  },
  {
   "cell_type": "code",
   "execution_count": 1,
   "metadata": {
    "dotnet_interactive": {
     "language": "csharp"
    },
    "polyglot_notebook": {
     "kernelName": "csharp"
    },
    "vscode": {
     "languageId": "polyglot-notebook"
    }
   },
   "outputs": [
    {
     "data": {
      "text/html": [
       "<div><div></div><div></div><div><strong>Installed Packages</strong><ul><li><span>Microsoft.DotNet.Interactive.AspNetCore, 1.0.0-beta.23205.1</span></li></ul></div></div>"
      ]
     },
     "metadata": {},
     "output_type": "display_data"
    },
    {
     "data": {
      "text/plain": [
       "Loading extensions from `C:\\Users\\erik\\.nuget\\packages\\microsoft.dotnet.interactive.aspnetcore\\1.0.0-beta.23205.1\\interactive-extensions\\dotnet\\Microsoft.DotNet.Interactive.AspNetCore.dll`"
      ]
     },
     "metadata": {},
     "output_type": "display_data"
    }
   ],
   "source": [
    "#r \"nuget:Microsoft.DotNet.Interactive.AspNetCore,*-*\""
   ]
  },
  {
   "attachments": {},
   "cell_type": "markdown",
   "metadata": {},
   "source": [
    "Následující kód spustí webovou službu a zobrazí na konzoli na jaké webové adrese a portu je spuštěna."
   ]
  },
  {
   "cell_type": "code",
   "execution_count": null,
   "metadata": {
    "dotnet_interactive": {
     "language": "csharp"
    },
    "polyglot_notebook": {
     "kernelName": "csharp"
    },
    "vscode": {
     "languageId": "polyglot-notebook"
    }
   },
   "outputs": [],
   "source": [
    "#!aspnet\n",
    "\n",
    "var builder = WebApplication.CreateBuilder();\n",
    "var app = builder.Build();\n",
    "\n",
    "int x = 0;\n",
    "app.MapGet(\"/\", () => $\"Hello World {++x}\");\n",
    "\n",
    "await app.StartAsync();"
   ]
  },
  {
   "attachments": {},
   "cell_type": "markdown",
   "metadata": {},
   "source": [
    "Následující příklad provede HTTP request. V reálné aplikaci bysme nevytvářeli pro každý dotaz nového klienta, více se můžete dočíst v [Guidelines for using HttpClient](https://learn.microsoft.com/en-us/dotnet/fundamentals/networking/http/httpclient-guidelines)."
   ]
  },
  {
   "cell_type": "code",
   "execution_count": null,
   "metadata": {
    "dotnet_interactive": {
     "language": "csharp"
    },
    "polyglot_notebook": {
     "kernelName": "csharp"
    },
    "vscode": {
     "languageId": "polyglot-notebook"
    }
   },
   "outputs": [],
   "source": [
    "using(HttpClient client = new HttpClient())\n",
    "{\n",
    "    string retezec = await client.GetStringAsync(\"http://127.0.0.1:5000/\");\n",
    "    Console.WriteLine(retezec);\n",
    "}"
   ]
  },
  {
   "attachments": {},
   "cell_type": "markdown",
   "metadata": {},
   "source": [
    "Webovou službu můžeme ukončit následujícím příkazem:"
   ]
  },
  {
   "cell_type": "code",
   "execution_count": null,
   "metadata": {
    "dotnet_interactive": {
     "language": "csharp"
    },
    "polyglot_notebook": {
     "kernelName": "csharp"
    },
    "vscode": {
     "languageId": "polyglot-notebook"
    }
   },
   "outputs": [],
   "source": [
    "await app.StopAsync();"
   ]
  },
  {
   "attachments": {},
   "cell_type": "markdown",
   "metadata": {},
   "source": [
    "## Ukázka Dependency Injection v Minimal WebApi\n",
    "\n",
    "Všimněte si, že tentokrát nezískáváme referenci v parametru konstruktoru, ale jako parametr metody."
   ]
  },
  {
   "attachments": {},
   "cell_type": "markdown",
   "metadata": {},
   "source": [
    "Nejprve vložíme další nuget balíček."
   ]
  },
  {
   "cell_type": "code",
   "execution_count": 2,
   "metadata": {
    "dotnet_interactive": {
     "language": "csharp"
    },
    "polyglot_notebook": {
     "kernelName": "csharp"
    },
    "vscode": {
     "languageId": "polyglot-notebook"
    }
   },
   "outputs": [
    {
     "data": {
      "text/html": [
       "<div><div></div><div></div><div><strong>Installed Packages</strong><ul><li><span>Microsoft.Extensions.DependencyInjection, 7.0.0</span></li></ul></div></div>"
      ]
     },
     "metadata": {},
     "output_type": "display_data"
    }
   ],
   "source": [
    "#r \"nuget: Microsoft.Extensions.DependencyInjection\""
   ]
  },
  {
   "cell_type": "code",
   "execution_count": 3,
   "metadata": {
    "dotnet_interactive": {
     "language": "csharp"
    },
    "polyglot_notebook": {
     "kernelName": "csharp"
    },
    "vscode": {
     "languageId": "polyglot-notebook"
    }
   },
   "outputs": [],
   "source": [
    "public interface INumberGenerator\n",
    "{\n",
    "    Task<int> GetNumber();\n",
    "}\n",
    "\n",
    "public class RandomNumberGenerator : INumberGenerator\n",
    "{\n",
    "    public Task<int> GetNumber()\n",
    "    {\n",
    "        return Task.FromResult(Random.Shared.Next(0, 100));\n",
    "    }\n",
    "}"
   ]
  },
  {
   "cell_type": "code",
   "execution_count": 8,
   "metadata": {
    "dotnet_interactive": {
     "language": "csharp"
    },
    "polyglot_notebook": {
     "kernelName": "csharp"
    },
    "vscode": {
     "languageId": "polyglot-notebook"
    }
   },
   "outputs": [
    {
     "name": "stdout",
     "output_type": "stream",
     "text": [
      "info: Microsoft.Hosting.Lifetime[14]\n",
      "      Now listening on: http://localhost:5000\n",
      "info: Microsoft.Hosting.Lifetime[0]\n",
      "      Application started. Press Ctrl+C to shut down.\n",
      "info: Microsoft.Hosting.Lifetime[0]\n",
      "      Hosting environment: Production\n",
      "info: Microsoft.Hosting.Lifetime[0]\n",
      "      Content root path: c:\\Users\\erik\\source\\repos\\FAI\\OP\\Notebooks\n"
     ]
    }
   ],
   "source": [
    "#!aspnet\n",
    "\n",
    "using Microsoft.Extensions.DependencyInjection;\n",
    "\n",
    "var builder = WebApplication.CreateBuilder();\n",
    "builder.Services.AddSingleton<INumberGenerator, RandomNumberGenerator>();\n",
    "\n",
    "var app = builder.Build();\n",
    "\n",
    "app.MapGet(\"/\", async (INumberGenerator numberGenerator) => \n",
    "{\n",
    "    int number = await numberGenerator.GetNumber();\n",
    "\n",
    "    return $\"Hello World: {number}\";\n",
    "});\n",
    "\n",
    "await app.StartAsync();"
   ]
  },
  {
   "attachments": {},
   "cell_type": "markdown",
   "metadata": {},
   "source": [
    "Následující příklad provede HTTP request. V reálné aplikaci bysme nevytvářeli pro každý dotaz nového klienta, více se můžete dočíst v [Guidelines for using HttpClient](https://learn.microsoft.com/en-us/dotnet/fundamentals/networking/http/httpclient-guidelines)."
   ]
  },
  {
   "cell_type": "code",
   "execution_count": 11,
   "metadata": {
    "dotnet_interactive": {
     "language": "csharp"
    },
    "polyglot_notebook": {
     "kernelName": "csharp"
    },
    "vscode": {
     "languageId": "polyglot-notebook"
    }
   },
   "outputs": [
    {
     "name": "stdout",
     "output_type": "stream",
     "text": [
      "Hello World: 25\r\n"
     ]
    }
   ],
   "source": [
    "using(HttpClient client = new HttpClient())\n",
    "{\n",
    "    string retezec = await client.GetStringAsync(\"http://127.0.0.1:5000/\");\n",
    "    Console.WriteLine(retezec);\n",
    "}"
   ]
  },
  {
   "attachments": {},
   "cell_type": "markdown",
   "metadata": {},
   "source": [
    "Webovou službu můžeme ukončit následujícím příkazem:"
   ]
  },
  {
   "cell_type": "code",
   "execution_count": 12,
   "metadata": {
    "dotnet_interactive": {
     "language": "csharp"
    },
    "polyglot_notebook": {
     "kernelName": "csharp"
    },
    "vscode": {
     "languageId": "polyglot-notebook"
    }
   },
   "outputs": [],
   "source": [
    "await app.StopAsync();"
   ]
  }
 ],
 "metadata": {
  "language_info": {
   "name": "csharp"
  },
  "orig_nbformat": 4
 },
 "nbformat": 4,
 "nbformat_minor": 2
}
