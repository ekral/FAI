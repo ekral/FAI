{
 "cells": [
  {
   "attachments": {},
   "cell_type": "markdown",
   "metadata": {},
   "source": [
    "## Avalonia"
   ]
  },
  {
   "cell_type": "code",
   "execution_count": 1,
   "metadata": {
    "dotnet_interactive": {
     "language": "csharp"
    },
    "polyglot_notebook": {
     "kernelName": "csharp"
    },
    "vscode": {
     "languageId": "polyglot-notebook"
    }
   },
   "outputs": [
    {
     "data": {
      "text/html": [
       "<div><div></div><div></div><div><strong>Installed Packages</strong><ul><li><span>Avalonia.Desktop, 0.10.19</span></li></ul></div></div>"
      ]
     },
     "metadata": {},
     "output_type": "display_data"
    },
    {
     "data": {
      "text/plain": [
       "Loading extensions from `C:\\Users\\erik\\.nuget\\packages\\skiasharp\\2.88.1-preview.108\\interactive-extensions\\dotnet\\SkiaSharp.DotNet.Interactive.dll`"
      ]
     },
     "metadata": {},
     "output_type": "display_data"
    }
   ],
   "source": [
    "#r \"nuget: Avalonia.Desktop\"\n",
    "\n",
    "using Avalonia;\n",
    "using Avalonia.Controls;\n",
    "using Avalonia.Controls.ApplicationLifetimes;\n",
    "using Avalonia.Layout;\n",
    "using Avalonia.Threading;\n",
    "using System.Threading;"
   ]
  },
  {
   "attachments": {},
   "cell_type": "markdown",
   "metadata": {},
   "source": [
    "Následující kód spusťte jen jednou v celém notebooku. Tento kód inicializuje UI knihovnu."
   ]
  },
  {
   "cell_type": "code",
   "execution_count": 9,
   "metadata": {
    "dotnet_interactive": {
     "language": "csharp"
    },
    "polyglot_notebook": {
     "kernelName": "csharp"
    },
    "vscode": {
     "languageId": "polyglot-notebook"
    }
   },
   "outputs": [
    {
     "data": {
      "text/html": [
       "<div class=\"dni-plaintext\"><pre>&lt;null&gt;</pre></div><style>\r\n",
       ".dni-code-hint {\r\n",
       "    font-style: italic;\r\n",
       "    overflow: hidden;\r\n",
       "    white-space: nowrap;\r\n",
       "}\r\n",
       ".dni-treeview {\r\n",
       "    white-space: nowrap;\r\n",
       "}\r\n",
       ".dni-treeview td {\r\n",
       "    vertical-align: top;\r\n",
       "    text-align: start;\r\n",
       "}\r\n",
       "details.dni-treeview {\r\n",
       "    padding-left: 1em;\r\n",
       "}\r\n",
       "table td {\r\n",
       "    text-align: start;\r\n",
       "}\r\n",
       "table tr { \r\n",
       "    vertical-align: top; \r\n",
       "    margin: 0em 0px;\r\n",
       "}\r\n",
       "table tr td pre \r\n",
       "{ \r\n",
       "    vertical-align: top !important; \r\n",
       "    margin: 0em 0px !important;\r\n",
       "} \r\n",
       "table th {\r\n",
       "    text-align: start;\r\n",
       "}\r\n",
       "</style>"
      ]
     },
     "metadata": {},
     "output_type": "display_data"
    }
   ],
   "source": [
    "var tcs = new TaskCompletionSource<SynchronizationContext>();\n",
    "\n",
    "AppBuilder.Configure<Application>()\n",
    "    .UsePlatformDetect()\n",
    "    .AfterSetup(builder => tcs.SetResult(SynchronizationContext.Current))\n",
    "    .SetupWithLifetime(new ClassicDesktopStyleApplicationLifetime());\n",
    "\n",
    "Application.Current.Styles.Add(new Avalonia.Themes.Fluent.FluentTheme(new Uri(\"avares://MyAssembly\")) \n",
    "{ \n",
    "    Mode = Avalonia.Themes.Fluent.FluentThemeMode.Dark}\n",
    ");\n"
   ]
  },
  {
   "attachments": {},
   "cell_type": "markdown",
   "metadata": {},
   "source": [
    "Definice okna aplikace."
   ]
  },
  {
   "cell_type": "code",
   "execution_count": 7,
   "metadata": {
    "dotnet_interactive": {
     "language": "csharp"
    },
    "polyglot_notebook": {
     "kernelName": "csharp"
    },
    "vscode": {
     "languageId": "polyglot-notebook"
    }
   },
   "outputs": [],
   "source": [
    "class MyWindow : Window\n",
    "{\n",
    "    Task<int> DlouhoBeziciMetodaAsync()\n",
    "    {\n",
    "        return Task.Run(() =>\n",
    "        {\n",
    "            System.Threading.Thread.Sleep(1000);\n",
    "            return Random.Shared.Next(0, 100);\n",
    "        });\n",
    "    }\n",
    "\n",
    "    public MyWindow()\n",
    "    {\n",
    "        Button button = new Button() { Content = \"Click\" };\n",
    "        TextBlock textBlock = new TextBlock() { Text = \"Empty\" };\n",
    "\n",
    "        button.Click += async (sender, args) =>\n",
    "        {\n",
    "            int vysledek = await DlouhoBeziciMetodaAsync();\n",
    "\n",
    "            textBlock.Text = vysledek.ToString();\n",
    "        };\n",
    "\n",
    "        Content = new StackPanel() \n",
    "        {\n",
    "            Children = \n",
    "            {\n",
    "                textBlock,\n",
    "                button\n",
    "            }\n",
    "        };\n",
    "    }   \n",
    "}"
   ]
  },
  {
   "attachments": {},
   "cell_type": "markdown",
   "metadata": {},
   "source": [
    "Zobrazení okna aplikace."
   ]
  },
  {
   "cell_type": "code",
   "execution_count": 10,
   "metadata": {
    "dotnet_interactive": {
     "language": "csharp"
    },
    "polyglot_notebook": {
     "kernelName": "csharp"
    },
    "vscode": {
     "languageId": "polyglot-notebook"
    }
   },
   "outputs": [
    {
     "ename": "Error",
     "evalue": "System.NullReferenceException: Object reference not set to an instance of an object.\r\n   at Submission#11.<<Initialize>>d__0.MoveNext()\r\n--- End of stack trace from previous location ---\r\n   at Microsoft.CodeAnalysis.Scripting.ScriptExecutionState.RunSubmissionsAsync[TResult](ImmutableArray`1 precedingExecutors, Func`2 currentExecutor, StrongBox`1 exceptionHolderOpt, Func`2 catchExceptionOpt, CancellationToken cancellationToken)",
     "output_type": "error",
     "traceback": [
      "System.NullReferenceException: Object reference not set to an instance of an object.\r\n",
      "   at Submission#11.<<Initialize>>d__0.MoveNext()\r\n",
      "--- End of stack trace from previous location ---\r\n",
      "   at Microsoft.CodeAnalysis.Scripting.ScriptExecutionState.RunSubmissionsAsync[TResult](ImmutableArray`1 precedingExecutors, Func`2 currentExecutor, StrongBox`1 exceptionHolderOpt, Func`2 catchExceptionOpt, CancellationToken cancellationToken)"
     ]
    }
   ],
   "source": [
    "SynchronizationContext.SetSynchronizationContext(tcs.Task.Result);\n",
    "Application.Current.Run(new MyWindow());"
   ]
  },
  {
   "cell_type": "code",
   "execution_count": null,
   "metadata": {
    "dotnet_interactive": {
     "language": "csharp"
    },
    "polyglot_notebook": {
     "kernelName": "csharp"
    },
    "vscode": {
     "languageId": "polyglot-notebook"
    }
   },
   "outputs": [],
   "source": [
    "class Program\n",
    "{\n",
    "  // This method is needed for IDE previewer infrastructure\n",
    "  public static AppBuilder BuildAvaloniaApp() \n",
    "    => AppBuilder.Configure<Application>().UsePlatformDetect();\n",
    "\n",
    "  // The entry point. Things aren't ready yet, so at this point\n",
    "  // you shouldn't use any Avalonia types or anything that expects\n",
    "  // a SynchronizationContext to be ready\n",
    "  public static void Start(string[] args) => BuildAvaloniaApp().Start(AppMain, args);\n",
    "\n",
    "  // Application entry point. Avalonia is completely initialized.\n",
    "  static void AppMain(Application app, string[] args)\n",
    "  {\n",
    "    \n",
    "     // A cancellation token source that will be used to stop the main loop\n",
    "    Window window = new Window();\n",
    "    window.Closed += (sender, args) => \n",
    "    {\n",
    "      Console.WriteLine(\"Closed\");\n",
    "\n",
    "    } ;\n",
    "\n",
    "  \n",
    "    window.Closed += (sender, args) => \n",
    "    {\n",
    "      Console.WriteLine(\"Closed\");\n",
    "\n",
    "    } ;\n",
    "     \n",
    "     // Do you startup code here\n",
    "     //new Window().Show();\n",
    "\n",
    "     // Start the main loop\n",
    "    app.start\n",
    "    \n",
    "  }\n",
    "}\n",
    "\n"
   ]
  },
  {
   "cell_type": "code",
   "execution_count": null,
   "metadata": {
    "dotnet_interactive": {
     "language": "csharp"
    },
    "polyglot_notebook": {
     "kernelName": "csharp"
    },
    "vscode": {
     "languageId": "polyglot-notebook"
    }
   },
   "outputs": [],
   "source": [
    "Program.Start(new string[0]);"
   ]
  },
  {
   "cell_type": "code",
   "execution_count": null,
   "metadata": {
    "dotnet_interactive": {
     "language": "csharp"
    },
    "polyglot_notebook": {
     "kernelName": "csharp"
    },
    "vscode": {
     "languageId": "polyglot-notebook"
    }
   },
   "outputs": [],
   "source": [
    "Program.cts.Cancel();"
   ]
  },
  {
   "cell_type": "code",
   "execution_count": null,
   "metadata": {
    "dotnet_interactive": {
     "language": "csharp"
    },
    "polyglot_notebook": {
     "kernelName": "csharp"
    },
    "vscode": {
     "languageId": "polyglot-notebook"
    }
   },
   "outputs": [],
   "source": [
    "Program.cts"
   ]
  },
  {
   "cell_type": "code",
   "execution_count": null,
   "metadata": {
    "dotnet_interactive": {
     "language": "csharp"
    },
    "polyglot_notebook": {
     "kernelName": "csharp"
    },
    "vscode": {
     "languageId": "polyglot-notebook"
    }
   },
   "outputs": [],
   "source": [
    "\n",
    "\n",
    "if(Application.Current.ApplicationLifetime is ClassicDesktopStyleApplicationLifetime desktop)\n",
    "{\n",
    "    Window window = new Window() \n",
    "    { \n",
    "        Title = \"Avalonia\"\n",
    "    };\n",
    "\n",
    "    TextBlock textBlock = new TextBlock() \n",
    "    { \n",
    "        Text = \"Hello!\", \n",
    "        HorizontalAlignment = HorizontalAlignment.Center, \n",
    "        VerticalAlignment = VerticalAlignment.Center \n",
    "    };\n",
    "\n",
    "    window.Content = textBlock;\n",
    "\n",
    "    desktop.MainWindow = window;\n",
    "\n",
    "    desktop.Start(new string[0]);\n",
    "}"
   ]
  },
  {
   "cell_type": "code",
   "execution_count": null,
   "metadata": {
    "dotnet_interactive": {
     "language": "csharp"
    },
    "polyglot_notebook": {
     "kernelName": "csharp"
    },
    "vscode": {
     "languageId": "polyglot-notebook"
    }
   },
   "outputs": [],
   "source": [
    "AppBuilder appBuilder = AppBuilder.Configure<Application>().UsePlatformDetect();\n"
   ]
  },
  {
   "cell_type": "code",
   "execution_count": null,
   "metadata": {
    "dotnet_interactive": {
     "language": "csharp"
    },
    "polyglot_notebook": {
     "kernelName": "csharp"
    },
    "vscode": {
     "languageId": "polyglot-notebook"
    }
   },
   "outputs": [],
   "source": [
    "appBuilder.Instance"
   ]
  },
  {
   "cell_type": "code",
   "execution_count": null,
   "metadata": {
    "dotnet_interactive": {
     "language": "csharp"
    },
    "polyglot_notebook": {
     "kernelName": "csharp"
    },
    "vscode": {
     "languageId": "polyglot-notebook"
    }
   },
   "outputs": [],
   "source": [
    "Application.Current"
   ]
  },
  {
   "cell_type": "code",
   "execution_count": null,
   "metadata": {
    "dotnet_interactive": {
     "language": "csharp"
    },
    "polyglot_notebook": {
     "kernelName": "csharp"
    },
    "vscode": {
     "languageId": "polyglot-notebook"
    }
   },
   "outputs": [],
   "source": [
    "appBuilder.UsePlatformDetect().SetupWithLifetime(new ClassicDesktopStyleApplicationLifetime());"
   ]
  },
  {
   "cell_type": "code",
   "execution_count": null,
   "metadata": {
    "dotnet_interactive": {
     "language": "csharp"
    },
    "polyglot_notebook": {
     "kernelName": "csharp"
    },
    "vscode": {
     "languageId": "polyglot-notebook"
    }
   },
   "outputs": [],
   "source": [
    "{\n",
    "    \n",
    "    appBuilder.UsePlatformDetect().SetupWithLifetime(new ClassicDesktopStyleApplicationLifetime());\n",
    "\n",
    "    Application.Current.Styles.Add(new Avalonia.Themes.Fluent.FluentTheme(new Uri(\"avares://MyAssembly\")) \n",
    "    { \n",
    "        Mode = Avalonia.Themes.Fluent.FluentThemeMode.Dark}\n",
    "    );\n",
    "\n",
    "    if(Application.Current.ApplicationLifetime is ClassicDesktopStyleApplicationLifetime desktop) \n",
    "    {\n",
    "        desktop.Shutdown();\n",
    "        desktop.Start(new string[0]);\n",
    "    }\n",
    "}\n",
    "\n",
    "GC.Collect();\n",
    "\n"
   ]
  },
  {
   "cell_type": "code",
   "execution_count": null,
   "metadata": {
    "dotnet_interactive": {
     "language": "csharp"
    },
    "polyglot_notebook": {
     "kernelName": "csharp"
    },
    "vscode": {
     "languageId": "polyglot-notebook"
    }
   },
   "outputs": [],
   "source": [
    "AppBuilder.Configure<Application>()"
   ]
  },
  {
   "cell_type": "code",
   "execution_count": null,
   "metadata": {
    "dotnet_interactive": {
     "language": "csharp"
    },
    "polyglot_notebook": {
     "kernelName": "csharp"
    },
    "vscode": {
     "languageId": "polyglot-notebook"
    }
   },
   "outputs": [],
   "source": [
    "desktop.Dispose();"
   ]
  },
  {
   "cell_type": "code",
   "execution_count": null,
   "metadata": {
    "dotnet_interactive": {
     "language": "csharp"
    },
    "polyglot_notebook": {
     "kernelName": "csharp"
    },
    "vscode": {
     "languageId": "polyglot-notebook"
    }
   },
   "outputs": [],
   "source": [
    "using System;\n",
    "using System.Reflection;\n",
    "\n",
    "var fields = typeof(AppBuilder).GetFields( BindingFlags.Static | BindingFlags.NonPublic);\n",
    "fields"
   ]
  },
  {
   "cell_type": "code",
   "execution_count": null,
   "metadata": {
    "dotnet_interactive": {
     "language": "csharp"
    },
    "polyglot_notebook": {
     "kernelName": "csharp"
    },
    "vscode": {
     "languageId": "polyglot-notebook"
    }
   },
   "outputs": [],
   "source": [
    "\n",
    "using System.Reflection;\n",
    "\n",
    "if(Application.Current.ApplicationLifetime is ClassicDesktopStyleApplicationLifetime desktopOriginal)\n",
    "{\n",
    "    desktopOriginal.Shutdown();\n",
    "    desktopOriginal.Dispose();\n",
    "    Application.Current.ApplicationLifetime = null;\n",
    "}\n",
    "\n",
    "var field = typeof(AppBuilder).GetField(\"s_setupWasAlreadyCalled\", BindingFlags.Static | BindingFlags.NonPublic);\n",
    "field.SetValue(null, false);\n",
    "\n",
    "AppBuilder.Configure<Application>().UsePlatformDetect().SetupWithLifetime(new ClassicDesktopStyleApplicationLifetime());\n",
    "\n",
    "/*Application.Current.Styles.Add(new Avalonia.Themes.Fluent.FluentTheme(new Uri(\"avares://MyAssembly\")) \n",
    "{ \n",
    "    Mode = Avalonia.Themes.Fluent.FluentThemeMode.Dark\n",
    "});*/\n"
   ]
  },
  {
   "cell_type": "code",
   "execution_count": null,
   "metadata": {
    "dotnet_interactive": {
     "language": "csharp"
    },
    "polyglot_notebook": {
     "kernelName": "csharp"
    },
    "vscode": {
     "languageId": "polyglot-notebook"
    }
   },
   "outputs": [],
   "source": [
    "await Avalonia.Threading.Dispatcher.UIThread.(() =>\n",
    "{\n",
    "    Console.WriteLine(\"ano\");\n",
    "});"
   ]
  },
  {
   "cell_type": "code",
   "execution_count": null,
   "metadata": {
    "dotnet_interactive": {
     "language": "csharp"
    },
    "polyglot_notebook": {
     "kernelName": "csharp"
    },
    "vscode": {
     "languageId": "polyglot-notebook"
    }
   },
   "outputs": [],
   "source": [
    "Task<int> DlouhoBeziciMetodaAsync()\n",
    "{\n",
    "    return Task.Run(() =>\n",
    "    {\n",
    "         System.Threading.Thread.Sleep(1000);\n",
    "         return Random.Shared.Next(0, 100);\n",
    "    });\n",
    "}\n",
    "\n",
    "\n",
    "/*if(Application.Current.ApplicationLifetime is ClassicDesktopStyleApplicationLifetime desktopOriginal)\n",
    "{\n",
    "    desktopOriginal.Shutdown();\n",
    "    desktopOriginal.Dispose();\n",
    "    Application.Current.ApplicationLifetime = null;\n",
    "    GC.Collect();\n",
    "    Application.Current.ApplicationLifetime = new ClassicDesktopStyleApplicationLifetime();\n",
    "}*/\n",
    "\n",
    "System.Threading.Thread.Sleep(1000);\n",
    "\n",
    "if(Application.Current.ApplicationLifetime is ClassicDesktopStyleApplicationLifetime desktop)\n",
    "{\n",
    "    TextBlock textBlock = new TextBlock() \n",
    "    { \n",
    "        Text = \"Hello!\", \n",
    "        HorizontalAlignment = HorizontalAlignment.Center, \n",
    "        VerticalAlignment = VerticalAlignment.Center \n",
    "    };\n",
    "\n",
    "    Button button = new Button() { Content = \"Click\" };\n",
    "\n",
    "    button.Click += async (sender, args) => \n",
    "    {\n",
    "        Console.WriteLine($\"Click before await: {System.Threading.Thread.CurrentThread.ManagedThreadId}\");\n",
    "\n",
    "        int vysledek = await DlouhoBeziciMetodaAsync();\n",
    "        Console.WriteLine($\"hotovo: {vysledek}\");\n",
    "        \n",
    "        Console.WriteLine($\"Click after await: {System.Threading.Thread.CurrentThread.ManagedThreadId}\");\n",
    "        //textBlock.Text = vysledek.ToString();\n",
    "    };\n",
    "\n",
    "\n",
    "    Window window = new Window() \n",
    "    { \n",
    "        Title = \"Avalonia\",\n",
    "        Content = new StackPanel()\n",
    "        {\n",
    "            HorizontalAlignment = HorizontalAlignment.Center,\n",
    "            VerticalAlignment = VerticalAlignment.Center,\n",
    "            Children =\n",
    "            {\n",
    "                textBlock,\n",
    "                button\n",
    "            }\n",
    "        }\n",
    "    };\n",
    "\n",
    "    desktop.MainWindow = window;\n",
    "    desktop.Start(new string[0]);\n",
    "    //window.Show();\n",
    "}\n",
    "\n",
    "\n"
   ]
  },
  {
   "cell_type": "code",
   "execution_count": null,
   "metadata": {
    "dotnet_interactive": {
     "language": "csharp"
    },
    "polyglot_notebook": {
     "kernelName": "csharp"
    },
    "vscode": {
     "languageId": "polyglot-notebook"
    }
   },
   "outputs": [],
   "source": [
    "\n",
    "Task<int> DlouhoBeziciMetodaAsync()\n",
    "{\n",
    "    return Task.Run(() =>\n",
    "    {\n",
    "         System.Threading.Thread.Sleep(1000);\n",
    "         return Random.Shared.Next(0, 100);\n",
    "    });\n",
    "}\n",
    "\n",
    "\n",
    "Console.WriteLine($\"Main: {System.Threading.Thread.CurrentThread.ManagedThreadId}\");\n",
    "\n",
    "if(Application.Current.ApplicationLifetime is not ClassicDesktopStyleApplicationLifetime desktop) return;\n",
    "\n",
    "TextBlock textBlock = new TextBlock() \n",
    "{ \n",
    "    Text = \"Hello!\", \n",
    "    HorizontalAlignment = HorizontalAlignment.Center, \n",
    "    VerticalAlignment = VerticalAlignment.Center \n",
    "};\n",
    "\n",
    "Button button = new Button() { Content = \"Click\" };\n",
    "\n",
    "button.Click += async (sender, args) => \n",
    "{\n",
    "    Console.WriteLine($\"Click before await: {System.Threading.Thread.CurrentThread.ManagedThreadId}\");\n",
    "\n",
    "    int vysledek = await DlouhoBeziciMetodaAsync();\n",
    "    Console.WriteLine($\"hotovo: {vysledek}\");\n",
    "    \n",
    "    Console.WriteLine($\"Click after await: {System.Threading.Thread.CurrentThread.ManagedThreadId}\");\n",
    "    //textBlock.Text = vysledek.ToString();\n",
    "};\n",
    "\n",
    "\n",
    "Window window = new Window() \n",
    "{ \n",
    "    Title = \"Avalonia\",\n",
    "    Content = new StackPanel()\n",
    "    {\n",
    "        HorizontalAlignment = HorizontalAlignment.Center,\n",
    "        VerticalAlignment = VerticalAlignment.Center,\n",
    "        Children =\n",
    "        {\n",
    "            textBlock,\n",
    "            button\n",
    "        }\n",
    "    }\n",
    "};\n",
    "\n",
    "desktop.MainWindow = window;\n",
    "\n",
    "\n",
    "window.Show();\n",
    "desktop.Start(new string[0]);\n",
    "\n",
    "\n"
   ]
  },
  {
   "cell_type": "code",
   "execution_count": null,
   "metadata": {
    "dotnet_interactive": {
     "language": "csharp"
    },
    "polyglot_notebook": {
     "kernelName": "csharp"
    },
    "vscode": {
     "languageId": "polyglot-notebook"
    }
   },
   "outputs": [],
   "source": [
    "void Test()\n",
    "{\n",
    "    Console.WriteLine(\"ahoj\");\n",
    "}\n",
    "\n",
    "await Avalonia.Threading.Dispatcher.UIThread.InvokeAsync(Test, Avalonia.Threading.DispatcherPriority.Background);"
   ]
  }
 ],
 "metadata": {
  "language_info": {
   "name": "csharp"
  },
  "orig_nbformat": 4
 },
 "nbformat": 4,
 "nbformat_minor": 2
}
