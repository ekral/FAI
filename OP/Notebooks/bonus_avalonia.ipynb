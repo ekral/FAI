{
 "cells": [
  {
   "attachments": {},
   "cell_type": "markdown",
   "metadata": {},
   "source": [
    "## Avalonia"
   ]
  },
  {
   "cell_type": "code",
   "execution_count": null,
   "metadata": {
    "dotnet_interactive": {
     "language": "csharp"
    },
    "polyglot_notebook": {
     "kernelName": "csharp"
    },
    "vscode": {
     "languageId": "polyglot-notebook"
    }
   },
   "outputs": [],
   "source": [
    "#r \"nuget: Avalonia.Desktop\"\n",
    "\n",
    "using Avalonia;\n",
    "using Avalonia.Controls;\n",
    "using Avalonia.Controls.ApplicationLifetimes;\n",
    "using Avalonia.Layout;"
   ]
  },
  {
   "cell_type": "code",
   "execution_count": null,
   "metadata": {
    "dotnet_interactive": {
     "language": "csharp"
    },
    "polyglot_notebook": {
     "kernelName": "csharp"
    },
    "vscode": {
     "languageId": "polyglot-notebook"
    }
   },
   "outputs": [],
   "source": [
    "if(Application.Current is null)\n",
    "{\n",
    "    AppBuilder.Configure<Application>().UsePlatformDetect().SetupWithLifetime(new ClassicDesktopStyleApplicationLifetime());\n",
    "\n",
    "    Application.Current.Styles.Add(new Avalonia.Themes.Fluent.FluentTheme(new Uri(\"avares://MyAssembly\")) { Mode = Avalonia.Themes.Fluent.FluentThemeMode.Dark});\n",
    "}"
   ]
  },
  {
   "cell_type": "code",
   "execution_count": null,
   "metadata": {
    "dotnet_interactive": {
     "language": "csharp"
    },
    "polyglot_notebook": {
     "kernelName": "csharp"
    },
    "vscode": {
     "languageId": "polyglot-notebook"
    }
   },
   "outputs": [],
   "source": [
    "if(Application.Current.ApplicationLifetime is ClassicDesktopStyleApplicationLifetime desktop)\n",
    "{\n",
    "    Window window = new Window() \n",
    "    { \n",
    "        Title = \"Avalonia\"\n",
    "    };\n",
    "\n",
    "    TextBlock textBlock = new TextBlock() \n",
    "    { \n",
    "        Text = \"Ahoj\", \n",
    "        HorizontalAlignment = HorizontalAlignment.Center, \n",
    "        VerticalAlignment = VerticalAlignment.Center \n",
    "    };\n",
    "\n",
    "    window.Content = textBlock;\n",
    "\n",
    "    desktop.MainWindow = window;\n",
    "\n",
    "    desktop.Start(new string[0]);\n",
    "}"
   ]
  }
 ],
 "metadata": {
  "language_info": {
   "name": "csharp"
  },
  "orig_nbformat": 4
 },
 "nbformat": 4,
 "nbformat_minor": 2
}
