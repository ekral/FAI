{
 "cells": [
  {
   "attachments": {},
   "cell_type": "markdown",
   "metadata": {},
   "source": [
    "## Avalonia"
   ]
  },
  {
   "cell_type": "code",
   "execution_count": 5,
   "metadata": {
    "dotnet_interactive": {
     "language": "csharp"
    },
    "polyglot_notebook": {
     "kernelName": "csharp"
    },
    "vscode": {
     "languageId": "polyglot-notebook"
    }
   },
   "outputs": [
    {
     "data": {
      "text/html": [
       "<div><div></div><div></div><div><strong>Installed Packages</strong><ul><li><span>Avalonia.Desktop, 0.10.19</span></li></ul></div></div>"
      ]
     },
     "metadata": {},
     "output_type": "display_data"
    }
   ],
   "source": [
    "#r \"nuget: Avalonia.Desktop\"\n",
    "\n",
    "using Avalonia;\n",
    "using Avalonia.Controls;\n",
    "using Avalonia.Controls.ApplicationLifetimes;\n",
    "using Avalonia.Layout;"
   ]
  },
  {
   "cell_type": "code",
   "execution_count": 6,
   "metadata": {
    "dotnet_interactive": {
     "language": "csharp"
    },
    "polyglot_notebook": {
     "kernelName": "csharp"
    },
    "vscode": {
     "languageId": "polyglot-notebook"
    }
   },
   "outputs": [],
   "source": [
    "if(Application.Current is null)\n",
    "{\n",
    "    AppBuilder.Configure<Application>().UsePlatformDetect().SetupWithLifetime(new ClassicDesktopStyleApplicationLifetime());\n",
    "\n",
    "    Application.Current.Styles.Add(new Avalonia.Themes.Fluent.FluentTheme(new Uri(\"avares://MyAssembly\")) \n",
    "    { \n",
    "        Mode = Avalonia.Themes.Fluent.FluentThemeMode.Dark}\n",
    "    );\n",
    "}"
   ]
  },
  {
   "cell_type": "code",
   "execution_count": 8,
   "metadata": {
    "dotnet_interactive": {
     "language": "csharp"
    },
    "polyglot_notebook": {
     "kernelName": "csharp"
    },
    "vscode": {
     "languageId": "polyglot-notebook"
    }
   },
   "outputs": [],
   "source": [
    "if(Application.Current.ApplicationLifetime is ClassicDesktopStyleApplicationLifetime desktop)\n",
    "{\n",
    "    Window window = new Window() \n",
    "    { \n",
    "        Title = \"Avalonia\"\n",
    "    };\n",
    "\n",
    "    TextBlock textBlock = new TextBlock() \n",
    "    { \n",
    "        Text = \"Hello!\", \n",
    "        HorizontalAlignment = HorizontalAlignment.Center, \n",
    "        VerticalAlignment = VerticalAlignment.Center \n",
    "    };\n",
    "\n",
    "    window.Content = textBlock;\n",
    "\n",
    "    desktop.MainWindow = window;\n",
    "\n",
    "    desktop.Start(new string[0]);\n",
    "}"
   ]
  }
 ],
 "metadata": {
  "language_info": {
   "name": "csharp"
  },
  "orig_nbformat": 4
 },
 "nbformat": 4,
 "nbformat_minor": 2
}
