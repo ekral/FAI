{
 "cells": [
  {
   "cell_type": "code",
   "execution_count": 102,
   "metadata": {
    "dotnet_interactive": {
     "language": "csharp"
    },
    "polyglot_notebook": {
     "kernelName": "csharp"
    },
    "vscode": {
     "languageId": "polyglot-notebook"
    }
   },
   "outputs": [
    {
     "name": "stdout",
     "output_type": "stream",
     "text": [
      "True\n",
      "True\n",
      "False\n",
      "True\n",
      "True\n"
     ]
    }
   ],
   "source": [
    "int x = 2;\n",
    "int y = 2;\n",
    "\n",
    "Console.WriteLine(object.Equals(x, y)); // boxing\n",
    "Console.WriteLine(x.Equals(y));\n",
    "Console.WriteLine(object.ReferenceEquals(x, y)); // boxing\n",
    "Console.WriteLine(x == y);\n",
    "Console.WriteLine(EqualityComparer<int>.Default.Equals(x , y));"
   ]
  },
  {
   "cell_type": "code",
   "execution_count": 44,
   "metadata": {
    "dotnet_interactive": {
     "language": "csharp"
    },
    "polyglot_notebook": {
     "kernelName": "csharp"
    },
    "vscode": {
     "languageId": "polyglot-notebook"
    }
   },
   "outputs": [],
   "source": [
    "class Student\n",
    "{\n",
    "    string Jmeno {get;set;}\n",
    "\n",
    "    public Student(string jmeno)\n",
    "    {\n",
    "        Jmeno = jmeno;\n",
    "    }\n",
    "}"
   ]
  },
  {
   "cell_type": "code",
   "execution_count": 157,
   "metadata": {
    "dotnet_interactive": {
     "language": "csharp"
    },
    "polyglot_notebook": {
     "kernelName": "csharp"
    },
    "vscode": {
     "languageId": "polyglot-notebook"
    }
   },
   "outputs": [],
   "source": [
    "class Student  : IEquatable<Student>\n",
    "{\n",
    "    string Jmeno {get;set;}\n",
    "\n",
    "    public Student(string jmeno)\n",
    "    {\n",
    "        Jmeno = jmeno;\n",
    "    }\n",
    "\n",
    "    public bool Equals(Student otherStudent)\n",
    "    {\n",
    "        Console.Write(\"IEquatable.Equals: \");\n",
    "        \n",
    "        return Jmeno == otherStudent.Jmeno;\n",
    "    }\n",
    "\n",
    "    public override bool Equals(object other)\n",
    "    {\n",
    "        Console.Write(\"object.Equals: \");\n",
    "        \n",
    "        if(other is not Student otherStudent) return false;\n",
    "\n",
    "        return Jmeno == otherStudent.Jmeno;\n",
    "    }\n",
    "\n",
    "    public static bool operator == (Student student1, Student student2)\n",
    "    {\n",
    "        Console.Write(\"overloaded operator == : \");\n",
    "\n",
    "        return student1.Jmeno == student2.Jmeno;\n",
    "    }\n",
    "\n",
    "    public static bool operator != (Student student1, Student student2)\n",
    "    {\n",
    "        Console.Write(\"overloaded operator != : \");\n",
    "        \n",
    "        return student1.Jmeno != student2.Jmeno;\n",
    "    }\n",
    "\n",
    "    public override int GetHashCode()\n",
    "    {\n",
    "        return Jmeno.GetHashCode();\n",
    "    }\n",
    "}"
   ]
  },
  {
   "cell_type": "code",
   "execution_count": 130,
   "metadata": {
    "dotnet_interactive": {
     "language": "csharp"
    },
    "polyglot_notebook": {
     "kernelName": "csharp"
    },
    "vscode": {
     "languageId": "polyglot-notebook"
    }
   },
   "outputs": [],
   "source": [
    "Student s1 = new(\"Jiri\");\n",
    "Student s2 = s1;"
   ]
  },
  {
   "cell_type": "code",
   "execution_count": 158,
   "metadata": {
    "dotnet_interactive": {
     "language": "csharp"
    },
    "polyglot_notebook": {
     "kernelName": "csharp"
    },
    "vscode": {
     "languageId": "polyglot-notebook"
    }
   },
   "outputs": [],
   "source": [
    "Student s1 = new(\"Jiri\");\n",
    "Student s2 = new(\"Jiri\");"
   ]
  },
  {
   "cell_type": "code",
   "execution_count": 106,
   "metadata": {
    "dotnet_interactive": {
     "language": "csharp"
    },
    "polyglot_notebook": {
     "kernelName": "csharp"
    },
    "vscode": {
     "languageId": "polyglot-notebook"
    }
   },
   "outputs": [],
   "source": [
    "Student s1 = new(\"Jiri\");\n",
    "Student s2 = new(\"Karel\");"
   ]
  },
  {
   "cell_type": "code",
   "execution_count": 161,
   "metadata": {
    "dotnet_interactive": {
     "language": "csharp"
    },
    "polyglot_notebook": {
     "kernelName": "csharp"
    },
    "vscode": {
     "languageId": "polyglot-notebook"
    }
   },
   "outputs": [
    {
     "name": "stdout",
     "output_type": "stream",
     "text": [
      "object.Equals: True\n",
      "IEquatable.Equals: True\n",
      "False\n",
      "overloaded operator == : True\n",
      "IEquatable.Equals: True\n"
     ]
    }
   ],
   "source": [
    "Console.WriteLine(object.Equals(s1, s2)); // boxing\n",
    "Console.WriteLine(s1.Equals(s2)); // call generic Equals\n",
    "Console.WriteLine(object.ReferenceEquals(s1, s2)); // boxing\n",
    "Console.WriteLine(s1 == s2);\n",
    "Console.WriteLine(EqualityComparer<Student>.Default.Equals(s1 , s2));"
   ]
  },
  {
   "cell_type": "code",
   "execution_count": 163,
   "metadata": {
    "dotnet_interactive": {
     "language": "csharp"
    },
    "polyglot_notebook": {
     "kernelName": "csharp"
    },
    "vscode": {
     "languageId": "polyglot-notebook"
    }
   },
   "outputs": [],
   "source": [
    "void GenericMethod<T>(T t1, T t2)\n",
    "{\n",
    "    Console.WriteLine(object.Equals(t1, t2)); // boxing\n",
    "    Console.WriteLine(t1.Equals(t2));  // call object.Equals\n",
    "    Console.WriteLine(object.ReferenceEquals(t1, t2)); // boxing\n",
    "    //Console.WriteLine(t1 == t2); // nemuze zkontrolovat zda jde o stejne typy\n",
    "    Console.WriteLine(EqualityComparer<T>.Default.Equals(t1 , t2));\n",
    "}"
   ]
  },
  {
   "cell_type": "code",
   "execution_count": 160,
   "metadata": {
    "dotnet_interactive": {
     "language": "csharp"
    },
    "polyglot_notebook": {
     "kernelName": "csharp"
    },
    "vscode": {
     "languageId": "polyglot-notebook"
    }
   },
   "outputs": [
    {
     "name": "stdout",
     "output_type": "stream",
     "text": [
      "object.Equals: True\n",
      "object.Equals: True\n",
      "False\n",
      "IEquatable.Equals: True\n"
     ]
    }
   ],
   "source": [
    "GenericMethod(s1, s2);"
   ]
  }
 ],
 "metadata": {
  "language_info": {
   "name": "csharp"
  },
  "orig_nbformat": 4
 },
 "nbformat": 4,
 "nbformat_minor": 2
}
