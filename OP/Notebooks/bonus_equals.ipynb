{
 "cells": [
  {
   "cell_type": "code",
   "execution_count": null,
   "metadata": {
    "dotnet_interactive": {
     "language": "csharp"
    },
    "polyglot_notebook": {
     "kernelName": "csharp"
    },
    "vscode": {
     "languageId": "polyglot-notebook"
    }
   },
   "outputs": [],
   "source": [
    "int x = 2;\n",
    "int y = 2;\n",
    "\n",
    "Console.WriteLine(object.Equals(x, y)); // boxing\n",
    "Console.WriteLine(x.Equals(y));\n",
    "Console.WriteLine(object.ReferenceEquals(x, y)); // boxing\n",
    "Console.WriteLine(x == y);\n",
    "Console.WriteLine(EqualityComparer<int>.Default.Equals(x , y));"
   ]
  },
  {
   "cell_type": "code",
   "execution_count": null,
   "metadata": {
    "dotnet_interactive": {
     "language": "csharp"
    },
    "polyglot_notebook": {
     "kernelName": "csharp"
    },
    "vscode": {
     "languageId": "polyglot-notebook"
    }
   },
   "outputs": [],
   "source": [
    "class Student\n",
    "{\n",
    "    string Jmeno {get;set;}\n",
    "\n",
    "    public Student(string jmeno)\n",
    "    {\n",
    "        Jmeno = jmeno;\n",
    "    }\n",
    "}"
   ]
  },
  {
   "cell_type": "code",
   "execution_count": 4,
   "metadata": {
    "dotnet_interactive": {
     "language": "csharp"
    },
    "polyglot_notebook": {
     "kernelName": "csharp"
    },
    "vscode": {
     "languageId": "polyglot-notebook"
    }
   },
   "outputs": [],
   "source": [
    "class Student  : IEquatable<Student>\n",
    "{\n",
    "    public string Jmeno {get;set;}\n",
    "\n",
    "    public Student(string jmeno)\n",
    "    {\n",
    "        Jmeno = jmeno;\n",
    "    }\n",
    "\n",
    "    public bool Equals(Student otherStudent)\n",
    "    {\n",
    "        Console.Write(\"IEquatable.Equals: \");\n",
    "        \n",
    "        return Jmeno == otherStudent.Jmeno;\n",
    "    }\n",
    "\n",
    "    public override bool Equals(object other)\n",
    "    {\n",
    "        Console.Write(\"object.Equals: \");\n",
    "        \n",
    "        if(other is not Student otherStudent) return false;\n",
    "\n",
    "        return Jmeno == otherStudent.Jmeno;\n",
    "    }\n",
    "\n",
    "    public static bool operator == (Student student1, Student student2)\n",
    "    {\n",
    "        Console.Write(\"overloaded operator == : \");\n",
    "\n",
    "        return student1.Jmeno == student2.Jmeno;\n",
    "    }\n",
    "\n",
    "    public static bool operator != (Student student1, Student student2)\n",
    "    {\n",
    "        Console.Write(\"overloaded operator != : \");\n",
    "        \n",
    "        return student1.Jmeno != student2.Jmeno;\n",
    "    }\n",
    "\n",
    "    public override int GetHashCode()\n",
    "    {\n",
    "        return Jmeno.GetHashCode();\n",
    "    }\n",
    "\n",
    "    public override string ToString() => $\"Student: {Jmeno}\";\n",
    "}"
   ]
  },
  {
   "cell_type": "code",
   "execution_count": null,
   "metadata": {
    "dotnet_interactive": {
     "language": "csharp"
    },
    "polyglot_notebook": {
     "kernelName": "csharp"
    },
    "vscode": {
     "languageId": "polyglot-notebook"
    }
   },
   "outputs": [],
   "source": [
    "Student s1 = new(\"Jiri\");\n",
    "Student s2 = s1;"
   ]
  },
  {
   "cell_type": "code",
   "execution_count": null,
   "metadata": {
    "dotnet_interactive": {
     "language": "csharp"
    },
    "polyglot_notebook": {
     "kernelName": "csharp"
    },
    "vscode": {
     "languageId": "polyglot-notebook"
    }
   },
   "outputs": [],
   "source": [
    "Student s1 = new(\"Jiri\");\n",
    "Student s2 = new(\"Jiri\");"
   ]
  },
  {
   "cell_type": "code",
   "execution_count": null,
   "metadata": {
    "dotnet_interactive": {
     "language": "csharp"
    },
    "polyglot_notebook": {
     "kernelName": "csharp"
    },
    "vscode": {
     "languageId": "polyglot-notebook"
    }
   },
   "outputs": [],
   "source": [
    "Student s1 = new(\"Jiri\");\n",
    "Student s2 = new(\"Karel\");"
   ]
  },
  {
   "cell_type": "code",
   "execution_count": null,
   "metadata": {
    "dotnet_interactive": {
     "language": "csharp"
    },
    "polyglot_notebook": {
     "kernelName": "csharp"
    },
    "vscode": {
     "languageId": "polyglot-notebook"
    }
   },
   "outputs": [],
   "source": [
    "Console.WriteLine(object.Equals(s1, s2)); // boxing\n",
    "Console.WriteLine(s1.Equals(s2)); // call generic Equals\n",
    "Console.WriteLine(object.ReferenceEquals(s1, s2)); // boxing\n",
    "Console.WriteLine(s1 == s2);\n",
    "Console.WriteLine(EqualityComparer<Student>.Default.Equals(s1 , s2));"
   ]
  },
  {
   "cell_type": "code",
   "execution_count": null,
   "metadata": {
    "dotnet_interactive": {
     "language": "csharp"
    },
    "polyglot_notebook": {
     "kernelName": "csharp"
    },
    "vscode": {
     "languageId": "polyglot-notebook"
    }
   },
   "outputs": [],
   "source": [
    "void GenericMethod<T>(T t1, T t2)\n",
    "{\n",
    "    Console.WriteLine(object.Equals(t1, t2)); // boxing\n",
    "    Console.WriteLine(t1.Equals(t2));  // call object.Equals\n",
    "    Console.WriteLine(object.ReferenceEquals(t1, t2)); // boxing\n",
    "    //Console.WriteLine(t1 == t2); // nemuze zkontrolovat zda jde o stejne typy\n",
    "    Console.WriteLine(EqualityComparer<T>.Default.Equals(t1 , t2));\n",
    "}"
   ]
  },
  {
   "cell_type": "code",
   "execution_count": 8,
   "metadata": {
    "dotnet_interactive": {
     "language": "csharp"
    },
    "polyglot_notebook": {
     "kernelName": "csharp"
    },
    "vscode": {
     "languageId": "polyglot-notebook"
    }
   },
   "outputs": [
    {
     "name": "stdout",
     "output_type": "stream",
     "text": [
      "IEquatable.Equals: IEquatable.Equals: "
     ]
    },
    {
     "data": {
      "text/html": [
       "<table><thead><tr><th><i>index</i></th><th>value</th></tr></thead><tbody><tr><td>0</td><td><details class=\"dni-treeview\"><summary><span class=\"dni-code-hint\"><code>Student: Alena</code></span></summary><div><table><thead><tr></tr></thead><tbody><tr><td>Jmeno</td><td>Alena</td></tr></tbody></table></div></details></td></tr><tr><td>1</td><td><details class=\"dni-treeview\"><summary><span class=\"dni-code-hint\"><code>Student: Petr</code></span></summary><div><table><thead><tr></tr></thead><tbody><tr><td>Jmeno</td><td>Petr</td></tr></tbody></table></div></details></td></tr></tbody></table><style>\r\n",
       ".dni-code-hint {\r\n",
       "    font-style: italic;\r\n",
       "    overflow: hidden;\r\n",
       "    white-space: nowrap;\r\n",
       "}\r\n",
       ".dni-treeview {\r\n",
       "    white-space: nowrap;\r\n",
       "}\r\n",
       ".dni-treeview td {\r\n",
       "    vertical-align: top;\r\n",
       "    text-align: start;\r\n",
       "}\r\n",
       "details.dni-treeview {\r\n",
       "    padding-left: 1em;\r\n",
       "}\r\n",
       "table td {\r\n",
       "    text-align: start;\r\n",
       "}\r\n",
       "table tr { \r\n",
       "    vertical-align: top; \r\n",
       "    margin: 0em 0px;\r\n",
       "}\r\n",
       "table tr td pre \r\n",
       "{ \r\n",
       "    vertical-align: top !important; \r\n",
       "    margin: 0em 0px !important;\r\n",
       "} \r\n",
       "table th {\r\n",
       "    text-align: start;\r\n",
       "}\r\n",
       "</style>"
      ]
     },
     "metadata": {},
     "output_type": "display_data"
    }
   ],
   "source": [
    "var students = new Student[] { new Student(\"Alena\"), new Student(\"Alena\"), new Student(\"Petr\"), new Student(\"Alena\")};\n",
    "\n",
    "students.Distinct()"
   ]
  },
  {
   "cell_type": "code",
   "execution_count": 5,
   "metadata": {
    "dotnet_interactive": {
     "language": "csharp"
    },
    "polyglot_notebook": {
     "kernelName": "csharp"
    },
    "vscode": {
     "languageId": "polyglot-notebook"
    }
   },
   "outputs": [],
   "source": [
    "sealed class StudentEqualityComparer : System.Collections.Generic.IEqualityComparer<Student>\n",
    "{\n",
    "    public bool Equals(Student student1, Student student2)\n",
    "    {\n",
    "        Console.Write(\"IEqualityComparer.Equals: \");\n",
    "\n",
    "        return student1.Jmeno == student2.Jmeno;\n",
    "    }\n",
    "\n",
    "    public int GetHashCode(Student student)\n",
    "    {\n",
    "        Console.Write(\"GetHashCode: \");\n",
    "\n",
    "        return student.Jmeno.GetHashCode();\n",
    "    }\n",
    "}"
   ]
  },
  {
   "cell_type": "code",
   "execution_count": 6,
   "metadata": {
    "dotnet_interactive": {
     "language": "csharp"
    },
    "polyglot_notebook": {
     "kernelName": "csharp"
    },
    "vscode": {
     "languageId": "polyglot-notebook"
    }
   },
   "outputs": [],
   "source": [
    "StudentEqualityComparer comparer = new StudentEqualityComparer();"
   ]
  },
  {
   "cell_type": "code",
   "execution_count": 9,
   "metadata": {
    "dotnet_interactive": {
     "language": "csharp"
    },
    "polyglot_notebook": {
     "kernelName": "csharp"
    },
    "vscode": {
     "languageId": "polyglot-notebook"
    }
   },
   "outputs": [
    {
     "name": "stdout",
     "output_type": "stream",
     "text": [
      "GetHashCode: GetHashCode: IEqualityComparer.Equals: GetHashCode: GetHashCode: IEqualityComparer.Equals: "
     ]
    },
    {
     "data": {
      "text/html": [
       "<table><thead><tr><th><i>index</i></th><th>value</th></tr></thead><tbody><tr><td>0</td><td><details class=\"dni-treeview\"><summary><span class=\"dni-code-hint\"><code>Student: Alena</code></span></summary><div><table><thead><tr></tr></thead><tbody><tr><td>Jmeno</td><td>Alena</td></tr></tbody></table></div></details></td></tr><tr><td>1</td><td><details class=\"dni-treeview\"><summary><span class=\"dni-code-hint\"><code>Student: Petr</code></span></summary><div><table><thead><tr></tr></thead><tbody><tr><td>Jmeno</td><td>Petr</td></tr></tbody></table></div></details></td></tr></tbody></table><style>\r\n",
       ".dni-code-hint {\r\n",
       "    font-style: italic;\r\n",
       "    overflow: hidden;\r\n",
       "    white-space: nowrap;\r\n",
       "}\r\n",
       ".dni-treeview {\r\n",
       "    white-space: nowrap;\r\n",
       "}\r\n",
       ".dni-treeview td {\r\n",
       "    vertical-align: top;\r\n",
       "    text-align: start;\r\n",
       "}\r\n",
       "details.dni-treeview {\r\n",
       "    padding-left: 1em;\r\n",
       "}\r\n",
       "table td {\r\n",
       "    text-align: start;\r\n",
       "}\r\n",
       "table tr { \r\n",
       "    vertical-align: top; \r\n",
       "    margin: 0em 0px;\r\n",
       "}\r\n",
       "table tr td pre \r\n",
       "{ \r\n",
       "    vertical-align: top !important; \r\n",
       "    margin: 0em 0px !important;\r\n",
       "} \r\n",
       "table th {\r\n",
       "    text-align: start;\r\n",
       "}\r\n",
       "</style>"
      ]
     },
     "metadata": {},
     "output_type": "display_data"
    }
   ],
   "source": [
    "students.Distinct(comparer)"
   ]
  },
  {
   "cell_type": "code",
   "execution_count": 10,
   "metadata": {
    "dotnet_interactive": {
     "language": "csharp"
    },
    "polyglot_notebook": {
     "kernelName": "csharp"
    },
    "vscode": {
     "languageId": "polyglot-notebook"
    }
   },
   "outputs": [
    {
     "name": "stdout",
     "output_type": "stream",
     "text": [
      "GetHashCode: GetHashCode: "
     ]
    }
   ],
   "source": [
    "var dictionary = new Dictionary<Student, string>(comparer);\n",
    "dictionary.Add(new Student(\"Alena\"), \"Alena\");\n",
    "dictionary.Add(new Student(\"Petr\"), \"Petr\");"
   ]
  }
 ],
 "metadata": {
  "language_info": {
   "name": "csharp"
  },
  "orig_nbformat": 4
 },
 "nbformat": 4,
 "nbformat_minor": 2
}
