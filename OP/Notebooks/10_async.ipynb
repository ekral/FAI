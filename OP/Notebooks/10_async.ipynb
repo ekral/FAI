{
 "cells": [
  {
   "attachments": {},
   "cell_type": "markdown",
   "metadata": {},
   "source": [
    "# 10: Task a asynchronní programování\n",
    "**autor: Erik Král ekral@utb.cz**\n",
    "\n",
    "---\n",
    "\n",
    "\n",
    "Obsah:\n",
    "- Task\n",
    "- Klíčové slova async a await\n",
    "- Asynchronní metody a výjimky.\n",
    "\n",
    "V následujících kódech budeme používat především ukázky konzolových aplikací, ale ty z principu nejsou asynchroní a uvádíme je jen pro jednoduchost. Typické použítí je ve webových a UI frameworcích."
   ]
  },
  {
   "attachments": {},
   "cell_type": "markdown",
   "metadata": {},
   "source": [
    "## Task\n",
    "\n",
    "Pomocí třídy `Task` můžeme spouštět typicky asynchronně jednu operaci (metodu) bez návratové hodnoty. "
   ]
  },
  {
   "attachments": {},
   "cell_type": "markdown",
   "metadata": {},
   "source": [
    "V následujícím příkladu spustíme provádění metody Metoda pomocí statické metody `Task.Run`, tato metoda nám vrátí proměnnou typu `Task`, krerá popisuje již spuštěnou operaci běžící typicky v jiném vlákně. \n",
    "\n",
    "V následujícím příkladu nejprve pomocí příkazu `Task.Run(DlouhoBeziciMetoda);` spustíme provádění metody `DlouhoBeziciMetoda`, která vypisuje text na konzoli v intervalu jedné sekundy. A poté začneme souběžně vypisovat v hlavním(main) vlákně ve stejném intervalu také na konzoli. Zápis na konzoli je možný a bezpečný z obou vláken, protože konzole zápis a čtení synchronizuje [(Console I/O Streams. Microsoft Docs. 2022)](https://docs.microsoft.com/en-us/dotnet/api/system.console?view=net-6.0#console-io-streams). \n",
    "\n",
    "Příkaz `task.Wait()` na konci čeká na dokončení tasku tak, aby se nám program předčasně nepřerušil před jeho dokončením."
   ]
  },
  {
   "cell_type": "code",
   "execution_count": 7,
   "metadata": {
    "dotnet_interactive": {
     "language": "csharp"
    },
    "polyglot_notebook": {
     "kernelName": "csharp"
    },
    "vscode": {
     "languageId": "polyglot-notebook"
    }
   },
   "outputs": [
    {
     "name": "stdout",
     "output_type": "stream",
     "text": [
      "Main: 0\n",
      "Metoda: 0\n",
      "Metoda: 1\n",
      "Main: 1\n",
      "Main: 2\n",
      "Metoda: 2\n",
      "Main: 3\n",
      "Metoda: 3\n",
      "Metoda: 4\n",
      "Main: 4\n",
      "Main: 5\n",
      "Main: 6\n",
      "Main: 7\n"
     ]
    }
   ],
   "source": [
    "void DlouhoBeziciMetoda()\n",
    "{\n",
    "    for (int i = 0; i < 5; i++)\n",
    "    {\n",
    "        Console.WriteLine($\"Metoda: {i}\");\n",
    "        System.Threading.Thread.Sleep(1000);\n",
    "    }\n",
    "}\n",
    "\n",
    "Task task = Task.Run(DlouhoBeziciMetoda);\n",
    "\n",
    "for (int i = 0; i < 8; i++)\n",
    "{\n",
    "    Console.WriteLine($\"Main: {i}\");\n",
    "    System.Threading.Thread.Sleep(1000);\n",
    "}\n",
    "\n",
    "task.Wait();"
   ]
  },
  {
   "attachments": {},
   "cell_type": "markdown",
   "metadata": {},
   "source": [
    "Zkuste si v předcházejícím příkladu zvolit kratší interval pro výpis v hlavním vlákně a případně odstranit poslední příkaz task.Wait();"
   ]
  },
  {
   "attachments": {},
   "cell_type": "markdown",
   "metadata": {},
   "source": [
    "Pokud bychom použili příkaz `task.Wait()` hned po spuštění tasku, tak se běh hlavního vlákna pozastaví dokud nebude task dokončen a výsledkem by bylo, že výpisy neproběhnou souběžně."
   ]
  },
  {
   "cell_type": "code",
   "execution_count": 8,
   "metadata": {
    "dotnet_interactive": {
     "language": "csharp"
    },
    "polyglot_notebook": {
     "kernelName": "csharp"
    },
    "vscode": {
     "languageId": "polyglot-notebook"
    }
   },
   "outputs": [
    {
     "name": "stdout",
     "output_type": "stream",
     "text": [
      "Metoda: 0\n",
      "Metoda: 1\n",
      "Metoda: 2\n",
      "Metoda: 3\n",
      "Metoda: 4\n",
      "Main: 0\n",
      "Main: 1\n",
      "Main: 2\n",
      "Main: 3\n",
      "Main: 4\n",
      "Main: 5\n",
      "Main: 6\n",
      "Main: 7\n"
     ]
    }
   ],
   "source": [
    "void DlouhoBeziciMetoda()\n",
    "{\n",
    "    for (int i = 0; i < 5; i++)\n",
    "    {\n",
    "        Console.WriteLine($\"Metoda: {i}\");\n",
    "        System.Threading.Thread.Sleep(1000);\n",
    "    }\n",
    "}\n",
    "\n",
    "Task task = Task.Run(DlouhoBeziciMetoda);\n",
    "\n",
    "task.Wait();\n",
    "\n",
    "for (int i = 0; i < 8; i++)\n",
    "{\n",
    "    Console.WriteLine($\"Main: {i}\");\n",
    "    System.Threading.Thread.Sleep(1000);\n",
    "}\n"
   ]
  },
  {
   "attachments": {},
   "cell_type": "markdown",
   "metadata": {},
   "source": [
    "## `Task<T>` s návratovou hodnotou"
   ]
  },
  {
   "attachments": {},
   "cell_type": "markdown",
   "metadata": {},
   "source": [
    "Pokud metoda vrací hodnotu, tak můžeme využít generický typ `Task<T>`. \n",
    "\n",
    "V následujícím příkladu vrací `TDlouhoBeziciMetoda` náhodné číslo po dokončení simulovaného dlouhého výpočtu. Výsledek získáme pomocí příkazu `task.Result`, který opět pozastaví hlavní vlákno, dokud se task nedokončí a nevrátí se výsledek."
   ]
  },
  {
   "cell_type": "code",
   "execution_count": 9,
   "metadata": {
    "dotnet_interactive": {
     "language": "csharp"
    },
    "polyglot_notebook": {
     "kernelName": "csharp"
    },
    "vscode": {
     "languageId": "polyglot-notebook"
    }
   },
   "outputs": [
    {
     "name": "stdout",
     "output_type": "stream",
     "text": [
      "Metoda: 0\n",
      "Metoda: 1\n",
      "Metoda: 2\n",
      "Metoda: 3\n",
      "Metoda: 4\n",
      "vysledek: 80\n",
      "Main: 0\n",
      "Main: 1\n",
      "Main: 2\n",
      "Main: 3\n",
      "Main: 4\n",
      "Main: 5\n",
      "Main: 6\n",
      "Main: 7\n"
     ]
    }
   ],
   "source": [
    "int DlouhoBeziciMetoda()\n",
    "{\n",
    "    for (int i = 0; i < 5; i++)\n",
    "    {\n",
    "        Console.WriteLine($\"Metoda: {i}\");\n",
    "        System.Threading.Thread.Sleep(1000);\n",
    "    }\n",
    "\n",
    "    return Random.Shared.Next(0, 100);\n",
    "}\n",
    "\n",
    "Task<int> task = Task.Run(DlouhoBeziciMetoda);\n",
    "\n",
    "int vysledek = task.Result;\n",
    "\n",
    "Console.WriteLine($\"vysledek: {vysledek}\");\n",
    "\n",
    "for (int i = 0; i < 8; i++)\n",
    "{\n",
    "    Console.WriteLine($\"Main: {i}\");\n",
    "    System.Threading.Thread.Sleep(1000);\n",
    "}"
   ]
  },
  {
   "attachments": {},
   "cell_type": "markdown",
   "metadata": {},
   "source": [
    "## Klíčové slova async a await"
   ]
  },
  {
   "attachments": {},
   "cell_type": "markdown",
   "metadata": {},
   "source": [
    "Pomocí klíčových slov `async` a `await` můžeme jednoduše synchronizovat asynchronní operace a přítom kód zůstal přehledný a mohli jsme používat vyjímky stejným způsobem jako v běžném kódu. Například v programu často chceme stáhnout v seznam produktů v jiném vlákně, tak aby se nám nezablokovalo hlavní vlákno klientské aplikaci a po dokončení stažení produků, chceme tyto produkty zobrazit."
   ]
  },
  {
   "attachments": {},
   "cell_type": "markdown",
   "metadata": {},
   "source": [
    "Proto, abychom mohli demonstrovat použití klíčového slova `await` v konzolové aplikaci, tak si vytvoříme složitější příklad. Spuštění tasku je přesunuté přímo do metody `DlouhoBeziciMetodaAsync`, která vrací přímo typ `Task<int>`. Podle konvence má mít název metody, která vrací Task příponu *\"Async\"*. Potom máme druhou metodu, která čeká na dokončení metody `DlouhoBeziciMetodaAsync` a pak zobrazí výsledek výpočtu."
   ]
  },
  {
   "attachments": {},
   "cell_type": "markdown",
   "metadata": {},
   "source": [
    "Nejprve si ale ukážeme příklad bez použití `await` a místo toho použijeme příkaz `task.Result`, což znamená že se se hlavní vlákno pozastaví a kód se neprovádí souběžně. "
   ]
  },
  {
   "cell_type": "code",
   "execution_count": 11,
   "metadata": {
    "dotnet_interactive": {
     "language": "csharp"
    },
    "polyglot_notebook": {
     "kernelName": "csharp"
    },
    "vscode": {
     "languageId": "polyglot-notebook"
    }
   },
   "outputs": [
    {
     "name": "stdout",
     "output_type": "stream",
     "text": [
      "Metoda: 0\n",
      "Metoda: 1\n",
      "Metoda: 2\n",
      "Metoda: 3\n",
      "Metoda: 4\n",
      "vysledek: 73\n",
      "Main: 0\n",
      "Main: 1\n",
      "Main: 2\n",
      "Main: 3\n",
      "Main: 4\n",
      "Main: 5\n",
      "Main: 6\n",
      "Main: 7\n",
      "Konec programu\n"
     ]
    }
   ],
   "source": [
    "Task<int> DlouhoBeziciMetodaAsync()\n",
    "{\n",
    "    return Task.Run(() =>\n",
    "    {\n",
    "        for (int i = 0; i < 5; i++)\n",
    "        {\n",
    "            Console.WriteLine($\"Metoda: {i}\");\n",
    "            System.Threading.Thread.Sleep(1000);\n",
    "        }\n",
    "\n",
    "        return Random.Shared.Next(0, 100); \n",
    "    });\n",
    "}\n",
    "\n",
    "void MetodaCekajiciNaVysledek()\n",
    "{\n",
    "    Task<int> task = DlouhoBeziciMetodaAsync();\n",
    "    \n",
    "    int vysledek = task.Result;\n",
    "\n",
    "    Console.WriteLine($\"vysledek: {vysledek}\");\n",
    "}\n",
    "\n",
    "MetodaCekajiciNaVysledek();\n",
    "\n",
    "for (int i = 0; i < 8; i++)\n",
    "{\n",
    "    Console.WriteLine($\"Main: {i}\");\n",
    "    System.Threading.Thread.Sleep(1000);\n",
    "}\n",
    "\n",
    "Console.WriteLine(\"Konec programu\");"
   ]
  },
  {
   "attachments": {},
   "cell_type": "markdown",
   "metadata": {},
   "source": [
    "Nyní použijeme klíčové slovo `await`, díky čemuž se `DlouhoBeziciMetodaAsync` provádí souběžně s kódem v hlavním vlákně a po jejím dokončení se hlavní vlákno přeruší, provede se kód za příkazem `await` a pak zase pokračuje hlavní vlákno. Klíčové slovo `await` můžeme použít jen v metodě označené klíčovým slovem `async`. Místo návratového typu `void` u asynchronní metody používáme `Task`. "
   ]
  },
  {
   "cell_type": "code",
   "execution_count": 12,
   "metadata": {
    "dotnet_interactive": {
     "language": "csharp"
    },
    "polyglot_notebook": {
     "kernelName": "csharp"
    },
    "vscode": {
     "languageId": "polyglot-notebook"
    }
   },
   "outputs": [
    {
     "name": "stdout",
     "output_type": "stream",
     "text": [
      "Metoda: 0\n",
      "Main: 0\n",
      "Main: 1\n",
      "Metoda: 1\n",
      "Metoda: 2\n",
      "Main: 2\n",
      "Main: 3\n",
      "Metoda: 3\n",
      "Main: 4\n",
      "Metoda: 4\n",
      "Main: 5\n",
      "vysledek: 32\n",
      "Main: 6\n",
      "Main: 7\n",
      "Konec programu\n"
     ]
    }
   ],
   "source": [
    "Task<int> DlouhoBeziciMetodaAsync()\n",
    "{\n",
    "    return Task.Run(() =>\n",
    "    {\n",
    "        for (int i = 0; i < 5; i++)\n",
    "        {\n",
    "            Console.WriteLine($\"Metoda: {i}\");\n",
    "            System.Threading.Thread.Sleep(1000);\n",
    "        }\n",
    "\n",
    "        return Random.Shared.Next(0, 100); \n",
    "    });\n",
    "}\n",
    "\n",
    "async Task MetodaCekajiciNaVysledekAsync()\n",
    "{\n",
    "    Task<int> task = DlouhoBeziciMetodaAsync();\n",
    "    \n",
    "    int vysledek = await task;\n",
    "\n",
    "    Console.WriteLine($\"vysledek: {vysledek}\");\n",
    "}\n",
    "\n",
    "Task task = MetodaCekajiciNaVysledekAsync();\n",
    "\n",
    "for (int i = 0; i < 8; i++)\n",
    "{\n",
    "    Console.WriteLine($\"Main: {i}\");\n",
    "    System.Threading.Thread.Sleep(1000);\n",
    "}\n",
    "\n",
    "Console.WriteLine(\"Konec programu\");"
   ]
  },
  {
   "attachments": {},
   "cell_type": "markdown",
   "metadata": {},
   "source": [
    "## Návratový typ funkcí označených async"
   ]
  },
  {
   "attachments": {},
   "cell_type": "markdown",
   "metadata": {},
   "source": [
    "### Asynchronní metoda s návratovým typem void"
   ]
  },
  {
   "attachments": {},
   "cell_type": "markdown",
   "metadata": {},
   "source": [
    "V přechozím příkladu jsme u `async` metody použili návratový typ `Task`. V následujících kódu si na zjednodušených příkladech ukážeme různé varianty návratových typů."
   ]
  },
  {
   "attachments": {},
   "cell_type": "markdown",
   "metadata": {},
   "source": [
    "Bylo by sice možné použít `void`:"
   ]
  },
  {
   "cell_type": "code",
   "execution_count": null,
   "metadata": {
    "dotnet_interactive": {
     "language": "csharp"
    },
    "polyglot_notebook": {
     "kernelName": "csharp"
    },
    "vscode": {
     "languageId": "polyglot-notebook"
    }
   },
   "outputs": [],
   "source": [
    "Task<int> MetodaAsync()\n",
    "{\n",
    "    return Task.FromResult<int>(1);\n",
    "}\n",
    "\n",
    "async void DruhaMetoda()\n",
    "{\n",
    "    int vysledek = await MetodaAsync();\n",
    "}"
   ]
  },
  {
   "attachments": {},
   "cell_type": "markdown",
   "metadata": {},
   "source": [
    "Ale poté bychom nemohli použít `await` a také bychom nemohli v takové metodě ošetřovat jednoduše výjimky. Možnost mít návratový typ void byla přidaná kvůli UI Frameworkům Winform a WPF pro handlery eventů a neměla by se běžně používat. [How Async/Await Really Works in C#](https://devblogs.microsoft.com/dotnet/how-async-await-really-works/)."
   ]
  },
  {
   "attachments": {},
   "cell_type": "markdown",
   "metadata": {},
   "source": [
    "Následující kód by měl vyvolat výjimku, ale v konzolové aplikaci ji nevyvolá. Ve frameworcích Winform, WPF nebo AvaloniaUI by to mohlo být jinak."
   ]
  },
  {
   "cell_type": "code",
   "execution_count": 13,
   "metadata": {
    "dotnet_interactive": {
     "language": "csharp"
    },
    "polyglot_notebook": {
     "kernelName": "csharp"
    },
    "vscode": {
     "languageId": "polyglot-notebook"
    }
   },
   "outputs": [],
   "source": [
    "Task<int> MetodaAsync()\n",
    "{\n",
    "    throw new Exception();\n",
    "}\n",
    "\n",
    "async void DruhaMetoda()\n",
    "{\n",
    "    int vysledek = await MetodaAsync();\n",
    "}\n",
    "\n",
    "DruhaMetoda();"
   ]
  },
  {
   "attachments": {},
   "cell_type": "markdown",
   "metadata": {},
   "source": [
    "Pokud použijeme návratový typ `Task<int>`, tak můžeme zachytit výjimku."
   ]
  },
  {
   "cell_type": "code",
   "execution_count": 1,
   "metadata": {
    "dotnet_interactive": {
     "language": "csharp"
    },
    "polyglot_notebook": {
     "kernelName": "csharp"
    },
    "vscode": {
     "languageId": "polyglot-notebook"
    }
   },
   "outputs": [
    {
     "ename": "Error",
     "evalue": "System.Exception: Exception of type 'System.Exception' was thrown.\r\n   at Submission#2.MetodaAsync()\r\n   at Submission#2.<DruhaMetodaAsync>d__2.MoveNext()\r\n--- End of stack trace from previous location ---\r\n   at Submission#2.<<Initialize>>d__0.MoveNext()\r\n--- End of stack trace from previous location ---\r\n   at Microsoft.CodeAnalysis.Scripting.ScriptExecutionState.RunSubmissionsAsync[TResult](ImmutableArray`1 precedingExecutors, Func`2 currentExecutor, StrongBox`1 exceptionHolderOpt, Func`2 catchExceptionOpt, CancellationToken cancellationToken)",
     "output_type": "error",
     "traceback": [
      "System.Exception: Exception of type 'System.Exception' was thrown.\r\n",
      "   at Submission#2.MetodaAsync()\r\n",
      "   at Submission#2.<DruhaMetodaAsync>d__2.MoveNext()\r\n",
      "--- End of stack trace from previous location ---\r\n",
      "   at Submission#2.<<Initialize>>d__0.MoveNext()\r\n",
      "--- End of stack trace from previous location ---\r\n",
      "   at Microsoft.CodeAnalysis.Scripting.ScriptExecutionState.RunSubmissionsAsync[TResult](ImmutableArray`1 precedingExecutors, Func`2 currentExecutor, StrongBox`1 exceptionHolderOpt, Func`2 catchExceptionOpt, CancellationToken cancellationToken)"
     ]
    }
   ],
   "source": [
    "Task<int> MetodaAsync()\n",
    "{\n",
    "    throw new Exception();\n",
    "}\n",
    "\n",
    "async Task DruhaMetodaAsync()\n",
    "{\n",
    "    int vysledek = await MetodaAsync();\n",
    "}\n",
    "\n",
    "await DruhaMetodaAsync();"
   ]
  },
  {
   "attachments": {},
   "cell_type": "markdown",
   "metadata": {},
   "source": [
    "Přechozí kód vyvolal výjimku, což je správné chování."
   ]
  },
  {
   "attachments": {},
   "cell_type": "markdown",
   "metadata": {},
   "source": [
    "Pokud metoda vrací hodnotu, tak opět použijeme generický Task<T>."
   ]
  },
  {
   "cell_type": "code",
   "execution_count": null,
   "metadata": {
    "dotnet_interactive": {
     "language": "csharp"
    },
    "polyglot_notebook": {
     "kernelName": "csharp"
    },
    "vscode": {
     "languageId": "polyglot-notebook"
    }
   },
   "outputs": [],
   "source": [
    "Task<int> MetodaAsync()\n",
    "{\n",
    "    return Task.FromResult<int>(1);\n",
    "}\n",
    "\n",
    "async Task<int> DruhaMetodaAsync()\n",
    "{\n",
    "    int vysledek = await MetodaAsync();\n",
    "\n",
    "    return vysledek;\n",
    "}\n",
    "\n",
    "int vysledek = await DruhaMetodaAsync();"
   ]
  },
  {
   "attachments": {},
   "cell_type": "markdown",
   "metadata": {},
   "source": [
    "## Příklad webová služba"
   ]
  },
  {
   "cell_type": "code",
   "execution_count": 2,
   "metadata": {
    "dotnet_interactive": {
     "language": "csharp"
    },
    "polyglot_notebook": {
     "kernelName": "csharp"
    },
    "vscode": {
     "languageId": "polyglot-notebook"
    }
   },
   "outputs": [
    {
     "name": "stdout",
     "output_type": "stream",
     "text": [
      "\"Chuck Norris once shot down a German fighter plane with his finger. By yelling 'Bang!'\"\n",
      "\r\n"
     ]
    }
   ],
   "source": [
    "using System.Net.Http;\n",
    "\n",
    "using (HttpClient client = new HttpClient())\n",
    "{\n",
    "    try\n",
    "    {\n",
    "        string  vtip = await client.GetStringAsync(\"https://geek-jokes.sameerkumar.website/api?format=text\");\n",
    "        \n",
    "        Console.WriteLine(System.Web.HttpUtility.HtmlDecode(vtip));\n",
    "    }\n",
    "    catch (HttpRequestException ex)\n",
    "    {\n",
    "        System.Diagnostics.Debug.WriteLine(ex.Message);\n",
    "        throw;\n",
    "    }\n",
    "}"
   ]
  },
  {
   "attachments": {},
   "cell_type": "markdown",
   "metadata": {},
   "source": [
    "## Úkol desktopová aplikace\n",
    "\n",
    "Do následující desktopové aplikace přidejte předchozí načítání vtipu. Aplikace by měla jít spustit z tohoto notebooky na Windows. \n",
    "\n",
    "Pokud máte MacOs nebo Unix, tak projekt najdete zde zde:\n",
    "\n",
    "[Notebooks/OPN_10_AvaloniaProject](https://github.com/ekral/FAI/tree/master/OP/Notebooks/OPN_10_AvaloniaProject)\n",
    "\n",
    "Nebo si přímo můžete stáhnout zip s projektem:\n",
    "\n",
    "[Download-directory.github.io](https://download-directory.github.io/?url=https%3A%2F%2Fgithub.com%2Fekral%2FFAI%2Ftree%2Fmaster%2FOP%2FNotebooks%2FOPN_10_AvaloniaProject)\n",
    "\n"
   ]
  },
  {
   "attachments": {},
   "cell_type": "markdown",
   "metadata": {},
   "source": [
    "Nejprve si načteme nuget balíček pro UI framework Avalonia."
   ]
  },
  {
   "cell_type": "code",
   "execution_count": 3,
   "metadata": {
    "dotnet_interactive": {
     "language": "csharp"
    },
    "polyglot_notebook": {
     "kernelName": "csharp"
    },
    "vscode": {
     "languageId": "polyglot-notebook"
    }
   },
   "outputs": [
    {
     "data": {
      "text/html": [
       "<div><div></div><div></div><div><strong>Installed Packages</strong><ul><li><span>Avalonia.Desktop, 0.10.19</span></li></ul></div></div>"
      ]
     },
     "metadata": {},
     "output_type": "display_data"
    },
    {
     "data": {
      "text/plain": [
       "Loading extensions from `C:\\Users\\ekral\\.nuget\\packages\\skiasharp\\2.88.1-preview.108\\interactive-extensions\\dotnet\\SkiaSharp.DotNet.Interactive.dll`"
      ]
     },
     "metadata": {},
     "output_type": "display_data"
    }
   ],
   "source": [
    "#r \"nuget: Avalonia.Desktop\"\n",
    "\n",
    "using Avalonia;\n",
    "using Avalonia.Controls;\n",
    "using Avalonia.Controls.ApplicationLifetimes;\n",
    "using Avalonia.Layout;\n",
    "using Avalonia.Threading;\n",
    "using System.Threading;"
   ]
  },
  {
   "attachments": {},
   "cell_type": "markdown",
   "metadata": {},
   "source": [
    "Následující kód inicializuje UI framework, tento kód spusťe **jen jednou**. Pokud byste spustili vícekrát, tak proveďte Restart kernelu a poté kód spuťte znovu."
   ]
  },
  {
   "cell_type": "code",
   "execution_count": 4,
   "metadata": {
    "dotnet_interactive": {
     "language": "csharp"
    },
    "polyglot_notebook": {
     "kernelName": "csharp"
    },
    "vscode": {
     "languageId": "polyglot-notebook"
    }
   },
   "outputs": [],
   "source": [
    "var tcs = new TaskCompletionSource<SynchronizationContext>();\n",
    "\n",
    "AppBuilder.Configure<Application>()\n",
    "    .UsePlatformDetect()\n",
    "    .AfterSetup(builder => tcs.SetResult(SynchronizationContext.Current))\n",
    "    .SetupWithLifetime(new ClassicDesktopStyleApplicationLifetime());\n",
    "\n",
    "Application.Current.Styles.Add(new Avalonia.Themes.Fluent.FluentTheme(new Uri(\"avares://MyAssembly\")) \n",
    "{ \n",
    "    Mode = Avalonia.Themes.Fluent.FluentThemeMode.Dark\n",
    "});"
   ]
  },
  {
   "attachments": {},
   "cell_type": "markdown",
   "metadata": {},
   "source": [
    "Zde je vlastní definice okna aplikace, kterou změňte dle zadání:"
   ]
  },
  {
   "cell_type": "code",
   "execution_count": 13,
   "metadata": {
    "dotnet_interactive": {
     "language": "csharp"
    },
    "polyglot_notebook": {
     "kernelName": "csharp"
    },
    "vscode": {
     "languageId": "polyglot-notebook"
    }
   },
   "outputs": [],
   "source": [
    "class MyWindow : Window\n",
    "{\n",
    "    Task<int> DlouhoBeziciMetodaAsync()\n",
    "    {\n",
    "        return Task.Run(() =>\n",
    "        {\n",
    "            System.Threading.Thread.Sleep(4000);\n",
    "            return Random.Shared.Next(0, 100);\n",
    "        });\n",
    "    }\n",
    "\n",
    "    public MyWindow()\n",
    "    {\n",
    "        Title = \"AvaloniaUI\";\n",
    "\n",
    "        Button button = new Button() \n",
    "        { \n",
    "            HorizontalAlignment = HorizontalAlignment.Center,\n",
    "            Content = \"Click\" \n",
    "        };\n",
    "\n",
    "        TextBlock textBlock = new TextBlock() \n",
    "        { \n",
    "            HorizontalAlignment = HorizontalAlignment.Center,\n",
    "            Text = \"0\" \n",
    "        };\n",
    "\n",
    "        button.Click += async (sender, args) =>\n",
    "        {            \n",
    "            int vysledek = await DlouhoBeziciMetodaAsync();\n",
    "            textBlock.Text = vysledek.ToString();\n",
    "        };\n",
    "\n",
    "        Content = new StackPanel() \n",
    "        {\n",
    "            HorizontalAlignment = HorizontalAlignment.Center,\n",
    "            VerticalAlignment = VerticalAlignment.Center,\n",
    "            Children = \n",
    "            {\n",
    "                textBlock,\n",
    "                button\n",
    "            }\n",
    "        };\n",
    "    }   \n",
    "}"
   ]
  },
  {
   "attachments": {},
   "cell_type": "markdown",
   "metadata": {},
   "source": [
    "A aplikaci spuťte následujícím příkazem:"
   ]
  },
  {
   "cell_type": "code",
   "execution_count": 14,
   "metadata": {
    "dotnet_interactive": {
     "language": "csharp"
    },
    "polyglot_notebook": {
     "kernelName": "csharp"
    },
    "vscode": {
     "languageId": "polyglot-notebook"
    }
   },
   "outputs": [],
   "source": [
    "SynchronizationContext.SetSynchronizationContext(tcs.Task.Result);\n",
    "\n",
    "Application.Current.Run(new MyWindow());"
   ]
  },
  {
   "attachments": {},
   "cell_type": "markdown",
   "metadata": {},
   "source": [
    "---\n",
    "Více se o typu Task a klíčových slovech můžete dozvědět například zde:\n",
    "\n",
    "[Task-based asynchronous pattern. Microsoft Docs. 2022](https://docs.microsoft.com/en-us/dotnet/standard/parallel-programming/task-based-asynchronous-programming)\n",
    "\n",
    "A zde najdete přehled best practice asynchronního programování v jazyce C#:\n",
    "\n",
    "[Async/Await - Best Practices in Asynchronous Programming. MSDN Magazine Issues. 2013](https://docs.microsoft.com/en-us/archive/msdn-magazine/2013/march/async-await-best-practices-in-asynchronous-programming)\n",
    "\n",
    "Pro pokročilé:\n",
    "\n",
    "[How Async/Await Really Works in C#](https://devblogs.microsoft.com/dotnet/how-async-await-really-works/)\n"
   ]
  },
  {
   "cell_type": "markdown",
   "metadata": {},
   "source": []
  }
 ],
 "metadata": {
  "language_info": {
   "name": "csharp"
  },
  "orig_nbformat": 4
 },
 "nbformat": 4,
 "nbformat_minor": 2
}
