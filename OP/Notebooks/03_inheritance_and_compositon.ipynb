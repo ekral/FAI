{
 "cells": [
  {
   "cell_type": "markdown",
   "metadata": {},
   "source": [
    "# 03: Dědičnost a skládání\n",
    "**autor: Erik Král ekral@utb.cz**\n",
    "\n",
    "---\n",
    "\n",
    "\n",
    "Obsah\n",
    "- Dědičnost kódu.\n",
    "- Dědičnost a konstruktor.\n",
    "- Klíčové slovo protected.\n",
    "- Kompozice.\n",
    "- Dědičnost vs kompozice.\n"
   ]
  },
  {
   "cell_type": "markdown",
   "metadata": {},
   "source": [
    "## Dědičnost kódu"
   ]
  },
  {
   "cell_type": "markdown",
   "metadata": {},
   "source": [
    "Dědičnost kódu popisuje vztah specializace mezi třídami, například počítačová myš je (anglicky *IS A*) produkt, nebo tlačítko v aplikaci je ovládací prvek. \n",
    "\n",
    "Na následujím příkladu probereme co je to dědičnost kódu a jak ji zapsat."
   ]
  },
  {
   "cell_type": "markdown",
   "metadata": {},
   "source": [
    "Třída `Mys` a `Monitor` mají stejné property `Cena` a `Hodnoceni`."
   ]
  },
  {
   "cell_type": "code",
   "execution_count": null,
   "metadata": {
    "language_info": {
     "name": "polyglot-notebook"
    },
    "polyglot_notebook": {
     "kernelName": "csharp"
    }
   },
   "outputs": [],
   "source": [
    "class Mys\n",
    "{\n",
    "    public double Cena { get; set; }\n",
    "    public int Hodnoceni { get; set; }\n",
    "    public int Dpi { get; set; }\n",
    "}\n",
    "\n",
    "class Monitor\n",
    "{\n",
    "    public double Cena { get; set; }\n",
    "    public int Hodnoceni { get; set; }\n",
    "    public int Uhlopricka { get; set; }\n",
    "}"
   ]
  },
  {
   "cell_type": "markdown",
   "metadata": {},
   "source": [
    "- Proměnné Cena a Hodnocení vytkneme a vložíme dobrodičovské třídy `Produkt`:"
   ]
  },
  {
   "cell_type": "code",
   "execution_count": 1,
   "metadata": {
    "dotnet_interactive": {
     "language": "csharp"
    },
    "polyglot_notebook": {
     "kernelName": "csharp"
    }
   },
   "outputs": [],
   "source": [
    "class Produkt\n",
    "{\n",
    "    public double Cena { get; set; }\n",
    "    public int Hodnoceni { get; set; }\n",
    "}"
   ]
  },
  {
   "cell_type": "markdown",
   "metadata": {},
   "source": [
    "- Jiná třída potom může zdědit kód této třídy. V následujícím příkladu máme třídu `Mys` jejíž součástí se díky dedičnosti stane kód třídy `Produkt`. Říkáme, že třída `Mys` je potomkem třídy `Produkt`."
   ]
  },
  {
   "cell_type": "code",
   "execution_count": 2,
   "metadata": {
    "dotnet_interactive": {
     "language": "csharp"
    },
    "polyglot_notebook": {
     "kernelName": "csharp"
    }
   },
   "outputs": [],
   "source": [
    "class Mys : Produkt\n",
    "{\n",
    "    public int Dpi { get; set; }\n",
    "}"
   ]
  },
  {
   "cell_type": "code",
   "execution_count": 3,
   "metadata": {
    "language_info": {
     "name": "polyglot-notebook"
    },
    "polyglot_notebook": {
     "kernelName": "csharp"
    }
   },
   "outputs": [],
   "source": [
    "class Monitor : Produkt\n",
    "{\n",
    "    public int Uhlopricka { get; set; }\n",
    "}"
   ]
  },
  {
   "cell_type": "markdown",
   "metadata": {},
   "source": [
    "Základní pojmy\n",
    "\n",
    "- Třída od které dědíme - synonyma\n",
    "  - Základní třída (base class)\n",
    "  - Rodičovská třída (parent class)\n",
    "  - Nadtřída (superclass)\n",
    "- Třída, která dědí - synonyma\n",
    "  -Odvozená třída (derived class)\n",
    "  - Potomek třídy (child class)\n",
    "  - Podtřída (subclass)\n",
    "- Říkáme, že odvozená třída dědí od základní třídy. Ale také můžeme říct:\n",
    "  - odvozená třída je **specializací**  (Specialization) základní třídy\n",
    "  - základní třída je **zobecněním** (Generalization) odvozené třídy.\n",
    "  - odvozená třída **rozšířuje** (Extends) základní třídu\n"
   ]
  },
  {
   "cell_type": "markdown",
   "metadata": {},
   "source": [
    "## Dědičnost a konstruktor\n",
    "\n",
    "Pokud má rodičovská třída **bezparametrický konstruktor**, tak se u potomka zavolá implicitně, nemusíme tedy nic psát.\n",
    "\n",
    "Pokud má rodičovská třída **parametrický konstruktor**, tak jej musíme u potomka explicitně zavolat pomocí klíčového slova `base`."
   ]
  },
  {
   "cell_type": "markdown",
   "metadata": {},
   "source": [
    "- Nyní si přidáme do třídy `Produkt` parametrický konstruktor:"
   ]
  },
  {
   "cell_type": "code",
   "execution_count": 6,
   "metadata": {
    "dotnet_interactive": {
     "language": "csharp"
    },
    "polyglot_notebook": {
     "kernelName": "csharp"
    }
   },
   "outputs": [],
   "source": [
    "class Produkt\n",
    "{\n",
    "    public double Cena { get; set; }\n",
    "    public int Hodnoceni { get; set; }\n",
    "\n",
    "    public Produkt(double cena, int hodnoceni)\n",
    "    {\n",
    "        Cena = cena;\n",
    "        Hodnoceni = hodnoceni;\n",
    "        Console.WriteLine(\"Produkt byl vytvořen.\");\n",
    "    }\n",
    "}"
   ]
  },
  {
   "cell_type": "markdown",
   "metadata": {},
   "source": [
    "- Pomocí klíčového slova `base` potom zavoláme parametrický konstruktor rodiče. Konrétně zápis `base(cena, hodnoceni)` v následujícím kódu zavolá parametrický konstruktor třídy `Produkt`. Pokud má rodičovská tříd konstruktor bez parametrů nebo nemá žádný konstruktor, tak klíčové slovo `base` nemusíme použít."
   ]
  },
  {
   "cell_type": "code",
   "execution_count": 7,
   "metadata": {
    "dotnet_interactive": {
     "language": "csharp"
    },
    "polyglot_notebook": {
     "kernelName": "csharp"
    }
   },
   "outputs": [],
   "source": [
    "class Mys : Produkt\n",
    "{\n",
    "    public int Dpi { get; set; }\n",
    "\n",
    "    public Mys(double cena, int hodnoceni, int dpi) : base(cena, hodnoceni)\n",
    "    {\n",
    "        Dpi = dpi;\n",
    "    }\n",
    "}"
   ]
  },
  {
   "cell_type": "markdown",
   "metadata": {},
   "source": [
    "- Nakonec vytvoříme instanci třídy `Mys`. Všimněte si, že proměnná `Mys` má property `Cena` a `Hodnocení`, které zdědila od třídy `Produkt`."
   ]
  },
  {
   "cell_type": "code",
   "execution_count": null,
   "metadata": {
    "dotnet_interactive": {
     "language": "csharp"
    },
    "polyglot_notebook": {
     "kernelName": "csharp"
    }
   },
   "outputs": [
    {
     "name": "stdout",
     "output_type": "stream",
     "text": [
      "Produkt byl vytvořen.\n",
      "Pocitacova mys cena: 600 hodnoceni: 8 dpi: 2000\n"
     ]
    }
   ],
   "source": [
    "double cena = 600;\n",
    "int hodnoceni = 8;\n",
    "int dpi = 2000;\n",
    "\n",
    "Mys mys = new Mys(cena, hodnoceni, dpi);\n",
    "\n",
    "Console.WriteLine($\"Pocitacova mys cena: {mys.Cena} hodnoceni: {mys.Hodnoceni} dpi: {mys.Dpi}\");"
   ]
  },
  {
   "cell_type": "markdown",
   "metadata": {},
   "source": [
    "- Poznámka: dědičnost kódu se samotná nepoužívá tak často jak by se zdálo, většinou se používá v kombinaci s polymorfismem."
   ]
  },
  {
   "cell_type": "markdown",
   "metadata": {},
   "source": [
    "## Klíčové slovo protected\n",
    "\n",
    "Klíčové slovo `protected` představuje modifikátor přístupu používaný pouze v dědičnosti. Tímto modifikátorem označujeme metody a atributy, které očekáváme, že využije jeho potomek v rámci dědění, ale v klientském kodů mají být skryté. V následujícím příkladu je proměnná `cisloUctu` přístupná v rodičovské třídě `Osoba` a v třídě potomka `Student`, ale není přístupná v klientském kódu v metodě `Main`. Modifikátor příštupu `protected` není běžně používaný a dáváme přednost `private` a `public`, pokud je to možné.\n"
   ]
  },
  {
   "cell_type": "code",
   "execution_count": 10,
   "metadata": {
    "dotnet_interactive": {
     "language": "csharp"
    },
    "polyglot_notebook": {
     "kernelName": "csharp"
    }
   },
   "outputs": [],
   "source": [
    "class Osoba\n",
    "{\n",
    "    protected int cisloUctu;\n",
    "    public string Jmeno { get; set; }\n",
    "\n",
    "    public Osoba(int cisloUctu, string jmeno)\n",
    "    {\n",
    "        this.cisloUctu = cisloUctu;\n",
    "        Jmeno = jmeno;\n",
    "    }\n",
    "}\n",
    "\n",
    "class Student : Osoba\n",
    "{\n",
    "    public string Skupina { get; set; }\n",
    "\n",
    "    public Student(int cisloUctu, string jmeno, string skupina) : base(cisloUctu, jmeno)\n",
    "    {\n",
    "        Skupina = skupina;\n",
    "    }\n",
    "\n",
    "    public void Vypis()\n",
    "    {\n",
    "        Console.WriteLine($\"{cisloUctu} {Jmeno} {Skupina}\"); // jde prelozit\n",
    "    }\n",
    "}"
   ]
  },
  {
   "cell_type": "markdown",
   "metadata": {},
   "source": [
    "V klientském kódu potom nemůžeme přistupovat k `protected` fieldu `cisloUctu`."
   ]
  },
  {
   "cell_type": "code",
   "execution_count": 17,
   "metadata": {
    "dotnet_interactive": {
     "language": "csharp"
    },
    "polyglot_notebook": {
     "kernelName": "csharp"
    }
   },
   "outputs": [
    {
     "name": "stdout",
     "output_type": "stream",
     "text": [
      "123 AXP1 AXP1\r\n"
     ]
    }
   ],
   "source": [
    "// Klientsky kod\n",
    "Student student = new Student(123, \"Alena\", \"AXP1\");\n",
    "student.Vypis();\n",
    "// student.cisloUctu = 0; // nejde prelozit"
   ]
  },
  {
   "cell_type": "markdown",
   "metadata": {},
   "source": [
    "## Kompozice\n",
    "\n",
    "Pokud jeden objekt zahrnuje druhý objekt, tak můžeme mluvit o vztahu HAS-A, tedy že jeden objekt má druhý objekt. V následujícím příkladu bude mít instance třídy `Motorka` reference na dvě instance třídy `Kola`. Protože objekt motorka objekty kola nesdílí s jinými objekty jde o kompozici. V tomto případě mluvíme o vlastnictví objektu, kdy vlastnictví objektu (ownership) v tomto kontextu znamená, že když zanikne objekt, tak s ním zaniknou i objekty, které vlastní."
   ]
  },
  {
   "cell_type": "code",
   "execution_count": 9,
   "metadata": {
    "dotnet_interactive": {
     "language": "csharp"
    },
    "polyglot_notebook": {
     "kernelName": "csharp"
    }
   },
   "outputs": [],
   "source": [
    "class Kolo\n",
    "{\n",
    "    public int Prumer { get; set; }\n",
    "\n",
    "    public Kolo(int prumer)\n",
    "    {\n",
    "        Prumer = prumer;\n",
    "    }\n",
    "}\n",
    "\n",
    "class Motorka\n",
    "{\n",
    "    private Kolo predni;\n",
    "    private Kolo zadni;\n",
    "\n",
    "    public Motorka()\n",
    "    {\n",
    "        predni = new Kolo(20);\n",
    "        zadni = new Kolo(19);\n",
    "    }\n",
    "}\n",
    "\n",
    "Motorka motorka = new Motorka();"
   ]
  },
  {
   "cell_type": "markdown",
   "metadata": {},
   "source": [
    "Pokud by objekt sdílel zahrnutý objekt s jinými objekty, tak by šlo o **agregaci**. U agregace mluvíme o tom, že objekt používá jiný objekt ale nevlastní ho. V následujícím příkladu sdílí `smsSender` více objednávek. Pojmy agregace a kompozice vycházejí z jazyka UML."
   ]
  },
  {
   "cell_type": "code",
   "execution_count": 11,
   "metadata": {
    "dotnet_interactive": {
     "language": "csharp"
    },
    "polyglot_notebook": {
     "kernelName": "csharp"
    }
   },
   "outputs": [
    {
     "name": "stdout",
     "output_type": "stream",
     "text": [
      "Posilam sms: Objednavka 1 odeslana\n",
      "Posilam sms: Objednavka 2 odeslana\n",
      "Posilam sms: Nejsem zavisly na Objednavce\n"
     ]
    }
   ],
   "source": [
    "class SmsSender\n",
    "{\n",
    "    public void PosliSms(string text)\n",
    "    {\n",
    "        Console.WriteLine($\"Posilam sms: {text}\");\n",
    "    }\n",
    "}\n",
    "\n",
    "class Objednavka\n",
    "{\n",
    "    public int Id { get; set; }\n",
    "    private SmsSender sender;\n",
    "\n",
    "    public Objednavka(int id, SmsSender sender)\n",
    "    {\n",
    "        Id = id;\n",
    "        this.sender = sender;\n",
    "    }\n",
    "\n",
    "    public void Odeslat()\n",
    "    {\n",
    "        sender.PosliSms($\"Objednavka {Id} odeslana\");\n",
    "    }\n",
    "}\n",
    "\n",
    "// klientsky kod\n",
    "SmsSender smsSender = new SmsSender();\n",
    "\n",
    "Objednavka objednavka1 = new Objednavka(1, smsSender);\n",
    "Objednavka objednavka2 = new Objednavka(2, smsSender);\n",
    "\n",
    "objednavka1.Odeslat();\n",
    "objednavka2.Odeslat();\n",
    "\n",
    "smsSender.PosliSms(\"Nejsem zavisly na Objednavce\");\n"
   ]
  },
  {
   "cell_type": "markdown",
   "metadata": {},
   "source": [
    "## Dědičnost vs kompozice\n",
    "\n",
    "Dědičnost kódu můžeme nahradit do určité míry kompozicí. V následujícím příkladu nepoužíváme dědičnost, ale třída `Student` si vytváří vlastní instanci třídy `Osoba`. Všimněte si, že mezi třídami Osoba a Student pořád platí vztah, že Student je Osoba, což je možné u kompozice kde také platí vztah HAS-A. Ale u dědičnsoti musí jít vždy jen o vztah IS-A."
   ]
  },
  {
   "cell_type": "code",
   "execution_count": null,
   "metadata": {
    "dotnet_interactive": {
     "language": "csharp"
    },
    "polyglot_notebook": {
     "kernelName": "csharp"
    }
   },
   "outputs": [
    {
     "name": "stdout",
     "output_type": "stream",
     "text": [
      "123 Tereza AXP1\r\n"
     ]
    }
   ],
   "source": [
    "class Osoba\n",
    "{\n",
    "    public int cisloUctu { get; private set; }\n",
    "    public string Jmeno { get; set; }\n",
    "\n",
    "    public Osoba(int cisloUctu, string jmeno)\n",
    "    {\n",
    "        this.cisloUctu = cisloUctu;\n",
    "        Jmeno = jmeno;\n",
    "    }\n",
    "}\n",
    "\n",
    "class Student \n",
    "{\n",
    "    public Osoba Osoba { get; private set; }\n",
    "    public string Skupina { get; set; }\n",
    "\n",
    "    public Student(int cisloUctu, string jmeno, string skupina)\n",
    "    {\n",
    "        Osoba = new Osoba(cisloUctu, skupina);\n",
    "        Skupina = skupina;\n",
    "    }\n",
    "\n",
    "    public void Vypis()\n",
    "    {\n",
    "        Console.WriteLine($\"{Osoba.cisloUctu} {Osoba.Jmeno} {Skupina}\"); \n",
    "    }\n",
    "}\n",
    "\n",
    "// klientsky kod\n",
    "Student student = new Student(123, \"Alena\", \"AXP1\");\n",
    "student.Osoba.Jmeno = \"Tereza\";\n",
    "student.Vypis();"
   ]
  }
 ],
 "metadata": {
  "kernelspec": {
   "display_name": ".NET (C#)",
   "language": "C#",
   "name": ".net-csharp"
  },
  "language_info": {
   "name": "polyglot-notebook"
  },
  "polyglot_notebook": {
   "kernelInfo": {
    "defaultKernelName": "csharp",
    "items": [
     {
      "aliases": [],
      "name": "csharp"
     }
    ]
   }
  }
 },
 "nbformat": 4,
 "nbformat_minor": 2
}
