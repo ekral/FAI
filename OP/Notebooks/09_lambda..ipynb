{
 "cells": [
  {
   "attachments": {},
   "cell_type": "markdown",
   "metadata": {},
   "source": [
    "# 09: Lambda Epressions\n",
    "**autor: Erik Král ekral@utb.cz**\n",
    "\n",
    "---\n",
    "\n",
    "\n",
    "Obsah:\n",
    "- Lambda výrazy\n",
    "- Expression lambda\n",
    "- Statement lambda\n",
    "\n"
   ]
  },
  {
   "attachments": {},
   "cell_type": "markdown",
   "metadata": {},
   "source": [
    "Lambda výrazy nám umoňují zapsat anonymní funkci, tedy funkci bez jména. Používám se s polečně s delegáty. V .NET 2.0 se pro stejný účel používali anonymní metody, tyto byly ale nahrazeny v .NET 3.0 lambda výrazy a už se nepoužívají."
   ]
  },
  {
   "attachments": {},
   "cell_type": "markdown",
   "metadata": {},
   "source": [
    "### Expression Lambda"
   ]
  },
  {
   "cell_type": "markdown",
   "metadata": {},
   "source": [
    "V následujícím příkladu přiřazujeme referenci na metodu `VratRetezec` delegátu typu `Func<int,bool, string>`."
   ]
  },
  {
   "cell_type": "code",
   "execution_count": null,
   "metadata": {
    "dotnet_interactive": {
     "language": "csharp"
    },
    "polyglot_notebook": {
     "kernelName": "csharp"
    },
    "vscode": {
     "languageId": "polyglot-notebook"
    }
   },
   "outputs": [
    {
     "name": "stdout",
     "output_type": "stream",
     "text": [
      "x ma hodnotu 2 a promena y ma hodnotu True\r\n"
     ]
    }
   ],
   "source": [
    "string VratRetezec(int x, bool y)\n",
    "{\n",
    "    return $\"x ma hodnotu {x} a promena y ma hodnotu {y}\";\n",
    "}\n",
    "\n",
    "Func<int,bool, string> delegat = VratRetezec;\n",
    "\n",
    "string retezec = delegat.Invoke(2, true);\n",
    "\n",
    "Console.WriteLine(retezec);"
   ]
  },
  {
   "attachments": {},
   "cell_type": "markdown",
   "metadata": {},
   "source": [
    "Pokud bychom tuto metodu používali volat jen jednou, nebo bychom chtěli zachytit lokální proměnné, tak ji nemusíme definovat jako metodu, ale můžeme použít lambda výraz. Všimněte si, že u parametrů `x` a `y` nemusíme uvádět typ a když metoda obsahuje pouze jeden příkaz, tak nepoužíváme ani klíčové slovo `return` a složené závorky. Zápis je potom velmi úsporný a takovému výrazu potom říkáme Expression Lambda.\n"
   ]
  },
  {
   "cell_type": "code",
   "execution_count": 4,
   "metadata": {
    "dotnet_interactive": {
     "language": "csharp"
    },
    "polyglot_notebook": {
     "kernelName": "csharp"
    },
    "vscode": {
     "languageId": "polyglot-notebook"
    }
   },
   "outputs": [
    {
     "name": "stdout",
     "output_type": "stream",
     "text": [
      "x ma hodnotu 2 a promena y ma hodnotu True\r\n"
     ]
    }
   ],
   "source": [
    "Func<int,bool, string> delegat = (x,y) => $\"x ma hodnotu {x} a promena y ma hodnotu {y}\";\n",
    "\n",
    "string retezec = delegat.Invoke(2, true);\n",
    "\n",
    "Console.WriteLine(retezec);"
   ]
  },
  {
   "attachments": {},
   "cell_type": "markdown",
   "metadata": {},
   "source": [
    "Lambda výrazy se často používájí s technologi [LINQ](https://learn.microsoft.com/en-us/dotnet/csharp/programming-guide/concepts/linq/). Všimněte si, že pokud má lambda výraz jen jeden parametr tak můžeme vynechat i složené závorky. V následujícím příkladu získáme jen kladná čísla z listu."
   ]
  },
  {
   "cell_type": "code",
   "execution_count": 1,
   "metadata": {
    "dotnet_interactive": {
     "language": "csharp"
    },
    "polyglot_notebook": {
     "kernelName": "csharp"
    },
    "vscode": {
     "languageId": "polyglot-notebook"
    }
   },
   "outputs": [
    {
     "data": {
      "text/html": [
       "<div class=\"dni-plaintext\"><pre>[ 2, 5, 7, 8 ]</pre></div><style>\r\n",
       ".dni-code-hint {\r\n",
       "    font-style: italic;\r\n",
       "    overflow: hidden;\r\n",
       "    white-space: nowrap;\r\n",
       "}\r\n",
       ".dni-treeview {\r\n",
       "    white-space: nowrap;\r\n",
       "}\r\n",
       ".dni-treeview td {\r\n",
       "    vertical-align: top;\r\n",
       "    text-align: start;\r\n",
       "}\r\n",
       "details.dni-treeview {\r\n",
       "    padding-left: 1em;\r\n",
       "}\r\n",
       "table td {\r\n",
       "    text-align: start;\r\n",
       "}\r\n",
       "table tr { \r\n",
       "    vertical-align: top; \r\n",
       "    margin: 0em 0px;\r\n",
       "}\r\n",
       "table tr td pre \r\n",
       "{ \r\n",
       "    vertical-align: top !important; \r\n",
       "    margin: 0em 0px !important;\r\n",
       "} \r\n",
       "table th {\r\n",
       "    text-align: start;\r\n",
       "}\r\n",
       "</style>"
      ]
     },
     "metadata": {},
     "output_type": "display_data"
    }
   ],
   "source": [
    "List<int> cisla = new List<int> { -20, 2, 5, -2, 7, 8 };\n",
    "\n",
    "List<int> kladna = cisla.Where(x => x > 0).ToList();\n",
    "\n",
    "kladna"
   ]
  },
  {
   "attachments": {},
   "cell_type": "markdown",
   "metadata": {},
   "source": [
    "V následujícím příkladu si všimněte, že v lambda výrazu používáme lokální proměnnou `min` a kopírujeme jen proměnné větší než tato hodnota. Říkáme že tato proměnná je **captured** a prodlouží se její **lifetime**. Pro lambda výraz se prakticky vegeneruje třída s fieldem pro lokální proměnnou. Ukázku jak vidí následující kód překladač jazyka C# najdete na stránkách [sharplab.io](https://sharplab.io/#v2:CYLg1APgAgTAjAWAFBQAwAJ1TgFgNzJpZwB0AMgJYB2AjgUoQMxYzoDC6yA3spplMyg50AWQAUASk5I+6HjNl9eizJQDOAFwA81DQD50AYwpqANgEN0AXnRUApgHd067boNd0AWhioANOhh/AFZ/b38Adn8ADnQAX3plFV10AFtqawCEhRUXHSp9dAA3Ow01CgzjM3MSAHUACzsAJzsxAA9rA3aDNKoJEgAVAHsXSXpZWORYoA==). "
   ]
  },
  {
   "cell_type": "code",
   "execution_count": 2,
   "metadata": {
    "dotnet_interactive": {
     "language": "csharp"
    },
    "polyglot_notebook": {
     "kernelName": "csharp"
    },
    "vscode": {
     "languageId": "polyglot-notebook"
    }
   },
   "outputs": [
    {
     "data": {
      "text/html": [
       "<div class=\"dni-plaintext\"><pre>[ 5, 7, 8 ]</pre></div><style>\r\n",
       ".dni-code-hint {\r\n",
       "    font-style: italic;\r\n",
       "    overflow: hidden;\r\n",
       "    white-space: nowrap;\r\n",
       "}\r\n",
       ".dni-treeview {\r\n",
       "    white-space: nowrap;\r\n",
       "}\r\n",
       ".dni-treeview td {\r\n",
       "    vertical-align: top;\r\n",
       "    text-align: start;\r\n",
       "}\r\n",
       "details.dni-treeview {\r\n",
       "    padding-left: 1em;\r\n",
       "}\r\n",
       "table td {\r\n",
       "    text-align: start;\r\n",
       "}\r\n",
       "table tr { \r\n",
       "    vertical-align: top; \r\n",
       "    margin: 0em 0px;\r\n",
       "}\r\n",
       "table tr td pre \r\n",
       "{ \r\n",
       "    vertical-align: top !important; \r\n",
       "    margin: 0em 0px !important;\r\n",
       "} \r\n",
       "table th {\r\n",
       "    text-align: start;\r\n",
       "}\r\n",
       "</style>"
      ]
     },
     "metadata": {},
     "output_type": "display_data"
    }
   ],
   "source": [
    "List<int> cisla = new List<int> { -20, 2, 5, -2, 7, 8 };\n",
    "\n",
    "int min = 2;\n",
    "\n",
    "List<int> vetsi = cisla.Where(x => x > min).ToList();\n",
    "\n",
    "vetsi"
   ]
  },
  {
   "attachments": {},
   "cell_type": "markdown",
   "metadata": {},
   "source": [
    "Lambda výraz je také možné prevést na strom výrazů, což se využívá v některých knihovnách například pro objektově relační mapování, kdy se ze stromu výrázů generuje výraz v jazyce SQL."
   ]
  },
  {
   "attachments": {},
   "cell_type": "markdown",
   "metadata": {},
   "source": [
    "### Statements lambda\n",
    "\n",
    "Pokud chceme v lambda výrazu použít více příkazu, tak musíme použít statements lambda. Statements lambda nejde převést na strom výrazů."
   ]
  },
  {
   "attachments": {},
   "cell_type": "markdown",
   "metadata": {},
   "source": [
    "V následujícím příkazu opět filtrujeme jen kladná čísla z Listu, ale při každém testu, zda je číslo kladné, ještě zvyšíme hodnotu počítadla a vypíšeme ji na terminál, musíme proto využít statements labmda. Všimněte si, že jsme museli použít klíčové slovo `return` a složené závorky."
   ]
  },
  {
   "cell_type": "code",
   "execution_count": 10,
   "metadata": {
    "dotnet_interactive": {
     "language": "csharp"
    },
    "polyglot_notebook": {
     "kernelName": "csharp"
    },
    "vscode": {
     "languageId": "polyglot-notebook"
    }
   },
   "outputs": [
    {
     "name": "stdout",
     "output_type": "stream",
     "text": [
      "1\n",
      "2\n",
      "3\n",
      "4\n"
     ]
    }
   ],
   "source": [
    "int pocitadlo = 0;\n",
    "\n",
    "List<int> kladna = cisla.Where(x =>\n",
    "{\n",
    "    if(x > 0)\n",
    "    {\n",
    "        System.Console.WriteLine(++pocitadlo);\n",
    "        return true;\n",
    "    }\n",
    "\n",
    "    return false;\n",
    "\n",
    "}).ToList();"
   ]
  },
  {
   "attachments": {},
   "cell_type": "markdown",
   "metadata": {},
   "source": [
    "Více se o lambda výrazech můžete dozvědět například zde:\n",
    "\n",
    "[Lambda expressions (C# reference). Microsoft Docs. 2022](https://docs.microsoft.com/en-us/dotnet/csharp/language-reference/operators/lambda-expressions)"
   ]
  },
  {
   "attachments": {},
   "cell_type": "markdown",
   "metadata": {},
   "source": [
    "---\n",
    "## Cvičení"
   ]
  },
  {
   "attachments": {},
   "cell_type": "markdown",
   "metadata": {},
   "source": [
    "1. Úkol\n",
    "\n",
    "Nahraďte metodu lambda výrazem."
   ]
  },
  {
   "cell_type": "code",
   "execution_count": 25,
   "metadata": {
    "dotnet_interactive": {
     "language": "csharp"
    },
    "polyglot_notebook": {
     "kernelName": "csharp"
    },
    "vscode": {
     "languageId": "polyglot-notebook"
    }
   },
   "outputs": [
    {
     "name": "stdout",
     "output_type": "stream",
     "text": [
      "4\r\n"
     ]
    }
   ],
   "source": [
    "int Soucet(int x, int y)\n",
    "{\n",
    "    return x + y;\n",
    "}\n",
    "\n",
    "Func<int, int, int> d1 = Soucet; // nahradit lambda vyrazem\n",
    "\n",
    "int vysledek = d1.Invoke(2, 2);\n",
    "\n",
    "Console.WriteLine(vysledek);"
   ]
  },
  {
   "attachments": {},
   "cell_type": "markdown",
   "metadata": {},
   "source": [
    "2. Úkol\n",
    "\n",
    "Nahraďte metodu lambda výrazem."
   ]
  },
  {
   "cell_type": "code",
   "execution_count": 24,
   "metadata": {
    "dotnet_interactive": {
     "language": "csharp"
    },
    "polyglot_notebook": {
     "kernelName": "csharp"
    },
    "vscode": {
     "languageId": "polyglot-notebook"
    }
   },
   "outputs": [
    {
     "name": "stdout",
     "output_type": "stream",
     "text": [
      "Ahoj\r\n"
     ]
    }
   ],
   "source": [
    "void Vypis(string text)\n",
    "{\n",
    "    Console.WriteLine(text);\n",
    "}\n",
    "       \n",
    "Action<string> d2 = Vypis; // nahradit lambda vyrazem\n",
    "\n",
    "d2.Invoke(\"Ahoj\");"
   ]
  },
  {
   "attachments": {},
   "cell_type": "markdown",
   "metadata": {},
   "source": [
    "3. Úkol\n",
    "\n",
    "Nahraďte metodu lambda výrazem."
   ]
  },
  {
   "cell_type": "code",
   "execution_count": 22,
   "metadata": {
    "dotnet_interactive": {
     "language": "csharp"
    },
    "polyglot_notebook": {
     "kernelName": "csharp"
    },
    "vscode": {
     "languageId": "polyglot-notebook"
    }
   },
   "outputs": [
    {
     "name": "stdout",
     "output_type": "stream",
     "text": [
      "False\r\n"
     ]
    }
   ],
   "source": [
    "bool JeSude(int x)\n",
    "{\n",
    "    return x % 2 == 0;\n",
    "}\n",
    "\n",
    "Predicate<int> d3 = JeSude; // nahradit lambda vyrazem\n",
    "\n",
    "bool vysledek3 = d3.Invoke(1);\n",
    "\n",
    "Console.WriteLine(vysledek3);\n"
   ]
  },
  {
   "attachments": {},
   "cell_type": "markdown",
   "metadata": {},
   "source": [
    "4. Úkol\n",
    "\n",
    "Nahraďte metodu lambda výrazem."
   ]
  },
  {
   "cell_type": "code",
   "execution_count": 28,
   "metadata": {
    "dotnet_interactive": {
     "language": "csharp"
    },
    "polyglot_notebook": {
     "kernelName": "csharp"
    },
    "vscode": {
     "languageId": "polyglot-notebook"
    }
   },
   "outputs": [
    {
     "name": "stdout",
     "output_type": "stream",
     "text": [
      "kladne\r\n"
     ]
    }
   ],
   "source": [
    "string PrevedNaText(int x)\n",
    "{\n",
    "    if(x > 0)\n",
    "        return\"kladne\";\n",
    "    else\n",
    "        return \"zaporne nebo 0\";\n",
    "}\n",
    "\n",
    "Func<int, string> d4 = PrevedNaText;\n",
    "\n",
    "string vysledek4 = d4.Invoke(1);\n",
    "\n",
    "Console.WriteLine(vysledek4);"
   ]
  }
 ],
 "metadata": {
  "language_info": {
   "name": "csharp"
  },
  "orig_nbformat": 4
 },
 "nbformat": 4,
 "nbformat_minor": 2
}
