{
 "cells": [
  {
   "attachments": {},
   "cell_type": "markdown",
   "metadata": {},
   "source": [
    "# OPN 10: Task a asynchronní programování\n",
    "---\n",
    "\n",
    "Obsah:\n",
    "- Task\n",
    "- async a await\n",
    "\n",
    "TODO: pridat nahodne exception"
   ]
  },
  {
   "attachments": {},
   "cell_type": "markdown",
   "metadata": {},
   "source": [
    "## Task\n",
    "\n",
    "Pomocí třídy `Task` můžeme spouštět typicky asynchronně jednu operaci (metodu) bez návratové hodnoty. "
   ]
  },
  {
   "attachments": {},
   "cell_type": "markdown",
   "metadata": {},
   "source": [
    "V následujícím příkladu spustíme provádění metody Metoda pomocí statické metody `Task.Run`, tato metoda nám vrátí proměnnou `task`, krerá popisuje již spuštěnou operaci běžící typicky v jiném vlákně. Kompilátor se totiž může rozhodnout, zda se vyplatí operaci pouštět v jiném vlákně nebo ji stačí provést sychronně ve stejném vlákně. \n",
    "\n",
    "Příkaz `task.Wait();` pozastaví běh hlavního vlákna programu."
   ]
  },
  {
   "cell_type": "code",
   "execution_count": 24,
   "metadata": {
    "dotnet_interactive": {
     "language": "csharp"
    },
    "polyglot_notebook": {
     "kernelName": "csharp"
    },
    "vscode": {
     "languageId": "polyglot-notebook"
    }
   },
   "outputs": [
    {
     "name": "stdout",
     "output_type": "stream",
     "text": [
      "Metoda: 0\n",
      "Metoda: 1\n",
      "Metoda: 2\n",
      "Metoda: 3\n",
      "Metoda: 4\n",
      "System.Exception: Nahodna vyjimka\n",
      "Main: 0\n",
      "Main: 1\n",
      "Main: 2\n",
      "Main: 3\n",
      "Main: 4\n",
      "Konec programu\n"
     ]
    }
   ],
   "source": [
    "int DlouhoBeziciMetoda(bool exception)\n",
    "{\n",
    "    for (int i = 0; i < 5; i++)\n",
    "    {\n",
    "        Console.WriteLine($\"Metoda: {i}\");\n",
    "        System.Threading.Thread.Sleep(1000);\n",
    "\n",
    "        if(exception && Random.Shared.Next() % 5 == 0)\n",
    "        {\n",
    "            throw new Exception(\"Nahodna vyjimka\");\n",
    "        } \n",
    "    }\n",
    "\n",
    "    return 5;\n",
    "}\n",
    "\n",
    "void MetodaCekajiciNaVysledek()\n",
    "{\n",
    "    try\n",
    "    {\n",
    "        int vysledek = DlouhoBeziciMetoda(exception: true);\n",
    "        Console.WriteLine($\"vysledek: {vysledek}\");\n",
    "    }\n",
    "    catch(Exception ex)\n",
    "    {\n",
    "        Console.WriteLine($\"{ex.GetType()}: {ex.Message}\");\n",
    "    }\n",
    "}\n",
    "\n",
    "MetodaCekajiciNaVysledek();\n",
    "\n",
    "for (int i = 0; i < 5; i++)\n",
    "{\n",
    "    Console.WriteLine($\"Main: {i}\");\n",
    "    System.Threading.Thread.Sleep(1000);\n",
    "}\n",
    "\n",
    "Console.WriteLine(\"Konec programu\");"
   ]
  },
  {
   "cell_type": "code",
   "execution_count": 25,
   "metadata": {
    "dotnet_interactive": {
     "language": "csharp"
    },
    "polyglot_notebook": {
     "kernelName": "csharp"
    },
    "vscode": {
     "languageId": "polyglot-notebook"
    }
   },
   "outputs": [
    {
     "name": "stdout",
     "output_type": "stream",
     "text": [
      "Metoda: 0\n",
      "Metoda: 1\n",
      "Metoda: 2\n",
      "Metoda: 3\n",
      "Metoda: 4\n",
      "System.AggregateException: One or more errors occurred. (Nahodna vyjimka)\n",
      "Main: 0\n",
      "Main: 1\n",
      "Main: 2\n",
      "Main: 3\n",
      "Main: 4\n",
      "Konec programu\n"
     ]
    }
   ],
   "source": [
    "Task<int> DlouhoBeziciMetodaAsync(bool exception)\n",
    "{\n",
    "    return Task.Run(() =>\n",
    "    {\n",
    "        for (int i = 0; i < 5; i++)\n",
    "        {\n",
    "            Console.WriteLine($\"Metoda: {i}\");\n",
    "            System.Threading.Thread.Sleep(1000);\n",
    "\n",
    "            if(exception && Random.Shared.Next() % 5 == 0)\n",
    "            {\n",
    "                throw new Exception(\"Nahodna vyjimka\");\n",
    "            } \n",
    "        }\n",
    "\n",
    "        return 5;\n",
    "    });\n",
    "}\n",
    "\n",
    "void MetodaCekajiciNaVysledek()\n",
    "{\n",
    "    try\n",
    "    {\n",
    "        Task<int> task = DlouhoBeziciMetodaAsync(exception: true);\n",
    "        \n",
    "        task.Wait();\n",
    "\n",
    "        int vysledek = task.Result;\n",
    "\n",
    "        Console.WriteLine($\"vysledek: {vysledek}\");\n",
    "    }\n",
    "    catch(Exception ex) // https://learn.microsoft.com/en-us/dotnet/standard/parallel-programming/exception-handling-task-parallel-library\n",
    "    {\n",
    "        Console.WriteLine($\"{ex.GetType()}: {ex.Message}\");\n",
    "    }\n",
    "}\n",
    "\n",
    "MetodaCekajiciNaVysledek();\n",
    "\n",
    "for (int i = 0; i < 5; i++)\n",
    "{\n",
    "    Console.WriteLine($\"Main: {i}\");\n",
    "    System.Threading.Thread.Sleep(1000);\n",
    "}\n",
    "\n",
    "Console.WriteLine(\"Konec programu\");"
   ]
  },
  {
   "cell_type": "code",
   "execution_count": 32,
   "metadata": {
    "dotnet_interactive": {
     "language": "csharp"
    },
    "polyglot_notebook": {
     "kernelName": "csharp"
    },
    "vscode": {
     "languageId": "polyglot-notebook"
    }
   },
   "outputs": [
    {
     "name": "stdout",
     "output_type": "stream",
     "text": [
      "Main: 0\n",
      "Metoda: 0\n",
      "Main: 1\n",
      "Chyba: One or more errors occurred. (Nahodna vyjimka)\n",
      "Main: 2\n",
      "Main: 3\n",
      "Main: 4\n",
      "Konec programu\n"
     ]
    }
   ],
   "source": [
    "Task<int> DlouhoBeziciMetodaAsync(bool exception)\n",
    "{\n",
    "    return Task.Run(() =>\n",
    "    {\n",
    "        for (int i = 0; i < 5; i++)\n",
    "        {\n",
    "            Console.WriteLine($\"Metoda: {i}\");\n",
    "            System.Threading.Thread.Sleep(1000);\n",
    "\n",
    "            if(exception && Random.Shared.Next() % 5 == 0)\n",
    "            {\n",
    "                throw new Exception(\"Nahodna vyjimka\");\n",
    "            } \n",
    "        }\n",
    "\n",
    "        return 5;\n",
    "    });\n",
    "}\n",
    "\n",
    "void MetodaCekajiciNaVysledek()\n",
    "{\n",
    "    try\n",
    "    {\n",
    "        Task<int> task = DlouhoBeziciMetodaAsync(exception: true);\n",
    "        \n",
    "        task.ContinueWith(task => \n",
    "        {\n",
    "            if(task.Status == TaskStatus.RanToCompletion)\n",
    "            {\n",
    "                Console.WriteLine($\"vysledek: {task.Result}\");\n",
    "            }\n",
    "            else\n",
    "            {\n",
    "                if(task.Status == TaskStatus.Faulted)\n",
    "                {\n",
    "                    Console.WriteLine($\"Chyba: {task.Exception.Message}\");\n",
    "                }\n",
    "            }\n",
    "        });\n",
    "    }\n",
    "    catch(Exception ex)\n",
    "    {\n",
    "        Console.WriteLine($\"{ex.GetType()}: {ex.Message}\");\n",
    "    }\n",
    "}\n",
    "\n",
    "MetodaCekajiciNaVysledek();\n",
    "\n",
    "for (int i = 0; i < 5; i++)\n",
    "{\n",
    "    Console.WriteLine($\"Main: {i}\");\n",
    "    System.Threading.Thread.Sleep(1000);\n",
    "}\n",
    "\n",
    "Console.WriteLine(\"Konec programu\");"
   ]
  },
  {
   "cell_type": "code",
   "execution_count": 33,
   "metadata": {
    "dotnet_interactive": {
     "language": "csharp"
    },
    "polyglot_notebook": {
     "kernelName": "csharp"
    },
    "vscode": {
     "languageId": "polyglot-notebook"
    }
   },
   "outputs": [
    {
     "name": "stdout",
     "output_type": "stream",
     "text": [
      "Main: 0\n",
      "Metoda: 0\n",
      "Main: 1\n",
      "System.Exception: Nahodna vyjimka\n",
      "Main: 2\n",
      "Main: 3\n",
      "Main: 4\n",
      "Konec programu\n"
     ]
    }
   ],
   "source": [
    "Task<int> DlouhoBeziciMetodaAsync(bool exception)\n",
    "{\n",
    "    return Task.Run(() =>\n",
    "    {\n",
    "        for (int i = 0; i < 5; i++)\n",
    "        {\n",
    "            Console.WriteLine($\"Metoda: {i}\");\n",
    "            System.Threading.Thread.Sleep(1000);\n",
    "\n",
    "            if(exception && Random.Shared.Next() % 5 == 0)\n",
    "            {\n",
    "                throw new Exception(\"Nahodna vyjimka\");\n",
    "            } \n",
    "        }\n",
    "\n",
    "        return 5;\n",
    "    });\n",
    "}\n",
    "\n",
    "async void MetodaCekajiciNaVysledek()\n",
    "{\n",
    "    try\n",
    "    {\n",
    "        Task<int> task  = DlouhoBeziciMetodaAsync(exception: true);\n",
    "\n",
    "        int vysledek = await task;\n",
    "\n",
    "        Console.WriteLine($\"vysledek: {vysledek}\");\n",
    "    }\n",
    "    catch(Exception ex)\n",
    "    {\n",
    "        Console.WriteLine($\"{ex.GetType()}: {ex.Message}\");\n",
    "    }\n",
    "}\n",
    "\n",
    "MetodaCekajiciNaVysledek();\n",
    "\n",
    "for (int i = 0; i < 5; i++)\n",
    "{\n",
    "    Console.WriteLine($\"Main: {i}\");\n",
    "    System.Threading.Thread.Sleep(1000);\n",
    "}\n",
    "\n",
    "Console.WriteLine(\"Konec programu\");"
   ]
  },
  {
   "attachments": {},
   "cell_type": "markdown",
   "metadata": {},
   "source": [
    "Příkaz `await task;` nepozastaví běh programu, ale jen přeruší provádění metody `Main` a mezití běží ostatní operace a po dokončení metody `Metoda` bude v provádění metody `Main` pokračovat. "
   ]
  },
  {
   "cell_type": "code",
   "execution_count": null,
   "metadata": {
    "vscode": {
     "languageId": "polyglot-notebook"
    }
   },
   "outputs": [],
   "source": [
    "int DlouhoBeziciMetoda()\n",
    "{\n",
    "    for (int i = 0; i < 10; i++)\n",
    "    {\n",
    "        Console.WriteLine($\"Metoda: {i}\");\n",
    "        System.Threading.Thread.Sleep(1000);\n",
    "    }\n",
    "\n",
    "    return 5;\n",
    "}\n",
    "\n",
    "void MetodaCekajiciNaVysledek()\n",
    "{\n",
    "    int vysledek = DlouhoBeziciMetoda();\n",
    "    Console.WriteLine($\"vysledek: {vysledek}\");\n",
    "}\n",
    "\n",
    "Task task = Task.Run(DlouhoBeziciMetoda);\n",
    "\n",
    "Console.WriteLine(\"Task spusten\");\n",
    "\n",
    "task.Wait();\n",
    "\n",
    "for (int i = 0; i < 10; i++)\n",
    "{\n",
    "    Console.WriteLine($\"Main: {i}\");\n",
    "    System.Threading.Thread.Sleep(1000);\n",
    "}\n",
    "\n",
    "Console.WriteLine(\"Konec programu\");"
   ]
  },
  {
   "cell_type": "code",
   "execution_count": null,
   "metadata": {
    "dotnet_interactive": {
     "language": "csharp"
    },
    "polyglot_notebook": {
     "kernelName": "csharp"
    },
    "vscode": {
     "languageId": "polyglot-notebook"
    }
   },
   "outputs": [],
   "source": [
    "void DlouhoBeziciMetoda()\n",
    "{\n",
    "    for (int i = 0; i < 10; i++)\n",
    "    {\n",
    "        Console.WriteLine($\"Metoda: {i}\");\n",
    "        System.Threading.Thread.Sleep(400);\n",
    "    }\n",
    "}\n",
    "\n",
    "void MetodaCekajiciNaVysledek()\n",
    "{\n",
    "    \n",
    "}\n",
    "\n",
    "Task task = Task.Run(DlouhoBeziciMetoda);\n",
    "Console.WriteLine(\"Task spusten\");\n",
    "await task;\n",
    "\n",
    "Console.WriteLine(\"Konec programu\");\n"
   ]
  }
 ],
 "metadata": {
  "language_info": {
   "name": "csharp"
  },
  "orig_nbformat": 4
 },
 "nbformat": 4,
 "nbformat_minor": 2
}
