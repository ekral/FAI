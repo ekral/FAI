{
 "cells": [
  {
   "attachments": {},
   "cell_type": "markdown",
   "metadata": {},
   "source": [
    "# OPN 10: Task a asynchronní programování\n",
    "---\n",
    "\n",
    "Obsah:\n",
    "- Task\n",
    "- async a await\n"
   ]
  },
  {
   "attachments": {},
   "cell_type": "markdown",
   "metadata": {},
   "source": [
    "## Task\n",
    "\n",
    "Pomocí třídy `Task` můžeme spouštět typicky asynchronně jednu operaci (metodu) bez návratové hodnoty. "
   ]
  },
  {
   "attachments": {},
   "cell_type": "markdown",
   "metadata": {},
   "source": [
    "V následujícím příkladu spustíme provádění metody Metoda pomocí statické metody `Task.Run`, tato metoda nám vrátí proměnnou `task`, krerá popisuje již spuštěnou operaci běžící typicky v jiném vlákně. Kompilátor se totiž může rozhodnout, zda se vyplatí operaci pouštět v jiném vlákně nebo ji stačí provést sychronně ve stejném vlákně. \n",
    "\n",
    "Příkaz `task.Wait();` pozastaví běh hlavního vlákna programu."
   ]
  },
  {
   "cell_type": "code",
   "execution_count": null,
   "metadata": {
    "dotnet_interactive": {
     "language": "csharp"
    },
    "polyglot_notebook": {
     "kernelName": "csharp"
    },
    "vscode": {
     "languageId": "polyglot-notebook"
    }
   },
   "outputs": [],
   "source": [
    "void DlouhoBeziciMetoda()\n",
    "{\n",
    "    for (int i = 0; i < 10; i++)\n",
    "    {\n",
    "        Console.WriteLine(i);\n",
    "        System.Threading.Thread.Sleep(1000);\n",
    "    }\n",
    "}\n",
    "\n",
    "Task task = Task.Run(DlouhoBeziciMetoda);\n",
    "Console.WriteLine(\"Task spusten\");\n",
    "task.Wait();\n",
    "Console.WriteLine(\"Konec programu\");"
   ]
  },
  {
   "attachments": {},
   "cell_type": "markdown",
   "metadata": {},
   "source": [
    "Příkaz `await task;` nepozastaví běh programu, ale jen přeruší provádění metody `Main` a mezití běží ostatní operace a po dokončení metody `Metoda` bude v provádění metody `Main` pokračovat. "
   ]
  },
  {
   "cell_type": "code",
   "execution_count": null,
   "metadata": {
    "dotnet_interactive": {
     "language": "csharp"
    },
    "polyglot_notebook": {
     "kernelName": "csharp"
    },
    "vscode": {
     "languageId": "polyglot-notebook"
    }
   },
   "outputs": [],
   "source": [
    "void DlouhoBeziciMetoda()\n",
    "{\n",
    "    for (int i = 0; i < 10; i++)\n",
    "    {\n",
    "        Console.WriteLine(i);\n",
    "        System.Threading.Thread.Sleep(400);\n",
    "    }\n",
    "}\n",
    "\n",
    "Task task = Task.Run(DlouhoBeziciMetoda);\n",
    "Console.WriteLine(\"Task spusten\");\n",
    "await task;\n",
    "Console.WriteLine(\"Konec programu\");\n"
   ]
  },
  {
   "cell_type": "code",
   "execution_count": 1,
   "metadata": {
    "dotnet_interactive": {
     "language": "csharp"
    },
    "polyglot_notebook": {
     "kernelName": "csharp"
    },
    "vscode": {
     "languageId": "polyglot-notebook"
    }
   },
   "outputs": [
    {
     "data": {
      "text/html": [
       "<div><div></div><div></div><div><strong>Installed Packages</strong><ul><li><span>Avalonia.Desktop, 0.10.19</span></li></ul></div></div>"
      ]
     },
     "metadata": {},
     "output_type": "display_data"
    },
    {
     "data": {
      "text/plain": [
       "Loading extensions from `C:\\Users\\erik\\.nuget\\packages\\skiasharp\\2.88.1-preview.108\\interactive-extensions\\dotnet\\SkiaSharp.DotNet.Interactive.dll`"
      ]
     },
     "metadata": {},
     "output_type": "display_data"
    }
   ],
   "source": [
    "#r \"nuget: Avalonia.Desktop\"\n",
    "\n",
    "using Avalonia;\n",
    "using Avalonia.Controls;\n",
    "using Avalonia.Controls.ApplicationLifetimes;\n",
    "using Avalonia.Layout;"
   ]
  },
  {
   "cell_type": "code",
   "execution_count": 2,
   "metadata": {
    "dotnet_interactive": {
     "language": "csharp"
    },
    "polyglot_notebook": {
     "kernelName": "csharp"
    },
    "vscode": {
     "languageId": "polyglot-notebook"
    }
   },
   "outputs": [],
   "source": [
    "if(Application.Current is null)\n",
    "{\n",
    "    AppBuilder.Configure<Application>().UsePlatformDetect().SetupWithLifetime(new ClassicDesktopStyleApplicationLifetime());\n",
    "\n",
    "    Application.Current.Styles.Add(new Avalonia.Themes.Fluent.FluentTheme(new Uri(\"avares://MyAssembly\")) { Mode = Avalonia.Themes.Fluent.FluentThemeMode.Dark});\n",
    "}"
   ]
  },
  {
   "cell_type": "code",
   "execution_count": 6,
   "metadata": {
    "dotnet_interactive": {
     "language": "csharp"
    },
    "polyglot_notebook": {
     "kernelName": "csharp"
    },
    "vscode": {
     "languageId": "polyglot-notebook"
    }
   },
   "outputs": [],
   "source": [
    "if(Application.Current.ApplicationLifetime is ClassicDesktopStyleApplicationLifetime desktop)\n",
    "{\n",
    "    Window window = new Window() \n",
    "    { \n",
    "        Title = \"Avalonia\"\n",
    "    };\n",
    "\n",
    "    TextBlock textBlock = new TextBlock() \n",
    "    { \n",
    "        Text = \"Ahoj\", \n",
    "        HorizontalAlignment = HorizontalAlignment.Center, \n",
    "        VerticalAlignment = VerticalAlignment.Center \n",
    "    };\n",
    "\n",
    "    window.Content = textBlock;\n",
    "\n",
    "    desktop.MainWindow = window;\n",
    "\n",
    "    desktop.Start(new string[0]);\n",
    "}"
   ]
  }
 ],
 "metadata": {
  "language_info": {
   "name": "csharp"
  },
  "orig_nbformat": 4
 },
 "nbformat": 4,
 "nbformat_minor": 2
}
