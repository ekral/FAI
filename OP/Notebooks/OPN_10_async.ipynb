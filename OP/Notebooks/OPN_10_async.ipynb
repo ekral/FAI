{
 "cells": [
  {
   "attachments": {},
   "cell_type": "markdown",
   "metadata": {},
   "source": [
    "# OPN 10: Task a asynchronní programování\n",
    "---\n",
    "\n",
    "Obsah:\n",
    "- Task\n",
    "- Klíčové slova async a await"
   ]
  },
  {
   "attachments": {},
   "cell_type": "markdown",
   "metadata": {},
   "source": [
    "## Task\n",
    "\n",
    "Pomocí třídy `Task` můžeme spouštět typicky asynchronně jednu operaci (metodu) bez návratové hodnoty. "
   ]
  },
  {
   "attachments": {},
   "cell_type": "markdown",
   "metadata": {},
   "source": [
    "V následujícím příkladu spustíme provádění metody Metoda pomocí statické metody `Task.Run`, tato metoda nám vrátí proměnnou typu `Task`, krerá popisuje již spuštěnou operaci běžící typicky v jiném vlákně. \n",
    "\n",
    "V následujícím příkladu nejprve pomocí příkazu `Task.Run(DlouhoBeziciMetoda);` spustíme provádění metody `DlouhoBeziciMetoda`, která vypisuje text na konzoli v intervalu jedné sekundy. A poté začneme souběžně vypisovat v hlavním(main) vlákně ve stejném intervalu také na konzoli. Zápis na konzoli je možný a bezpečný z obou vláken, protože konzole zápis a čtení synchronizuje [(Console I/O Streams. Microsoft Docs. 2022)](https://docs.microsoft.com/en-us/dotnet/api/system.console?view=net-6.0#console-io-streams). \n",
    "\n",
    "Příkaz `task.Wait()` na konci čeká na dokončení tasku tak, aby se nám program předčasně neukončil před jeho dokončením."
   ]
  },
  {
   "cell_type": "code",
   "execution_count": 24,
   "metadata": {
    "dotnet_interactive": {
     "language": "csharp"
    },
    "polyglot_notebook": {
     "kernelName": "csharp"
    },
    "vscode": {
     "languageId": "polyglot-notebook"
    }
   },
   "outputs": [
    {
     "name": "stdout",
     "output_type": "stream",
     "text": [
      "Main: 0\n",
      "Metoda: 0\n",
      "Main: 1\n",
      "Metoda: 1\n",
      "Main: 2\n",
      "Metoda: 2\n",
      "Main: 3\n",
      "Metoda: 3\n",
      "Main: 4\n",
      "Metoda: 4\n",
      "Main: 5\n",
      "Main: 6\n",
      "Main: 7\n"
     ]
    }
   ],
   "source": [
    "void DlouhoBeziciMetoda()\n",
    "{\n",
    "    for (int i = 0; i < 5; i++)\n",
    "    {\n",
    "        Console.WriteLine($\"Metoda: {i}\");\n",
    "        System.Threading.Thread.Sleep(1000);\n",
    "    }\n",
    "}\n",
    "\n",
    "Task task = Task.Run(DlouhoBeziciMetoda);\n",
    "\n",
    "for (int i = 0; i < 8; i++)\n",
    "{\n",
    "    Console.WriteLine($\"Main: {i}\");\n",
    "    System.Threading.Thread.Sleep(1000);\n",
    "}\n",
    "\n",
    "task.Wait();"
   ]
  },
  {
   "attachments": {},
   "cell_type": "markdown",
   "metadata": {},
   "source": [
    "Zkuste si v předcházejícím příkladu zvolit kratší interval pro výpis v hlavním vlákně a případně odstranit poslední příkaz task.Wait();"
   ]
  },
  {
   "attachments": {},
   "cell_type": "markdown",
   "metadata": {},
   "source": [
    "Pokud bychom použili příkaz `task.Wait()` hned po spuštění tasku, tak se běh hlavního vlákna pozastaví dokud nebude task dokončen a výsledkem by bylo, že výpisy neproběhnou synchronně."
   ]
  },
  {
   "cell_type": "code",
   "execution_count": 27,
   "metadata": {
    "dotnet_interactive": {
     "language": "csharp"
    },
    "polyglot_notebook": {
     "kernelName": "csharp"
    },
    "vscode": {
     "languageId": "polyglot-notebook"
    }
   },
   "outputs": [
    {
     "name": "stdout",
     "output_type": "stream",
     "text": [
      "Metoda: 0\n",
      "Metoda: 1\n",
      "Metoda: 2\n",
      "Metoda: 3\n",
      "Metoda: 4\n",
      "Main: 0\n",
      "Main: 1\n",
      "Main: 2\n",
      "Main: 3\n",
      "Main: 4\n",
      "Main: 5\n",
      "Main: 6\n",
      "Main: 7\n"
     ]
    }
   ],
   "source": [
    "void DlouhoBeziciMetoda()\n",
    "{\n",
    "    for (int i = 0; i < 5; i++)\n",
    "    {\n",
    "        Console.WriteLine($\"Metoda: {i}\");\n",
    "        System.Threading.Thread.Sleep(1000);\n",
    "    }\n",
    "}\n",
    "\n",
    "Task task = Task.Run(DlouhoBeziciMetoda);\n",
    "\n",
    "task.Wait();\n",
    "\n",
    "for (int i = 0; i < 8; i++)\n",
    "{\n",
    "    Console.WriteLine($\"Main: {i}\");\n",
    "    System.Threading.Thread.Sleep(1000);\n",
    "}\n"
   ]
  },
  {
   "attachments": {},
   "cell_type": "markdown",
   "metadata": {},
   "source": [
    "## `Task<T>` s návratovou hodnotou"
   ]
  },
  {
   "attachments": {},
   "cell_type": "markdown",
   "metadata": {},
   "source": [
    "Pokud metoda vrací hodnotu, tak můžeme využít generický typ `Task<T>`. \n",
    "\n",
    "V následujícím příkladu vrací `TDlouhoBeziciMetoda` náhodné číslo po dokončení simulovaného dlouhého výpočtu. Výsledek získáme pomocí příkazu `task.Result`, který opět pozastaví hlavní vlákno, dokud se task nedokončí."
   ]
  },
  {
   "cell_type": "code",
   "execution_count": 30,
   "metadata": {
    "dotnet_interactive": {
     "language": "csharp"
    },
    "polyglot_notebook": {
     "kernelName": "csharp"
    },
    "vscode": {
     "languageId": "polyglot-notebook"
    }
   },
   "outputs": [
    {
     "name": "stdout",
     "output_type": "stream",
     "text": [
      "Metoda: 0\n",
      "Metoda: 1\n",
      "Metoda: 2\n",
      "Metoda: 3\n",
      "Metoda: 4\n",
      "vysledek: 50\n",
      "Main: 0\n",
      "Main: 1\n",
      "Main: 2\n",
      "Main: 3\n",
      "Main: 4\n",
      "Main: 5\n",
      "Main: 6\n",
      "Main: 7\n"
     ]
    }
   ],
   "source": [
    "int DlouhoBeziciMetoda()\n",
    "{\n",
    "    for (int i = 0; i < 5; i++)\n",
    "    {\n",
    "        Console.WriteLine($\"Metoda: {i}\");\n",
    "        System.Threading.Thread.Sleep(1000);\n",
    "    }\n",
    "\n",
    "    return Random.Shared.Next(0, 100);\n",
    "}\n",
    "\n",
    "Task<int> task = Task.Run(DlouhoBeziciMetoda);\n",
    "\n",
    "int vysledek = task.Result;\n",
    "\n",
    "Console.WriteLine($\"vysledek: {vysledek}\");\n",
    "\n",
    "for (int i = 0; i < 8; i++)\n",
    "{\n",
    "    Console.WriteLine($\"Main: {i}\");\n",
    "    System.Threading.Thread.Sleep(1000);\n",
    "}"
   ]
  },
  {
   "attachments": {},
   "cell_type": "markdown",
   "metadata": {},
   "source": [
    "## Klíčové slova async a await"
   ]
  },
  {
   "attachments": {},
   "cell_type": "markdown",
   "metadata": {},
   "source": [
    "Pomocí klíčových slov `async` a `await` můžeme jednoduše synchroynizovat asynchronní operace a kód zůstal přehledný a mohli jsme používat vyjímky stejným způsobem jako v běžném kódu. Například v programu často chceme stáhnout v seznam produktů v jiném vlákně, tak aby se nám nezablokovalo hlavní vlákno klientské aplikaci a po dokončení stažení produků, chceme tyto produkty zobrazit."
   ]
  },
  {
   "attachments": {},
   "cell_type": "markdown",
   "metadata": {},
   "source": [
    "Proto, abychom mohli demonstrovat použití klíčového slova `await`. Tak si vytvoříme složitější příklad. Spuštění tasku je přesunuté přímo do metody `DlouhoBeziciMetodaAsync`, která vrací přímo typ `Task<int>`. Podle konvence má mít název metody, která vrací Task příponu *Async*. Potom máme druhou metodu, která čeká na dokončení metody `DlouhoBeziciMetodaAsync` a pak zobrazí výsledek výpočtu."
   ]
  },
  {
   "attachments": {},
   "cell_type": "markdown",
   "metadata": {},
   "source": [
    "Nejprve si ale ukážeme příklad bez async, kde používáme příkaz `task.Result`, což znamená že se se hlavní vlákno pozastaví a kód se neprovádí souběžně. "
   ]
  },
  {
   "cell_type": "code",
   "execution_count": 31,
   "metadata": {
    "dotnet_interactive": {
     "language": "csharp"
    },
    "polyglot_notebook": {
     "kernelName": "csharp"
    },
    "vscode": {
     "languageId": "polyglot-notebook"
    }
   },
   "outputs": [
    {
     "name": "stdout",
     "output_type": "stream",
     "text": [
      "Metoda: 0\n",
      "Metoda: 1\n",
      "Metoda: 2\n",
      "Metoda: 3\n",
      "Metoda: 4\n",
      "vysledek: 20\n",
      "Main: 0\n",
      "Main: 1\n",
      "Main: 2\n",
      "Main: 3\n",
      "Main: 4\n",
      "Main: 5\n",
      "Main: 6\n",
      "Main: 7\n",
      "Konec programu\n"
     ]
    }
   ],
   "source": [
    "Task<int> DlouhoBeziciMetodaAsync()\n",
    "{\n",
    "    return Task.Run(() =>\n",
    "    {\n",
    "        for (int i = 0; i < 5; i++)\n",
    "        {\n",
    "            Console.WriteLine($\"Metoda: {i}\");\n",
    "            System.Threading.Thread.Sleep(1000);\n",
    "        }\n",
    "\n",
    "        return Random.Shared.Next(0, 100); \n",
    "    });\n",
    "}\n",
    "\n",
    "void MetodaCekajiciNaVysledek()\n",
    "{\n",
    "    Task<int> task = DlouhoBeziciMetodaAsync();\n",
    "    \n",
    "    int vysledek = task.Result;\n",
    "\n",
    "    Console.WriteLine($\"vysledek: {vysledek}\");\n",
    "}\n",
    "\n",
    "MetodaCekajiciNaVysledek();\n",
    "\n",
    "for (int i = 0; i < 8; i++)\n",
    "{\n",
    "    Console.WriteLine($\"Main: {i}\");\n",
    "    System.Threading.Thread.Sleep(1000);\n",
    "}\n",
    "\n",
    "Console.WriteLine(\"Konec programu\");"
   ]
  },
  {
   "attachments": {},
   "cell_type": "markdown",
   "metadata": {},
   "source": [
    "Nyní použijeme klíčové slovo `await`, díky čemuž se `DlouhoBeziciMetodaAsync` provádí souběžně s kódem v hlavním vlákně a po jejím dokončení se hlavní vlákno přeruší, provede se kód za příkazem `await` a pak zase pokračuje hlavní vlákno. Klíčové slovo `await` můžeme použít jen v metodě označené klíčovým slovem `async`."
   ]
  },
  {
   "cell_type": "code",
   "execution_count": 33,
   "metadata": {
    "dotnet_interactive": {
     "language": "csharp"
    },
    "polyglot_notebook": {
     "kernelName": "csharp"
    },
    "vscode": {
     "languageId": "polyglot-notebook"
    }
   },
   "outputs": [
    {
     "name": "stdout",
     "output_type": "stream",
     "text": [
      "Main: 0\n",
      "Metoda: 0\n",
      "Metoda: 1\n",
      "Main: 1\n",
      "Metoda: 2\n",
      "Main: 2\n",
      "Main: 3\n",
      "Metoda: 3\n",
      "Main: 4\n",
      "Metoda: 4\n",
      "Main: 5\n",
      "vysledek: 85\n",
      "Main: 6\n",
      "Main: 7\n",
      "Konec programu\n"
     ]
    }
   ],
   "source": [
    "Task<int> DlouhoBeziciMetodaAsync()\n",
    "{\n",
    "    return Task.Run(() =>\n",
    "    {\n",
    "        for (int i = 0; i < 5; i++)\n",
    "        {\n",
    "            Console.WriteLine($\"Metoda: {i}\");\n",
    "            System.Threading.Thread.Sleep(1000);\n",
    "        }\n",
    "\n",
    "        return Random.Shared.Next(0, 100); \n",
    "    });\n",
    "}\n",
    "\n",
    "async void MetodaCekajiciNaVysledek()\n",
    "{\n",
    "    Task<int> task = DlouhoBeziciMetodaAsync();\n",
    "    \n",
    "    int vysledek = await task;\n",
    "\n",
    "    Console.WriteLine($\"vysledek: {vysledek}\");\n",
    "}\n",
    "\n",
    "MetodaCekajiciNaVysledek();\n",
    "\n",
    "for (int i = 0; i < 8; i++)\n",
    "{\n",
    "    Console.WriteLine($\"Main: {i}\");\n",
    "    System.Threading.Thread.Sleep(1000);\n",
    "}\n",
    "\n",
    "Console.WriteLine(\"Konec programu\");"
   ]
  },
  {
   "cell_type": "code",
   "execution_count": null,
   "metadata": {
    "dotnet_interactive": {
     "language": "csharp"
    },
    "polyglot_notebook": {
     "kernelName": "csharp"
    },
    "vscode": {
     "languageId": "polyglot-notebook"
    }
   },
   "outputs": [],
   "source": [
    "int DlouhoBeziciMetoda(bool exception)\n",
    "{\n",
    "    for (int i = 0; i < 5; i++)\n",
    "    {\n",
    "        Console.WriteLine($\"Metoda: {i}\");\n",
    "        System.Threading.Thread.Sleep(1000);\n",
    "\n",
    "        if(exception && Random.Shared.Next() % 5 == 0)\n",
    "        {\n",
    "            throw new Exception(\"Nahodna vyjimka\");\n",
    "        } \n",
    "    }\n",
    "\n",
    "    return 5;\n",
    "}\n"
   ]
  },
  {
   "cell_type": "code",
   "execution_count": 24,
   "metadata": {
    "dotnet_interactive": {
     "language": "csharp"
    },
    "polyglot_notebook": {
     "kernelName": "csharp"
    },
    "vscode": {
     "languageId": "polyglot-notebook"
    }
   },
   "outputs": [
    {
     "name": "stdout",
     "output_type": "stream",
     "text": [
      "Metoda: 0\n",
      "Metoda: 1\n",
      "Metoda: 2\n",
      "Metoda: 3\n",
      "Metoda: 4\n",
      "System.Exception: Nahodna vyjimka\n",
      "Main: 0\n",
      "Main: 1\n",
      "Main: 2\n",
      "Main: 3\n",
      "Main: 4\n",
      "Konec programu\n"
     ]
    }
   ],
   "source": [
    "int DlouhoBeziciMetoda(bool exception)\n",
    "{\n",
    "    for (int i = 0; i < 5; i++)\n",
    "    {\n",
    "        Console.WriteLine($\"Metoda: {i}\");\n",
    "        System.Threading.Thread.Sleep(1000);\n",
    "\n",
    "        if(exception && Random.Shared.Next() % 5 == 0)\n",
    "        {\n",
    "            throw new Exception(\"Nahodna vyjimka\");\n",
    "        } \n",
    "    }\n",
    "\n",
    "    return 5;\n",
    "}\n",
    "\n",
    "void MetodaCekajiciNaVysledek()\n",
    "{\n",
    "    try\n",
    "    {\n",
    "        int vysledek = DlouhoBeziciMetoda(exception: true);\n",
    "        Console.WriteLine($\"vysledek: {vysledek}\");\n",
    "    }\n",
    "    catch(Exception ex)\n",
    "    {\n",
    "        Console.WriteLine($\"{ex.GetType()}: {ex.Message}\");\n",
    "    }\n",
    "}\n",
    "\n",
    "MetodaCekajiciNaVysledek();\n",
    "\n",
    "for (int i = 0; i < 5; i++)\n",
    "{\n",
    "    Console.WriteLine($\"Main: {i}\");\n",
    "    System.Threading.Thread.Sleep(1000);\n",
    "}\n",
    "\n",
    "Console.WriteLine(\"Konec programu\");"
   ]
  },
  {
   "cell_type": "code",
   "execution_count": 25,
   "metadata": {
    "dotnet_interactive": {
     "language": "csharp"
    },
    "polyglot_notebook": {
     "kernelName": "csharp"
    },
    "vscode": {
     "languageId": "polyglot-notebook"
    }
   },
   "outputs": [
    {
     "name": "stdout",
     "output_type": "stream",
     "text": [
      "Metoda: 0\n",
      "Metoda: 1\n",
      "Metoda: 2\n",
      "Metoda: 3\n",
      "Metoda: 4\n",
      "System.AggregateException: One or more errors occurred. (Nahodna vyjimka)\n",
      "Main: 0\n",
      "Main: 1\n",
      "Main: 2\n",
      "Main: 3\n",
      "Main: 4\n",
      "Konec programu\n"
     ]
    }
   ],
   "source": [
    "Task<int> DlouhoBeziciMetodaAsync(bool exception)\n",
    "{\n",
    "    return Task.Run(() =>\n",
    "    {\n",
    "        for (int i = 0; i < 5; i++)\n",
    "        {\n",
    "            Console.WriteLine($\"Metoda: {i}\");\n",
    "            System.Threading.Thread.Sleep(1000);\n",
    "\n",
    "            if(exception && Random.Shared.Next() % 5 == 0)\n",
    "            {\n",
    "                throw new Exception(\"Nahodna vyjimka\");\n",
    "            } \n",
    "        }\n",
    "\n",
    "        return 5;\n",
    "    });\n",
    "}\n",
    "\n",
    "void MetodaCekajiciNaVysledek()\n",
    "{\n",
    "    try\n",
    "    {\n",
    "        Task<int> task = DlouhoBeziciMetodaAsync(exception: true);\n",
    "        \n",
    "        task.Wait();\n",
    "\n",
    "        int vysledek = task.Result;\n",
    "\n",
    "        Console.WriteLine($\"vysledek: {vysledek}\");\n",
    "    }\n",
    "    catch(Exception ex) // https://learn.microsoft.com/en-us/dotnet/standard/parallel-programming/exception-handling-task-parallel-library\n",
    "    {\n",
    "        Console.WriteLine($\"{ex.GetType()}: {ex.Message}\");\n",
    "    }\n",
    "}\n",
    "\n",
    "MetodaCekajiciNaVysledek();\n",
    "\n",
    "for (int i = 0; i < 5; i++)\n",
    "{\n",
    "    Console.WriteLine($\"Main: {i}\");\n",
    "    System.Threading.Thread.Sleep(1000);\n",
    "}\n",
    "\n",
    "Console.WriteLine(\"Konec programu\");"
   ]
  },
  {
   "cell_type": "code",
   "execution_count": 32,
   "metadata": {
    "dotnet_interactive": {
     "language": "csharp"
    },
    "polyglot_notebook": {
     "kernelName": "csharp"
    },
    "vscode": {
     "languageId": "polyglot-notebook"
    }
   },
   "outputs": [
    {
     "name": "stdout",
     "output_type": "stream",
     "text": [
      "Main: 0\n",
      "Metoda: 0\n",
      "Main: 1\n",
      "Chyba: One or more errors occurred. (Nahodna vyjimka)\n",
      "Main: 2\n",
      "Main: 3\n",
      "Main: 4\n",
      "Konec programu\n"
     ]
    }
   ],
   "source": [
    "Task<int> DlouhoBeziciMetodaAsync(bool exception)\n",
    "{\n",
    "    return Task.Run(() =>\n",
    "    {\n",
    "        for (int i = 0; i < 5; i++)\n",
    "        {\n",
    "            Console.WriteLine($\"Metoda: {i}\");\n",
    "            System.Threading.Thread.Sleep(1000);\n",
    "\n",
    "            if(exception && Random.Shared.Next() % 5 == 0)\n",
    "            {\n",
    "                throw new Exception(\"Nahodna vyjimka\");\n",
    "            } \n",
    "        }\n",
    "\n",
    "        return 5;\n",
    "    });\n",
    "}\n",
    "\n",
    "void MetodaCekajiciNaVysledek()\n",
    "{\n",
    "    try\n",
    "    {\n",
    "        Task<int> task = DlouhoBeziciMetodaAsync(exception: true);\n",
    "        \n",
    "        task.ContinueWith(task => \n",
    "        {\n",
    "            if(task.Status == TaskStatus.RanToCompletion)\n",
    "            {\n",
    "                Console.WriteLine($\"vysledek: {task.Result}\");\n",
    "            }\n",
    "            else\n",
    "            {\n",
    "                if(task.Status == TaskStatus.Faulted)\n",
    "                {\n",
    "                    Console.WriteLine($\"Chyba: {task.Exception.Message}\");\n",
    "                }\n",
    "            }\n",
    "        });\n",
    "    }\n",
    "    catch(Exception ex)\n",
    "    {\n",
    "        Console.WriteLine($\"{ex.GetType()}: {ex.Message}\");\n",
    "    }\n",
    "}\n",
    "\n",
    "MetodaCekajiciNaVysledek();\n",
    "\n",
    "for (int i = 0; i < 5; i++)\n",
    "{\n",
    "    Console.WriteLine($\"Main: {i}\");\n",
    "    System.Threading.Thread.Sleep(1000);\n",
    "}\n",
    "\n",
    "Console.WriteLine(\"Konec programu\");"
   ]
  },
  {
   "cell_type": "code",
   "execution_count": 33,
   "metadata": {
    "dotnet_interactive": {
     "language": "csharp"
    },
    "polyglot_notebook": {
     "kernelName": "csharp"
    },
    "vscode": {
     "languageId": "polyglot-notebook"
    }
   },
   "outputs": [
    {
     "name": "stdout",
     "output_type": "stream",
     "text": [
      "Main: 0\n",
      "Metoda: 0\n",
      "Main: 1\n",
      "System.Exception: Nahodna vyjimka\n",
      "Main: 2\n",
      "Main: 3\n",
      "Main: 4\n",
      "Konec programu\n"
     ]
    }
   ],
   "source": [
    "Task<int> DlouhoBeziciMetodaAsync(bool exception)\n",
    "{\n",
    "    return Task.Run(() =>\n",
    "    {\n",
    "        for (int i = 0; i < 5; i++)\n",
    "        {\n",
    "            Console.WriteLine($\"Metoda: {i}\");\n",
    "            System.Threading.Thread.Sleep(1000);\n",
    "\n",
    "            if(exception && Random.Shared.Next() % 5 == 0)\n",
    "            {\n",
    "                throw new Exception(\"Nahodna vyjimka\");\n",
    "            } \n",
    "        }\n",
    "\n",
    "        return 5;\n",
    "    });\n",
    "}\n",
    "\n",
    "async void MetodaCekajiciNaVysledek()\n",
    "{\n",
    "    try\n",
    "    {\n",
    "        Task<int> task  = DlouhoBeziciMetodaAsync(exception: true);\n",
    "\n",
    "        int vysledek = await task;\n",
    "\n",
    "        Console.WriteLine($\"vysledek: {vysledek}\");\n",
    "    }\n",
    "    catch(Exception ex)\n",
    "    {\n",
    "        Console.WriteLine($\"{ex.GetType()}: {ex.Message}\");\n",
    "    }\n",
    "}\n",
    "\n",
    "MetodaCekajiciNaVysledek();\n",
    "\n",
    "for (int i = 0; i < 5; i++)\n",
    "{\n",
    "    Console.WriteLine($\"Main: {i}\");\n",
    "    System.Threading.Thread.Sleep(1000);\n",
    "}\n",
    "\n",
    "Console.WriteLine(\"Konec programu\");"
   ]
  },
  {
   "attachments": {},
   "cell_type": "markdown",
   "metadata": {},
   "source": [
    "Příkaz `await task;` nepozastaví běh programu, ale jen přeruší provádění metody `Main` a mezití běží ostatní operace a po dokončení metody `Metoda` bude v provádění metody `Main` pokračovat. "
   ]
  },
  {
   "cell_type": "code",
   "execution_count": null,
   "metadata": {
    "dotnet_interactive": {
     "language": "csharp"
    },
    "polyglot_notebook": {
     "kernelName": "csharp"
    },
    "vscode": {
     "languageId": "polyglot-notebook"
    }
   },
   "outputs": [],
   "source": [
    "int DlouhoBeziciMetoda()\n",
    "{\n",
    "    for (int i = 0; i < 10; i++)\n",
    "    {\n",
    "        Console.WriteLine($\"Metoda: {i}\");\n",
    "        System.Threading.Thread.Sleep(1000);\n",
    "    }\n",
    "\n",
    "    return 5;\n",
    "}\n",
    "\n",
    "void MetodaCekajiciNaVysledek()\n",
    "{\n",
    "    int vysledek = DlouhoBeziciMetoda();\n",
    "    Console.WriteLine($\"vysledek: {vysledek}\");\n",
    "}\n",
    "\n",
    "Task task = Task.Run(DlouhoBeziciMetoda);\n",
    "\n",
    "Console.WriteLine(\"Task spusten\");\n",
    "\n",
    "task.Wait();\n",
    "\n",
    "for (int i = 0; i < 10; i++)\n",
    "{\n",
    "    Console.WriteLine($\"Main: {i}\");\n",
    "    System.Threading.Thread.Sleep(1000);\n",
    "}\n",
    "\n",
    "Console.WriteLine(\"Konec programu\");"
   ]
  },
  {
   "cell_type": "code",
   "execution_count": null,
   "metadata": {
    "dotnet_interactive": {
     "language": "csharp"
    },
    "polyglot_notebook": {
     "kernelName": "csharp"
    },
    "vscode": {
     "languageId": "polyglot-notebook"
    }
   },
   "outputs": [],
   "source": [
    "void DlouhoBeziciMetoda()\n",
    "{\n",
    "    for (int i = 0; i < 10; i++)\n",
    "    {\n",
    "        Console.WriteLine($\"Metoda: {i}\");\n",
    "        System.Threading.Thread.Sleep(400);\n",
    "    }\n",
    "}\n",
    "\n",
    "void MetodaCekajiciNaVysledek()\n",
    "{\n",
    "    \n",
    "}\n",
    "\n",
    "Task task = Task.Run(DlouhoBeziciMetoda);\n",
    "Console.WriteLine(\"Task spusten\");\n",
    "await task;\n",
    "\n",
    "Console.WriteLine(\"Konec programu\");\n"
   ]
  }
 ],
 "metadata": {
  "language_info": {
   "name": "csharp"
  },
  "orig_nbformat": 4
 },
 "nbformat": 4,
 "nbformat_minor": 2
}
