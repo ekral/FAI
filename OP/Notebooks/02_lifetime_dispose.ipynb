{
 "cells": [
  {
   "cell_type": "markdown",
   "metadata": {},
   "source": [
    "# 02: Object lifetime a použití dispose\n",
    "**autor: Erik Král ekral@utb.cz**\n",
    "\n",
    "---\n",
    "\n",
    "Obsah\n",
    "- Životní cyklus objektu.\n",
    "- Statické prvky.\n",
    "- Použití metody Dispose z rozhraní IDispose.\n",
    "\n"
   ]
  },
  {
   "cell_type": "markdown",
   "metadata": {},
   "source": [
    "## Životní cyklus objektu\n",
    "\n",
    "Životní cyklus objektu (lifetime) představuje čas mezi vytvoření a zničením objektu. "
   ]
  },
  {
   "cell_type": "markdown",
   "metadata": {},
   "source": [
    "### Lokální proměnná\n",
    "\n",
    "Lokální proměnnná je alokovaná na zásobníku a existuje od své definice do konce bloku definovaného složenými závorkami.\n",
    "\n",
    "V následujícím příkladu existuje proměnná `x` od své definice do konce Metody `Metoda`."
   ]
  },
  {
   "cell_type": "code",
   "execution_count": 1,
   "metadata": {
    "dotnet_interactive": {
     "language": "csharp"
    },
    "polyglot_notebook": {
     "kernelName": "csharp"
    },
    "vscode": {
     "languageId": "polyglot-notebook"
    }
   },
   "outputs": [
    {
     "name": "stdout",
     "output_type": "stream",
     "text": [
      "1\r\n"
     ]
    }
   ],
   "source": [
    "void Metoda()\n",
    "{\n",
    "    int x = 1;\n",
    "\n",
    "    if (x > 0)\n",
    "    {\n",
    "        Console.WriteLine(x);\n",
    "    }\n",
    "}\n",
    "\n",
    "Metoda();"
   ]
  },
  {
   "cell_type": "markdown",
   "metadata": {},
   "source": [
    "V dalším příkladu je proměnná `x` definovaná uvnitř metody `if` a proto přestane existovat a bude zničena na konci bloku podmíněného příkazu `if`."
   ]
  },
  {
   "cell_type": "code",
   "execution_count": 10,
   "metadata": {
    "dotnet_interactive": {
     "language": "csharp"
    },
    "polyglot_notebook": {
     "kernelName": "csharp"
    },
    "vscode": {
     "languageId": "polyglot-notebook"
    }
   },
   "outputs": [
    {
     "name": "stdout",
     "output_type": "stream",
     "text": [
      "1\r\n"
     ]
    }
   ],
   "source": [
    "void Metoda()\n",
    "{\n",
    "    if (true)\n",
    "    {\n",
    "        int x = 1;\n",
    "        Console.WriteLine(x);\n",
    "    }\n",
    "\n",
    "}\n",
    "\n",
    "Metoda();"
   ]
  },
  {
   "cell_type": "markdown",
   "metadata": {},
   "source": [
    "### Statická proměnná\n",
    "\n",
    "Statická proměnná (field) existuje po celou dobu běhu programu.\n",
    "\n",
    "V následujícím příkladu je proměnná `x` definovaná jako statická, znamená to, že bude existovat po celou dobu běhu programu.\n"
   ]
  },
  {
   "cell_type": "code",
   "execution_count": 2,
   "metadata": {
    "dotnet_interactive": {
     "language": "csharp"
    },
    "polyglot_notebook": {
     "kernelName": "csharp"
    },
    "vscode": {
     "languageId": "polyglot-notebook"
    }
   },
   "outputs": [
    {
     "name": "stdout",
     "output_type": "stream",
     "text": [
      "1\r\n"
     ]
    }
   ],
   "source": [
    "class Program\n",
    "{\n",
    "    private static int x = 1;\n",
    "\n",
    "    public static void Metoda()\n",
    "    {\n",
    "        Console.WriteLine(x);\n",
    "    }\n",
    "}\n",
    "\n",
    "Program.Metoda();"
   ]
  },
  {
   "cell_type": "markdown",
   "metadata": {},
   "source": [
    "### Objekt alokovaný na haldě\n",
    "\n",
    "Objekt na haldě alokovaný pomocí operátoru `new` existuje od své alokace po uvolnění paměti. V jazyce C# uvolňuje tuto paměť automaticky Garbage Collector potom co zjistí, že na objekt na haldě už není žádná reference. Naproti tomu, například v jazyce C nebo C++ musíme paměť uvolňovat manuálně pomocí příkazu `free` respektive `delete`.\n",
    "\n",
    "V následujícím příkladu alokujeme dynamické pole čísel na haldě pomocí operátoru `new` a referenci si uložíme do lokální proměnné `list`. Lokální proměnná `list` sice přestane existovat na konci metody `VratCisla`, ale vrátí svoji hodnotu, tedy referenci na pole čísel a přiřadí ji proměnné `cisla` v metodě `Main`. Teprve až přestane existovat proměnná `cisla` v metodě `Main`, tak už nebude existovat žádná reference na pole na haldě a Garbage Collector automaticky uvolní alokovanou paměť."
   ]
  },
  {
   "cell_type": "code",
   "execution_count": 14,
   "metadata": {
    "dotnet_interactive": {
     "language": "csharp"
    },
    "polyglot_notebook": {
     "kernelName": "csharp"
    },
    "vscode": {
     "languageId": "polyglot-notebook"
    }
   },
   "outputs": [
    {
     "data": {
      "text/html": [
       "<div class=\"dni-plaintext\"><pre>[ 1, 2, 3, 4, 5, 6, 7 ]</pre></div><style>\r\n",
       ".dni-code-hint {\r\n",
       "    font-style: italic;\r\n",
       "    overflow: hidden;\r\n",
       "    white-space: nowrap;\r\n",
       "}\r\n",
       ".dni-treeview {\r\n",
       "    white-space: nowrap;\r\n",
       "}\r\n",
       ".dni-treeview td {\r\n",
       "    vertical-align: top;\r\n",
       "    text-align: start;\r\n",
       "}\r\n",
       "details.dni-treeview {\r\n",
       "    padding-left: 1em;\r\n",
       "}\r\n",
       "table td {\r\n",
       "    text-align: start;\r\n",
       "}\r\n",
       "table tr { \r\n",
       "    vertical-align: top; \r\n",
       "    margin: 0em 0px;\r\n",
       "}\r\n",
       "table tr td pre \r\n",
       "{ \r\n",
       "    vertical-align: top !important; \r\n",
       "    margin: 0em 0px !important;\r\n",
       "} \r\n",
       "table th {\r\n",
       "    text-align: start;\r\n",
       "}\r\n",
       "</style>"
      ]
     },
     "metadata": {},
     "output_type": "display_data"
    }
   ],
   "source": [
    "static int[] VratCisla()\n",
    "{\n",
    "    int[] cisla = new int[] { 1, 2, 3, 4, 5, 6, 7 };\n",
    "    return cisla;\n",
    "}\n",
    "\n",
    "int[] cisla = VratCisla();\n",
    "\n",
    "cisla"
   ]
  },
  {
   "cell_type": "markdown",
   "metadata": {},
   "source": [
    "Naproti tomu, v **jazyce C** bychom museli paměť uvolnit manuálně pomocí funkce `free`. V následujícím příkladu alokujeme pole čísel na haldě pomocí funkce `malloc` a potom jej uvolňíme pomocí funkce `free`.\n",
    "\n",
    "```c\n",
    "static int* vrat_cisla()\n",
    "{\n",
    "    int* cisla = malloc(3 * sizeof(int));\n",
    "\n",
    "    cisla[0] = 1;\n",
    "    cisla[1] = 1;\n",
    "    cisla[2] = 1;\n",
    "\n",
    "    return cisla;\n",
    "}\n",
    "\n",
    "int main()\n",
    "{\n",
    "    int* cisla = vrat_cisla();\n",
    "\n",
    "    free(cisla);\n",
    "}\n",
    "```"
   ]
  },
  {
   "cell_type": "markdown",
   "metadata": {},
   "source": [
    "---\n",
    "Více o problematice programovacích jazyků se můžete dozvědět napřílad v této knize:\n",
    "\n",
    "[Michael L. Scott. 2009. Programming Language Pragmatics](https://www.cs.rochester.edu/~scott/pragmatics/)\n",
    "\n",
    "Více se o Garbage Collectoru v jazyce C# dozvíte zde:\n",
    "\n",
    "[Fundamentals of garbage collection, 2022](https://docs.microsoft.com/en-us/dotnet/standard/garbage-collection/fundamentals)\n"
   ]
  },
  {
   "cell_type": "markdown",
   "metadata": {},
   "source": [
    "## Statické prvky\n",
    "\n",
    "Ke statickým prvkům se přistupuje pomocí jména třídy a ne pomocí instance třídy. Statické metody a property mohou přistupovat jen ke statickým prvkům. V následujících příkladech si probereme příklad na statickou metodu."
   ]
  },
  {
   "cell_type": "markdown",
   "metadata": {},
   "source": [
    "* Nejprve si definujeme třídu `Vypocet` a v ní statickou metodu `Soucet`:"
   ]
  },
  {
   "cell_type": "code",
   "execution_count": 6,
   "metadata": {
    "dotnet_interactive": {
     "language": "csharp"
    },
    "polyglot_notebook": {
     "kernelName": "csharp"
    },
    "vscode": {
     "languageId": "polyglot-notebook"
    }
   },
   "outputs": [
    {
     "data": {
      "text/html": [
       "<div class=\"dni-plaintext\"><pre>5</pre></div><style>\r\n",
       ".dni-code-hint {\r\n",
       "    font-style: italic;\r\n",
       "    overflow: hidden;\r\n",
       "    white-space: nowrap;\r\n",
       "}\r\n",
       ".dni-treeview {\r\n",
       "    white-space: nowrap;\r\n",
       "}\r\n",
       ".dni-treeview td {\r\n",
       "    vertical-align: top;\r\n",
       "    text-align: start;\r\n",
       "}\r\n",
       "details.dni-treeview {\r\n",
       "    padding-left: 1em;\r\n",
       "}\r\n",
       "table td {\r\n",
       "    text-align: start;\r\n",
       "}\r\n",
       "table tr { \r\n",
       "    vertical-align: top; \r\n",
       "    margin: 0em 0px;\r\n",
       "}\r\n",
       "table tr td pre \r\n",
       "{ \r\n",
       "    vertical-align: top !important; \r\n",
       "    margin: 0em 0px !important;\r\n",
       "} \r\n",
       "table th {\r\n",
       "    text-align: start;\r\n",
       "}\r\n",
       "</style>"
      ]
     },
     "metadata": {},
     "output_type": "display_data"
    }
   ],
   "source": [
    "class Vypocty\n",
    "{\n",
    "    public static int Soucet(int x, int y)\n",
    "    {\n",
    "        return x + y;\n",
    "    }\n",
    "}\n",
    "\n",
    "Vypocty.Soucet(2, 3)"
   ]
  },
  {
   "cell_type": "markdown",
   "metadata": {},
   "source": [
    "* Tuto metodu potom zavoláme pomocí jména třídy `Vypocty.Soucet` a nevytváříme instanci třídy:"
   ]
  },
  {
   "cell_type": "code",
   "execution_count": 7,
   "metadata": {
    "dotnet_interactive": {
     "language": "csharp"
    },
    "polyglot_notebook": {
     "kernelName": "csharp"
    },
    "vscode": {
     "languageId": "polyglot-notebook"
    }
   },
   "outputs": [],
   "source": [
    "int vysledek = Vypocty.Soucet(2, 3);\n"
   ]
  },
  {
   "cell_type": "markdown",
   "metadata": {},
   "source": [
    "* Samotná třída může být také označená klíčovým slovem `static`, taková třída potom může obsahovat pouze statické prvky. Příkladem takové třídy ve frameworku .NET je třída `Math`."
   ]
  },
  {
   "cell_type": "code",
   "execution_count": 18,
   "metadata": {
    "dotnet_interactive": {
     "language": "csharp"
    },
    "polyglot_notebook": {
     "kernelName": "csharp"
    },
    "vscode": {
     "languageId": "polyglot-notebook"
    }
   },
   "outputs": [],
   "source": [
    "static class Vypocty\n",
    "{\n",
    "    public static int Soucet(int x, int y)\n",
    "    {\n",
    "        return x + y;\n",
    "    }\n",
    "}\n",
    "\n"
   ]
  },
  {
   "cell_type": "markdown",
   "metadata": {},
   "source": [
    "* Kromě metod mohou být statické i property nebo fieldy. V následujícím příkladu máme třídu `Data` která má statickou propertu `Id`, kterou zvyšujeme ve statické metodě `ZvysId`. Statický může být i konstruktor, ve kterém můžeme inicializovat statické členské prvky, statický konstruktor nemá žádné parametry."
   ]
  },
  {
   "cell_type": "code",
   "execution_count": 19,
   "metadata": {
    "dotnet_interactive": {
     "language": "csharp"
    },
    "polyglot_notebook": {
     "kernelName": "csharp"
    },
    "vscode": {
     "languageId": "polyglot-notebook"
    }
   },
   "outputs": [],
   "source": [
    "static class Data\n",
    "{\n",
    "    public static int Id { get; private set; }\n",
    "\n",
    "    static Data()\n",
    "    {\n",
    "        Id = 1;\n",
    "    }\n",
    "    \n",
    "    public static void ZvysId()\n",
    "    {\n",
    "        ++Id;\n",
    "    }\n",
    "}"
   ]
  },
  {
   "cell_type": "markdown",
   "metadata": {},
   "source": [
    "* Použití třídy `Data` je potom následující:"
   ]
  },
  {
   "cell_type": "code",
   "execution_count": 20,
   "metadata": {
    "dotnet_interactive": {
     "language": "csharp"
    },
    "polyglot_notebook": {
     "kernelName": "csharp"
    },
    "vscode": {
     "languageId": "polyglot-notebook"
    }
   },
   "outputs": [
    {
     "name": "stdout",
     "output_type": "stream",
     "text": [
      "1\n",
      "2\n"
     ]
    }
   ],
   "source": [
    "Console.WriteLine(Data.Id); // Vypise 1\n",
    "Data.ZvysId(); \n",
    "Console.WriteLine(Data.Id); // Vypise 2"
   ]
  },
  {
   "cell_type": "markdown",
   "metadata": {},
   "source": [
    "---\n",
    "Více se o statických prvcích v jazyce C# dozvíte zde:\n",
    "\n",
    "[Static Classes and Static Class Members - C# Programming Guide, 2022](https://docs.microsoft.com/en-us/dotnet/csharp/programming-guide/classes-and-structs/static-classes-and-static-class-members)"
   ]
  },
  {
   "cell_type": "markdown",
   "metadata": {},
   "source": [
    "## Použití metody Dispose\n",
    "\n",
    "Dispose Pattern slouží k bezpečnému uvolnění zdrojů (paměti, připojení k serveru, k databázi atd.) i v případě výjimky.\n",
    "V jazyce C++ ke stejnému účelu používáme destruktor, který se zavolá automaticky předtím, než se uvolní objekt z paměti.\n",
    "V jazyce C# sice máme destruktor také, ale nevíme kdy přesně se zavolá, protože nevíme kdy Garbage Collector uvolní paměť objektu. \n",
    "\n",
    "Uvolnění zdrojů se provádí voláním metody `Dispose` z rozhraní `IDisposable`. A ke správnému volání této metody slouží příkaz `using`."
   ]
  },
  {
   "cell_type": "markdown",
   "metadata": {},
   "source": [
    "Nejprve si ukážeme příklad volání metody Dispose bez příkazu `using`. V následujícím příkazu pomocí třídy `HttpClient` zavoláme webovou službu a zobrazíme získaný řetězec. Blok finally se zavolá vždy, i když dojde nebo nedojde k výjimce při volání metody `GetStringAsync`. "
   ]
  },
  {
   "cell_type": "code",
   "execution_count": 24,
   "metadata": {
    "dotnet_interactive": {
     "language": "csharp"
    },
    "polyglot_notebook": {
     "kernelName": "csharp"
    },
    "vscode": {
     "languageId": "polyglot-notebook"
    }
   },
   "outputs": [
    {
     "name": "stdout",
     "output_type": "stream",
     "text": [
      "{\"joke\": \"Faster than a speeding bullet... More powerful than a locomotive... Able to leap tall buildings in a single bound... These are some of Chuck Norris's warm-up exercises.\"}\n",
      "\r\n"
     ]
    }
   ],
   "source": [
    "using System.Net.Http;\n",
    "\n",
    "string url = \"https://geek-jokes.sameerkumar.website/api?format=json\";\n",
    "\n",
    "HttpClient client = new HttpClient();\n",
    "\n",
    "try\n",
    "{\n",
    "    string jsonString = await client.GetStringAsync(url);\n",
    "    Console.WriteLine(jsonString);\n",
    "}\n",
    "finally\n",
    "{\n",
    "    client.Dispose();\n",
    "}"
   ]
  },
  {
   "cell_type": "markdown",
   "metadata": {},
   "source": [
    "A nyní použijeme klíčové slovo `using`, jehož syntaxe je jednoduší a zajistí, že i v případě výjimky bude zavolaná metoda Dispose a bude řádně ukončeno připojení k serveru. "
   ]
  },
  {
   "cell_type": "code",
   "execution_count": 25,
   "metadata": {
    "dotnet_interactive": {
     "language": "csharp"
    },
    "polyglot_notebook": {
     "kernelName": "csharp"
    },
    "vscode": {
     "languageId": "polyglot-notebook"
    }
   },
   "outputs": [
    {
     "name": "stdout",
     "output_type": "stream",
     "text": [
      "{\"joke\": \"Chuck Norris is the only man who has, literally, beaten the odds. With his fists.\"}\n",
      "\r\n"
     ]
    }
   ],
   "source": [
    "using System.Net.Http;\n",
    "\n",
    "string url = \"https://geek-jokes.sameerkumar.website/api?format=json\";\n",
    "\n",
    "using (HttpClient client = new HttpClient())\n",
    "{\n",
    "    string jsonString = await client.GetStringAsync(url);\n",
    "    Console.WriteLine(jsonString);\n",
    "}"
   ]
  },
  {
   "cell_type": "markdown",
   "metadata": {},
   "source": [
    "Podobný příklad, tentokrát s třídou `StreamWriter` si můžete vyzkoušet na stránkách [SharpLab.io](https://sharplab.io/#v2:CYLg1APgAgTAjAWAFBQAwAIpwHQEkDyA3MslAMyYzoDCyA3suk5hVACzoAqApgM4AuACgCUjZgyTMpmDIKx582AMr8ATtwCGAWwDqqgJb9uq9AHcDRkwF50AO26nMOAsrWbdF44IBERgB782PwB3gA06BoADpHctqDoagCu3MKiktJMEmIZUuaGxth6+QAy+vY+AIIAFgD2AFbewsTpGQC+JC3SAPQAVGjocs6KKuraRZZmntZ2Dk4KrqMe+ao+/oHB/GER0bHxSSlpOegSR1JqAJ7ZpyenGXmWhZ6l5d7V9Y3Nt0ztnUcAxhp+H8qoICABRPx/biRfj6Gq2dDcPyHL43L7MeQAEX0GgA5rYagJ9H9eNhMdwAEaJXGPEplbiCJHYACyfF4eJSny+PyOrR6XSuP1aQA==), které zobrazují vygenerovaný kód kompilátorem."
   ]
  },
  {
   "cell_type": "markdown",
   "metadata": {},
   "source": [
    "---\n",
    "Více o metodě dispose najdete například zde:\n",
    "\n",
    "[IDisposable.Dispose Method, 2022](https://docs.microsoft.com/en-us/dotnet/api/system.idisposable.dispose?view=net-6.0)"
   ]
  }
 ],
 "metadata": {
  "kernelspec": {
   "display_name": ".NET (C#)",
   "language": "C#",
   "name": ".net-csharp"
  },
  "language_info": {
   "name": "csharp"
  },
  "polyglot_notebook": {
   "kernelInfo": {
    "defaultKernelName": "csharp",
    "items": [
     {
      "aliases": [],
      "name": "csharp"
     }
    ]
   }
  }
 },
 "nbformat": 4,
 "nbformat_minor": 2
}
