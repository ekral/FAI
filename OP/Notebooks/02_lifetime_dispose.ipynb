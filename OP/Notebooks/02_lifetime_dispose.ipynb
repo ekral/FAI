{
 "cells": [
  {
   "cell_type": "markdown",
   "metadata": {},
   "source": [
    "# 02: Object lifetime, použití dispose\n",
    "---"
   ]
  },
  {
   "cell_type": "markdown",
   "metadata": {},
   "source": [
    "# Životní cyklus objektu\n",
    "\n",
    "Životní cyklus objektu (lifetime) představuje čas mezi vytvoření a zničením objektu. "
   ]
  },
  {
   "cell_type": "markdown",
   "metadata": {},
   "source": [
    "## Lokální proměnná\n",
    "\n",
    "Lokální proměnnná je alokovaná na zásobníku a existuje od své definice do konce bloku definovaného složenými závorkami.\n",
    "\n",
    "V následujícím příkladu existuje proměnná `x` od své definice do konce Metody `Metoda`."
   ]
  },
  {
   "cell_type": "code",
   "execution_count": 9,
   "metadata": {
    "vscode": {
     "languageId": "polyglot-notebook"
    }
   },
   "outputs": [
    {
     "name": "stdout",
     "output_type": "stream",
     "text": [
      "1\r\n"
     ]
    }
   ],
   "source": [
    "void Metoda()\n",
    "{\n",
    "    int x = 1;\n",
    "\n",
    "    if (x > 0)\n",
    "    {\n",
    "        Console.WriteLine(x);\n",
    "    }\n",
    "}\n",
    "\n",
    "Metoda();"
   ]
  },
  {
   "cell_type": "markdown",
   "metadata": {},
   "source": [
    "V dalším příkladu je proměnná `x` definovaná uvnitř metody `if` a proto přestane existovat a bude zničena na konci bloku podmíněného příkazu `if`."
   ]
  },
  {
   "cell_type": "code",
   "execution_count": 10,
   "metadata": {
    "dotnet_interactive": {
     "language": "csharp"
    },
    "polyglot_notebook": {
     "kernelName": "csharp"
    },
    "vscode": {
     "languageId": "polyglot-notebook"
    }
   },
   "outputs": [
    {
     "name": "stdout",
     "output_type": "stream",
     "text": [
      "1\r\n"
     ]
    }
   ],
   "source": [
    "void Metoda()\n",
    "{\n",
    "    if (true)\n",
    "    {\n",
    "        int x = 1;\n",
    "        Console.WriteLine(x);\n",
    "    }\n",
    "}\n",
    "\n",
    "Metoda();"
   ]
  },
  {
   "cell_type": "markdown",
   "metadata": {},
   "source": [
    "## Statická proměnná\n",
    "\n",
    "Statická proměnná (field) existuje po celou dobu běhu programu.\n",
    "\n",
    "V následujícím příkladu je proměnná `x` definovaná jako statická, znamená to, že bude existovat po celou dobu běhu programu.\n"
   ]
  },
  {
   "cell_type": "code",
   "execution_count": 12,
   "metadata": {
    "vscode": {
     "languageId": "polyglot-notebook"
    }
   },
   "outputs": [
    {
     "name": "stdout",
     "output_type": "stream",
     "text": [
      "1\r\n"
     ]
    }
   ],
   "source": [
    "class Program\n",
    "{\n",
    "    private static int x = 1;\n",
    "\n",
    "    public static void Metoda()\n",
    "    {\n",
    "        Console.WriteLine(x);\n",
    "    }\n",
    "}\n",
    "\n",
    "Program.Metoda();"
   ]
  },
  {
   "cell_type": "markdown",
   "metadata": {},
   "source": [
    "## Objekt alokovaný na haldě\n",
    "\n",
    "Objekt na haldě alokovaný pomocí operátoru `new` existuje od své alokace po uvolnění paměti. V jazyce C# uvolňuje tuto paměť automaticky Garbage Collector potom co zjistí, že na objekt na haldě už není žádná reference. Naproti tomu, například v jazyce C nebo C++ musíme paměť uvolňovat manuálně pomocí příkazu `free` respektive `delete`.\n",
    "\n",
    "V následujícím příkladu alokujeme dynamické pole čísel na haldě pomocí operátoru `new` a referenci si uložíme do lokální proměnné `list`. Lokální proměnná `list` sice přestane existovat na konci metody `VratCisla`, ale vrátí svoji hodnotu, tedy referenci na pole čísel a přiřadí ji proměnné `cisla` v metodě `Main`. Teprve až přestane existovat proměnná `cisla` v metodě `Main`, tak už nebude existovat žádná reference na pole na haldě a Garbage Collector automaticky uvolní alokovanou paměť."
   ]
  },
  {
   "cell_type": "code",
   "execution_count": 14,
   "metadata": {
    "vscode": {
     "languageId": "polyglot-notebook"
    }
   },
   "outputs": [
    {
     "data": {
      "text/html": [
       "<div class=\"dni-plaintext\"><pre>[ 1, 2, 3, 4, 5, 6, 7 ]</pre></div><style>\r\n",
       ".dni-code-hint {\r\n",
       "    font-style: italic;\r\n",
       "    overflow: hidden;\r\n",
       "    white-space: nowrap;\r\n",
       "}\r\n",
       ".dni-treeview {\r\n",
       "    white-space: nowrap;\r\n",
       "}\r\n",
       ".dni-treeview td {\r\n",
       "    vertical-align: top;\r\n",
       "    text-align: start;\r\n",
       "}\r\n",
       "details.dni-treeview {\r\n",
       "    padding-left: 1em;\r\n",
       "}\r\n",
       "table td {\r\n",
       "    text-align: start;\r\n",
       "}\r\n",
       "table tr { \r\n",
       "    vertical-align: top; \r\n",
       "    margin: 0em 0px;\r\n",
       "}\r\n",
       "table tr td pre \r\n",
       "{ \r\n",
       "    vertical-align: top !important; \r\n",
       "    margin: 0em 0px !important;\r\n",
       "} \r\n",
       "table th {\r\n",
       "    text-align: start;\r\n",
       "}\r\n",
       "</style>"
      ]
     },
     "metadata": {},
     "output_type": "display_data"
    }
   ],
   "source": [
    "static int[] VratCisla()\n",
    "{\n",
    "    int[] cisla = new int[] { 1, 2, 3, 4, 5, 6, 7 };\n",
    "    return cisla;\n",
    "}\n",
    "\n",
    "int[] cisla = VratCisla();\n",
    "\n",
    "cisla"
   ]
  },
  {
   "cell_type": "markdown",
   "metadata": {},
   "source": [
    "Naproti tomu, v **jazyce C** bychom museli paměť uvolnit manuálně pomocí funkce `free`. V následujícím příkladu alokujeme pole čísel na haldě pomocí funkce `malloc` a potom jej uvolňíme pomocí funkce `free`.\n",
    "\n",
    "```c\n",
    "static int* vrat_cisla()\n",
    "{\n",
    "    int* cisla = malloc(3 * sizeof(int));\n",
    "\n",
    "    cisla[0] = 1;\n",
    "    cisla[1] = 1;\n",
    "    cisla[2] = 1;\n",
    "\n",
    "    return cisla;\n",
    "}\n",
    "\n",
    "int main()\n",
    "{\n",
    "    int* cisla = vrat_cisla();\n",
    "\n",
    "    free(cisla);\n",
    "}\n",
    "```"
   ]
  },
  {
   "cell_type": "markdown",
   "metadata": {},
   "source": [
    "---\n",
    "Více o problematice programovacích jazyků se můžete dozvědět napřílad v této knize:\n",
    "\n",
    "[Michael L. Scott. 2009. Programming Language Pragmatics](https://www.cs.rochester.edu/~scott/pragmatics/)\n",
    "\n",
    "Více se o Garbage Collectoru v jazyce C# dozvíte zde:\n",
    "\n",
    "[Fundamentals of garbage collection, 2022](https://docs.microsoft.com/en-us/dotnet/standard/garbage-collection/fundamentals)\n"
   ]
  }
 ],
 "metadata": {
  "kernelspec": {
   "display_name": ".NET (C#)",
   "language": "C#",
   "name": ".net-csharp"
  },
  "language_info": {
   "name": "csharp"
  },
  "polyglot_notebook": {
   "kernelInfo": {
    "defaultKernelName": "csharp",
    "items": [
     {
      "aliases": [],
      "name": "csharp"
     }
    ]
   }
  }
 },
 "nbformat": 4,
 "nbformat_minor": 2
}
