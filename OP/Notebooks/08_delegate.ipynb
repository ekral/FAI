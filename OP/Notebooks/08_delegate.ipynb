{
 "cells": [
  {
   "attachments": {},
   "cell_type": "markdown",
   "metadata": {},
   "source": [
    "# 08: Delegáti a event\n",
    "**autor: Erik Král ekral@utb.cz**\n",
    "\n",
    "---\n",
    "\n",
    "\n",
    "Obsah:\n",
    "- Typ delegate\n",
    "- Šablony delegátů Action, Predicate a Func\n",
    "- Event"
   ]
  },
  {
   "attachments": {},
   "cell_type": "markdown",
   "metadata": {},
   "source": [
    "## Typ delegate\n",
    "\n",
    "Delegát je uživatelsky definovaný typ představující jednu nebo více referencí na metody s konkrétním návratovým typem a parametry. Instanci delegáta můžeme tedy přiřadit reference na metody a tyto metody potom prostřednictvím této instance zavolat (říkáme také vyvolat - invoke). Pomocí delegátů můžeme předávat reference na metody jako argumenty jiným metodám."
   ]
  },
  {
   "attachments": {},
   "cell_type": "markdown",
   "metadata": {},
   "source": [
    "Nejprve si deklarujeme typ delegáta, což je prakticky hlavička metody s klíčovým slovem `delegate`."
   ]
  },
  {
   "cell_type": "code",
   "execution_count": null,
   "metadata": {
    "dotnet_interactive": {
     "language": "csharp"
    },
    "polyglot_notebook": {
     "kernelName": "csharp"
    },
    "vscode": {
     "languageId": "polyglot-notebook"
    }
   },
   "outputs": [],
   "source": [
    "delegate void MujDelegat(int x);"
   ]
  },
  {
   "attachments": {},
   "cell_type": "markdown",
   "metadata": {},
   "source": [
    "Delegát je referenční typ a proměnnou typu delegát vytvoříme následujícím způsobem. Pokud jí přiřadíme hodnutu `null`, tak nebude mít zatím referenci na žádnou metodu."
   ]
  },
  {
   "cell_type": "code",
   "execution_count": null,
   "metadata": {
    "dotnet_interactive": {
     "language": "csharp"
    },
    "polyglot_notebook": {
     "kernelName": "csharp"
    },
    "vscode": {
     "languageId": "polyglot-notebook"
    }
   },
   "outputs": [],
   "source": [
    "MujDelegat d = null;"
   ]
  },
  {
   "cell_type": "markdown",
   "metadata": {},
   "source": [
    "Nyní si definujeme metodu `Vypis`, kterou budeme používat v dalších příkladech"
   ]
  },
  {
   "cell_type": "code",
   "execution_count": null,
   "metadata": {
    "dotnet_interactive": {
     "language": "csharp"
    },
    "polyglot_notebook": {
     "kernelName": "csharp"
    },
    "vscode": {
     "languageId": "polyglot-notebook"
    }
   },
   "outputs": [],
   "source": [
    "void Vypis(int x)\n",
    "{\n",
    "    Console.WriteLine(x);\n",
    "}"
   ]
  },
  {
   "attachments": {},
   "cell_type": "markdown",
   "metadata": {},
   "source": [
    "Proměnné `d` teď přiřadíme referenci na metodu `Vypis`, která stejně jako typ `MujDelegat` má navratový typ `void` a jeden parametr typu `int`. "
   ]
  },
  {
   "cell_type": "code",
   "execution_count": null,
   "metadata": {
    "dotnet_interactive": {
     "language": "csharp"
    },
    "polyglot_notebook": {
     "kernelName": "csharp"
    },
    "vscode": {
     "languageId": "polyglot-notebook"
    }
   },
   "outputs": [],
   "source": [
    "MujDelegat d = Vypis;"
   ]
  },
  {
   "attachments": {},
   "cell_type": "markdown",
   "metadata": {},
   "source": [
    "Předchozí příkaz by bylo možné také zapsat delším způsobem. Oba zápisy jsou rovnocenné."
   ]
  },
  {
   "cell_type": "code",
   "execution_count": null,
   "metadata": {
    "dotnet_interactive": {
     "language": "csharp"
    },
    "polyglot_notebook": {
     "kernelName": "csharp"
    },
    "vscode": {
     "languageId": "polyglot-notebook"
    }
   },
   "outputs": [],
   "source": [
    "MujDelegat d = new MujDelegat(Vypis);"
   ]
  },
  {
   "attachments": {},
   "cell_type": "markdown",
   "metadata": {},
   "source": [
    "Prostřednictvím proměnné `d` teď můžeme vyvolat metodu `Vypis`. Nejkratší výraz pro vyvolání metody je `d(3)`, který odpovídá výrazu `d.Invoke(3)`, častěji ale používáme [Null-conditional operator](https://learn.microsoft.com/en-us/dotnet/csharp/language-reference/operators/member-access-operators#null-conditional-operators--and-) `?.`, který zavolá metodu `Invoke`, pouze pokud proměnná `d` nemá hodnotu `null`. "
   ]
  },
  {
   "cell_type": "code",
   "execution_count": null,
   "metadata": {
    "dotnet_interactive": {
     "language": "csharp"
    },
    "polyglot_notebook": {
     "kernelName": "csharp"
    },
    "vscode": {
     "languageId": "polyglot-notebook"
    }
   },
   "outputs": [],
   "source": [
    "d(3); \n",
    "d.Invoke(3); \n",
    "d?.Invoke(3);"
   ]
  },
  {
   "attachments": {},
   "cell_type": "markdown",
   "metadata": {},
   "source": [
    "V předchozím příkazu jsme proměnné `d` přiřadili referenci jen na jednu metodu. S pomocí operátoru `+=` můžeme přiřadit proměnné `d` reference na více metod. Příkaz `d?.Invoke(3);` potom zavolá jak metodu `VypisA` tak metodu `VypisB`."
   ]
  },
  {
   "cell_type": "code",
   "execution_count": null,
   "metadata": {
    "dotnet_interactive": {
     "language": "csharp"
    },
    "polyglot_notebook": {
     "kernelName": "csharp"
    },
    "vscode": {
     "languageId": "polyglot-notebook"
    }
   },
   "outputs": [],
   "source": [
    "void VypisA(int x)\n",
    "{\n",
    "    Console.WriteLine($\"A {x}\");\n",
    "}\n",
    "\n",
    "void VypisB(int x)\n",
    "{\n",
    "    Console.WriteLine($\"B {x}\");\n",
    "}"
   ]
  },
  {
   "cell_type": "code",
   "execution_count": null,
   "metadata": {
    "dotnet_interactive": {
     "language": "csharp"
    },
    "polyglot_notebook": {
     "kernelName": "csharp"
    },
    "vscode": {
     "languageId": "polyglot-notebook"
    }
   },
   "outputs": [],
   "source": [
    "MujDelegat d = null;\n",
    "\n",
    "d += VypisA;\n",
    "d += VypisB;\n",
    "\n",
    "d?.Invoke(3);"
   ]
  },
  {
   "attachments": {},
   "cell_type": "markdown",
   "metadata": {},
   "source": [
    "Operátor `-=` potom referenci z proměnné `d` odstraní. V kódu je potřeba dávat pozor abychom nezapoměli odstraňovat reference na metody, pokud je již nepotřebujeme, protože reference na metody se neodstraňují automaticky."
   ]
  },
  {
   "cell_type": "code",
   "execution_count": null,
   "metadata": {
    "dotnet_interactive": {
     "language": "csharp"
    },
    "polyglot_notebook": {
     "kernelName": "csharp"
    },
    "vscode": {
     "languageId": "polyglot-notebook"
    }
   },
   "outputs": [],
   "source": [
    "MujDelegat d = null;\n",
    "\n",
    "d += VypisA;\n",
    "d += VypisB;\n",
    "\n",
    "d?.Invoke(2); // vypise A 2 a B 2\n",
    "\n",
    "d -= VypisA;\n",
    "\n",
    "d?.Invoke(3); // vypise jen B 3"
   ]
  },
  {
   "attachments": {},
   "cell_type": "markdown",
   "metadata": {},
   "source": [
    "## Šablony delegátů\n",
    "\n",
    "Pro nejčastější typy delegátů jsou připraveny šablony delegátů. Proto není potřeba psát vlastní delegáty. "
   ]
  },
  {
   "attachments": {},
   "cell_type": "markdown",
   "metadata": {},
   "source": [
    "### `Action`\n",
    "\n",
    "Je delegát metody který může mít více parametrů a nevrací žádnou hodnotu (návratový typ je void). "
   ]
  },
  {
   "attachments": {},
   "cell_type": "markdown",
   "metadata": {},
   "source": [
    "Například následující typ proměnné:"
   ]
  },
  {
   "cell_type": "code",
   "execution_count": null,
   "metadata": {
    "dotnet_interactive": {
     "language": "csharp"
    },
    "polyglot_notebook": {
     "kernelName": "csharp"
    },
    "vscode": {
     "languageId": "polyglot-notebook"
    }
   },
   "outputs": [],
   "source": [
    "Action<string> o1 = null;"
   ]
  },
  {
   "cell_type": "markdown",
   "metadata": {},
   "source": [
    "Nahrazuje delší zápis s pomocí definice delegáta."
   ]
  },
  {
   "cell_type": "code",
   "execution_count": null,
   "metadata": {
    "dotnet_interactive": {
     "language": "csharp"
    },
    "polyglot_notebook": {
     "kernelName": "csharp"
    },
    "vscode": {
     "languageId": "polyglot-notebook"
    }
   },
   "outputs": [],
   "source": [
    "delegate void Operace(string msg);\n",
    "\n",
    "Operace o1 = null;\n"
   ]
  },
  {
   "attachments": {},
   "cell_type": "markdown",
   "metadata": {},
   "source": [
    "Pokud metoda nevrací žádnou hodnotu a nemá žádný parametr, tak použijeme typ `Action`, například:"
   ]
  },
  {
   "cell_type": "code",
   "execution_count": null,
   "metadata": {
    "dotnet_interactive": {
     "language": "csharp"
    },
    "polyglot_notebook": {
     "kernelName": "csharp"
    },
    "vscode": {
     "languageId": "polyglot-notebook"
    }
   },
   "outputs": [],
   "source": [
    "void VypisAhoj()\n",
    "{\n",
    "    Console.WriteLine(\"Ahoj\");\n",
    "}\n",
    "\n",
    "Action action = VypisAhoj;\n",
    "action.Invoke();"
   ]
  },
  {
   "attachments": {},
   "cell_type": "markdown",
   "metadata": {},
   "source": [
    "### `Predicate` \n",
    "\n",
    "Je delegát metody, která vrací vždy boolean a má jeden parametr."
   ]
  },
  {
   "attachments": {},
   "cell_type": "markdown",
   "metadata": {},
   "source": [
    "Například následující typ proměnné:"
   ]
  },
  {
   "cell_type": "code",
   "execution_count": null,
   "metadata": {
    "dotnet_interactive": {
     "language": "csharp"
    },
    "polyglot_notebook": {
     "kernelName": "csharp"
    },
    "vscode": {
     "languageId": "polyglot-notebook"
    }
   },
   "outputs": [],
   "source": [
    "Predicate<int> p = null;"
   ]
  },
  {
   "attachments": {},
   "cell_type": "markdown",
   "metadata": {},
   "source": [
    "Nahrazuje delší zápis s pomocí definice delegáta."
   ]
  },
  {
   "cell_type": "code",
   "execution_count": null,
   "metadata": {
    "dotnet_interactive": {
     "language": "csharp"
    },
    "polyglot_notebook": {
     "kernelName": "csharp"
    },
    "vscode": {
     "languageId": "polyglot-notebook"
    }
   },
   "outputs": [],
   "source": [
    "delegate bool Operace(int x);\n",
    "\n",
    "Operace p = null;"
   ]
  },
  {
   "attachments": {},
   "cell_type": "markdown",
   "metadata": {},
   "source": [
    "### `Func` \n",
    "\n",
    "Je delegát metody, která vrací hodnotu a má více parametrů. Návratový typ je uveden jako poslední. Jde o nejobecnější z šablon delegátů. "
   ]
  },
  {
   "attachments": {},
   "cell_type": "markdown",
   "metadata": {},
   "source": [
    "Například následující typ proměnné:"
   ]
  },
  {
   "cell_type": "code",
   "execution_count": null,
   "metadata": {
    "dotnet_interactive": {
     "language": "csharp"
    },
    "polyglot_notebook": {
     "kernelName": "csharp"
    },
    "vscode": {
     "languageId": "polyglot-notebook"
    }
   },
   "outputs": [],
   "source": [
    "Func<int,string,bool> f = null;"
   ]
  },
  {
   "attachments": {},
   "cell_type": "markdown",
   "metadata": {},
   "source": [
    "Nahrazuje delší zápis s pomocí definice delegáta."
   ]
  },
  {
   "cell_type": "code",
   "execution_count": null,
   "metadata": {
    "dotnet_interactive": {
     "language": "csharp"
    },
    "polyglot_notebook": {
     "kernelName": "csharp"
    },
    "vscode": {
     "languageId": "polyglot-notebook"
    }
   },
   "outputs": [],
   "source": [
    "delegate bool Operace(int a, string b);\n",
    "\n",
    "Operace f = null;"
   ]
  },
  {
   "attachments": {},
   "cell_type": "markdown",
   "metadata": {},
   "source": [
    "## Event\n",
    "\n",
    "Event představuje implementace návrhového vzoru Observer v jazyce C#. \n",
    "Obsahuje dvě složky, zdroj události, tedy objekt ve kterém nastala událost a pozorovatele, což je objekt, který chce být notifikován v případě vzniku události. Událost může mít více pozorovatelů a pozorovatel může naslouchat více událostem. Typické použití událostí je v rámci grafického uživatelského rozhraní\n",
    "např. signalizace stisku tlačítka.\n",
    "\n",
    "**Event poskytuje na rozdíl od delegátu** zapouzdření, protože:\n",
    "\n",
    "- event je možné vyvolat pouze uvnitř třídy, která jej definuje, dále \n",
    "- event není možné „vynulovat“ mimo třídu a \n",
    "- pozorovatel nemá možnost zjistit informace o dalších pozorovatelích.\n",
    "\n"
   ]
  },
  {
   "attachments": {},
   "cell_type": "markdown",
   "metadata": {},
   "source": [
    "Event definujeme pomocí klíčového slova `event` u fieldu typu delegate, například v následující třídě `Obchod` definujeme `event` `poplach` typu `Action`."
   ]
  },
  {
   "cell_type": "code",
   "execution_count": 16,
   "metadata": {
    "dotnet_interactive": {
     "language": "csharp"
    },
    "polyglot_notebook": {
     "kernelName": "csharp"
    },
    "vscode": {
     "languageId": "polyglot-notebook"
    }
   },
   "outputs": [],
   "source": [
    "class Obchod\n",
    "{\n",
    "    public event Action poplach;\n",
    "\n",
    "    public void Vloupani()\n",
    "    {\n",
    "        poplach?.Invoke();\n",
    "    }\n",
    "}"
   ]
  },
  {
   "cell_type": "code",
   "execution_count": 19,
   "metadata": {
    "dotnet_interactive": {
     "language": "csharp"
    },
    "polyglot_notebook": {
     "kernelName": "csharp"
    },
    "vscode": {
     "languageId": "polyglot-notebook"
    }
   },
   "outputs": [],
   "source": [
    "Obchod obchod = new Obchod();"
   ]
  },
  {
   "attachments": {},
   "cell_type": "markdown",
   "metadata": {},
   "source": [
    "Přihlášení k notifikaci eventu se provádí pomocí operátoru `+=`. K eventu se přihlašuje delegát (existující metoda, lambda výraz). Analogicky je možné provést odhlášení pomocí operátoru `-=` (instance může odhlásit pouze sama sebe, případně toho, o kom ví že se přihlásil). Operátor `+=` a `-=` lze použít i u delegáta, ale u eventu narozdíl od delegáta není možné použít operátor přiřazení `=` a tím odstranit ostatní pozorovatele. V následujícím příkladu se k notifikaci eventu poplach přihlásí dvě metody `VyjezdPolicie` a `VyjezdHasici` poté je uveden příklad na odhlášení notifikace."
   ]
  },
  {
   "cell_type": "code",
   "execution_count": 21,
   "metadata": {
    "dotnet_interactive": {
     "language": "csharp"
    },
    "polyglot_notebook": {
     "kernelName": "csharp"
    },
    "vscode": {
     "languageId": "polyglot-notebook"
    }
   },
   "outputs": [
    {
     "name": "stdout",
     "output_type": "stream",
     "text": [
      "Vyjizdi policie\n",
      "Vyjizdi hasici\n"
     ]
    }
   ],
   "source": [
    "void VyjezdPolicie()\n",
    "{\n",
    "    Console.WriteLine(\"Vyjizdi policie\");\n",
    "}\n",
    "\n",
    "void VyjezdHasici()\n",
    "{\n",
    "    Console.WriteLine(\"Vyjizdi hasici\");\n",
    "}\n",
    "\n",
    "obchod.poplach += VyjezdPolicie;\n",
    "obchod.poplach += VyjezdHasici;\n",
    "\n",
    "obchod.Vloupani();\n",
    "\n",
    "obchod.poplach -= VyjezdPolicie;"
   ]
  },
  {
   "attachments": {},
   "cell_type": "markdown",
   "metadata": {},
   "source": [
    "Následující kód nepůjde přeložit, protože event je možné vyvolat pouze uvnitř třídy, která jej definuje a event není možné „vynulovat“ mimo třídu."
   ]
  },
  {
   "cell_type": "code",
   "execution_count": null,
   "metadata": {
    "vscode": {
     "languageId": "polyglot-notebook"
    }
   },
   "outputs": [
    {
     "ename": "Error",
     "evalue": "(1,8): error CS0070: Událost Obchod.poplach se může zobrazovat jenom na levé straně výrazu += nebo -= (s výjimkou případu, kdy se používá z typu Obchod).\r\n(2,8): error CS0070: Událost Obchod.poplach se může zobrazovat jenom na levé straně výrazu += nebo -= (s výjimkou případu, kdy se používá z typu Obchod).",
     "output_type": "error",
     "traceback": [
      "(1,8): error CS0070: Událost Obchod.poplach se může zobrazovat jenom na levé straně výrazu += nebo -= (s výjimkou případu, kdy se používá z typu Obchod).\r\n",
      "\n",
      "(2,8): error CS0070: Událost Obchod.poplach se může zobrazovat jenom na levé straně výrazu += nebo -= (s výjimkou případu, kdy se používá z typu Obchod)."
     ]
    }
   ],
   "source": [
    "obchod.poplach.Invoke(); // error protože event je možné vyvolat pouze uvnitř třídy, která jej definuje\n",
    "obchod.poplach = null;   // error protože event není možné „vynulovat“ mimo třídu"
   ]
  },
  {
   "attachments": {},
   "cell_type": "markdown",
   "metadata": {},
   "source": [
    "Více se o eventech můžete dozvědět například zde:\n",
    "\n",
    "[Events (C# Programming Guide). Microsoft Docs. 2022](https://docs.microsoft.com/en-us/dotnet/csharp/programming-guide/events/)"
   ]
  },
  {
   "attachments": {},
   "cell_type": "markdown",
   "metadata": {},
   "source": [
    "---\n",
    "## Cvičení"
   ]
  },
  {
   "attachments": {},
   "cell_type": "markdown",
   "metadata": {},
   "source": [
    "1. Úkol delegate\n",
    "\n",
    "Definujte typ delegate pro metody `Soucet`, `Vypis` a `JeSude` a vytvorte ukázku jeho použití."
   ]
  },
  {
   "cell_type": "code",
   "execution_count": 3,
   "metadata": {
    "dotnet_interactive": {
     "language": "csharp"
    },
    "polyglot_notebook": {
     "kernelName": "csharp"
    },
    "vscode": {
     "languageId": "polyglot-notebook"
    }
   },
   "outputs": [],
   "source": [
    "int Soucet(int x, int y)\n",
    "{\n",
    "    return x + y;\n",
    "}\n",
    "\n",
    "void Vypis(string text)\n",
    "{\n",
    "    Console.WriteLine(text);\n",
    "}\n",
    "\n",
    "bool JeSude(int x)\n",
    "{\n",
    "    return x % 2 == 0;\n",
    "}\n",
    "\n",
    "// Definujte typ delegate pro metodu Soucet a vytvorte ukazku pouziti typu delegate\n",
    "\n",
    "// Definujte typ delegate pro metodu Vypis a vytvorte ukazku pouziti typu delegate\n",
    "\n",
    "// Definujte typ delegate pro metodu JeSude a vytvorte ukazku pouziti typu delegate\n"
   ]
  },
  {
   "attachments": {},
   "cell_type": "markdown",
   "metadata": {},
   "source": [
    "2. Úkol Action, Func nebo Predicate\n",
    "\n",
    "Místo vlastního definovaného typu delegate použijte šablonu `Action`, `Func` nebo `Predicate`."
   ]
  },
  {
   "cell_type": "code",
   "execution_count": 4,
   "metadata": {
    "dotnet_interactive": {
     "language": "csharp"
    },
    "polyglot_notebook": {
     "kernelName": "csharp"
    },
    "vscode": {
     "languageId": "polyglot-notebook"
    }
   },
   "outputs": [
    {
     "name": "stdout",
     "output_type": "stream",
     "text": [
      "5\n",
      "ahoj\n",
      "True\n"
     ]
    }
   ],
   "source": [
    "int Soucet(int x, int y)\n",
    "{\n",
    "    return x + y;\n",
    "}\n",
    "\n",
    "void Vypis(string text)\n",
    "{\n",
    "    Console.WriteLine(text);\n",
    "}\n",
    "\n",
    "bool JeSude(int x)\n",
    "{\n",
    "    return x % 2 == 0;\n",
    "}\n",
    "\n",
    "// Odstrante nasledujici delegaty\n",
    "delegate int MujDelegat1(int x, int y);\n",
    "delegate void MujDelegat2(string text);\n",
    "delegate bool MujDelegat3(int x);\n",
    "\n",
    "int x = 2;\n",
    "int y = 3;\n",
    "\n",
    "MujDelegat1 d1 = Soucet; // A nahradte je pomoci Action, Func nebo Predicate\n",
    "int vysledek1 = d1.Invoke(x, y);\n",
    "Console.WriteLine(vysledek1);\n",
    "\n",
    "MujDelegat2 d2 = Vypis; // A nahradte je pomoci Action, Func nebo Predicate\n",
    "d2.Invoke(\"ahoj\");\n",
    "\n",
    "MujDelegat3 d3 = JeSude;  // A nahradte je pomoci Action, Func nebo Predicate\n",
    "bool vysledek2 = d3.Invoke(2);\n",
    "Console.WriteLine(vysledek2);\n"
   ]
  },
  {
   "attachments": {},
   "cell_type": "markdown",
   "metadata": {},
   "source": [
    "3. Úkol event\n",
    "\n",
    "Doplňte spravně klíčové slovo, tak aby označené řádky v klientském kódu nešly přeložit a šlo o návrhový vzor observer."
   ]
  },
  {
   "cell_type": "code",
   "execution_count": 8,
   "metadata": {
    "dotnet_interactive": {
     "language": "csharp"
    },
    "polyglot_notebook": {
     "kernelName": "csharp"
    },
    "vscode": {
     "languageId": "polyglot-notebook"
    }
   },
   "outputs": [
    {
     "name": "stdout",
     "output_type": "stream",
     "text": [
      "Jedeme hasit Zlate Jablko\n",
      "Jedeme pomahat a chranit do Zlate Jablko\n",
      "Jedeme hasit UTB\n"
     ]
    }
   ],
   "source": [
    "class NakupniCentrum\n",
    "{\n",
    "    public string Nazev { get; set; }\n",
    "    public Action<string> poplach;\n",
    "\n",
    "    public NakupniCentrum(string nazev)\n",
    "    {\n",
    "        Nazev = nazev;\n",
    "    }\n",
    "\n",
    "    public void Pozar()\n",
    "    {\n",
    "        poplach?.Invoke(Nazev);\n",
    "    }\n",
    "}\n",
    "\n",
    "void VyjezdHasicu(string nazev)\n",
    "{\n",
    "    Console.WriteLine($\"Jedeme hasit {nazev}\");\n",
    "}\n",
    "\n",
    "void VyjezdPolicie(string nazev)\n",
    "{\n",
    "    Console.WriteLine($\"Jedeme pomahat a chranit do {nazev}\");\n",
    "}\n",
    "\n",
    "\n",
    "NakupniCentrum nakupniCentrum = new NakupniCentrum(\"Zlate Jablko\");\n",
    "nakupniCentrum.poplach += VyjezdHasicu;\n",
    "nakupniCentrum.poplach += VyjezdPolicie;\n",
    "\n",
    "nakupniCentrum.Pozar();\n",
    "\n",
    "nakupniCentrum.poplach -= VyjezdPolicie;\n",
    "\n",
    "// Doplnte spravne klicove slovo, aby nasledujici radky nesly prelozit a slo o navrhovy vzor observer\n",
    "\n",
    "nakupniCentrum.poplach = VyjezdHasicu;  // Řádek nepůjde přeložit\n",
    "nakupniCentrum.poplach.Invoke(\"UTB\");  // Řádek nepůjde přeložit\n",
    "nakupniCentrum.poplach = null;          // Řádek nepůjde přeložit\n"
   ]
  }
 ],
 "metadata": {
  "language_info": {
   "name": "csharp"
  },
  "orig_nbformat": 4
 },
 "nbformat": 4,
 "nbformat_minor": 2
}
