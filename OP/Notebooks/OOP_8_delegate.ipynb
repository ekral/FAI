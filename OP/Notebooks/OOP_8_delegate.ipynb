{
 "cells": [
  {
   "attachments": {},
   "cell_type": "markdown",
   "metadata": {},
   "source": [
    "# Delegát\n",
    "---\n",
    "\n",
    "Delegát je uživatelsky definovaný typ představující jednu nebo více referencí na metody s konkrétním návratovým typem a parametry. Instanci delegáta můžeme tedy přiřadit reference na metody a tyto metody potom prostřednictvím této instance zavolat (říkáme také vyvolat - invoke). Pomocí delegátů můžeme předávat reference na metody jako argumenty jiným metodám."
   ]
  },
  {
   "attachments": {},
   "cell_type": "markdown",
   "metadata": {},
   "source": [
    "Nejprve si deklarujeme typ delegáta, což je prakticky hlavička metody s klíčovým slovem `delegate`."
   ]
  },
  {
   "cell_type": "code",
   "execution_count": null,
   "metadata": {
    "dotnet_interactive": {
     "language": "csharp"
    },
    "polyglot_notebook": {
     "kernelName": "csharp"
    },
    "vscode": {
     "languageId": "polyglot-notebook"
    }
   },
   "outputs": [],
   "source": [
    "delegate void MujDelegat(int x);"
   ]
  },
  {
   "attachments": {},
   "cell_type": "markdown",
   "metadata": {},
   "source": [
    "Delegát je referenční typ a proměnnou typu delegát vytvoříme následujícím způsobem. Pokud jí přiřadíme hodnutu `null`, tak nebude mít zatím referenci na žádnou metodu."
   ]
  },
  {
   "cell_type": "code",
   "execution_count": null,
   "metadata": {
    "dotnet_interactive": {
     "language": "csharp"
    },
    "polyglot_notebook": {
     "kernelName": "csharp"
    },
    "vscode": {
     "languageId": "polyglot-notebook"
    }
   },
   "outputs": [],
   "source": [
    "MujDelegat d = null;"
   ]
  },
  {
   "cell_type": "markdown",
   "metadata": {},
   "source": [
    "Nyní si definujeme metodu `Vypis`, kterou budeme používat v dalších příkladech"
   ]
  },
  {
   "cell_type": "code",
   "execution_count": null,
   "metadata": {
    "dotnet_interactive": {
     "language": "csharp"
    },
    "polyglot_notebook": {
     "kernelName": "csharp"
    },
    "vscode": {
     "languageId": "polyglot-notebook"
    }
   },
   "outputs": [],
   "source": [
    "void Vypis(int x)\n",
    "{\n",
    "    Console.WriteLine(x);\n",
    "}"
   ]
  },
  {
   "attachments": {},
   "cell_type": "markdown",
   "metadata": {},
   "source": [
    "Proměnné `d` teď přiřadíme referenci na metodu `Vypis`, která stejně jako typ `MujDelegat` má navratový typ `void` a jeden parametr typu `int`. "
   ]
  },
  {
   "cell_type": "code",
   "execution_count": null,
   "metadata": {
    "dotnet_interactive": {
     "language": "csharp"
    },
    "polyglot_notebook": {
     "kernelName": "csharp"
    },
    "vscode": {
     "languageId": "polyglot-notebook"
    }
   },
   "outputs": [],
   "source": [
    "MujDelegat d = Vypis;"
   ]
  },
  {
   "attachments": {},
   "cell_type": "markdown",
   "metadata": {},
   "source": [
    "Předchozí příkaz by bylo možné také zapsat delším způsobem. Oba zápisy jsou rovnocenné."
   ]
  },
  {
   "cell_type": "code",
   "execution_count": null,
   "metadata": {
    "dotnet_interactive": {
     "language": "csharp"
    },
    "polyglot_notebook": {
     "kernelName": "csharp"
    },
    "vscode": {
     "languageId": "polyglot-notebook"
    }
   },
   "outputs": [],
   "source": [
    "MujDelegat d = new MujDelegat(Vypis);"
   ]
  },
  {
   "attachments": {},
   "cell_type": "markdown",
   "metadata": {},
   "source": [
    "Prostřednictvím proměnné `d` teď můžeme vyvolat metodu `Vypis`. Nejkratší výraz pro vyvolání metody je `d(3)`, který odpovídá výrazu `d.Invoke(3)`, častěji ale používáme [Null-conditional operator](https://learn.microsoft.com/en-us/dotnet/csharp/language-reference/operators/member-access-operators#null-conditional-operators--and-) `?.`, který zavolá metodu `Invoke`, pouze pokud proměnná `d` nemá hodnotu `null`. "
   ]
  },
  {
   "cell_type": "code",
   "execution_count": null,
   "metadata": {
    "dotnet_interactive": {
     "language": "csharp"
    },
    "polyglot_notebook": {
     "kernelName": "csharp"
    },
    "vscode": {
     "languageId": "polyglot-notebook"
    }
   },
   "outputs": [],
   "source": [
    "d(3); \n",
    "d.Invoke(3); \n",
    "d?.Invoke(3);"
   ]
  },
  {
   "attachments": {},
   "cell_type": "markdown",
   "metadata": {},
   "source": [
    "V předchozím příkazu jsme proměnné `d` přiřadili referenci jen na jednu metodu. S pomocí operátoru `+=` můžeme přiřadit proměnné `d` reference na více metod. Příkaz `d?.Invoke(3);` potom zavolá jak metodu `VypisA` tak metodu `VypisB`."
   ]
  },
  {
   "cell_type": "code",
   "execution_count": null,
   "metadata": {
    "dotnet_interactive": {
     "language": "csharp"
    },
    "polyglot_notebook": {
     "kernelName": "csharp"
    },
    "vscode": {
     "languageId": "polyglot-notebook"
    }
   },
   "outputs": [],
   "source": [
    "void VypisA(int x)\n",
    "{\n",
    "    Console.WriteLine($\"A {x}\");\n",
    "}\n",
    "\n",
    "void VypisB(int x)\n",
    "{\n",
    "    Console.WriteLine($\"B {x}\");\n",
    "}"
   ]
  },
  {
   "cell_type": "code",
   "execution_count": null,
   "metadata": {
    "dotnet_interactive": {
     "language": "csharp"
    },
    "polyglot_notebook": {
     "kernelName": "csharp"
    },
    "vscode": {
     "languageId": "polyglot-notebook"
    }
   },
   "outputs": [],
   "source": [
    "MujDelegat d = null;\n",
    "\n",
    "d += VypisA;\n",
    "d += VypisB;\n",
    "\n",
    "d?.Invoke(3);"
   ]
  },
  {
   "attachments": {},
   "cell_type": "markdown",
   "metadata": {},
   "source": [
    "Operátor `-=` potom referenci z proměnné `d` odstraní. V kódu je potřeba dávat pozor abychom nezapoměli odstraňovat reference na metody, pokud je již nepotřebujeme, protože reference na metody se neodstraňují automaticky."
   ]
  },
  {
   "cell_type": "code",
   "execution_count": null,
   "metadata": {
    "dotnet_interactive": {
     "language": "csharp"
    },
    "polyglot_notebook": {
     "kernelName": "csharp"
    },
    "vscode": {
     "languageId": "polyglot-notebook"
    }
   },
   "outputs": [],
   "source": [
    "MujDelegat d = null;\n",
    "\n",
    "d += VypisA;\n",
    "d += VypisB;\n",
    "\n",
    "d?.Invoke(2); // vypise A 2 a B 2\n",
    "\n",
    "d -= VypisA;\n",
    "\n",
    "d?.Invoke(3); // vypise jen B 3"
   ]
  },
  {
   "attachments": {},
   "cell_type": "markdown",
   "metadata": {},
   "source": [
    "## Šablony delegátů\n",
    "\n",
    "Pro nejčastější typy delegátů jsou připraveny šablony delegátů. Proto není potřeba psát vlastní delegáty. "
   ]
  },
  {
   "attachments": {},
   "cell_type": "markdown",
   "metadata": {},
   "source": [
    "### `Action`\n",
    "\n",
    "Je delegát metody který může mít více parametrů a nevrací žádnou hodnotu (návratový typ je void). "
   ]
  },
  {
   "attachments": {},
   "cell_type": "markdown",
   "metadata": {},
   "source": [
    "Například následující typ proměnné:"
   ]
  },
  {
   "cell_type": "code",
   "execution_count": null,
   "metadata": {
    "dotnet_interactive": {
     "language": "csharp"
    },
    "polyglot_notebook": {
     "kernelName": "csharp"
    },
    "vscode": {
     "languageId": "polyglot-notebook"
    }
   },
   "outputs": [],
   "source": [
    "Action<string> o1 = null;"
   ]
  },
  {
   "cell_type": "markdown",
   "metadata": {},
   "source": [
    "Nahrazuje delší zápis s pomocí definice delegáta."
   ]
  },
  {
   "cell_type": "code",
   "execution_count": null,
   "metadata": {
    "dotnet_interactive": {
     "language": "csharp"
    },
    "polyglot_notebook": {
     "kernelName": "csharp"
    },
    "vscode": {
     "languageId": "polyglot-notebook"
    }
   },
   "outputs": [],
   "source": [
    "delegate void Operace(string msg);\n",
    "\n",
    "Operace o1 = null;\n"
   ]
  },
  {
   "attachments": {},
   "cell_type": "markdown",
   "metadata": {},
   "source": [
    "Pokud metoda nevrací žádnou hodnotu a nemá žádný parametr, tak použijeme typ `Action`, například:"
   ]
  },
  {
   "cell_type": "code",
   "execution_count": null,
   "metadata": {
    "dotnet_interactive": {
     "language": "csharp"
    },
    "polyglot_notebook": {
     "kernelName": "csharp"
    },
    "vscode": {
     "languageId": "polyglot-notebook"
    }
   },
   "outputs": [],
   "source": [
    "void VypisAhoj()\n",
    "{\n",
    "    Console.WriteLine(\"Ahoj\");\n",
    "}\n",
    "\n",
    "Action action = VypisAhoj;\n",
    "action.Invoke();"
   ]
  },
  {
   "attachments": {},
   "cell_type": "markdown",
   "metadata": {},
   "source": [
    "### `Predicate` \n",
    "\n",
    "Je delegát metody, která vrací vždy boolean a má jeden parametr."
   ]
  },
  {
   "attachments": {},
   "cell_type": "markdown",
   "metadata": {},
   "source": [
    "Například následující typ proměnné:"
   ]
  },
  {
   "cell_type": "code",
   "execution_count": null,
   "metadata": {
    "dotnet_interactive": {
     "language": "csharp"
    },
    "polyglot_notebook": {
     "kernelName": "csharp"
    },
    "vscode": {
     "languageId": "polyglot-notebook"
    }
   },
   "outputs": [],
   "source": [
    "Predicate<int> p = null;"
   ]
  },
  {
   "attachments": {},
   "cell_type": "markdown",
   "metadata": {},
   "source": [
    "Nahrazuje delší zápis s pomocí definice delegáta."
   ]
  },
  {
   "cell_type": "code",
   "execution_count": null,
   "metadata": {
    "dotnet_interactive": {
     "language": "csharp"
    },
    "polyglot_notebook": {
     "kernelName": "csharp"
    },
    "vscode": {
     "languageId": "polyglot-notebook"
    }
   },
   "outputs": [],
   "source": [
    "delegate bool Operace(int x);\n",
    "\n",
    "Operace p = null;"
   ]
  },
  {
   "attachments": {},
   "cell_type": "markdown",
   "metadata": {},
   "source": [
    "### `Func` \n",
    "\n",
    "Je delegát metody, která vrací hodnotu a má více parametrů. Návratový typ je uveden jako poslední. Jde o nejobecnější z šablon delegátů. "
   ]
  },
  {
   "attachments": {},
   "cell_type": "markdown",
   "metadata": {},
   "source": [
    "Například následující typ proměnné:"
   ]
  },
  {
   "cell_type": "code",
   "execution_count": null,
   "metadata": {
    "dotnet_interactive": {
     "language": "csharp"
    },
    "polyglot_notebook": {
     "kernelName": "csharp"
    },
    "vscode": {
     "languageId": "polyglot-notebook"
    }
   },
   "outputs": [],
   "source": [
    "Func<int,string,bool> f = null;"
   ]
  },
  {
   "attachments": {},
   "cell_type": "markdown",
   "metadata": {},
   "source": [
    "Nahrazuje delší zápis s pomocí definice delegáta."
   ]
  },
  {
   "cell_type": "code",
   "execution_count": null,
   "metadata": {
    "dotnet_interactive": {
     "language": "csharp"
    },
    "polyglot_notebook": {
     "kernelName": "csharp"
    },
    "vscode": {
     "languageId": "polyglot-notebook"
    }
   },
   "outputs": [],
   "source": [
    "delegate bool Operace(int a, string b);\n",
    "\n",
    "Operace f = null;"
   ]
  },
  {
   "attachments": {},
   "cell_type": "markdown",
   "metadata": {},
   "source": [
    "## Lambda výrazy\n",
    "\n",
    "Lambda výrazy nám umoňují zapsat anonymní funkci, tedy funkci bez jména. Používám se s polečně s delegáty. V .NET 2.0 se pro stejný účel používali anonymní metody, tyto byly ale nahrazeny v .NET 3.0 lambda výrazy a už se nepoužívají."
   ]
  },
  {
   "attachments": {},
   "cell_type": "markdown",
   "metadata": {},
   "source": [
    "V následujícím příkladu přiřazujeme referenci na metodu `VratRetezec` delegátu typu `Func`."
   ]
  },
  {
   "cell_type": "code",
   "execution_count": null,
   "metadata": {
    "dotnet_interactive": {
     "language": "csharp"
    },
    "polyglot_notebook": {
     "kernelName": "csharp"
    },
    "vscode": {
     "languageId": "polyglot-notebook"
    }
   },
   "outputs": [],
   "source": [
    "string VratRetezec(int x, bool y)\n",
    "{\n",
    "    return $\"x ma hodnotu {x} a promena y ma hodnotu {y}\";\n",
    "}\n",
    "\n",
    "Func<int,bool, string> delegat = VratRetezec;\n",
    "\n",
    "string retezec = delegat.Invoke(2, true);\n",
    "\n",
    "Console.WriteLine(retezec);"
   ]
  },
  {
   "attachments": {},
   "cell_type": "markdown",
   "metadata": {},
   "source": [
    "Pokud bychom tuto metodu používali volat jen jednou, nebo bychom chtěli zachytit lokální proměnné, tak ji nemusíme definovat jako metodu, ale můžeme použít lambda výraz. Všimněte si, že u proměnných `x` a `y` nemusíme uvádět typ a když metoda obsahuje pouze jeden příkaz, tak nepoužíváme ani klíčové slovo `return` a složené závorky. Zápis je potom velmi úsporný.\n"
   ]
  },
  {
   "cell_type": "code",
   "execution_count": 4,
   "metadata": {
    "dotnet_interactive": {
     "language": "csharp"
    },
    "polyglot_notebook": {
     "kernelName": "csharp"
    },
    "vscode": {
     "languageId": "polyglot-notebook"
    }
   },
   "outputs": [
    {
     "name": "stdout",
     "output_type": "stream",
     "text": [
      "x ma hodnotu 2 a promena y ma hodnotu True\r\n"
     ]
    }
   ],
   "source": [
    "Func<int,bool, string> delegat = (x,y) => $\"x ma hodnotu {x} a promena y ma hodnotu {y}\";\n",
    "\n",
    "string retezec = delegat.Invoke(2, true);\n",
    "\n",
    "Console.WriteLine(retezec);"
   ]
  },
  {
   "attachments": {},
   "cell_type": "markdown",
   "metadata": {},
   "source": [
    "Lambda výrazy se často používájí s technologi [LINQ](https://learn.microsoft.com/en-us/dotnet/csharp/programming-guide/concepts/linq/). Všimněte si, že pokud má lambda výraz jen jeden parametr tak můžeme vynechat i složené závorky. V následujícím příkladu získáme jen kladná čísla z listu viz ukázka kódu na stránkách [sharplab.io](https://sharplab.io/#v2:CYLg1APgAgTAjAWAFBQAwAJ1TgFgNzJpZwB0AMgJYB2AjgUoQMxYzoDC6A3spplM1BzoAsgAoAlFx68Z0mZkoBnAC4AeasoB86AMYVFAGwCG6ALzoqAUwDu6JWo3bO6ALQxUAGnQwvAVi9uXgDsXgAc6AC+9PK8cvIa6AC21Gbe0TF2+g5UWugAbpbKihSpeoZGJADqABaWAE6WogAeZtot2slU4iQAKgD29hLpMXEyYGCdw/KjvAVFJeZlxlW1Dc2t6O1J1N39g+JTEcgRQA===). "
   ]
  },
  {
   "cell_type": "code",
   "execution_count": 7,
   "metadata": {
    "dotnet_interactive": {
     "language": "csharp"
    },
    "polyglot_notebook": {
     "kernelName": "csharp"
    },
    "vscode": {
     "languageId": "polyglot-notebook"
    }
   },
   "outputs": [],
   "source": [
    "List<int> cisla = new List<int> { -20, 2, 5, -2, 7, 8 };"
   ]
  },
  {
   "cell_type": "code",
   "execution_count": 8,
   "metadata": {
    "dotnet_interactive": {
     "language": "csharp"
    },
    "polyglot_notebook": {
     "kernelName": "csharp"
    },
    "vscode": {
     "languageId": "polyglot-notebook"
    }
   },
   "outputs": [
    {
     "data": {
      "text/html": [
       "<div class=\"dni-plaintext\"><pre>[ 2, 5, 7, 8 ]</pre></div><style>\r\n",
       ".dni-code-hint {\r\n",
       "    font-style: italic;\r\n",
       "    overflow: hidden;\r\n",
       "    white-space: nowrap;\r\n",
       "}\r\n",
       ".dni-treeview {\r\n",
       "    white-space: nowrap;\r\n",
       "}\r\n",
       ".dni-treeview td {\r\n",
       "    vertical-align: top;\r\n",
       "    text-align: start;\r\n",
       "}\r\n",
       "details.dni-treeview {\r\n",
       "    padding-left: 1em;\r\n",
       "}\r\n",
       "table td {\r\n",
       "    text-align: start;\r\n",
       "}\r\n",
       "table tr { \r\n",
       "    vertical-align: top; \r\n",
       "    margin: 0em 0px;\r\n",
       "}\r\n",
       "table tr td pre \r\n",
       "{ \r\n",
       "    vertical-align: top !important; \r\n",
       "    margin: 0em 0px !important;\r\n",
       "} \r\n",
       "table th {\r\n",
       "    text-align: start;\r\n",
       "}\r\n",
       "</style>"
      ]
     },
     "metadata": {},
     "output_type": "display_data"
    }
   ],
   "source": [
    "List<int> kladna = cisla.Where(x => x > 0).ToList();\n",
    "\n",
    "kladna"
   ]
  },
  {
   "attachments": {},
   "cell_type": "markdown",
   "metadata": {},
   "source": [
    "V následujícím příkladu si všimněte, že v lambda výrazu používáme lokální proměnnou `min` a kopírujeme jen proměnné větší než tato hodnota. Říkáme že tato proměnná je **captured** a prodlouží se její **lifetime**. Pro lambda výraz se prakticky vegeneruje třída s fieldem pro lokální proměnnou."
   ]
  },
  {
   "cell_type": "code",
   "execution_count": 15,
   "metadata": {
    "dotnet_interactive": {
     "language": "csharp"
    },
    "polyglot_notebook": {
     "kernelName": "csharp"
    },
    "vscode": {
     "languageId": "polyglot-notebook"
    }
   },
   "outputs": [
    {
     "data": {
      "text/html": [
       "<div class=\"dni-plaintext\"><pre>[ 5, 7, 8 ]</pre></div><style>\r\n",
       ".dni-code-hint {\r\n",
       "    font-style: italic;\r\n",
       "    overflow: hidden;\r\n",
       "    white-space: nowrap;\r\n",
       "}\r\n",
       ".dni-treeview {\r\n",
       "    white-space: nowrap;\r\n",
       "}\r\n",
       ".dni-treeview td {\r\n",
       "    vertical-align: top;\r\n",
       "    text-align: start;\r\n",
       "}\r\n",
       "details.dni-treeview {\r\n",
       "    padding-left: 1em;\r\n",
       "}\r\n",
       "table td {\r\n",
       "    text-align: start;\r\n",
       "}\r\n",
       "table tr { \r\n",
       "    vertical-align: top; \r\n",
       "    margin: 0em 0px;\r\n",
       "}\r\n",
       "table tr td pre \r\n",
       "{ \r\n",
       "    vertical-align: top !important; \r\n",
       "    margin: 0em 0px !important;\r\n",
       "} \r\n",
       "table th {\r\n",
       "    text-align: start;\r\n",
       "}\r\n",
       "</style>"
      ]
     },
     "metadata": {},
     "output_type": "display_data"
    }
   ],
   "source": [
    "int min = 2;\n",
    "\n",
    "List<int> vetsi = cisla.Where(x => x > min).ToList();\n",
    "\n",
    "vetsi\n"
   ]
  },
  {
   "attachments": {},
   "cell_type": "markdown",
   "metadata": {},
   "source": [
    "Lambda výraz je také možné prevést na strom výrazů, což se využívá v některých knihovnách například pro objektově relační mapování, kdy se ze stromu výrázů generuje výraz v jazyce SQL."
   ]
  },
  {
   "attachments": {},
   "cell_type": "markdown",
   "metadata": {},
   "source": [
    "### Statements lambda\n",
    "\n",
    "Pokud chceme v lambda výrazu použít více příkazu, tak musíme použít statements lambda. Statements lambda nejde převést na strom výrazů."
   ]
  },
  {
   "attachments": {},
   "cell_type": "markdown",
   "metadata": {},
   "source": [
    "V následujícím příkazu opět filtrujeme jen kladná čísla z Listu, ale při každém testu, zda je číslo kladné, ještě zvyšíme hodnotu počítadla a vypíšeme ji na terminál, musíme proto využít statements labmda. Všimněte si, že jsme museli použít klíčové slovo `return` a složené závorky."
   ]
  },
  {
   "cell_type": "code",
   "execution_count": 10,
   "metadata": {
    "dotnet_interactive": {
     "language": "csharp"
    },
    "polyglot_notebook": {
     "kernelName": "csharp"
    },
    "vscode": {
     "languageId": "polyglot-notebook"
    }
   },
   "outputs": [
    {
     "name": "stdout",
     "output_type": "stream",
     "text": [
      "1\n",
      "2\n",
      "3\n",
      "4\n"
     ]
    }
   ],
   "source": [
    "int pocitadlo = 0;\n",
    "\n",
    "List<int> kladna = cisla.Where(x =>\n",
    "{\n",
    "    if(x > 0)\n",
    "    {\n",
    "        System.Console.WriteLine(++pocitadlo);\n",
    "        return true;\n",
    "    }\n",
    "\n",
    "    return false;\n",
    "\n",
    "}).ToList();"
   ]
  },
  {
   "attachments": {},
   "cell_type": "markdown",
   "metadata": {},
   "source": [
    "Více se o lambda výrazech můžete dozvědět například zde:\n",
    "\n",
    "[Lambda expressions (C# reference). Microsoft Docs. 2022](https://docs.microsoft.com/en-us/dotnet/csharp/language-reference/operators/lambda-expressions)"
   ]
  },
  {
   "attachments": {},
   "cell_type": "markdown",
   "metadata": {},
   "source": [
    "## Event\n",
    "\n",
    "Event představuje implementace návrhového vzoru Observer v jazyce C#. \n",
    "Obsahuje dvě složky, zdroj události, tedy objekt ve kterém nastala událost a pozorovatele, což je objekt, který chce být notifikován v případě vzniku události. Událost může mít více pozorovatelů a pozorovatel může naslouchat více událostem. Typické použití událostí je v rámci grafického uživatelského rozhraní\n",
    "např. signalizace stisku tlačítka.\n",
    "\n",
    "**Event poskytuje na rozdíl od delegátu** zapouzdření, protože:\n",
    "\n",
    "- event je možné vyvolat pouze uvnitř třídy, která jej definuje, dále \n",
    "- event není možné „vynulovat“ mimo třídu a \n",
    "- pozorovatel nemá možnost zjistit informace o dalších pozorovatelích.\n",
    "\n"
   ]
  },
  {
   "attachments": {},
   "cell_type": "markdown",
   "metadata": {},
   "source": [
    "Event definujeme pomocí klíčového slova `event` u fieldu typu delegate, například v následující třídě `Obchod` definujeme `event` `poplach` typu `Action`."
   ]
  },
  {
   "cell_type": "code",
   "execution_count": 16,
   "metadata": {
    "dotnet_interactive": {
     "language": "csharp"
    },
    "polyglot_notebook": {
     "kernelName": "csharp"
    },
    "vscode": {
     "languageId": "polyglot-notebook"
    }
   },
   "outputs": [],
   "source": [
    "class Obchod\n",
    "{\n",
    "    public event Action poplach;\n",
    "\n",
    "    public void Vloupani()\n",
    "    {\n",
    "        poplach?.Invoke();\n",
    "    }\n",
    "}"
   ]
  },
  {
   "cell_type": "code",
   "execution_count": 19,
   "metadata": {
    "dotnet_interactive": {
     "language": "csharp"
    },
    "polyglot_notebook": {
     "kernelName": "csharp"
    },
    "vscode": {
     "languageId": "polyglot-notebook"
    }
   },
   "outputs": [],
   "source": [
    "Obchod obchod = new Obchod();"
   ]
  },
  {
   "cell_type": "code",
   "execution_count": 20,
   "metadata": {
    "dotnet_interactive": {
     "language": "csharp"
    },
    "polyglot_notebook": {
     "kernelName": "csharp"
    },
    "vscode": {
     "languageId": "polyglot-notebook"
    }
   },
   "outputs": [
    {
     "ename": "Error",
     "evalue": "(1,8): error CS0070: Událost Obchod.poplach se může zobrazovat jenom na levé straně výrazu += nebo -= (s výjimkou případu, kdy se používá z typu Obchod).\r\n(2,8): error CS0070: Událost Obchod.poplach se může zobrazovat jenom na levé straně výrazu += nebo -= (s výjimkou případu, kdy se používá z typu Obchod).",
     "output_type": "error",
     "traceback": [
      "(1,8): error CS0070: Událost Obchod.poplach se může zobrazovat jenom na levé straně výrazu += nebo -= (s výjimkou případu, kdy se používá z typu Obchod).\r\n",
      "(2,8): error CS0070: Událost Obchod.poplach se může zobrazovat jenom na levé straně výrazu += nebo -= (s výjimkou případu, kdy se používá z typu Obchod)."
     ]
    }
   ],
   "source": [
    "obchod.poplach.Invoke(); // error protože event je možné vyvolat pouze uvnitř třídy, která jej definuje\n",
    "obchod.poplach = null;   // error protože event není možné „vynulovat“ mimo třídu"
   ]
  },
  {
   "attachments": {},
   "cell_type": "markdown",
   "metadata": {},
   "source": [
    "Přihlášení k notifikaci eventu se provádí pomocí operátoru `+=`. K eventu se přihlašuje delegát (existující metoda, lambda výraz). Analogicky je možné provést odhlášení pomocí operátoru `-=` (instance může odhlásit pouze sama sebe, případně toho, o kom ví že se přihlásil). Operátor `+=` a `-=` lze použít i u delegáta, ale u eventu narozdíl od delegáta není možné použít operátor přiřazení `=` a tím odstranit ostatní pozorovatele. V následujícím příkladu se k notifikaci eventu poplach přihlásí dvě metody `VyjezdPolicie` a `VyjezdHasici` poté je uveden příklad na odhlášení notifikace."
   ]
  },
  {
   "cell_type": "code",
   "execution_count": 21,
   "metadata": {
    "dotnet_interactive": {
     "language": "csharp"
    },
    "polyglot_notebook": {
     "kernelName": "csharp"
    },
    "vscode": {
     "languageId": "polyglot-notebook"
    }
   },
   "outputs": [
    {
     "name": "stdout",
     "output_type": "stream",
     "text": [
      "Vyjizdi policie\n",
      "Vyjizdi hasici\n"
     ]
    }
   ],
   "source": [
    "void VyjezdPolicie()\n",
    "{\n",
    "    Console.WriteLine(\"Vyjizdi policie\");\n",
    "}\n",
    "\n",
    "void VyjezdHasici()\n",
    "{\n",
    "    Console.WriteLine(\"Vyjizdi hasici\");\n",
    "}\n",
    "\n",
    "obchod.poplach += VyjezdPolicie;\n",
    "obchod.poplach += VyjezdHasici;\n",
    "\n",
    "obchod.Vloupani();\n",
    "\n",
    "obchod.poplach -= VyjezdPolicie;"
   ]
  },
  {
   "attachments": {},
   "cell_type": "markdown",
   "metadata": {},
   "source": [
    "Více se o eventech můžete dozvědět například zde:\n",
    "\n",
    "[Events (C# Programming Guide). Microsoft Docs. 2022](https://docs.microsoft.com/en-us/dotnet/csharp/programming-guide/events/)"
   ]
  }
 ],
 "metadata": {
  "language_info": {
   "name": "csharp"
  },
  "orig_nbformat": 4
 },
 "nbformat": 4,
 "nbformat_minor": 2
}
