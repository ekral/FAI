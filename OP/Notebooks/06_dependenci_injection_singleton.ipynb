{
 "cells": [
  {
   "attachments": {},
   "cell_type": "markdown",
   "id": "337e558c",
   "metadata": {},
   "source": [
    "# 06: Dependency injection a Singleton\n",
    "**autor: Erik Král ekral@utb.cz**\n",
    "\n",
    "---\n",
    "\n",
    "\n",
    "Obsah\n",
    "- Dependency Injection.\n",
    "- Dependency Injection a Unit Testy.\n",
    "- Singleton.\n",
    "- Singleton a Dependency Injection.\n",
    "- Singleton vs Statická třída."
   ]
  },
  {
   "cell_type": "markdown",
   "metadata": {},
   "source": [
    "## Dependency injection"
   ]
  },
  {
   "cell_type": "markdown",
   "metadata": {},
   "source": [
    "Technika Dependency Injection se používá k tomu aby jedna třída nebyla přímo závislá na jiné třídě a její konkrétní implementaci. Tato technika často používá proto aby byl kód lépe testovatelný, protože můžeme v kódu jednodušeji nakonfigurovat objekt pro potřeby testu. Technika Dependency Injection je založena na tom, že místo reference typu konkrétní třídy používáme referenci typu rozhraní a vlastní instanci potom předáváme nejčastěji v konstruktoru (jsou ale i varianty s Property nebo metodou). \n",
    "\n",
    "Lépe se ale tato technika chápe na konrétním příkladu. Ukážeme si příklad, kdy budeme mít třídu `Automobil` a ta bude mít field `motor` a budeme chtít při vytváření instance třídy `Automobil` zvolit, zda bude mít benzínový nebo naftový motor."
   ]
  },
  {
   "cell_type": "markdown",
   "metadata": {},
   "source": [
    "### Příklad bez použití Dependency Injection"
   ]
  },
  {
   "cell_type": "markdown",
   "metadata": {},
   "source": [
    "Nejprve si definujeme třídu BenzinovyMotor:"
   ]
  },
  {
   "cell_type": "code",
   "execution_count": 1,
   "id": "6c0d7f0e",
   "metadata": {
    "dotnet_interactive": {
     "language": "csharp"
    },
    "polyglot_notebook": {
     "kernelName": "csharp"
    },
    "vscode": {
     "languageId": "polyglot-notebook"
    }
   },
   "outputs": [],
   "source": [
    "class BenzinovyMotor\n",
    "{\n",
    "    public void Nastartuj()\n",
    "    {\n",
    "        Console.WriteLine(\"Zapalil jsem smes benzinu a vzduchu zapalovaci svickou\");\n",
    "    }\n",
    "}"
   ]
  },
  {
   "cell_type": "markdown",
   "metadata": {},
   "source": [
    "A potom třídu `Automobil`, která bude mít referenci a objekt typu `BenzinovyMotor` a metodě Jed zavolá metodu motoru `Nastartuj`:"
   ]
  },
  {
   "cell_type": "code",
   "execution_count": 2,
   "id": "3e866b21",
   "metadata": {
    "dotnet_interactive": {
     "language": "csharp"
    },
    "polyglot_notebook": {
     "kernelName": "csharp"
    },
    "vscode": {
     "languageId": "polyglot-notebook"
    }
   },
   "outputs": [],
   "source": [
    "class Automobil\n",
    "{\n",
    "    private BenzinovyMotor motor;\n",
    "\n",
    "    public Automobil()\n",
    "    {\n",
    "        motor = new BenzinovyMotor();\n",
    "    }\n",
    "\n",
    "    public void Jed()\n",
    "    {\n",
    "        Console.WriteLine(\"Startuji ...\");\n",
    "        motor.Nastartuj();\n",
    "    }\n",
    "}"
   ]
  },
  {
   "cell_type": "markdown",
   "metadata": {},
   "source": [
    "Použití třídy `Automobil` v klientském kódu potom bude následující:"
   ]
  },
  {
   "cell_type": "code",
   "execution_count": 3,
   "id": "59d95679",
   "metadata": {
    "dotnet_interactive": {
     "language": "csharp"
    },
    "polyglot_notebook": {
     "kernelName": "csharp"
    },
    "vscode": {
     "languageId": "polyglot-notebook"
    }
   },
   "outputs": [
    {
     "name": "stdout",
     "output_type": "stream",
     "text": [
      "Startuji ...\n",
      "Zapalil jsem smes benzinu a vzduchu zapalovaci svickou\n"
     ]
    }
   ],
   "source": [
    "Automobil automobil = new Automobil();\n",
    "automobil.Jed();"
   ]
  },
  {
   "cell_type": "markdown",
   "metadata": {},
   "source": [
    "### Příklad s použitím Dependency Injection"
   ]
  },
  {
   "cell_type": "markdown",
   "metadata": {},
   "source": [
    "Představme si ale situaci, že bychom chtěli při vytváření nového automobilu zvolit typ motoru, například místo benzínového motoru bychom chtěli zvoli následující naftový motor, a **nechtěli bychom přitom měnit kód třídy** `Automobil`:"
   ]
  },
  {
   "cell_type": "code",
   "execution_count": 4,
   "id": "5a5f1c7a",
   "metadata": {
    "dotnet_interactive": {
     "language": "csharp"
    },
    "polyglot_notebook": {
     "kernelName": "csharp"
    },
    "vscode": {
     "languageId": "polyglot-notebook"
    }
   },
   "outputs": [],
   "source": [
    "class NaftovyMotor\n",
    "{\n",
    "    public void Nastartuj()\n",
    "    {\n",
    "        Console.WriteLine(\"Zapalil jsem jsem smes díky vznícení způsobené vysokou teplotou stlačeného vzduchu\");\n",
    "    }\n",
    "}"
   ]
  },
  {
   "cell_type": "markdown",
   "metadata": {},
   "source": [
    "Aby to bylo možné, tak si nejprve vytvoříme rozhraní, které budou implementovat oba motory (a případně i další nové typy motorů):"
   ]
  },
  {
   "cell_type": "code",
   "execution_count": 5,
   "id": "09e4e49c",
   "metadata": {
    "dotnet_interactive": {
     "language": "csharp"
    },
    "polyglot_notebook": {
     "kernelName": "csharp"
    },
    "vscode": {
     "languageId": "polyglot-notebook"
    }
   },
   "outputs": [],
   "source": [
    "interface IMotor\n",
    "{\n",
    "    void Nastartuj();\n",
    "}\n",
    "\n",
    "class BenzinovyMotor : IMotor\n",
    "{\n",
    "    public void Nastartuj()\n",
    "    {\n",
    "        Console.WriteLine(\"Zapalil jsem smes benzinu a vzduchu zapalovaci svickou\");\n",
    "    }\n",
    "}\n",
    "\n",
    "class NaftovyMotor : IMotor\n",
    "{\n",
    "    public void Nastartuj()\n",
    "    {\n",
    "        Console.WriteLine(\"Zapalil jsem jsem smes díky vznícení způsobené vysokou teplotou stlačeného vzduchu\");\n",
    "    }\n",
    "}"
   ]
  },
  {
   "cell_type": "markdown",
   "metadata": {},
   "source": [
    "Ve třídě `Automobil` potom budeme mít referenci `motor` typu `IMotor` místo konkrétního typu motoru. A konkrétní motor si předáme jako parametr konstruktoru."
   ]
  },
  {
   "cell_type": "code",
   "execution_count": 6,
   "id": "7571c3bd",
   "metadata": {
    "dotnet_interactive": {
     "language": "csharp"
    },
    "polyglot_notebook": {
     "kernelName": "csharp"
    },
    "vscode": {
     "languageId": "polyglot-notebook"
    }
   },
   "outputs": [],
   "source": [
    "class Automobil\n",
    "{\n",
    "    private IMotor motor;\n",
    "\n",
    "    public Automobil(IMotor motor)\n",
    "    {\n",
    "        this.motor = motor;\n",
    "    }\n",
    "\n",
    "    public void Jed()\n",
    "    {\n",
    "        Console.WriteLine(\"Startuji ...\");\n",
    "        motor.Nastartuj();\n",
    "    }\n",
    "}"
   ]
  },
  {
   "cell_type": "markdown",
   "metadata": {},
   "source": [
    "Při vytváření instance třídy `Automobil` v konstruktoru předáme referenci na instanci konkrétního typu motoru a nemusíme přitom měnit kód třídy `Automobil`:"
   ]
  },
  {
   "cell_type": "code",
   "execution_count": 7,
   "id": "c48f7da2",
   "metadata": {
    "dotnet_interactive": {
     "language": "csharp"
    },
    "polyglot_notebook": {
     "kernelName": "csharp"
    },
    "vscode": {
     "languageId": "polyglot-notebook"
    }
   },
   "outputs": [
    {
     "name": "stdout",
     "output_type": "stream",
     "text": [
      "Startuji ...\n",
      "Zapalil jsem smes benzinu a vzduchu zapalovaci svickou\n",
      "Startuji ...\n",
      "Zapalil jsem jsem smes díky vznícení způsobené vysokou teplotou stlačeného vzduchu\n"
     ]
    }
   ],
   "source": [
    "Automobil automobilBenzin = new Automobil(new BenzinovyMotor());\n",
    "automobilBenzin.Jed();\n",
    "\n",
    "Automobil automobilNafta = new Automobil(new NaftovyMotor());\n",
    "automobilNafta.Jed();"
   ]
  },
  {
   "cell_type": "markdown",
   "metadata": {},
   "source": [
    "Cvičení\n",
    "\n",
    "1. Vytvořte automobil s elektrickým motorem."
   ]
  },
  {
   "cell_type": "code",
   "execution_count": null,
   "id": "b50602d2",
   "metadata": {
    "dotnet_interactive": {
     "language": "csharp"
    },
    "polyglot_notebook": {
     "kernelName": "csharp"
    },
    "vscode": {
     "languageId": "polyglot-notebook"
    }
   },
   "outputs": [],
   "source": [
    "// "
   ]
  },
  {
   "cell_type": "markdown",
   "metadata": {},
   "source": [
    "## Dependency Injection a Unit Testy"
   ]
  },
  {
   "cell_type": "markdown",
   "metadata": {},
   "source": [
    "Dependency Injection se často používá také proto, aby byl kód testovatelný. Nyní si vytvoříme příklad na Depenndency injection s logováním vkladu na bankovní účet a poté jej otestujeme pomocí Unit Testu. Nejprve si nadefinujeme rozhraní `ILogger`:"
   ]
  },
  {
   "cell_type": "code",
   "execution_count": 8,
   "id": "7144598c",
   "metadata": {
    "dotnet_interactive": {
     "language": "csharp"
    },
    "polyglot_notebook": {
     "kernelName": "csharp"
    },
    "vscode": {
     "languageId": "polyglot-notebook"
    }
   },
   "outputs": [],
   "source": [
    "interface ILogger\n",
    "{\n",
    "    void Log(string text);\n",
    "}"
   ]
  },
  {
   "cell_type": "markdown",
   "metadata": {},
   "source": [
    "A potom třídu `ConsoleLogger` implementující toto rozhraní:"
   ]
  },
  {
   "cell_type": "code",
   "execution_count": 9,
   "id": "98f72dd9",
   "metadata": {
    "dotnet_interactive": {
     "language": "csharp"
    },
    "polyglot_notebook": {
     "kernelName": "csharp"
    },
    "vscode": {
     "languageId": "polyglot-notebook"
    }
   },
   "outputs": [],
   "source": [
    "class ConsoleLogger : ILogger\n",
    "{\n",
    "    private int counter;\n",
    "    \n",
    "    public ConsoleLogger()\n",
    "    {\n",
    "        counter = 0;\n",
    "    }\n",
    "\n",
    "    public void Log(string text)\n",
    "    {\n",
    "        Console.WriteLine($\"{counter}: {text}\");\n",
    "        ++counter;\n",
    "    }\n",
    "}"
   ]
  },
  {
   "cell_type": "markdown",
   "metadata": {},
   "source": [
    "Třída bankovní účet potom bude používat pouze typ rozhraní `ILogger` a nemá žádnou referenci na konkrétní implementaci:"
   ]
  },
  {
   "cell_type": "code",
   "execution_count": 17,
   "id": "90837ab9",
   "metadata": {
    "dotnet_interactive": {
     "language": "csharp"
    },
    "polyglot_notebook": {
     "kernelName": "csharp"
    },
    "vscode": {
     "languageId": "polyglot-notebook"
    }
   },
   "outputs": [],
   "source": [
    "class Ucet\n",
    "{\n",
    "    private ILogger logger;\n",
    "    \n",
    "    public decimal Zustatek { get; set; }\n",
    "    \n",
    "    public Ucet(ILogger logger)\n",
    "    {\n",
    "        this.logger = logger;\n",
    "        \n",
    "        Zustatek = 1000;\n",
    "    }\n",
    "\n",
    "    public void Vyber(decimal castka)\n",
    "    {\n",
    "        logger.Log($\"vyber castky: {castka}\");\n",
    "\n",
    "        Zustatek -= castka;\n",
    "    }\n",
    "}"
   ]
  },
  {
   "cell_type": "markdown",
   "metadata": {},
   "source": [
    "V klientském kódu potom předáme objekt typu `ConsoleLogger` jako argument konstruktoru `BankovniUcet`:"
   ]
  },
  {
   "cell_type": "code",
   "execution_count": 11,
   "id": "384ae81d",
   "metadata": {
    "dotnet_interactive": {
     "language": "csharp"
    },
    "polyglot_notebook": {
     "kernelName": "csharp"
    },
    "vscode": {
     "languageId": "polyglot-notebook"
    }
   },
   "outputs": [
    {
     "name": "stdout",
     "output_type": "stream",
     "text": [
      "0: vyber castky: 200\r\n"
     ]
    }
   ],
   "source": [
    "ConsoleLogger logger = new ConsoleLogger();\n",
    "Ucet banka = new Ucet(logger);\n",
    "banka.Vyber(200m);"
   ]
  },
  {
   "cell_type": "markdown",
   "metadata": {},
   "source": [
    "Výhodou použití techniky Dependency Injection proti například statické metodě je, že můžeme volit různé implementace loggeru a nemusíme přitom měnit kód třídy `Ucet`. Například pro potřeby unit testu vytvořit třídu, která neloguje nikam a použít ji v testu tak, aby test neměl žádné vedlejší efekty, tedy neměnil obsah souboru pro logování. "
   ]
  },
  {
   "cell_type": "code",
   "execution_count": 12,
   "id": "1e8aa5d7",
   "metadata": {
    "dotnet_interactive": {
     "language": "csharp"
    },
    "polyglot_notebook": {
     "kernelName": "csharp"
    },
    "vscode": {
     "languageId": "polyglot-notebook"
    }
   },
   "outputs": [],
   "source": [
    "class LoggerStub : ILogger\n",
    "{\n",
    "    public void Log(string text)\n",
    "    {\n",
    "        // neloguje nikam\n",
    "    }\n",
    "}"
   ]
  },
  {
   "attachments": {},
   "cell_type": "markdown",
   "metadata": {},
   "source": [
    "Nyní vytvoříme Unit Test, který otestuje, zda metoda `Vyber` odečítá správně částku od zůstatku. Testy se běžně nepouští v kódu, ale automatizovaně například pomocí příkazu `dotnet test` nad projektem obsahujícím unit testy. V tomto notebooku takový projekt nemáme, tak test pouštíme přímo z kódu. První příkaz nainstaluje nuget balíček xunit, což je jeden z frameworků pro tvorbu Unit testů."
   ]
  },
  {
   "cell_type": "code",
   "execution_count": 13,
   "id": "f7e5990d",
   "metadata": {
    "dotnet_interactive": {
     "language": "csharp"
    },
    "polyglot_notebook": {
     "kernelName": "csharp"
    },
    "vscode": {
     "languageId": "polyglot-notebook"
    }
   },
   "outputs": [
    {
     "data": {
      "text/html": [
       "<div><div></div><div></div><div><strong>Installed Packages</strong><ul><li><span>xunit, 2.4.2</span></li></ul></div></div>"
      ]
     },
     "metadata": {},
     "output_type": "display_data"
    }
   ],
   "source": [
    "#r \"nuget:xunit\""
   ]
  },
  {
   "cell_type": "code",
   "execution_count": 18,
   "id": "3150cfb6",
   "metadata": {
    "dotnet_interactive": {
     "language": "csharp"
    },
    "polyglot_notebook": {
     "kernelName": "csharp"
    },
    "vscode": {
     "languageId": "polyglot-notebook"
    }
   },
   "outputs": [],
   "source": [
    "using Xunit;\n",
    "\n",
    "public class TestBankovniUcet\n",
    "{\n",
    "    [Fact]\n",
    "    public void Vyber_Vse_NulovyZustatek()\n",
    "    {\n",
    "        LoggerStub logger = new LoggerStub();\n",
    "        Ucet banka = new Ucet(logger);\n",
    "\n",
    "        banka.Vyber(1000.0m);\n",
    "        Assert.Equal(0.0m, banka.Zustatek);\n",
    "    }\n",
    "}\n",
    "\n",
    "TestBankovniUcet test = new();\n",
    "test.Vyber_Vse_NulovyZustatek();"
   ]
  },
  {
   "attachments": {},
   "cell_type": "markdown",
   "id": "0a79c9e3",
   "metadata": {},
   "source": [
    "Zkuste zmenit kód metody Vyber třídy `Ucet`, tak aby nesprávně odečítal zůstatek a následující test vyvolá vyjímku a upozorní nás na chybu."
   ]
  },
  {
   "cell_type": "markdown",
   "metadata": {},
   "source": [
    "## Singleton"
   ]
  },
  {
   "cell_type": "markdown",
   "metadata": {},
   "source": [
    "Singleton představuje klasický návrhový vzor (postup) používaný pokud chceme mít pouze a jenom jednu instanci třídy v programu, například instanci třídy pro logování do souboru. Singleton je většinou implementovaný jako třída s private konstruktorem, která má statickou metodu Instance, která vrací referenci na statický field – vlastní instanci třídy, kterou chceme použít.\n",
    "I když má Singleton své výhody a zaručuje že v programuje je vždy jen jedna jeho instance, bývá někdy označován jako **anti-pattern**, protože využití statických členských metod může snižovat testovatelnost kódu."
   ]
  },
  {
   "cell_type": "markdown",
   "metadata": {},
   "source": [
    "V následujícím příkladu vytvoříme třídu pro logování (zápisu průběhu programu například do textového souboru) jako Singleton.\n",
    "\n",
    "Následující třída `SingletonLogger` má `private` konstruktor, což znamená, že můžeme vytvářet její instance jen v metodách této třídy a ne v klientském kódu. Potom máme static property `Instance`, která ověří zda má static field `instance` hodnotu `null`, tedy zda je již instance vytvořena a pokud ne, tak ji vytvoří a vrátí referenci na tuto instanci. Pokud už instance existuje, tak novou nevytváří, tím je, zaručeno, že v celém programu bude existovat jen jedna instance třídy `SingletonLogger`. Field `counter` počítá počet logů a v příkladu je uvedený jen pro ukázku použití fieldu v tříde `SingletonLogger`."
   ]
  },
  {
   "cell_type": "code",
   "execution_count": 19,
   "id": "3a1b942d",
   "metadata": {
    "dotnet_interactive": {
     "language": "csharp"
    },
    "polyglot_notebook": {
     "kernelName": "csharp"
    },
    "vscode": {
     "languageId": "polyglot-notebook"
    }
   },
   "outputs": [],
   "source": [
    "class SingletonLogger\n",
    "{\n",
    "    private static SingletonLogger instance;\n",
    "\n",
    "    private int counter;\n",
    "    \n",
    "    private SingletonLogger()\n",
    "    {\n",
    "        counter = 0;\n",
    "    }\n",
    "    \n",
    "    public void Log(string text)\n",
    "    {\n",
    "        Console.WriteLine($\"{counter}: {text}\");\n",
    "        ++counter;\n",
    "    }\n",
    "    \n",
    "    public static SingletonLogger Instance\n",
    "    {\n",
    "        get\n",
    "        {\n",
    "            if (instance == null)\n",
    "            {\n",
    "                instance = new SingletonLogger();\n",
    "            }\n",
    "            return instance;\n",
    "        }\n",
    "    }\n",
    "}"
   ]
  },
  {
   "cell_type": "markdown",
   "metadata": {},
   "source": [
    "Nyní použijeme `SingletonLogger` v třídě `BankovniUcet`, kdy budeme logovat na konzoli každý výběr."
   ]
  },
  {
   "cell_type": "code",
   "execution_count": 20,
   "id": "9549f7d4",
   "metadata": {
    "dotnet_interactive": {
     "language": "csharp"
    },
    "polyglot_notebook": {
     "kernelName": "csharp"
    },
    "vscode": {
     "languageId": "polyglot-notebook"
    }
   },
   "outputs": [],
   "source": [
    "class Ucet\n",
    "{\n",
    "    public decimal Zustatek { get; set; }\n",
    "    \n",
    "    public Ucet()\n",
    "    {\n",
    "        Zustatek = 1000;\n",
    "    }\n",
    "    \n",
    "    public void Vyber(decimal castka)\n",
    "    {\n",
    "        SingletonLogger.Instance.Log($\"vyber castky: {castka}\");\n",
    "        \n",
    "        Zustatek -= castka;\n",
    "    }\n",
    "}"
   ]
  },
  {
   "cell_type": "code",
   "execution_count": 21,
   "id": "662077d4",
   "metadata": {
    "dotnet_interactive": {
     "language": "csharp"
    },
    "polyglot_notebook": {
     "kernelName": "csharp"
    },
    "vscode": {
     "languageId": "polyglot-notebook"
    }
   },
   "outputs": [
    {
     "name": "stdout",
     "output_type": "stream",
     "text": [
      "0: vyber castky: 200\n",
      "1: vyber castky: 50\n"
     ]
    }
   ],
   "source": [
    "Ucet banka = new Ucet();\n",
    "banka.Vyber(200m);\n",
    "banka.Vyber(50m);"
   ]
  },
  {
   "cell_type": "markdown",
   "metadata": {},
   "source": [
    "## Singleton a Dependency Injection"
   ]
  },
  {
   "cell_type": "markdown",
   "metadata": {},
   "source": [
    "Singleton má proti čistě statické metodě výhodu, že může implementovat rozhraní a můžeme jej využít s technikou Dependency Injection. A také můžeme alokovat paměť pro objekty teprve až se poprvé zažádá o instanci singletonu. Lepší ale bude opět využít využít Dependency Injection.\n",
    "\n",
    "V následujícím příkladu si nejprve nadefinujeme `SingletonLogger` implementující rozhraní `ILogger` z příkladu na dependency injection."
   ]
  },
  {
   "cell_type": "code",
   "execution_count": 22,
   "id": "c294ede4",
   "metadata": {
    "dotnet_interactive": {
     "language": "csharp"
    },
    "polyglot_notebook": {
     "kernelName": "csharp"
    },
    "vscode": {
     "languageId": "polyglot-notebook"
    }
   },
   "outputs": [],
   "source": [
    "class SingletonLogger : ILogger\n",
    "{\n",
    "    private static SingletonLogger instance;\n",
    "\n",
    "    private int counter;\n",
    "\n",
    "    private SingletonLogger()\n",
    "    {\n",
    "        counter = 0;\n",
    "    }\n",
    "\n",
    "    public void Log(string text)\n",
    "    {\n",
    "        Console.WriteLine($\"{counter}: {text}\");\n",
    "        ++counter;\n",
    "    }\n",
    "\n",
    "    public static SingletonLogger Instance\n",
    "    {\n",
    "        get\n",
    "        {\n",
    "            if (instance == null)\n",
    "            {\n",
    "                instance = new SingletonLogger();\n",
    "            }\n",
    "            return instance;\n",
    "        }\n",
    "    }\n",
    "}"
   ]
  },
  {
   "cell_type": "markdown",
   "metadata": {},
   "source": [
    "A objekt typu `SingletonLogger` pak můžeme použít všude tam, kde se vyžaduje typ `ILogger`, například v bankovním účtu z příkladu na Dependency Injection:"
   ]
  },
  {
   "cell_type": "code",
   "execution_count": 23,
   "id": "084893b6",
   "metadata": {
    "dotnet_interactive": {
     "language": "csharp"
    },
    "polyglot_notebook": {
     "kernelName": "csharp"
    },
    "vscode": {
     "languageId": "polyglot-notebook"
    }
   },
   "outputs": [],
   "source": [
    "class Ucet\n",
    "{\n",
    "    private ILogger logger;\n",
    "    \n",
    "    public decimal Zustatek { get; set; }\n",
    "    \n",
    "    public Ucet(ILogger logger)\n",
    "    {\n",
    "        this.logger = logger;\n",
    "        \n",
    "        Zustatek = 1000;\n",
    "    }\n",
    "\n",
    "    public void Vyber(decimal castka)\n",
    "    {\n",
    "        logger.Log($\"vyber castky: {castka}\");\n",
    "\n",
    "        Zustatek -= castka;\n",
    "    }\n",
    "}"
   ]
  },
  {
   "cell_type": "code",
   "execution_count": 24,
   "id": "07a5f437",
   "metadata": {
    "dotnet_interactive": {
     "language": "csharp"
    },
    "polyglot_notebook": {
     "kernelName": "csharp"
    },
    "vscode": {
     "languageId": "polyglot-notebook"
    }
   },
   "outputs": [
    {
     "name": "stdout",
     "output_type": "stream",
     "text": [
      "0: vyber castky: 2000,0\r\n"
     ]
    }
   ],
   "source": [
    "ILogger logger = SingletonLogger.Instance;\n",
    "Ucet ucet = new Ucet(logger);\n",
    "ucet.Vyber(2000.0m);"
   ]
  },
  {
   "cell_type": "markdown",
   "metadata": {},
   "source": [
    "Použití Singletonu je tedy mnohem pruženější proti použití statické třídy. Reálně se ale Singleton s technikou Dependency Injection tak často nevyužívá a využívá se spíše technika Inversion of Control. "
   ]
  },
  {
   "cell_type": "markdown",
   "metadata": {},
   "source": [
    "## Singleton vs Statická třída"
   ]
  },
  {
   "cell_type": "markdown",
   "metadata": {},
   "source": [
    "Třída pro logování by mohla také být implementována jako statická třída se statickými metodami a fieldy. Následující ukázka využívá i statický konstruktor:"
   ]
  },
  {
   "cell_type": "code",
   "execution_count": 25,
   "id": "69453787",
   "metadata": {
    "dotnet_interactive": {
     "language": "csharp"
    },
    "polyglot_notebook": {
     "kernelName": "csharp"
    },
    "vscode": {
     "languageId": "polyglot-notebook"
    }
   },
   "outputs": [],
   "source": [
    "static class StaticLogger\n",
    "{\n",
    "    private static int counter;\n",
    "\n",
    "    static StaticLogger()\n",
    "    {\n",
    "        counter = 0;\n",
    "    }\n",
    "\n",
    "    public static void Log(string text)\n",
    "    {\n",
    "        Console.WriteLine($\"{counter}: {text}\");\n",
    "        ++counter;\n",
    "    }\n",
    "}"
   ]
  },
  {
   "attachments": {},
   "cell_type": "markdown",
   "metadata": {},
   "source": [
    "V případě statické třídy máme jedinou možnost jak ji použít a to voláním statické metody `Log`. Kód je tedy obtížnější testovat a také není z konstruktoru zřejmé, že třída používá nějaký způsob logování."
   ]
  },
  {
   "cell_type": "code",
   "execution_count": 26,
   "id": "a455c1f9",
   "metadata": {
    "dotnet_interactive": {
     "language": "csharp"
    },
    "polyglot_notebook": {
     "kernelName": "csharp"
    },
    "vscode": {
     "languageId": "polyglot-notebook"
    }
   },
   "outputs": [],
   "source": [
    "class Ucet\n",
    "{\n",
    "    public decimal Zustatek { get; set; }\n",
    "\n",
    "    public Ucet()\n",
    "    {\n",
    "        Zustatek = 1000;\n",
    "    }\n",
    "\n",
    "    public void Vyber(decimal castka)\n",
    "    {\n",
    "        StaticLogger.Log($\"vyber castky: {castka}\");\n",
    "\n",
    "        Zustatek -= castka;\n",
    "    }\n",
    "}"
   ]
  },
  {
   "cell_type": "markdown",
   "metadata": {},
   "source": [
    "---\n",
    "\n",
    "Více se o technice Dependency Injection a Inversion of Control můžete dočíst například zde:\n",
    "\n",
    "[Dependency injection in .NET. Microsoft Docs. 2022](https://docs.microsoft.com/en-us/dotnet/core/extensions/dependency-injection)\n",
    "\n",
    "Singleton a další klasické patterny byly představeny v následující klasické knize:\n",
    "\n",
    "[GAMMA, Erich. Design patterns: elements of reusable object-oriented software. Boston: Addison-Wesley, 1995. ISBN 0-201-63361-2](https://www.oreilly.com/library/view/design-patterns-elements/0201633612/)"
   ]
  }
 ],
 "metadata": {
  "kernelInfo": {
   "defaultKernelName": null,
   "items": [
    {
     "aliases": [
      "c#",
      "cs"
     ],
     "languageName": "C#",
     "name": "csharp"
    },
    {
     "aliases": [
      "f#",
      "fs"
     ],
     "languageName": "F#",
     "name": "fsharp"
    },
    {
     "aliases": [
      "powershell"
     ],
     "languageName": "PowerShell",
     "name": "pwsh"
    },
    {
     "aliases": [
      "js"
     ],
     "languageName": "JavaScript",
     "name": "javascript"
    },
    {
     "languageName": "HTML",
     "name": "html"
    },
    {
     "languageName": "SQL",
     "name": "sql"
    },
    {
     "languageName": "KQL",
     "name": "kql"
    },
    {
     "languageName": "Mermaid",
     "name": "mermaid"
    },
    {
     "languageName": "HTTP",
     "name": "http"
    },
    {
     "name": "value"
    }
   ]
  },
  "language_info": {
   "name": "python"
  },
  "polyglot_notebook": {
   "kernelInfo": {
    "defaultKernelName": "csharp",
    "items": [
     {
      "aliases": [
       "c#",
       "cs"
      ],
      "languageName": "C#",
      "name": "csharp"
     },
     {
      "aliases": [
       "f#",
       "fs"
      ],
      "languageName": "F#",
      "name": "fsharp"
     },
     {
      "aliases": [],
      "languageName": "HTML",
      "name": "html"
     },
     {
      "aliases": [],
      "languageName": "HTTP",
      "name": "http"
     },
     {
      "aliases": [
       "js"
      ],
      "languageName": "JavaScript",
      "name": "javascript"
     },
     {
      "aliases": [],
      "languageName": "KQL",
      "name": "kql"
     },
     {
      "aliases": [],
      "languageName": "Mermaid",
      "name": "mermaid"
     },
     {
      "aliases": [
       "powershell"
      ],
      "languageName": "PowerShell",
      "name": "pwsh"
     },
     {
      "aliases": [],
      "languageName": "SQL",
      "name": "sql"
     },
     {
      "aliases": [],
      "name": "value"
     }
    ]
   }
  }
 },
 "nbformat": 4,
 "nbformat_minor": 5
}
