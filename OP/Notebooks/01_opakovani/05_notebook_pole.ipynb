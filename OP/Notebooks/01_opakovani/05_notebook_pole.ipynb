{
 "cells": [
  {
   "cell_type": "markdown",
   "metadata": {},
   "source": [
    "# 05 Pole a Kolekce\n",
    "**autor: Erik Král ekral@utb.cz**\n",
    "\n",
    "---\n",
    "\n",
    "Pro zvládnutí předmětu potřebujete vědět jak definovat pole, inicializovat ho, přistupovat k jeho prvkům, vytvářet kopii pole a porovnávat hodnoty v poli."
   ]
  },
  {
   "cell_type": "markdown",
   "metadata": {},
   "source": [
    "## Jednorozměrná pole"
   ]
  },
  {
   "cell_type": "markdown",
   "metadata": {},
   "source": [
    "Typ pole vytvoříme tak, že za typ prvků v poli přidáme `[]`, například pole celých čísel `int` zapíšeme jako `int[]`. Následující příkaz definuje proměnnou typu pole `int[]` a protože pole je referenční typ, tak mu můžeme přiřadit hodnotu `null` což znamená že, nemá ještě přiřazené žádné hodnoty.\n"
   ]
  },
  {
   "cell_type": "code",
   "execution_count": null,
   "metadata": {
    "dotnet_interactive": {
     "language": "csharp"
    },
    "polyglot_notebook": {
     "kernelName": "csharp"
    },
    "vscode": {
     "languageId": "polyglot-notebook"
    }
   },
   "outputs": [],
   "source": [
    "int[] pole = null;"
   ]
  },
  {
   "cell_type": "code",
   "execution_count": null,
   "metadata": {
    "dotnet_interactive": {
     "language": "csharp"
    },
    "polyglot_notebook": {
     "kernelName": "csharp"
    },
    "vscode": {
     "languageId": "polyglot-notebook"
    }
   },
   "outputs": [],
   "source": [
    "pole"
   ]
  },
  {
   "cell_type": "markdown",
   "metadata": {},
   "source": [
    "Paměť pro vlastní hodnoty prvků potom alokujeme pomocí příkazu `new int[3]` kdy hodnota `3` je počet prvků. Proměnná pole potom představuje referenci na zásobníku na data alokované na haldě (pojmy zásobník a halda probereme v přednášce [Zasobnik_halda_reference](https://github.com/ekral/FAI/tree/master/PA/Zasobnik_halda_reference)."
   ]
  },
  {
   "cell_type": "code",
   "execution_count": null,
   "metadata": {
    "dotnet_interactive": {
     "language": "csharp"
    },
    "polyglot_notebook": {
     "kernelName": "csharp"
    },
    "vscode": {
     "languageId": "polyglot-notebook"
    }
   },
   "outputs": [],
   "source": [
    "pole = new int[3];"
   ]
  },
  {
   "cell_type": "markdown",
   "metadata": {},
   "source": [
    "Oba příkazy můžeme sloučit do jednoho zápisu:"
   ]
  },
  {
   "cell_type": "code",
   "execution_count": null,
   "metadata": {
    "dotnet_interactive": {
     "language": "csharp"
    },
    "polyglot_notebook": {
     "kernelName": "csharp"
    },
    "vscode": {
     "languageId": "polyglot-notebook"
    }
   },
   "outputs": [],
   "source": [
    "int[] pole = new int[3];"
   ]
  },
  {
   "cell_type": "markdown",
   "metadata": {},
   "source": [
    "a hodnoty můžeme inicializovat pole pomocí zápisu  `{ 1, 2, 3 }`."
   ]
  },
  {
   "cell_type": "code",
   "execution_count": null,
   "metadata": {
    "dotnet_interactive": {
     "language": "csharp"
    },
    "polyglot_notebook": {
     "kernelName": "csharp"
    },
    "vscode": {
     "languageId": "polyglot-notebook"
    }
   },
   "outputs": [],
   "source": [
    "int[] pole = new int[3] { 1, 2, 3 };"
   ]
  },
  {
   "cell_type": "markdown",
   "metadata": {},
   "source": [
    "Předchozí zápis můžeme různým způsobem zkrátit. Všechny následující zápisy mají stejný výsledek:"
   ]
  },
  {
   "cell_type": "code",
   "execution_count": null,
   "metadata": {
    "dotnet_interactive": {
     "language": "csharp"
    },
    "polyglot_notebook": {
     "kernelName": "csharp"
    },
    "vscode": {
     "languageId": "polyglot-notebook"
    }
   },
   "outputs": [],
   "source": [
    "int[] pole1 = new int[3] { 1, 2, 3 };\n",
    "int[] pole2 = new int[] { 1, 2, 3 };\n",
    "int[] pole3 = new [] { 1, 2, 3 };\n",
    "int[] pole4 = { 1, 2, 3 };"
   ]
  },
  {
   "cell_type": "markdown",
   "metadata": {},
   "source": [
    "Hodnoty prvků poli můžeme vypsat na konzoli s využitím příkazu `string.Join`:"
   ]
  },
  {
   "cell_type": "code",
   "execution_count": null,
   "metadata": {
    "dotnet_interactive": {
     "language": "csharp"
    },
    "polyglot_notebook": {
     "kernelName": "csharp"
    },
    "vscode": {
     "languageId": "polyglot-notebook"
    }
   },
   "outputs": [],
   "source": [
    "Console.WriteLine(string.Join(\",\", pole));"
   ]
  },
  {
   "cell_type": "markdown",
   "metadata": {},
   "source": [
    "K jednotlivým prvků poli přistupujeme pomocí hranatých závorek `[]`, kdy index začíná od nuly:"
   ]
  },
  {
   "cell_type": "code",
   "execution_count": null,
   "metadata": {
    "dotnet_interactive": {
     "language": "csharp"
    },
    "polyglot_notebook": {
     "kernelName": "csharp"
    },
    "vscode": {
     "languageId": "polyglot-notebook"
    }
   },
   "outputs": [],
   "source": [
    "int[] pole = new int[3] { 1, 2, 3 };\n",
    "Console.WriteLine(pole[0]); // prvni prvek\n",
    "Console.WriteLine(pole[1]); // druhy prvek\n",
    "Console.WriteLine(pole[2]); // treti prvek"
   ]
  },
  {
   "cell_type": "markdown",
   "metadata": {},
   "source": [
    "Delku pole zjistíme pomocí property `pole.Length`. Následující příkaz nastaví hodnoty pole na 0,1,2:"
   ]
  },
  {
   "cell_type": "code",
   "execution_count": null,
   "metadata": {
    "dotnet_interactive": {
     "language": "csharp"
    },
    "polyglot_notebook": {
     "kernelName": "csharp"
    },
    "vscode": {
     "languageId": "polyglot-notebook"
    }
   },
   "outputs": [],
   "source": [
    "int[] pole = new int[3];\n",
    "for (int i = 0; i < pole.Length; i++)\n",
    "{\n",
    "    pole[i] = i;\n",
    "}\n",
    "\n",
    "pole"
   ]
  },
  {
   "cell_type": "markdown",
   "metadata": {},
   "source": [
    "Pokud přiřadíme hodnotu pole jinému poli tak předáme referenci na stejné prvky v poli. V následujícím příkazu tedy pole1 i pole2 mají referenci na stejná data:"
   ]
  },
  {
   "cell_type": "code",
   "execution_count": null,
   "metadata": {
    "dotnet_interactive": {
     "language": "csharp"
    },
    "polyglot_notebook": {
     "kernelName": "csharp"
    },
    "vscode": {
     "languageId": "polyglot-notebook"
    }
   },
   "outputs": [],
   "source": [
    "int[] pole1 = new int[3] { 1, 2, 3 };\n",
    "int[] pole2 = pole1;\n",
    "int[] pole3 = pole2.ToArray();\n",
    "pole2[1] = 0;\n",
    "// pole1 i pole2 budou mit vzdy stejne hodnoty\n"
   ]
  },
  {
   "cell_type": "code",
   "execution_count": null,
   "metadata": {
    "dotnet_interactive": {
     "language": "csharp"
    },
    "polyglot_notebook": {
     "kernelName": "csharp"
    },
    "vscode": {
     "languageId": "polyglot-notebook"
    }
   },
   "outputs": [],
   "source": [
    "pole2[2] = 7;"
   ]
  },
  {
   "cell_type": "code",
   "execution_count": null,
   "metadata": {
    "dotnet_interactive": {
     "language": "csharp"
    },
    "polyglot_notebook": {
     "kernelName": "csharp"
    },
    "vscode": {
     "languageId": "polyglot-notebook"
    }
   },
   "outputs": [],
   "source": [
    "Console.WriteLine(string.Join(\",\", pole1));\n",
    "Console.WriteLine(string.Join(\",\", pole2));\n",
    "Console.WriteLine(string.Join(\",\", pole3));"
   ]
  },
  {
   "cell_type": "markdown",
   "metadata": {},
   "source": [
    "Pokud chceme vytvorit nezavisle kopie, tak mame nekolik moznosti:"
   ]
  },
  {
   "cell_type": "code",
   "execution_count": null,
   "metadata": {
    "dotnet_interactive": {
     "language": "csharp"
    },
    "polyglot_notebook": {
     "kernelName": "csharp"
    },
    "vscode": {
     "languageId": "polyglot-notebook"
    }
   },
   "outputs": [],
   "source": [
    "int[] original = new int[3] { 1, 2, 3 };\n",
    "\n",
    "int[] kopie1 = original.ToArray(); // vyzaduje using System.Linq\n",
    "\n",
    "int[] kopie2 = new int[original.Length];\n",
    "original.CopyTo(kopie2, 0);\n",
    "\n",
    "int[] kopie3 = new int[original.Length];\n",
    "Array.Copy(original, kopie3, original.Length);\n",
    "\n",
    "original[1] = 0;\n",
    "// vsechny kopie maji sva data a jsou nezavisle na originalnim poli\n",
    "\n",
    "Console.WriteLine(string.Join(\",\", original));\n",
    "Console.WriteLine(string.Join(\",\", kopie1));\n",
    "Console.WriteLine(string.Join(\",\", kopie2));\n",
    "Console.WriteLine(string.Join(\",\", kopie3));"
   ]
  },
  {
   "cell_type": "markdown",
   "metadata": {},
   "source": [
    "##\tMultidimensional array a Jagged array\n",
    "\n",
    "U vice rozměrných polí máme dvě možnosti [Multidimensional array](https://docs.microsoft.com/en-us/dotnet/csharp/programming-guide/arrays/multidimensional-arrays) a [Jagged array](https://docs.microsoft.com/en-us/dotnet/csharp/programming-guide/arrays/jagged-arrays)."
   ]
  },
  {
   "cell_type": "markdown",
   "metadata": {},
   "source": [
    "Multidimensional array se definuje následujícím způsobem kdy v tomto příkladu říkáme, že chceme mít dvě pole o třech prvcích:"
   ]
  },
  {
   "cell_type": "code",
   "execution_count": null,
   "metadata": {
    "dotnet_interactive": {
     "language": "csharp"
    },
    "polyglot_notebook": {
     "kernelName": "csharp"
    },
    "vscode": {
     "languageId": "polyglot-notebook"
    }
   },
   "outputs": [],
   "source": [
    "int[,] multidimensionalArray = new int[2, 3]\n",
    "{\n",
    "    { 1, 2, 3 },\n",
    "    { 4, 5, 6 }\n",
    "};"
   ]
  },
  {
   "cell_type": "code",
   "execution_count": null,
   "metadata": {
    "dotnet_interactive": {
     "language": "csharp"
    },
    "polyglot_notebook": {
     "kernelName": "csharp"
    },
    "vscode": {
     "languageId": "polyglot-notebook"
    }
   },
   "outputs": [],
   "source": [
    "multidimensionalArray.GetLength(0)"
   ]
  },
  {
   "cell_type": "code",
   "execution_count": null,
   "metadata": {
    "dotnet_interactive": {
     "language": "csharp"
    },
    "polyglot_notebook": {
     "kernelName": "csharp"
    },
    "vscode": {
     "languageId": "polyglot-notebook"
    }
   },
   "outputs": [],
   "source": [
    "multidimensionalArray.GetLength(1)"
   ]
  },
  {
   "cell_type": "markdown",
   "metadata": {},
   "source": [
    "Property `Length` by nám vrátila celkový počet prvků, tedy 2 x 3 = 6 prvků."
   ]
  },
  {
   "cell_type": "code",
   "execution_count": null,
   "metadata": {
    "dotnet_interactive": {
     "language": "csharp"
    },
    "polyglot_notebook": {
     "kernelName": "csharp"
    },
    "vscode": {
     "languageId": "polyglot-notebook"
    }
   },
   "outputs": [],
   "source": [
    "multidimensionalArray.Length"
   ]
  },
  {
   "cell_type": "markdown",
   "metadata": {},
   "source": [
    "Vrátí prvek s indexem 1,2, kteřý přepočítá na jednorozměrné pole 1 * 3 + 2."
   ]
  },
  {
   "cell_type": "code",
   "execution_count": null,
   "metadata": {
    "dotnet_interactive": {
     "language": "csharp"
    },
    "polyglot_notebook": {
     "kernelName": "csharp"
    },
    "vscode": {
     "languageId": "polyglot-notebook"
    }
   },
   "outputs": [],
   "source": [
    "multidimensionalArray[1,2]"
   ]
  },
  {
   "cell_type": "markdown",
   "metadata": {},
   "source": [
    "Rozměry multidimensional array získáme pomocí metody `GetLength`, kdy argumentem je index dimenze. V následujícím případě `GetLength(0)` vrátí hodnotu 2 a `GetLength(1)` vrátí hodnotu `3`."
   ]
  },
  {
   "cell_type": "code",
   "execution_count": null,
   "metadata": {
    "dotnet_interactive": {
     "language": "csharp"
    },
    "polyglot_notebook": {
     "kernelName": "csharp"
    },
    "vscode": {
     "languageId": "polyglot-notebook"
    }
   },
   "outputs": [],
   "source": [
    "for (int i = 0; i < multidimensionalArray.GetLength(0); i++)\n",
    "{\n",
    "    for (int j = 0; j < multidimensionalArray.GetLength(1); j++)\n",
    "    {\n",
    "        int prvek = multidimensionalArray[i, j];\n",
    "        Console.Write($\"{prvek} \");\n",
    "    }\n",
    "\n",
    "    Console.WriteLine();\n",
    "}"
   ]
  },
  {
   "cell_type": "markdown",
   "metadata": {},
   "source": [
    "Oproti tomu Jagged array představuje pole referencí na další pole, která pak mu-síme inicializovat zvlášť. Každý řádek potom může mít různý počet prvků. "
   ]
  },
  {
   "cell_type": "markdown",
   "metadata": {},
   "source": [
    "Nejprve si nadefinujeme pole referencí:"
   ]
  },
  {
   "cell_type": "code",
   "execution_count": null,
   "metadata": {
    "dotnet_interactive": {
     "language": "csharp"
    },
    "polyglot_notebook": {
     "kernelName": "csharp"
    },
    "vscode": {
     "languageId": "polyglot-notebook"
    }
   },
   "outputs": [],
   "source": [
    "int[][] jaggedArray = new int[2][];"
   ]
  },
  {
   "cell_type": "markdown",
   "metadata": {},
   "source": [
    "A potom alokujeme paměť pro jednotlivé řádky, tedy jednorozměrné pole:"
   ]
  },
  {
   "cell_type": "code",
   "execution_count": null,
   "metadata": {
    "dotnet_interactive": {
     "language": "csharp"
    },
    "polyglot_notebook": {
     "kernelName": "csharp"
    },
    "vscode": {
     "languageId": "polyglot-notebook"
    }
   },
   "outputs": [],
   "source": [
    "jaggedArray[0] = new int[] { 1, 2, 3 };\n",
    "jaggedArray[1] = new int[] { 4, 5 };"
   ]
  },
  {
   "cell_type": "markdown",
   "metadata": {},
   "source": [
    "Potom procházíme jednotlivé řádky každý řádek procházíme jako jednorozměrné pole:"
   ]
  },
  {
   "cell_type": "code",
   "execution_count": null,
   "metadata": {
    "dotnet_interactive": {
     "language": "csharp"
    },
    "polyglot_notebook": {
     "kernelName": "csharp"
    },
    "vscode": {
     "languageId": "polyglot-notebook"
    }
   },
   "outputs": [],
   "source": [
    "for (int i = 0; i < jaggedArray.Length; i++)\n",
    "{\n",
    "    int[] radek = jaggedArray[i];\n",
    "\n",
    "    for (int j = 0; j < radek.Length; j++)\n",
    "    {\n",
    "        int prvek = radek[j];\n",
    "        Console.Write($\"{prvek} \");\n",
    "    }\n",
    "\n",
    "    Console.WriteLine();\n",
    "}"
   ]
  },
  {
   "cell_type": "markdown",
   "metadata": {},
   "source": [
    "Jagged array je rychlejší pro sekvenční přístup k prvkům než Multidimensional array, protože prakticky po získání refence na řádek můžeme procházet jednorozměrné pole prvek po prvku."
   ]
  },
  {
   "cell_type": "markdown",
   "metadata": {},
   "source": [
    "## Kolekce"
   ]
  },
  {
   "cell_type": "markdown",
   "metadata": {},
   "source": [
    "Poslední dva typy, které probereme je dynamické pole `List` a asociativní pole `Dictionary`."
   ]
  },
  {
   "cell_type": "markdown",
   "metadata": {},
   "source": [
    "Generická třída `List<int>` představuje dynamické pole, tedy pole do kterého může-me přidávat nové prvky a také prvky odebírat. Jde o nejčastěji používaný typ kolekcí."
   ]
  },
  {
   "cell_type": "markdown",
   "metadata": {},
   "source": [
    "Instanci třídy `List<T>` nadefinujeme následujícím způsobem:"
   ]
  },
  {
   "cell_type": "code",
   "execution_count": null,
   "metadata": {
    "dotnet_interactive": {
     "language": "csharp"
    },
    "polyglot_notebook": {
     "kernelName": "csharp"
    },
    "vscode": {
     "languageId": "polyglot-notebook"
    }
   },
   "outputs": [],
   "source": [
    "List<int> listCisel = new List<int> { 1, 2, 3, 4, 5, 6 };"
   ]
  },
  {
   "cell_type": "markdown",
   "metadata": {},
   "source": [
    "Počet prvků zjistíme, na rozdíl od pole, pomocí property `Count`."
   ]
  },
  {
   "cell_type": "code",
   "execution_count": null,
   "metadata": {
    "dotnet_interactive": {
     "language": "csharp"
    },
    "polyglot_notebook": {
     "kernelName": "csharp"
    },
    "vscode": {
     "languageId": "polyglot-notebook"
    }
   },
   "outputs": [],
   "source": [
    "int pocetPrvku = listCisel.Count;"
   ]
  },
  {
   "cell_type": "markdown",
   "metadata": {},
   "source": [
    "Pro přístup k prvkům můžeme opět použít operátor indexace []."
   ]
  },
  {
   "cell_type": "code",
   "execution_count": null,
   "metadata": {
    "dotnet_interactive": {
     "language": "csharp"
    },
    "polyglot_notebook": {
     "kernelName": "csharp"
    },
    "vscode": {
     "languageId": "polyglot-notebook"
    }
   },
   "outputs": [],
   "source": [
    "for (int i = 0; i < pocetPrvku; i++)\n",
    "{\n",
    "    int prvek = listCisel[i];\n",
    "    Console.WriteLine(prvek);\n",
    "}"
   ]
  },
  {
   "cell_type": "markdown",
   "metadata": {},
   "source": [
    "Pokud chceme projít všechny prvky, tak nejčastějši používáme příkaz `foreach`, který projde všechny prvky."
   ]
  },
  {
   "cell_type": "code",
   "execution_count": null,
   "metadata": {
    "dotnet_interactive": {
     "language": "csharp"
    },
    "polyglot_notebook": {
     "kernelName": "csharp"
    },
    "vscode": {
     "languageId": "polyglot-notebook"
    }
   },
   "outputs": [],
   "source": [
    "foreach (int prvek in listCisel)\n",
    "{\n",
    "    Console.WriteLine(prvek);\n",
    "}"
   ]
  },
  {
   "cell_type": "markdown",
   "metadata": {},
   "source": [
    "Do dynamického pole můžeme prvky přidat jak na konec tak na libovolný index."
   ]
  },
  {
   "cell_type": "code",
   "execution_count": null,
   "metadata": {
    "dotnet_interactive": {
     "language": "csharp"
    },
    "polyglot_notebook": {
     "kernelName": "csharp"
    },
    "vscode": {
     "languageId": "polyglot-notebook"
    }
   },
   "outputs": [],
   "source": [
    "listCisel.Add(4); // pridam na konec\n",
    "listCisel.Insert(0, 6); // vlozim na zacatek\n",
    "listCisel.Insert(2, 7); // vlozim na index 2\n",
    "\n",
    "listCisel"
   ]
  },
  {
   "cell_type": "markdown",
   "metadata": {},
   "source": [
    "Také můžeme odstranit prvek s určitou hodnotou, nebo odebrat prvek z určitého idnexu."
   ]
  },
  {
   "cell_type": "code",
   "execution_count": null,
   "metadata": {
    "dotnet_interactive": {
     "language": "csharp"
    },
    "polyglot_notebook": {
     "kernelName": "csharp"
    },
    "vscode": {
     "languageId": "polyglot-notebook"
    }
   },
   "outputs": [],
   "source": [
    "listCisel.Remove(7);    // odstrani prvek s hodnotou 7\n",
    "listCisel.RemoveAt(0);  // odstrani prvek s indexem"
   ]
  },
  {
   "cell_type": "markdown",
   "metadata": {},
   "source": [
    "Také můžeme odstranit všechny prvky v poli pomocí metody Clear."
   ]
  },
  {
   "cell_type": "code",
   "execution_count": null,
   "metadata": {
    "dotnet_interactive": {
     "language": "csharp"
    },
    "polyglot_notebook": {
     "kernelName": "csharp"
    },
    "vscode": {
     "languageId": "polyglot-notebook"
    }
   },
   "outputs": [],
   "source": [
    "listCisel.Clear();\n",
    "\n",
    "listCisel"
   ]
  },
  {
   "cell_type": "markdown",
   "metadata": {},
   "source": [
    "Generická třída `Dictionary<TKey, TValue>` představuje kolekcí klíčů a hodnot. Například můžeme mít kolekci studentů, kde klíčem bude identifikační číslo studenta a hodnotou jméno studenta."
   ]
  },
  {
   "cell_type": "code",
   "execution_count": null,
   "metadata": {
    "dotnet_interactive": {
     "language": "csharp"
    },
    "polyglot_notebook": {
     "kernelName": "csharp"
    },
    "vscode": {
     "languageId": "polyglot-notebook"
    }
   },
   "outputs": [],
   "source": [
    "Dictionary<int, string> studenti = new Dictionary<int, string>()\n",
    "{\n",
    "    [10] = \"Petr\",\n",
    "    [20] = \"Alena\"\n",
    "};\n",
    "\n",
    "studenti"
   ]
  },
  {
   "cell_type": "code",
   "execution_count": null,
   "metadata": {
    "dotnet_interactive": {
     "language": "csharp"
    },
    "polyglot_notebook": {
     "kernelName": "csharp"
    },
    "vscode": {
     "languageId": "polyglot-notebook"
    }
   },
   "outputs": [],
   "source": [
    "studenti[20]"
   ]
  },
  {
   "cell_type": "markdown",
   "metadata": {},
   "source": [
    "Nové studenty potom můžeme přidávat s pomocí metody `Add`."
   ]
  },
  {
   "cell_type": "code",
   "execution_count": null,
   "metadata": {
    "dotnet_interactive": {
     "language": "csharp"
    },
    "polyglot_notebook": {
     "kernelName": "csharp"
    },
    "vscode": {
     "languageId": "polyglot-notebook"
    }
   },
   "outputs": [],
   "source": [
    "studenti.Add(100, \"Jan\");\n",
    "studenti.Add(128, \"Jiri\");\n",
    "\n",
    "studenti"
   ]
  },
  {
   "cell_type": "markdown",
   "metadata": {},
   "source": [
    "Pokud by student s daným záznamem už v kolekci existoval, tak program vyvolá výjimku. Proto je vhodnější předem ověřit, zda daný klíč už existuje. A to buď starším způsobem:"
   ]
  },
  {
   "cell_type": "code",
   "execution_count": null,
   "metadata": {
    "dotnet_interactive": {
     "language": "csharp"
    },
    "polyglot_notebook": {
     "kernelName": "csharp"
    },
    "vscode": {
     "languageId": "polyglot-notebook"
    }
   },
   "outputs": [],
   "source": [
    "if (!studenti.ContainsKey(129))\n",
    "{\n",
    "    studenti.Add(129, \"Jana\");\n",
    "}\n",
    "\n",
    "studenti"
   ]
  },
  {
   "cell_type": "markdown",
   "metadata": {},
   "source": [
    "Nebo novějším způsobem:"
   ]
  },
  {
   "cell_type": "code",
   "execution_count": null,
   "metadata": {
    "dotnet_interactive": {
     "language": "csharp"
    },
    "polyglot_notebook": {
     "kernelName": "csharp"
    },
    "vscode": {
     "languageId": "polyglot-notebook"
    }
   },
   "outputs": [],
   "source": [
    "bool okAdd = studenti.TryAdd(130, \"Karel\"); \n",
    "\n",
    "studenti"
   ]
  },
  {
   "cell_type": "markdown",
   "metadata": {},
   "source": [
    "Z kolekce můžeme odstranit záznam dle konrétního klíče, například:"
   ]
  },
  {
   "cell_type": "code",
   "execution_count": null,
   "metadata": {
    "dotnet_interactive": {
     "language": "csharp"
    },
    "polyglot_notebook": {
     "kernelName": "csharp"
    },
    "vscode": {
     "languageId": "polyglot-notebook"
    }
   },
   "outputs": [],
   "source": [
    "studenti.Remove(128);\n",
    "\n",
    "studenti"
   ]
  },
  {
   "cell_type": "markdown",
   "metadata": {},
   "source": [
    "Pokud bychom chtěli procházet všechny záznamy v `Dictionary<TKey, TValue>`, tak musíme využít typ `KeyValuePair< TKey, TValue>` tedy pár klíč a hodnota, například:"
   ]
  },
  {
   "cell_type": "code",
   "execution_count": null,
   "metadata": {
    "dotnet_interactive": {
     "language": "csharp"
    },
    "polyglot_notebook": {
     "kernelName": "csharp"
    },
    "vscode": {
     "languageId": "polyglot-notebook"
    }
   },
   "outputs": [],
   "source": [
    "studenti.Keys"
   ]
  },
  {
   "cell_type": "code",
   "execution_count": null,
   "metadata": {
    "dotnet_interactive": {
     "language": "csharp"
    },
    "polyglot_notebook": {
     "kernelName": "csharp"
    },
    "vscode": {
     "languageId": "polyglot-notebook"
    }
   },
   "outputs": [],
   "source": [
    "foreach (KeyValuePair<int, string> par in studenti)\n",
    "{\n",
    "    Console.WriteLine($\"{par.Key}: {par.Value}\");\n",
    "}"
   ]
  },
  {
   "cell_type": "markdown",
   "metadata": {},
   "source": [
    "Nebo můžeme použít dekompozici:"
   ]
  },
  {
   "cell_type": "code",
   "execution_count": null,
   "metadata": {
    "dotnet_interactive": {
     "language": "csharp"
    },
    "polyglot_notebook": {
     "kernelName": "csharp"
    },
    "vscode": {
     "languageId": "polyglot-notebook"
    }
   },
   "outputs": [],
   "source": [
    "foreach ((int id, string jmeno) in studenti)\n",
    "{\n",
    "    Console.WriteLine($\"{id}: {jmeno}\");\n",
    "}"
   ]
  },
  {
   "cell_type": "markdown",
   "metadata": {},
   "source": [
    "---\n",
    "## Příklady k procvičování"
   ]
  },
  {
   "cell_type": "markdown",
   "metadata": {},
   "source": [
    "### Zadání: 1: Suma prvků v poli"
   ]
  },
  {
   "cell_type": "code",
   "execution_count": null,
   "metadata": {
    "dotnet_interactive": {
     "language": "csharp"
    },
    "polyglot_notebook": {
     "kernelName": "csharp"
    },
    "vscode": {
     "languageId": "polyglot-notebook"
    }
   },
   "outputs": [],
   "source": [
    "int[] pole = { 5, 7, 1, 2, 3 };\n",
    "Console.WriteLine(string.Join(\",\", pole));\n",
    "\n",
    "// pomocí cyklu for spočítejte a vypište sumu prvků v poli\n",
    "\n",
    "// alternativně použijte LINQ metodu"
   ]
  },
  {
   "cell_type": "markdown",
   "metadata": {},
   "source": [
    "### Zadání: 2: Opačené pořadí prvků v poli"
   ]
  },
  {
   "cell_type": "code",
   "execution_count": null,
   "metadata": {
    "dotnet_interactive": {
     "language": "csharp"
    },
    "polyglot_notebook": {
     "kernelName": "csharp"
    },
    "vscode": {
     "languageId": "polyglot-notebook"
    }
   },
   "outputs": [],
   "source": [
    "int[] pole = { 1, 2, 7, 5, 6, 3, 8 };\n",
    "Console.WriteLine(string.Join(\",\", pole));\n",
    "\n",
    "// pomoci cyklu for zmente poradi prvku pole aby byly pozpatku\n",
    "// prvky budou v poradi 8,3,6,5,7,2,1\n",
    "\n",
    "// Alternativně můžu použíjte LINQ metodu"
   ]
  },
  {
   "cell_type": "markdown",
   "metadata": {},
   "source": [
    "---\n",
    "## Řešení příkladů k procvičování"
   ]
  },
  {
   "cell_type": "markdown",
   "metadata": {},
   "source": [
    "### Řešení: 1: Suma prvků v poli"
   ]
  },
  {
   "cell_type": "code",
   "execution_count": null,
   "metadata": {
    "dotnet_interactive": {
     "language": "csharp"
    },
    "polyglot_notebook": {
     "kernelName": "csharp"
    },
    "vscode": {
     "languageId": "polyglot-notebook"
    }
   },
   "outputs": [],
   "source": [
    "int[] pole = { 5, 7, 1, 2, 3 };\n",
    "\n",
    "// pomocí cyklu forspočítejte a vypište sumu prvků v poli\n",
    "\n",
    "int suma = 0;\n",
    "foreach (int prvek in pole)\n",
    "{\n",
    "    Console.WriteLine(prvek);\n",
    "    suma += prvek;\n",
    "}\n",
    "\n",
    "Console.WriteLine($\"soucet prvku v poli je {suma}\");\n",
    "\n",
    "// alternativně použijte LINQ metodu\n",
    "\n",
    "suma = pole.Sum();"
   ]
  },
  {
   "cell_type": "markdown",
   "metadata": {},
   "source": [
    "### Řešení: 2: Opačné pořadí prvků v poli"
   ]
  },
  {
   "cell_type": "code",
   "execution_count": null,
   "metadata": {
    "dotnet_interactive": {
     "language": "csharp"
    },
    "polyglot_notebook": {
     "kernelName": "csharp"
    },
    "vscode": {
     "languageId": "polyglot-notebook"
    }
   },
   "outputs": [],
   "source": [
    "int[] pole = { 1, 2, 7, 5, 6, 3, 8 };\n",
    "Console.WriteLine(string.Join(\",\", pole));\n",
    "\n",
    "// pomoci cyklu for zmente poradi prvku pole aby byly pozpatku\n",
    "// prvky budou v poradi 8,3,6,5,7,2,1\n",
    "\n",
    "int prvniIndex = 0;\n",
    "int posledniIndex = pole.Length - 1;\n",
    "int n = pole.Length / 2;\n",
    "\n",
    "for (int i = 0; i < n; i++)\n",
    "{\n",
    "    int tmp = pole[posledniIndex];\n",
    "    pole[posledniIndex] = pole[prvniIndex];\n",
    "    pole[prvniIndex] = tmp;\n",
    "\n",
    "    ++prvniIndex;\n",
    "    --posledniIndex;\n",
    "}\n",
    "\n",
    "Console.WriteLine(string.Join(\",\", pole));\n",
    "\n",
    "for (int i = 0, j = pole.Length - 1; i < pole.Length / 2; i++, j--)\n",
    "{\n",
    "    int tmp = pole[j];\n",
    "    pole[j] = pole[i];\n",
    "    pole[i] = tmp;\n",
    "}\n",
    "\n",
    "Console.WriteLine(string.Join(\",\", pole));\n",
    "\n",
    "// Alternativně můžu použíjte LINQ metodu\n",
    "\n",
    "pole.Reverse();"
   ]
  }
 ],
 "metadata": {
  "language_info": {
   "name": "csharp"
  }
 },
 "nbformat": 4,
 "nbformat_minor": 2
}
