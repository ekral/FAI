{
 "cells": [
  {
   "cell_type": "markdown",
   "metadata": {},
   "source": [
    "# 03 Vývojový diagram a podmíněný příkaz\n",
    "**autor: Erik Král ekral@utb.cz**\n",
    "\n",
    "---\n",
    "\n",
    "Pro zvládnutí předmětu potřebujete znát základy vývojového diagramu, podmíněný a příkaz switch."
   ]
  },
  {
   "cell_type": "markdown",
   "metadata": {},
   "source": [
    "## Vývojový diagram\n",
    "\n",
    "Vývojový diagram je vizuální jazyk pro popis procesů. Obsahuje podmíněný blok, kdy na otázku je typicky odpověď Ano/Ne. V příkladech jsou pro některé bloky použité zaoblené rohy, ale jde spíše o preferenci vzhledu. Důležité je jak je pochopitelný popisovaný proces."
   ]
  },
  {
   "cell_type": "markdown",
   "metadata": {},
   "source": [
    "```mermaid\n",
    "flowchart LR\n",
    "    A(Start) -->|text| B[Process]\n",
    "    B --> C{Decision}\n",
    "    C -->|Yes| D(Result one)\n",
    "    C -->|Now| E(Result two)\n",
    "```"
   ]
  },
  {
   "cell_type": "markdown",
   "metadata": {},
   "source": [
    "Následující diagram popisuje smyčku for, kterou probereme příště."
   ]
  },
  {
   "cell_type": "markdown",
   "metadata": {},
   "source": [
    "```mermaid\n",
    "graph TD;\n",
    "  Start(Start)-->Init[Initialize]\n",
    "  Init-->Condition{Condition Check}\n",
    "  Condition--Yes-->Body[Loop Body]\n",
    "  Body-->Update[Update Iteration]\n",
    "  Update-->Condition\n",
    "  Condition--No-->End(End)\n",
    "  ```"
   ]
  },
  {
   "cell_type": "markdown",
   "metadata": {},
   "source": [
    "* Poznámka: pro zobrazení vývojových diagramů musíte mít ve Visual Studio Code nainstalované rozšíření pro podporu preview pro Mermaid diagram a flowchart Mermaid, například [Markdown Preview Mermaid Support](https://marketplace.visualstudio.com/items?itemName=bierner.markdown-mermaid)."
   ]
  },
  {
   "cell_type": "markdown",
   "metadata": {},
   "source": [
    "## Podmíměný příkaz"
   ]
  },
  {
   "cell_type": "markdown",
   "metadata": {},
   "source": [
    "Pro zvládnutí předmětu potřebujete znát podmíněné příkazy `if`,  `if-else` a zřetězení podmínek pomocí `else if`. Dále potřebujete vědět jak podmínit provedení jednoho příkazu nebo bloku příkazů pomocí složených závorek `{}`."
   ]
  },
  {
   "cell_type": "markdown",
   "metadata": {},
   "source": [
    "Na následujících příkladech si probereme jednotlivé příkazy. \n",
    "\n",
    "Nejprve si ale definujme jednu proměnnou, číslo s desetinnou čárkou `x`:"
   ]
  },
  {
   "cell_type": "code",
   "execution_count": null,
   "metadata": {
    "dotnet_interactive": {
     "language": "csharp"
    },
    "polyglot_notebook": {
     "kernelName": "csharp"
    },
    "vscode": {
     "languageId": "polyglot-notebook"
    }
   },
   "outputs": [],
   "source": [
    "double x = 9.0;"
   ]
  },
  {
   "cell_type": "markdown",
   "metadata": {},
   "source": [
    "S pomocí příkazu `if` můžeme podmínit provedení jiného příkazu tím zda je pravivý výraz v podmínce. Výpis na konzoli se provede jen pokud výraz `x > 0` vrátí `true`:"
   ]
  },
  {
   "cell_type": "code",
   "execution_count": null,
   "metadata": {
    "dotnet_interactive": {
     "language": "csharp"
    },
    "polyglot_notebook": {
     "kernelName": "csharp"
    },
    "vscode": {
     "languageId": "polyglot-notebook"
    }
   },
   "outputs": [],
   "source": [
    "if(x > 0.0)\n",
    "    Console.WriteLine(\"x je vetsi nez 0\");"
   ]
  },
  {
   "cell_type": "markdown",
   "metadata": {},
   "source": [
    "S použitím příkazu `if-else` můžeme ve větvi else uvést přikaz který se povede pokud je výraz v pomínce `false`."
   ]
  },
  {
   "cell_type": "code",
   "execution_count": null,
   "metadata": {
    "dotnet_interactive": {
     "language": "csharp"
    },
    "polyglot_notebook": {
     "kernelName": "csharp"
    },
    "vscode": {
     "languageId": "polyglot-notebook"
    }
   },
   "outputs": [],
   "source": [
    "if(x > 0.0)\n",
    "    Console.WriteLine(\"x je vetsi nez 0\");\n",
    "else\n",
    "    Console.WriteLine(\"x je mensi nebo rovno 0\");"
   ]
  },
  {
   "cell_type": "markdown",
   "metadata": {},
   "source": [
    "Pokud chceme podmínit provedení celého bloku příkazu, tak místo jednoho příkazu můžeme použít celý blok příkazu ve složených závorkách `{}`. Narozdíl od Pythonu zde nezáleží na odsazení příkazů, které je zde jen pro přehlednost. Většinou používáme blok příkazů i pro jeden příkaz, protože pak může být kód v některých případech přehlednější."
   ]
  },
  {
   "cell_type": "code",
   "execution_count": null,
   "metadata": {
    "dotnet_interactive": {
     "language": "csharp"
    },
    "polyglot_notebook": {
     "kernelName": "csharp"
    },
    "vscode": {
     "languageId": "polyglot-notebook"
    }
   },
   "outputs": [],
   "source": [
    "if (x >= 0.0)\n",
    "{\n",
    "    double odmocnina = Math.Sqrt(x);\n",
    "    Console.WriteLine($\"Druha odmocnina x je {odmocnina}\");\n",
    "}\n",
    "else\n",
    "{\n",
    "    Console.WriteLine(\"x je mensi nez 0\");\n",
    "}"
   ]
  },
  {
   "cell_type": "markdown",
   "metadata": {},
   "source": [
    "Podmínky můžeme dále zřetězci pokud za příkaz `else` uvedeme další `if`. Poslední else se potom vztahuje k posledním příkazu `if`."
   ]
  },
  {
   "cell_type": "code",
   "execution_count": null,
   "metadata": {
    "dotnet_interactive": {
     "language": "csharp"
    },
    "polyglot_notebook": {
     "kernelName": "csharp"
    },
    "vscode": {
     "languageId": "polyglot-notebook"
    }
   },
   "outputs": [],
   "source": [
    "if (x > 0.0)\n",
    "{\n",
    "    Console.WriteLine(\"x je vetsi nez 0\");\n",
    "}\n",
    "else if(x == 0.0)\n",
    "{\n",
    "    Console.WriteLine(\"x je rovno 0\");\n",
    "}\n",
    "else\n",
    "{\n",
    "    Console.WriteLine(\"x je mensi nez 0\");\n",
    "}"
   ]
  },
  {
   "cell_type": "markdown",
   "metadata": {},
   "source": [
    "## Příkaz switch"
   ]
  },
  {
   "cell_type": "markdown",
   "metadata": {},
   "source": [
    "Příkaz switch používáme, když chceme provést různý kód na základě hodnoty proměnné."
   ]
  },
  {
   "cell_type": "code",
   "execution_count": null,
   "metadata": {
    "dotnet_interactive": {
     "language": "csharp"
    },
    "polyglot_notebook": {
     "kernelName": "csharp"
    },
    "vscode": {
     "languageId": "polyglot-notebook"
    }
   },
   "outputs": [],
   "source": [
    "string volba = \"pokracovat\";\n",
    "\n",
    "switch(volba)\n",
    "{\n",
    "    case \"start\":\n",
    "        Console.WriteLine(\"Zacnu\");\n",
    "    break;\n",
    "\n",
    "    case \"pokracovat\":\n",
    "        Console.WriteLine(\"Budu pokracovat\");\n",
    "    break;\n",
    "\n",
    "    case \"konec\":\n",
    "        Console.WriteLine(\"Skoncim\");\n",
    "    break;\n",
    "\n",
    "    default:\n",
    "        Console.WriteLine(\"Jakakoliv jina volba\");\n",
    "    break;\n",
    "}"
   ]
  },
  {
   "cell_type": "markdown",
   "metadata": {},
   "source": [
    "Příkaz switch se často používá s typem emum, který umožný definovat různe stavy."
   ]
  },
  {
   "cell_type": "code",
   "execution_count": null,
   "metadata": {
    "dotnet_interactive": {
     "language": "csharp"
    },
    "polyglot_notebook": {
     "kernelName": "csharp"
    },
    "vscode": {
     "languageId": "polyglot-notebook"
    }
   },
   "outputs": [],
   "source": [
    "enum Volba\n",
    "{\n",
    "    Start,\n",
    "    Pokracovat,\n",
    "    Konec\n",
    "}\n",
    "\n",
    "Volba volba = Volba.Pokracovat;\n",
    "\n",
    "switch(volba)\n",
    "{\n",
    "    case Volba.Start:\n",
    "        Console.WriteLine(\"Zacnu\");\n",
    "    break;\n",
    "\n",
    "    case Volba.Pokracovat:\n",
    "        Console.WriteLine(\"Budu pokracovat\");\n",
    "    break;\n",
    "\n",
    "    case Volba.Konec:\n",
    "        Console.WriteLine(\"Skoncim\");\n",
    "    break;\n",
    "\n",
    "    default:\n",
    "        Console.WriteLine(\"Jakakoliv jina volba\");\n",
    "    break;\n",
    "}\n",
    "\n"
   ]
  },
  {
   "cell_type": "markdown",
   "metadata": {},
   "source": [
    "## Podmíněné přiřazení"
   ]
  },
  {
   "cell_type": "markdown",
   "metadata": {},
   "source": [
    "Podmíněné přiřazení je ternální operátor který umožní přiřadit proměnné hodnotu na základě podmíny."
   ]
  },
  {
   "cell_type": "code",
   "execution_count": null,
   "metadata": {
    "dotnet_interactive": {
     "language": "csharp"
    },
    "polyglot_notebook": {
     "kernelName": "csharp"
    },
    "vscode": {
     "languageId": "polyglot-notebook"
    }
   },
   "outputs": [],
   "source": [
    "int x = 5;\n",
    "\n",
    "string text = (x > 0) ? \"Je vetsi nez 0\" : \"Je mensi nebo rovno 0\";\n",
    "\n",
    "text"
   ]
  },
  {
   "cell_type": "markdown",
   "metadata": {},
   "source": [
    "* Bonus navíc, není obsahem předmětu. Nově můžu použít pattern matching, který si c# \"půjčil\" z funkcionálního programování. "
   ]
  },
  {
   "cell_type": "code",
   "execution_count": null,
   "metadata": {
    "dotnet_interactive": {
     "language": "csharp"
    },
    "polyglot_notebook": {
     "kernelName": "csharp"
    },
    "vscode": {
     "languageId": "polyglot-notebook"
    }
   },
   "outputs": [],
   "source": [
    "int x = 3;\n",
    "\n",
    "string vysledek = x switch\n",
    "{\n",
    "    (> 5) and (< 10) => \"V intervalu (5,10)\",\n",
    "    3 => \"Je 3\",\n",
    "    _ => \"cokoliv jineho\"\n",
    "};\n",
    "\n",
    "vysledek"
   ]
  },
  {
   "cell_type": "markdown",
   "metadata": {},
   "source": [
    "---\n",
    "## Příklady k procvičování"
   ]
  },
  {
   "cell_type": "markdown",
   "metadata": {},
   "source": [
    "### Zadání: 1. Dvě poměnné"
   ]
  },
  {
   "cell_type": "code",
   "execution_count": null,
   "metadata": {
    "dotnet_interactive": {
     "language": "csharp"
    },
    "polyglot_notebook": {
     "kernelName": "csharp"
    },
    "vscode": {
     "languageId": "polyglot-notebook"
    }
   },
   "outputs": [],
   "source": [
    "// mame dve promenne\n",
    "int x = 2;\n",
    "int y = 5;\n",
    "\n",
    "// vypiste hodnotu vetsi z promennych\n",
    "\n",
    "\n",
    "// seradte hodnoty v promennych tak aby v promenne x bylo vetsi cislo nez v promenne y\n"
   ]
  },
  {
   "cell_type": "markdown",
   "metadata": {},
   "source": [
    "### Zadání: 2. Kvadratická rovnice"
   ]
  },
  {
   "cell_type": "code",
   "execution_count": null,
   "metadata": {
    "dotnet_interactive": {
     "language": "csharp"
    },
    "polyglot_notebook": {
     "kernelName": "csharp"
    },
    "vscode": {
     "languageId": "polyglot-notebook"
    }
   },
   "outputs": [],
   "source": [
    "// (x - 3)(x - 3) = 1x^2 -6x + 9\n",
    "// (x - 2)(x - 3) = 1x^2 -5x + 6\n",
    "// (x - x1)(x - x2) = (ax^2 + bx + c)\n",
    "\n",
    "// Spocitejte a vypiste reseni kvadraticke rovnice\n",
    "double a = 1.0;\n",
    "double b = -5.0;\n",
    "double c = 6.0;"
   ]
  },
  {
   "cell_type": "markdown",
   "metadata": {},
   "source": [
    "### Zadání: 3. Maximum ze tří čísel"
   ]
  },
  {
   "cell_type": "code",
   "execution_count": null,
   "metadata": {
    "dotnet_interactive": {
     "language": "csharp"
    },
    "polyglot_notebook": {
     "kernelName": "csharp"
    },
    "vscode": {
     "languageId": "polyglot-notebook"
    }
   },
   "outputs": [],
   "source": [
    "// Mame tri promenne\n",
    "int a = 2;\n",
    "int b = 5;\n",
    "int c = 7;\n",
    "\n",
    "// Vypiste hodnotu nejvetsi promenne"
   ]
  },
  {
   "cell_type": "markdown",
   "metadata": {},
   "source": [
    "---\n",
    "## Řešení příkladů k procvičování"
   ]
  },
  {
   "cell_type": "markdown",
   "metadata": {},
   "source": [
    "### Řešení: 1. Dvě poměnné"
   ]
  },
  {
   "cell_type": "code",
   "execution_count": null,
   "metadata": {
    "dotnet_interactive": {
     "language": "csharp"
    },
    "polyglot_notebook": {
     "kernelName": "csharp"
    },
    "vscode": {
     "languageId": "polyglot-notebook"
    }
   },
   "outputs": [],
   "source": [
    " // mame dve promenne\n",
    "int x = 2;\n",
    "int y = 5;\n",
    "\n",
    "// vypiste hodnotu vetsi z promennych\n",
    "if(x > y)\n",
    "{\n",
    "    Console.WriteLine(x);\n",
    "}\n",
    "else\n",
    "{\n",
    "    Console.WriteLine(y);\n",
    "}\n",
    "\n",
    "// seradte hodnoty v promennych tak aby v promenne x bylo vetsi cislo nez v promenne y\n",
    "if(x < y)\n",
    "{\n",
    "    int tmp = x;\n",
    "    x = y;\n",
    "    y = tmp;\n",
    "}"
   ]
  },
  {
   "cell_type": "markdown",
   "metadata": {},
   "source": [
    "### Řešení: 2. Kvadratická rovnice"
   ]
  },
  {
   "cell_type": "code",
   "execution_count": null,
   "metadata": {
    "dotnet_interactive": {
     "language": "csharp"
    },
    "polyglot_notebook": {
     "kernelName": "csharp"
    },
    "vscode": {
     "languageId": "polyglot-notebook"
    }
   },
   "outputs": [],
   "source": [
    "// (x - 3)(x - 3) = 1x^2 -6x + 9\n",
    "// (x - 2)(x - 3) = 1x^2 -5x + 6\n",
    "// (x - x1)(x - x2) = (ax^2 + bx + c)\n",
    "\n",
    "double a = 1.0;\n",
    "double b = -5.0;\n",
    "double c = 6.0;\n",
    "\n",
    "// napiste podminku ze a neni 0\n",
    "// pokud neni, tak pokracujte ve vypoctu\n",
    "// jinak napiste ze rovnice neni kvadraticka\n",
    "\n",
    "if (a != 0.0)\n",
    "{\n",
    "    double D = (b * b) - (4 * a * c);\n",
    "\n",
    "    // napiste podminku, jestli je \n",
    "    // D vetsi nez 0, rovno 0 a nebo mensi nez 0 \n",
    "    if (D > 0)\n",
    "    {\n",
    "        double v = Math.Sqrt(D);\n",
    "\n",
    "        double x1 = (-b + v) / (2 * a);\n",
    "        double x2 = (-b - v) / (2 * a);\n",
    "\n",
    "        Console.WriteLine($\"x1 = {x1} x = {x2}\");\n",
    "    }\n",
    "    else if (D == 0)\n",
    "    {\n",
    "        double x = (-b) / (2 * a);\n",
    "\n",
    "        Console.WriteLine($\"x1 = {x}\");\n",
    "    }\n",
    "    else\n",
    "    {\n",
    "        Console.WriteLine(\"Nema reseni v oboru realnych cisel\");\n",
    "    }\n",
    "}\n",
    "else\n",
    "{\n",
    "    Console.WriteLine(\"rovnice neni kvadraticka\");\n",
    "}"
   ]
  },
  {
   "cell_type": "markdown",
   "metadata": {},
   "source": [
    "### Řešení: 3. Maximum ze tří čísel"
   ]
  },
  {
   "cell_type": "code",
   "execution_count": null,
   "metadata": {
    "dotnet_interactive": {
     "language": "csharp"
    },
    "polyglot_notebook": {
     "kernelName": "csharp"
    },
    "vscode": {
     "languageId": "polyglot-notebook"
    }
   },
   "outputs": [],
   "source": [
    "// Mame tri promenne\n",
    "int a = 2;\n",
    "int b = 5;\n",
    "int c = 7;\n",
    "\n",
    "// Vypiste hodnotu nejvetsi promenne\n",
    "\n",
    "// Reseni s logickym operatorem &&\n",
    "if ((a > b) && (a > c))\n",
    "{\n",
    "    Console.WriteLine(a);\n",
    "}\n",
    "else if (b > c)\n",
    "{\n",
    "    Console.WriteLine(b);\n",
    "}\n",
    "else\n",
    "{\n",
    "    Console.WriteLine(c);\n",
    "}\n",
    "\n",
    "// reseni pouze s podminenym prikazem\n",
    "if (a > b)\n",
    "{\n",
    "    if (a > c)\n",
    "    {\n",
    "        Console.WriteLine(a);\n",
    "    }\n",
    "    else\n",
    "    {\n",
    "        Console.WriteLine(c);\n",
    "    }\n",
    "}\n",
    "else\n",
    "{\n",
    "    if (b > c)\n",
    "    {\n",
    "        Console.WriteLine(b);\n",
    "    }\n",
    "    else\n",
    "    {\n",
    "        Console.WriteLine(c);\n",
    "    }\n",
    "}\n",
    "\n",
    "// Bonus:\n",
    "// Seradte hodnoty trech promennych\n",
    "// Postupne prohazujeme hodnoty promennych\n",
    "if (a < b)\n",
    "{\n",
    "    int tmp = a;\n",
    "    a = b;\n",
    "    b = tmp;\n",
    "}\n",
    "\n",
    "if (b < c)\n",
    "{\n",
    "    int tmp = b;\n",
    "    b = c;\n",
    "    c = tmp;\n",
    "}\n",
    "\n",
    "if (a < b)\n",
    "{\n",
    "    int tmp = a;\n",
    "    a = b;\n",
    "    b = tmp;\n",
    "}"
   ]
  }
 ],
 "metadata": {
  "language_info": {
   "name": "csharp"
  }
 },
 "nbformat": 4,
 "nbformat_minor": 2
}
