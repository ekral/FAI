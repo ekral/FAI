{
 "cells": [
  {
   "cell_type": "markdown",
   "metadata": {},
   "source": [
    "# 04 Cykly\n",
    "**autor: Erik Král ekral@utb.cz**\n",
    "\n",
    "---\n",
    "\n",
    "Pro zvládnutí předmětu potřebujete znát příkazy `goto`, `while`,  `do-while` a `for`. A dále ukončení cyklu pomocí `break` a přeskočení zbytku cyklu pomocí `continue`"
   ]
  },
  {
   "cell_type": "markdown",
   "metadata": {},
   "source": [
    "Na následujících příkladech si probereme jednotlivé příkazy. \n",
    "\n",
    "Poznámka: Následující příklady běží v prostředí Polyglot notebook a proto místo příkazu `Console.ReadLine()` používají příkaz `await Kernel.GetInputAsync()`. V konzolové aplikaci tedy použije místo příkazu `await Kernel.GetInputAsync()` příkaz `Console.ReadLine()`."
   ]
  },
  {
   "cell_type": "markdown",
   "metadata": {},
   "source": [
    "S pomocí příkazu `goto` můžeme přeskočit na libovolný řádek. Tento příkaz se používá spíše vyjímečně."
   ]
  },
  {
   "cell_type": "code",
   "execution_count": null,
   "metadata": {
    "dotnet_interactive": {
     "language": "csharp"
    },
    "polyglot_notebook": {
     "kernelName": "csharp"
    },
    "vscode": {
     "languageId": "polyglot-notebook"
    }
   },
   "outputs": [],
   "source": [
    "int i = 0;\n",
    "\n",
    "label:\n",
    "    Console.WriteLine(i);\n",
    "    ++i;\n",
    "    if (i < 10) goto label;"
   ]
  },
  {
   "cell_type": "markdown",
   "metadata": {},
   "source": [
    "S použitím příkazu `while` můžeme cyklus zpřehlednit. Cyklus while se používá většinou pokud neznáme předem počet opakování. Když počet opakování známe, tak použijeme spíše příkaz `for`."
   ]
  },
  {
   "cell_type": "code",
   "execution_count": null,
   "metadata": {
    "dotnet_interactive": {
     "language": "csharp"
    },
    "polyglot_notebook": {
     "kernelName": "csharp"
    },
    "vscode": {
     "languageId": "polyglot-notebook"
    }
   },
   "outputs": [],
   "source": [
    "int i = 0;\n",
    "while (i < 10)\n",
    "{\n",
    "    Console.WriteLine(i);\n",
    "    ++i;\n",
    "}"
   ]
  },
  {
   "cell_type": "markdown",
   "metadata": {},
   "source": [
    "Příkaz `do-while` používáme, pokud nevíme předem počet opakování a chceme aby se cyklus provedl alespoň jednou. Příkaz `Console.ReadKey(true).Key` čeká na stisk klávesy a nemusíme přitom zadávate enter."
   ]
  },
  {
   "cell_type": "code",
   "execution_count": null,
   "metadata": {
    "dotnet_interactive": {
     "language": "csharp"
    },
    "polyglot_notebook": {
     "kernelName": "csharp"
    },
    "vscode": {
     "languageId": "polyglot-notebook"
    }
   },
   "outputs": [],
   "source": [
    "using Microsoft.DotNet.Interactive;\n",
    "\n",
    "bool konec = false;\n",
    "\n",
    "do\n",
    "{\n",
    "    string vstup = await Kernel.GetInputAsync();\n",
    "\n",
    "    Console.WriteLine($\"napsal jsi: {vstup}\");\n",
    "\n",
    "    if (vstup == \"konec\")\n",
    "    {\n",
    "        konec = true;\n",
    "    }\n",
    "\n",
    "\n",
    "} while (!konec);\n",
    "\n",
    "Console.WriteLine(\"Konec programu\");\n"
   ]
  },
  {
   "cell_type": "markdown",
   "metadata": {},
   "source": [
    "Příkaz `for` používáme většinou, pokud předem známe počet opakování."
   ]
  },
  {
   "cell_type": "code",
   "execution_count": null,
   "metadata": {
    "dotnet_interactive": {
     "language": "csharp"
    },
    "polyglot_notebook": {
     "kernelName": "csharp"
    },
    "vscode": {
     "languageId": "polyglot-notebook"
    }
   },
   "outputs": [],
   "source": [
    "for (int i = 0; i < 10; i++)\n",
    "{\n",
    "    Console.WriteLine(i);\n",
    "}"
   ]
  },
  {
   "cell_type": "markdown",
   "metadata": {},
   "source": [
    "Provádění cyklu můžeme ukončit pomocí příkazu `break`. V následujícím příkazu výpis ukončíme po zadání řetězce \"konec\"."
   ]
  },
  {
   "cell_type": "code",
   "execution_count": null,
   "metadata": {
    "dotnet_interactive": {
     "language": "csharp"
    },
    "polyglot_notebook": {
     "kernelName": "csharp"
    },
    "vscode": {
     "languageId": "polyglot-notebook"
    }
   },
   "outputs": [],
   "source": [
    "Console.WriteLine(\"Zadej řetězec konec pro ukončení programu.\");\n",
    "Console.WriteLine(\"Zadej jakýkoliv jiný řetězec pro nove cislo\");\n",
    "\n",
    "for (int i = 0; i < 10; i++)\n",
    "{\n",
    "    string vstup = await Kernel.GetInputAsync();\n",
    "\n",
    "    if(vstup == \"konec\")\n",
    "    {\n",
    "        break;\n",
    "    }\n",
    "\n",
    "    Console.WriteLine(i);\n",
    "}\n",
    "\n",
    "Console.WriteLine(\"konec vypisu\");"
   ]
  },
  {
   "cell_type": "markdown",
   "metadata": {},
   "source": [
    "Násleující příkazy ve složeném příkazu cyklu můžeme přeskočit pomocí příkazu `continue`. V následujícím příkazu výpis přeskočíme zadáním řetězce \"preskoc\"."
   ]
  },
  {
   "cell_type": "code",
   "execution_count": null,
   "metadata": {
    "dotnet_interactive": {
     "language": "csharp"
    },
    "polyglot_notebook": {
     "kernelName": "csharp"
    },
    "vscode": {
     "languageId": "polyglot-notebook"
    }
   },
   "outputs": [],
   "source": [
    "Console.WriteLine(\"Zadej řetězec preskoc pro preskočení výpisu čísla.\");\n",
    "Console.WriteLine(\"Zadej jakýkoliv jiný řetězec pro nove cislo\");\n",
    "\n",
    "for (int i = 0; i < 10; i++)\n",
    "{\n",
    "    string vstup = await Kernel.GetInputAsync();\n",
    "\n",
    "    if(vstup == \"preskoc\")\n",
    "    {\n",
    "        continue;\n",
    "    }\n",
    "\n",
    "    Console.WriteLine(i);\n",
    "}\n",
    "\n",
    "Console.WriteLine(\"konec vypisu\");"
   ]
  },
  {
   "cell_type": "markdown",
   "metadata": {},
   "source": [
    "---\n",
    "## Příklady k procvičování"
   ]
  },
  {
   "cell_type": "markdown",
   "metadata": {},
   "source": [
    "### Zadání: 1: Příkaz while"
   ]
  },
  {
   "cell_type": "code",
   "execution_count": null,
   "metadata": {
    "dotnet_interactive": {
     "language": "csharp"
    },
    "polyglot_notebook": {
     "kernelName": "csharp"
    },
    "vscode": {
     "languageId": "polyglot-notebook"
    }
   },
   "outputs": [],
   "source": [
    "// s pomoci cyklu while vypiste na konzoli:\n",
    "\n",
    "// cisla 1,2,3,4,5,6,7,8,9\n",
    "\n",
    "// cisla 10,9,8,7,6,5,4,3,2,1\n",
    "\n",
    "// cisla 10,20,30,40,50,60,70,80,90,100\n",
    "\n",
    "// cisla 10,100,1000,10000,100000\n",
    "\n",
    "// cisla 256,128,64,32,16,8,4,2,1"
   ]
  },
  {
   "cell_type": "markdown",
   "metadata": {},
   "source": [
    "### Zadání: 2: Příkaz for"
   ]
  },
  {
   "cell_type": "code",
   "execution_count": null,
   "metadata": {
    "dotnet_interactive": {
     "language": "csharp"
    },
    "polyglot_notebook": {
     "kernelName": "csharp"
    },
    "vscode": {
     "languageId": "polyglot-notebook"
    }
   },
   "outputs": [],
   "source": [
    "// s pomoci cyklu forvypiste na konzoli:\n",
    "\n",
    "// cisla 1,2,3,4,5,6,7,8,9\n",
    "\n",
    "// cisla 10,9,8,7,6,5,4,3,2,1\n",
    "\n",
    "// cisla 10,20,30,40,50,60,70,80,90,100\n",
    "\n",
    "// cisla 10,100,1000,10000,100000\n",
    "\n",
    "// cisla 256,128,64,32,16,8,4,2,1"
   ]
  },
  {
   "cell_type": "markdown",
   "metadata": {},
   "source": [
    "### Zadání: 3: Faktorial"
   ]
  },
  {
   "cell_type": "code",
   "execution_count": null,
   "metadata": {
    "dotnet_interactive": {
     "language": "csharp"
    },
    "polyglot_notebook": {
     "kernelName": "csharp"
    },
    "vscode": {
     "languageId": "polyglot-notebook"
    }
   },
   "outputs": [],
   "source": [
    "// Spocitejte faktorial cisla n\n",
    "// n!\n",
    "int n = 6;"
   ]
  },
  {
   "cell_type": "markdown",
   "metadata": {},
   "source": [
    "### Zadání: 4: Modulo"
   ]
  },
  {
   "cell_type": "code",
   "execution_count": null,
   "metadata": {
    "dotnet_interactive": {
     "language": "csharp"
    },
    "polyglot_notebook": {
     "kernelName": "csharp"
    },
    "vscode": {
     "languageId": "polyglot-notebook"
    }
   },
   "outputs": [],
   "source": [
    "int x = 77;\n",
    "\n",
    "int zbytek = x % 5; // modulo, zbytek po celociselnem deleni\n",
    "\n",
    "if(zbytek == 0)\n",
    "{\n",
    "    Console.WriteLine(\"cislo je delitelne 5\");\n",
    "}\n",
    "\n",
    "// S pomocí operátoru modulo vypiste cisla od 0 do 100 delitelna 5 nebo 3\n",
    "// 0, 3, 5, 6, 9, 10 .... 100\n",
    "\n"
   ]
  },
  {
   "cell_type": "markdown",
   "metadata": {},
   "source": [
    "---\n",
    "## Řešení příkladů k procvičování"
   ]
  },
  {
   "cell_type": "markdown",
   "metadata": {},
   "source": [
    "### Řešení: 1: Příkaz while"
   ]
  },
  {
   "cell_type": "code",
   "execution_count": null,
   "metadata": {
    "dotnet_interactive": {
     "language": "csharp"
    },
    "polyglot_notebook": {
     "kernelName": "csharp"
    },
    "vscode": {
     "languageId": "polyglot-notebook"
    }
   },
   "outputs": [],
   "source": [
    "// s pomoci cyklu while vypiste na konzoli:\n",
    "int i;\n",
    "\n",
    "// cisla 1,2,3,4,5,6,7,8,9\n",
    "\n",
    "i = 1;\n",
    "while (i < 10) \n",
    "{\n",
    "    Console.WriteLine(i);\n",
    "    i++;\n",
    "}\n",
    "\n",
    "// cisla 10,9,8,7,6,5,4,3,2,1\n",
    "\n",
    "i = 10;\n",
    "while (i > 0) \n",
    "{\n",
    "    Console.WriteLine(i);\n",
    "    i--;\n",
    "}\n",
    "\n",
    "// cisla 10,20,30,40,50,60,70,80,90,100\n",
    "\n",
    "i = 10;\n",
    "while (i <= 100) \n",
    "{\n",
    "    Console.WriteLine(i);\n",
    "    i += 10;\n",
    "}\n",
    "\n",
    "// cisla 10,100,1000,10000,100000\n",
    "\n",
    "i = 10;\n",
    "while (i <= 10000) \n",
    "{\n",
    "    Console.WriteLine(i);\n",
    "    i *= 10;\n",
    "}\n",
    "\n",
    "// cisla 256,128,64,32,16,8,4,2,1\n",
    "\n",
    "i = 256;\n",
    "while (i > 0) \n",
    "{\n",
    "    Console.WriteLine(i);\n",
    "    i /= 2;\n",
    "}"
   ]
  },
  {
   "cell_type": "markdown",
   "metadata": {},
   "source": [
    "### Řešení: 2: Příkaz for"
   ]
  },
  {
   "cell_type": "code",
   "execution_count": null,
   "metadata": {
    "dotnet_interactive": {
     "language": "csharp"
    },
    "polyglot_notebook": {
     "kernelName": "csharp"
    },
    "vscode": {
     "languageId": "polyglot-notebook"
    }
   },
   "outputs": [],
   "source": [
    "// s pomoci cyklu for vypiste na konzoli \n",
    "// cisla 1,2,3,4,5,6,7,8,9\n",
    "for (int i = 1; i < 10; i++)\n",
    "{\n",
    "    Console.WriteLine(i);\n",
    "}\n",
    "\n",
    "// cisla 10,9,8,7,6,5,4,3,2,1\n",
    "for (int i = 10; i > 0; i--)\n",
    "{\n",
    "    Console.WriteLine(i);\n",
    "}\n",
    "\n",
    "// cisla 10,20,30,40,50,60,70,80,90,100\n",
    "for (int i = 10; i <= 100; i = i + 10)\n",
    "{\n",
    "    Console.WriteLine(i);\n",
    "}\n",
    "\n",
    "// cisla 10,100,1000,10000,100000\n",
    "for (int i = 10; i <= 100000; i = i * 10)\n",
    "{\n",
    "    Console.WriteLine(i);\n",
    "}\n",
    "\n",
    "// cisla 256,128,64,32,16,8,4,2,1\n",
    "for (int i = 256; i >= 1; i = i / 2)\n",
    "{\n",
    "    Console.WriteLine(i);\n",
    "}\n"
   ]
  },
  {
   "cell_type": "markdown",
   "metadata": {},
   "source": [
    "### Řešení 3: Faktorial"
   ]
  },
  {
   "cell_type": "code",
   "execution_count": null,
   "metadata": {
    "dotnet_interactive": {
     "language": "csharp"
    },
    "polyglot_notebook": {
     "kernelName": "csharp"
    },
    "vscode": {
     "languageId": "polyglot-notebook"
    }
   },
   "outputs": [],
   "source": [
    "// Spocitejte faktorial cisla n\n",
    "// n!\n",
    "int n = 6;\n",
    "\n",
    "\n",
    "int f = n--;\n",
    "for (; n > 1; n--)\n",
    "{\n",
    "    f = f * n;\n",
    "}\n",
    "\n",
    "Console.WriteLine(f);\n"
   ]
  },
  {
   "cell_type": "markdown",
   "metadata": {},
   "source": [
    "### Řešení 4: Modulo"
   ]
  },
  {
   "cell_type": "code",
   "execution_count": null,
   "metadata": {
    "dotnet_interactive": {
     "language": "csharp"
    },
    "polyglot_notebook": {
     "kernelName": "csharp"
    },
    "vscode": {
     "languageId": "polyglot-notebook"
    }
   },
   "outputs": [],
   "source": [
    "int x = 77;\n",
    "\n",
    "int zbytek = x % 5; // modulo, zbytek po celociselnem deleni\n",
    "\n",
    "if(zbytek == 0)\n",
    "{\n",
    "    Console.WriteLine(\"cislo je delitelne 5\");\n",
    "}\n",
    "\n",
    "// S pomocí operátoru modulo vypiste cisla od 0 do 100 delitelna 5 nebo 3\n",
    "// 0, 3, 5, 6, 9, 10 .... 100\n",
    "\n",
    "for (int i = 0; i < 100; i++)\n",
    "{\n",
    "    if((i % 5 == 0) || (i % 3 == 0))\n",
    "    {\n",
    "        Console.WriteLine(i);\n",
    "    }\n",
    "}"
   ]
  }
 ],
 "metadata": {
  "language_info": {
   "name": "csharp"
  }
 },
 "nbformat": 4,
 "nbformat_minor": 2
}
