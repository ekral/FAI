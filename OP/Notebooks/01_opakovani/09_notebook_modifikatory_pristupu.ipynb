{
 "cells": [
  {
   "cell_type": "markdown",
   "metadata": {},
   "source": [
    "# 09 Modifikátory přístupu public a private\n",
    "**autor: Erik Král ekral@utb.cz**\n",
    "\n",
    "---\n",
    "\n",
    "Pro zvládnutí příkladu potřebujete znát modifikátor přístupu `public` a `private` a umět jej používat s fieldy a metodami. "
   ]
  },
  {
   "cell_type": "markdown",
   "metadata": {},
   "source": [
    "Na následujících příkladech si probereme jednotlivé příkazy. "
   ]
  },
  {
   "cell_type": "markdown",
   "metadata": {},
   "source": [
    "Nejprve si definujeme třídu pro kruh, která bude mít `public` field `polomer`:"
   ]
  },
  {
   "cell_type": "code",
   "execution_count": null,
   "metadata": {
    "dotnet_interactive": {
     "language": "csharp"
    },
    "polyglot_notebook": {
     "kernelName": "csharp"
    },
    "vscode": {
     "languageId": "polyglot-notebook"
    }
   },
   "outputs": [],
   "source": [
    "class Kruh\n",
    "{\n",
    "    public double polomer;\n",
    "\n",
    "    public Kruh()\n",
    "    {\n",
    "        polomer = 1.0;\n",
    "    }\n",
    "\n",
    "    public Kruh(double polomer)\n",
    "    {\n",
    "        this.polomer = polomer;\n",
    "    }\n",
    "}"
   ]
  },
  {
   "cell_type": "markdown",
   "metadata": {},
   "source": [
    "Pokud je field nebo metoda `public` tak k ní můžeme přistupovat i v klientském kódu mimo metody třídy nebo struktury ve které je field definovaný."
   ]
  },
  {
   "cell_type": "code",
   "execution_count": null,
   "metadata": {
    "dotnet_interactive": {
     "language": "csharp"
    },
    "polyglot_notebook": {
     "kernelName": "csharp"
    },
    "vscode": {
     "languageId": "polyglot-notebook"
    }
   },
   "outputs": [],
   "source": [
    "Kruh kruh = new Kruh();\n",
    "kruh.polomer = 10.0;\n",
    "Console.WriteLine(kruh.polomer);\n"
   ]
  },
  {
   "cell_type": "markdown",
   "metadata": {},
   "source": [
    "Pokud je field nebo metoda `private` tak k ní nemůžeme přistupovat v klientském kódu mimo metody třídy nebo struktury ve které je field definovaný. Můžeme ale definovat `public` metody a s jejich potom k `private` fieldu přistupovat. V následujícím příkladu má kruh `private` field `polomer` a `public` metody `VratPolomer` a `NastavPolomer`."
   ]
  },
  {
   "cell_type": "code",
   "execution_count": null,
   "metadata": {
    "dotnet_interactive": {
     "language": "csharp"
    },
    "polyglot_notebook": {
     "kernelName": "csharp"
    },
    "vscode": {
     "languageId": "polyglot-notebook"
    }
   },
   "outputs": [],
   "source": [
    "class Kruh\n",
    "{\n",
    "    private double polomer;\n",
    "\n",
    "    public double VratPolomer()\n",
    "    {\n",
    "        return polomer;\n",
    "    }\n",
    "\n",
    "    public void NastavPolomer(double polomer)\n",
    "    {\n",
    "        this.polomer = polomer;\n",
    "    }\n",
    "}"
   ]
  },
  {
   "cell_type": "markdown",
   "metadata": {},
   "source": [
    "Mimo třídu `Kruh` v klientském kódu potom nemůžeme přistupovat k fieldu `polomer` přímo ale jen pomocí metod `VratPolomer` a `NastavPolomer`."
   ]
  },
  {
   "cell_type": "code",
   "execution_count": null,
   "metadata": {
    "dotnet_interactive": {
     "language": "csharp"
    },
    "polyglot_notebook": {
     "kernelName": "csharp"
    },
    "vscode": {
     "languageId": "polyglot-notebook"
    }
   },
   "outputs": [],
   "source": [
    "Kruh kruh = new Kruh();\n",
    "//kruh.polomer = 10.0; // nelze prelozit protoze polomer je private\n",
    "//Console.WriteLine(kruh.polomer); // nelze prelozit protoze polomer je private\n",
    "kruh.NastavPolomer(10);\n",
    "Console.WriteLine(kruh.VratPolomer()); "
   ]
  },
  {
   "cell_type": "code",
   "execution_count": null,
   "metadata": {
    "dotnet_interactive": {
     "language": "csharp"
    },
    "polyglot_notebook": {
     "kernelName": "csharp"
    },
    "vscode": {
     "languageId": "polyglot-notebook"
    }
   },
   "outputs": [],
   "source": [
    "class BankovniUcet\n",
    "{\n",
    "    private double zustatek;\n",
    "\n",
    "    public BankovniUcet()\n",
    "    {\n",
    "        zustatek = 1000.0;\n",
    "    }\n",
    "\n",
    "    public void Vyber(double castka)\n",
    "    {\n",
    "        if(castka > zustatek)\n",
    "        {\n",
    "            throw new ArgumentOutOfRangeException(\"Castka je vetsi nez zustatek\");\n",
    "        }\n",
    "\n",
    "        zustatek -= castka;\n",
    "    }\n",
    "\n",
    "    public double VratZustatek()\n",
    "    {\n",
    "        return zustatek;\n",
    "    }\n",
    "}"
   ]
  },
  {
   "cell_type": "code",
   "execution_count": null,
   "metadata": {
    "dotnet_interactive": {
     "language": "csharp"
    },
    "polyglot_notebook": {
     "kernelName": "csharp"
    },
    "vscode": {
     "languageId": "polyglot-notebook"
    }
   },
   "outputs": [],
   "source": [
    "BankovniUcet ucet = new BankovniUcet();\n",
    "string vstup = await Microsoft.DotNet.Interactive.Kernel.GetInputAsync();\n",
    "\n",
    "if(double.TryParse(vstup, out double castka))\n",
    "{\n",
    "    if(castka > ucet.VratZustatek())\n",
    "    {\n",
    "        Console.WriteLine(\"Castka je vyssi nez zustatek\");\n",
    "    }\n",
    "    else\n",
    "    {\n",
    "        ucet.Vyber(castka);\n",
    "        Console.WriteLine(\"Vyber\");\n",
    "    }\n",
    "}"
   ]
  }
 ],
 "metadata": {
  "language_info": {
   "name": "csharp"
  }
 },
 "nbformat": 4,
 "nbformat_minor": 2
}
