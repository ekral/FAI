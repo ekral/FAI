{
 "cells": [
  {
   "attachments": {},
   "cell_type": "markdown",
   "id": "b418cf4c",
   "metadata": {},
   "source": [
    "# 07: Generika a generické kolekce\n",
    "**autor: Erik Král ekral@utb.cz**\n",
    "\n",
    "---\n",
    "\n",
    "\n",
    "Obsah:\n",
    "- Generické třídy a metody\n",
    "- Generic Constraints\n",
    "- Dynamické pole List\n",
    "- Asociativní pole Dictionary\n"
   ]
  },
  {
   "attachments": {},
   "cell_type": "markdown",
   "id": "68ab0747",
   "metadata": {},
   "source": [
    "## Generické třídy a metody\n",
    "\n",
    "Generika (C#, Java) nebo šablony v C++, umožňují odložit přesnou definici použitého datového typu v rámci datového typu, například třídy nebo rozhraní. V jazyce C se pro podobné účely používá příkaz textového preprocecoru #define.\n",
    "\n",
    "Generika poskytují vetší znovu použitelnost kódu, zlepšuje typovou bezpečnost a celkový výkon (není nutný [boxing](https://docs.microsoft.com/en-us/dotnet/csharp/programming-guide/types/boxing-and-unboxing) u hodnotových typů). Nejčastější aplikace je v rámci kolekcí. Je doporučováno vždy preferovat generické třídy a metody před jejími negenerickými verzemi"
   ]
  },
  {
   "attachments": {},
   "cell_type": "markdown",
   "metadata": {},
   "source": [
    "V následujícím příkladu je ukázka definice generické třídy sklad, který představuje zásobník s pevnou délkou:"
   ]
  },
  {
   "cell_type": "markdown",
   "id": "8e99d8ac",
   "metadata": {},
   "source": [
    "Nejprve si ukážeme příklad jak by vypadal kód bez použití generiky."
   ]
  },
  {
   "cell_type": "code",
   "execution_count": 1,
   "id": "aa5a567b",
   "metadata": {
    "language_info": {
     "name": "polyglot-notebook"
    },
    "polyglot_notebook": {
     "kernelName": "csharp"
    }
   },
   "outputs": [
    {
     "data": {
      "text/html": [
       "<div class=\"dni-plaintext\"><pre>3</pre></div><style>\r\n",
       ".dni-code-hint {\r\n",
       "    font-style: italic;\r\n",
       "    overflow: hidden;\r\n",
       "    white-space: nowrap;\r\n",
       "}\r\n",
       ".dni-treeview {\r\n",
       "    white-space: nowrap;\r\n",
       "}\r\n",
       ".dni-treeview td {\r\n",
       "    vertical-align: top;\r\n",
       "    text-align: start;\r\n",
       "}\r\n",
       "details.dni-treeview {\r\n",
       "    padding-left: 1em;\r\n",
       "}\r\n",
       "table td {\r\n",
       "    text-align: start;\r\n",
       "}\r\n",
       "table tr { \r\n",
       "    vertical-align: top; \r\n",
       "    margin: 0em 0px;\r\n",
       "}\r\n",
       "table tr td pre \r\n",
       "{ \r\n",
       "    vertical-align: top !important; \r\n",
       "    margin: 0em 0px !important;\r\n",
       "} \r\n",
       "table th {\r\n",
       "    text-align: start;\r\n",
       "}\r\n",
       "</style>"
      ]
     },
     "metadata": {},
     "output_type": "display_data"
    }
   ],
   "source": [
    "class Sklad\n",
    "{\n",
    "    int[] data;\n",
    "    private int pocet;\n",
    "\n",
    "    public Sklad(int kapacita)\n",
    "    {\n",
    "        data = new int[kapacita];\n",
    "    }\n",
    "\n",
    "    public void Zaloz(int objekt)\n",
    "    {\n",
    "        data[pocet++] = objekt;\n",
    "    }\n",
    "\n",
    "    public int Vyloz()\n",
    "    {\n",
    "        return data[--pocet];\n",
    "    }\n",
    "}\n",
    "\n",
    "Sklad sklad = new Sklad(3);\n",
    "sklad.Zaloz(1);\n",
    "sklad.Zaloz(2);\n",
    "sklad.Zaloz(3);\n",
    "\n",
    "int prvek = sklad.Vyloz();\n",
    "\n",
    "prvek\n"
   ]
  },
  {
   "cell_type": "markdown",
   "id": "191f9a5f",
   "metadata": {},
   "source": [
    "Pokud bych chtěl do přechozí třídy Sklad vkládat například řetězce, tak bych musel třídu přepsat.\n",
    "\n",
    "V následujícím příkladu proto použijeme raději generiku."
   ]
  },
  {
   "cell_type": "code",
   "execution_count": null,
   "id": "0b4944c4",
   "metadata": {
    "dotnet_interactive": {
     "language": "csharp"
    },
    "polyglot_notebook": {
     "kernelName": "csharp"
    }
   },
   "outputs": [],
   "source": [
    "class Sklad<T>\n",
    "{\n",
    "    T[] data;\n",
    "    private int pocet;\n",
    "\n",
    "    public Sklad(int kapacita)\n",
    "    {\n",
    "        data = new T[kapacita];\n",
    "    }\n",
    "\n",
    "    public void Zaloz(T objekt)\n",
    "    {\n",
    "        data[pocet++] = objekt;\n",
    "    }\n",
    "\n",
    "    public T Vyloz()\n",
    "    {\n",
    "        return data[--pocet];\n",
    "    }\n",
    "}"
   ]
  },
  {
   "cell_type": "markdown",
   "metadata": {},
   "source": [
    "A při použití této třídy zvolíme konrétní typ, který se použije místo generického parametru `T`."
   ]
  },
  {
   "cell_type": "code",
   "execution_count": 5,
   "id": "984dac39",
   "metadata": {
    "dotnet_interactive": {
     "language": "csharp"
    },
    "polyglot_notebook": {
     "kernelName": "csharp"
    }
   },
   "outputs": [
    {
     "name": "stdout",
     "output_type": "stream",
     "text": [
      "1\n",
      "Ahoj\n"
     ]
    }
   ],
   "source": [
    "Sklad<int> skladInt = new Sklad<int>(10);\n",
    "skladInt.Zaloz(1);\n",
    "int celeCislo = skladInt.Vyloz();\n",
    "\n",
    "Console.WriteLine(celeCislo);\n",
    "\n",
    "Sklad<string> skladString = new Sklad<string>(10);\n",
    "skladString.Zaloz(\"Ahoj\");\n",
    "string retezec = skladString.Vyloz();\n",
    "\n",
    "Console.WriteLine(retezec);"
   ]
  },
  {
   "attachments": {},
   "cell_type": "markdown",
   "metadata": {},
   "source": [
    "## Generic Constraints"
   ]
  },
  {
   "cell_type": "markdown",
   "metadata": {},
   "source": [
    "Pomocí Generic Constraints můžeme omezit jaké typy můžeme použít pro generický parametr a tím také rozšířit operace, které s generickým typem můžeme provádět. V následujícím příkladu jsme omezili generický typ `T` třídy `Sklad<T>` na třídu `Zviratko` a její potomky."
   ]
  },
  {
   "cell_type": "code",
   "execution_count": 6,
   "id": "c7c2ecbe",
   "metadata": {
    "dotnet_interactive": {
     "language": "csharp"
    },
    "polyglot_notebook": {
     "kernelName": "csharp"
    }
   },
   "outputs": [],
   "source": [
    "abstract class Zviratko\n",
    "{\n",
    "    public string Jmeno { get; set; }\n",
    "    public abstract string Zvuk();\n",
    "\n",
    "    protected Zviratko(string jmeno)\n",
    "    {\n",
    "        Jmeno = jmeno;\n",
    "    }\n",
    "}\n",
    "\n",
    "class Pejsek : Zviratko\n",
    "{\n",
    "    public Pejsek(string jmeno) : base(jmeno)\n",
    "    {\n",
    "    }\n",
    "\n",
    "    public override string Zvuk()\n",
    "    {\n",
    "        return \"Haf haf\";\n",
    "    }\n",
    "}"
   ]
  },
  {
   "cell_type": "markdown",
   "metadata": {},
   "source": [
    "Díky tomu můžeme například v metodě `NajdiPodleJmena` použít property `Jmeno` a vyhledat zvířátko podle jména. "
   ]
  },
  {
   "cell_type": "code",
   "execution_count": 7,
   "id": "8a0040b6",
   "metadata": {
    "dotnet_interactive": {
     "language": "csharp"
    },
    "polyglot_notebook": {
     "kernelName": "csharp"
    }
   },
   "outputs": [],
   "source": [
    "class Sklad<T> where T : Zviratko\n",
    "{\n",
    "    T[] data;\n",
    "    private int pocet;\n",
    "\n",
    "    public Sklad(int kapacita)\n",
    "    {\n",
    "        data = new T[kapacita];\n",
    "    }\n",
    "\n",
    "    public void Zaloz(T objekt)\n",
    "    {\n",
    "        data[pocet++] = objekt;\n",
    "    }\n",
    "\n",
    "    public T Vyloz()\n",
    "    {\n",
    "        return data[--pocet];\n",
    "    }\n",
    "\n",
    "    public T NajdiPodleJmena(string jmeno)\n",
    "    {\n",
    "        return data.First(x => x.Jmeno == jmeno);\n",
    "    }\n",
    "}"
   ]
  },
  {
   "cell_type": "code",
   "execution_count": 8,
   "id": "11d96447",
   "metadata": {
    "dotnet_interactive": {
     "language": "csharp"
    },
    "polyglot_notebook": {
     "kernelName": "csharp"
    }
   },
   "outputs": [
    {
     "name": "stdout",
     "output_type": "stream",
     "text": [
      "Fik dela Haf haf\r\n"
     ]
    }
   ],
   "source": [
    "Sklad<Zviratko> zviratka = new Sklad<Zviratko>(10);\n",
    "\n",
    "zviratka.Zaloz(new Pejsek(\"Rex\"));\n",
    "zviratka.Zaloz(new Pejsek(\"Fik\"));\n",
    "zviratka.Zaloz(new Pejsek(\"Zeryk\"));\n",
    "\n",
    "Zviratko zviratko = zviratka.NajdiPodleJmena(\"Fik\");\n",
    "\n",
    "Console.WriteLine($\"{zviratko.Jmeno} dela {zviratko.Zvuk()}\")"
   ]
  },
  {
   "cell_type": "markdown",
   "id": "5aa17d81",
   "metadata": {},
   "source": [
    "## Generic numeric type\n",
    "\n",
    "Generic constrains můžeme od .net 8.0 použít i na numerické typy."
   ]
  },
  {
   "cell_type": "code",
   "execution_count": null,
   "id": "e2b44b9d",
   "metadata": {
    "language_info": {
     "name": "polyglot-notebook"
    },
    "polyglot_notebook": {
     "kernelName": "csharp"
    }
   },
   "outputs": [
    {
     "name": "stdout",
     "output_type": "stream",
     "text": [
      "8, 8, 8.0\r\n"
     ]
    }
   ],
   "source": [
    "using System.Numerics;\n",
    "\n",
    "T Soucet<T>(T a, T b) where T : INumber<T>\n",
    "{\n",
    "    return a + b;\n",
    "}\n",
    "\n",
    "int x = Soucet<int>(3, 5);\n",
    "\n",
    "// pokud je typ zřejmý z argumentů, můžeme vynechat specifikaci typu\n",
    "int x1 = Soucet(3, 5);\n",
    "double x2 = Soucet(3.0, 5.0);\n",
    "decimal x3 = Soucet(3.0m, 5.0m);\n",
    "\n",
    "Console.WriteLine($\"{x1}, {x2}, {x3}\");"
   ]
  },
  {
   "cell_type": "markdown",
   "metadata": {},
   "source": [
    "---\n",
    "Více se o možnostech o generice a Generic Constraints můžete dozvědět například zde:\n",
    "\n",
    "[Generic classes and methods. 2022](https://docs.microsoft.com/en-us/dotnet/csharp/fundamentals/types/generics)\n",
    "\n",
    "[Constraints on type parameters (C# Programming Guide). 2022](https://docs.microsoft.com/en-us/dotnet/csharp/programming-guide/generics/constraints-on-type-parameters)"
   ]
  },
  {
   "attachments": {},
   "cell_type": "markdown",
   "metadata": {},
   "source": [
    "## Dynamické pole List\n",
    "\n",
    "Generická třída List<T> představuje implementaci dynamického pole. Kdy pole s pevnou délkou (Array) má pevně danou délku, kterou není možné změnit. Dynamické pole umožňuje přidávat a odebírat prvky do již existujícího pole protože v případě potřeby si dynamické pole alokuje víc paměti."
   ]
  },
  {
   "cell_type": "markdown",
   "metadata": {},
   "source": [
    "Instanci třídy List<int> definujeme následujícím způsobem. Po vytvoření instance neobsahuje žádné prvky."
   ]
  },
  {
   "cell_type": "code",
   "execution_count": 12,
   "id": "3832db78",
   "metadata": {
    "dotnet_interactive": {
     "language": "csharp"
    },
    "polyglot_notebook": {
     "kernelName": "csharp"
    }
   },
   "outputs": [],
   "source": [
    "List<int> cisla = new List<int>();"
   ]
  },
  {
   "cell_type": "markdown",
   "metadata": {},
   "source": [
    "Prvky inicializujeme stejným způsobem jako pole, tedy seznamem prvků ve složených závorkách oddělených čárkou."
   ]
  },
  {
   "cell_type": "code",
   "execution_count": 15,
   "id": "8859cf41",
   "metadata": {
    "dotnet_interactive": {
     "language": "csharp"
    },
    "polyglot_notebook": {
     "kernelName": "csharp"
    }
   },
   "outputs": [],
   "source": [
    "List<int> cisla = new List<int>() { 1, 2, 3 }; \n",
    "\n",
    "// nebo zkráceně\n",
    "\n",
    "cisla = [1, 2, 3 ];"
   ]
  },
  {
   "cell_type": "markdown",
   "metadata": {},
   "source": [
    "K prvkům přistupujeme pomocí operátoru indexace `[]` nebo pomocí cyklu foreach protože List<int> implementuje rozhraní `IEnumerable`. V následujících příkladech si ukážeme nejprve použití operátoru indexace a potom cyklu `foreach`."
   ]
  },
  {
   "cell_type": "code",
   "execution_count": 14,
   "id": "f8007ec4",
   "metadata": {
    "dotnet_interactive": {
     "language": "csharp"
    },
    "polyglot_notebook": {
     "kernelName": "csharp"
    }
   },
   "outputs": [
    {
     "name": "stdout",
     "output_type": "stream",
     "text": [
      "1\n",
      "2\n",
      "3\n"
     ]
    }
   ],
   "source": [
    "// Prvni prvek\n",
    "Console.WriteLine(cisla[0]);\n",
    "\n",
    "// Druhy prvek\n",
    "Console.WriteLine(cisla[1]);\n",
    "\n",
    "// Treti prvek\n",
    "Console.WriteLine(cisla[2]);"
   ]
  },
  {
   "cell_type": "code",
   "execution_count": 16,
   "id": "02c0d8db",
   "metadata": {
    "dotnet_interactive": {
     "language": "csharp"
    },
    "polyglot_notebook": {
     "kernelName": "csharp"
    }
   },
   "outputs": [
    {
     "name": "stdout",
     "output_type": "stream",
     "text": [
      "1\n",
      "2\n",
      "3\n"
     ]
    }
   ],
   "source": [
    "foreach (int cislo in cisla)\n",
    "{\n",
    "    Console.WriteLine(cislo);\n",
    "}"
   ]
  },
  {
   "cell_type": "markdown",
   "metadata": {},
   "source": [
    "V následujících příkladech projdeme základní operace s třídou `List<T>`:"
   ]
  },
  {
   "cell_type": "code",
   "execution_count": 18,
   "id": "47672067",
   "metadata": {
    "dotnet_interactive": {
     "language": "csharp"
    },
    "polyglot_notebook": {
     "kernelName": "csharp"
    }
   },
   "outputs": [],
   "source": [
    "List<char> znaky = ['a', 'b', 'c' ];\n",
    "\n",
    "znaky.Add('x');         // Vložení na konec\n",
    "znaky.Insert(1, 'x');   // Vložení na libovolnou pozici\n",
    "znaky.Insert(0, 'x');   // Vložení na začátek\n",
    "znaky.RemoveAt(1);      // Odebrání prvku z indexu\n",
    "znaky.Remove('b');      // Odebrání prvků dle hodnoty\n",
    "znaky.Clear();          // Odebrání všech prvků"
   ]
  },
  {
   "cell_type": "markdown",
   "metadata": {},
   "source": [
    "`List<T>` je třída a tedy referenční typ, přiřazením se zkopíruje reference, která odkazuje na stejné data v paměti."
   ]
  },
  {
   "cell_type": "code",
   "execution_count": 23,
   "id": "2e608882",
   "metadata": {
    "dotnet_interactive": {
     "language": "csharp"
    },
    "polyglot_notebook": {
     "kernelName": "csharp"
    }
   },
   "outputs": [
    {
     "name": "stdout",
     "output_type": "stream",
     "text": [
      "True\r\n"
     ]
    },
    {
     "data": {
      "text/plain": [
       "x,b,c"
      ]
     },
     "metadata": {},
     "output_type": "display_data"
    }
   ],
   "source": [
    "List<char> original = ['a', 'b', 'c'];\n",
    "\n",
    "List<char> kopie = original;\n",
    "\n",
    "bool stejne = object.ReferenceEquals(original, kopie);\n",
    "\n",
    "Console.WriteLine(stejne);\n",
    "\n",
    "kopie[0] = 'x';\n",
    "\n",
    "string.Join(\",\", original)"
   ]
  },
  {
   "cell_type": "markdown",
   "metadata": {},
   "source": [
    "Hlubokou kopii instance třídy `List<T>` můžeme například vytvořit předáním původního listu jako argumentu konstruktoru. V příkladu vytváříme hlubokou kopii instance třídy List<int> ale pokud by jako prvky byly referenční typy, tak kopie jednotlivých prvků by opět byly jen reference na stejný objekt."
   ]
  },
  {
   "cell_type": "code",
   "execution_count": 26,
   "id": "4e59dbfd",
   "metadata": {
    "dotnet_interactive": {
     "language": "csharp"
    },
    "polyglot_notebook": {
     "kernelName": "csharp"
    }
   },
   "outputs": [
    {
     "data": {
      "text/html": [
       "<div class=\"dni-plaintext\"><pre>False</pre></div><style>\r\n",
       ".dni-code-hint {\r\n",
       "    font-style: italic;\r\n",
       "    overflow: hidden;\r\n",
       "    white-space: nowrap;\r\n",
       "}\r\n",
       ".dni-treeview {\r\n",
       "    white-space: nowrap;\r\n",
       "}\r\n",
       ".dni-treeview td {\r\n",
       "    vertical-align: top;\r\n",
       "    text-align: start;\r\n",
       "}\r\n",
       "details.dni-treeview {\r\n",
       "    padding-left: 1em;\r\n",
       "}\r\n",
       "table td {\r\n",
       "    text-align: start;\r\n",
       "}\r\n",
       "table tr { \r\n",
       "    vertical-align: top; \r\n",
       "    margin: 0em 0px;\r\n",
       "}\r\n",
       "table tr td pre \r\n",
       "{ \r\n",
       "    vertical-align: top !important; \r\n",
       "    margin: 0em 0px !important;\r\n",
       "} \r\n",
       "table th {\r\n",
       "    text-align: start;\r\n",
       "}\r\n",
       "</style>"
      ]
     },
     "metadata": {},
     "output_type": "display_data"
    }
   ],
   "source": [
    "List<char> original = [ 'a', 'b', 'c' ];\n",
    "\n",
    "List<char> kopie = new List<char>(original);\n",
    "\n",
    "// List<char> kopie = [.. original];\n",
    "\n",
    "object.ReferenceEquals(original, kopie)"
   ]
  },
  {
   "attachments": {},
   "cell_type": "markdown",
   "metadata": {},
   "source": [
    "##  Asociativní pole Dictionary\n",
    "\n",
    "Obyčejné pole ukládá pouze hodnoty. Asociativní pole ukládá dvojici klíč a hodnota. Díky klíči je potom možné velmi rychle vyhledávat vložené hodnoty. Díky ukládání klíče zabírá tento kontejner více paměti."
   ]
  },
  {
   "cell_type": "markdown",
   "metadata": {},
   "source": [
    "Instanci třídy `Dictionary<TKey,TValue>` definujeme následujícím způsobem. Po vytvoření instance neobsahuje žádné prvky. Jako příklad budeme mít asociativní pole studentí, kdy klíčem bude id studenta typu int a hodnotou reference na instanci třídy `Student`."
   ]
  },
  {
   "cell_type": "code",
   "execution_count": 1,
   "id": "cea22d69",
   "metadata": {
    "dotnet_interactive": {
     "language": "csharp"
    },
    "polyglot_notebook": {
     "kernelName": "csharp"
    }
   },
   "outputs": [],
   "source": [
    "class Student\n",
    "{\n",
    "    public string Jmeno {get; set;}\n",
    "    \n",
    "    public Student(string jmeno)\n",
    "    {\n",
    "        Jmeno = jmeno;\n",
    "    }\n",
    "}"
   ]
  },
  {
   "cell_type": "code",
   "execution_count": 2,
   "id": "0690a5b6",
   "metadata": {
    "dotnet_interactive": {
     "language": "csharp"
    },
    "polyglot_notebook": {
     "kernelName": "csharp"
    }
   },
   "outputs": [],
   "source": [
    "Dictionary<string, Student> studenti = new Dictionary<string, Student>();"
   ]
  },
  {
   "cell_type": "markdown",
   "metadata": {},
   "source": [
    "Prvky inicializujeme například následujícím způsobem kdy klíč je uvedený v hranatých závorkách a je mu přiřazená hodnota operátorem přiřazení: "
   ]
  },
  {
   "cell_type": "code",
   "execution_count": 3,
   "id": "8af92254",
   "metadata": {
    "dotnet_interactive": {
     "language": "csharp"
    },
    "polyglot_notebook": {
     "kernelName": "csharp"
    }
   },
   "outputs": [],
   "source": [
    "Dictionary<string, Student> studenti = new Dictionary<string, Student>()\n",
    "{\n",
    "    [\"A100\"] = new Student(\"Jiri\"),\n",
    "    [\"A200\"] = new Student(\"Jiri\"),\n",
    "    [\"A300\"] = new Student(\"Jiri\")\n",
    "};"
   ]
  },
  {
   "cell_type": "markdown",
   "metadata": {},
   "source": [
    "Nebo starším zápisem, kdy každý záznam je uvedený ve složených závorkách jako pár klíč hodnota oddělený čárkou:"
   ]
  },
  {
   "cell_type": "code",
   "execution_count": 42,
   "id": "c51169c6",
   "metadata": {
    "dotnet_interactive": {
     "language": "csharp"
    },
    "polyglot_notebook": {
     "kernelName": "csharp"
    }
   },
   "outputs": [],
   "source": [
    "Dictionary<string, Student> studenti = new Dictionary<string, Student>()\n",
    "{\n",
    "    { \"A100\", new Student(\"Adam\") },\n",
    "    { \"A200\", new Student(\"Pavel\") },\n",
    "    { \"A300\", new Student(\"Ales\") }\n",
    "};"
   ]
  },
  {
   "cell_type": "markdown",
   "id": "9e920c1a",
   "metadata": {},
   "source": [
    "Studenta můžeme změnit následujícím způsobem:"
   ]
  },
  {
   "cell_type": "code",
   "execution_count": 4,
   "id": "504bc980",
   "metadata": {
    "language_info": {
     "name": "polyglot-notebook"
    },
    "polyglot_notebook": {
     "kernelName": "csharp"
    }
   },
   "outputs": [],
   "source": [
    "studenti[\"A300\"] = new Student(\"Jiri\");"
   ]
  },
  {
   "cell_type": "markdown",
   "metadata": {},
   "source": [
    "K prvkům přistupujeme pomocí indexeru v hranatých závorkách. V případě, že klíč neexistuje, tak metoda vyvolá výjimku a předpokládáme tedy, že klíč, který hledáme by měl v případě správného chování programu existovat."
   ]
  },
  {
   "cell_type": "code",
   "execution_count": 5,
   "id": "a0fcffef",
   "metadata": {
    "dotnet_interactive": {
     "language": "csharp"
    },
    "polyglot_notebook": {
     "kernelName": "csharp"
    }
   },
   "outputs": [
    {
     "name": "stdout",
     "output_type": "stream",
     "text": [
      "Jiri\r\n"
     ]
    }
   ],
   "source": [
    "try\n",
    "{\n",
    "    Student student = studenti[\"A100\"];\n",
    "\n",
    "    Console.WriteLine(student.Jmeno);\n",
    "}\n",
    "catch (KeyNotFoundException)\n",
    "{\n",
    "    Console.WriteLine(\"Klíč neexistuje\");\n",
    "}"
   ]
  },
  {
   "cell_type": "markdown",
   "metadata": {},
   "source": [
    "Nebo můžeme použít metodu `TryGet`, kdy předpokládáme, že klíč nemusí vždy existovat."
   ]
  },
  {
   "cell_type": "code",
   "execution_count": 6,
   "id": "795a1788",
   "metadata": {
    "dotnet_interactive": {
     "language": "csharp"
    },
    "polyglot_notebook": {
     "kernelName": "csharp"
    }
   },
   "outputs": [
    {
     "name": "stdout",
     "output_type": "stream",
     "text": [
      "Jiri\r\n"
     ]
    }
   ],
   "source": [
    "bool exituje = studenti.TryGetValue(\"A200\", out Student student);\n",
    "           \n",
    "if(exituje)\n",
    "{\n",
    "    Console.WriteLine(student.Jmeno);\n",
    "}"
   ]
  },
  {
   "cell_type": "markdown",
   "metadata": {},
   "source": [
    "Prvek do `Dictionary` vložíme pomocí metody `Add`. Parametry jsou klíč a hodnota prvku. Pokud vložíme již jednou existující klíč, tak metoda vyvolá výjímku."
   ]
  },
  {
   "cell_type": "code",
   "execution_count": null,
   "id": "f9edf075",
   "metadata": {
    "dotnet_interactive": {
     "language": "csharp"
    },
    "polyglot_notebook": {
     "kernelName": "csharp"
    }
   },
   "outputs": [],
   "source": [
    "try\n",
    "{\n",
    "    studenti.Add(\"A100\", new Student(\"Katerina\"));\n",
    "}\n",
    "catch (ArgumentException)\n",
    "{\n",
    "    Console.WriteLine(\"Prvek se zadaným klíčem už existuje\");\n",
    "}"
   ]
  },
  {
   "cell_type": "markdown",
   "metadata": {},
   "source": [
    "Před přidáním prvku můžeme otestovat, že klíč existuje pomocí metody `ContainsKey`."
   ]
  },
  {
   "cell_type": "code",
   "execution_count": 7,
   "id": "611f0fea",
   "metadata": {
    "dotnet_interactive": {
     "language": "csharp"
    },
    "polyglot_notebook": {
     "kernelName": "csharp"
    }
   },
   "outputs": [
    {
     "name": "stdout",
     "output_type": "stream",
     "text": [
      "Prvek se zadaným klíčem už existuje\r\n"
     ]
    }
   ],
   "source": [
    "if(!studenti.ContainsKey(\"A100\"))\n",
    "{\n",
    "    studenti.Add(\"A100\", new Student(\"Katerina\"));\n",
    "}\n",
    "else\n",
    "{\n",
    "    Console.WriteLine(\"Prvek se zadaným klíčem už existuje\");\n",
    "}"
   ]
  },
  {
   "cell_type": "markdown",
   "id": "4bb51135",
   "metadata": {},
   "source": [
    "Následujícím způsobem můžeme přidat nového studenta pomocí metody `TryAdd`. Pokud student už existuje, tak se nepřidá a vráti `false`."
   ]
  },
  {
   "cell_type": "code",
   "execution_count": 9,
   "metadata": {
    "language_info": {
     "name": "polyglot-notebook"
    },
    "polyglot_notebook": {
     "kernelName": "csharp"
    }
   },
   "outputs": [
    {
     "data": {
      "text/html": [
       "<div class=\"dni-plaintext\"><pre>False</pre></div><style>\r\n",
       ".dni-code-hint {\r\n",
       "    font-style: italic;\r\n",
       "    overflow: hidden;\r\n",
       "    white-space: nowrap;\r\n",
       "}\r\n",
       ".dni-treeview {\r\n",
       "    white-space: nowrap;\r\n",
       "}\r\n",
       ".dni-treeview td {\r\n",
       "    vertical-align: top;\r\n",
       "    text-align: start;\r\n",
       "}\r\n",
       "details.dni-treeview {\r\n",
       "    padding-left: 1em;\r\n",
       "}\r\n",
       "table td {\r\n",
       "    text-align: start;\r\n",
       "}\r\n",
       "table tr { \r\n",
       "    vertical-align: top; \r\n",
       "    margin: 0em 0px;\r\n",
       "}\r\n",
       "table tr td pre \r\n",
       "{ \r\n",
       "    vertical-align: top !important; \r\n",
       "    margin: 0em 0px !important;\r\n",
       "} \r\n",
       "table th {\r\n",
       "    text-align: start;\r\n",
       "}\r\n",
       "</style>"
      ]
     },
     "metadata": {},
     "output_type": "display_data"
    }
   ],
   "source": [
    "bool pridane = studenti.TryAdd(\"A777\", new Student(\"Alena\"));\n",
    "\n",
    "pridane"
   ]
  },
  {
   "cell_type": "markdown",
   "metadata": {},
   "source": [
    "Prvek odstraníme například pomocí metody `Remove`:"
   ]
  },
  {
   "cell_type": "code",
   "execution_count": 10,
   "id": "dd4883b1",
   "metadata": {
    "dotnet_interactive": {
     "language": "csharp"
    },
    "polyglot_notebook": {
     "kernelName": "csharp"
    }
   },
   "outputs": [
    {
     "name": "stdout",
     "output_type": "stream",
     "text": [
      "True\r\n"
     ]
    }
   ],
   "source": [
    "bool removed = studenti.Remove(\"A100\");\n",
    "\n",
    "Console.WriteLine(removed);"
   ]
  },
  {
   "cell_type": "markdown",
   "id": "9f1b2f41",
   "metadata": {},
   "source": [
    "`Dictionary` můžeme také procházet pomocí cyklu `foreach` a to jak zvlášť klíče a hodnoty:"
   ]
  },
  {
   "cell_type": "code",
   "execution_count": 13,
   "metadata": {
    "language_info": {
     "name": "polyglot-notebook"
    },
    "polyglot_notebook": {
     "kernelName": "csharp"
    }
   },
   "outputs": [
    {
     "name": "stdout",
     "output_type": "stream",
     "text": [
      "A200\n",
      "A300\n",
      "A777\n",
      "Jiri\n",
      "Jiri\n",
      "Alena\n"
     ]
    }
   ],
   "source": [
    "foreach (string key in studenti.Keys)\n",
    "{\n",
    "    Console.WriteLine(key);\n",
    "}\n",
    "\n",
    "foreach (Student student in studenti.Values)\n",
    "{\n",
    "    Console.WriteLine(student.Jmeno);\n",
    "}"
   ]
  },
  {
   "cell_type": "markdown",
   "id": "013c746f",
   "metadata": {},
   "source": [
    "Nebo můžeme procházet pár klíč a hodnota."
   ]
  },
  {
   "cell_type": "code",
   "execution_count": 14,
   "metadata": {
    "language_info": {
     "name": "polyglot-notebook"
    },
    "polyglot_notebook": {
     "kernelName": "csharp"
    }
   },
   "outputs": [
    {
     "name": "stdout",
     "output_type": "stream",
     "text": [
      "A200: Jiri\n",
      "A300: Jiri\n",
      "A777: Alena\n",
      "A200: Jiri\n",
      "A300: Jiri\n",
      "A777: Alena\n"
     ]
    }
   ],
   "source": [
    "foreach (KeyValuePair<string,Student> zaznam in studenti)\n",
    "{\n",
    "    Console.WriteLine($\"{zaznam.Key}: {zaznam.Value.Jmeno}\");\n",
    "}\n",
    "\n",
    "foreach ((string klic, Student student) in studenti)\n",
    "{\n",
    "    Console.WriteLine($\"{klic}: {student.Jmeno}\");\n",
    "}"
   ]
  },
  {
   "cell_type": "markdown",
   "metadata": {},
   "source": [
    "---\n",
    "Více se o různých typech kolekcích v jazyce C# dozvíte například zde:\n",
    "\n",
    "[Collections (C#). Microsoft Docs. 2022](https://docs.microsoft.com/en-us/dotnet/csharp/programming-guide/concepts/collections)\n",
    "    "
   ]
  }
 ],
 "metadata": {
  "kernelInfo": {
   "defaultKernelName": null,
   "items": [
    {
     "aliases": [
      "c#",
      "cs"
     ],
     "languageName": "C#",
     "name": "csharp"
    },
    {
     "aliases": [
      "f#",
      "fs"
     ],
     "languageName": "F#",
     "name": "fsharp"
    },
    {
     "languageName": "HTML",
     "name": "html"
    },
    {
     "languageName": "HTTP",
     "name": "http"
    },
    {
     "aliases": [
      "js"
     ],
     "languageName": "JavaScript",
     "name": "javascript"
    },
    {
     "languageName": "KQL",
     "name": "kql"
    },
    {
     "languageName": "Mermaid",
     "name": "mermaid"
    },
    {
     "aliases": [
      "powershell"
     ],
     "languageName": "PowerShell",
     "name": "pwsh"
    },
    {
     "languageName": "SQL",
     "name": "sql"
    },
    {
     "name": "value"
    }
   ]
  },
  "kernelspec": {
   "display_name": ".NET (C#)",
   "language": "C#",
   "name": ".net-csharp"
  },
  "language_info": {
   "name": "polyglot-notebook"
  },
  "polyglot_notebook": {
   "kernelInfo": {
    "defaultKernelName": "csharp",
    "items": [
     {
      "aliases": [],
      "name": "csharp"
     }
    ]
   }
  }
 },
 "nbformat": 4,
 "nbformat_minor": 5
}
