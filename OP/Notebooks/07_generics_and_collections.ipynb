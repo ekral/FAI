{
 "cells": [
  {
   "attachments": {},
   "cell_type": "markdown",
   "id": "b418cf4c",
   "metadata": {},
   "source": [
    "# 07: Generika a generické kolekce\n",
    "**autor: Erik Král ekral@utb.cz**\n",
    "\n",
    "---\n",
    "\n",
    "\n",
    "Obsah:\n",
    "- Generické třídy a metody\n",
    "- Generic Constraints\n",
    "- Dynamické pole List\n",
    "- Asociativní pole Dictionary\n"
   ]
  },
  {
   "attachments": {},
   "cell_type": "markdown",
   "id": "68ab0747",
   "metadata": {},
   "source": [
    "## Generické třídy a metody\n",
    "\n",
    "Generika (C#, Java) nebo šablony v C++, umožňují odložit přesnou definici použitého datového typu v rámci datového typu, například třídy nebo rozhraní. V jazyce C se pro podobné účely používá příkaz textového preprocecoru #define.\n",
    "\n",
    "Generika poskytují vetší znovu použitelnost kódu, zlepšuje typovou bezpečnost a celkový výkon (není nutný [boxing](https://docs.microsoft.com/en-us/dotnet/csharp/programming-guide/types/boxing-and-unboxing) u hodnotových typů). Nejčastější aplikace je v rámci kolekcí. Je doporučováno vždy preferovat generické třídy a metody před jejími negenerickými verzemi"
   ]
  },
  {
   "attachments": {},
   "cell_type": "markdown",
   "metadata": {},
   "source": [
    "V následujícím příkladu je ukázka definice generické třídy sklad, který představuje zásobník s pevnou délkou:"
   ]
  },
  {
   "cell_type": "code",
   "execution_count": 1,
   "id": "0b4944c4",
   "metadata": {
    "dotnet_interactive": {
     "language": "csharp"
    },
    "polyglot_notebook": {
     "kernelName": "csharp"
    },
    "vscode": {
     "languageId": "polyglot-notebook"
    }
   },
   "outputs": [],
   "source": [
    "class Sklad<T>\n",
    "{\n",
    "    T[] data;\n",
    "    private int pocet;\n",
    "\n",
    "    public Sklad(int kapacita)\n",
    "    {\n",
    "        data = new T[kapacita];\n",
    "    }\n",
    "\n",
    "    public void Zaloz(T objekt)\n",
    "    {\n",
    "        data[pocet++] = objekt;\n",
    "    }\n",
    "\n",
    "    public T Vyloz()\n",
    "    {\n",
    "        return data[--pocet];\n",
    "    }\n",
    "}"
   ]
  },
  {
   "cell_type": "markdown",
   "metadata": {},
   "source": [
    "A při použití této třídy zvolíme konrétní typ, který se použije místo generického parametru `T`."
   ]
  },
  {
   "cell_type": "code",
   "execution_count": null,
   "id": "984dac39",
   "metadata": {
    "dotnet_interactive": {
     "language": "csharp"
    },
    "polyglot_notebook": {
     "kernelName": "csharp"
    },
    "vscode": {
     "languageId": "polyglot-notebook"
    }
   },
   "outputs": [],
   "source": [
    "Sklad<int> skladInt = new Sklad<int>(10);\n",
    "skladInt.Zaloz(1);\n",
    "int celeCislo = skladInt.Vyloz();\n",
    "\n",
    "Sklad<string> skladString = new Sklad<string>(10);\n",
    "skladString.Zaloz(\"Ahoj\");\n",
    "string retezec = skladString.Vyloz();\n",
    "\n",
    "Console.WriteLine(retezec);"
   ]
  },
  {
   "attachments": {},
   "cell_type": "markdown",
   "metadata": {},
   "source": [
    "## Generic Constraints"
   ]
  },
  {
   "cell_type": "markdown",
   "metadata": {},
   "source": [
    "Pomocí Generic Constraints můžeme omezit jaké typy můžeme použít pro generický parametr a tím také rozšířit operace, které s generickým typem můžeme provádět. V následujícím příkladu jsme omezili generický typ `T` třídy `Sklad<T>` na třídu `Zviratko` a její potomky."
   ]
  },
  {
   "cell_type": "code",
   "execution_count": null,
   "id": "c7c2ecbe",
   "metadata": {
    "dotnet_interactive": {
     "language": "csharp"
    },
    "polyglot_notebook": {
     "kernelName": "csharp"
    },
    "vscode": {
     "languageId": "polyglot-notebook"
    }
   },
   "outputs": [],
   "source": [
    "abstract class Zviratko\n",
    "{\n",
    "    public string Jmeno { get; set; }\n",
    "    public abstract string Zvuk();\n",
    "\n",
    "    protected Zviratko(string jmeno)\n",
    "    {\n",
    "        Jmeno = jmeno;\n",
    "    }\n",
    "}\n",
    "\n",
    "class Pejsek : Zviratko\n",
    "{\n",
    "    public Pejsek(string jmeno) : base(jmeno)\n",
    "    {\n",
    "    }\n",
    "\n",
    "    public override string Zvuk()\n",
    "    {\n",
    "        return \"Haf haf\";\n",
    "    }\n",
    "}"
   ]
  },
  {
   "cell_type": "markdown",
   "metadata": {},
   "source": [
    "Díky tomu můžeme například v metodě `NajdiPodleJmena` použít property `Jmeno` a vyhledat zvířátko podle jména. "
   ]
  },
  {
   "cell_type": "code",
   "execution_count": null,
   "id": "8a0040b6",
   "metadata": {
    "dotnet_interactive": {
     "language": "csharp"
    },
    "polyglot_notebook": {
     "kernelName": "csharp"
    },
    "vscode": {
     "languageId": "polyglot-notebook"
    }
   },
   "outputs": [],
   "source": [
    "class Sklad<T> where T : Zviratko\n",
    "{\n",
    "    T[] data;\n",
    "    private int pocet;\n",
    "\n",
    "    public Sklad(int kapacita)\n",
    "    {\n",
    "        data = new T[kapacita];\n",
    "    }\n",
    "\n",
    "    public void Zaloz(T objekt)\n",
    "    {\n",
    "        data[pocet++] = objekt;\n",
    "    }\n",
    "\n",
    "    public T Vyloz()\n",
    "    {\n",
    "        return data[--pocet];\n",
    "    }\n",
    "\n",
    "    public T NajdiPodleJmena(string jmeno)\n",
    "    {\n",
    "        return data.First(x => x.Jmeno == jmeno);\n",
    "    }\n",
    "}"
   ]
  },
  {
   "cell_type": "code",
   "execution_count": null,
   "id": "11d96447",
   "metadata": {
    "dotnet_interactive": {
     "language": "csharp"
    },
    "polyglot_notebook": {
     "kernelName": "csharp"
    },
    "vscode": {
     "languageId": "polyglot-notebook"
    }
   },
   "outputs": [],
   "source": [
    "Sklad<Zviratko> zviratka = new Sklad<Zviratko>(10);\n",
    "\n",
    "zviratka.Zaloz(new Pejsek(\"Rex\"));\n",
    "zviratka.Zaloz(new Pejsek(\"Fik\"));\n",
    "zviratka.Zaloz(new Pejsek(\"Zeryk\"));\n",
    "\n",
    "Zviratko zviratko = zviratka.NajdiPodleJmena(\"Fik\");\n",
    "\n",
    "Console.WriteLine($\"{zviratko.Jmeno} dela {zviratko.Zvuk()}\")"
   ]
  },
  {
   "cell_type": "markdown",
   "metadata": {},
   "source": [
    "---\n",
    "Více se o možnostech o generice a Generic Constraints můžete dozvědět například zde:\n",
    "\n",
    "[Generic classes and methods. 2022](https://docs.microsoft.com/en-us/dotnet/csharp/fundamentals/types/generics)\n",
    "\n",
    "[Constraints on type parameters (C# Programming Guide). 2022](https://docs.microsoft.com/en-us/dotnet/csharp/programming-guide/generics/constraints-on-type-parameters)"
   ]
  },
  {
   "attachments": {},
   "cell_type": "markdown",
   "metadata": {},
   "source": [
    "## Dynamické pole List\n",
    "\n",
    "Generická třída List<T> představuje implementaci dynamického pole. Kdy pole s pevnou délkou (Array) má pevně danou délku, kterou není možné změnit. Dynamické pole umožňuje přidávat a odebírat prvky do již existujícího pole protože v případě potřeby si dynamické pole alokuje víc paměti."
   ]
  },
  {
   "cell_type": "markdown",
   "metadata": {},
   "source": [
    "Instanci třídy List<int> definujeme následujícím způsobem. Po vytvoření instance neobsahuje žádné prvky."
   ]
  },
  {
   "cell_type": "code",
   "execution_count": null,
   "id": "3832db78",
   "metadata": {
    "dotnet_interactive": {
     "language": "csharp"
    },
    "polyglot_notebook": {
     "kernelName": "csharp"
    },
    "vscode": {
     "languageId": "polyglot-notebook"
    }
   },
   "outputs": [],
   "source": [
    "List<int> cisla = new List<int>(); "
   ]
  },
  {
   "cell_type": "markdown",
   "metadata": {},
   "source": [
    "Prvky inicializujeme stejným způsobem jako pole, tedy seznamem prvků ve složených závorkách oddělených čárkou."
   ]
  },
  {
   "cell_type": "code",
   "execution_count": null,
   "id": "8859cf41",
   "metadata": {
    "dotnet_interactive": {
     "language": "csharp"
    },
    "polyglot_notebook": {
     "kernelName": "csharp"
    },
    "vscode": {
     "languageId": "polyglot-notebook"
    }
   },
   "outputs": [],
   "source": [
    "List<int> cisla = new List<int>() { 1, 2, 3 }; "
   ]
  },
  {
   "cell_type": "markdown",
   "metadata": {},
   "source": [
    "K prvkům přistupujeme pomocí operátoru indexace `[]` nebo pomocí cyklu foreach protože List<int> implementuje rozhraní `IEnumerable`. V následujících příkladech si ukážeme nejprve použití operátoru indexace a potom cyklu `foreach`."
   ]
  },
  {
   "cell_type": "code",
   "execution_count": null,
   "id": "f8007ec4",
   "metadata": {
    "dotnet_interactive": {
     "language": "csharp"
    },
    "polyglot_notebook": {
     "kernelName": "csharp"
    },
    "vscode": {
     "languageId": "polyglot-notebook"
    }
   },
   "outputs": [],
   "source": [
    "// Prvni prvek\n",
    "Console.WriteLine(cisla[0]);\n",
    "\n",
    "// Druhy prvek\n",
    "Console.WriteLine(cisla[1]);\n",
    "\n",
    "// Treti prvek\n",
    "Console.WriteLine(cisla[2]);"
   ]
  },
  {
   "cell_type": "code",
   "execution_count": null,
   "id": "02c0d8db",
   "metadata": {
    "dotnet_interactive": {
     "language": "csharp"
    },
    "polyglot_notebook": {
     "kernelName": "csharp"
    },
    "vscode": {
     "languageId": "polyglot-notebook"
    }
   },
   "outputs": [],
   "source": [
    "foreach (int cislo in cisla)\n",
    "{\n",
    "    Console.WriteLine(cislo);\n",
    "}"
   ]
  },
  {
   "cell_type": "markdown",
   "metadata": {},
   "source": [
    "V následujících příkladech projdeme základní operace s polem:"
   ]
  },
  {
   "cell_type": "code",
   "execution_count": null,
   "id": "47672067",
   "metadata": {
    "dotnet_interactive": {
     "language": "csharp"
    },
    "polyglot_notebook": {
     "kernelName": "csharp"
    },
    "vscode": {
     "languageId": "polyglot-notebook"
    }
   },
   "outputs": [],
   "source": [
    "List<char> znaky = new List<char>() { 'a', 'b', 'c' };\n",
    "\n",
    "znaky.Add('x');         // Vložení na konec\n",
    "znaky.Insert(1, 'x');   // Vložení na libovolnou pozici\n",
    "znaky.Insert(0, 'x');   // Vložení na začátek\n",
    "znaky.RemoveAt(1);      // Odebrání prvku z indexu\n",
    "znaky.Remove('b');      // Odebrání prvků dle hodnoty\n",
    "znaky.Clear();          // Odebrání všech prvků"
   ]
  },
  {
   "cell_type": "markdown",
   "metadata": {},
   "source": [
    "`List<T>` je třída a tedy referenční typ, přiřazením se zkopíruje reference, která odkazuje na stejné data v paměti."
   ]
  },
  {
   "cell_type": "code",
   "execution_count": null,
   "id": "2e608882",
   "metadata": {
    "dotnet_interactive": {
     "language": "csharp"
    },
    "polyglot_notebook": {
     "kernelName": "csharp"
    },
    "vscode": {
     "languageId": "polyglot-notebook"
    }
   },
   "outputs": [],
   "source": [
    "List<char> original = new List<char>() { 'a', 'b', 'c'};\n",
    "\n",
    "List<char> kopie = original;\n",
    "\n",
    "object.ReferenceEquals(original, kopie)"
   ]
  },
  {
   "cell_type": "markdown",
   "metadata": {},
   "source": [
    "Hlubokou kopii instance třídy `List<T>` můžeme například vytvořit předáním původního listu jako argumentu konstruktoru. V příkladu vytváříme hlubokou kopii instance třídy List<int> ale pokud by jako prvky byly referenční typy, tak kopie jednotlivých prvků by opět byly jen reference na stejný objekt."
   ]
  },
  {
   "cell_type": "code",
   "execution_count": null,
   "id": "4e59dbfd",
   "metadata": {
    "dotnet_interactive": {
     "language": "csharp"
    },
    "polyglot_notebook": {
     "kernelName": "csharp"
    },
    "vscode": {
     "languageId": "polyglot-notebook"
    }
   },
   "outputs": [],
   "source": [
    "List<char> original = new List<char>() { 'a', 'b', 'c' };\n",
    "\n",
    "List<char> kopie = new List<char>(original);\n",
    "\n",
    "object.ReferenceEquals(original, kopie)"
   ]
  },
  {
   "attachments": {},
   "cell_type": "markdown",
   "metadata": {},
   "source": [
    "##  Asociativní pole Dictionary\n",
    "\n",
    "Obyčejné pole ukládá pouze hodnoty. Asociativní pole ukládá dvojici klíč a hodnota. Díky klíči je potom možné velmi rychle vyhledávat vložené hodnoty. Díky ukládání klíče zabírá tento kontejner více paměti."
   ]
  },
  {
   "cell_type": "markdown",
   "metadata": {},
   "source": [
    "Instanci třídy `Dictionary<TKey,TValue>` definujeme následujícím způsobem. Po vytvoření instance neobsahuje žádné prvky. Jako příklad budeme mít asociativní pole studentí, kdy klíčem bude id studenta typu int a hodnotou reference na instanci třídy `Student`."
   ]
  },
  {
   "cell_type": "code",
   "execution_count": null,
   "id": "cea22d69",
   "metadata": {
    "dotnet_interactive": {
     "language": "csharp"
    },
    "polyglot_notebook": {
     "kernelName": "csharp"
    },
    "vscode": {
     "languageId": "polyglot-notebook"
    }
   },
   "outputs": [],
   "source": [
    "class Student\n",
    "{\n",
    "    public string Jmeno {get; set;}\n",
    "    \n",
    "    public Student(string jmeno)\n",
    "    {\n",
    "        Jmeno = jmeno;\n",
    "    }\n",
    "}"
   ]
  },
  {
   "cell_type": "code",
   "execution_count": null,
   "id": "0690a5b6",
   "metadata": {
    "dotnet_interactive": {
     "language": "csharp"
    },
    "polyglot_notebook": {
     "kernelName": "csharp"
    },
    "vscode": {
     "languageId": "polyglot-notebook"
    }
   },
   "outputs": [],
   "source": [
    "Dictionary<string, Student> studenti = new Dictionary<string, Student>();"
   ]
  },
  {
   "cell_type": "markdown",
   "metadata": {},
   "source": [
    "Prvky inicializujeme například následujícím způsobem kdy klíč je uvedený v hranatých závorkách a je mu přiřazená hodnota operátorem přiřazení: "
   ]
  },
  {
   "cell_type": "code",
   "execution_count": null,
   "id": "8af92254",
   "metadata": {
    "dotnet_interactive": {
     "language": "csharp"
    },
    "polyglot_notebook": {
     "kernelName": "csharp"
    },
    "vscode": {
     "languageId": "polyglot-notebook"
    }
   },
   "outputs": [],
   "source": [
    "Dictionary<string, Student> studenti = new Dictionary<string, Student>()\n",
    "{\n",
    "    [\"A100\"] = new Student(\"Jiri\"),\n",
    "    [\"A200\"] = new Student(\"Jiri\"),\n",
    "    [\"A300\"] = new Student(\"Jiri\")\n",
    "};"
   ]
  },
  {
   "cell_type": "markdown",
   "metadata": {},
   "source": [
    "Nebo starším zápisem, kdy každý záznam je uvedený ve složených závorkách jako pár klíč hodnota oddělený čárkou:"
   ]
  },
  {
   "cell_type": "code",
   "execution_count": null,
   "id": "c51169c6",
   "metadata": {
    "dotnet_interactive": {
     "language": "csharp"
    },
    "polyglot_notebook": {
     "kernelName": "csharp"
    },
    "vscode": {
     "languageId": "polyglot-notebook"
    }
   },
   "outputs": [],
   "source": [
    "Dictionary<string, Student> studenti = new Dictionary<string, Student>()\n",
    "{\n",
    "    { \"A100\", new Student(\"Jiri\") },\n",
    "    { \"A200\", new Student(\"Jiri\") },\n",
    "    { \"A300\", new Student(\"Jiri\") }\n",
    "};"
   ]
  },
  {
   "cell_type": "markdown",
   "metadata": {},
   "source": [
    "K prvkům přistupujeme pomocí indexeru v hranatých závorkách. V případě, že klíč neexistuje, tak metoda vyvolá výjimku a předpokládáme tedy, že klíč, který hledáme by měl v případě správného chování programu existovat."
   ]
  },
  {
   "cell_type": "code",
   "execution_count": null,
   "id": "a0fcffef",
   "metadata": {
    "dotnet_interactive": {
     "language": "csharp"
    },
    "polyglot_notebook": {
     "kernelName": "csharp"
    },
    "vscode": {
     "languageId": "polyglot-notebook"
    }
   },
   "outputs": [],
   "source": [
    "try\n",
    "{\n",
    "    Student student = studenti[\"A100\"];\n",
    "}\n",
    "catch (KeyNotFoundException)\n",
    "{\n",
    "    Console.WriteLine(\"Klíč neexistuje\");\n",
    "}"
   ]
  },
  {
   "cell_type": "markdown",
   "metadata": {},
   "source": [
    "Nebo můžeme použít metodu `TryGet`, kdy předpokládáme, že klíč nemusí vždy existovat."
   ]
  },
  {
   "cell_type": "code",
   "execution_count": null,
   "id": "795a1788",
   "metadata": {
    "dotnet_interactive": {
     "language": "csharp"
    },
    "polyglot_notebook": {
     "kernelName": "csharp"
    },
    "vscode": {
     "languageId": "polyglot-notebook"
    }
   },
   "outputs": [],
   "source": [
    "bool exituje = studenti.TryGetValue(\"A200\", out Student student);\n",
    "           \n",
    "if(!exituje)\n",
    "{\n",
    "    Console.WriteLine(\"Klíč neexistuje\");\n",
    "}"
   ]
  },
  {
   "cell_type": "markdown",
   "metadata": {},
   "source": [
    "`Dictionary` můžeme také procházet pomocí cyklu `foreach` a to jak zvlášť hodnoty, klíče nebo pár klíč a hodnota."
   ]
  },
  {
   "cell_type": "code",
   "execution_count": null,
   "id": "ddeb3e78",
   "metadata": {
    "dotnet_interactive": {
     "language": "csharp"
    },
    "polyglot_notebook": {
     "kernelName": "csharp"
    },
    "vscode": {
     "languageId": "polyglot-notebook"
    }
   },
   "outputs": [],
   "source": [
    "foreach (Student student in studenti.Values)\n",
    "{\n",
    "    Console.WriteLine(student.Jmeno);\n",
    "}\n",
    "\n",
    "foreach (string key in studenti.Keys)\n",
    "{\n",
    "    Console.WriteLine(key);\n",
    "}\n",
    "        \n",
    "foreach (KeyValuePair<string,Student> zaznam in studenti)\n",
    "{\n",
    "    Console.WriteLine($\"{zaznam.Key}: {zaznam.Value.Jmeno}\");\n",
    "}"
   ]
  },
  {
   "cell_type": "markdown",
   "metadata": {},
   "source": [
    "Prvek na konec listu vložíme pomocí metody `Add`. Parametry jsou klíč a hodnota prvku. Pokud vložíme již jednou existující klíč, tak metoda vyvolá výjímku."
   ]
  },
  {
   "cell_type": "code",
   "execution_count": null,
   "id": "f9edf075",
   "metadata": {
    "dotnet_interactive": {
     "language": "csharp"
    },
    "polyglot_notebook": {
     "kernelName": "csharp"
    },
    "vscode": {
     "languageId": "polyglot-notebook"
    }
   },
   "outputs": [],
   "source": [
    "try\n",
    "{\n",
    "    studenti.Add(\"A100\", new Student(\"Katerina\"));\n",
    "}\n",
    "catch (ArgumentException)\n",
    "{\n",
    "    Console.WriteLine(\"Prvek se zadaným klíčem už existuje\");\n",
    "}"
   ]
  },
  {
   "cell_type": "markdown",
   "metadata": {},
   "source": [
    "Před přidáním prvku můžeme otestovat, že klíč existuje pomocí metody `ContainsKey`."
   ]
  },
  {
   "cell_type": "code",
   "execution_count": null,
   "id": "611f0fea",
   "metadata": {
    "dotnet_interactive": {
     "language": "csharp"
    },
    "polyglot_notebook": {
     "kernelName": "csharp"
    },
    "vscode": {
     "languageId": "polyglot-notebook"
    }
   },
   "outputs": [],
   "source": [
    "if(!studenti.ContainsKey(\"A100\"))\n",
    "{\n",
    "    studenti.Add(\"A100\", new Student(\"Katerina\"));\n",
    "}\n",
    "else\n",
    "{\n",
    "    Console.WriteLine(\"Prvek se zadaným klíčem už existuje\");\n",
    "}"
   ]
  },
  {
   "cell_type": "markdown",
   "metadata": {},
   "source": [
    "Prvek také můžeme vložit pomocí metody `TryAdd`. Metoda vrátí `false`, pokud se vložení nepovede."
   ]
  },
  {
   "cell_type": "code",
   "execution_count": null,
   "id": "f2d675bd",
   "metadata": {
    "dotnet_interactive": {
     "language": "csharp"
    },
    "polyglot_notebook": {
     "kernelName": "csharp"
    },
    "vscode": {
     "languageId": "polyglot-notebook"
    }
   },
   "outputs": [],
   "source": [
    "if (!studenti.TryAdd(\"A100\", new Student(\"Katerina\")))\n",
    "{\n",
    "    Console.WriteLine(\"Prvek se zadaným klíčem už existuje\");\n",
    "}"
   ]
  },
  {
   "cell_type": "markdown",
   "metadata": {},
   "source": [
    "Prvek odstraníme například pomocí metody `Remove`:"
   ]
  },
  {
   "cell_type": "code",
   "execution_count": null,
   "id": "dd4883b1",
   "metadata": {
    "dotnet_interactive": {
     "language": "csharp"
    },
    "polyglot_notebook": {
     "kernelName": "csharp"
    },
    "vscode": {
     "languageId": "polyglot-notebook"
    }
   },
   "outputs": [],
   "source": [
    "bool removed = studenti.Remove(\"A100\");\n",
    "\n",
    "Console.WriteLine(removed);"
   ]
  },
  {
   "cell_type": "markdown",
   "metadata": {},
   "source": [
    "---\n",
    "Více se o různých typech kolekcích v jazyce C# dozvíte například zde:\n",
    "\n",
    "[Collections (C#). Microsoft Docs. 2022](https://docs.microsoft.com/en-us/dotnet/csharp/programming-guide/concepts/collections)\n",
    "    "
   ]
  }
 ],
 "metadata": {
  "kernelInfo": {
   "defaultKernelName": null,
   "items": [
    {
     "aliases": [
      "c#",
      "cs"
     ],
     "languageName": "C#",
     "name": "csharp"
    },
    {
     "aliases": [
      "f#",
      "fs"
     ],
     "languageName": "F#",
     "name": "fsharp"
    },
    {
     "aliases": [
      "powershell"
     ],
     "languageName": "PowerShell",
     "name": "pwsh"
    },
    {
     "aliases": [
      "js"
     ],
     "languageName": "JavaScript",
     "name": "javascript"
    },
    {
     "languageName": "HTML",
     "name": "html"
    },
    {
     "languageName": "SQL",
     "name": "sql"
    },
    {
     "languageName": "KQL",
     "name": "kql"
    },
    {
     "languageName": "Mermaid",
     "name": "mermaid"
    },
    {
     "languageName": "HTTP",
     "name": "http"
    },
    {
     "name": "value"
    }
   ]
  },
  "language_info": {
   "name": "csharp"
  },
  "polyglot_notebook": {
   "kernelInfo": {
    "defaultKernelName": "csharp",
    "items": [
     {
      "aliases": [],
      "name": "csharp"
     }
    ]
   }
  }
 },
 "nbformat": 4,
 "nbformat_minor": 5
}
