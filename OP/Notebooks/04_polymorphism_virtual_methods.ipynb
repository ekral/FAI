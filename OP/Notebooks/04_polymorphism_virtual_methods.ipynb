{
 "cells": [
  {
   "cell_type": "markdown",
   "metadata": {},
   "source": [
    "# 04: Polymorfismus a virtuální metody\n",
    "**autor: Erik Král ekral@utb.cz**\n",
    "\n",
    "---\n",
    "\n",
    "\n",
    "Obsah\n",
    "- Polymorfismus.\n",
    "- Polymorfismus a statická typová kontrola.\n",
    "- Upcasting.\n",
    "- Downcasting."
   ]
  },
  {
   "cell_type": "markdown",
   "metadata": {},
   "source": [
    "## Polymorfismus\n",
    "\n",
    "Polymorfismem (mnohotvarost) rozumíme statický polymorfismus jako přetěžování metod, přetěžování operátorů a dynamický polyformismus, kdy chceme za běhu programu nahrazazovat objekt jiným kompatibilním objektem. Runtime čistě objektového jazyka smalltalk dokonce umožnoval pozastavit běžící program u zákazníka, vyměnit aktuální objekt za jiný, zaktualizovat reference a pokračovat v programu ve stejném stavu v jakém jsme ho přerušili."
   ]
  },
  {
   "cell_type": "markdown",
   "metadata": {},
   "source": [
    "- Více se o runtime jazyka smalltalk můžete dozvědět na stránkách opensource implementace jazyka Smalltalk Pharo (nejde už již o běžně používaný jazyk):\n",
    "\n",
    "[The immersive programming experience. Pharo, 2022]( https://pharo.org/)\n"
   ]
  },
  {
   "cell_type": "markdown",
   "metadata": {},
   "source": [
    "### Polymorfismus a statická typová kontrola\n",
    "\n",
    "Většinou se ale obecně polymorfismem v OOP myslí dynamický polyformismus a ten si nyní probereme na příkladu. Nejprve si definujeme třídy `Pejsek` a `Kocicka`. V příkladech jsou vynechány konstruktory, aby byl kód kratší."
   ]
  },
  {
   "cell_type": "code",
   "execution_count": 2,
   "metadata": {
    "dotnet_interactive": {
     "language": "csharp"
    },
    "polyglot_notebook": {
     "kernelName": "csharp"
    },
    "vscode": {
     "languageId": "polyglot-notebook"
    }
   },
   "outputs": [],
   "source": [
    "class Pejsek\n",
    "{\n",
    "    public string Jmeno { get; set; }\n",
    "\n",
    "    public void Zvuk()\n",
    "    {\n",
    "        Console.WriteLine(\"Haf haf\");\n",
    "    }\n",
    "}\n",
    "\n",
    "class Kocicka\n",
    "{\n",
    "    public string Jmeno { get; set; }\n",
    "\n",
    "    public void Zvuk()\n",
    "    {\n",
    "        Console.WriteLine(\"Mnau\");\n",
    "    }\n",
    "}"
   ]
  },
  {
   "cell_type": "markdown",
   "metadata": {},
   "source": [
    "Nyní bychom chtěli mít třídu Zoo, do které bychom mohli dávat jak pejsky tak kočičky. Následující kód ale není platný, to znamená, že bychom do našeho Zoo mohli dávat jen kočičky, ale ne zvířátka různého typu do jedné zoo."
   ]
  },
  {
   "cell_type": "code",
   "execution_count": 4,
   "metadata": {
    "dotnet_interactive": {
     "language": "csharp"
    },
    "polyglot_notebook": {
     "kernelName": "csharp"
    },
    "vscode": {
     "languageId": "polyglot-notebook"
    }
   },
   "outputs": [
    {
     "ename": "Error",
     "evalue": "(17,12): error CS1503: Argument 1: cannot convert from 'Pejsek' to 'Kocicka'",
     "output_type": "error",
     "traceback": [
      "(17,12): error CS1503: Argument 1: cannot convert from 'Pejsek' to 'Kocicka'"
     ]
    }
   ],
   "source": [
    "class Zoo\n",
    "{\n",
    "    private  List<Kocicka> zviratka = new List<Kocicka>();\n",
    "\n",
    "    public void Pridej(Kocicka kocicka)\n",
    "    {\n",
    "        zviratka.Add(kocicka);\n",
    "    }\n",
    "}\n",
    "\n",
    "Zoo zoo = new Zoo();\n",
    "\n",
    "Pejsek rex = new Pejsek() { Jmeno = \"Rex\" };\n",
    "Kocicka micka = new Kocicka() { Jmeno = \"Micka\" };\n",
    "\n",
    "zoo.Pridej(micka);\n",
    "// zoo.Pridej(rex); // nejde prelozit"
   ]
  },
  {
   "cell_type": "markdown",
   "metadata": {},
   "source": [
    "Je to proto, že v **jazyce C#**, ale i například jazyce C++ nebo Java **není možné změnit objekt typu `Pejsek` na objekt typu `Kocicka`**. Je to proto, že jazyk C# používá statickou typovou kontrolu (Static typing), tedy kompilátor kontroluje typy v době překladu a vyžaduje abychom explicitně v kódu vyjádřili, že jsou vzájemně nahraditelné. Tedy že mají například stejné metody, property nebo fieldy. Naproti tomu v jazyce JavaScript by to bylo možné, protože v JavaScriptu nemají proměnné pevně přiřazený typ a typová kontrola je dynamická (Dynamic typing). To znamená, že teprve až za běhu programu se v jazyce JavaScript ověří, že jak kočička, tak pejsek mají metodu `Zvuk`, někdy se tomuto postupu říká **duck typing** - tedy pokud to kváká a chodí jako kachna, tak je to kachna."
   ]
  },
  {
   "cell_type": "markdown",
   "metadata": {},
   "source": [
    "- Více se pojmech statically a dynamicaly typed můžete dočíst například zde:\n",
    "\n",
    "[What is the difference between a strongly typed language and a statically typed language? StackOverlow, 2022](https://stackoverflow.com/a/2696369)"
   ]
  },
  {
   "cell_type": "markdown",
   "metadata": {},
   "source": [
    "V jazyce C#, protože má statickou typovou kontrolu, vyjádříme že jsou objekty kompatibilní buď pomocí rodičovské třídy nebo pomocí rozhraní. V následujícím kódu si nadefinujeme rodičovskou třídu `Zviratko` od ktere bude dedit jak `Pejsek`, tak Kocicka:"
   ]
  },
  {
   "cell_type": "code",
   "execution_count": 5,
   "metadata": {
    "dotnet_interactive": {
     "language": "csharp"
    },
    "polyglot_notebook": {
     "kernelName": "csharp"
    },
    "vscode": {
     "languageId": "polyglot-notebook"
    }
   },
   "outputs": [],
   "source": [
    "class Zviratko\n",
    "{\n",
    "    public string Jmeno { get; set; }\n",
    "\n",
    "    public void Zvuk()\n",
    "    {\n",
    "        Console.WriteLine(\"Jsem abstraktni zviratko a nedelam zadny konkretni zvuk\");\n",
    "    }\n",
    "}\n",
    "\n",
    "class Pejsek : Zviratko\n",
    "{\n",
    "    // Pozdeji vyresime lepe\n",
    "    public void Zvuk()\n",
    "    {\n",
    "        Console.WriteLine(\"Haf haf\");\n",
    "    }\n",
    "}\n",
    "\n",
    "class Kocicka : Zviratko\n",
    "{\n",
    "    // Pozdeji vyresime lepe\n",
    "    public void Zvuk()\n",
    "    {\n",
    "        Console.WriteLine(\"Mnau\");\n",
    "    }\n",
    "}"
   ]
  },
  {
   "cell_type": "markdown",
   "metadata": {},
   "source": [
    "### Upcasting\n",
    "\n",
    "Nyní můžeme prostřednictví reference typu `Zviratko` nahradit pejska kočičkou a naopak. Této operaci, kdy převádíme potomka na rodiče říkáme **upcasting**."
   ]
  },
  {
   "cell_type": "code",
   "execution_count": 6,
   "metadata": {
    "dotnet_interactive": {
     "language": "csharp"
    },
    "polyglot_notebook": {
     "kernelName": "csharp"
    },
    "vscode": {
     "languageId": "polyglot-notebook"
    }
   },
   "outputs": [],
   "source": [
    "Zviratko z = new Pejsek() { Jmeno = \"Rex\" };\n",
    "z = new Kocicka() { Jmeno = \"Micka\" };"
   ]
  },
  {
   "cell_type": "markdown",
   "metadata": {},
   "source": [
    "A v zoo můžeme mít seznam zvířátek, do kterého můžeme dávat pejsky, kočičky a v budoucnu i všechna nová zvířátka, pokud budou potomkem třídy `Zviratko`:"
   ]
  },
  {
   "cell_type": "code",
   "execution_count": 7,
   "metadata": {
    "dotnet_interactive": {
     "language": "csharp"
    },
    "polyglot_notebook": {
     "kernelName": "csharp"
    },
    "vscode": {
     "languageId": "polyglot-notebook"
    }
   },
   "outputs": [],
   "source": [
    "List<Zviratko> zviratka = new List<Zviratko>();\n",
    "\n",
    "zviratka.Add(new Pejsek() { Jmeno = \"Rex\" });\n",
    "zviratka.Add(new Kocicka() { Jmeno = \"Micka\" });"
   ]
  },
  {
   "cell_type": "markdown",
   "metadata": {},
   "source": [
    "### Polymorfismus, early a late binding v OOP\n",
    "\n",
    "V minulém příkladu jsme si vytvořili seznam zvířátek do kterého jsme přidali pejska a kočičku. Pokud ale prostřednictvím reference typu `Zviratko` zavoláme metodu Zvuk, tak se nám zavolá metoda třídy Zviratko a na terminál se vypíše dvakrát text \"Jsem abstraktni zviratko a nedelam zadny konkretni zvuk\". Je to opět proto, že v jazyk C# používá **static typing** a o tom, která metoda se zavolá se rozhodne *v době překladu dle typu reference*. V kontextu OOP mluvíme o **early bindingu**. \n"
   ]
  },
  {
   "cell_type": "code",
   "execution_count": 8,
   "metadata": {
    "dotnet_interactive": {
     "language": "csharp"
    },
    "polyglot_notebook": {
     "kernelName": "csharp"
    },
    "vscode": {
     "languageId": "polyglot-notebook"
    }
   },
   "outputs": [
    {
     "name": "stdout",
     "output_type": "stream",
     "text": [
      "Jsem abstraktni zviratko a nedelam zadny konkretni zvuk\n",
      "Jsem abstraktni zviratko a nedelam zadny konkretni zvuk\n"
     ]
    }
   ],
   "source": [
    "foreach (Zviratko zviratko in zviratka)\n",
    "{\n",
    "    zviratko.Zvuk();\n",
    "}"
   ]
  },
  {
   "cell_type": "markdown",
   "metadata": {},
   "source": [
    "V jazyce JavaScript, protože používá dynamic typing, se o tom, která metoda se zavolá rozhoduje až za běhu programu. Proto by se zavolali správně metody pejska a kočičky. Což je to co chceme. V kontextu OOP tomu říkáme **late binding**. Pokud je late bindig očekáváné chování, proč se v jazyce C# a nebo jazyce C++ nepoužívá jako výchozí? Nepoužívá se jako výchozí z důvodu výkonu, protože rozhodování o tom, která metoda se má zavolat až za běhu programu je pomalejší, než když se o tom rozhodne je jednou hned při překladu programu.\n",
    "\n",
    "V jazyce C# a dalších z důvodu výkonu explicitně říkáme aby používali pomalejší late bindig jen ty metody u kterých to potřebujeme. V našem příkladu označíme metodu `Zvuk` v třídě `Zviratko` jako `virtual` a třídách `Pejsek` a `Kocicka` ji označíme klíčovým slovem `override`. Říkáme, že překrýváme virtuální metodu. Tímto zápisem potomu určíme, že se má pro metodu `Zvuk` použít late binding, tedy o tom, která metoda se zavolá se rozhodne až **za běhu programu dle typu objektu**."
   ]
  },
  {
   "cell_type": "markdown",
   "metadata": {},
   "source": [
    "V následujícím kompletním příkladu máme překrytou vrituální metodu `Zvuk` a zvířátka v seznamu zvířátek už správně vypisují konkrétní zvuky, které dělají:"
   ]
  },
  {
   "cell_type": "code",
   "execution_count": 10,
   "metadata": {
    "dotnet_interactive": {
     "language": "csharp"
    },
    "polyglot_notebook": {
     "kernelName": "csharp"
    },
    "vscode": {
     "languageId": "polyglot-notebook"
    }
   },
   "outputs": [
    {
     "name": "stdout",
     "output_type": "stream",
     "text": [
      "Haf haf\n",
      "Mnau\n"
     ]
    }
   ],
   "source": [
    "class Zviratko\n",
    "{\n",
    "    public string Jmeno { get; set; }\n",
    "\n",
    "    virtual public void Zvuk()\n",
    "    {\n",
    "        Console.WriteLine(\"Jsem abstraktni zviratko a nedelam zadny konkretni zvuk\");\n",
    "    }\n",
    "}\n",
    "\n",
    "class Pejsek : Zviratko\n",
    "{\n",
    "    override public void Zvuk()\n",
    "    {\n",
    "        Console.WriteLine(\"Haf haf\");\n",
    "    }\n",
    "}\n",
    "\n",
    "class Kocicka : Zviratko\n",
    "{\n",
    "    override public void Zvuk()\n",
    "    {\n",
    "        Console.WriteLine(\"Mnau\");\n",
    "    }\n",
    "}\n",
    "\n",
    "List<Zviratko> zviratka = new List<Zviratko>();\n",
    "zviratka.Add(new Pejsek() { Jmeno = \"Rex\" });\n",
    "zviratka.Add(new Kocicka() { Jmeno = \"Micka\" });\n",
    "\n",
    "foreach (Zviratko zviratko in zviratka)\n",
    "{\n",
    "    zviratko.Zvuk();\n",
    "}"
   ]
  },
  {
   "cell_type": "markdown",
   "metadata": {},
   "source": [
    "- O pojmech early a late binding se můžete dočíst v této knize na straně 66 a straně 103:\n",
    "\n",
    "[Booch, G., 2007. Object-oriented analysis and design with applications](https://www.amazon.com/Object-Oriented-Analysis-Design-Applications-3rd/dp/020189551X/ref=sr_1_1?crid=3J6T6XIHYPCP8&keywords=Object-Oriented+Analysis+and+Design+with+Application&qid=1646832764&s=books&sprefix=object-oriented+analysis+and+design+with+application%2Cstripbooks-intl-ship%2C128&sr=1-1)"
   ]
  },
  {
   "cell_type": "markdown",
   "metadata": {},
   "source": [
    "### Downcasting\n",
    "\n",
    "Operaci, kdy přetypujeme potomka na rodiče říkáme upcasting. Vyjímečně ale můžeme i v kódu provést downcasting, kdy ale musíme být opatrní, protože ne každé zvířátko může být například kočička. Využíváme především operátor `is`:"
   ]
  },
  {
   "cell_type": "code",
   "execution_count": 11,
   "metadata": {
    "dotnet_interactive": {
     "language": "csharp"
    },
    "polyglot_notebook": {
     "kernelName": "csharp"
    },
    "vscode": {
     "languageId": "polyglot-notebook"
    }
   },
   "outputs": [
    {
     "name": "stdout",
     "output_type": "stream",
     "text": [
      "Micka\r\n"
     ]
    }
   ],
   "source": [
    "foreach (Zviratko zviratko in zviratka)\n",
    "{\n",
    "    if(zviratko is Kocicka kocicka)\n",
    "    {\n",
    "        Console.WriteLine(kocicka.Jmeno);       \n",
    "    }\n",
    "}"
   ]
  },
  {
   "cell_type": "markdown",
   "metadata": {},
   "source": [
    "---\n",
    "Důležité je si uvědomit, že výše zmíněné postupy se týkají především statically typed jazyků se zaměřením na výkon. Ve Smalltalku, který je dynamically typed, nebylo potřeba definovat virtuální funkce, protože všechny funkce byly jako výchozí late bind a nebylo nutné definovat rozhraní nebo rodičovskou třídu kvůli kompatibilitě objektů. Dá se říct, že OOP bylo ve smalltalku mnohem jednodušší a většina syntaxe kterou se teď učíme pochází z implementace OOP ve statically typed jazyce C++. "
   ]
  }
 ],
 "metadata": {
  "kernelspec": {
   "display_name": ".NET (C#)",
   "language": "C#",
   "name": ".net-csharp"
  },
  "language_info": {
   "name": "csharp"
  },
  "polyglot_notebook": {
   "kernelInfo": {
    "defaultKernelName": "csharp",
    "items": [
     {
      "aliases": [],
      "name": "csharp"
     }
    ]
   }
  }
 },
 "nbformat": 4,
 "nbformat_minor": 2
}
